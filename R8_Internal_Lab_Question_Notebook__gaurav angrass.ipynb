{
  "nbformat": 4,
  "nbformat_minor": 0,
  "metadata": {
    "colab": {
      "name": "R8 Internal Lab Question Notebook (2).ipynb",
      "provenance": [],
      "collapsed_sections": [
        "x_Lom6cXzqn7",
        "fze-aokU0ukH"
      ]
    },
    "kernelspec": {
      "name": "python3",
      "display_name": "Python 3"
    },
    "accelerator": "GPU"
  },
  "cells": [
    {
      "cell_type": "markdown",
      "metadata": {
        "id": "PHYs6Z84xV8E"
      },
      "source": [
        "<img src=\"http://drive.google.com/uc?export=view&id=1tpOCamr9aWz817atPnyXus8w5gJ3mIts\" width=500px>\n",
        "\n",
        "Proprietary content. © Great Learning. All Rights Reserved. Unauthorized use or distribution prohibited."
      ]
    },
    {
      "cell_type": "markdown",
      "metadata": {
        "id": "5QQxgAmWzSye"
      },
      "source": [
        "# Mobile Phone Review Analysis"
      ]
    },
    {
      "cell_type": "markdown",
      "metadata": {
        "id": "FbwHYUXhxaqD"
      },
      "source": [
        "## Context\n",
        "\n",
        "The product companies can utilize the detailed review comments to gather insights from the end user. Most of the products are sold via e-commerce sites like Flipkart or Amazon where customers can buy a product and give their review about the product on the web site. \n",
        "Product managers can identify the relevant reviews from the website and run a sentiment analysis tool to understand what the sentiments of the customer are. Based on their sentiments, they can identify what users think of the current product. Are they happy? Discontent? \n",
        "They can also come up with a document that lists the features, the team needs to focus on for making the product better. \n",
        "\n",
        "## Objective\n",
        "\n",
        "Given the review data rating label, we will try to get insights about various brands and their ratings using text analytics and build a model to predict the rating and overall sentiment. \n"
      ]
    },
    {
      "cell_type": "markdown",
      "metadata": {
        "id": "CI7usguRzeox"
      },
      "source": [
        "### Package version\n",
        "\n",
        "- tensorflow==2.3.0\n",
        "- scikit-learn==0.22.2.post1\n",
        "- pandas==1.0.5\n",
        "- numpy==1.18.5\n",
        "- matplotlib==3.2.2\n",
        "- google==2.0.3"
      ]
    },
    {
      "cell_type": "markdown",
      "metadata": {
        "id": "aiMdVjHRH7NR"
      },
      "source": [
        "### Data Dictionary \n",
        "\n",
        "product_data.csv - contains product details\n",
        "- 'asin',  - Product ASIN\n",
        "- 'brand', - Product Brand\n",
        "- 'title', - Product Title\n",
        "- 'url',  - Product URL\n",
        "- 'image', - Product Image URL\n",
        "- 'rating',- Product Avg. Rating\n",
        "- 'reviewUrl' - Product Review Page URL\n",
        "- 'totalReviews' - Product Total Reviews\n",
        "- ‘price’ - Product Price ($)\n",
        "- ‘originalPrice’ - Product Original Price ($)\n",
        " \n",
        "reviews.csv  - contains user review details\n",
        " \n",
        "- 'asin' - Product ASIN\n",
        "- 'name' - Reviewer Name\n",
        "- 'rating' - Reviewer Rating (scale 1 to 5)\n",
        "- 'date'  - Review Date\n",
        "- 'verified' - Valid Customer\n",
        "- 'title'  - Review Title\n",
        "- 'body'  - Review Content\n",
        "- 'helpfulVotes  - Helpful Feedbacks\n"
      ]
    },
    {
      "cell_type": "markdown",
      "metadata": {
        "id": "cEn52o8jznJK"
      },
      "source": [
        "## Table of Content\n",
        "\n",
        "1. Import Libraries\n",
        "\n",
        "2. Setting options\n",
        "\n",
        "3. Read Data\n",
        "\n",
        "4. Data Analysis and EDA\n",
        "\n",
        "5. Text preprocessing and Vectorization\n",
        "\n",
        "6. Model building\n",
        "\n",
        "7. Conclusion and Interpretation"
      ]
    },
    {
      "cell_type": "markdown",
      "metadata": {
        "id": "x_Lom6cXzqn7"
      },
      "source": [
        "## 1. Import Libraries"
      ]
    },
    {
      "cell_type": "markdown",
      "metadata": {
        "id": "FZtVstH8zre2"
      },
      "source": [
        "Let us start by mounting the drive"
      ]
    },
    {
      "cell_type": "code",
      "metadata": {
        "id": "xv9jxv3-R5Xl",
        "colab": {
          "base_uri": "https://localhost:8080/"
        },
        "outputId": "39d2d660-9d20-4911-d74d-27fe5a02b7db"
      },
      "source": [
        "from google.colab import drive\n",
        "drive.mount('/content/drive')"
      ],
      "execution_count": 1,
      "outputs": [
        {
          "output_type": "stream",
          "text": [
            "Mounted at /content/drive\n"
          ],
          "name": "stdout"
        }
      ]
    },
    {
      "cell_type": "markdown",
      "metadata": {
        "id": "Gv-tZoFjz2WD"
      },
      "source": [
        "Let us check for the version of installed tensorflow."
      ]
    },
    {
      "cell_type": "code",
      "metadata": {
        "id": "eiuUVBuDzzn9",
        "colab": {
          "base_uri": "https://localhost:8080/"
        },
        "outputId": "9a216ebf-e581-42a6-9440-2b922d4eacf5"
      },
      "source": [
        "# used to supress display of warnings\n",
        "import warnings\n",
        "\n",
        "# os is used to provide a way of using operating system dependent functionality\n",
        "# We use it for setting working folder\n",
        "import os\n",
        "\n",
        "# Pandas is used for data manipulation and analysis\n",
        "import pandas as pd \n",
        "\n",
        "# Numpy is used for large, multi-dimensional arrays and matrices, along with mathematical operators on these arrays\n",
        "import numpy as np\n",
        "\n",
        "# Matplotlib is a data visualization library for 2D plots of arrays, built on NumPy arrays \n",
        "# and designed to work with the broader SciPy stack\n",
        "import matplotlib.pyplot as plt\n",
        "%matplotlib inline\n",
        "from matplotlib import pyplot\n",
        "\n",
        "# Seaborn is based on matplotlib, which aids in drawing attractive and informative statistical graphics.\n",
        "import seaborn as sns\n",
        "import tensorflow \n",
        "print(tensorflow.__version__)"
      ],
      "execution_count": 2,
      "outputs": [
        {
          "output_type": "stream",
          "text": [
            "2.5.0\n"
          ],
          "name": "stdout"
        }
      ]
    },
    {
      "cell_type": "markdown",
      "metadata": {
        "id": "fze-aokU0ukH"
      },
      "source": [
        "## 2. Setting Options"
      ]
    },
    {
      "cell_type": "code",
      "metadata": {
        "id": "T3FALggG0xXa"
      },
      "source": [
        "# suppress display of warnings\n",
        "warnings.filterwarnings('ignore')\n",
        "\n",
        "# display all dataframe columns\n",
        "pd.options.display.max_columns = None\n",
        "\n",
        "# to set the limit to 3 decimals\n",
        "pd.options.display.float_format = '{:.7f}'.format\n",
        "\n",
        "# display all dataframe rows\n",
        "pd.options.display.max_rows = None"
      ],
      "execution_count": 3,
      "outputs": []
    },
    {
      "cell_type": "markdown",
      "metadata": {
        "id": "ZT1P1WdK1vfZ"
      },
      "source": [
        "## 3. Read Data"
      ]
    },
    {
      "cell_type": "markdown",
      "metadata": {
        "id": "-UOW6zwww7L1"
      },
      "source": [
        "### 3.1 Read the provided CSVs and check 5 random samples and shape to understand the datasets"
      ]
    },
    {
      "cell_type": "code",
      "metadata": {
        "id": "nxT2g284xF1W"
      },
      "source": [
        "pdt_df = pd.read_csv(\"/content/drive/My Drive/Colab Notebooks/NLP/product_data.csv\" )"
      ],
      "execution_count": 4,
      "outputs": []
    },
    {
      "cell_type": "code",
      "metadata": {
        "id": "GRjG44fRxGIq"
      },
      "source": [
        "rv_df = pd.read_csv(\"/content/drive/My Drive/Colab Notebooks/NLP/reviews.csv\" )"
      ],
      "execution_count": 5,
      "outputs": []
    },
    {
      "cell_type": "code",
      "metadata": {
        "colab": {
          "base_uri": "https://localhost:8080/"
        },
        "id": "k0c6esWUm8D_",
        "outputId": "5b5c2a93-38ce-4152-d2f7-8ddf474a8d8b"
      },
      "source": [
        "pdt_df.shape"
      ],
      "execution_count": 6,
      "outputs": [
        {
          "output_type": "execute_result",
          "data": {
            "text/plain": [
              "(720, 10)"
            ]
          },
          "metadata": {
            "tags": []
          },
          "execution_count": 6
        }
      ]
    },
    {
      "cell_type": "code",
      "metadata": {
        "colab": {
          "base_uri": "https://localhost:8080/"
        },
        "id": "jmCpFmh-nANX",
        "outputId": "ac4e71f4-a2f3-4ecb-f54a-f6040bd93b9b"
      },
      "source": [
        "rv_df.shape"
      ],
      "execution_count": 7,
      "outputs": [
        {
          "output_type": "execute_result",
          "data": {
            "text/plain": [
              "(67986, 8)"
            ]
          },
          "metadata": {
            "tags": []
          },
          "execution_count": 7
        }
      ]
    },
    {
      "cell_type": "code",
      "metadata": {
        "colab": {
          "base_uri": "https://localhost:8080/",
          "height": 141
        },
        "id": "EvU3-bgTnES8",
        "outputId": "1d26ec5b-c01c-423b-e01d-e918377fe98c"
      },
      "source": [
        "pdt_df.sample(2)"
      ],
      "execution_count": 8,
      "outputs": [
        {
          "output_type": "execute_result",
          "data": {
            "text/html": [
              "<div>\n",
              "<style scoped>\n",
              "    .dataframe tbody tr th:only-of-type {\n",
              "        vertical-align: middle;\n",
              "    }\n",
              "\n",
              "    .dataframe tbody tr th {\n",
              "        vertical-align: top;\n",
              "    }\n",
              "\n",
              "    .dataframe thead th {\n",
              "        text-align: right;\n",
              "    }\n",
              "</style>\n",
              "<table border=\"1\" class=\"dataframe\">\n",
              "  <thead>\n",
              "    <tr style=\"text-align: right;\">\n",
              "      <th></th>\n",
              "      <th>asin</th>\n",
              "      <th>brand</th>\n",
              "      <th>title</th>\n",
              "      <th>url</th>\n",
              "      <th>image</th>\n",
              "      <th>rating</th>\n",
              "      <th>reviewUrl</th>\n",
              "      <th>totalReviews</th>\n",
              "      <th>price</th>\n",
              "      <th>originalPrice</th>\n",
              "    </tr>\n",
              "  </thead>\n",
              "  <tbody>\n",
              "    <tr>\n",
              "      <th>241</th>\n",
              "      <td>B071H9KKKF</td>\n",
              "      <td>Samsung</td>\n",
              "      <td>Samsung Galaxy S8 Plus (S8+) (SM-G955FD) 4GB R...</td>\n",
              "      <td>https://www.amazon.com/Samsung-SM-G955FD-6-2-I...</td>\n",
              "      <td>https://m.media-amazon.com/images/I/61MF7kZkrI...</td>\n",
              "      <td>4.0000000</td>\n",
              "      <td>https://www.amazon.com/product-reviews/B071H9KKKF</td>\n",
              "      <td>480</td>\n",
              "      <td>450.1100000</td>\n",
              "      <td>0.0000000</td>\n",
              "    </tr>\n",
              "    <tr>\n",
              "      <th>106</th>\n",
              "      <td>B014GCG150</td>\n",
              "      <td>Samsung</td>\n",
              "      <td>Samsung Galaxy J5 SM-J500H/DS GSM Factory Unlo...</td>\n",
              "      <td>https://www.amazon.com/Samsung-SM-J500H-Unlock...</td>\n",
              "      <td>https://m.media-amazon.com/images/I/61alJun3Jv...</td>\n",
              "      <td>4.1000000</td>\n",
              "      <td>https://www.amazon.com/product-reviews/B014GCG150</td>\n",
              "      <td>645</td>\n",
              "      <td>148.9800000</td>\n",
              "      <td>0.0000000</td>\n",
              "    </tr>\n",
              "  </tbody>\n",
              "</table>\n",
              "</div>"
            ],
            "text/plain": [
              "           asin    brand                                              title  \\\n",
              "241  B071H9KKKF  Samsung  Samsung Galaxy S8 Plus (S8+) (SM-G955FD) 4GB R...   \n",
              "106  B014GCG150  Samsung  Samsung Galaxy J5 SM-J500H/DS GSM Factory Unlo...   \n",
              "\n",
              "                                                   url  \\\n",
              "241  https://www.amazon.com/Samsung-SM-G955FD-6-2-I...   \n",
              "106  https://www.amazon.com/Samsung-SM-J500H-Unlock...   \n",
              "\n",
              "                                                 image    rating  \\\n",
              "241  https://m.media-amazon.com/images/I/61MF7kZkrI... 4.0000000   \n",
              "106  https://m.media-amazon.com/images/I/61alJun3Jv... 4.1000000   \n",
              "\n",
              "                                             reviewUrl  totalReviews  \\\n",
              "241  https://www.amazon.com/product-reviews/B071H9KKKF           480   \n",
              "106  https://www.amazon.com/product-reviews/B014GCG150           645   \n",
              "\n",
              "          price  originalPrice  \n",
              "241 450.1100000      0.0000000  \n",
              "106 148.9800000      0.0000000  "
            ]
          },
          "metadata": {
            "tags": []
          },
          "execution_count": 8
        }
      ]
    },
    {
      "cell_type": "code",
      "metadata": {
        "colab": {
          "base_uri": "https://localhost:8080/",
          "height": 108
        },
        "id": "GHxGzMfknxoB",
        "outputId": "280bc6e5-b33b-4346-8ac8-6854e690d4ad"
      },
      "source": [
        "rv_df.head(2)"
      ],
      "execution_count": 9,
      "outputs": [
        {
          "output_type": "execute_result",
          "data": {
            "text/html": [
              "<div>\n",
              "<style scoped>\n",
              "    .dataframe tbody tr th:only-of-type {\n",
              "        vertical-align: middle;\n",
              "    }\n",
              "\n",
              "    .dataframe tbody tr th {\n",
              "        vertical-align: top;\n",
              "    }\n",
              "\n",
              "    .dataframe thead th {\n",
              "        text-align: right;\n",
              "    }\n",
              "</style>\n",
              "<table border=\"1\" class=\"dataframe\">\n",
              "  <thead>\n",
              "    <tr style=\"text-align: right;\">\n",
              "      <th></th>\n",
              "      <th>asin</th>\n",
              "      <th>name</th>\n",
              "      <th>rating</th>\n",
              "      <th>date</th>\n",
              "      <th>verified</th>\n",
              "      <th>title</th>\n",
              "      <th>body</th>\n",
              "      <th>helpfulVotes</th>\n",
              "    </tr>\n",
              "  </thead>\n",
              "  <tbody>\n",
              "    <tr>\n",
              "      <th>0</th>\n",
              "      <td>B0000SX2UC</td>\n",
              "      <td>Janet</td>\n",
              "      <td>3</td>\n",
              "      <td>October 11, 2005</td>\n",
              "      <td>False</td>\n",
              "      <td>Def not best, but not worst</td>\n",
              "      <td>I had the Samsung A600 for awhile which is abs...</td>\n",
              "      <td>1.0000000</td>\n",
              "    </tr>\n",
              "    <tr>\n",
              "      <th>1</th>\n",
              "      <td>B0000SX2UC</td>\n",
              "      <td>Luke Wyatt</td>\n",
              "      <td>1</td>\n",
              "      <td>January 7, 2004</td>\n",
              "      <td>False</td>\n",
              "      <td>Text Messaging Doesn't Work</td>\n",
              "      <td>Due to a software issue between Nokia and Spri...</td>\n",
              "      <td>17.0000000</td>\n",
              "    </tr>\n",
              "  </tbody>\n",
              "</table>\n",
              "</div>"
            ],
            "text/plain": [
              "         asin        name  rating              date  verified  \\\n",
              "0  B0000SX2UC       Janet       3  October 11, 2005     False   \n",
              "1  B0000SX2UC  Luke Wyatt       1   January 7, 2004     False   \n",
              "\n",
              "                         title  \\\n",
              "0  Def not best, but not worst   \n",
              "1  Text Messaging Doesn't Work   \n",
              "\n",
              "                                                body  helpfulVotes  \n",
              "0  I had the Samsung A600 for awhile which is abs...     1.0000000  \n",
              "1  Due to a software issue between Nokia and Spri...    17.0000000  "
            ]
          },
          "metadata": {
            "tags": []
          },
          "execution_count": 9
        }
      ]
    },
    {
      "cell_type": "markdown",
      "metadata": {
        "id": "rED6DbDBKTjM"
      },
      "source": [
        "## 4.  Data Analysis and EDA"
      ]
    },
    {
      "cell_type": "markdown",
      "metadata": {
        "id": "awlqmp40xMfc"
      },
      "source": [
        "### 4.1 Drop unnecessary columns like 'url', 'image' from the product_data"
      ]
    },
    {
      "cell_type": "code",
      "metadata": {
        "id": "VT4d-6TCxZCm",
        "colab": {
          "base_uri": "https://localhost:8080/"
        },
        "outputId": "48204d6d-1d78-4869-f0f5-b28364d15314"
      },
      "source": [
        "pdt_df = pdt_df.drop(['url' , 'image' , 'reviewUrl' ] , axis = 1)\n",
        "pdt_df.shape"
      ],
      "execution_count": 10,
      "outputs": [
        {
          "output_type": "execute_result",
          "data": {
            "text/plain": [
              "(720, 7)"
            ]
          },
          "metadata": {
            "tags": []
          },
          "execution_count": 10
        }
      ]
    },
    {
      "cell_type": "markdown",
      "metadata": {
        "id": "Zk0WW5D5xZK9"
      },
      "source": [
        "### 4.2 Check statistical summary of both datasets. Note:- Include both numerical and object type columns."
      ]
    },
    {
      "cell_type": "code",
      "metadata": {
        "id": "ylwcqQpcx_Tl",
        "colab": {
          "base_uri": "https://localhost:8080/",
          "height": 290
        },
        "outputId": "218760db-81cd-48d3-ebf8-d84d1da3cd94"
      },
      "source": [
        "pdt_df.describe()"
      ],
      "execution_count": 11,
      "outputs": [
        {
          "output_type": "execute_result",
          "data": {
            "text/html": [
              "<div>\n",
              "<style scoped>\n",
              "    .dataframe tbody tr th:only-of-type {\n",
              "        vertical-align: middle;\n",
              "    }\n",
              "\n",
              "    .dataframe tbody tr th {\n",
              "        vertical-align: top;\n",
              "    }\n",
              "\n",
              "    .dataframe thead th {\n",
              "        text-align: right;\n",
              "    }\n",
              "</style>\n",
              "<table border=\"1\" class=\"dataframe\">\n",
              "  <thead>\n",
              "    <tr style=\"text-align: right;\">\n",
              "      <th></th>\n",
              "      <th>rating</th>\n",
              "      <th>totalReviews</th>\n",
              "      <th>price</th>\n",
              "      <th>originalPrice</th>\n",
              "    </tr>\n",
              "  </thead>\n",
              "  <tbody>\n",
              "    <tr>\n",
              "      <th>count</th>\n",
              "      <td>720.0000000</td>\n",
              "      <td>720.0000000</td>\n",
              "      <td>720.0000000</td>\n",
              "      <td>720.0000000</td>\n",
              "    </tr>\n",
              "    <tr>\n",
              "      <th>mean</th>\n",
              "      <td>3.7137500</td>\n",
              "      <td>105.6791667</td>\n",
              "      <td>234.9489306</td>\n",
              "      <td>63.6907778</td>\n",
              "    </tr>\n",
              "    <tr>\n",
              "      <th>std</th>\n",
              "      <td>0.7160138</td>\n",
              "      <td>167.6011014</td>\n",
              "      <td>200.0084407</td>\n",
              "      <td>172.4053696</td>\n",
              "    </tr>\n",
              "    <tr>\n",
              "      <th>min</th>\n",
              "      <td>1.0000000</td>\n",
              "      <td>1.0000000</td>\n",
              "      <td>0.0000000</td>\n",
              "      <td>0.0000000</td>\n",
              "    </tr>\n",
              "    <tr>\n",
              "      <th>25%</th>\n",
              "      <td>3.3000000</td>\n",
              "      <td>7.0000000</td>\n",
              "      <td>97.5125000</td>\n",
              "      <td>0.0000000</td>\n",
              "    </tr>\n",
              "    <tr>\n",
              "      <th>50%</th>\n",
              "      <td>3.8000000</td>\n",
              "      <td>32.0000000</td>\n",
              "      <td>188.9750000</td>\n",
              "      <td>0.0000000</td>\n",
              "    </tr>\n",
              "    <tr>\n",
              "      <th>75%</th>\n",
              "      <td>4.1000000</td>\n",
              "      <td>122.2500000</td>\n",
              "      <td>336.7250000</td>\n",
              "      <td>0.0000000</td>\n",
              "    </tr>\n",
              "    <tr>\n",
              "      <th>max</th>\n",
              "      <td>5.0000000</td>\n",
              "      <td>983.0000000</td>\n",
              "      <td>999.9900000</td>\n",
              "      <td>999.9900000</td>\n",
              "    </tr>\n",
              "  </tbody>\n",
              "</table>\n",
              "</div>"
            ],
            "text/plain": [
              "           rating  totalReviews       price  originalPrice\n",
              "count 720.0000000   720.0000000 720.0000000    720.0000000\n",
              "mean    3.7137500   105.6791667 234.9489306     63.6907778\n",
              "std     0.7160138   167.6011014 200.0084407    172.4053696\n",
              "min     1.0000000     1.0000000   0.0000000      0.0000000\n",
              "25%     3.3000000     7.0000000  97.5125000      0.0000000\n",
              "50%     3.8000000    32.0000000 188.9750000      0.0000000\n",
              "75%     4.1000000   122.2500000 336.7250000      0.0000000\n",
              "max     5.0000000   983.0000000 999.9900000    999.9900000"
            ]
          },
          "metadata": {
            "tags": []
          },
          "execution_count": 11
        }
      ]
    },
    {
      "cell_type": "code",
      "metadata": {
        "id": "WFaDkvIjyDtG",
        "colab": {
          "base_uri": "https://localhost:8080/",
          "height": 170
        },
        "outputId": "737c16a8-2a92-4f6a-ccff-564832487c53"
      },
      "source": [
        "pdt_df.describe(include = 'O')"
      ],
      "execution_count": 12,
      "outputs": [
        {
          "output_type": "execute_result",
          "data": {
            "text/html": [
              "<div>\n",
              "<style scoped>\n",
              "    .dataframe tbody tr th:only-of-type {\n",
              "        vertical-align: middle;\n",
              "    }\n",
              "\n",
              "    .dataframe tbody tr th {\n",
              "        vertical-align: top;\n",
              "    }\n",
              "\n",
              "    .dataframe thead th {\n",
              "        text-align: right;\n",
              "    }\n",
              "</style>\n",
              "<table border=\"1\" class=\"dataframe\">\n",
              "  <thead>\n",
              "    <tr style=\"text-align: right;\">\n",
              "      <th></th>\n",
              "      <th>asin</th>\n",
              "      <th>brand</th>\n",
              "      <th>title</th>\n",
              "    </tr>\n",
              "  </thead>\n",
              "  <tbody>\n",
              "    <tr>\n",
              "      <th>count</th>\n",
              "      <td>720</td>\n",
              "      <td>716</td>\n",
              "      <td>720</td>\n",
              "    </tr>\n",
              "    <tr>\n",
              "      <th>unique</th>\n",
              "      <td>720</td>\n",
              "      <td>10</td>\n",
              "      <td>718</td>\n",
              "    </tr>\n",
              "    <tr>\n",
              "      <th>top</th>\n",
              "      <td>B01FJT7MZC</td>\n",
              "      <td>Samsung</td>\n",
              "      <td>Google Pixel 2 XL 128GB Unlocked GSM/CDMA 4G L...</td>\n",
              "    </tr>\n",
              "    <tr>\n",
              "      <th>freq</th>\n",
              "      <td>1</td>\n",
              "      <td>346</td>\n",
              "      <td>2</td>\n",
              "    </tr>\n",
              "  </tbody>\n",
              "</table>\n",
              "</div>"
            ],
            "text/plain": [
              "              asin    brand                                              title\n",
              "count          720      716                                                720\n",
              "unique         720       10                                                718\n",
              "top     B01FJT7MZC  Samsung  Google Pixel 2 XL 128GB Unlocked GSM/CDMA 4G L...\n",
              "freq             1      346                                                  2"
            ]
          },
          "metadata": {
            "tags": []
          },
          "execution_count": 12
        }
      ]
    },
    {
      "cell_type": "code",
      "metadata": {
        "colab": {
          "base_uri": "https://localhost:8080/",
          "height": 290
        },
        "id": "K0JjYyAwrdDm",
        "outputId": "1a4d0817-64a0-49a2-b051-71750cac596b"
      },
      "source": [
        "rv_df.describe()"
      ],
      "execution_count": 13,
      "outputs": [
        {
          "output_type": "execute_result",
          "data": {
            "text/html": [
              "<div>\n",
              "<style scoped>\n",
              "    .dataframe tbody tr th:only-of-type {\n",
              "        vertical-align: middle;\n",
              "    }\n",
              "\n",
              "    .dataframe tbody tr th {\n",
              "        vertical-align: top;\n",
              "    }\n",
              "\n",
              "    .dataframe thead th {\n",
              "        text-align: right;\n",
              "    }\n",
              "</style>\n",
              "<table border=\"1\" class=\"dataframe\">\n",
              "  <thead>\n",
              "    <tr style=\"text-align: right;\">\n",
              "      <th></th>\n",
              "      <th>rating</th>\n",
              "      <th>helpfulVotes</th>\n",
              "    </tr>\n",
              "  </thead>\n",
              "  <tbody>\n",
              "    <tr>\n",
              "      <th>count</th>\n",
              "      <td>67986.0000000</td>\n",
              "      <td>27215.0000000</td>\n",
              "    </tr>\n",
              "    <tr>\n",
              "      <th>mean</th>\n",
              "      <td>3.8079163</td>\n",
              "      <td>8.2296895</td>\n",
              "    </tr>\n",
              "    <tr>\n",
              "      <th>std</th>\n",
              "      <td>1.5829058</td>\n",
              "      <td>31.9548772</td>\n",
              "    </tr>\n",
              "    <tr>\n",
              "      <th>min</th>\n",
              "      <td>1.0000000</td>\n",
              "      <td>1.0000000</td>\n",
              "    </tr>\n",
              "    <tr>\n",
              "      <th>25%</th>\n",
              "      <td>3.0000000</td>\n",
              "      <td>1.0000000</td>\n",
              "    </tr>\n",
              "    <tr>\n",
              "      <th>50%</th>\n",
              "      <td>5.0000000</td>\n",
              "      <td>2.0000000</td>\n",
              "    </tr>\n",
              "    <tr>\n",
              "      <th>75%</th>\n",
              "      <td>5.0000000</td>\n",
              "      <td>5.0000000</td>\n",
              "    </tr>\n",
              "    <tr>\n",
              "      <th>max</th>\n",
              "      <td>5.0000000</td>\n",
              "      <td>990.0000000</td>\n",
              "    </tr>\n",
              "  </tbody>\n",
              "</table>\n",
              "</div>"
            ],
            "text/plain": [
              "             rating  helpfulVotes\n",
              "count 67986.0000000 27215.0000000\n",
              "mean      3.8079163     8.2296895\n",
              "std       1.5829058    31.9548772\n",
              "min       1.0000000     1.0000000\n",
              "25%       3.0000000     1.0000000\n",
              "50%       5.0000000     2.0000000\n",
              "75%       5.0000000     5.0000000\n",
              "max       5.0000000   990.0000000"
            ]
          },
          "metadata": {
            "tags": []
          },
          "execution_count": 13
        }
      ]
    },
    {
      "cell_type": "code",
      "metadata": {
        "colab": {
          "base_uri": "https://localhost:8080/",
          "height": 173
        },
        "id": "CszJwGbTrihe",
        "outputId": "93ea3dea-243a-4e37-f963-a7c9ace0c8ca"
      },
      "source": [
        "rv_df.describe(include = 'object')"
      ],
      "execution_count": 14,
      "outputs": [
        {
          "output_type": "execute_result",
          "data": {
            "text/html": [
              "<div>\n",
              "<style scoped>\n",
              "    .dataframe tbody tr th:only-of-type {\n",
              "        vertical-align: middle;\n",
              "    }\n",
              "\n",
              "    .dataframe tbody tr th {\n",
              "        vertical-align: top;\n",
              "    }\n",
              "\n",
              "    .dataframe thead th {\n",
              "        text-align: right;\n",
              "    }\n",
              "</style>\n",
              "<table border=\"1\" class=\"dataframe\">\n",
              "  <thead>\n",
              "    <tr style=\"text-align: right;\">\n",
              "      <th></th>\n",
              "      <th>asin</th>\n",
              "      <th>name</th>\n",
              "      <th>date</th>\n",
              "      <th>title</th>\n",
              "      <th>body</th>\n",
              "    </tr>\n",
              "  </thead>\n",
              "  <tbody>\n",
              "    <tr>\n",
              "      <th>count</th>\n",
              "      <td>67986</td>\n",
              "      <td>67984</td>\n",
              "      <td>67986</td>\n",
              "      <td>67972</td>\n",
              "      <td>67965</td>\n",
              "    </tr>\n",
              "    <tr>\n",
              "      <th>unique</th>\n",
              "      <td>720</td>\n",
              "      <td>47323</td>\n",
              "      <td>2983</td>\n",
              "      <td>41489</td>\n",
              "      <td>59811</td>\n",
              "    </tr>\n",
              "    <tr>\n",
              "      <th>top</th>\n",
              "      <td>B00F2SKPIM</td>\n",
              "      <td>Amazon Customer</td>\n",
              "      <td>December 11, 2019</td>\n",
              "      <td>Five Stars</td>\n",
              "      <td>Good</td>\n",
              "    </tr>\n",
              "    <tr>\n",
              "      <th>freq</th>\n",
              "      <td>981</td>\n",
              "      <td>6507</td>\n",
              "      <td>234</td>\n",
              "      <td>6043</td>\n",
              "      <td>303</td>\n",
              "    </tr>\n",
              "  </tbody>\n",
              "</table>\n",
              "</div>"
            ],
            "text/plain": [
              "              asin             name               date       title   body\n",
              "count        67986            67984              67986       67972  67965\n",
              "unique         720            47323               2983       41489  59811\n",
              "top     B00F2SKPIM  Amazon Customer  December 11, 2019  Five Stars   Good\n",
              "freq           981             6507                234        6043    303"
            ]
          },
          "metadata": {
            "tags": []
          },
          "execution_count": 14
        }
      ]
    },
    {
      "cell_type": "code",
      "metadata": {
        "colab": {
          "base_uri": "https://localhost:8080/",
          "height": 80
        },
        "id": "VkZMXzG1r2Zq",
        "outputId": "db107eec-1db9-48db-b94f-13623d71a227"
      },
      "source": [
        "rv_df[rv_df['helpfulVotes'] == 990]"
      ],
      "execution_count": 15,
      "outputs": [
        {
          "output_type": "execute_result",
          "data": {
            "text/html": [
              "<div>\n",
              "<style scoped>\n",
              "    .dataframe tbody tr th:only-of-type {\n",
              "        vertical-align: middle;\n",
              "    }\n",
              "\n",
              "    .dataframe tbody tr th {\n",
              "        vertical-align: top;\n",
              "    }\n",
              "\n",
              "    .dataframe thead th {\n",
              "        text-align: right;\n",
              "    }\n",
              "</style>\n",
              "<table border=\"1\" class=\"dataframe\">\n",
              "  <thead>\n",
              "    <tr style=\"text-align: right;\">\n",
              "      <th></th>\n",
              "      <th>asin</th>\n",
              "      <th>name</th>\n",
              "      <th>rating</th>\n",
              "      <th>date</th>\n",
              "      <th>verified</th>\n",
              "      <th>title</th>\n",
              "      <th>body</th>\n",
              "      <th>helpfulVotes</th>\n",
              "    </tr>\n",
              "  </thead>\n",
              "  <tbody>\n",
              "    <tr>\n",
              "      <th>24467</th>\n",
              "      <td>B01GXAT0CE</td>\n",
              "      <td>Jake</td>\n",
              "      <td>1</td>\n",
              "      <td>May 1, 2017</td>\n",
              "      <td>True</td>\n",
              "      <td>It seems like it has been stolen</td>\n",
              "      <td>The product came in a beaten up box, came lock...</td>\n",
              "      <td>990.0000000</td>\n",
              "    </tr>\n",
              "  </tbody>\n",
              "</table>\n",
              "</div>"
            ],
            "text/plain": [
              "             asin  name  rating         date  verified  \\\n",
              "24467  B01GXAT0CE  Jake       1  May 1, 2017      True   \n",
              "\n",
              "                                  title  \\\n",
              "24467  It seems like it has been stolen   \n",
              "\n",
              "                                                    body  helpfulVotes  \n",
              "24467  The product came in a beaten up box, came lock...   990.0000000  "
            ]
          },
          "metadata": {
            "tags": []
          },
          "execution_count": 15
        }
      ]
    },
    {
      "cell_type": "markdown",
      "metadata": {
        "id": "cSdGfadUyEdU"
      },
      "source": [
        "### 4.3 From the above statistical summary, write inferences like count of unique products, top brand, top title, range of rating, price range, etc"
      ]
    },
    {
      "cell_type": "markdown",
      "metadata": {
        "id": "ijyuXeSPIAJB"
      },
      "source": [
        "We have details of 720 items/products. The top brand is Samsung.\n",
        "There are no duplicate asin id\n",
        "To title is Apple iphone 6s\n",
        "Rating ranges from 1 to 5. Mean rating is 3.71\n",
        "Price ranges from 0 to 999.99 with 235 as mean price value"
      ]
    },
    {
      "cell_type": "code",
      "metadata": {
        "id": "Ddkn_hJmyKNb"
      },
      "source": [
        "\n"
      ],
      "execution_count": 16,
      "outputs": []
    },
    {
      "cell_type": "markdown",
      "metadata": {
        "id": "XMv_hXyxJKZK"
      },
      "source": [
        "### 4.4 Analyze the distribution of ratings and other categorical features like brand, etc"
      ]
    },
    {
      "cell_type": "code",
      "metadata": {
        "id": "oEhjSsMcyirD",
        "colab": {
          "base_uri": "https://localhost:8080/",
          "height": 319
        },
        "outputId": "b225475c-5d2e-4fee-da6f-f950f574e0bd"
      },
      "source": [
        "#sns.barplot(data=pdt_df,x=pdt_df.rating,y='brand' )\n",
        "\n",
        "pdt_df['brand'].value_counts().plot(kind = 'bar')"
      ],
      "execution_count": 17,
      "outputs": [
        {
          "output_type": "execute_result",
          "data": {
            "text/plain": [
              "<matplotlib.axes._subplots.AxesSubplot at 0x7fa627e41ad0>"
            ]
          },
          "metadata": {
            "tags": []
          },
          "execution_count": 17
        },
        {
          "output_type": "display_data",
          "data": {
            "image/png": "[encoded data removed]",
            "text/plain": [
              "<Figure size 432x288 with 1 Axes>"
            ]
          },
          "metadata": {
            "tags": [],
            "needs_background": "light"
          }
        }
      ]
    },
    {
      "cell_type": "code",
      "metadata": {
        "colab": {
          "base_uri": "https://localhost:8080/",
          "height": 592
        },
        "id": "zTvei7q2wKaS",
        "outputId": "b98e3240-e35c-4593-8435-f207e011002f"
      },
      "source": [
        "pdt_df['brand'].value_counts().plot(kind = 'pie' , autopct = '%1.0f%%' , figsize = (12,10))"
      ],
      "execution_count": 18,
      "outputs": [
        {
          "output_type": "execute_result",
          "data": {
            "text/plain": [
              "<matplotlib.axes._subplots.AxesSubplot at 0x7fa627d39d90>"
            ]
          },
          "metadata": {
            "tags": []
          },
          "execution_count": 18
        },
        {
          "output_type": "display_data",
          "data": {
            "image/png": "[encoded data removed]",
            "text/plain": [
              "<Figure size 864x720 with 1 Axes>"
            ]
          },
          "metadata": {
            "tags": []
          }
        }
      ]
    },
    {
      "cell_type": "markdown",
      "metadata": {
        "id": "y_KvfCMPrlJ7"
      },
      "source": [
        "**Samsung has the Highest percentage of record count**"
      ]
    },
    {
      "cell_type": "code",
      "metadata": {
        "colab": {
          "base_uri": "https://localhost:8080/",
          "height": 386
        },
        "id": "bXuyeIc7u6Ua",
        "outputId": "e08a9588-ec90-419d-973e-044b518c4169"
      },
      "source": [
        "sns.displot(data= pdt_df,x='rating' , kind = 'kde')"
      ],
      "execution_count": 19,
      "outputs": [
        {
          "output_type": "execute_result",
          "data": {
            "text/plain": [
              "<seaborn.axisgrid.FacetGrid at 0x7fa627e1b410>"
            ]
          },
          "metadata": {
            "tags": []
          },
          "execution_count": 19
        },
        {
          "output_type": "display_data",
          "data": {
            "image/png": "[encoded data removed]",
            "text/plain": [
              "<Figure size 360x360 with 1 Axes>"
            ]
          },
          "metadata": {
            "tags": [],
            "needs_background": "light"
          }
        }
      ]
    },
    {
      "cell_type": "markdown",
      "metadata": {
        "id": "2MzRLwzAvL-v"
      },
      "source": [
        "**most of ratings belong to second peak and are on the higher side **"
      ]
    },
    {
      "cell_type": "markdown",
      "metadata": {
        "id": "jwZBGODgyi1a"
      },
      "source": [
        "### 4.5 Display average rating per brand"
      ]
    },
    {
      "cell_type": "code",
      "metadata": {
        "id": "OSBBiAv8yscd",
        "colab": {
          "base_uri": "https://localhost:8080/",
          "height": 333
        },
        "outputId": "64d2b2df-af77-4c22-b171-306a690403e1"
      },
      "source": [
        "pdt_df.groupby(by = 'brand')['rating'].mean().sort_values().plot(kind = 'bar')"
      ],
      "execution_count": 20,
      "outputs": [
        {
          "output_type": "execute_result",
          "data": {
            "text/plain": [
              "<matplotlib.axes._subplots.AxesSubplot at 0x7fa61cf8ab50>"
            ]
          },
          "metadata": {
            "tags": []
          },
          "execution_count": 20
        },
        {
          "output_type": "display_data",
          "data": {
            "image/png": "[encoded data removed]",
            "text/plain": [
              "<Figure size 432x288 with 1 Axes>"
            ]
          },
          "metadata": {
            "tags": [],
            "needs_background": "light"
          }
        }
      ]
    },
    {
      "cell_type": "markdown",
      "metadata": {
        "id": "pjMED_ePsEIE"
      },
      "source": [
        "*Xiomi has the highesr average rating for any brand competing out *"
      ]
    },
    {
      "cell_type": "markdown",
      "metadata": {
        "id": "vUXuEwlgyvB0"
      },
      "source": [
        "### 4.6 Display average price per brand"
      ]
    },
    {
      "cell_type": "code",
      "metadata": {
        "id": "ACgIwVlyy3Pu",
        "colab": {
          "base_uri": "https://localhost:8080/",
          "height": 333
        },
        "outputId": "07aa9421-1b28-4513-82bb-e436aa8a3f19"
      },
      "source": [
        "pdt_df.groupby(by = 'brand')['price'].mean().sort_values().plot(kind = 'bar')"
      ],
      "execution_count": 21,
      "outputs": [
        {
          "output_type": "execute_result",
          "data": {
            "text/plain": [
              "<matplotlib.axes._subplots.AxesSubplot at 0x7fa61cf13950>"
            ]
          },
          "metadata": {
            "tags": []
          },
          "execution_count": 21
        },
        {
          "output_type": "display_data",
          "data": {
            "image/png": "[encoded data removed]",
            "text/plain": [
              "<Figure size 432x288 with 1 Axes>"
            ]
          },
          "metadata": {
            "tags": [],
            "needs_background": "light"
          }
        }
      ]
    },
    {
      "cell_type": "markdown",
      "metadata": {
        "id": "oi8QC0eEyErV"
      },
      "source": [
        "average price of one plus is the highest while nokia is the lowest "
      ]
    },
    {
      "cell_type": "markdown",
      "metadata": {
        "id": "U0JfwL74y3a-"
      },
      "source": [
        "### 4.7 Display average 'totalReviews' per brand"
      ]
    },
    {
      "cell_type": "code",
      "metadata": {
        "id": "wfzciNxqzBYu",
        "colab": {
          "base_uri": "https://localhost:8080/",
          "height": 333
        },
        "outputId": "089da799-b428-4156-cf53-d1f395c17739"
      },
      "source": [
        "pdt_df.groupby(by = 'brand')['totalReviews'].mean().sort_values().plot(kind = 'bar')"
      ],
      "execution_count": 22,
      "outputs": [
        {
          "output_type": "execute_result",
          "data": {
            "text/plain": [
              "<matplotlib.axes._subplots.AxesSubplot at 0x7fa6277ca890>"
            ]
          },
          "metadata": {
            "tags": []
          },
          "execution_count": 22
        },
        {
          "output_type": "display_data",
          "data": {
            "image/png": "[encoded data removed]",
            "text/plain": [
              "<Figure size 432x288 with 1 Axes>"
            ]
          },
          "metadata": {
            "tags": [],
            "needs_background": "light"
          }
        }
      ]
    },
    {
      "cell_type": "markdown",
      "metadata": {
        "id": "eVH2DgDnx5qX"
      },
      "source": [
        "with least average price among brands , nokia has highes number of reviews .."
      ]
    },
    {
      "cell_type": "markdown",
      "metadata": {
        "id": "x_fxI7OAeDUM"
      },
      "source": [
        "### 4.8 Merge two datasets using 'asin' and check the shape of the final dataset"
      ]
    },
    {
      "cell_type": "code",
      "metadata": {
        "id": "svpHfWI9zNAP",
        "colab": {
          "base_uri": "https://localhost:8080/"
        },
        "outputId": "ca5af75c-57ea-4b54-fe8e-101a329c54a8"
      },
      "source": [
        "df = pd.merge(rv_df , pdt_df , how = 'left' , left_on = 'asin' , right_on = 'asin')\n",
        "df.shape"
      ],
      "execution_count": 23,
      "outputs": [
        {
          "output_type": "execute_result",
          "data": {
            "text/plain": [
              "(67986, 14)"
            ]
          },
          "metadata": {
            "tags": []
          },
          "execution_count": 23
        }
      ]
    },
    {
      "cell_type": "code",
      "metadata": {
        "colab": {
          "base_uri": "https://localhost:8080/",
          "height": 145
        },
        "id": "29Oxjuizz5Qt",
        "outputId": "18452109-1640-4482-e7bb-69762c059551"
      },
      "source": [
        "df.head(2)"
      ],
      "execution_count": 24,
      "outputs": [
        {
          "output_type": "execute_result",
          "data": {
            "text/html": [
              "<div>\n",
              "<style scoped>\n",
              "    .dataframe tbody tr th:only-of-type {\n",
              "        vertical-align: middle;\n",
              "    }\n",
              "\n",
              "    .dataframe tbody tr th {\n",
              "        vertical-align: top;\n",
              "    }\n",
              "\n",
              "    .dataframe thead th {\n",
              "        text-align: right;\n",
              "    }\n",
              "</style>\n",
              "<table border=\"1\" class=\"dataframe\">\n",
              "  <thead>\n",
              "    <tr style=\"text-align: right;\">\n",
              "      <th></th>\n",
              "      <th>asin</th>\n",
              "      <th>name</th>\n",
              "      <th>rating_x</th>\n",
              "      <th>date</th>\n",
              "      <th>verified</th>\n",
              "      <th>title_x</th>\n",
              "      <th>body</th>\n",
              "      <th>helpfulVotes</th>\n",
              "      <th>brand</th>\n",
              "      <th>title_y</th>\n",
              "      <th>rating_y</th>\n",
              "      <th>totalReviews</th>\n",
              "      <th>price</th>\n",
              "      <th>originalPrice</th>\n",
              "    </tr>\n",
              "  </thead>\n",
              "  <tbody>\n",
              "    <tr>\n",
              "      <th>0</th>\n",
              "      <td>B0000SX2UC</td>\n",
              "      <td>Janet</td>\n",
              "      <td>3</td>\n",
              "      <td>October 11, 2005</td>\n",
              "      <td>False</td>\n",
              "      <td>Def not best, but not worst</td>\n",
              "      <td>I had the Samsung A600 for awhile which is abs...</td>\n",
              "      <td>1.0000000</td>\n",
              "      <td>NaN</td>\n",
              "      <td>Dual-Band / Tri-Mode Sprint PCS Phone w/ Voice...</td>\n",
              "      <td>3.0000000</td>\n",
              "      <td>14</td>\n",
              "      <td>0.0000000</td>\n",
              "      <td>0.0000000</td>\n",
              "    </tr>\n",
              "    <tr>\n",
              "      <th>1</th>\n",
              "      <td>B0000SX2UC</td>\n",
              "      <td>Luke Wyatt</td>\n",
              "      <td>1</td>\n",
              "      <td>January 7, 2004</td>\n",
              "      <td>False</td>\n",
              "      <td>Text Messaging Doesn't Work</td>\n",
              "      <td>Due to a software issue between Nokia and Spri...</td>\n",
              "      <td>17.0000000</td>\n",
              "      <td>NaN</td>\n",
              "      <td>Dual-Band / Tri-Mode Sprint PCS Phone w/ Voice...</td>\n",
              "      <td>3.0000000</td>\n",
              "      <td>14</td>\n",
              "      <td>0.0000000</td>\n",
              "      <td>0.0000000</td>\n",
              "    </tr>\n",
              "  </tbody>\n",
              "</table>\n",
              "</div>"
            ],
            "text/plain": [
              "         asin        name  rating_x              date  verified  \\\n",
              "0  B0000SX2UC       Janet         3  October 11, 2005     False   \n",
              "1  B0000SX2UC  Luke Wyatt         1   January 7, 2004     False   \n",
              "\n",
              "                       title_x  \\\n",
              "0  Def not best, but not worst   \n",
              "1  Text Messaging Doesn't Work   \n",
              "\n",
              "                                                body  helpfulVotes brand  \\\n",
              "0  I had the Samsung A600 for awhile which is abs...     1.0000000   NaN   \n",
              "1  Due to a software issue between Nokia and Spri...    17.0000000   NaN   \n",
              "\n",
              "                                             title_y  rating_y  totalReviews  \\\n",
              "0  Dual-Band / Tri-Mode Sprint PCS Phone w/ Voice... 3.0000000            14   \n",
              "1  Dual-Band / Tri-Mode Sprint PCS Phone w/ Voice... 3.0000000            14   \n",
              "\n",
              "      price  originalPrice  \n",
              "0 0.0000000      0.0000000  \n",
              "1 0.0000000      0.0000000  "
            ]
          },
          "metadata": {
            "tags": []
          },
          "execution_count": 24
        }
      ]
    },
    {
      "cell_type": "markdown",
      "metadata": {
        "id": "zdTfwlL7fYpq"
      },
      "source": [
        "### 4.9 Rename important features with appropriate names.\n",
        "Imortant features - \"rating_x\": \"user_rating\", \"title_x\": \"review_title\", \"title_y\": \"item_title\", \"rating_y\": \"overall_rating\""
      ]
    },
    {
      "cell_type": "code",
      "metadata": {
        "id": "KI-6FCkZztXM",
        "colab": {
          "base_uri": "https://localhost:8080/",
          "height": 179
        },
        "outputId": "da25353a-b278-4ca6-bb44-5562cebf33c0"
      },
      "source": [
        "df.rename(columns={\"rating_x\": \"user_rating\", \"title_x\": \"review_title\",\"title_y\": \"item_title\",\"rating_y\":\"overall_rating\"},inplace=True)\n",
        "df.head(2)\n"
      ],
      "execution_count": 25,
      "outputs": [
        {
          "output_type": "execute_result",
          "data": {
            "text/html": [
              "<div>\n",
              "<style scoped>\n",
              "    .dataframe tbody tr th:only-of-type {\n",
              "        vertical-align: middle;\n",
              "    }\n",
              "\n",
              "    .dataframe tbody tr th {\n",
              "        vertical-align: top;\n",
              "    }\n",
              "\n",
              "    .dataframe thead th {\n",
              "        text-align: right;\n",
              "    }\n",
              "</style>\n",
              "<table border=\"1\" class=\"dataframe\">\n",
              "  <thead>\n",
              "    <tr style=\"text-align: right;\">\n",
              "      <th></th>\n",
              "      <th>asin</th>\n",
              "      <th>name</th>\n",
              "      <th>user_rating</th>\n",
              "      <th>date</th>\n",
              "      <th>verified</th>\n",
              "      <th>review_title</th>\n",
              "      <th>body</th>\n",
              "      <th>helpfulVotes</th>\n",
              "      <th>brand</th>\n",
              "      <th>item_title</th>\n",
              "      <th>overall_rating</th>\n",
              "      <th>totalReviews</th>\n",
              "      <th>price</th>\n",
              "      <th>originalPrice</th>\n",
              "    </tr>\n",
              "  </thead>\n",
              "  <tbody>\n",
              "    <tr>\n",
              "      <th>0</th>\n",
              "      <td>B0000SX2UC</td>\n",
              "      <td>Janet</td>\n",
              "      <td>3</td>\n",
              "      <td>October 11, 2005</td>\n",
              "      <td>False</td>\n",
              "      <td>Def not best, but not worst</td>\n",
              "      <td>I had the Samsung A600 for awhile which is abs...</td>\n",
              "      <td>1.0000000</td>\n",
              "      <td>NaN</td>\n",
              "      <td>Dual-Band / Tri-Mode Sprint PCS Phone w/ Voice...</td>\n",
              "      <td>3.0000000</td>\n",
              "      <td>14</td>\n",
              "      <td>0.0000000</td>\n",
              "      <td>0.0000000</td>\n",
              "    </tr>\n",
              "    <tr>\n",
              "      <th>1</th>\n",
              "      <td>B0000SX2UC</td>\n",
              "      <td>Luke Wyatt</td>\n",
              "      <td>1</td>\n",
              "      <td>January 7, 2004</td>\n",
              "      <td>False</td>\n",
              "      <td>Text Messaging Doesn't Work</td>\n",
              "      <td>Due to a software issue between Nokia and Spri...</td>\n",
              "      <td>17.0000000</td>\n",
              "      <td>NaN</td>\n",
              "      <td>Dual-Band / Tri-Mode Sprint PCS Phone w/ Voice...</td>\n",
              "      <td>3.0000000</td>\n",
              "      <td>14</td>\n",
              "      <td>0.0000000</td>\n",
              "      <td>0.0000000</td>\n",
              "    </tr>\n",
              "  </tbody>\n",
              "</table>\n",
              "</div>"
            ],
            "text/plain": [
              "         asin        name  user_rating              date  verified  \\\n",
              "0  B0000SX2UC       Janet            3  October 11, 2005     False   \n",
              "1  B0000SX2UC  Luke Wyatt            1   January 7, 2004     False   \n",
              "\n",
              "                  review_title  \\\n",
              "0  Def not best, but not worst   \n",
              "1  Text Messaging Doesn't Work   \n",
              "\n",
              "                                                body  helpfulVotes brand  \\\n",
              "0  I had the Samsung A600 for awhile which is abs...     1.0000000   NaN   \n",
              "1  Due to a software issue between Nokia and Spri...    17.0000000   NaN   \n",
              "\n",
              "                                          item_title  overall_rating  \\\n",
              "0  Dual-Band / Tri-Mode Sprint PCS Phone w/ Voice...       3.0000000   \n",
              "1  Dual-Band / Tri-Mode Sprint PCS Phone w/ Voice...       3.0000000   \n",
              "\n",
              "   totalReviews     price  originalPrice  \n",
              "0            14 0.0000000      0.0000000  \n",
              "1            14 0.0000000      0.0000000  "
            ]
          },
          "metadata": {
            "tags": []
          },
          "execution_count": 25
        }
      ]
    },
    {
      "cell_type": "markdown",
      "metadata": {
        "id": "hNHEElHszthc"
      },
      "source": [
        "### 4.10 Select rows having verified reviews and check the shape of the final dataset"
      ]
    },
    {
      "cell_type": "code",
      "metadata": {
        "colab": {
          "base_uri": "https://localhost:8080/"
        },
        "id": "6VzaK0Gw2lJe",
        "outputId": "cd2636b0-c83a-4810-e905-c6e1b38d1a95"
      },
      "source": [
        "df['verified'].value_counts()"
      ],
      "execution_count": 26,
      "outputs": [
        {
          "output_type": "execute_result",
          "data": {
            "text/plain": [
              "True     61225\n",
              "False     6761\n",
              "Name: verified, dtype: int64"
            ]
          },
          "metadata": {
            "tags": []
          },
          "execution_count": 26
        }
      ]
    },
    {
      "cell_type": "code",
      "metadata": {
        "id": "Jyav9_Zoz-rT"
      },
      "source": [
        "dff = df[df.verified==True]"
      ],
      "execution_count": 27,
      "outputs": []
    },
    {
      "cell_type": "code",
      "metadata": {
        "colab": {
          "base_uri": "https://localhost:8080/"
        },
        "id": "1jjuu3tI2fM2",
        "outputId": "9f258f1e-6efc-4cc8-e275-6e843af2018d"
      },
      "source": [
        "dff.shape"
      ],
      "execution_count": 28,
      "outputs": [
        {
          "output_type": "execute_result",
          "data": {
            "text/plain": [
              "(61225, 14)"
            ]
          },
          "metadata": {
            "tags": []
          },
          "execution_count": 28
        }
      ]
    },
    {
      "cell_type": "markdown",
      "metadata": {
        "id": "EpKusPjdz-2q"
      },
      "source": [
        "### 4.11 Check the number of reviews for various brands and report the brand that have highest number of reviews"
      ]
    },
    {
      "cell_type": "code",
      "metadata": {
        "id": "5tux6vwr0JDb",
        "colab": {
          "base_uri": "https://localhost:8080/",
          "height": 282
        },
        "outputId": "c97c678b-5ef4-4832-b574-d70f921bbfd8"
      },
      "source": [
        "dff.groupby(by = 'brand')['totalReviews'].count().sort_values().plot(kind = 'barh')"
      ],
      "execution_count": 29,
      "outputs": [
        {
          "output_type": "execute_result",
          "data": {
            "text/plain": [
              "<matplotlib.axes._subplots.AxesSubplot at 0x7fa61ce8e1d0>"
            ]
          },
          "metadata": {
            "tags": []
          },
          "execution_count": 29
        },
        {
          "output_type": "display_data",
          "data": {
            "image/png": "[encoded data removed]",
            "text/plain": [
              "<Figure size 432x288 with 1 Axes>"
            ]
          },
          "metadata": {
            "tags": [],
            "needs_background": "light"
          }
        }
      ]
    },
    {
      "cell_type": "code",
      "metadata": {
        "colab": {
          "base_uri": "https://localhost:8080/",
          "height": 282
        },
        "id": "U6gDVCWm4xTP",
        "outputId": "761660a7-7ff8-4283-a0d5-f29ef19bd649"
      },
      "source": [
        "dff['brand'].value_counts().sort_values().plot(kind='barh')\n"
      ],
      "execution_count": 30,
      "outputs": [
        {
          "output_type": "execute_result",
          "data": {
            "text/plain": [
              "<matplotlib.axes._subplots.AxesSubplot at 0x7fa61cd7b710>"
            ]
          },
          "metadata": {
            "tags": []
          },
          "execution_count": 30
        },
        {
          "output_type": "display_data",
          "data": {
            "image/png": "[encoded data removed]",
            "text/plain": [
              "<Figure size 432x288 with 1 Axes>"
            ]
          },
          "metadata": {
            "tags": [],
            "needs_background": "light"
          }
        }
      ]
    },
    {
      "cell_type": "markdown",
      "metadata": {
        "id": "G82_0SfW3H02"
      },
      "source": [
        "samsung has the highest number of reviews"
      ]
    },
    {
      "cell_type": "markdown",
      "metadata": {
        "id": "gPGjMFE-0Q5k"
      },
      "source": [
        "### 4.12 Drop irrelevant columns and keep important features like 'brand','body','price','user_rating','review_title' for further analysis"
      ]
    },
    {
      "cell_type": "code",
      "metadata": {
        "id": "J_IvLN6e0e6z",
        "colab": {
          "base_uri": "https://localhost:8080/",
          "height": 111
        },
        "outputId": "5809ea74-b198-4e23-b7c4-988cc4f33959"
      },
      "source": [
        "df_final = dff[['brand','body','price','user_rating','review_title']]\n",
        "df_final.head(2)\n"
      ],
      "execution_count": 42,
      "outputs": [
        {
          "output_type": "execute_result",
          "data": {
            "text/html": [
              "<div>\n",
              "<style scoped>\n",
              "    .dataframe tbody tr th:only-of-type {\n",
              "        vertical-align: middle;\n",
              "    }\n",
              "\n",
              "    .dataframe tbody tr th {\n",
              "        vertical-align: top;\n",
              "    }\n",
              "\n",
              "    .dataframe thead th {\n",
              "        text-align: right;\n",
              "    }\n",
              "</style>\n",
              "<table border=\"1\" class=\"dataframe\">\n",
              "  <thead>\n",
              "    <tr style=\"text-align: right;\">\n",
              "      <th></th>\n",
              "      <th>brand</th>\n",
              "      <th>body</th>\n",
              "      <th>price</th>\n",
              "      <th>user_rating</th>\n",
              "      <th>review_title</th>\n",
              "    </tr>\n",
              "  </thead>\n",
              "  <tbody>\n",
              "    <tr>\n",
              "      <th>14</th>\n",
              "      <td>Motorola</td>\n",
              "      <td>DON'T BUY OUT OF SERVICE</td>\n",
              "      <td>49.9500000</td>\n",
              "      <td>1</td>\n",
              "      <td>Stupid phone</td>\n",
              "    </tr>\n",
              "    <tr>\n",
              "      <th>17</th>\n",
              "      <td>Motorola</td>\n",
              "      <td>1 star because the phones locked so I have to ...</td>\n",
              "      <td>49.9500000</td>\n",
              "      <td>1</td>\n",
              "      <td>Phones locked</td>\n",
              "    </tr>\n",
              "  </tbody>\n",
              "</table>\n",
              "</div>"
            ],
            "text/plain": [
              "       brand                                               body      price  \\\n",
              "14  Motorola                           DON'T BUY OUT OF SERVICE 49.9500000   \n",
              "17  Motorola  1 star because the phones locked so I have to ... 49.9500000   \n",
              "\n",
              "    user_rating   review_title  \n",
              "14            1   Stupid phone  \n",
              "17            1  Phones locked  "
            ]
          },
          "metadata": {
            "tags": []
          },
          "execution_count": 42
        }
      ]
    },
    {
      "cell_type": "markdown",
      "metadata": {
        "id": "Gzo_rVT60fDf"
      },
      "source": [
        "### 4.13 Perform univariate analysis. Check distribution of price, user_rating"
      ]
    },
    {
      "cell_type": "code",
      "metadata": {
        "id": "F3vzILxZ0t0L",
        "colab": {
          "base_uri": "https://localhost:8080/",
          "height": 386
        },
        "outputId": "a9a6f994-dbde-41d2-9704-8e77b7384e0c"
      },
      "source": [
        "sns.displot(data= df_final,x='price' , kind = 'kde')"
      ],
      "execution_count": 43,
      "outputs": [
        {
          "output_type": "execute_result",
          "data": {
            "text/plain": [
              "<seaborn.axisgrid.FacetGrid at 0x7fa61bc5e350>"
            ]
          },
          "metadata": {
            "tags": []
          },
          "execution_count": 43
        },
        {
          "output_type": "display_data",
          "data": {
            "image/png": "[encoded data removed]",
            "text/plain": [
              "<Figure size 360x360 with 1 Axes>"
            ]
          },
          "metadata": {
            "tags": [],
            "needs_background": "light"
          }
        }
      ]
    },
    {
      "cell_type": "code",
      "metadata": {
        "colab": {
          "base_uri": "https://localhost:8080/",
          "height": 297
        },
        "id": "U5n4zz1Q7Dtt",
        "outputId": "acc4391d-1bd9-40e8-c361-4531e1f6bca4"
      },
      "source": [
        "sns.countplot(data= df_final,x='user_rating' )"
      ],
      "execution_count": 44,
      "outputs": [
        {
          "output_type": "execute_result",
          "data": {
            "text/plain": [
              "<matplotlib.axes._subplots.AxesSubplot at 0x7fa61c27ffd0>"
            ]
          },
          "metadata": {
            "tags": []
          },
          "execution_count": 44
        },
        {
          "output_type": "display_data",
          "data": {
            "image/png": "[encoded data removed]",
            "text/plain": [
              "<Figure size 432x288 with 1 Axes>"
            ]
          },
          "metadata": {
            "tags": [],
            "needs_background": "light"
          }
        }
      ]
    },
    {
      "cell_type": "markdown",
      "metadata": {
        "id": "x0Y_kE9T0uAf"
      },
      "source": [
        "### 4.14 Create a new column called \"sentiment\". It should have value as 1 (positive) if the user_Rating is greater than 3, value as 0 (negative) if the user_Rating <= 3"
      ]
    },
    {
      "cell_type": "code",
      "metadata": {
        "id": "jGon-2xU1Ujb"
      },
      "source": [
        "df_final['sentiment'] = df_final['user_rating'].apply(lambda x : 1 if x > 3 else 0)"
      ],
      "execution_count": 45,
      "outputs": []
    },
    {
      "cell_type": "markdown",
      "metadata": {
        "id": "K4rxSZWp1VAb"
      },
      "source": [
        "### 4.15 Check frequency distribution of the 'sentiment'"
      ]
    },
    {
      "cell_type": "code",
      "metadata": {
        "id": "yt3gH7Iz1dVP",
        "colab": {
          "base_uri": "https://localhost:8080/"
        },
        "outputId": "806546a2-0c57-4b6b-9fab-f6bac1a18df5"
      },
      "source": [
        "df_final['sentiment'].value_counts()"
      ],
      "execution_count": 46,
      "outputs": [
        {
          "output_type": "execute_result",
          "data": {
            "text/plain": [
              "1    42939\n",
              "0    18286\n",
              "Name: sentiment, dtype: int64"
            ]
          },
          "metadata": {
            "tags": []
          },
          "execution_count": 46
        }
      ]
    },
    {
      "cell_type": "code",
      "metadata": {
        "colab": {
          "base_uri": "https://localhost:8080/",
          "height": 279
        },
        "id": "FeZYaRqD-Llo",
        "outputId": "583ae500-00d8-46b1-8cd0-89c3ea020254"
      },
      "source": [
        "df_final['sentiment'].value_counts().plot(kind = 'bar')"
      ],
      "execution_count": 47,
      "outputs": [
        {
          "output_type": "execute_result",
          "data": {
            "text/plain": [
              "<matplotlib.axes._subplots.AxesSubplot at 0x7fa61c103950>"
            ]
          },
          "metadata": {
            "tags": []
          },
          "execution_count": 47
        },
        {
          "output_type": "display_data",
          "data": {
            "image/png": "[encoded data removed]",
            "text/plain": [
              "<Figure size 432x288 with 1 Axes>"
            ]
          },
          "metadata": {
            "tags": [],
            "needs_background": "light"
          }
        }
      ]
    },
    {
      "cell_type": "markdown",
      "metadata": {
        "id": "rK0KMghP1ddb"
      },
      "source": [
        "### 4.16 Perform bivariate analysis. Check correlation/crosstab between features and write your inferences."
      ]
    },
    {
      "cell_type": "code",
      "metadata": {
        "id": "scAV4fRg1nX0",
        "colab": {
          "base_uri": "https://localhost:8080/",
          "height": 296
        },
        "outputId": "475e91a9-cc71-468a-8164-3132ecfa82ce"
      },
      "source": [
        "sns.boxplot(x = df_final['sentiment'] , y = df_final['price'] )"
      ],
      "execution_count": 48,
      "outputs": [
        {
          "output_type": "execute_result",
          "data": {
            "text/plain": [
              "<matplotlib.axes._subplots.AxesSubplot at 0x7fa61c10a5d0>"
            ]
          },
          "metadata": {
            "tags": []
          },
          "execution_count": 48
        },
        {
          "output_type": "display_data",
          "data": {
            "image/png": "[encoded data removed]",
            "text/plain": [
              "<Figure size 432x288 with 1 Axes>"
            ]
          },
          "metadata": {
            "tags": [],
            "needs_background": "light"
          }
        }
      ]
    },
    {
      "cell_type": "code",
      "metadata": {
        "colab": {
          "base_uri": "https://localhost:8080/",
          "height": 390
        },
        "id": "qyvJhn3wEiNP",
        "outputId": "64fae387-db3c-4c0a-c99c-89bb51abc751"
      },
      "source": [
        "pd.crosstab(df_final['brand'], df_final['sentiment'])"
      ],
      "execution_count": 49,
      "outputs": [
        {
          "output_type": "execute_result",
          "data": {
            "text/html": [
              "<div>\n",
              "<style scoped>\n",
              "    .dataframe tbody tr th:only-of-type {\n",
              "        vertical-align: middle;\n",
              "    }\n",
              "\n",
              "    .dataframe tbody tr th {\n",
              "        vertical-align: top;\n",
              "    }\n",
              "\n",
              "    .dataframe thead th {\n",
              "        text-align: right;\n",
              "    }\n",
              "</style>\n",
              "<table border=\"1\" class=\"dataframe\">\n",
              "  <thead>\n",
              "    <tr style=\"text-align: right;\">\n",
              "      <th>sentiment</th>\n",
              "      <th>0</th>\n",
              "      <th>1</th>\n",
              "    </tr>\n",
              "    <tr>\n",
              "      <th>brand</th>\n",
              "      <th></th>\n",
              "      <th></th>\n",
              "    </tr>\n",
              "  </thead>\n",
              "  <tbody>\n",
              "    <tr>\n",
              "      <th>ASUS</th>\n",
              "      <td>69</td>\n",
              "      <td>137</td>\n",
              "    </tr>\n",
              "    <tr>\n",
              "      <th>Apple</th>\n",
              "      <td>1627</td>\n",
              "      <td>3249</td>\n",
              "    </tr>\n",
              "    <tr>\n",
              "      <th>Google</th>\n",
              "      <td>1011</td>\n",
              "      <td>2152</td>\n",
              "    </tr>\n",
              "    <tr>\n",
              "      <th>HUAWEI</th>\n",
              "      <td>366</td>\n",
              "      <td>1653</td>\n",
              "    </tr>\n",
              "    <tr>\n",
              "      <th>Motorola</th>\n",
              "      <td>2220</td>\n",
              "      <td>5494</td>\n",
              "    </tr>\n",
              "    <tr>\n",
              "      <th>Nokia</th>\n",
              "      <td>1904</td>\n",
              "      <td>2974</td>\n",
              "    </tr>\n",
              "    <tr>\n",
              "      <th>OnePlus</th>\n",
              "      <td>45</td>\n",
              "      <td>259</td>\n",
              "    </tr>\n",
              "    <tr>\n",
              "      <th>Samsung</th>\n",
              "      <td>9499</td>\n",
              "      <td>21521</td>\n",
              "    </tr>\n",
              "    <tr>\n",
              "      <th>Sony</th>\n",
              "      <td>879</td>\n",
              "      <td>1812</td>\n",
              "    </tr>\n",
              "    <tr>\n",
              "      <th>Xiaomi</th>\n",
              "      <td>628</td>\n",
              "      <td>3579</td>\n",
              "    </tr>\n",
              "  </tbody>\n",
              "</table>\n",
              "</div>"
            ],
            "text/plain": [
              "sentiment     0      1\n",
              "brand                 \n",
              "ASUS         69    137\n",
              "Apple      1627   3249\n",
              "Google     1011   2152\n",
              "HUAWEI      366   1653\n",
              "Motorola   2220   5494\n",
              "Nokia      1904   2974\n",
              "OnePlus      45    259\n",
              "Samsung    9499  21521\n",
              "Sony        879   1812\n",
              "Xiaomi      628   3579"
            ]
          },
          "metadata": {
            "tags": []
          },
          "execution_count": 49
        }
      ]
    },
    {
      "cell_type": "code",
      "metadata": {
        "colab": {
          "base_uri": "https://localhost:8080/",
          "height": 390
        },
        "id": "U5LucB4ODi5O",
        "outputId": "966f1183-c46c-4962-b498-97078aa34f1c"
      },
      "source": [
        "pd.crosstab(df_final['brand'], df_final['sentiment']).apply(lambda r: r/r.sum(), axis=1)\n"
      ],
      "execution_count": 50,
      "outputs": [
        {
          "output_type": "execute_result",
          "data": {
            "text/html": [
              "<div>\n",
              "<style scoped>\n",
              "    .dataframe tbody tr th:only-of-type {\n",
              "        vertical-align: middle;\n",
              "    }\n",
              "\n",
              "    .dataframe tbody tr th {\n",
              "        vertical-align: top;\n",
              "    }\n",
              "\n",
              "    .dataframe thead th {\n",
              "        text-align: right;\n",
              "    }\n",
              "</style>\n",
              "<table border=\"1\" class=\"dataframe\">\n",
              "  <thead>\n",
              "    <tr style=\"text-align: right;\">\n",
              "      <th>sentiment</th>\n",
              "      <th>0</th>\n",
              "      <th>1</th>\n",
              "    </tr>\n",
              "    <tr>\n",
              "      <th>brand</th>\n",
              "      <th></th>\n",
              "      <th></th>\n",
              "    </tr>\n",
              "  </thead>\n",
              "  <tbody>\n",
              "    <tr>\n",
              "      <th>ASUS</th>\n",
              "      <td>0.3349515</td>\n",
              "      <td>0.6650485</td>\n",
              "    </tr>\n",
              "    <tr>\n",
              "      <th>Apple</th>\n",
              "      <td>0.3336751</td>\n",
              "      <td>0.6663249</td>\n",
              "    </tr>\n",
              "    <tr>\n",
              "      <th>Google</th>\n",
              "      <td>0.3196333</td>\n",
              "      <td>0.6803667</td>\n",
              "    </tr>\n",
              "    <tr>\n",
              "      <th>HUAWEI</th>\n",
              "      <td>0.1812779</td>\n",
              "      <td>0.8187221</td>\n",
              "    </tr>\n",
              "    <tr>\n",
              "      <th>Motorola</th>\n",
              "      <td>0.2877884</td>\n",
              "      <td>0.7122116</td>\n",
              "    </tr>\n",
              "    <tr>\n",
              "      <th>Nokia</th>\n",
              "      <td>0.3903239</td>\n",
              "      <td>0.6096761</td>\n",
              "    </tr>\n",
              "    <tr>\n",
              "      <th>OnePlus</th>\n",
              "      <td>0.1480263</td>\n",
              "      <td>0.8519737</td>\n",
              "    </tr>\n",
              "    <tr>\n",
              "      <th>Samsung</th>\n",
              "      <td>0.3062218</td>\n",
              "      <td>0.6937782</td>\n",
              "    </tr>\n",
              "    <tr>\n",
              "      <th>Sony</th>\n",
              "      <td>0.3266444</td>\n",
              "      <td>0.6733556</td>\n",
              "    </tr>\n",
              "    <tr>\n",
              "      <th>Xiaomi</th>\n",
              "      <td>0.1492750</td>\n",
              "      <td>0.8507250</td>\n",
              "    </tr>\n",
              "  </tbody>\n",
              "</table>\n",
              "</div>"
            ],
            "text/plain": [
              "sentiment         0         1\n",
              "brand                        \n",
              "ASUS      0.3349515 0.6650485\n",
              "Apple     0.3336751 0.6663249\n",
              "Google    0.3196333 0.6803667\n",
              "HUAWEI    0.1812779 0.8187221\n",
              "Motorola  0.2877884 0.7122116\n",
              "Nokia     0.3903239 0.6096761\n",
              "OnePlus   0.1480263 0.8519737\n",
              "Samsung   0.3062218 0.6937782\n",
              "Sony      0.3266444 0.6733556\n",
              "Xiaomi    0.1492750 0.8507250"
            ]
          },
          "metadata": {
            "tags": []
          },
          "execution_count": 50
        }
      ]
    },
    {
      "cell_type": "markdown",
      "metadata": {
        "id": "NBs-c7bSFGAD"
      },
      "source": [
        "for XIOMI very less percentage of review is negative and large percentage towards positive reviews "
      ]
    },
    {
      "cell_type": "markdown",
      "metadata": {
        "id": "2Nzj7ZXVLakx"
      },
      "source": [
        "## 5. Text Preprocessing and Vectorization"
      ]
    },
    {
      "cell_type": "markdown",
      "metadata": {
        "id": "ZbC_RPndnlf3"
      },
      "source": [
        "We will analyze the 'body' and 'review_title' to gain more understanding.\n",
        "\n",
        "We will peform the below tasks\n",
        "\n",
        "- Convert the text into lowercase\n",
        "- Remove punctuation\n",
        "- Remove stopwords (English, from nltk corpus)\n",
        "- Remove other keywords like \"phone\" and brand name"
      ]
    },
    {
      "cell_type": "markdown",
      "metadata": {
        "id": "XnhMQsxz2DJH"
      },
      "source": [
        "### 5.1 Change the datatype of the 'body' column to 'str' and convert it into lowercase. Print any two samples and check the output."
      ]
    },
    {
      "cell_type": "code",
      "metadata": {
        "colab": {
          "base_uri": "https://localhost:8080/",
          "height": 111
        },
        "id": "edaqG1UwHgua",
        "outputId": "872052a6-7b35-4380-8af4-6f2306cbab64"
      },
      "source": [
        "df_final.head(2)"
      ],
      "execution_count": 53,
      "outputs": [
        {
          "output_type": "execute_result",
          "data": {
            "text/html": [
              "<div>\n",
              "<style scoped>\n",
              "    .dataframe tbody tr th:only-of-type {\n",
              "        vertical-align: middle;\n",
              "    }\n",
              "\n",
              "    .dataframe tbody tr th {\n",
              "        vertical-align: top;\n",
              "    }\n",
              "\n",
              "    .dataframe thead th {\n",
              "        text-align: right;\n",
              "    }\n",
              "</style>\n",
              "<table border=\"1\" class=\"dataframe\">\n",
              "  <thead>\n",
              "    <tr style=\"text-align: right;\">\n",
              "      <th></th>\n",
              "      <th>brand</th>\n",
              "      <th>body</th>\n",
              "      <th>price</th>\n",
              "      <th>user_rating</th>\n",
              "      <th>review_title</th>\n",
              "      <th>sentiment</th>\n",
              "    </tr>\n",
              "  </thead>\n",
              "  <tbody>\n",
              "    <tr>\n",
              "      <th>14</th>\n",
              "      <td>Motorola</td>\n",
              "      <td>DON'T BUY OUT OF SERVICE</td>\n",
              "      <td>49.9500000</td>\n",
              "      <td>1</td>\n",
              "      <td>Stupid phone</td>\n",
              "      <td>0</td>\n",
              "    </tr>\n",
              "    <tr>\n",
              "      <th>17</th>\n",
              "      <td>Motorola</td>\n",
              "      <td>1 star because the phones locked so I have to ...</td>\n",
              "      <td>49.9500000</td>\n",
              "      <td>1</td>\n",
              "      <td>Phones locked</td>\n",
              "      <td>0</td>\n",
              "    </tr>\n",
              "  </tbody>\n",
              "</table>\n",
              "</div>"
            ],
            "text/plain": [
              "       brand                                               body      price  \\\n",
              "14  Motorola                           DON'T BUY OUT OF SERVICE 49.9500000   \n",
              "17  Motorola  1 star because the phones locked so I have to ... 49.9500000   \n",
              "\n",
              "    user_rating   review_title  sentiment  \n",
              "14            1   Stupid phone          0  \n",
              "17            1  Phones locked          0  "
            ]
          },
          "metadata": {
            "tags": []
          },
          "execution_count": 53
        }
      ]
    },
    {
      "cell_type": "code",
      "metadata": {
        "id": "1DbTf2yc2VOQ"
      },
      "source": [
        "df_final['keywords'] = df_final['body'].str.lower()\n",
        "#df_final('keywords').head()"
      ],
      "execution_count": 55,
      "outputs": []
    },
    {
      "cell_type": "code",
      "metadata": {
        "colab": {
          "base_uri": "https://localhost:8080/"
        },
        "id": "kMUrUUs8KgNC",
        "outputId": "25d6a184-8643-41ab-b82e-729a816c2ed8"
      },
      "source": [
        "df_final['keywords'].head()"
      ],
      "execution_count": 57,
      "outputs": [
        {
          "output_type": "execute_result",
          "data": {
            "text/plain": [
              "14                             don't buy out of service\n",
              "17    1 star because the phones locked so i have to ...\n",
              "18    the product has been very good. i had used thi...\n",
              "21    i bought this phone to replace an lg phone tha...\n",
              "22    i purchased this phone for my at&t phone repla...\n",
              "Name: keywords, dtype: object"
            ]
          },
          "metadata": {
            "tags": []
          },
          "execution_count": 57
        }
      ]
    },
    {
      "cell_type": "markdown",
      "metadata": {
        "id": "lsppV0X52VXf"
      },
      "source": [
        "### 5.2 Remove punctuations from the lowercased 'body' column and display at least two samples."
      ]
    },
    {
      "cell_type": "code",
      "metadata": {
        "id": "lQXKc8et2onG"
      },
      "source": [
        "df_final['keywords'] = df_final['keywords'].str.replace('[^\\w\\s]','')\n",
        "#\\w removes everything except [^A-Za-z0-9_] and \\s retains white spaces\n"
      ],
      "execution_count": 58,
      "outputs": []
    },
    {
      "cell_type": "code",
      "metadata": {
        "id": "R58M0EAGP3dn"
      },
      "source": [
        "import string\n",
        "df_final['keywords'] = df_final['keywords'].str.translate(str.maketrans( ' ' ,' ' , string.punctuation))"
      ],
      "execution_count": 59,
      "outputs": []
    },
    {
      "cell_type": "code",
      "metadata": {
        "colab": {
          "base_uri": "https://localhost:8080/"
        },
        "id": "iiFGhDWnQimQ",
        "outputId": "a53469a9-7678-44c7-f8b9-0417dae3a6fa"
      },
      "source": [
        "df_final['keywords'].head(2)"
      ],
      "execution_count": 60,
      "outputs": [
        {
          "output_type": "execute_result",
          "data": {
            "text/plain": [
              "14                              dont buy out of service\n",
              "17    1 star because the phones locked so i have to ...\n",
              "Name: keywords, dtype: object"
            ]
          },
          "metadata": {
            "tags": []
          },
          "execution_count": 60
        }
      ]
    },
    {
      "cell_type": "markdown",
      "metadata": {
        "id": "8Zk7ja6A2owN"
      },
      "source": [
        "### 5.3 Remove stop words from the above pre-processed 'body' column and display at least two samples."
      ]
    },
    {
      "cell_type": "code",
      "metadata": {
        "id": "1d-DhX_e2yQ-",
        "colab": {
          "base_uri": "https://localhost:8080/"
        },
        "outputId": "a1e2d001-5902-41f8-d224-23bc8e323a44"
      },
      "source": [
        "import nltk\n",
        "from nltk.corpus import stopwords\n",
        "nltk.download('stopwords')"
      ],
      "execution_count": 62,
      "outputs": [
        {
          "output_type": "stream",
          "text": [
            "[nltk_data] Downloading package stopwords to /root/nltk_data...\n",
            "[nltk_data]   Unzipping corpora/stopwords.zip.\n"
          ],
          "name": "stdout"
        },
        {
          "output_type": "execute_result",
          "data": {
            "text/plain": [
              "True"
            ]
          },
          "metadata": {
            "tags": []
          },
          "execution_count": 62
        }
      ]
    },
    {
      "cell_type": "code",
      "metadata": {
        "id": "3vinGh0jSIFr"
      },
      "source": [
        "stop_words =  stopwords.words('english')\n"
      ],
      "execution_count": 66,
      "outputs": []
    },
    {
      "cell_type": "code",
      "metadata": {
        "id": "67R0DPqlS7th"
      },
      "source": [
        "df_final['keywords'].head(2)\n",
        "df_final['keywords'] = df_final['keywords'].astype('str')\n"
      ],
      "execution_count": 67,
      "outputs": []
    },
    {
      "cell_type": "code",
      "metadata": {
        "colab": {
          "base_uri": "https://localhost:8080/"
        },
        "id": "NmS_LbLXVgnR",
        "outputId": "44a7f7e0-b6e6-423e-ce03-7b1419a6d673"
      },
      "source": [
        "df_final['keywords'] = df_final['keywords'].apply(lambda words: ' '.join(w for w in words.split() if w not in stop_words))\n",
        "df_final['keywords'].head()\n"
      ],
      "execution_count": 68,
      "outputs": [
        {
          "output_type": "execute_result",
          "data": {
            "text/plain": [
              "14                                     dont buy service\n",
              "17      1 star phones locked pay additional fees unlock\n",
              "18    product good used cell phone one projects work...\n",
              "21    bought phone replace lg phone didnt like expec...\n",
              "22    purchased phone att phone replacement even tho...\n",
              "Name: keywords, dtype: object"
            ]
          },
          "metadata": {
            "tags": []
          },
          "execution_count": 68
        }
      ]
    },
    {
      "cell_type": "markdown",
      "metadata": {
        "id": "nsMNgl7CwTab"
      },
      "source": [
        "stop words from dictonary applied to remove the stop words causing unncessary interference in modeling"
      ]
    },
    {
      "cell_type": "markdown",
      "metadata": {
        "id": "TQNvXay42yaQ"
      },
      "source": [
        "### 5.4 Apply lemmatisation on the above preprocessed text and display a few samples"
      ]
    },
    {
      "cell_type": "code",
      "metadata": {
        "id": "oQ1VfFaa3DET",
        "colab": {
          "base_uri": "https://localhost:8080/"
        },
        "outputId": "0e7d38ef-0506-4887-ff37-09cc11aa475e"
      },
      "source": [
        "import nltk\n",
        "nltk.download('wordnet')"
      ],
      "execution_count": 69,
      "outputs": [
        {
          "output_type": "stream",
          "text": [
            "[nltk_data] Downloading package wordnet to /root/nltk_data...\n",
            "[nltk_data]   Unzipping corpora/wordnet.zip.\n"
          ],
          "name": "stdout"
        },
        {
          "output_type": "execute_result",
          "data": {
            "text/plain": [
              "True"
            ]
          },
          "metadata": {
            "tags": []
          },
          "execution_count": 69
        }
      ]
    },
    {
      "cell_type": "code",
      "metadata": {
        "id": "ZaA82vClZT0s"
      },
      "source": [
        "w_tokenizer = nltk.tokenize.WhitespaceTokenizer()\n",
        "lemmatizer = nltk.stem.WordNetLemmatizer()"
      ],
      "execution_count": 70,
      "outputs": []
    },
    {
      "cell_type": "code",
      "metadata": {
        "id": "zqXD47AHZrDl"
      },
      "source": [
        "def lemmmatize_text(text) :\n",
        "  return[lemmatizer.lemmatize(w) for w in w_tokenizer.tokenize(text)]\n",
        "    "
      ],
      "execution_count": 77,
      "outputs": []
    },
    {
      "cell_type": "code",
      "metadata": {
        "colab": {
          "base_uri": "https://localhost:8080/"
        },
        "id": "Rbigi1i3adks",
        "outputId": "06760990-3f1b-49dc-f2a0-1feb6585611a"
      },
      "source": [
        "df_final['lemm'] = df_final['keywords'].apply(lemmmatize_text)\n",
        "df_final['lemm'].head()\n"
      ],
      "execution_count": 80,
      "outputs": [
        {
          "output_type": "execute_result",
          "data": {
            "text/plain": [
              "14                                 [dont, buy, service]\n",
              "17    [1, star, phone, locked, pay, additional, fee,...\n",
              "18    [product, good, used, cell, phone, one, projec...\n",
              "21    [bought, phone, replace, lg, phone, didnt, lik...\n",
              "22    [purchased, phone, att, phone, replacement, ev...\n",
              "Name: lemm, dtype: object"
            ]
          },
          "metadata": {
            "tags": []
          },
          "execution_count": 80
        }
      ]
    },
    {
      "cell_type": "code",
      "metadata": {
        "colab": {
          "base_uri": "https://localhost:8080/"
        },
        "id": "SfPyD0codJnK",
        "outputId": "9d1d398f-0418-4d18-de66-dae9cb5fbe9c"
      },
      "source": [
        "df_final['lemm'].head(10)"
      ],
      "execution_count": 81,
      "outputs": [
        {
          "output_type": "execute_result",
          "data": {
            "text/plain": [
              "14                                 [dont, buy, service]\n",
              "17    [1, star, phone, locked, pay, additional, fee,...\n",
              "18    [product, good, used, cell, phone, one, projec...\n",
              "21    [bought, phone, replace, lg, phone, didnt, lik...\n",
              "22    [purchased, phone, att, phone, replacement, ev...\n",
              "23            [phone, come, charger, didnt, sims, card]\n",
              "24                          [served, well, back, phone]\n",
              "25    [got, phone, secondary, cell, phone, really, l...\n",
              "26    [sturdy, clarity, great, easy, use, problem, s...\n",
              "27                             [phone, stoped, working]\n",
              "Name: lemm, dtype: object"
            ]
          },
          "metadata": {
            "tags": []
          },
          "execution_count": 81
        }
      ]
    },
    {
      "cell_type": "markdown",
      "metadata": {
        "id": "e6X-xIK2v_Dl"
      },
      "source": [
        "**lemmetizer applied to fit the token generated in last step**"
      ]
    },
    {
      "cell_type": "markdown",
      "metadata": {
        "id": "OzweL_fA3DiN"
      },
      "source": [
        "### 5.5 Check most common and rare words in the processed text\n",
        "- We can also write a function to check word frequency of the text (Optional)"
      ]
    },
    {
      "cell_type": "code",
      "metadata": {
        "id": "MzIAyX3N6lz5",
        "colab": {
          "base_uri": "https://localhost:8080/"
        },
        "outputId": "e9c629e6-9861-4018-b87e-d84f3964a8fa"
      },
      "source": [
        "from collections import Counter\n",
        "cnt = Counter()\n",
        "for text in df_final[\"keywords\"].values:\n",
        "    for word in text.split():\n",
        "        cnt[word] += 1\n",
        "        \n",
        "cnt.most_common(10)\n"
      ],
      "execution_count": 92,
      "outputs": [
        {
          "output_type": "execute_result",
          "data": {
            "text/plain": [
              "[('phone', 74458),\n",
              " ('great', 16986),\n",
              " ('good', 13415),\n",
              " ('battery', 11641),\n",
              " ('screen', 10377),\n",
              " ('like', 10360),\n",
              " ('one', 10035),\n",
              " ('new', 9498),\n",
              " ('use', 8755),\n",
              " ('get', 7566)]"
            ]
          },
          "metadata": {
            "tags": []
          },
          "execution_count": 92
        }
      ]
    },
    {
      "cell_type": "code",
      "metadata": {
        "colab": {
          "base_uri": "https://localhost:8080/"
        },
        "id": "Y-SaPhm1jCFT",
        "outputId": "0460ecc8-820e-4504-a67e-4a7e083f4958"
      },
      "source": [
        "rare_words = 10\n",
        "cnt.most_common()[:-rare_words-1:-1]\n"
      ],
      "execution_count": 93,
      "outputs": [
        {
          "output_type": "execute_result",
          "data": {
            "text/plain": [
              "[('prontoen', 1),\n",
              " ('500500', 1),\n",
              " ('sd730g', 1),\n",
              " ('nois', 1),\n",
              " ('tomuch', 1),\n",
              " ('instructivo', 1),\n",
              " ('confirmen', 1),\n",
              " ('intrligente', 1),\n",
              " ('haxe', 1),\n",
              " ('4ever', 1)]"
            ]
          },
          "metadata": {
            "tags": []
          },
          "execution_count": 93
        }
      ]
    },
    {
      "cell_type": "markdown",
      "metadata": {
        "id": "9UbdTGsv60t1"
      },
      "source": [
        "### 5.6 Initialize tf-idf vectorizer and transform the preprocessed body text"
      ]
    },
    {
      "cell_type": "code",
      "metadata": {
        "colab": {
          "base_uri": "https://localhost:8080/",
          "height": 282
        },
        "id": "LhBA8aYjkIPM",
        "outputId": "b049fa7b-f52f-4819-b165-160bae9fd7ec"
      },
      "source": [
        "df_final[\"len\"] =df_final[\"keywords\"].str.len()\n",
        "df_final[\"len\"].plot()\n"
      ],
      "execution_count": 94,
      "outputs": [
        {
          "output_type": "execute_result",
          "data": {
            "text/plain": [
              "<matplotlib.axes._subplots.AxesSubplot at 0x7fa608ade350>"
            ]
          },
          "metadata": {
            "tags": []
          },
          "execution_count": 94
        },
        {
          "output_type": "display_data",
          "data": {
            "image/png": "[encoded data removed]",
            "text/plain": [
              "<Figure size 432x288 with 1 Axes>"
            ]
          },
          "metadata": {
            "tags": [],
            "needs_background": "light"
          }
        }
      ]
    },
    {
      "cell_type": "code",
      "metadata": {
        "id": "_Jfo6go_69yh"
      },
      "source": [
        "# Initialize TF-IDF vectorizer\n",
        "from sklearn.feature_extraction.text import TfidfVectorizer\n",
        "\n",
        "tfidf_vectorizer = TfidfVectorizer()\n"
      ],
      "execution_count": 82,
      "outputs": []
    },
    {
      "cell_type": "code",
      "metadata": {
        "id": "90YQS0fdegWj"
      },
      "source": [
        "# Initialize TF-IDF vectorizer\n",
        "from sklearn.feature_extraction.text import TfidfVectorizer\n",
        "\n",
        "tfidf_vectorizer1 = TfidfVectorizer(ngram_range=(2,2))\n"
      ],
      "execution_count": 83,
      "outputs": []
    },
    {
      "cell_type": "code",
      "metadata": {
        "id": "xehUzqz-eivR"
      },
      "source": [
        "tfidf = tfidf_vectorizer.fit_transform(df_final[\"keywords\"])\n"
      ],
      "execution_count": 84,
      "outputs": []
    },
    {
      "cell_type": "markdown",
      "metadata": {
        "id": "5dqPXETLKN0h"
      },
      "source": [
        "### 5.7 Segregate the data into dependent (sentiment) and independent (transformed body using tf-idf) features for building a classifier. "
      ]
    },
    {
      "cell_type": "code",
      "metadata": {
        "id": "mpOLAYn07W6F"
      },
      "source": [
        "y = df_final[\"sentiment\"]\n"
      ],
      "execution_count": 87,
      "outputs": []
    },
    {
      "cell_type": "markdown",
      "metadata": {
        "id": "4K03FO0q7XBP"
      },
      "source": [
        "### 5.9 Split the data into Train & Test Sets"
      ]
    },
    {
      "cell_type": "code",
      "metadata": {
        "id": "D548-7cE7dZa"
      },
      "source": [
        "from sklearn.model_selection import train_test_split\n",
        "X_train, X_test, y1_train, y1_test = train_test_split(tfidf, y, random_state = 50, stratify=y, test_size=0.3)\n"
      ],
      "execution_count": 88,
      "outputs": []
    },
    {
      "cell_type": "markdown",
      "metadata": {
        "id": "rhD1a-beKvE7"
      },
      "source": [
        "## 6. Model building"
      ]
    },
    {
      "cell_type": "markdown",
      "metadata": {
        "id": "UPFovmN03exD"
      },
      "source": [
        "### 6.1 Build a random forest classifier to predict the 'sentiment'\n",
        "### 6.2 Predict on test set\n",
        "### 6.3 Check accuracy and confusion matrix"
      ]
    },
    {
      "cell_type": "code",
      "metadata": {
        "id": "y0ytdD-_30P9",
        "colab": {
          "base_uri": "https://localhost:8080/"
        },
        "outputId": "afcc404f-55a8-487c-bb68-13616aa006d6"
      },
      "source": [
        "from sklearn.ensemble import RandomForestClassifier\n",
        "rf_clf1 = RandomForestClassifier()\n",
        "rf_clf1.fit(X_train, y1_train)\n",
        "print(rf_clf1.score(X_train, y1_train))\n",
        "print(rf_clf1.score(X_test, y1_test))\n"
      ],
      "execution_count": 89,
      "outputs": [
        {
          "output_type": "stream",
          "text": [
            "0.9958466528221761\n",
            "0.8873584494773519\n"
          ],
          "name": "stdout"
        }
      ]
    },
    {
      "cell_type": "code",
      "metadata": {
        "id": "NJ6Ke4hl30Zk",
        "colab": {
          "base_uri": "https://localhost:8080/"
        },
        "outputId": "7f82a669-73d8-46b2-a295-1d739de0b0f9"
      },
      "source": [
        "from sklearn.metrics import confusion_matrix\n",
        "y1_pred = rf_clf1.predict(X_train)\n",
        "confusion_matrix(y1_train, y1_pred)\n"
      ],
      "execution_count": 90,
      "outputs": [
        {
          "output_type": "execute_result",
          "data": {
            "text/plain": [
              "array([[12641,   159],\n",
              "       [   19, 30038]])"
            ]
          },
          "metadata": {
            "tags": []
          },
          "execution_count": 90
        }
      ]
    },
    {
      "cell_type": "code",
      "metadata": {
        "colab": {
          "base_uri": "https://localhost:8080/"
        },
        "id": "F7eLdpnih6Mq",
        "outputId": "4c7412ac-29f8-484b-8ff3-987aa0b88aa8"
      },
      "source": [
        "from sklearn.metrics import confusion_matrix\n",
        "y1_pred = rf_clf1.predict(X_test)\n",
        "confusion_matrix(y1_test, y1_pred)\n"
      ],
      "execution_count": 91,
      "outputs": [
        {
          "output_type": "execute_result",
          "data": {
            "text/plain": [
              "array([[ 4034,  1452],\n",
              "       [  617, 12265]])"
            ]
          },
          "metadata": {
            "tags": []
          },
          "execution_count": 91
        }
      ]
    },
    {
      "cell_type": "markdown",
      "metadata": {
        "id": "Ey7an7ukLxWB"
      },
      "source": [
        "## 7. Write your conclusion"
      ]
    },
    {
      "cell_type": "markdown",
      "metadata": {
        "id": "3Bxjb1nfmEUd"
      },
      "source": [
        "1.   the model seems to be a overfit model\n",
        "2.   balance classess with more data so as to have equal percetange of 0 and 1  \n",
        "  data and subsequently better modelling\n",
        "3. we can remove rare words to improve accuracy\n",
        "4. we can tune hyperparamters to increase accuracy . ingram , max features\n",
        "\n",
        "\n"
      ]
    },
    {
      "cell_type": "markdown",
      "metadata": {
        "id": "CD8lVNY0YLQD"
      },
      "source": [
        "##. 8. Further Explore\n",
        "### 8.0 Merge all independent features and the below text preprocessing steps\n",
        "### 8.1 Check rare words and drop them\n",
        "### 8.2 Remove emoticon/emojis\n",
        "### 8.3 Try different vectorizer for vectorization\n",
        "### 8.4 Use embeddings\n",
        "### 8.5 Use NN based models"
      ]
    },
    {
      "cell_type": "code",
      "metadata": {
        "id": "bJEEmN3ZY5KJ"
      },
      "source": [
        ""
      ],
      "execution_count": null,
      "outputs": []
    }
  ]
}