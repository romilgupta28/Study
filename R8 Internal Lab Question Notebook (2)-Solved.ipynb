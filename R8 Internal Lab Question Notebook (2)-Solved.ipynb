{
 "cells": [
  {
   "cell_type": "markdown",
   "metadata": {
    "id": "PHYs6Z84xV8E"
   },
   "source": [
    "<img src=\"http://drive.google.com/uc?export=view&id=1tpOCamr9aWz817atPnyXus8w5gJ3mIts\" width=500px>\n",
    "\n",
    "Proprietary content. © Great Learning. All Rights Reserved. Unauthorized use or distribution prohibited."
   ]
  },
  {
   "cell_type": "markdown",
   "metadata": {
    "id": "5QQxgAmWzSye"
   },
   "source": [
    "# Mobile Phone Review Analysis"
   ]
  },
  {
   "cell_type": "markdown",
   "metadata": {
    "id": "FbwHYUXhxaqD"
   },
   "source": [
    "## Context\n",
    "\n",
    "The product companies can utilize the detailed review comments to gather insights from the end user. Most of the products are sold via e-commerce sites like Flipkart or Amazon where customers can buy a product and give their review about the product on the web site. \n",
    "Product managers can identify the relevant reviews from the website and run a sentiment analysis tool to understand what the sentiments of the customer are. Based on their sentiments, they can identify what users think of the current product. Are they happy? Discontent? \n",
    "They can also come up with a document that lists the features, the team needs to focus on for making the product better. \n",
    "\n",
    "## Objective\n",
    "\n",
    "Given the review data rating label, we will try to get insights about various brands and their ratings using text analytics and build a model to predict the rating and overall sentiment. \n"
   ]
  },
  {
   "cell_type": "markdown",
   "metadata": {
    "id": "CI7usguRzeox"
   },
   "source": [
    "### Package version\n",
    "\n",
    "- tensorflow==2.3.0\n",
    "- scikit-learn==0.22.2.post1\n",
    "- pandas==1.0.5\n",
    "- numpy==1.18.5\n",
    "- matplotlib==3.2.2\n",
    "- google==2.0.3"
   ]
  },
  {
   "cell_type": "markdown",
   "metadata": {
    "id": "aiMdVjHRH7NR"
   },
   "source": [
    "### Data Dictionary \n",
    "\n",
    "product_data.csv - contains product details\n",
    "- 'asin',  - Product ASIN\n",
    "- 'brand', - Product Brand\n",
    "- 'title', - Product Title\n",
    "- 'url',  - Product URL\n",
    "- 'image', - Product Image URL\n",
    "- 'rating',- Product Avg. Rating\n",
    "- 'reviewUrl' - Product Review Page URL\n",
    "- 'totalReviews' - Product Total Reviews\n",
    "- ‘price’ - Product Price ($)\n",
    "- ‘originalPrice’ - Product Original Price ($)\n",
    " \n",
    "reviews.csv  - contains user review details\n",
    " \n",
    "- 'asin' - Product ASIN\n",
    "- 'name' - Reviewer Name\n",
    "- 'rating' - Reviewer Rating (scale 1 to 5)\n",
    "- 'date'  - Review Date\n",
    "- 'verified' - Valid Customer\n",
    "- 'title'  - Review Title\n",
    "- 'body'  - Review Content\n",
    "- 'helpfulVotes  - Helpful Feedbacks\n"
   ]
  },
  {
   "cell_type": "markdown",
   "metadata": {
    "id": "cEn52o8jznJK"
   },
   "source": [
    "## Table of Content\n",
    "\n",
    "1. Import Libraries\n",
    "\n",
    "2. Setting options\n",
    "\n",
    "3. Read Data\n",
    "\n",
    "4. Data Analysis and EDA\n",
    "\n",
    "5. Text preprocessing and Vectorization\n",
    "\n",
    "6. Model building\n",
    "\n",
    "7. Conclusion and Interpretation"
   ]
  },
  {
   "cell_type": "markdown",
   "metadata": {
    "id": "x_Lom6cXzqn7"
   },
   "source": [
    "## 1. Import Libraries"
   ]
  },
  {
   "cell_type": "markdown",
   "metadata": {
    "id": "FZtVstH8zre2"
   },
   "source": [
    "Let us start by mounting the drive"
   ]
  },
  {
   "cell_type": "code",
   "execution_count": 1,
   "metadata": {
    "colab": {
     "base_uri": "https://localhost:8080/"
    },
    "executionInfo": {
     "elapsed": 22472,
     "status": "ok",
     "timestamp": 1624797903859,
     "user": {
      "displayName": "Alankar gupta",
      "photoUrl": "",
      "userId": "10573301238297360683"
     },
     "user_tz": -330
    },
    "id": "xv9jxv3-R5Xl",
    "outputId": "453b877b-17d7-4b7f-9ee7-3fde25d83621"
   },
   "outputs": [
    {
     "name": "stdout",
     "output_type": "stream",
     "text": [
      "Mounted at /content/drive\n"
     ]
    }
   ],
   "source": [
    "from google.colab import drive\n",
    "drive.mount('/content/drive')"
   ]
  },
  {
   "cell_type": "markdown",
   "metadata": {
    "id": "Gv-tZoFjz2WD"
   },
   "source": [
    "Let us check for the version of installed tensorflow."
   ]
  },
  {
   "cell_type": "code",
   "execution_count": 2,
   "metadata": {
    "colab": {
     "base_uri": "https://localhost:8080/"
    },
    "executionInfo": {
     "elapsed": 2024,
     "status": "ok",
     "timestamp": 1624797905876,
     "user": {
      "displayName": "Alankar gupta",
      "photoUrl": "",
      "userId": "10573301238297360683"
     },
     "user_tz": -330
    },
    "id": "eiuUVBuDzzn9",
    "outputId": "c01f263e-bb94-4faf-95ac-f74e4e36c94a"
   },
   "outputs": [
    {
     "name": "stdout",
     "output_type": "stream",
     "text": [
      "2.5.0\n"
     ]
    }
   ],
   "source": [
    "# used to supress display of warnings\n",
    "import warnings\n",
    "\n",
    "# os is used to provide a way of using operating system dependent functionality\n",
    "# We use it for setting working folder\n",
    "import os\n",
    "\n",
    "# Pandas is used for data manipulation and analysis\n",
    "import pandas as pd \n",
    "\n",
    "# Numpy is used for large, multi-dimensional arrays and matrices, along with mathematical operators on these arrays\n",
    "import numpy as np\n",
    "\n",
    "# Matplotlib is a data visualization library for 2D plots of arrays, built on NumPy arrays \n",
    "# and designed to work with the broader SciPy stack\n",
    "import matplotlib.pyplot as plt\n",
    "%matplotlib inline\n",
    "from matplotlib import pyplot\n",
    "\n",
    "# Seaborn is based on matplotlib, which aids in drawing attractive and informative statistical graphics.\n",
    "import seaborn as sns\n",
    "import tensorflow \n",
    "print(tensorflow.__version__)"
   ]
  },
  {
   "cell_type": "markdown",
   "metadata": {
    "id": "fze-aokU0ukH"
   },
   "source": [
    "## 2. Setting Options"
   ]
  },
  {
   "cell_type": "code",
   "execution_count": 3,
   "metadata": {
    "executionInfo": {
     "elapsed": 516,
     "status": "ok",
     "timestamp": 1624797909671,
     "user": {
      "displayName": "Alankar gupta",
      "photoUrl": "",
      "userId": "10573301238297360683"
     },
     "user_tz": -330
    },
    "id": "T3FALggG0xXa"
   },
   "outputs": [],
   "source": [
    "# suppress display of warnings\n",
    "warnings.filterwarnings('ignore')\n",
    "\n",
    "# display all dataframe columns\n",
    "pd.options.display.max_columns = None\n",
    "\n",
    "# to set the limit to 3 decimals\n",
    "pd.options.display.float_format = '{:.7f}'.format\n",
    "\n",
    "# display all dataframe rows\n",
    "pd.options.display.max_rows = None"
   ]
  },
  {
   "cell_type": "markdown",
   "metadata": {
    "id": "ZT1P1WdK1vfZ"
   },
   "source": [
    "## 3. Read Data"
   ]
  },
  {
   "cell_type": "markdown",
   "metadata": {
    "id": "-UOW6zwww7L1"
   },
   "source": [
    "### 3.1 Read the provided CSVs and check 5 random samples and shape to understand the datasets"
   ]
  },
  {
   "cell_type": "code",
   "execution_count": 4,
   "metadata": {
    "executionInfo": {
     "elapsed": 723,
     "status": "ok",
     "timestamp": 1624797916528,
     "user": {
      "displayName": "Alankar gupta",
      "photoUrl": "",
      "userId": "10573301238297360683"
     },
     "user_tz": -330
    },
    "id": "nxT2g284xF1W"
   },
   "outputs": [],
   "source": [
    "path =('/content/drive/My Drive/Colab Notebooks')"
   ]
  },
  {
   "cell_type": "code",
   "execution_count": 5,
   "metadata": {
    "colab": {
     "base_uri": "https://localhost:8080/"
    },
    "executionInfo": {
     "elapsed": 971,
     "status": "ok",
     "timestamp": 1624797919493,
     "user": {
      "displayName": "Alankar gupta",
      "photoUrl": "",
      "userId": "10573301238297360683"
     },
     "user_tz": -330
    },
    "id": "GRjG44fRxGIq",
    "outputId": "e00eb143-b7a6-4f15-f0e3-07475f274841"
   },
   "outputs": [
    {
     "data": {
      "text/plain": [
       "(720, 10)"
      ]
     },
     "execution_count": 5,
     "metadata": {
      "tags": []
     },
     "output_type": "execute_result"
    }
   ],
   "source": [
    "product_df=pd.read_csv(path+'/product_data.csv')\n",
    "product_df.shape"
   ]
  },
  {
   "cell_type": "code",
   "execution_count": 6,
   "metadata": {
    "colab": {
     "base_uri": "https://localhost:8080/",
     "height": 734
    },
    "executionInfo": {
     "elapsed": 487,
     "status": "ok",
     "timestamp": 1624797921879,
     "user": {
      "displayName": "Alankar gupta",
      "photoUrl": "",
      "userId": "10573301238297360683"
     },
     "user_tz": -330
    },
    "id": "ymxfewlRmua_",
    "outputId": "71737837-3643-461f-cb3a-09ff42914d18"
   },
   "outputs": [
    {
     "data": {
      "text/html": [
       "<div>\n",
       "<style scoped>\n",
       "    .dataframe tbody tr th:only-of-type {\n",
       "        vertical-align: middle;\n",
       "    }\n",
       "\n",
       "    .dataframe tbody tr th {\n",
       "        vertical-align: top;\n",
       "    }\n",
       "\n",
       "    .dataframe thead th {\n",
       "        text-align: right;\n",
       "    }\n",
       "</style>\n",
       "<table border=\"1\" class=\"dataframe\">\n",
       "  <thead>\n",
       "    <tr style=\"text-align: right;\">\n",
       "      <th></th>\n",
       "      <th>asin</th>\n",
       "      <th>brand</th>\n",
       "      <th>title</th>\n",
       "      <th>url</th>\n",
       "      <th>image</th>\n",
       "      <th>rating</th>\n",
       "      <th>reviewUrl</th>\n",
       "      <th>totalReviews</th>\n",
       "      <th>price</th>\n",
       "      <th>originalPrice</th>\n",
       "    </tr>\n",
       "  </thead>\n",
       "  <tbody>\n",
       "    <tr>\n",
       "      <th>502</th>\n",
       "      <td>B07LBPP4J9</td>\n",
       "      <td>Nokia</td>\n",
       "      <td>Nokia 6.1 - Android 9.0 PIE - 32GB microSD - S...</td>\n",
       "      <td>https://www.amazon.com/Nokia-6-1-Unlocked-Smar...</td>\n",
       "      <td>https://m.media-amazon.com/images/I/61+7tN6sHH...</td>\n",
       "      <td>3.4000000</td>\n",
       "      <td>https://www.amazon.com/product-reviews/B07LBPP4J9</td>\n",
       "      <td>40</td>\n",
       "      <td>0.0000000</td>\n",
       "      <td>0.0000000</td>\n",
       "    </tr>\n",
       "    <tr>\n",
       "      <th>329</th>\n",
       "      <td>B077XM1GZM</td>\n",
       "      <td>Apple</td>\n",
       "      <td>Apple iPhone 6S Plus, 64GB, Silver - Fully Unl...</td>\n",
       "      <td>https://www.amazon.com/Apple-iPhone-a1687-Unlo...</td>\n",
       "      <td>https://m.media-amazon.com/images/I/81ia5dHUn3...</td>\n",
       "      <td>3.8000000</td>\n",
       "      <td>https://www.amazon.com/product-reviews/B077XM1GZM</td>\n",
       "      <td>12</td>\n",
       "      <td>258.8000000</td>\n",
       "      <td>349.9900000</td>\n",
       "    </tr>\n",
       "    <tr>\n",
       "      <th>165</th>\n",
       "      <td>B01K5RGPIS</td>\n",
       "      <td>Samsung</td>\n",
       "      <td>Samsung Galaxy S6 G920A 64GB Unlocked GSM 4G L...</td>\n",
       "      <td>https://www.amazon.com/Samsung-Unlocked-Octa-C...</td>\n",
       "      <td>https://m.media-amazon.com/images/I/61Nb5eGCbv...</td>\n",
       "      <td>2.9000000</td>\n",
       "      <td>https://www.amazon.com/product-reviews/B01K5RGPIS</td>\n",
       "      <td>61</td>\n",
       "      <td>0.0000000</td>\n",
       "      <td>0.0000000</td>\n",
       "    </tr>\n",
       "    <tr>\n",
       "      <th>274</th>\n",
       "      <td>B074P62MW8</td>\n",
       "      <td>Sony</td>\n",
       "      <td>Sony Xperia XZ1 Factory Unlocked Phone - 5.2\" ...</td>\n",
       "      <td>https://www.amazon.com/Sony-Xperia-Factory-Unl...</td>\n",
       "      <td>https://m.media-amazon.com/images/I/71yVGahtSC...</td>\n",
       "      <td>3.8000000</td>\n",
       "      <td>https://www.amazon.com/product-reviews/B074P62MW8</td>\n",
       "      <td>81</td>\n",
       "      <td>269.9900000</td>\n",
       "      <td>0.0000000</td>\n",
       "    </tr>\n",
       "    <tr>\n",
       "      <th>239</th>\n",
       "      <td>B0714DBSNH</td>\n",
       "      <td>Motorola</td>\n",
       "      <td>Verizon Motorola Moto E4 Plus Carrier Locked P...</td>\n",
       "      <td>https://www.amazon.com/Verizon-Motorola-Carrie...</td>\n",
       "      <td>https://m.media-amazon.com/images/I/51fbn3oN4J...</td>\n",
       "      <td>3.8000000</td>\n",
       "      <td>https://www.amazon.com/product-reviews/B0714DBSNH</td>\n",
       "      <td>28</td>\n",
       "      <td>129.9900000</td>\n",
       "      <td>0.0000000</td>\n",
       "    </tr>\n",
       "  </tbody>\n",
       "</table>\n",
       "</div>"
      ],
      "text/plain": [
       "           asin     brand                                              title  \\\n",
       "502  B07LBPP4J9     Nokia  Nokia 6.1 - Android 9.0 PIE - 32GB microSD - S...   \n",
       "329  B077XM1GZM     Apple  Apple iPhone 6S Plus, 64GB, Silver - Fully Unl...   \n",
       "165  B01K5RGPIS   Samsung  Samsung Galaxy S6 G920A 64GB Unlocked GSM 4G L...   \n",
       "274  B074P62MW8      Sony  Sony Xperia XZ1 Factory Unlocked Phone - 5.2\" ...   \n",
       "239  B0714DBSNH  Motorola  Verizon Motorola Moto E4 Plus Carrier Locked P...   \n",
       "\n",
       "                                                   url  \\\n",
       "502  https://www.amazon.com/Nokia-6-1-Unlocked-Smar...   \n",
       "329  https://www.amazon.com/Apple-iPhone-a1687-Unlo...   \n",
       "165  https://www.amazon.com/Samsung-Unlocked-Octa-C...   \n",
       "274  https://www.amazon.com/Sony-Xperia-Factory-Unl...   \n",
       "239  https://www.amazon.com/Verizon-Motorola-Carrie...   \n",
       "\n",
       "                                                 image    rating  \\\n",
       "502  https://m.media-amazon.com/images/I/61+7tN6sHH... 3.4000000   \n",
       "329  https://m.media-amazon.com/images/I/81ia5dHUn3... 3.8000000   \n",
       "165  https://m.media-amazon.com/images/I/61Nb5eGCbv... 2.9000000   \n",
       "274  https://m.media-amazon.com/images/I/71yVGahtSC... 3.8000000   \n",
       "239  https://m.media-amazon.com/images/I/51fbn3oN4J... 3.8000000   \n",
       "\n",
       "                                             reviewUrl  totalReviews  \\\n",
       "502  https://www.amazon.com/product-reviews/B07LBPP4J9            40   \n",
       "329  https://www.amazon.com/product-reviews/B077XM1GZM            12   \n",
       "165  https://www.amazon.com/product-reviews/B01K5RGPIS            61   \n",
       "274  https://www.amazon.com/product-reviews/B074P62MW8            81   \n",
       "239  https://www.amazon.com/product-reviews/B0714DBSNH            28   \n",
       "\n",
       "          price  originalPrice  \n",
       "502   0.0000000      0.0000000  \n",
       "329 258.8000000    349.9900000  \n",
       "165   0.0000000      0.0000000  \n",
       "274 269.9900000      0.0000000  \n",
       "239 129.9900000      0.0000000  "
      ]
     },
     "execution_count": 6,
     "metadata": {
      "tags": []
     },
     "output_type": "execute_result"
    }
   ],
   "source": [
    "product_df.sample(5)"
   ]
  },
  {
   "cell_type": "code",
   "execution_count": 7,
   "metadata": {
    "colab": {
     "base_uri": "https://localhost:8080/"
    },
    "executionInfo": {
     "elapsed": 2966,
     "status": "ok",
     "timestamp": 1624797929328,
     "user": {
      "displayName": "Alankar gupta",
      "photoUrl": "",
      "userId": "10573301238297360683"
     },
     "user_tz": -330
    },
    "id": "rwfdsxTAnIJO",
    "outputId": "c20732e1-f6c0-486d-889b-303e1e36c6c7"
   },
   "outputs": [
    {
     "data": {
      "text/plain": [
       "(67986, 8)"
      ]
     },
     "execution_count": 7,
     "metadata": {
      "tags": []
     },
     "output_type": "execute_result"
    }
   ],
   "source": [
    "review_df=pd.read_csv(path+'/reviews.csv')\n",
    "review_df.shape"
   ]
  },
  {
   "cell_type": "code",
   "execution_count": 8,
   "metadata": {
    "colab": {
     "base_uri": "https://localhost:8080/",
     "height": 145
    },
    "executionInfo": {
     "elapsed": 7,
     "status": "ok",
     "timestamp": 1624797929330,
     "user": {
      "displayName": "Alankar gupta",
      "photoUrl": "",
      "userId": "10573301238297360683"
     },
     "user_tz": -330
    },
    "id": "-dZA697eng3m",
    "outputId": "6ebacc26-cab1-4374-b75f-02bd3538d9fd"
   },
   "outputs": [
    {
     "data": {
      "text/html": [
       "<div>\n",
       "<style scoped>\n",
       "    .dataframe tbody tr th:only-of-type {\n",
       "        vertical-align: middle;\n",
       "    }\n",
       "\n",
       "    .dataframe tbody tr th {\n",
       "        vertical-align: top;\n",
       "    }\n",
       "\n",
       "    .dataframe thead th {\n",
       "        text-align: right;\n",
       "    }\n",
       "</style>\n",
       "<table border=\"1\" class=\"dataframe\">\n",
       "  <thead>\n",
       "    <tr style=\"text-align: right;\">\n",
       "      <th></th>\n",
       "      <th>asin</th>\n",
       "      <th>name</th>\n",
       "      <th>rating</th>\n",
       "      <th>date</th>\n",
       "      <th>verified</th>\n",
       "      <th>title</th>\n",
       "      <th>body</th>\n",
       "      <th>helpfulVotes</th>\n",
       "    </tr>\n",
       "  </thead>\n",
       "  <tbody>\n",
       "    <tr>\n",
       "      <th>0</th>\n",
       "      <td>B0000SX2UC</td>\n",
       "      <td>Janet</td>\n",
       "      <td>3</td>\n",
       "      <td>October 11, 2005</td>\n",
       "      <td>False</td>\n",
       "      <td>Def not best, but not worst</td>\n",
       "      <td>I had the Samsung A600 for awhile which is abs...</td>\n",
       "      <td>1.0000000</td>\n",
       "    </tr>\n",
       "    <tr>\n",
       "      <th>1</th>\n",
       "      <td>B0000SX2UC</td>\n",
       "      <td>Luke Wyatt</td>\n",
       "      <td>1</td>\n",
       "      <td>January 7, 2004</td>\n",
       "      <td>False</td>\n",
       "      <td>Text Messaging Doesn't Work</td>\n",
       "      <td>Due to a software issue between Nokia and Spri...</td>\n",
       "      <td>17.0000000</td>\n",
       "    </tr>\n",
       "  </tbody>\n",
       "</table>\n",
       "</div>"
      ],
      "text/plain": [
       "         asin        name  rating              date  verified  \\\n",
       "0  B0000SX2UC       Janet       3  October 11, 2005     False   \n",
       "1  B0000SX2UC  Luke Wyatt       1   January 7, 2004     False   \n",
       "\n",
       "                         title  \\\n",
       "0  Def not best, but not worst   \n",
       "1  Text Messaging Doesn't Work   \n",
       "\n",
       "                                                body  helpfulVotes  \n",
       "0  I had the Samsung A600 for awhile which is abs...     1.0000000  \n",
       "1  Due to a software issue between Nokia and Spri...    17.0000000  "
      ]
     },
     "execution_count": 8,
     "metadata": {
      "tags": []
     },
     "output_type": "execute_result"
    }
   ],
   "source": [
    "review_df.head(2)"
   ]
  },
  {
   "cell_type": "markdown",
   "metadata": {
    "id": "rED6DbDBKTjM"
   },
   "source": [
    "## 4.  Data Analysis and EDA"
   ]
  },
  {
   "cell_type": "markdown",
   "metadata": {
    "id": "awlqmp40xMfc"
   },
   "source": [
    "### 4.1 Drop unnecessary columns like 'url', 'image' from the product_data"
   ]
  },
  {
   "cell_type": "code",
   "execution_count": 9,
   "metadata": {
    "colab": {
     "base_uri": "https://localhost:8080/"
    },
    "executionInfo": {
     "elapsed": 628,
     "status": "ok",
     "timestamp": 1624797938226,
     "user": {
      "displayName": "Alankar gupta",
      "photoUrl": "",
      "userId": "10573301238297360683"
     },
     "user_tz": -330
    },
    "id": "VT4d-6TCxZCm",
    "outputId": "12cfb7b5-d8eb-4d81-9441-7ee1029a4243"
   },
   "outputs": [
    {
     "data": {
      "text/plain": [
       "(720, 7)"
      ]
     },
     "execution_count": 9,
     "metadata": {
      "tags": []
     },
     "output_type": "execute_result"
    }
   ],
   "source": [
    "product_dff=product_df.drop(['url','image','reviewUrl'],axis=1)\n",
    "product_dff.shape"
   ]
  },
  {
   "cell_type": "markdown",
   "metadata": {
    "id": "Zk0WW5D5xZK9"
   },
   "source": [
    "### 4.2 Check statistical summary of both datasets. Note:- Include both numerical and object type columns."
   ]
  },
  {
   "cell_type": "code",
   "execution_count": 11,
   "metadata": {
    "colab": {
     "base_uri": "https://localhost:8080/",
     "height": 173
    },
    "executionInfo": {
     "elapsed": 512,
     "status": "ok",
     "timestamp": 1624797958308,
     "user": {
      "displayName": "Alankar gupta",
      "photoUrl": "",
      "userId": "10573301238297360683"
     },
     "user_tz": -330
    },
    "id": "ylwcqQpcx_Tl",
    "outputId": "cbf6f597-6f6a-4f8d-ec94-bff890cfb0c5"
   },
   "outputs": [
    {
     "data": {
      "text/html": [
       "<div>\n",
       "<style scoped>\n",
       "    .dataframe tbody tr th:only-of-type {\n",
       "        vertical-align: middle;\n",
       "    }\n",
       "\n",
       "    .dataframe tbody tr th {\n",
       "        vertical-align: top;\n",
       "    }\n",
       "\n",
       "    .dataframe thead th {\n",
       "        text-align: right;\n",
       "    }\n",
       "</style>\n",
       "<table border=\"1\" class=\"dataframe\">\n",
       "  <thead>\n",
       "    <tr style=\"text-align: right;\">\n",
       "      <th></th>\n",
       "      <th>count</th>\n",
       "      <th>mean</th>\n",
       "      <th>std</th>\n",
       "      <th>min</th>\n",
       "      <th>25%</th>\n",
       "      <th>50%</th>\n",
       "      <th>75%</th>\n",
       "      <th>max</th>\n",
       "    </tr>\n",
       "  </thead>\n",
       "  <tbody>\n",
       "    <tr>\n",
       "      <th>rating</th>\n",
       "      <td>720.0000000</td>\n",
       "      <td>3.7137500</td>\n",
       "      <td>0.7160138</td>\n",
       "      <td>1.0000000</td>\n",
       "      <td>3.3000000</td>\n",
       "      <td>3.8000000</td>\n",
       "      <td>4.1000000</td>\n",
       "      <td>5.0000000</td>\n",
       "    </tr>\n",
       "    <tr>\n",
       "      <th>totalReviews</th>\n",
       "      <td>720.0000000</td>\n",
       "      <td>105.6791667</td>\n",
       "      <td>167.6011014</td>\n",
       "      <td>1.0000000</td>\n",
       "      <td>7.0000000</td>\n",
       "      <td>32.0000000</td>\n",
       "      <td>122.2500000</td>\n",
       "      <td>983.0000000</td>\n",
       "    </tr>\n",
       "    <tr>\n",
       "      <th>price</th>\n",
       "      <td>720.0000000</td>\n",
       "      <td>234.9489306</td>\n",
       "      <td>200.0084407</td>\n",
       "      <td>0.0000000</td>\n",
       "      <td>97.5125000</td>\n",
       "      <td>188.9750000</td>\n",
       "      <td>336.7250000</td>\n",
       "      <td>999.9900000</td>\n",
       "    </tr>\n",
       "    <tr>\n",
       "      <th>originalPrice</th>\n",
       "      <td>720.0000000</td>\n",
       "      <td>63.6907778</td>\n",
       "      <td>172.4053696</td>\n",
       "      <td>0.0000000</td>\n",
       "      <td>0.0000000</td>\n",
       "      <td>0.0000000</td>\n",
       "      <td>0.0000000</td>\n",
       "      <td>999.9900000</td>\n",
       "    </tr>\n",
       "  </tbody>\n",
       "</table>\n",
       "</div>"
      ],
      "text/plain": [
       "                    count        mean         std       min        25%  \\\n",
       "rating        720.0000000   3.7137500   0.7160138 1.0000000  3.3000000   \n",
       "totalReviews  720.0000000 105.6791667 167.6011014 1.0000000  7.0000000   \n",
       "price         720.0000000 234.9489306 200.0084407 0.0000000 97.5125000   \n",
       "originalPrice 720.0000000  63.6907778 172.4053696 0.0000000  0.0000000   \n",
       "\n",
       "                      50%         75%         max  \n",
       "rating          3.8000000   4.1000000   5.0000000  \n",
       "totalReviews   32.0000000 122.2500000 983.0000000  \n",
       "price         188.9750000 336.7250000 999.9900000  \n",
       "originalPrice   0.0000000   0.0000000 999.9900000  "
      ]
     },
     "execution_count": 11,
     "metadata": {
      "tags": []
     },
     "output_type": "execute_result"
    }
   ],
   "source": [
    "product_dff.describe().T"
   ]
  },
  {
   "cell_type": "code",
   "execution_count": 12,
   "metadata": {
    "colab": {
     "base_uri": "https://localhost:8080/",
     "height": 142
    },
    "executionInfo": {
     "elapsed": 629,
     "status": "ok",
     "timestamp": 1624797973784,
     "user": {
      "displayName": "Alankar gupta",
      "photoUrl": "",
      "userId": "10573301238297360683"
     },
     "user_tz": -330
    },
    "id": "WFaDkvIjyDtG",
    "outputId": "bf3eaed1-92e6-40ef-bd1c-f7ec0e097dab"
   },
   "outputs": [
    {
     "data": {
      "text/html": [
       "<div>\n",
       "<style scoped>\n",
       "    .dataframe tbody tr th:only-of-type {\n",
       "        vertical-align: middle;\n",
       "    }\n",
       "\n",
       "    .dataframe tbody tr th {\n",
       "        vertical-align: top;\n",
       "    }\n",
       "\n",
       "    .dataframe thead th {\n",
       "        text-align: right;\n",
       "    }\n",
       "</style>\n",
       "<table border=\"1\" class=\"dataframe\">\n",
       "  <thead>\n",
       "    <tr style=\"text-align: right;\">\n",
       "      <th></th>\n",
       "      <th>count</th>\n",
       "      <th>unique</th>\n",
       "      <th>top</th>\n",
       "      <th>freq</th>\n",
       "    </tr>\n",
       "  </thead>\n",
       "  <tbody>\n",
       "    <tr>\n",
       "      <th>asin</th>\n",
       "      <td>720</td>\n",
       "      <td>720</td>\n",
       "      <td>B077NK4TZ7</td>\n",
       "      <td>1</td>\n",
       "    </tr>\n",
       "    <tr>\n",
       "      <th>brand</th>\n",
       "      <td>716</td>\n",
       "      <td>10</td>\n",
       "      <td>Samsung</td>\n",
       "      <td>346</td>\n",
       "    </tr>\n",
       "    <tr>\n",
       "      <th>title</th>\n",
       "      <td>720</td>\n",
       "      <td>718</td>\n",
       "      <td>Google Pixel 2 XL 128GB Unlocked GSM/CDMA 4G L...</td>\n",
       "      <td>2</td>\n",
       "    </tr>\n",
       "  </tbody>\n",
       "</table>\n",
       "</div>"
      ],
      "text/plain": [
       "      count unique                                                top freq\n",
       "asin    720    720                                         B077NK4TZ7    1\n",
       "brand   716     10                                            Samsung  346\n",
       "title   720    718  Google Pixel 2 XL 128GB Unlocked GSM/CDMA 4G L...    2"
      ]
     },
     "execution_count": 12,
     "metadata": {
      "tags": []
     },
     "output_type": "execute_result"
    }
   ],
   "source": [
    "product_dff.describe(include='O').T"
   ]
  },
  {
   "cell_type": "code",
   "execution_count": 13,
   "metadata": {
    "colab": {
     "base_uri": "https://localhost:8080/",
     "height": 297
    },
    "executionInfo": {
     "elapsed": 4,
     "status": "ok",
     "timestamp": 1624797978658,
     "user": {
      "displayName": "Alankar gupta",
      "photoUrl": "",
      "userId": "10573301238297360683"
     },
     "user_tz": -330
    },
    "id": "2JL4bDk6qwqj",
    "outputId": "7d071391-2744-40ac-ca3d-acae85d1e19c"
   },
   "outputs": [
    {
     "data": {
      "text/html": [
       "<div>\n",
       "<style scoped>\n",
       "    .dataframe tbody tr th:only-of-type {\n",
       "        vertical-align: middle;\n",
       "    }\n",
       "\n",
       "    .dataframe tbody tr th {\n",
       "        vertical-align: top;\n",
       "    }\n",
       "\n",
       "    .dataframe thead th {\n",
       "        text-align: right;\n",
       "    }\n",
       "</style>\n",
       "<table border=\"1\" class=\"dataframe\">\n",
       "  <thead>\n",
       "    <tr style=\"text-align: right;\">\n",
       "      <th></th>\n",
       "      <th>rating</th>\n",
       "      <th>helpfulVotes</th>\n",
       "    </tr>\n",
       "  </thead>\n",
       "  <tbody>\n",
       "    <tr>\n",
       "      <th>count</th>\n",
       "      <td>67986.0000000</td>\n",
       "      <td>27215.0000000</td>\n",
       "    </tr>\n",
       "    <tr>\n",
       "      <th>mean</th>\n",
       "      <td>3.8079163</td>\n",
       "      <td>8.2296895</td>\n",
       "    </tr>\n",
       "    <tr>\n",
       "      <th>std</th>\n",
       "      <td>1.5829058</td>\n",
       "      <td>31.9548772</td>\n",
       "    </tr>\n",
       "    <tr>\n",
       "      <th>min</th>\n",
       "      <td>1.0000000</td>\n",
       "      <td>1.0000000</td>\n",
       "    </tr>\n",
       "    <tr>\n",
       "      <th>25%</th>\n",
       "      <td>3.0000000</td>\n",
       "      <td>1.0000000</td>\n",
       "    </tr>\n",
       "    <tr>\n",
       "      <th>50%</th>\n",
       "      <td>5.0000000</td>\n",
       "      <td>2.0000000</td>\n",
       "    </tr>\n",
       "    <tr>\n",
       "      <th>75%</th>\n",
       "      <td>5.0000000</td>\n",
       "      <td>5.0000000</td>\n",
       "    </tr>\n",
       "    <tr>\n",
       "      <th>max</th>\n",
       "      <td>5.0000000</td>\n",
       "      <td>990.0000000</td>\n",
       "    </tr>\n",
       "  </tbody>\n",
       "</table>\n",
       "</div>"
      ],
      "text/plain": [
       "             rating  helpfulVotes\n",
       "count 67986.0000000 27215.0000000\n",
       "mean      3.8079163     8.2296895\n",
       "std       1.5829058    31.9548772\n",
       "min       1.0000000     1.0000000\n",
       "25%       3.0000000     1.0000000\n",
       "50%       5.0000000     2.0000000\n",
       "75%       5.0000000     5.0000000\n",
       "max       5.0000000   990.0000000"
      ]
     },
     "execution_count": 13,
     "metadata": {
      "tags": []
     },
     "output_type": "execute_result"
    }
   ],
   "source": [
    "review_df.describe()"
   ]
  },
  {
   "cell_type": "code",
   "execution_count": 14,
   "metadata": {
    "colab": {
     "base_uri": "https://localhost:8080/",
     "height": 97
    },
    "executionInfo": {
     "elapsed": 629,
     "status": "ok",
     "timestamp": 1624797984336,
     "user": {
      "displayName": "Alankar gupta",
      "photoUrl": "",
      "userId": "10573301238297360683"
     },
     "user_tz": -330
    },
    "id": "MDzIgKBbrudb",
    "outputId": "cc9ef215-5c89-493b-ee35-4df483ca1d6e"
   },
   "outputs": [
    {
     "data": {
      "text/html": [
       "<div>\n",
       "<style scoped>\n",
       "    .dataframe tbody tr th:only-of-type {\n",
       "        vertical-align: middle;\n",
       "    }\n",
       "\n",
       "    .dataframe tbody tr th {\n",
       "        vertical-align: top;\n",
       "    }\n",
       "\n",
       "    .dataframe thead th {\n",
       "        text-align: right;\n",
       "    }\n",
       "</style>\n",
       "<table border=\"1\" class=\"dataframe\">\n",
       "  <thead>\n",
       "    <tr style=\"text-align: right;\">\n",
       "      <th></th>\n",
       "      <th>asin</th>\n",
       "      <th>name</th>\n",
       "      <th>rating</th>\n",
       "      <th>date</th>\n",
       "      <th>verified</th>\n",
       "      <th>title</th>\n",
       "      <th>body</th>\n",
       "      <th>helpfulVotes</th>\n",
       "    </tr>\n",
       "  </thead>\n",
       "  <tbody>\n",
       "    <tr>\n",
       "      <th>24467</th>\n",
       "      <td>B01GXAT0CE</td>\n",
       "      <td>Jake</td>\n",
       "      <td>1</td>\n",
       "      <td>May 1, 2017</td>\n",
       "      <td>True</td>\n",
       "      <td>It seems like it has been stolen</td>\n",
       "      <td>The product came in a beaten up box, came lock...</td>\n",
       "      <td>990.0000000</td>\n",
       "    </tr>\n",
       "  </tbody>\n",
       "</table>\n",
       "</div>"
      ],
      "text/plain": [
       "             asin  name  rating         date  verified  \\\n",
       "24467  B01GXAT0CE  Jake       1  May 1, 2017      True   \n",
       "\n",
       "                                  title  \\\n",
       "24467  It seems like it has been stolen   \n",
       "\n",
       "                                                    body  helpfulVotes  \n",
       "24467  The product came in a beaten up box, came lock...   990.0000000  "
      ]
     },
     "execution_count": 14,
     "metadata": {
      "tags": []
     },
     "output_type": "execute_result"
    }
   ],
   "source": [
    "review_df[review_df['helpfulVotes']==990]"
   ]
  },
  {
   "cell_type": "code",
   "execution_count": 15,
   "metadata": {
    "colab": {
     "base_uri": "https://localhost:8080/",
     "height": 173
    },
    "executionInfo": {
     "elapsed": 409,
     "status": "ok",
     "timestamp": 1624797988956,
     "user": {
      "displayName": "Alankar gupta",
      "photoUrl": "",
      "userId": "10573301238297360683"
     },
     "user_tz": -330
    },
    "id": "vO7-fK3dq3YM",
    "outputId": "4dfb4510-50cc-4412-b2a3-6cdeea3cac67"
   },
   "outputs": [
    {
     "data": {
      "text/html": [
       "<div>\n",
       "<style scoped>\n",
       "    .dataframe tbody tr th:only-of-type {\n",
       "        vertical-align: middle;\n",
       "    }\n",
       "\n",
       "    .dataframe tbody tr th {\n",
       "        vertical-align: top;\n",
       "    }\n",
       "\n",
       "    .dataframe thead th {\n",
       "        text-align: right;\n",
       "    }\n",
       "</style>\n",
       "<table border=\"1\" class=\"dataframe\">\n",
       "  <thead>\n",
       "    <tr style=\"text-align: right;\">\n",
       "      <th></th>\n",
       "      <th>asin</th>\n",
       "      <th>name</th>\n",
       "      <th>date</th>\n",
       "      <th>title</th>\n",
       "      <th>body</th>\n",
       "    </tr>\n",
       "  </thead>\n",
       "  <tbody>\n",
       "    <tr>\n",
       "      <th>count</th>\n",
       "      <td>67986</td>\n",
       "      <td>67984</td>\n",
       "      <td>67986</td>\n",
       "      <td>67972</td>\n",
       "      <td>67965</td>\n",
       "    </tr>\n",
       "    <tr>\n",
       "      <th>unique</th>\n",
       "      <td>720</td>\n",
       "      <td>47323</td>\n",
       "      <td>2983</td>\n",
       "      <td>41489</td>\n",
       "      <td>59811</td>\n",
       "    </tr>\n",
       "    <tr>\n",
       "      <th>top</th>\n",
       "      <td>B00F2SKPIM</td>\n",
       "      <td>Amazon Customer</td>\n",
       "      <td>December 11, 2019</td>\n",
       "      <td>Five Stars</td>\n",
       "      <td>Good</td>\n",
       "    </tr>\n",
       "    <tr>\n",
       "      <th>freq</th>\n",
       "      <td>981</td>\n",
       "      <td>6507</td>\n",
       "      <td>234</td>\n",
       "      <td>6043</td>\n",
       "      <td>303</td>\n",
       "    </tr>\n",
       "  </tbody>\n",
       "</table>\n",
       "</div>"
      ],
      "text/plain": [
       "              asin             name               date       title   body\n",
       "count        67986            67984              67986       67972  67965\n",
       "unique         720            47323               2983       41489  59811\n",
       "top     B00F2SKPIM  Amazon Customer  December 11, 2019  Five Stars   Good\n",
       "freq           981             6507                234        6043    303"
      ]
     },
     "execution_count": 15,
     "metadata": {
      "tags": []
     },
     "output_type": "execute_result"
    }
   ],
   "source": [
    "review_df.describe(include='O')"
   ]
  },
  {
   "cell_type": "markdown",
   "metadata": {
    "id": "cSdGfadUyEdU"
   },
   "source": [
    "### 4.3 From the above statistical summary, write inferences like count of unique products, top brand, top title, range of rating, price range, etc"
   ]
  },
  {
   "cell_type": "markdown",
   "metadata": {
    "id": "FdR0vhI1hWGk"
   },
   "source": [
    "We have details of 720items/products.The top brand is Samsung.\n",
    "There are no duplicate asin id\n",
    "Rating ranges from 1 to 5.Mean rating is3.71.\n",
    "Prices ranges from 0 to 999.99 with 235 as mean price value.\n",
    "There is a negative review with 990 helpful votes.\n"
   ]
  },
  {
   "cell_type": "markdown",
   "metadata": {
    "id": "XMv_hXyxJKZK"
   },
   "source": [
    "### 4.4 Analyze the distribution of ratings and other categorical features like brand, etc"
   ]
  },
  {
   "cell_type": "code",
   "execution_count": 16,
   "metadata": {
    "colab": {
     "base_uri": "https://localhost:8080/",
     "height": 387
    },
    "executionInfo": {
     "elapsed": 771,
     "status": "ok",
     "timestamp": 1624797997442,
     "user": {
      "displayName": "Alankar gupta",
      "photoUrl": "",
      "userId": "10573301238297360683"
     },
     "user_tz": -330
    },
    "id": "oEhjSsMcyirD",
    "outputId": "a60c48cc-7ca8-4cb4-deb5-2eb8164b1234"
   },
   "outputs": [
    {
     "data": {
      "text/plain": [
       "<seaborn.axisgrid.FacetGrid at 0x7f1ee0c23410>"
      ]
     },
     "execution_count": 16,
     "metadata": {
      "tags": []
     },
     "output_type": "execute_result"
    },
    {
     "data": {
      "image/png": "[encoded data removed]",
      "text/plain": [
       "<Figure size 360x360 with 1 Axes>"
      ]
     },
     "metadata": {
      "needs_background": "light",
      "tags": []
     },
     "output_type": "display_data"
    }
   ],
   "source": [
    "sns.displot(data=product_dff,x='rating',kind='kde')"
   ]
  },
  {
   "cell_type": "code",
   "execution_count": 17,
   "metadata": {
    "colab": {
     "base_uri": "https://localhost:8080/",
     "height": 297
    },
    "executionInfo": {
     "elapsed": 1023,
     "status": "ok",
     "timestamp": 1624798001315,
     "user": {
      "displayName": "Alankar gupta",
      "photoUrl": "",
      "userId": "10573301238297360683"
     },
     "user_tz": -330
    },
    "id": "ZPUt0M3Kt9lw",
    "outputId": "c9c769f9-ea59-4e60-c169-9d23978675d0"
   },
   "outputs": [
    {
     "data": {
      "text/plain": [
       "<matplotlib.axes._subplots.AxesSubplot at 0x7f1ed5089a50>"
      ]
     },
     "execution_count": 17,
     "metadata": {
      "tags": []
     },
     "output_type": "execute_result"
    },
    {
     "data": {
      "image/png": "[encoded data removed]",
      "text/plain": [
       "<Figure size 432x288 with 1 Axes>"
      ]
     },
     "metadata": {
      "needs_background": "light",
      "tags": []
     },
     "output_type": "display_data"
    }
   ],
   "source": [
    "sns.barplot(data=product_dff,x=product_df.rating,y='brand')"
   ]
  },
  {
   "cell_type": "code",
   "execution_count": 21,
   "metadata": {
    "colab": {
     "base_uri": "https://localhost:8080/",
     "height": 593
    },
    "executionInfo": {
     "elapsed": 761,
     "status": "ok",
     "timestamp": 1624798795783,
     "user": {
      "displayName": "Alankar gupta",
      "photoUrl": "",
      "userId": "10573301238297360683"
     },
     "user_tz": -330
    },
    "id": "Ogp149LTvwGw",
    "outputId": "b976ebe8-1d79-4683-ea13-5c4fdf0192c4"
   },
   "outputs": [
    {
     "data": {
      "text/plain": [
       "<matplotlib.axes._subplots.AxesSubplot at 0x7f1ed4ac65d0>"
      ]
     },
     "execution_count": 21,
     "metadata": {
      "tags": []
     },
     "output_type": "execute_result"
    },
    {
     "data": {
      "image/png": "[encoded data removed]",
      "text/plain": [
       "<Figure size 864x720 with 1 Axes>"
      ]
     },
     "metadata": {
      "tags": []
     },
     "output_type": "display_data"
    }
   ],
   "source": [
    "product_dff['brand'].value_counts().plot(kind='pie', autopct= '%1.0f%%', figsize= (12,10))"
   ]
  },
  {
   "cell_type": "code",
   "execution_count": 18,
   "metadata": {
    "colab": {
     "base_uri": "https://localhost:8080/",
     "height": 320
    },
    "executionInfo": {
     "elapsed": 503,
     "status": "ok",
     "timestamp": 1624798684858,
     "user": {
      "displayName": "Alankar gupta",
      "photoUrl": "",
      "userId": "10573301238297360683"
     },
     "user_tz": -330
    },
    "id": "ZUkmQjzQi63K",
    "outputId": "ef3857a4-1bd5-4308-8fc5-acd0e32d2eb3"
   },
   "outputs": [
    {
     "data": {
      "text/plain": [
       "<matplotlib.axes._subplots.AxesSubplot at 0x7f1ed4ada190>"
      ]
     },
     "execution_count": 18,
     "metadata": {
      "tags": []
     },
     "output_type": "execute_result"
    },
    {
     "data": {
      "image/png": "[encoded data removed]",
      "text/plain": [
       "<Figure size 432x288 with 1 Axes>"
      ]
     },
     "metadata": {
      "needs_background": "light",
      "tags": []
     },
     "output_type": "display_data"
    }
   ],
   "source": [
    "product_dff['brand'].value_counts().plot(kind='bar')"
   ]
  },
  {
   "cell_type": "markdown",
   "metadata": {
    "id": "jwZBGODgyi1a"
   },
   "source": [
    "### 4.5 Display average rating per brand"
   ]
  },
  {
   "cell_type": "code",
   "execution_count": 22,
   "metadata": {
    "colab": {
     "base_uri": "https://localhost:8080/"
    },
    "executionInfo": {
     "elapsed": 508,
     "status": "ok",
     "timestamp": 1624798803517,
     "user": {
      "displayName": "Alankar gupta",
      "photoUrl": "",
      "userId": "10573301238297360683"
     },
     "user_tz": -330
    },
    "id": "OSBBiAv8yscd",
    "outputId": "be50e521-76be-469a-f433-a57bed2bab55"
   },
   "outputs": [
    {
     "data": {
      "text/plain": [
       "brand\n",
       "Xiaomi     4.4152174\n",
       "HUAWEI     4.0218750\n",
       "ASUS       3.8600000\n",
       "Sony       3.7888889\n",
       "Apple      3.7825397\n",
       "Google     3.7710526\n",
       "Motorola   3.6438095\n",
       "Samsung    3.6326590\n",
       "OnePlus    3.5800000\n",
       "Nokia      3.3863636\n",
       "Name: rating, dtype: float64"
      ]
     },
     "execution_count": 22,
     "metadata": {
      "tags": []
     },
     "output_type": "execute_result"
    }
   ],
   "source": [
    "# Calculating average rating per brand\n",
    "\n",
    "rating_per_brand = product_dff.groupby(by='brand')['rating'].mean().sort_values(ascending=False)\n",
    "rating_per_brand"
   ]
  },
  {
   "cell_type": "code",
   "execution_count": 23,
   "metadata": {
    "colab": {
     "base_uri": "https://localhost:8080/",
     "height": 283
    },
    "executionInfo": {
     "elapsed": 7,
     "status": "ok",
     "timestamp": 1624798807073,
     "user": {
      "displayName": "Alankar gupta",
      "photoUrl": "",
      "userId": "10573301238297360683"
     },
     "user_tz": -330
    },
    "id": "XAMlNPuSwuHK",
    "outputId": "0289b975-5cfc-4c55-c420-3a6ddbf4b49a"
   },
   "outputs": [
    {
     "data": {
      "text/plain": [
       "<matplotlib.axes._subplots.AxesSubplot at 0x7f1ed4952a10>"
      ]
     },
     "execution_count": 23,
     "metadata": {
      "tags": []
     },
     "output_type": "execute_result"
    },
    {
     "data": {
      "image/png": "[encoded data removed]",
      "text/plain": [
       "<Figure size 432x288 with 1 Axes>"
      ]
     },
     "metadata": {
      "needs_background": "light",
      "tags": []
     },
     "output_type": "display_data"
    }
   ],
   "source": [
    "product_dff.groupby(by='brand')['rating'].mean().sort_values().plot(kind='barh')"
   ]
  },
  {
   "cell_type": "markdown",
   "metadata": {
    "id": "vUXuEwlgyvB0"
   },
   "source": [
    "### 4.6 Display average price per brand"
   ]
  },
  {
   "cell_type": "code",
   "execution_count": 24,
   "metadata": {
    "colab": {
     "base_uri": "https://localhost:8080/",
     "height": 283
    },
    "executionInfo": {
     "elapsed": 739,
     "status": "ok",
     "timestamp": 1624798812381,
     "user": {
      "displayName": "Alankar gupta",
      "photoUrl": "",
      "userId": "10573301238297360683"
     },
     "user_tz": -330
    },
    "id": "ACgIwVlyy3Pu",
    "outputId": "02629e20-09a3-4bc0-a8bd-2216c6951f4a"
   },
   "outputs": [
    {
     "data": {
      "text/plain": [
       "<matplotlib.axes._subplots.AxesSubplot at 0x7f1ed48c3890>"
      ]
     },
     "execution_count": 24,
     "metadata": {
      "tags": []
     },
     "output_type": "execute_result"
    },
    {
     "data": {
      "image/png": "[encoded data removed]",
      "text/plain": [
       "<Figure size 432x288 with 1 Axes>"
      ]
     },
     "metadata": {
      "needs_background": "light",
      "tags": []
     },
     "output_type": "display_data"
    }
   ],
   "source": [
    "product_dff.groupby(by='brand')['price'].mean().sort_values().plot(kind='barh')"
   ]
  },
  {
   "cell_type": "markdown",
   "metadata": {
    "id": "U0JfwL74y3a-"
   },
   "source": [
    "### 4.7 Display average 'totalReviews' per brand"
   ]
  },
  {
   "cell_type": "code",
   "execution_count": 25,
   "metadata": {
    "colab": {
     "base_uri": "https://localhost:8080/",
     "height": 283
    },
    "executionInfo": {
     "elapsed": 461,
     "status": "ok",
     "timestamp": 1624798816684,
     "user": {
      "displayName": "Alankar gupta",
      "photoUrl": "",
      "userId": "10573301238297360683"
     },
     "user_tz": -330
    },
    "id": "wfzciNxqzBYu",
    "outputId": "aac9fd1b-66c2-4675-9c5f-3ea675cb98cc"
   },
   "outputs": [
    {
     "data": {
      "text/plain": [
       "<matplotlib.axes._subplots.AxesSubplot at 0x7f1ed482ef90>"
      ]
     },
     "execution_count": 25,
     "metadata": {
      "tags": []
     },
     "output_type": "execute_result"
    },
    {
     "data": {
      "image/png": "[encoded data removed]",
      "text/plain": [
       "<Figure size 432x288 with 1 Axes>"
      ]
     },
     "metadata": {
      "needs_background": "light",
      "tags": []
     },
     "output_type": "display_data"
    }
   ],
   "source": [
    "product_dff.groupby(by='brand')['totalReviews'].mean().sort_values().plot(kind='barh')"
   ]
  },
  {
   "cell_type": "markdown",
   "metadata": {
    "id": "x_fxI7OAeDUM"
   },
   "source": [
    "### 4.8 Merge two datasets using 'asin' and check the shape of the final dataset"
   ]
  },
  {
   "cell_type": "code",
   "execution_count": 26,
   "metadata": {
    "colab": {
     "base_uri": "https://localhost:8080/"
    },
    "executionInfo": {
     "elapsed": 430,
     "status": "ok",
     "timestamp": 1624798824433,
     "user": {
      "displayName": "Alankar gupta",
      "photoUrl": "",
      "userId": "10573301238297360683"
     },
     "user_tz": -330
    },
    "id": "svpHfWI9zNAP",
    "outputId": "529542c5-2654-4c50-dde3-56c87c074589"
   },
   "outputs": [
    {
     "data": {
      "text/plain": [
       "(67986, 14)"
      ]
     },
     "execution_count": 26,
     "metadata": {
      "tags": []
     },
     "output_type": "execute_result"
    }
   ],
   "source": [
    "df_final = pd.merge(review_df,product_dff,how='left',left_on='asin',right_on='asin')\n",
    "df_final.shape"
   ]
  },
  {
   "cell_type": "code",
   "execution_count": 27,
   "metadata": {
    "colab": {
     "base_uri": "https://localhost:8080/",
     "height": 734
    },
    "executionInfo": {
     "elapsed": 15,
     "status": "ok",
     "timestamp": 1624798825039,
     "user": {
      "displayName": "Alankar gupta",
      "photoUrl": "",
      "userId": "10573301238297360683"
     },
     "user_tz": -330
    },
    "id": "j8CDMwWkzn_9",
    "outputId": "4c3c4294-74fe-4cbf-a77d-627c0b6394f1"
   },
   "outputs": [
    {
     "data": {
      "text/html": [
       "<div>\n",
       "<style scoped>\n",
       "    .dataframe tbody tr th:only-of-type {\n",
       "        vertical-align: middle;\n",
       "    }\n",
       "\n",
       "    .dataframe tbody tr th {\n",
       "        vertical-align: top;\n",
       "    }\n",
       "\n",
       "    .dataframe thead th {\n",
       "        text-align: right;\n",
       "    }\n",
       "</style>\n",
       "<table border=\"1\" class=\"dataframe\">\n",
       "  <thead>\n",
       "    <tr style=\"text-align: right;\">\n",
       "      <th></th>\n",
       "      <th>asin</th>\n",
       "      <th>name</th>\n",
       "      <th>rating_x</th>\n",
       "      <th>date</th>\n",
       "      <th>verified</th>\n",
       "      <th>title_x</th>\n",
       "      <th>body</th>\n",
       "      <th>helpfulVotes</th>\n",
       "      <th>brand</th>\n",
       "      <th>title_y</th>\n",
       "      <th>rating_y</th>\n",
       "      <th>totalReviews</th>\n",
       "      <th>price</th>\n",
       "      <th>originalPrice</th>\n",
       "    </tr>\n",
       "  </thead>\n",
       "  <tbody>\n",
       "    <tr>\n",
       "      <th>0</th>\n",
       "      <td>B0000SX2UC</td>\n",
       "      <td>Janet</td>\n",
       "      <td>3</td>\n",
       "      <td>October 11, 2005</td>\n",
       "      <td>False</td>\n",
       "      <td>Def not best, but not worst</td>\n",
       "      <td>I had the Samsung A600 for awhile which is abs...</td>\n",
       "      <td>1.0000000</td>\n",
       "      <td>NaN</td>\n",
       "      <td>Dual-Band / Tri-Mode Sprint PCS Phone w/ Voice...</td>\n",
       "      <td>3.0000000</td>\n",
       "      <td>14</td>\n",
       "      <td>0.0000000</td>\n",
       "      <td>0.0000000</td>\n",
       "    </tr>\n",
       "    <tr>\n",
       "      <th>1</th>\n",
       "      <td>B0000SX2UC</td>\n",
       "      <td>Luke Wyatt</td>\n",
       "      <td>1</td>\n",
       "      <td>January 7, 2004</td>\n",
       "      <td>False</td>\n",
       "      <td>Text Messaging Doesn't Work</td>\n",
       "      <td>Due to a software issue between Nokia and Spri...</td>\n",
       "      <td>17.0000000</td>\n",
       "      <td>NaN</td>\n",
       "      <td>Dual-Band / Tri-Mode Sprint PCS Phone w/ Voice...</td>\n",
       "      <td>3.0000000</td>\n",
       "      <td>14</td>\n",
       "      <td>0.0000000</td>\n",
       "      <td>0.0000000</td>\n",
       "    </tr>\n",
       "    <tr>\n",
       "      <th>2</th>\n",
       "      <td>B0000SX2UC</td>\n",
       "      <td>Brooke</td>\n",
       "      <td>5</td>\n",
       "      <td>December 30, 2003</td>\n",
       "      <td>False</td>\n",
       "      <td>Love This Phone</td>\n",
       "      <td>This is a great, reliable phone. I also purcha...</td>\n",
       "      <td>5.0000000</td>\n",
       "      <td>NaN</td>\n",
       "      <td>Dual-Band / Tri-Mode Sprint PCS Phone w/ Voice...</td>\n",
       "      <td>3.0000000</td>\n",
       "      <td>14</td>\n",
       "      <td>0.0000000</td>\n",
       "      <td>0.0000000</td>\n",
       "    </tr>\n",
       "    <tr>\n",
       "      <th>3</th>\n",
       "      <td>B0000SX2UC</td>\n",
       "      <td>amy m. teague</td>\n",
       "      <td>3</td>\n",
       "      <td>March 18, 2004</td>\n",
       "      <td>False</td>\n",
       "      <td>Love the Phone, BUT...!</td>\n",
       "      <td>I love the phone and all, because I really did...</td>\n",
       "      <td>1.0000000</td>\n",
       "      <td>NaN</td>\n",
       "      <td>Dual-Band / Tri-Mode Sprint PCS Phone w/ Voice...</td>\n",
       "      <td>3.0000000</td>\n",
       "      <td>14</td>\n",
       "      <td>0.0000000</td>\n",
       "      <td>0.0000000</td>\n",
       "    </tr>\n",
       "    <tr>\n",
       "      <th>4</th>\n",
       "      <td>B0000SX2UC</td>\n",
       "      <td>tristazbimmer</td>\n",
       "      <td>4</td>\n",
       "      <td>August 28, 2005</td>\n",
       "      <td>False</td>\n",
       "      <td>Great phone service and options, lousy case!</td>\n",
       "      <td>The phone has been great for every purpose it ...</td>\n",
       "      <td>1.0000000</td>\n",
       "      <td>NaN</td>\n",
       "      <td>Dual-Band / Tri-Mode Sprint PCS Phone w/ Voice...</td>\n",
       "      <td>3.0000000</td>\n",
       "      <td>14</td>\n",
       "      <td>0.0000000</td>\n",
       "      <td>0.0000000</td>\n",
       "    </tr>\n",
       "  </tbody>\n",
       "</table>\n",
       "</div>"
      ],
      "text/plain": [
       "         asin           name  rating_x               date  verified  \\\n",
       "0  B0000SX2UC          Janet         3   October 11, 2005     False   \n",
       "1  B0000SX2UC     Luke Wyatt         1    January 7, 2004     False   \n",
       "2  B0000SX2UC         Brooke         5  December 30, 2003     False   \n",
       "3  B0000SX2UC  amy m. teague         3     March 18, 2004     False   \n",
       "4  B0000SX2UC  tristazbimmer         4    August 28, 2005     False   \n",
       "\n",
       "                                        title_x  \\\n",
       "0                   Def not best, but not worst   \n",
       "1                   Text Messaging Doesn't Work   \n",
       "2                               Love This Phone   \n",
       "3                       Love the Phone, BUT...!   \n",
       "4  Great phone service and options, lousy case!   \n",
       "\n",
       "                                                body  helpfulVotes brand  \\\n",
       "0  I had the Samsung A600 for awhile which is abs...     1.0000000   NaN   \n",
       "1  Due to a software issue between Nokia and Spri...    17.0000000   NaN   \n",
       "2  This is a great, reliable phone. I also purcha...     5.0000000   NaN   \n",
       "3  I love the phone and all, because I really did...     1.0000000   NaN   \n",
       "4  The phone has been great for every purpose it ...     1.0000000   NaN   \n",
       "\n",
       "                                             title_y  rating_y  totalReviews  \\\n",
       "0  Dual-Band / Tri-Mode Sprint PCS Phone w/ Voice... 3.0000000            14   \n",
       "1  Dual-Band / Tri-Mode Sprint PCS Phone w/ Voice... 3.0000000            14   \n",
       "2  Dual-Band / Tri-Mode Sprint PCS Phone w/ Voice... 3.0000000            14   \n",
       "3  Dual-Band / Tri-Mode Sprint PCS Phone w/ Voice... 3.0000000            14   \n",
       "4  Dual-Band / Tri-Mode Sprint PCS Phone w/ Voice... 3.0000000            14   \n",
       "\n",
       "      price  originalPrice  \n",
       "0 0.0000000      0.0000000  \n",
       "1 0.0000000      0.0000000  \n",
       "2 0.0000000      0.0000000  \n",
       "3 0.0000000      0.0000000  \n",
       "4 0.0000000      0.0000000  "
      ]
     },
     "execution_count": 27,
     "metadata": {
      "tags": []
     },
     "output_type": "execute_result"
    }
   ],
   "source": [
    "df_final.head(5)"
   ]
  },
  {
   "cell_type": "markdown",
   "metadata": {
    "id": "zdTfwlL7fYpq"
   },
   "source": [
    "### 4.9 Rename important features with appropriate names.\n",
    "Imortant features - \"rating_x\": \"user_rating\", \"title_x\": \"review_title\", \"title_y\": \"item_title\", \"rating_y\": \"overall_rating\""
   ]
  },
  {
   "cell_type": "code",
   "execution_count": 28,
   "metadata": {
    "executionInfo": {
     "elapsed": 702,
     "status": "ok",
     "timestamp": 1624798828452,
     "user": {
      "displayName": "Alankar gupta",
      "photoUrl": "",
      "userId": "10573301238297360683"
     },
     "user_tz": -330
    },
    "id": "KI-6FCkZztXM"
   },
   "outputs": [],
   "source": [
    "df_final.rename(columns={\"rating_x\": \"user_rating\", \"title_x\": \"review_title\",\"title_y\": \"item_title\",\"rating_y\":\"overall_rating\"},inplace=True)"
   ]
  },
  {
   "cell_type": "code",
   "execution_count": 29,
   "metadata": {
    "colab": {
     "base_uri": "https://localhost:8080/",
     "height": 318
    },
    "executionInfo": {
     "elapsed": 4,
     "status": "ok",
     "timestamp": 1624798828453,
     "user": {
      "displayName": "Alankar gupta",
      "photoUrl": "",
      "userId": "10573301238297360683"
     },
     "user_tz": -330
    },
    "id": "Ji0bPhvS2LJS",
    "outputId": "d8355d92-238c-4b8a-c19e-bd1800578bc7"
   },
   "outputs": [
    {
     "data": {
      "text/html": [
       "<div>\n",
       "<style scoped>\n",
       "    .dataframe tbody tr th:only-of-type {\n",
       "        vertical-align: middle;\n",
       "    }\n",
       "\n",
       "    .dataframe tbody tr th {\n",
       "        vertical-align: top;\n",
       "    }\n",
       "\n",
       "    .dataframe thead th {\n",
       "        text-align: right;\n",
       "    }\n",
       "</style>\n",
       "<table border=\"1\" class=\"dataframe\">\n",
       "  <thead>\n",
       "    <tr style=\"text-align: right;\">\n",
       "      <th></th>\n",
       "      <th>asin</th>\n",
       "      <th>name</th>\n",
       "      <th>user_rating</th>\n",
       "      <th>date</th>\n",
       "      <th>verified</th>\n",
       "      <th>review_title</th>\n",
       "      <th>body</th>\n",
       "      <th>helpfulVotes</th>\n",
       "      <th>brand</th>\n",
       "      <th>item_title</th>\n",
       "      <th>overall_rating</th>\n",
       "      <th>totalReviews</th>\n",
       "      <th>price</th>\n",
       "      <th>originalPrice</th>\n",
       "    </tr>\n",
       "  </thead>\n",
       "  <tbody>\n",
       "    <tr>\n",
       "      <th>0</th>\n",
       "      <td>B0000SX2UC</td>\n",
       "      <td>Janet</td>\n",
       "      <td>3</td>\n",
       "      <td>October 11, 2005</td>\n",
       "      <td>False</td>\n",
       "      <td>Def not best, but not worst</td>\n",
       "      <td>I had the Samsung A600 for awhile which is abs...</td>\n",
       "      <td>1.0000000</td>\n",
       "      <td>NaN</td>\n",
       "      <td>Dual-Band / Tri-Mode Sprint PCS Phone w/ Voice...</td>\n",
       "      <td>3.0000000</td>\n",
       "      <td>14</td>\n",
       "      <td>0.0000000</td>\n",
       "      <td>0.0000000</td>\n",
       "    </tr>\n",
       "    <tr>\n",
       "      <th>1</th>\n",
       "      <td>B0000SX2UC</td>\n",
       "      <td>Luke Wyatt</td>\n",
       "      <td>1</td>\n",
       "      <td>January 7, 2004</td>\n",
       "      <td>False</td>\n",
       "      <td>Text Messaging Doesn't Work</td>\n",
       "      <td>Due to a software issue between Nokia and Spri...</td>\n",
       "      <td>17.0000000</td>\n",
       "      <td>NaN</td>\n",
       "      <td>Dual-Band / Tri-Mode Sprint PCS Phone w/ Voice...</td>\n",
       "      <td>3.0000000</td>\n",
       "      <td>14</td>\n",
       "      <td>0.0000000</td>\n",
       "      <td>0.0000000</td>\n",
       "    </tr>\n",
       "  </tbody>\n",
       "</table>\n",
       "</div>"
      ],
      "text/plain": [
       "         asin        name  user_rating              date  verified  \\\n",
       "0  B0000SX2UC       Janet            3  October 11, 2005     False   \n",
       "1  B0000SX2UC  Luke Wyatt            1   January 7, 2004     False   \n",
       "\n",
       "                  review_title  \\\n",
       "0  Def not best, but not worst   \n",
       "1  Text Messaging Doesn't Work   \n",
       "\n",
       "                                                body  helpfulVotes brand  \\\n",
       "0  I had the Samsung A600 for awhile which is abs...     1.0000000   NaN   \n",
       "1  Due to a software issue between Nokia and Spri...    17.0000000   NaN   \n",
       "\n",
       "                                          item_title  overall_rating  \\\n",
       "0  Dual-Band / Tri-Mode Sprint PCS Phone w/ Voice...       3.0000000   \n",
       "1  Dual-Band / Tri-Mode Sprint PCS Phone w/ Voice...       3.0000000   \n",
       "\n",
       "   totalReviews     price  originalPrice  \n",
       "0            14 0.0000000      0.0000000  \n",
       "1            14 0.0000000      0.0000000  "
      ]
     },
     "execution_count": 29,
     "metadata": {
      "tags": []
     },
     "output_type": "execute_result"
    }
   ],
   "source": [
    "df_final.head(2)"
   ]
  },
  {
   "cell_type": "markdown",
   "metadata": {
    "id": "hNHEElHszthc"
   },
   "source": [
    "### 4.10 Select rows having verified reviews and check the shape of the final dataset"
   ]
  },
  {
   "cell_type": "code",
   "execution_count": 30,
   "metadata": {
    "executionInfo": {
     "elapsed": 419,
     "status": "ok",
     "timestamp": 1624798835274,
     "user": {
      "displayName": "Alankar gupta",
      "photoUrl": "",
      "userId": "10573301238297360683"
     },
     "user_tz": -330
    },
    "id": "Jyav9_Zoz-rT"
   },
   "outputs": [],
   "source": [
    "df_final=df_final[df_final.verified==True]"
   ]
  },
  {
   "cell_type": "code",
   "execution_count": 31,
   "metadata": {
    "colab": {
     "base_uri": "https://localhost:8080/"
    },
    "executionInfo": {
     "elapsed": 13,
     "status": "ok",
     "timestamp": 1624798835814,
     "user": {
      "displayName": "Alankar gupta",
      "photoUrl": "",
      "userId": "10573301238297360683"
     },
     "user_tz": -330
    },
    "id": "Dl117xIj2gyl",
    "outputId": "f1bbed9b-4a29-486d-b23b-5fdd9edfb9dd"
   },
   "outputs": [
    {
     "data": {
      "text/plain": [
       "(61225, 14)"
      ]
     },
     "execution_count": 31,
     "metadata": {
      "tags": []
     },
     "output_type": "execute_result"
    }
   ],
   "source": [
    "df_final.shape"
   ]
  },
  {
   "cell_type": "markdown",
   "metadata": {
    "id": "EpKusPjdz-2q"
   },
   "source": [
    "### 4.11 Check the number of reviews for various brands and report the brand that have highest number of reviews"
   ]
  },
  {
   "cell_type": "code",
   "execution_count": 32,
   "metadata": {
    "colab": {
     "base_uri": "https://localhost:8080/",
     "height": 283
    },
    "executionInfo": {
     "elapsed": 19,
     "status": "ok",
     "timestamp": 1624798840144,
     "user": {
      "displayName": "Alankar gupta",
      "photoUrl": "",
      "userId": "10573301238297360683"
     },
     "user_tz": -330
    },
    "id": "5tux6vwr0JDb",
    "outputId": "884762b3-7495-40d9-d1df-52192a15747e"
   },
   "outputs": [
    {
     "data": {
      "text/plain": [
       "<matplotlib.axes._subplots.AxesSubplot at 0x7f1ed47788d0>"
      ]
     },
     "execution_count": 32,
     "metadata": {
      "tags": []
     },
     "output_type": "execute_result"
    },
    {
     "data": {
      "image/png": "[encoded data removed]",
      "text/plain": [
       "<Figure size 432x288 with 1 Axes>"
      ]
     },
     "metadata": {
      "needs_background": "light",
      "tags": []
     },
     "output_type": "display_data"
    }
   ],
   "source": [
    "df_final.groupby(by='brand')['totalReviews'].count().sort_values().plot(kind='barh')"
   ]
  },
  {
   "cell_type": "markdown",
   "metadata": {
    "id": "gPGjMFE-0Q5k"
   },
   "source": [
    "### 4.12 Drop irrelevant columns and keep important features like 'brand','body','price','user_rating','review_title' for further analysis"
   ]
  },
  {
   "cell_type": "code",
   "execution_count": 35,
   "metadata": {
    "colab": {
     "base_uri": "https://localhost:8080/",
     "height": 111
    },
    "executionInfo": {
     "elapsed": 439,
     "status": "ok",
     "timestamp": 1624798903553,
     "user": {
      "displayName": "Alankar gupta",
      "photoUrl": "",
      "userId": "10573301238297360683"
     },
     "user_tz": -330
    },
    "id": "OqkmvWlR64Ub",
    "outputId": "db9fd5ad-c370-4ec2-9cb6-5b2b8ea7b7c1"
   },
   "outputs": [
    {
     "data": {
      "text/html": [
       "<div>\n",
       "<style scoped>\n",
       "    .dataframe tbody tr th:only-of-type {\n",
       "        vertical-align: middle;\n",
       "    }\n",
       "\n",
       "    .dataframe tbody tr th {\n",
       "        vertical-align: top;\n",
       "    }\n",
       "\n",
       "    .dataframe thead th {\n",
       "        text-align: right;\n",
       "    }\n",
       "</style>\n",
       "<table border=\"1\" class=\"dataframe\">\n",
       "  <thead>\n",
       "    <tr style=\"text-align: right;\">\n",
       "      <th></th>\n",
       "      <th>brand</th>\n",
       "      <th>body</th>\n",
       "      <th>price</th>\n",
       "      <th>user_rating</th>\n",
       "      <th>review_title</th>\n",
       "    </tr>\n",
       "  </thead>\n",
       "  <tbody>\n",
       "    <tr>\n",
       "      <th>14</th>\n",
       "      <td>Motorola</td>\n",
       "      <td>DON'T BUY OUT OF SERVICE</td>\n",
       "      <td>49.9500000</td>\n",
       "      <td>1</td>\n",
       "      <td>Stupid phone</td>\n",
       "    </tr>\n",
       "    <tr>\n",
       "      <th>17</th>\n",
       "      <td>Motorola</td>\n",
       "      <td>1 star because the phones locked so I have to ...</td>\n",
       "      <td>49.9500000</td>\n",
       "      <td>1</td>\n",
       "      <td>Phones locked</td>\n",
       "    </tr>\n",
       "  </tbody>\n",
       "</table>\n",
       "</div>"
      ],
      "text/plain": [
       "       brand                                               body      price  \\\n",
       "14  Motorola                           DON'T BUY OUT OF SERVICE 49.9500000   \n",
       "17  Motorola  1 star because the phones locked so I have to ... 49.9500000   \n",
       "\n",
       "    user_rating   review_title  \n",
       "14            1   Stupid phone  \n",
       "17            1  Phones locked  "
      ]
     },
     "execution_count": 35,
     "metadata": {
      "tags": []
     },
     "output_type": "execute_result"
    }
   ],
   "source": [
    "dff= df_final[['brand','body','price','user_rating','review_title']]\n",
    "dff.head(2)"
   ]
  },
  {
   "cell_type": "markdown",
   "metadata": {
    "id": "Gzo_rVT60fDf"
   },
   "source": [
    "### 4.13 Perform univariate analysis. Check distribution of price, user_rating"
   ]
  },
  {
   "cell_type": "code",
   "execution_count": 36,
   "metadata": {
    "colab": {
     "base_uri": "https://localhost:8080/",
     "height": 387
    },
    "executionInfo": {
     "elapsed": 1663,
     "status": "ok",
     "timestamp": 1624798917103,
     "user": {
      "displayName": "Alankar gupta",
      "photoUrl": "",
      "userId": "10573301238297360683"
     },
     "user_tz": -330
    },
    "id": "F3vzILxZ0t0L",
    "outputId": "b3bda68e-aa65-4b61-ecad-b7406017445a"
   },
   "outputs": [
    {
     "data": {
      "text/plain": [
       "<seaborn.axisgrid.FacetGrid at 0x7f1ed47709d0>"
      ]
     },
     "execution_count": 36,
     "metadata": {
      "tags": []
     },
     "output_type": "execute_result"
    },
    {
     "data": {
      "image/png": "[encoded data removed]",
      "text/plain": [
       "<Figure size 360x360 with 1 Axes>"
      ]
     },
     "metadata": {
      "needs_background": "light",
      "tags": []
     },
     "output_type": "display_data"
    }
   ],
   "source": [
    "sns.displot(dff['user_rating'],kind='kde')"
   ]
  },
  {
   "cell_type": "code",
   "execution_count": 37,
   "metadata": {
    "colab": {
     "base_uri": "https://localhost:8080/",
     "height": 298
    },
    "executionInfo": {
     "elapsed": 515,
     "status": "ok",
     "timestamp": 1624798918741,
     "user": {
      "displayName": "Alankar gupta",
      "photoUrl": "",
      "userId": "10573301238297360683"
     },
     "user_tz": -330
    },
    "id": "y1-lqDJu7R-b",
    "outputId": "a5932df4-6d4a-480c-f800-5110d1bf8e91"
   },
   "outputs": [
    {
     "data": {
      "text/plain": [
       "<matplotlib.axes._subplots.AxesSubplot at 0x7f1ed4688110>"
      ]
     },
     "execution_count": 37,
     "metadata": {
      "tags": []
     },
     "output_type": "execute_result"
    },
    {
     "data": {
      "image/png": "[encoded data removed]",
      "text/plain": [
       "<Figure size 432x288 with 1 Axes>"
      ]
     },
     "metadata": {
      "needs_background": "light",
      "tags": []
     },
     "output_type": "display_data"
    }
   ],
   "source": [
    "sns.countplot(dff['user_rating'])"
   ]
  },
  {
   "cell_type": "markdown",
   "metadata": {
    "id": "x0Y_kE9T0uAf"
   },
   "source": [
    "### 4.14 Create a new column called \"sentiment\". It should have value as 1 (positive) if the user_Rating is greater than 3, value as 0 (negative) if the user_Rating <= 3"
   ]
  },
  {
   "cell_type": "code",
   "execution_count": 38,
   "metadata": {
    "executionInfo": {
     "elapsed": 533,
     "status": "ok",
     "timestamp": 1624798925066,
     "user": {
      "displayName": "Alankar gupta",
      "photoUrl": "",
      "userId": "10573301238297360683"
     },
     "user_tz": -330
    },
    "id": "jGon-2xU1Ujb"
   },
   "outputs": [],
   "source": [
    "dff['sentiment']=dff['user_rating'].apply(lambda x: 1 if x>3 else 0)"
   ]
  },
  {
   "cell_type": "markdown",
   "metadata": {
    "id": "K4rxSZWp1VAb"
   },
   "source": [
    "### 4.15 Check frequency distribution of the 'sentiment'"
   ]
  },
  {
   "cell_type": "code",
   "execution_count": 39,
   "metadata": {
    "colab": {
     "base_uri": "https://localhost:8080/"
    },
    "executionInfo": {
     "elapsed": 2,
     "status": "ok",
     "timestamp": 1624798927402,
     "user": {
      "displayName": "Alankar gupta",
      "photoUrl": "",
      "userId": "10573301238297360683"
     },
     "user_tz": -330
    },
    "id": "yt3gH7Iz1dVP",
    "outputId": "066740ae-1fa1-4cc0-a1ea-86960b53e719"
   },
   "outputs": [
    {
     "data": {
      "text/plain": [
       "1    42939\n",
       "0    18286\n",
       "Name: sentiment, dtype: int64"
      ]
     },
     "execution_count": 39,
     "metadata": {
      "tags": []
     },
     "output_type": "execute_result"
    }
   ],
   "source": [
    "dff['sentiment'].value_counts()"
   ]
  },
  {
   "cell_type": "code",
   "execution_count": 40,
   "metadata": {
    "colab": {
     "base_uri": "https://localhost:8080/",
     "height": 280
    },
    "executionInfo": {
     "elapsed": 511,
     "status": "ok",
     "timestamp": 1624798931123,
     "user": {
      "displayName": "Alankar gupta",
      "photoUrl": "",
      "userId": "10573301238297360683"
     },
     "user_tz": -330
    },
    "id": "mq1qMiNF9wbl",
    "outputId": "c84d17b4-14ef-4a98-cb52-01929b69f4b3"
   },
   "outputs": [
    {
     "data": {
      "text/plain": [
       "<matplotlib.axes._subplots.AxesSubplot at 0x7f1ed3aed190>"
      ]
     },
     "execution_count": 40,
     "metadata": {
      "tags": []
     },
     "output_type": "execute_result"
    },
    {
     "data": {
      "image/png": "[encoded data removed]",
      "text/plain": [
       "<Figure size 432x288 with 1 Axes>"
      ]
     },
     "metadata": {
      "needs_background": "light",
      "tags": []
     },
     "output_type": "display_data"
    }
   ],
   "source": [
    "dff['sentiment'].value_counts().plot(kind='bar')"
   ]
  },
  {
   "cell_type": "markdown",
   "metadata": {
    "id": "rK0KMghP1ddb"
   },
   "source": [
    "### 4.16 Perform bivariate analysis. Check correlation/crosstab between features and write your inferences."
   ]
  },
  {
   "cell_type": "code",
   "execution_count": 41,
   "metadata": {
    "colab": {
     "base_uri": "https://localhost:8080/",
     "height": 390
    },
    "executionInfo": {
     "elapsed": 470,
     "status": "ok",
     "timestamp": 1624798934100,
     "user": {
      "displayName": "Alankar gupta",
      "photoUrl": "",
      "userId": "10573301238297360683"
     },
     "user_tz": -330
    },
    "id": "scAV4fRg1nX0",
    "outputId": "85de60f6-0c02-4932-f970-3184c3338401"
   },
   "outputs": [
    {
     "data": {
      "text/html": [
       "<div>\n",
       "<style scoped>\n",
       "    .dataframe tbody tr th:only-of-type {\n",
       "        vertical-align: middle;\n",
       "    }\n",
       "\n",
       "    .dataframe tbody tr th {\n",
       "        vertical-align: top;\n",
       "    }\n",
       "\n",
       "    .dataframe thead th {\n",
       "        text-align: right;\n",
       "    }\n",
       "</style>\n",
       "<table border=\"1\" class=\"dataframe\">\n",
       "  <thead>\n",
       "    <tr style=\"text-align: right;\">\n",
       "      <th>sentiment</th>\n",
       "      <th>0</th>\n",
       "      <th>1</th>\n",
       "    </tr>\n",
       "    <tr>\n",
       "      <th>brand</th>\n",
       "      <th></th>\n",
       "      <th></th>\n",
       "    </tr>\n",
       "  </thead>\n",
       "  <tbody>\n",
       "    <tr>\n",
       "      <th>ASUS</th>\n",
       "      <td>0.3349515</td>\n",
       "      <td>0.6650485</td>\n",
       "    </tr>\n",
       "    <tr>\n",
       "      <th>Apple</th>\n",
       "      <td>0.3336751</td>\n",
       "      <td>0.6663249</td>\n",
       "    </tr>\n",
       "    <tr>\n",
       "      <th>Google</th>\n",
       "      <td>0.3196333</td>\n",
       "      <td>0.6803667</td>\n",
       "    </tr>\n",
       "    <tr>\n",
       "      <th>HUAWEI</th>\n",
       "      <td>0.1812779</td>\n",
       "      <td>0.8187221</td>\n",
       "    </tr>\n",
       "    <tr>\n",
       "      <th>Motorola</th>\n",
       "      <td>0.2877884</td>\n",
       "      <td>0.7122116</td>\n",
       "    </tr>\n",
       "    <tr>\n",
       "      <th>Nokia</th>\n",
       "      <td>0.3903239</td>\n",
       "      <td>0.6096761</td>\n",
       "    </tr>\n",
       "    <tr>\n",
       "      <th>OnePlus</th>\n",
       "      <td>0.1480263</td>\n",
       "      <td>0.8519737</td>\n",
       "    </tr>\n",
       "    <tr>\n",
       "      <th>Samsung</th>\n",
       "      <td>0.3062218</td>\n",
       "      <td>0.6937782</td>\n",
       "    </tr>\n",
       "    <tr>\n",
       "      <th>Sony</th>\n",
       "      <td>0.3266444</td>\n",
       "      <td>0.6733556</td>\n",
       "    </tr>\n",
       "    <tr>\n",
       "      <th>Xiaomi</th>\n",
       "      <td>0.1492750</td>\n",
       "      <td>0.8507250</td>\n",
       "    </tr>\n",
       "  </tbody>\n",
       "</table>\n",
       "</div>"
      ],
      "text/plain": [
       "sentiment         0         1\n",
       "brand                        \n",
       "ASUS      0.3349515 0.6650485\n",
       "Apple     0.3336751 0.6663249\n",
       "Google    0.3196333 0.6803667\n",
       "HUAWEI    0.1812779 0.8187221\n",
       "Motorola  0.2877884 0.7122116\n",
       "Nokia     0.3903239 0.6096761\n",
       "OnePlus   0.1480263 0.8519737\n",
       "Samsung   0.3062218 0.6937782\n",
       "Sony      0.3266444 0.6733556\n",
       "Xiaomi    0.1492750 0.8507250"
      ]
     },
     "execution_count": 41,
     "metadata": {
      "tags": []
     },
     "output_type": "execute_result"
    }
   ],
   "source": [
    "pd.crosstab(dff['brand'], dff['sentiment']).apply(lambda r: r/r.sum(),axis=1)"
   ]
  },
  {
   "cell_type": "code",
   "execution_count": 42,
   "metadata": {
    "colab": {
     "base_uri": "https://localhost:8080/",
     "height": 297
    },
    "executionInfo": {
     "elapsed": 478,
     "status": "ok",
     "timestamp": 1624798938532,
     "user": {
      "displayName": "Alankar gupta",
      "photoUrl": "",
      "userId": "10573301238297360683"
     },
     "user_tz": -330
    },
    "id": "Hko6GLIsDB7r",
    "outputId": "b93d3b83-b379-420f-8752-d9878b37362b"
   },
   "outputs": [
    {
     "data": {
      "text/plain": [
       "<matplotlib.axes._subplots.AxesSubplot at 0x7f1ed4a7e250>"
      ]
     },
     "execution_count": 42,
     "metadata": {
      "tags": []
     },
     "output_type": "execute_result"
    },
    {
     "data": {
      "image/png": "[encoded data removed]",
      "text/plain": [
       "<Figure size 432x288 with 1 Axes>"
      ]
     },
     "metadata": {
      "needs_background": "light",
      "tags": []
     },
     "output_type": "display_data"
    }
   ],
   "source": [
    "sns.boxplot(x=dff['sentiment'],y=dff['price'])"
   ]
  },
  {
   "cell_type": "markdown",
   "metadata": {
    "id": "2Nzj7ZXVLakx"
   },
   "source": [
    "## 5. Text Preprocessing and Vectorization"
   ]
  },
  {
   "cell_type": "markdown",
   "metadata": {
    "id": "ZbC_RPndnlf3"
   },
   "source": [
    "We will analyze the 'body' and 'review_title' to gain more understanding.\n",
    "\n",
    "We will peform the below tasks\n",
    "\n",
    "- Convert the text into lowercase\n",
    "- Remove punctuation\n",
    "- Remove stopwords (English, from nltk corpus)\n",
    "- Remove other keywords like \"phone\" and brand name"
   ]
  },
  {
   "cell_type": "markdown",
   "metadata": {
    "id": "XnhMQsxz2DJH"
   },
   "source": [
    "### 5.1 Change the datatype of the 'body' column to 'str' and convert it into lowercase. Print any two samples and check the output."
   ]
  },
  {
   "cell_type": "code",
   "execution_count": 43,
   "metadata": {
    "colab": {
     "base_uri": "https://localhost:8080/"
    },
    "executionInfo": {
     "elapsed": 706,
     "status": "ok",
     "timestamp": 1624798944005,
     "user": {
      "displayName": "Alankar gupta",
      "photoUrl": "",
      "userId": "10573301238297360683"
     },
     "user_tz": -330
    },
    "id": "1DbTf2yc2VOQ",
    "outputId": "29f8569d-0647-4f22-8f54-b8a8b8f5e05a"
   },
   "outputs": [
    {
     "data": {
      "text/plain": [
       "14    DON'T BUY OUT OF SERVICE\n",
       "Name: body, dtype: object"
      ]
     },
     "execution_count": 43,
     "metadata": {
      "tags": []
     },
     "output_type": "execute_result"
    }
   ],
   "source": [
    "dff['body'].head(1)"
   ]
  },
  {
   "cell_type": "code",
   "execution_count": 44,
   "metadata": {
    "colab": {
     "base_uri": "https://localhost:8080/",
     "height": 38
    },
    "executionInfo": {
     "elapsed": 5,
     "status": "ok",
     "timestamp": 1624798946856,
     "user": {
      "displayName": "Alankar gupta",
      "photoUrl": "",
      "userId": "10573301238297360683"
     },
     "user_tz": -330
    },
    "id": "vtfe7G8xIBk3",
    "outputId": "8c4ae4c3-3021-41fe-fe87-c5f94378644b"
   },
   "outputs": [
    {
     "data": {
      "application/vnd.google.colaboratory.intrinsic+json": {
       "type": "string"
      },
      "text/plain": [
       "\"DON'T BUY OUT OF SERVICE\""
      ]
     },
     "execution_count": 44,
     "metadata": {
      "tags": []
     },
     "output_type": "execute_result"
    }
   ],
   "source": [
    "dff.iloc[0,1]"
   ]
  },
  {
   "cell_type": "code",
   "execution_count": 45,
   "metadata": {
    "colab": {
     "base_uri": "https://localhost:8080/",
     "height": 38
    },
    "executionInfo": {
     "elapsed": 12,
     "status": "ok",
     "timestamp": 1624798947615,
     "user": {
      "displayName": "Alankar gupta",
      "photoUrl": "",
      "userId": "10573301238297360683"
     },
     "user_tz": -330
    },
    "id": "hJSGPyHxIGgN",
    "outputId": "03b23b72-1e0c-40f8-9413-abe11dfdfcf0"
   },
   "outputs": [
    {
     "data": {
      "application/vnd.google.colaboratory.intrinsic+json": {
       "type": "string"
      },
      "text/plain": [
       "\"DON'T BUY OUT OF SERVICE\""
      ]
     },
     "execution_count": 45,
     "metadata": {
      "tags": []
     },
     "output_type": "execute_result"
    }
   ],
   "source": [
    "dff.loc[14,'body']"
   ]
  },
  {
   "cell_type": "code",
   "execution_count": 46,
   "metadata": {
    "colab": {
     "base_uri": "https://localhost:8080/"
    },
    "executionInfo": {
     "elapsed": 3,
     "status": "ok",
     "timestamp": 1624798948829,
     "user": {
      "displayName": "Alankar gupta",
      "photoUrl": "",
      "userId": "10573301238297360683"
     },
     "user_tz": -330
    },
    "id": "sMTAoRHWIrx6",
    "outputId": "f26f513e-8a7d-4c43-87d1-62e574deb0b6"
   },
   "outputs": [
    {
     "data": {
      "text/plain": [
       "14                             don't buy out of service\n",
       "17    1 star because the phones locked so i have to ...\n",
       "18    the product has been very good. i had used thi...\n",
       "21    i bought this phone to replace an lg phone tha...\n",
       "22    i purchased this phone for my at&t phone repla...\n",
       "Name: keywords, dtype: object"
      ]
     },
     "execution_count": 46,
     "metadata": {
      "tags": []
     },
     "output_type": "execute_result"
    }
   ],
   "source": [
    "dff['keywords']=dff['body'].str.lower()\n",
    "dff['keywords'].head()"
   ]
  },
  {
   "cell_type": "code",
   "execution_count": 47,
   "metadata": {
    "executionInfo": {
     "elapsed": 431,
     "status": "ok",
     "timestamp": 1624798951893,
     "user": {
      "displayName": "Alankar gupta",
      "photoUrl": "",
      "userId": "10573301238297360683"
     },
     "user_tz": -330
    },
    "id": "k0d_jSwQMd2a"
   },
   "outputs": [],
   "source": [
    "dff['keywords']=dff['keywords'].astype('string')"
   ]
  },
  {
   "cell_type": "code",
   "execution_count": 48,
   "metadata": {
    "colab": {
     "base_uri": "https://localhost:8080/"
    },
    "executionInfo": {
     "elapsed": 3,
     "status": "ok",
     "timestamp": 1624798952325,
     "user": {
      "displayName": "Alankar gupta",
      "photoUrl": "",
      "userId": "10573301238297360683"
     },
     "user_tz": -330
    },
    "id": "_KZD8Q-_Vl0A",
    "outputId": "e0d112bf-ba1c-400e-b048-2c39d0453c58"
   },
   "outputs": [
    {
     "name": "stdout",
     "output_type": "stream",
     "text": [
      "<class 'pandas.core.frame.DataFrame'>\n",
      "Int64Index: 61225 entries, 14 to 67984\n",
      "Data columns (total 7 columns):\n",
      " #   Column        Non-Null Count  Dtype  \n",
      "---  ------        --------------  -----  \n",
      " 0   brand         61078 non-null  object \n",
      " 1   body          61207 non-null  object \n",
      " 2   price         61225 non-null  float64\n",
      " 3   user_rating   61225 non-null  int64  \n",
      " 4   review_title  61211 non-null  object \n",
      " 5   sentiment     61225 non-null  int64  \n",
      " 6   keywords      61207 non-null  string \n",
      "dtypes: float64(1), int64(2), object(3), string(1)\n",
      "memory usage: 6.2+ MB\n"
     ]
    }
   ],
   "source": [
    "dff.info()"
   ]
  },
  {
   "cell_type": "markdown",
   "metadata": {
    "id": "lsppV0X52VXf"
   },
   "source": [
    "### 5.2 Remove punctuations from the lowercased 'body' column and display at least two samples."
   ]
  },
  {
   "cell_type": "code",
   "execution_count": 49,
   "metadata": {
    "executionInfo": {
     "elapsed": 425,
     "status": "ok",
     "timestamp": 1624798959678,
     "user": {
      "displayName": "Alankar gupta",
      "photoUrl": "",
      "userId": "10573301238297360683"
     },
     "user_tz": -330
    },
    "id": "gSFlw0RfMdDt"
   },
   "outputs": [],
   "source": [
    "dff['keywords']=dff['keywords'].str.replace('[^\\w\\s]','')"
   ]
  },
  {
   "cell_type": "code",
   "execution_count": 50,
   "metadata": {
    "colab": {
     "base_uri": "https://localhost:8080/"
    },
    "executionInfo": {
     "elapsed": 9,
     "status": "ok",
     "timestamp": 1624798960177,
     "user": {
      "displayName": "Alankar gupta",
      "photoUrl": "",
      "userId": "10573301238297360683"
     },
     "user_tz": -330
    },
    "id": "EWtAILyPPlli",
    "outputId": "fd9c3d37-19d5-40b5-a85e-d762b5de90f0"
   },
   "outputs": [
    {
     "data": {
      "text/plain": [
       "14                              dont buy out of service\n",
       "17    1 star because the phones locked so i have to ...\n",
       "18    the product has been very good i had used this...\n",
       "21    i bought this phone to replace an lg phone tha...\n",
       "22    i purchased this phone for my att phone replac...\n",
       "Name: keywords, dtype: string"
      ]
     },
     "execution_count": 50,
     "metadata": {
      "tags": []
     },
     "output_type": "execute_result"
    }
   ],
   "source": [
    "dff['keywords'].head()"
   ]
  },
  {
   "cell_type": "markdown",
   "metadata": {
    "id": "8Zk7ja6A2owN"
   },
   "source": [
    "### 5.3 Remove stop words from the above pre-processed 'body' column and display at least two samples."
   ]
  },
  {
   "cell_type": "code",
   "execution_count": 51,
   "metadata": {
    "colab": {
     "base_uri": "https://localhost:8080/"
    },
    "executionInfo": {
     "elapsed": 698,
     "status": "ok",
     "timestamp": 1624798968200,
     "user": {
      "displayName": "Alankar gupta",
      "photoUrl": "",
      "userId": "10573301238297360683"
     },
     "user_tz": -330
    },
    "id": "1d-DhX_e2yQ-",
    "outputId": "e6917c79-8fcd-41a6-faf4-639ba8d4dc98"
   },
   "outputs": [
    {
     "name": "stdout",
     "output_type": "stream",
     "text": [
      "[nltk_data] Downloading package stopwords to /root/nltk_data...\n",
      "[nltk_data]   Unzipping corpora/stopwords.zip.\n"
     ]
    },
    {
     "data": {
      "text/plain": [
       "True"
      ]
     },
     "execution_count": 51,
     "metadata": {
      "tags": []
     },
     "output_type": "execute_result"
    }
   ],
   "source": [
    "import nltk\n",
    "from nltk.corpus import stopwords\n",
    "nltk.download('stopwords')"
   ]
  },
  {
   "cell_type": "code",
   "execution_count": 52,
   "metadata": {
    "executionInfo": {
     "elapsed": 681,
     "status": "ok",
     "timestamp": 1624798968878,
     "user": {
      "displayName": "Alankar gupta",
      "photoUrl": "",
      "userId": "10573301238297360683"
     },
     "user_tz": -330
    },
    "id": "r83Q0OI7Q5KP"
   },
   "outputs": [],
   "source": [
    "stop_words= set(stopwords.words('english'))"
   ]
  },
  {
   "cell_type": "code",
   "execution_count": 53,
   "metadata": {
    "colab": {
     "base_uri": "https://localhost:8080/"
    },
    "executionInfo": {
     "elapsed": 18,
     "status": "ok",
     "timestamp": 1624798969612,
     "user": {
      "displayName": "Alankar gupta",
      "photoUrl": "",
      "userId": "10573301238297360683"
     },
     "user_tz": -330
    },
    "id": "SvkrG40vRi9N",
    "outputId": "9eafc9b8-4a4b-4da5-be46-0efc0f8d596f"
   },
   "outputs": [
    {
     "data": {
      "text/plain": [
       "{'a',\n",
       " 'about',\n",
       " 'above',\n",
       " 'after',\n",
       " 'again',\n",
       " 'against',\n",
       " 'ain',\n",
       " 'all',\n",
       " 'am',\n",
       " 'an',\n",
       " 'and',\n",
       " 'any',\n",
       " 'are',\n",
       " 'aren',\n",
       " \"aren't\",\n",
       " 'as',\n",
       " 'at',\n",
       " 'be',\n",
       " 'because',\n",
       " 'been',\n",
       " 'before',\n",
       " 'being',\n",
       " 'below',\n",
       " 'between',\n",
       " 'both',\n",
       " 'but',\n",
       " 'by',\n",
       " 'can',\n",
       " 'couldn',\n",
       " \"couldn't\",\n",
       " 'd',\n",
       " 'did',\n",
       " 'didn',\n",
       " \"didn't\",\n",
       " 'do',\n",
       " 'does',\n",
       " 'doesn',\n",
       " \"doesn't\",\n",
       " 'doing',\n",
       " 'don',\n",
       " \"don't\",\n",
       " 'down',\n",
       " 'during',\n",
       " 'each',\n",
       " 'few',\n",
       " 'for',\n",
       " 'from',\n",
       " 'further',\n",
       " 'had',\n",
       " 'hadn',\n",
       " \"hadn't\",\n",
       " 'has',\n",
       " 'hasn',\n",
       " \"hasn't\",\n",
       " 'have',\n",
       " 'haven',\n",
       " \"haven't\",\n",
       " 'having',\n",
       " 'he',\n",
       " 'her',\n",
       " 'here',\n",
       " 'hers',\n",
       " 'herself',\n",
       " 'him',\n",
       " 'himself',\n",
       " 'his',\n",
       " 'how',\n",
       " 'i',\n",
       " 'if',\n",
       " 'in',\n",
       " 'into',\n",
       " 'is',\n",
       " 'isn',\n",
       " \"isn't\",\n",
       " 'it',\n",
       " \"it's\",\n",
       " 'its',\n",
       " 'itself',\n",
       " 'just',\n",
       " 'll',\n",
       " 'm',\n",
       " 'ma',\n",
       " 'me',\n",
       " 'mightn',\n",
       " \"mightn't\",\n",
       " 'more',\n",
       " 'most',\n",
       " 'mustn',\n",
       " \"mustn't\",\n",
       " 'my',\n",
       " 'myself',\n",
       " 'needn',\n",
       " \"needn't\",\n",
       " 'no',\n",
       " 'nor',\n",
       " 'not',\n",
       " 'now',\n",
       " 'o',\n",
       " 'of',\n",
       " 'off',\n",
       " 'on',\n",
       " 'once',\n",
       " 'only',\n",
       " 'or',\n",
       " 'other',\n",
       " 'our',\n",
       " 'ours',\n",
       " 'ourselves',\n",
       " 'out',\n",
       " 'over',\n",
       " 'own',\n",
       " 're',\n",
       " 's',\n",
       " 'same',\n",
       " 'shan',\n",
       " \"shan't\",\n",
       " 'she',\n",
       " \"she's\",\n",
       " 'should',\n",
       " \"should've\",\n",
       " 'shouldn',\n",
       " \"shouldn't\",\n",
       " 'so',\n",
       " 'some',\n",
       " 'such',\n",
       " 't',\n",
       " 'than',\n",
       " 'that',\n",
       " \"that'll\",\n",
       " 'the',\n",
       " 'their',\n",
       " 'theirs',\n",
       " 'them',\n",
       " 'themselves',\n",
       " 'then',\n",
       " 'there',\n",
       " 'these',\n",
       " 'they',\n",
       " 'this',\n",
       " 'those',\n",
       " 'through',\n",
       " 'to',\n",
       " 'too',\n",
       " 'under',\n",
       " 'until',\n",
       " 'up',\n",
       " 've',\n",
       " 'very',\n",
       " 'was',\n",
       " 'wasn',\n",
       " \"wasn't\",\n",
       " 'we',\n",
       " 'were',\n",
       " 'weren',\n",
       " \"weren't\",\n",
       " 'what',\n",
       " 'when',\n",
       " 'where',\n",
       " 'which',\n",
       " 'while',\n",
       " 'who',\n",
       " 'whom',\n",
       " 'why',\n",
       " 'will',\n",
       " 'with',\n",
       " 'won',\n",
       " \"won't\",\n",
       " 'wouldn',\n",
       " \"wouldn't\",\n",
       " 'y',\n",
       " 'you',\n",
       " \"you'd\",\n",
       " \"you'll\",\n",
       " \"you're\",\n",
       " \"you've\",\n",
       " 'your',\n",
       " 'yours',\n",
       " 'yourself',\n",
       " 'yourselves'}"
      ]
     },
     "execution_count": 53,
     "metadata": {
      "tags": []
     },
     "output_type": "execute_result"
    }
   ],
   "source": [
    "stop_words"
   ]
  },
  {
   "cell_type": "code",
   "execution_count": 55,
   "metadata": {
    "executionInfo": {
     "elapsed": 8396,
     "status": "ok",
     "timestamp": 1624798982410,
     "user": {
      "displayName": "Alankar gupta",
      "photoUrl": "",
      "userId": "10573301238297360683"
     },
     "user_tz": -330
    },
    "id": "PIiFr4u6Vz-n"
   },
   "outputs": [],
   "source": [
    "dff['keywords']=dff['keywords'].astype('str')"
   ]
  },
  {
   "cell_type": "code",
   "execution_count": 56,
   "metadata": {
    "colab": {
     "base_uri": "https://localhost:8080/"
    },
    "executionInfo": {
     "elapsed": 516,
     "status": "ok",
     "timestamp": 1624798986521,
     "user": {
      "displayName": "Alankar gupta",
      "photoUrl": "",
      "userId": "10573301238297360683"
     },
     "user_tz": -330
    },
    "id": "vAIbu7-NTAIY",
    "outputId": "9b389960-32ed-41f2-c112-bb689f3be5df"
   },
   "outputs": [
    {
     "data": {
      "text/plain": [
       "14                                     dont buy service\n",
       "17      1 star phones locked pay additional fees unlock\n",
       "18    product good used cell phone one projects work...\n",
       "21    bought phone replace lg phone didnt like expec...\n",
       "22    purchased phone att phone replacement even tho...\n",
       "Name: keywords, dtype: object"
      ]
     },
     "execution_count": 56,
     "metadata": {
      "tags": []
     },
     "output_type": "execute_result"
    }
   ],
   "source": [
    "dff['keywords'] = dff['keywords'].apply(lambda words: ' '.join(w for w in words.split() if w not in stop_words))\n",
    "dff['keywords'].head()"
   ]
  },
  {
   "cell_type": "markdown",
   "metadata": {
    "id": "TQNvXay42yaQ"
   },
   "source": [
    "### 5.4 Apply lemmatisation on the above preprocessed text and display a few samples"
   ]
  },
  {
   "cell_type": "code",
   "execution_count": 57,
   "metadata": {
    "colab": {
     "base_uri": "https://localhost:8080/"
    },
    "executionInfo": {
     "elapsed": 723,
     "status": "ok",
     "timestamp": 1624798997270,
     "user": {
      "displayName": "Alankar gupta",
      "photoUrl": "",
      "userId": "10573301238297360683"
     },
     "user_tz": -330
    },
    "id": "oQ1VfFaa3DET",
    "outputId": "8d00e7c2-a3a7-4807-a1c1-8b333ff6eee4"
   },
   "outputs": [
    {
     "name": "stdout",
     "output_type": "stream",
     "text": [
      "[nltk_data] Downloading package wordnet to /root/nltk_data...\n",
      "[nltk_data]   Unzipping corpora/wordnet.zip.\n"
     ]
    }
   ],
   "source": [
    "nltk.download('wordnet')\n",
    "from nltk.stem import WordNetLemmatizer"
   ]
  },
  {
   "cell_type": "code",
   "execution_count": 58,
   "metadata": {
    "executionInfo": {
     "elapsed": 8,
     "status": "ok",
     "timestamp": 1624798998903,
     "user": {
      "displayName": "Alankar gupta",
      "photoUrl": "",
      "userId": "10573301238297360683"
     },
     "user_tz": -330
    },
    "id": "qeFMzvczbr9Z"
   },
   "outputs": [],
   "source": [
    "w_tokenizer = nltk.tokenize.WhitespaceTokenizer()\n",
    "lemmatizer = nltk.stem.WordNetLemmatizer()"
   ]
  },
  {
   "cell_type": "code",
   "execution_count": 59,
   "metadata": {
    "executionInfo": {
     "elapsed": 3,
     "status": "ok",
     "timestamp": 1624799001030,
     "user": {
      "displayName": "Alankar gupta",
      "photoUrl": "",
      "userId": "10573301238297360683"
     },
     "user_tz": -330
    },
    "id": "bc9vmPyLcnjI"
   },
   "outputs": [],
   "source": [
    "def lemmatize_text(text):\n",
    "  return [lemmatizer.lemmatize(w) for w in w_tokenizer.tokenize(text)]"
   ]
  },
  {
   "cell_type": "code",
   "execution_count": 60,
   "metadata": {
    "colab": {
     "base_uri": "https://localhost:8080/"
    },
    "executionInfo": {
     "elapsed": 7512,
     "status": "ok",
     "timestamp": 1624799010662,
     "user": {
      "displayName": "Alankar gupta",
      "photoUrl": "",
      "userId": "10573301238297360683"
     },
     "user_tz": -330
    },
    "id": "lLVVHrDacsW8",
    "outputId": "b8240252-1903-4a4c-dc7b-9d753f5977af"
   },
   "outputs": [
    {
     "data": {
      "text/plain": [
       "14                                 [dont, buy, service]\n",
       "17    [1, star, phone, locked, pay, additional, fee,...\n",
       "18    [product, good, used, cell, phone, one, projec...\n",
       "21    [bought, phone, replace, lg, phone, didnt, lik...\n",
       "22    [purchased, phone, att, phone, replacement, ev...\n",
       "Name: lemm, dtype: object"
      ]
     },
     "execution_count": 60,
     "metadata": {
      "tags": []
     },
     "output_type": "execute_result"
    }
   ],
   "source": [
    "dff['lemm'] = dff['keywords'].apply(lemmatize_text)\n",
    "dff['lemm'].head()"
   ]
  },
  {
   "cell_type": "markdown",
   "metadata": {
    "id": "OzweL_fA3DiN"
   },
   "source": [
    "### 5.5 Check most common and rare words in the processed text\n",
    "- We can also write a function to check word frequency of the text (Optional)"
   ]
  },
  {
   "cell_type": "code",
   "execution_count": 61,
   "metadata": {
    "colab": {
     "base_uri": "https://localhost:8080/"
    },
    "executionInfo": {
     "elapsed": 800,
     "status": "ok",
     "timestamp": 1624799011458,
     "user": {
      "displayName": "Alankar gupta",
      "photoUrl": "",
      "userId": "10573301238297360683"
     },
     "user_tz": -330
    },
    "id": "MzIAyX3N6lz5",
    "outputId": "991c3e79-b4f8-4ecb-b5f2-d31b9f08b854"
   },
   "outputs": [
    {
     "data": {
      "text/plain": [
       "[('phone', 74458),\n",
       " ('great', 16986),\n",
       " ('good', 13415),\n",
       " ('battery', 11641),\n",
       " ('screen', 10377),\n",
       " ('like', 10360),\n",
       " ('one', 10035),\n",
       " ('new', 9498),\n",
       " ('use', 8755),\n",
       " ('get', 7566)]"
      ]
     },
     "execution_count": 61,
     "metadata": {
      "tags": []
     },
     "output_type": "execute_result"
    }
   ],
   "source": [
    "from collections import Counter\n",
    "cnt = Counter()\n",
    "for text in dff[\"keywords\"].values:\n",
    "    for word in text.split():\n",
    "        cnt[word] += 1\n",
    "        \n",
    "cnt.most_common(10)"
   ]
  },
  {
   "cell_type": "code",
   "execution_count": 62,
   "metadata": {
    "colab": {
     "base_uri": "https://localhost:8080/"
    },
    "executionInfo": {
     "elapsed": 10,
     "status": "ok",
     "timestamp": 1624799011459,
     "user": {
      "displayName": "Alankar gupta",
      "photoUrl": "",
      "userId": "10573301238297360683"
     },
     "user_tz": -330
    },
    "id": "diH-PX0XiWQW",
    "outputId": "6dc55bf3-0296-44f9-9b04-def14125407e"
   },
   "outputs": [
    {
     "data": {
      "text/plain": [
       "[('prontoen', 1),\n",
       " ('500500', 1),\n",
       " ('sd730g', 1),\n",
       " ('nois', 1),\n",
       " ('tomuch', 1),\n",
       " ('instructivo', 1),\n",
       " ('confirmen', 1),\n",
       " ('intrligente', 1),\n",
       " ('haxe', 1),\n",
       " ('4ever', 1)]"
      ]
     },
     "execution_count": 62,
     "metadata": {
      "tags": []
     },
     "output_type": "execute_result"
    }
   ],
   "source": [
    "rare_words=10\n",
    "cnt.most_common()[:-rare_words-1:-1]"
   ]
  },
  {
   "cell_type": "markdown",
   "metadata": {
    "id": "9UbdTGsv60t1"
   },
   "source": [
    "### 5.6 Initialize tf-idf vectorizer and transform the preprocessed body text"
   ]
  },
  {
   "cell_type": "code",
   "execution_count": 63,
   "metadata": {
    "executionInfo": {
     "elapsed": 2,
     "status": "ok",
     "timestamp": 1624799012426,
     "user": {
      "displayName": "Alankar gupta",
      "photoUrl": "",
      "userId": "10573301238297360683"
     },
     "user_tz": -330
    },
    "id": "GLb33fDOeLXH"
   },
   "outputs": [],
   "source": [
    "# Initialize TF-IDF vectorizer\n",
    "from sklearn.feature_extraction.text import TfidfVectorizer\n",
    "\n",
    "tfidf_vectorizer = TfidfVectorizer()"
   ]
  },
  {
   "cell_type": "code",
   "execution_count": 64,
   "metadata": {
    "executionInfo": {
     "elapsed": 2,
     "status": "ok",
     "timestamp": 1624799012990,
     "user": {
      "displayName": "Alankar gupta",
      "photoUrl": "",
      "userId": "10573301238297360683"
     },
     "user_tz": -330
    },
    "id": "WJllmd11egat"
   },
   "outputs": [],
   "source": [
    "# Initialize TF-IDF vectorizer\n",
    "from sklearn.feature_extraction.text import TfidfVectorizer\n",
    "\n",
    "tfidf_vectorizer1 = TfidfVectorizer(ngram_range=(2,2))"
   ]
  },
  {
   "cell_type": "code",
   "execution_count": 65,
   "metadata": {
    "executionInfo": {
     "elapsed": 1279,
     "status": "ok",
     "timestamp": 1624799016625,
     "user": {
      "displayName": "Alankar gupta",
      "photoUrl": "",
      "userId": "10573301238297360683"
     },
     "user_tz": -330
    },
    "id": "2UZfveGXekvS"
   },
   "outputs": [],
   "source": [
    "tfidf = tfidf_vectorizer.fit_transform(dff[\"keywords\"])"
   ]
  },
  {
   "cell_type": "markdown",
   "metadata": {
    "id": "5dqPXETLKN0h"
   },
   "source": [
    "### 5.7 Segregate the data into dependent (sentiment) and independent (transformed body using tf-idf) features for building a classifier. "
   ]
  },
  {
   "cell_type": "code",
   "execution_count": 66,
   "metadata": {
    "executionInfo": {
     "elapsed": 3,
     "status": "ok",
     "timestamp": 1624799016625,
     "user": {
      "displayName": "Alankar gupta",
      "photoUrl": "",
      "userId": "10573301238297360683"
     },
     "user_tz": -330
    },
    "id": "mpOLAYn07W6F"
   },
   "outputs": [],
   "source": [
    "y= dff['sentiment']"
   ]
  },
  {
   "cell_type": "markdown",
   "metadata": {
    "id": "4K03FO0q7XBP"
   },
   "source": [
    "### 5.9 Split the data into Train & Test Sets"
   ]
  },
  {
   "cell_type": "code",
   "execution_count": 67,
   "metadata": {
    "executionInfo": {
     "elapsed": 618,
     "status": "ok",
     "timestamp": 1624799020207,
     "user": {
      "displayName": "Alankar gupta",
      "photoUrl": "",
      "userId": "10573301238297360683"
     },
     "user_tz": -330
    },
    "id": "D548-7cE7dZa"
   },
   "outputs": [],
   "source": [
    "from sklearn.model_selection import train_test_split\n",
    "X_train, X_test, y1_train, y1_test = train_test_split(tfidf, y, random_state = 50, stratify=y, test_size=0.3)"
   ]
  },
  {
   "cell_type": "markdown",
   "metadata": {
    "id": "rhD1a-beKvE7"
   },
   "source": [
    "## 6. Model building"
   ]
  },
  {
   "cell_type": "markdown",
   "metadata": {
    "id": "UPFovmN03exD"
   },
   "source": [
    "### 6.1 Build a random forest classifier to predict the 'sentiment'\n",
    "### 6.2 Predict on test set\n",
    "### 6.3 Check accuracy and confusion matrix"
   ]
  },
  {
   "cell_type": "code",
   "execution_count": 68,
   "metadata": {
    "colab": {
     "base_uri": "https://localhost:8080/"
    },
    "executionInfo": {
     "elapsed": 169334,
     "status": "ok",
     "timestamp": 1624799192133,
     "user": {
      "displayName": "Alankar gupta",
      "photoUrl": "",
      "userId": "10573301238297360683"
     },
     "user_tz": -330
    },
    "id": "y0ytdD-_30P9",
    "outputId": "6c629aa9-c29a-43fa-d01c-f09ad6a2caee"
   },
   "outputs": [
    {
     "name": "stdout",
     "output_type": "stream",
     "text": [
      "0.9958699862332875\n",
      "0.8877395470383276\n"
     ]
    }
   ],
   "source": [
    "from sklearn.ensemble import RandomForestClassifier\n",
    "rf_clf1 = RandomForestClassifier()\n",
    "rf_clf1.fit(X_train, y1_train)\n",
    "print(rf_clf1.score(X_train, y1_train))\n",
    "print(rf_clf1.score(X_test, y1_test))"
   ]
  },
  {
   "cell_type": "code",
   "execution_count": 69,
   "metadata": {
    "colab": {
     "base_uri": "https://localhost:8080/"
    },
    "executionInfo": {
     "elapsed": 3694,
     "status": "ok",
     "timestamp": 1624799201971,
     "user": {
      "displayName": "Alankar gupta",
      "photoUrl": "",
      "userId": "10573301238297360683"
     },
     "user_tz": -330
    },
    "id": "NJ6Ke4hl30Zk",
    "outputId": "f383aa5c-de53-4732-c63e-01f08b01fb5d"
   },
   "outputs": [
    {
     "data": {
      "text/plain": [
       "array([[12638,   162],\n",
       "       [   15, 30042]])"
      ]
     },
     "execution_count": 69,
     "metadata": {
      "tags": []
     },
     "output_type": "execute_result"
    }
   ],
   "source": [
    "from sklearn.metrics import confusion_matrix\n",
    "y1_pred = rf_clf1.predict(X_train)\n",
    "confusion_matrix(y1_train, y1_pred)"
   ]
  },
  {
   "cell_type": "code",
   "execution_count": 70,
   "metadata": {
    "colab": {
     "base_uri": "https://localhost:8080/"
    },
    "executionInfo": {
     "elapsed": 2057,
     "status": "ok",
     "timestamp": 1624799209842,
     "user": {
      "displayName": "Alankar gupta",
      "photoUrl": "",
      "userId": "10573301238297360683"
     },
     "user_tz": -330
    },
    "id": "Ayw2vHtTh2_S",
    "outputId": "a6be742a-9326-4f88-d2c4-1f89e1f67c11"
   },
   "outputs": [
    {
     "data": {
      "text/plain": [
       "array([[ 4046,  1440],\n",
       "       [  622, 12260]])"
      ]
     },
     "execution_count": 70,
     "metadata": {
      "tags": []
     },
     "output_type": "execute_result"
    }
   ],
   "source": [
    "from sklearn.metrics import confusion_matrix\n",
    "y1_pred = rf_clf1.predict(X_test)\n",
    "confusion_matrix(y1_test, y1_pred)"
   ]
  },
  {
   "cell_type": "markdown",
   "metadata": {
    "id": "Ey7an7ukLxWB"
   },
   "source": [
    "## 7. Write your conclusion"
   ]
  },
  {
   "cell_type": "code",
   "execution_count": null,
   "metadata": {
    "id": "0csFkbEJmSIe"
   },
   "outputs": [],
   "source": [
    "#the model seems to be overfit as thetraining accuracy is 99.58% and test accuracy is 88.55 only.\n",
    "#the model need to tune applying hyperparmeter in Randomforest.\n",
    "#"
   ]
  },
  {
   "cell_type": "markdown",
   "metadata": {
    "id": "CD8lVNY0YLQD"
   },
   "source": [
    "##. 8. Further Explore\n",
    "### 8.0 Merge all independent features and the below text preprocessing steps\n",
    "### 8.1 Check rare words and drop them\n",
    "### 8.2 Remove emoticon/emojis\n",
    "### 8.3 Try different vectorizer for vectorization\n",
    "### 8.4 Use embeddings\n",
    "### 8.5 Use NN based models"
   ]
  },
  {
   "cell_type": "code",
   "execution_count": null,
   "metadata": {
    "id": "bJEEmN3ZY5KJ"
   },
   "outputs": [],
   "source": []
  }
 ],
 "metadata": {
  "accelerator": "GPU",
  "colab": {
   "collapsed_sections": [],
   "name": "R8 Internal Lab Question Notebook (2).ipynb",
   "provenance": []
  },
  "kernelspec": {
   "display_name": "Python 3",
   "language": "python",
   "name": "python3"
  },
  "language_info": {
   "codemirror_mode": {
    "name": "ipython",
    "version": 3
   },
   "file_extension": ".py",
   "mimetype": "text/x-python",
   "name": "python",
   "nbconvert_exporter": "python",
   "pygments_lexer": "ipython3",
   "version": "3.7.6"
  }
 },
 "nbformat": 4,
 "nbformat_minor": 1
}
