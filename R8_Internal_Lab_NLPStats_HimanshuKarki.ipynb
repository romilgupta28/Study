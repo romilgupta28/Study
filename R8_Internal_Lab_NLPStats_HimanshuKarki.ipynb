{
 "cells": [
  {
   "cell_type": "markdown",
   "metadata": {
    "id": "PHYs6Z84xV8E"
   },
   "source": [
    "<img src=\"http://drive.google.com/uc?export=view&id=1tpOCamr9aWz817atPnyXus8w5gJ3mIts\" width=500px>\n",
    "\n",
    "Proprietary content. © Great Learning. All Rights Reserved. Unauthorized use or distribution prohibited."
   ]
  },
  {
   "cell_type": "markdown",
   "metadata": {
    "id": "5QQxgAmWzSye"
   },
   "source": [
    "# Mobile Phone Review Analysis"
   ]
  },
  {
   "cell_type": "markdown",
   "metadata": {
    "id": "FbwHYUXhxaqD"
   },
   "source": [
    "## Context\n",
    "\n",
    "The product companies can utilize the detailed review comments to gather insights from the end user. Most of the products are sold via e-commerce sites like Flipkart or Amazon where customers can buy a product and give their review about the product on the web site. \n",
    "Product managers can identify the relevant reviews from the website and run a sentiment analysis tool to understand what the sentiments of the customer are. Based on their sentiments, they can identify what users think of the current product. Are they happy? Discontent? \n",
    "They can also come up with a document that lists the features, the team needs to focus on for making the product better. \n",
    "\n",
    "## Objective\n",
    "\n",
    "Given the review data rating label, we will try to get insights about various brands and their ratings using text analytics and build a model to predict the rating and overall sentiment. \n"
   ]
  },
  {
   "cell_type": "markdown",
   "metadata": {
    "id": "CI7usguRzeox"
   },
   "source": [
    "### Package version\n",
    "\n",
    "- tensorflow==2.3.0\n",
    "- scikit-learn==0.22.2.post1\n",
    "- pandas==1.0.5\n",
    "- numpy==1.18.5\n",
    "- matplotlib==3.2.2\n",
    "- google==2.0.3"
   ]
  },
  {
   "cell_type": "markdown",
   "metadata": {
    "id": "aiMdVjHRH7NR"
   },
   "source": [
    "### Data Dictionary \n",
    "\n",
    "product_data.csv - contains product details\n",
    "- 'asin',  - Product ASIN\n",
    "- 'brand', - Product Brand\n",
    "- 'title', - Product Title\n",
    "- 'url',  - Product URL\n",
    "- 'image', - Product Image URL\n",
    "- 'rating',- Product Avg. Rating\n",
    "- 'reviewUrl' - Product Review Page URL\n",
    "- 'totalReviews' - Product Total Reviews\n",
    "- ‘price’ - Product Price ($)\n",
    "- ‘originalPrice’ - Product Original Price ($)\n",
    " \n",
    "reviews.csv  - contains user review details\n",
    " \n",
    "- 'asin' - Product ASIN\n",
    "- 'name' - Reviewer Name\n",
    "- 'rating' - Reviewer Rating (scale 1 to 5)\n",
    "- 'date'  - Review Date\n",
    "- 'verified' - Valid Customer\n",
    "- 'title'  - Review Title\n",
    "- 'body'  - Review Content\n",
    "- 'helpfulVotes  - Helpful Feedbacks\n"
   ]
  },
  {
   "cell_type": "markdown",
   "metadata": {
    "id": "cEn52o8jznJK"
   },
   "source": [
    "## Table of Content\n",
    "\n",
    "1. Import Libraries\n",
    "\n",
    "2. Setting options\n",
    "\n",
    "3. Read Data\n",
    "\n",
    "4. Data Analysis and EDA\n",
    "\n",
    "5. Text preprocessing and Vectorization\n",
    "\n",
    "6. Model building\n",
    "\n",
    "7. Conclusion and Interpretation"
   ]
  },
  {
   "cell_type": "markdown",
   "metadata": {
    "id": "x_Lom6cXzqn7"
   },
   "source": [
    "## 1. Import Libraries"
   ]
  },
  {
   "cell_type": "markdown",
   "metadata": {
    "id": "FZtVstH8zre2"
   },
   "source": [
    "Let us start by mounting the drive"
   ]
  },
  {
   "cell_type": "code",
   "execution_count": 1,
   "metadata": {
    "colab": {
     "base_uri": "https://localhost:8080/"
    },
    "id": "xv9jxv3-R5Xl",
    "outputId": "c3fcc94f-5979-4f0c-a9a7-dffcdd7eb320"
   },
   "outputs": [
    {
     "name": "stdout",
     "output_type": "stream",
     "text": [
      "Mounted at /content/drive\n"
     ]
    }
   ],
   "source": [
    "from google.colab import drive\n",
    "drive.mount('/content/drive')"
   ]
  },
  {
   "cell_type": "markdown",
   "metadata": {
    "id": "Gv-tZoFjz2WD"
   },
   "source": [
    "Let us check for the version of installed tensorflow."
   ]
  },
  {
   "cell_type": "code",
   "execution_count": 2,
   "metadata": {
    "colab": {
     "base_uri": "https://localhost:8080/"
    },
    "id": "eiuUVBuDzzn9",
    "outputId": "cb9bb631-12ea-4732-c721-bbc05bd7be52"
   },
   "outputs": [
    {
     "name": "stdout",
     "output_type": "stream",
     "text": [
      "2.5.0\n"
     ]
    }
   ],
   "source": [
    "# used to supress display of warnings\n",
    "import warnings\n",
    "\n",
    "# os is used to provide a way of using operating system dependent functionality\n",
    "# We use it for setting working folder\n",
    "import os\n",
    "\n",
    "# Pandas is used for data manipulation and analysis\n",
    "import pandas as pd \n",
    "\n",
    "# Numpy is used for large, multi-dimensional arrays and matrices, along with mathematical operators on these arrays\n",
    "import numpy as np\n",
    "\n",
    "# Matplotlib is a data visualization library for 2D plots of arrays, built on NumPy arrays \n",
    "# and designed to work with the broader SciPy stack\n",
    "import matplotlib.pyplot as plt\n",
    "%matplotlib inline\n",
    "from matplotlib import pyplot\n",
    "\n",
    "# Seaborn is based on matplotlib, which aids in drawing attractive and informative statistical graphics.\n",
    "import seaborn as sns\n",
    "import tensorflow \n",
    "print(tensorflow.__version__)"
   ]
  },
  {
   "cell_type": "markdown",
   "metadata": {
    "id": "fze-aokU0ukH"
   },
   "source": [
    "## 2. Setting Options"
   ]
  },
  {
   "cell_type": "code",
   "execution_count": 3,
   "metadata": {
    "id": "T3FALggG0xXa"
   },
   "outputs": [],
   "source": [
    "# suppress display of warnings\n",
    "warnings.filterwarnings('ignore')\n",
    "\n",
    "# display all dataframe columns\n",
    "pd.options.display.max_columns = None\n",
    "\n",
    "# to set the limit to 3 decimals\n",
    "pd.options.display.float_format = '{:.7f}'.format\n",
    "\n",
    "# display all dataframe rows\n",
    "pd.options.display.max_rows = None"
   ]
  },
  {
   "cell_type": "markdown",
   "metadata": {
    "id": "ZT1P1WdK1vfZ"
   },
   "source": [
    "## 3. Read Data"
   ]
  },
  {
   "cell_type": "markdown",
   "metadata": {
    "id": "-UOW6zwww7L1"
   },
   "source": [
    "### 3.1 Read the provided CSVs and check 5 random samples and shape to understand the datasets"
   ]
  },
  {
   "cell_type": "code",
   "execution_count": 4,
   "metadata": {
    "id": "nxT2g284xF1W"
   },
   "outputs": [],
   "source": [
    "df_product = pd.read_csv('/content/drive/MyDrive/AI ML Great Learning/Stats NLP/product_data.csv')\n",
    "df_review = pd.read_csv('/content/drive/MyDrive/AI ML Great Learning/Stats NLP/reviews.csv')"
   ]
  },
  {
   "cell_type": "code",
   "execution_count": 5,
   "metadata": {
    "colab": {
     "base_uri": "https://localhost:8080/",
     "height": 476
    },
    "id": "GRjG44fRxGIq",
    "outputId": "26036943-33a7-41a9-99e6-b2e0aa0cb31d"
   },
   "outputs": [
    {
     "data": {
      "text/html": [
       "<div>\n",
       "<style scoped>\n",
       "    .dataframe tbody tr th:only-of-type {\n",
       "        vertical-align: middle;\n",
       "    }\n",
       "\n",
       "    .dataframe tbody tr th {\n",
       "        vertical-align: top;\n",
       "    }\n",
       "\n",
       "    .dataframe thead th {\n",
       "        text-align: right;\n",
       "    }\n",
       "</style>\n",
       "<table border=\"1\" class=\"dataframe\">\n",
       "  <thead>\n",
       "    <tr style=\"text-align: right;\">\n",
       "      <th></th>\n",
       "      <th>asin</th>\n",
       "      <th>brand</th>\n",
       "      <th>title</th>\n",
       "      <th>url</th>\n",
       "      <th>image</th>\n",
       "      <th>rating</th>\n",
       "      <th>reviewUrl</th>\n",
       "      <th>totalReviews</th>\n",
       "      <th>price</th>\n",
       "      <th>originalPrice</th>\n",
       "    </tr>\n",
       "  </thead>\n",
       "  <tbody>\n",
       "    <tr>\n",
       "      <th>3</th>\n",
       "      <td>B001AO4OUC</td>\n",
       "      <td>Motorola</td>\n",
       "      <td>Motorola i335 Cell Phone Boost Mobile</td>\n",
       "      <td>https://www.amazon.com/Motorola-i335-Phone-Boo...</td>\n",
       "      <td>https://m.media-amazon.com/images/I/710UO8gdT+...</td>\n",
       "      <td>3.3000000</td>\n",
       "      <td>https://www.amazon.com/product-reviews/B001AO4OUC</td>\n",
       "      <td>21</td>\n",
       "      <td>0.0000000</td>\n",
       "      <td>0.0000000</td>\n",
       "    </tr>\n",
       "    <tr>\n",
       "      <th>561</th>\n",
       "      <td>B07Q2X19LG</td>\n",
       "      <td>HUAWEI</td>\n",
       "      <td>Huawei P30 128GB+6GB RAM (ELE-L29) 6.1\" LTE Fa...</td>\n",
       "      <td>https://www.amazon.com/ELE-L29-Factory-Unlocke...</td>\n",
       "      <td>https://m.media-amazon.com/images/I/61jJeZBliW...</td>\n",
       "      <td>4.5000000</td>\n",
       "      <td>https://www.amazon.com/product-reviews/B07Q2X19LG</td>\n",
       "      <td>115</td>\n",
       "      <td>513.9900000</td>\n",
       "      <td>749.9900000</td>\n",
       "    </tr>\n",
       "    <tr>\n",
       "      <th>84</th>\n",
       "      <td>B00PLBFPAS</td>\n",
       "      <td>Nokia</td>\n",
       "      <td>Nokia Lumia 630 Windows Prepaid SmartPhone, Ca...</td>\n",
       "      <td>https://www.amazon.com/Nokia-Windows-SmartPhon...</td>\n",
       "      <td>https://m.media-amazon.com/images/I/51wHAncQp5...</td>\n",
       "      <td>3.3000000</td>\n",
       "      <td>https://www.amazon.com/product-reviews/B00PLBFPAS</td>\n",
       "      <td>14</td>\n",
       "      <td>129.9900000</td>\n",
       "      <td>0.0000000</td>\n",
       "    </tr>\n",
       "    <tr>\n",
       "      <th>344</th>\n",
       "      <td>B078YXQ38Z</td>\n",
       "      <td>Samsung</td>\n",
       "      <td>Samsung Galaxy S8 Active 64GB SM-G892A Unlocke...</td>\n",
       "      <td>https://www.amazon.com/Samsung-Galaxy-S8-Activ...</td>\n",
       "      <td>https://m.media-amazon.com/images/I/61wgvFSAJQ...</td>\n",
       "      <td>3.9000000</td>\n",
       "      <td>https://www.amazon.com/product-reviews/B078YXQ38Z</td>\n",
       "      <td>185</td>\n",
       "      <td>274.9500000</td>\n",
       "      <td>0.0000000</td>\n",
       "    </tr>\n",
       "    <tr>\n",
       "      <th>294</th>\n",
       "      <td>B075ZGJMQY</td>\n",
       "      <td>Samsung</td>\n",
       "      <td>Samsung Galaxy Note 8 64GB Unlocked GSM LTE An...</td>\n",
       "      <td>https://www.amazon.com/Samsung-Galaxy-Unlocked...</td>\n",
       "      <td>https://m.media-amazon.com/images/I/71wjfOWQhs...</td>\n",
       "      <td>3.7000000</td>\n",
       "      <td>https://www.amazon.com/product-reviews/B075ZGJMQY</td>\n",
       "      <td>104</td>\n",
       "      <td>407.9900000</td>\n",
       "      <td>0.0000000</td>\n",
       "    </tr>\n",
       "  </tbody>\n",
       "</table>\n",
       "</div>"
      ],
      "text/plain": [
       "           asin     brand                                              title  \\\n",
       "3    B001AO4OUC  Motorola              Motorola i335 Cell Phone Boost Mobile   \n",
       "561  B07Q2X19LG    HUAWEI  Huawei P30 128GB+6GB RAM (ELE-L29) 6.1\" LTE Fa...   \n",
       "84   B00PLBFPAS     Nokia  Nokia Lumia 630 Windows Prepaid SmartPhone, Ca...   \n",
       "344  B078YXQ38Z   Samsung  Samsung Galaxy S8 Active 64GB SM-G892A Unlocke...   \n",
       "294  B075ZGJMQY   Samsung  Samsung Galaxy Note 8 64GB Unlocked GSM LTE An...   \n",
       "\n",
       "                                                   url  \\\n",
       "3    https://www.amazon.com/Motorola-i335-Phone-Boo...   \n",
       "561  https://www.amazon.com/ELE-L29-Factory-Unlocke...   \n",
       "84   https://www.amazon.com/Nokia-Windows-SmartPhon...   \n",
       "344  https://www.amazon.com/Samsung-Galaxy-S8-Activ...   \n",
       "294  https://www.amazon.com/Samsung-Galaxy-Unlocked...   \n",
       "\n",
       "                                                 image    rating  \\\n",
       "3    https://m.media-amazon.com/images/I/710UO8gdT+... 3.3000000   \n",
       "561  https://m.media-amazon.com/images/I/61jJeZBliW... 4.5000000   \n",
       "84   https://m.media-amazon.com/images/I/51wHAncQp5... 3.3000000   \n",
       "344  https://m.media-amazon.com/images/I/61wgvFSAJQ... 3.9000000   \n",
       "294  https://m.media-amazon.com/images/I/71wjfOWQhs... 3.7000000   \n",
       "\n",
       "                                             reviewUrl  totalReviews  \\\n",
       "3    https://www.amazon.com/product-reviews/B001AO4OUC            21   \n",
       "561  https://www.amazon.com/product-reviews/B07Q2X19LG           115   \n",
       "84   https://www.amazon.com/product-reviews/B00PLBFPAS            14   \n",
       "344  https://www.amazon.com/product-reviews/B078YXQ38Z           185   \n",
       "294  https://www.amazon.com/product-reviews/B075ZGJMQY           104   \n",
       "\n",
       "          price  originalPrice  \n",
       "3     0.0000000      0.0000000  \n",
       "561 513.9900000    749.9900000  \n",
       "84  129.9900000      0.0000000  \n",
       "344 274.9500000      0.0000000  \n",
       "294 407.9900000      0.0000000  "
      ]
     },
     "execution_count": 5,
     "metadata": {
      "tags": []
     },
     "output_type": "execute_result"
    }
   ],
   "source": [
    "df_product.sample(5)"
   ]
  },
  {
   "cell_type": "code",
   "execution_count": null,
   "metadata": {
    "colab": {
     "base_uri": "https://localhost:8080/"
    },
    "id": "7hPaVRjBV8X8",
    "outputId": "023749ae-98dc-4a7a-df88-7121bb106a1c"
   },
   "outputs": [
    {
     "data": {
      "text/plain": [
       "(720, 10)"
      ]
     },
     "execution_count": 25,
     "metadata": {
      "tags": []
     },
     "output_type": "execute_result"
    }
   ],
   "source": [
    "df_product.shape"
   ]
  },
  {
   "cell_type": "code",
   "execution_count": null,
   "metadata": {
    "colab": {
     "base_uri": "https://localhost:8080/",
     "height": 204
    },
    "id": "-oq2sYdRVsK-",
    "outputId": "9239afc5-9a8c-4bba-af99-d38d459badfd"
   },
   "outputs": [
    {
     "data": {
      "text/html": [
       "<div>\n",
       "<style scoped>\n",
       "    .dataframe tbody tr th:only-of-type {\n",
       "        vertical-align: middle;\n",
       "    }\n",
       "\n",
       "    .dataframe tbody tr th {\n",
       "        vertical-align: top;\n",
       "    }\n",
       "\n",
       "    .dataframe thead th {\n",
       "        text-align: right;\n",
       "    }\n",
       "</style>\n",
       "<table border=\"1\" class=\"dataframe\">\n",
       "  <thead>\n",
       "    <tr style=\"text-align: right;\">\n",
       "      <th></th>\n",
       "      <th>asin</th>\n",
       "      <th>name</th>\n",
       "      <th>rating</th>\n",
       "      <th>date</th>\n",
       "      <th>verified</th>\n",
       "      <th>title</th>\n",
       "      <th>body</th>\n",
       "      <th>helpfulVotes</th>\n",
       "    </tr>\n",
       "  </thead>\n",
       "  <tbody>\n",
       "    <tr>\n",
       "      <th>35476</th>\n",
       "      <td>B071JP8XDJ</td>\n",
       "      <td>Jonathan</td>\n",
       "      <td>5</td>\n",
       "      <td>December 4, 2018</td>\n",
       "      <td>True</td>\n",
       "      <td>Info please</td>\n",
       "      <td>The phone is quite nice. A good upgrade from m...</td>\n",
       "      <td>nan</td>\n",
       "    </tr>\n",
       "    <tr>\n",
       "      <th>16543</th>\n",
       "      <td>B00X2ZQ5RM</td>\n",
       "      <td>Veronica Stroh</td>\n",
       "      <td>5</td>\n",
       "      <td>November 20, 2017</td>\n",
       "      <td>True</td>\n",
       "      <td>Works great, came in perfect condition</td>\n",
       "      <td>Works great, came in perfect condition. I've b...</td>\n",
       "      <td>1.0000000</td>\n",
       "    </tr>\n",
       "    <tr>\n",
       "      <th>9641</th>\n",
       "      <td>B00HPP3QD6</td>\n",
       "      <td>ryan fayette</td>\n",
       "      <td>5</td>\n",
       "      <td>February 13, 2015</td>\n",
       "      <td>True</td>\n",
       "      <td>very satisfied</td>\n",
       "      <td>Very pleased. Just as described</td>\n",
       "      <td>nan</td>\n",
       "    </tr>\n",
       "    <tr>\n",
       "      <th>12445</th>\n",
       "      <td>B00MWI4KKE</td>\n",
       "      <td>\"musicmakerscott\"</td>\n",
       "      <td>4</td>\n",
       "      <td>July 29, 2018</td>\n",
       "      <td>True</td>\n",
       "      <td>good sound quality plenty of internal storage ...</td>\n",
       "      <td>This phone performs well for what it is, good ...</td>\n",
       "      <td>nan</td>\n",
       "    </tr>\n",
       "    <tr>\n",
       "      <th>39553</th>\n",
       "      <td>B075FLG6MV</td>\n",
       "      <td>Amazon Customer</td>\n",
       "      <td>5</td>\n",
       "      <td>April 11, 2018</td>\n",
       "      <td>True</td>\n",
       "      <td>Amazing budget smartphone with timely system u...</td>\n",
       "      <td>Amazing budget smartphone with timely system u...</td>\n",
       "      <td>1.0000000</td>\n",
       "    </tr>\n",
       "  </tbody>\n",
       "</table>\n",
       "</div>"
      ],
      "text/plain": [
       "             asin               name  rating               date  verified  \\\n",
       "35476  B071JP8XDJ           Jonathan       5   December 4, 2018      True   \n",
       "16543  B00X2ZQ5RM     Veronica Stroh       5  November 20, 2017      True   \n",
       "9641   B00HPP3QD6       ryan fayette       5  February 13, 2015      True   \n",
       "12445  B00MWI4KKE  \"musicmakerscott\"       4      July 29, 2018      True   \n",
       "39553  B075FLG6MV    Amazon Customer       5     April 11, 2018      True   \n",
       "\n",
       "                                                   title  \\\n",
       "35476                                        Info please   \n",
       "16543             Works great, came in perfect condition   \n",
       "9641                                      very satisfied   \n",
       "12445  good sound quality plenty of internal storage ...   \n",
       "39553  Amazing budget smartphone with timely system u...   \n",
       "\n",
       "                                                    body  helpfulVotes  \n",
       "35476  The phone is quite nice. A good upgrade from m...           nan  \n",
       "16543  Works great, came in perfect condition. I've b...     1.0000000  \n",
       "9641                     Very pleased. Just as described           nan  \n",
       "12445  This phone performs well for what it is, good ...           nan  \n",
       "39553  Amazing budget smartphone with timely system u...     1.0000000  "
      ]
     },
     "execution_count": 8,
     "metadata": {
      "tags": []
     },
     "output_type": "execute_result"
    }
   ],
   "source": [
    "df_review.sample(5)"
   ]
  },
  {
   "cell_type": "code",
   "execution_count": null,
   "metadata": {
    "colab": {
     "base_uri": "https://localhost:8080/"
    },
    "id": "QEJfrbmAV-jx",
    "outputId": "dd1a8aec-b27c-434a-bbb7-b68f2b328cb1"
   },
   "outputs": [
    {
     "data": {
      "text/plain": [
       "(67986, 8)"
      ]
     },
     "execution_count": 9,
     "metadata": {
      "tags": []
     },
     "output_type": "execute_result"
    }
   ],
   "source": [
    "df_review.shape"
   ]
  },
  {
   "cell_type": "markdown",
   "metadata": {
    "id": "rED6DbDBKTjM"
   },
   "source": [
    "## 4.  Data Analysis and EDA"
   ]
  },
  {
   "cell_type": "markdown",
   "metadata": {
    "id": "awlqmp40xMfc"
   },
   "source": [
    "### 4.1 Drop unnecessary columns like 'url', 'image' from the product_data"
   ]
  },
  {
   "cell_type": "code",
   "execution_count": 6,
   "metadata": {
    "colab": {
     "base_uri": "https://localhost:8080/",
     "height": 204
    },
    "id": "VT4d-6TCxZCm",
    "outputId": "ab3a2e1b-8932-4f11-d53b-fcf720892bbe"
   },
   "outputs": [
    {
     "data": {
      "text/html": [
       "<div>\n",
       "<style scoped>\n",
       "    .dataframe tbody tr th:only-of-type {\n",
       "        vertical-align: middle;\n",
       "    }\n",
       "\n",
       "    .dataframe tbody tr th {\n",
       "        vertical-align: top;\n",
       "    }\n",
       "\n",
       "    .dataframe thead th {\n",
       "        text-align: right;\n",
       "    }\n",
       "</style>\n",
       "<table border=\"1\" class=\"dataframe\">\n",
       "  <thead>\n",
       "    <tr style=\"text-align: right;\">\n",
       "      <th></th>\n",
       "      <th>asin</th>\n",
       "      <th>brand</th>\n",
       "      <th>title</th>\n",
       "      <th>rating</th>\n",
       "      <th>totalReviews</th>\n",
       "      <th>price</th>\n",
       "      <th>originalPrice</th>\n",
       "    </tr>\n",
       "  </thead>\n",
       "  <tbody>\n",
       "    <tr>\n",
       "      <th>0</th>\n",
       "      <td>B0000SX2UC</td>\n",
       "      <td>NaN</td>\n",
       "      <td>Dual-Band / Tri-Mode Sprint PCS Phone w/ Voice...</td>\n",
       "      <td>3.0000000</td>\n",
       "      <td>14</td>\n",
       "      <td>0.0000000</td>\n",
       "      <td>0.0000000</td>\n",
       "    </tr>\n",
       "    <tr>\n",
       "      <th>1</th>\n",
       "      <td>B0009N5L7K</td>\n",
       "      <td>Motorola</td>\n",
       "      <td>Motorola I265 phone</td>\n",
       "      <td>3.0000000</td>\n",
       "      <td>7</td>\n",
       "      <td>49.9500000</td>\n",
       "      <td>0.0000000</td>\n",
       "    </tr>\n",
       "    <tr>\n",
       "      <th>2</th>\n",
       "      <td>B000SKTZ0S</td>\n",
       "      <td>Motorola</td>\n",
       "      <td>MOTOROLA C168i AT&amp;T CINGULAR PREPAID GOPHONE C...</td>\n",
       "      <td>2.7000000</td>\n",
       "      <td>22</td>\n",
       "      <td>99.9900000</td>\n",
       "      <td>0.0000000</td>\n",
       "    </tr>\n",
       "    <tr>\n",
       "      <th>3</th>\n",
       "      <td>B001AO4OUC</td>\n",
       "      <td>Motorola</td>\n",
       "      <td>Motorola i335 Cell Phone Boost Mobile</td>\n",
       "      <td>3.3000000</td>\n",
       "      <td>21</td>\n",
       "      <td>0.0000000</td>\n",
       "      <td>0.0000000</td>\n",
       "    </tr>\n",
       "    <tr>\n",
       "      <th>4</th>\n",
       "      <td>B001DCJAJG</td>\n",
       "      <td>Motorola</td>\n",
       "      <td>Motorola V365 no contract cellular phone AT&amp;T</td>\n",
       "      <td>3.1000000</td>\n",
       "      <td>12</td>\n",
       "      <td>149.9900000</td>\n",
       "      <td>0.0000000</td>\n",
       "    </tr>\n",
       "  </tbody>\n",
       "</table>\n",
       "</div>"
      ],
      "text/plain": [
       "         asin     brand                                              title  \\\n",
       "0  B0000SX2UC       NaN  Dual-Band / Tri-Mode Sprint PCS Phone w/ Voice...   \n",
       "1  B0009N5L7K  Motorola                                Motorola I265 phone   \n",
       "2  B000SKTZ0S  Motorola  MOTOROLA C168i AT&T CINGULAR PREPAID GOPHONE C...   \n",
       "3  B001AO4OUC  Motorola              Motorola i335 Cell Phone Boost Mobile   \n",
       "4  B001DCJAJG  Motorola      Motorola V365 no contract cellular phone AT&T   \n",
       "\n",
       "     rating  totalReviews       price  originalPrice  \n",
       "0 3.0000000            14   0.0000000      0.0000000  \n",
       "1 3.0000000             7  49.9500000      0.0000000  \n",
       "2 2.7000000            22  99.9900000      0.0000000  \n",
       "3 3.3000000            21   0.0000000      0.0000000  \n",
       "4 3.1000000            12 149.9900000      0.0000000  "
      ]
     },
     "execution_count": 6,
     "metadata": {
      "tags": []
     },
     "output_type": "execute_result"
    }
   ],
   "source": [
    "df_product.drop(['url', 'image','reviewUrl'], axis = 1, inplace=True)\n",
    "df_product.head(5)"
   ]
  },
  {
   "cell_type": "markdown",
   "metadata": {
    "id": "Zk0WW5D5xZK9"
   },
   "source": [
    "### 4.2 Check statistical summary of both datasets. Note:- Include both numerical and object type columns."
   ]
  },
  {
   "cell_type": "code",
   "execution_count": null,
   "metadata": {
    "colab": {
     "base_uri": "https://localhost:8080/",
     "height": 297
    },
    "id": "ylwcqQpcx_Tl",
    "outputId": "9ea5c412-a936-4813-aeab-faff481cfabf"
   },
   "outputs": [
    {
     "data": {
      "text/html": [
       "<div>\n",
       "<style scoped>\n",
       "    .dataframe tbody tr th:only-of-type {\n",
       "        vertical-align: middle;\n",
       "    }\n",
       "\n",
       "    .dataframe tbody tr th {\n",
       "        vertical-align: top;\n",
       "    }\n",
       "\n",
       "    .dataframe thead th {\n",
       "        text-align: right;\n",
       "    }\n",
       "</style>\n",
       "<table border=\"1\" class=\"dataframe\">\n",
       "  <thead>\n",
       "    <tr style=\"text-align: right;\">\n",
       "      <th></th>\n",
       "      <th>rating</th>\n",
       "      <th>totalReviews</th>\n",
       "      <th>price</th>\n",
       "      <th>originalPrice</th>\n",
       "    </tr>\n",
       "  </thead>\n",
       "  <tbody>\n",
       "    <tr>\n",
       "      <th>count</th>\n",
       "      <td>720.0000000</td>\n",
       "      <td>720.0000000</td>\n",
       "      <td>720.0000000</td>\n",
       "      <td>720.0000000</td>\n",
       "    </tr>\n",
       "    <tr>\n",
       "      <th>mean</th>\n",
       "      <td>3.7137500</td>\n",
       "      <td>105.6791667</td>\n",
       "      <td>234.9489306</td>\n",
       "      <td>63.6907778</td>\n",
       "    </tr>\n",
       "    <tr>\n",
       "      <th>std</th>\n",
       "      <td>0.7160138</td>\n",
       "      <td>167.6011014</td>\n",
       "      <td>200.0084407</td>\n",
       "      <td>172.4053696</td>\n",
       "    </tr>\n",
       "    <tr>\n",
       "      <th>min</th>\n",
       "      <td>1.0000000</td>\n",
       "      <td>1.0000000</td>\n",
       "      <td>0.0000000</td>\n",
       "      <td>0.0000000</td>\n",
       "    </tr>\n",
       "    <tr>\n",
       "      <th>25%</th>\n",
       "      <td>3.3000000</td>\n",
       "      <td>7.0000000</td>\n",
       "      <td>97.5125000</td>\n",
       "      <td>0.0000000</td>\n",
       "    </tr>\n",
       "    <tr>\n",
       "      <th>50%</th>\n",
       "      <td>3.8000000</td>\n",
       "      <td>32.0000000</td>\n",
       "      <td>188.9750000</td>\n",
       "      <td>0.0000000</td>\n",
       "    </tr>\n",
       "    <tr>\n",
       "      <th>75%</th>\n",
       "      <td>4.1000000</td>\n",
       "      <td>122.2500000</td>\n",
       "      <td>336.7250000</td>\n",
       "      <td>0.0000000</td>\n",
       "    </tr>\n",
       "    <tr>\n",
       "      <th>max</th>\n",
       "      <td>5.0000000</td>\n",
       "      <td>983.0000000</td>\n",
       "      <td>999.9900000</td>\n",
       "      <td>999.9900000</td>\n",
       "    </tr>\n",
       "  </tbody>\n",
       "</table>\n",
       "</div>"
      ],
      "text/plain": [
       "           rating  totalReviews       price  originalPrice\n",
       "count 720.0000000   720.0000000 720.0000000    720.0000000\n",
       "mean    3.7137500   105.6791667 234.9489306     63.6907778\n",
       "std     0.7160138   167.6011014 200.0084407    172.4053696\n",
       "min     1.0000000     1.0000000   0.0000000      0.0000000\n",
       "25%     3.3000000     7.0000000  97.5125000      0.0000000\n",
       "50%     3.8000000    32.0000000 188.9750000      0.0000000\n",
       "75%     4.1000000   122.2500000 336.7250000      0.0000000\n",
       "max     5.0000000   983.0000000 999.9900000    999.9900000"
      ]
     },
     "execution_count": 27,
     "metadata": {
      "tags": []
     },
     "output_type": "execute_result"
    }
   ],
   "source": [
    "df_product.describe()"
   ]
  },
  {
   "cell_type": "code",
   "execution_count": null,
   "metadata": {
    "colab": {
     "base_uri": "https://localhost:8080/",
     "height": 173
    },
    "id": "IfOHpaA5qU5e",
    "outputId": "17a05a98-889a-4318-bf89-945729fcdbda"
   },
   "outputs": [
    {
     "data": {
      "text/html": [
       "<div>\n",
       "<style scoped>\n",
       "    .dataframe tbody tr th:only-of-type {\n",
       "        vertical-align: middle;\n",
       "    }\n",
       "\n",
       "    .dataframe tbody tr th {\n",
       "        vertical-align: top;\n",
       "    }\n",
       "\n",
       "    .dataframe thead th {\n",
       "        text-align: right;\n",
       "    }\n",
       "</style>\n",
       "<table border=\"1\" class=\"dataframe\">\n",
       "  <thead>\n",
       "    <tr style=\"text-align: right;\">\n",
       "      <th></th>\n",
       "      <th>asin</th>\n",
       "      <th>brand</th>\n",
       "      <th>title</th>\n",
       "    </tr>\n",
       "  </thead>\n",
       "  <tbody>\n",
       "    <tr>\n",
       "      <th>count</th>\n",
       "      <td>720</td>\n",
       "      <td>716</td>\n",
       "      <td>720</td>\n",
       "    </tr>\n",
       "    <tr>\n",
       "      <th>unique</th>\n",
       "      <td>720</td>\n",
       "      <td>10</td>\n",
       "      <td>718</td>\n",
       "    </tr>\n",
       "    <tr>\n",
       "      <th>top</th>\n",
       "      <td>B07QQYHSR5</td>\n",
       "      <td>Samsung</td>\n",
       "      <td>Apple iPhone 6S, 64GB, Rose Gold - For AT&amp;T / ...</td>\n",
       "    </tr>\n",
       "    <tr>\n",
       "      <th>freq</th>\n",
       "      <td>1</td>\n",
       "      <td>346</td>\n",
       "      <td>2</td>\n",
       "    </tr>\n",
       "  </tbody>\n",
       "</table>\n",
       "</div>"
      ],
      "text/plain": [
       "              asin    brand                                              title\n",
       "count          720      716                                                720\n",
       "unique         720       10                                                718\n",
       "top     B07QQYHSR5  Samsung  Apple iPhone 6S, 64GB, Rose Gold - For AT&T / ...\n",
       "freq             1      346                                                  2"
      ]
     },
     "execution_count": 35,
     "metadata": {
      "tags": []
     },
     "output_type": "execute_result"
    }
   ],
   "source": [
    "df_product.describe(include='O')"
   ]
  },
  {
   "cell_type": "code",
   "execution_count": null,
   "metadata": {
    "colab": {
     "base_uri": "https://localhost:8080/",
     "height": 297
    },
    "id": "WFaDkvIjyDtG",
    "outputId": "177382b5-5b27-4ddb-9289-4d88df187c49"
   },
   "outputs": [
    {
     "data": {
      "text/html": [
       "<div>\n",
       "<style scoped>\n",
       "    .dataframe tbody tr th:only-of-type {\n",
       "        vertical-align: middle;\n",
       "    }\n",
       "\n",
       "    .dataframe tbody tr th {\n",
       "        vertical-align: top;\n",
       "    }\n",
       "\n",
       "    .dataframe thead th {\n",
       "        text-align: right;\n",
       "    }\n",
       "</style>\n",
       "<table border=\"1\" class=\"dataframe\">\n",
       "  <thead>\n",
       "    <tr style=\"text-align: right;\">\n",
       "      <th></th>\n",
       "      <th>rating</th>\n",
       "      <th>helpfulVotes</th>\n",
       "    </tr>\n",
       "  </thead>\n",
       "  <tbody>\n",
       "    <tr>\n",
       "      <th>count</th>\n",
       "      <td>67986.0000000</td>\n",
       "      <td>27215.0000000</td>\n",
       "    </tr>\n",
       "    <tr>\n",
       "      <th>mean</th>\n",
       "      <td>3.8079163</td>\n",
       "      <td>8.2296895</td>\n",
       "    </tr>\n",
       "    <tr>\n",
       "      <th>std</th>\n",
       "      <td>1.5829058</td>\n",
       "      <td>31.9548772</td>\n",
       "    </tr>\n",
       "    <tr>\n",
       "      <th>min</th>\n",
       "      <td>1.0000000</td>\n",
       "      <td>1.0000000</td>\n",
       "    </tr>\n",
       "    <tr>\n",
       "      <th>25%</th>\n",
       "      <td>3.0000000</td>\n",
       "      <td>1.0000000</td>\n",
       "    </tr>\n",
       "    <tr>\n",
       "      <th>50%</th>\n",
       "      <td>5.0000000</td>\n",
       "      <td>2.0000000</td>\n",
       "    </tr>\n",
       "    <tr>\n",
       "      <th>75%</th>\n",
       "      <td>5.0000000</td>\n",
       "      <td>5.0000000</td>\n",
       "    </tr>\n",
       "    <tr>\n",
       "      <th>max</th>\n",
       "      <td>5.0000000</td>\n",
       "      <td>990.0000000</td>\n",
       "    </tr>\n",
       "  </tbody>\n",
       "</table>\n",
       "</div>"
      ],
      "text/plain": [
       "             rating  helpfulVotes\n",
       "count 67986.0000000 27215.0000000\n",
       "mean      3.8079163     8.2296895\n",
       "std       1.5829058    31.9548772\n",
       "min       1.0000000     1.0000000\n",
       "25%       3.0000000     1.0000000\n",
       "50%       5.0000000     2.0000000\n",
       "75%       5.0000000     5.0000000\n",
       "max       5.0000000   990.0000000"
      ]
     },
     "execution_count": 33,
     "metadata": {
      "tags": []
     },
     "output_type": "execute_result"
    }
   ],
   "source": [
    "df_review.describe()"
   ]
  },
  {
   "cell_type": "code",
   "execution_count": null,
   "metadata": {
    "colab": {
     "base_uri": "https://localhost:8080/",
     "height": 173
    },
    "id": "73PwaWlEqw8M",
    "outputId": "16a7063f-59dd-4cff-f3c8-630f1fee6fa1"
   },
   "outputs": [
    {
     "data": {
      "text/html": [
       "<div>\n",
       "<style scoped>\n",
       "    .dataframe tbody tr th:only-of-type {\n",
       "        vertical-align: middle;\n",
       "    }\n",
       "\n",
       "    .dataframe tbody tr th {\n",
       "        vertical-align: top;\n",
       "    }\n",
       "\n",
       "    .dataframe thead th {\n",
       "        text-align: right;\n",
       "    }\n",
       "</style>\n",
       "<table border=\"1\" class=\"dataframe\">\n",
       "  <thead>\n",
       "    <tr style=\"text-align: right;\">\n",
       "      <th></th>\n",
       "      <th>asin</th>\n",
       "      <th>title</th>\n",
       "      <th>body</th>\n",
       "    </tr>\n",
       "  </thead>\n",
       "  <tbody>\n",
       "    <tr>\n",
       "      <th>count</th>\n",
       "      <td>67986</td>\n",
       "      <td>67972</td>\n",
       "      <td>67965</td>\n",
       "    </tr>\n",
       "    <tr>\n",
       "      <th>unique</th>\n",
       "      <td>720</td>\n",
       "      <td>41489</td>\n",
       "      <td>59811</td>\n",
       "    </tr>\n",
       "    <tr>\n",
       "      <th>top</th>\n",
       "      <td>B00F2SKPIM</td>\n",
       "      <td>Five Stars</td>\n",
       "      <td>Good</td>\n",
       "    </tr>\n",
       "    <tr>\n",
       "      <th>freq</th>\n",
       "      <td>981</td>\n",
       "      <td>6043</td>\n",
       "      <td>303</td>\n",
       "    </tr>\n",
       "  </tbody>\n",
       "</table>\n",
       "</div>"
      ],
      "text/plain": [
       "              asin       title   body\n",
       "count        67986       67972  67965\n",
       "unique         720       41489  59811\n",
       "top     B00F2SKPIM  Five Stars   Good\n",
       "freq           981        6043    303"
      ]
     },
     "execution_count": 34,
     "metadata": {
      "tags": []
     },
     "output_type": "execute_result"
    }
   ],
   "source": [
    "df_review.describe(include='O')"
   ]
  },
  {
   "cell_type": "markdown",
   "metadata": {
    "id": "cSdGfadUyEdU"
   },
   "source": [
    "### 4.3 From the above statistical summary, write inferences like count of unique products, top brand, top title, range of rating, price range, etc"
   ]
  },
  {
   "cell_type": "markdown",
   "metadata": {
    "id": "NNpQid_GoALc"
   },
   "source": [
    "- Most of the people have given 5 star ratings.\n",
    "- We have 720 products in file.\n",
    "- Apple is the top title with frequency 2. Total unituw brand are 712.\n",
    "- Samsung is the top brand. We have 10 unique brand.\n",
    "- Rating is in the range 1 to 5. 25% people rated 3, 50% and 75% people rated 5. Mean rating is 3.7\n",
    "- As we have more records with rating 5 our dataset is biased.\n",
    "- OriginalPrice is zero for all the records.\n",
    "- Price ranges from 0 to 999.99 with 235 as mean price value\n"
   ]
  },
  {
   "cell_type": "markdown",
   "metadata": {
    "id": "XMv_hXyxJKZK"
   },
   "source": [
    "### 4.4 Analyze the distribution of ratings and other categorical features like brand, etc"
   ]
  },
  {
   "cell_type": "code",
   "execution_count": null,
   "metadata": {
    "colab": {
     "base_uri": "https://localhost:8080/",
     "height": 279
    },
    "id": "oEhjSsMcyirD",
    "outputId": "0ba8e20c-1dc5-4d1b-9855-07c8870980f5"
   },
   "outputs": [
    {
     "data": {
      "image/png": "[encoded data removed]",
      "text/plain": [
       "<Figure size 432x288 with 1 Axes>"
      ]
     },
     "metadata": {
      "needs_background": "light",
      "tags": []
     },
     "output_type": "display_data"
    }
   ],
   "source": [
    "sns.countplot(df_product.brand);"
   ]
  },
  {
   "cell_type": "code",
   "execution_count": null,
   "metadata": {
    "colab": {
     "base_uri": "https://localhost:8080/",
     "height": 319
    },
    "id": "rlZMWoJAvmyL",
    "outputId": "9db85b6a-745f-423c-9b76-f566507f88df"
   },
   "outputs": [
    {
     "data": {
      "text/plain": [
       "<matplotlib.axes._subplots.AxesSubplot at 0x7f46d11a23d0>"
      ]
     },
     "execution_count": 47,
     "metadata": {
      "tags": []
     },
     "output_type": "execute_result"
    },
    {
     "data": {
      "image/png": "[encoded data removed]",
      "text/plain": [
       "<Figure size 432x288 with 1 Axes>"
      ]
     },
     "metadata": {
      "needs_background": "light",
      "tags": []
     },
     "output_type": "display_data"
    }
   ],
   "source": [
    "df_product.brand.value_counts().plot(kind='bar')"
   ]
  },
  {
   "cell_type": "code",
   "execution_count": null,
   "metadata": {
    "colab": {
     "base_uri": "https://localhost:8080/",
     "height": 575
    },
    "id": "4zqdY-KDwAPo",
    "outputId": "cdff147e-952f-4924-c9d8-727c03973157"
   },
   "outputs": [
    {
     "data": {
      "image/png": "[encoded data removed]",
      "text/plain": [
       "<Figure size 1080x720 with 1 Axes>"
      ]
     },
     "metadata": {
      "tags": []
     },
     "output_type": "display_data"
    }
   ],
   "source": [
    "df_product.brand.value_counts().plot(kind='pie', figsize = (15,10));"
   ]
  },
  {
   "cell_type": "code",
   "execution_count": null,
   "metadata": {
    "colab": {
     "base_uri": "https://localhost:8080/",
     "height": 369
    },
    "id": "gxUwRpgJuUpl",
    "outputId": "94f79a33-363c-41d2-a012-9f44eb9a8042"
   },
   "outputs": [
    {
     "data": {
      "image/png": "[encoded data removed]",
      "text/plain": [
       "<Figure size 360x360 with 1 Axes>"
      ]
     },
     "metadata": {
      "needs_background": "light",
      "tags": []
     },
     "output_type": "display_data"
    }
   ],
   "source": [
    "sns.displot(df_product['rating'], kind='kde');"
   ]
  },
  {
   "cell_type": "code",
   "execution_count": null,
   "metadata": {
    "colab": {
     "base_uri": "https://localhost:8080/",
     "height": 411
    },
    "id": "Q1X79omwu7KP",
    "outputId": "2f7622fc-9b7c-4cfe-88ab-9b54ad125d9c"
   },
   "outputs": [
    {
     "data": {
      "image/png": "[encoded data removed]",
      "text/plain": [
       "<Figure size 504x504 with 1 Axes>"
      ]
     },
     "metadata": {
      "tags": []
     },
     "output_type": "display_data"
    }
   ],
   "source": [
    "df_review['rating'].value_counts().plot(kind='pie', figsize = (7,7));"
   ]
  },
  {
   "cell_type": "code",
   "execution_count": null,
   "metadata": {
    "colab": {
     "base_uri": "https://localhost:8080/",
     "height": 279
    },
    "id": "Q-c1Dcq_wUff",
    "outputId": "16dc8d29-c990-4a93-9780-8152c243cde7"
   },
   "outputs": [
    {
     "data": {
      "image/png": "[encoded data removed]",
      "text/plain": [
       "<Figure size 432x288 with 1 Axes>"
      ]
     },
     "metadata": {
      "needs_background": "light",
      "tags": []
     },
     "output_type": "display_data"
    }
   ],
   "source": [
    "sns.countplot(df_review['rating']);"
   ]
  },
  {
   "cell_type": "markdown",
   "metadata": {
    "id": "kbRWFyMGqTNd"
   },
   "source": [
    "Most of the product are of Samsumg brand. Most of the rating user gave is 5."
   ]
  },
  {
   "cell_type": "markdown",
   "metadata": {
    "id": "jwZBGODgyi1a"
   },
   "source": [
    "### 4.5 Display average rating per brand"
   ]
  },
  {
   "cell_type": "code",
   "execution_count": null,
   "metadata": {
    "colab": {
     "base_uri": "https://localhost:8080/",
     "height": 265
    },
    "id": "OSBBiAv8yscd",
    "outputId": "4fed8c86-613a-493a-8a6b-5da69c1b7b05"
   },
   "outputs": [
    {
     "data": {
      "image/png": "[encoded data removed]",
      "text/plain": [
       "<Figure size 432x288 with 1 Axes>"
      ]
     },
     "metadata": {
      "needs_background": "light",
      "tags": []
     },
     "output_type": "display_data"
    }
   ],
   "source": [
    "df_product.groupby(by='brand')['rating'].mean().sort_values().plot(kind='barh');"
   ]
  },
  {
   "cell_type": "markdown",
   "metadata": {
    "id": "cvncL8KAxUQ1"
   },
   "source": [
    "Xiomi is leading brand. It has high average rating."
   ]
  },
  {
   "cell_type": "markdown",
   "metadata": {
    "id": "vUXuEwlgyvB0"
   },
   "source": [
    "### 4.6 Display average price per brand"
   ]
  },
  {
   "cell_type": "code",
   "execution_count": null,
   "metadata": {
    "colab": {
     "base_uri": "https://localhost:8080/",
     "height": 265
    },
    "id": "ACgIwVlyy3Pu",
    "outputId": "f063de63-42cb-434b-c3d9-0b962e315142"
   },
   "outputs": [
    {
     "data": {
      "image/png": "[encoded data removed]",
      "text/plain": [
       "<Figure size 432x288 with 1 Axes>"
      ]
     },
     "metadata": {
      "needs_background": "light",
      "tags": []
     },
     "output_type": "display_data"
    }
   ],
   "source": [
    "df_product.groupby(by='brand')['price'].mean().sort_values().plot(kind='barh');"
   ]
  },
  {
   "cell_type": "markdown",
   "metadata": {
    "id": "lfedNz34qk1b"
   },
   "source": [
    "Oneplus brand has most average plan"
   ]
  },
  {
   "cell_type": "markdown",
   "metadata": {
    "id": "U0JfwL74y3a-"
   },
   "source": [
    "### 4.7 Display average 'totalReviews' per brand"
   ]
  },
  {
   "cell_type": "code",
   "execution_count": null,
   "metadata": {
    "colab": {
     "base_uri": "https://localhost:8080/",
     "height": 265
    },
    "id": "wfzciNxqzBYu",
    "outputId": "7f32069e-1c4e-44e8-e67b-64a1c9df9896"
   },
   "outputs": [
    {
     "data": {
      "image/png": "[encoded data removed]",
      "text/plain": [
       "<Figure size 432x288 with 1 Axes>"
      ]
     },
     "metadata": {
      "needs_background": "light",
      "tags": []
     },
     "output_type": "display_data"
    }
   ],
   "source": [
    "df_product.groupby(by='brand')['totalReviews'].mean().sort_values().plot(kind='barh');"
   ]
  },
  {
   "cell_type": "markdown",
   "metadata": {
    "id": "zxqT-hkzxxC3"
   },
   "source": [
    "Nokia has highest total review."
   ]
  },
  {
   "cell_type": "markdown",
   "metadata": {
    "id": "x_fxI7OAeDUM"
   },
   "source": [
    "### 4.8 Merge two datasets using 'asin' and check the shape of the final dataset"
   ]
  },
  {
   "cell_type": "code",
   "execution_count": 7,
   "metadata": {
    "id": "svpHfWI9zNAP"
   },
   "outputs": [],
   "source": [
    "# df_final = pd.merge(df_review, df_product, on='asin')\n",
    "\n",
    "# To get all the reviews even if product is not there we will use left join.\n",
    "df_final = pd.merge(df_review, df_product, how='left', on='asin')"
   ]
  },
  {
   "cell_type": "code",
   "execution_count": 8,
   "metadata": {
    "colab": {
     "base_uri": "https://localhost:8080/"
    },
    "id": "bx-IpzEbyXLk",
    "outputId": "8a3188b0-1e9d-4acd-841e-bf3dd0f3fbc3"
   },
   "outputs": [
    {
     "data": {
      "text/plain": [
       "(67986, 14)"
      ]
     },
     "execution_count": 8,
     "metadata": {
      "tags": []
     },
     "output_type": "execute_result"
    }
   ],
   "source": [
    "df_final.shape"
   ]
  },
  {
   "cell_type": "code",
   "execution_count": null,
   "metadata": {
    "colab": {
     "base_uri": "https://localhost:8080/",
     "height": 442
    },
    "id": "fQteXg4Kyql_",
    "outputId": "fb3f910d-d125-4e7e-f1d8-d7e7b5eccb10"
   },
   "outputs": [
    {
     "data": {
      "text/html": [
       "<div>\n",
       "<style scoped>\n",
       "    .dataframe tbody tr th:only-of-type {\n",
       "        vertical-align: middle;\n",
       "    }\n",
       "\n",
       "    .dataframe tbody tr th {\n",
       "        vertical-align: top;\n",
       "    }\n",
       "\n",
       "    .dataframe thead th {\n",
       "        text-align: right;\n",
       "    }\n",
       "</style>\n",
       "<table border=\"1\" class=\"dataframe\">\n",
       "  <thead>\n",
       "    <tr style=\"text-align: right;\">\n",
       "      <th></th>\n",
       "      <th>asin</th>\n",
       "      <th>name</th>\n",
       "      <th>rating_x</th>\n",
       "      <th>date</th>\n",
       "      <th>verified</th>\n",
       "      <th>title_x</th>\n",
       "      <th>body</th>\n",
       "      <th>helpfulVotes</th>\n",
       "      <th>brand</th>\n",
       "      <th>title_y</th>\n",
       "      <th>rating_y</th>\n",
       "      <th>totalReviews</th>\n",
       "      <th>price</th>\n",
       "      <th>originalPrice</th>\n",
       "    </tr>\n",
       "  </thead>\n",
       "  <tbody>\n",
       "    <tr>\n",
       "      <th>37137</th>\n",
       "      <td>B072N3GKSM</td>\n",
       "      <td>Rosey</td>\n",
       "      <td>1</td>\n",
       "      <td>August 21, 2018</td>\n",
       "      <td>False</td>\n",
       "      <td>CAUTION: Refurbished units probably aren't bei...</td>\n",
       "      <td>I have a Pixel 2 XL. My son was ecstatic to ge...</td>\n",
       "      <td>1.0000000</td>\n",
       "      <td>Google</td>\n",
       "      <td>Google Pixel GSM Unlocked (Renewed) (32GB, Gray)</td>\n",
       "      <td>2.9000000</td>\n",
       "      <td>319</td>\n",
       "      <td>109.9500000</td>\n",
       "      <td>0.0000000</td>\n",
       "    </tr>\n",
       "    <tr>\n",
       "      <th>47374</th>\n",
       "      <td>B07CHW5KMY</td>\n",
       "      <td>amarisrama</td>\n",
       "      <td>4</td>\n",
       "      <td>September 29, 2018</td>\n",
       "      <td>True</td>\n",
       "      <td>budget phone..</td>\n",
       "      <td>some of the basic features are disabled by Mot...</td>\n",
       "      <td>11.0000000</td>\n",
       "      <td>Motorola</td>\n",
       "      <td>Motorola Moto G6 (32GB, 3GB RAM) Dual SIM 5.7\"...</td>\n",
       "      <td>3.8000000</td>\n",
       "      <td>212</td>\n",
       "      <td>118.9600000</td>\n",
       "      <td>118.9700000</td>\n",
       "    </tr>\n",
       "    <tr>\n",
       "      <th>45481</th>\n",
       "      <td>B079HB518K</td>\n",
       "      <td>Pamela S. Nichols</td>\n",
       "      <td>5</td>\n",
       "      <td>September 19, 2019</td>\n",
       "      <td>True</td>\n",
       "      <td>Reliability</td>\n",
       "      <td>Replaced an IPhone 6SE belonging to my grandda...</td>\n",
       "      <td>nan</td>\n",
       "      <td>Apple</td>\n",
       "      <td>Apple iPhone 7, 32GB, Rose Gold - For AT&amp;T / T...</td>\n",
       "      <td>3.9000000</td>\n",
       "      <td>243</td>\n",
       "      <td>199.0000000</td>\n",
       "      <td>206.9000000</td>\n",
       "    </tr>\n",
       "    <tr>\n",
       "      <th>57231</th>\n",
       "      <td>B07NP2Y82Q</td>\n",
       "      <td>BioDoug</td>\n",
       "      <td>1</td>\n",
       "      <td>June 10, 2019</td>\n",
       "      <td>True</td>\n",
       "      <td>Great if you don't need wifi calling</td>\n",
       "      <td>Phone does not support wifi calling in the USA...</td>\n",
       "      <td>5.0000000</td>\n",
       "      <td>Motorola</td>\n",
       "      <td>Motorola Moto G7+ Plus (64GB, 4GB RAM) Dual SI...</td>\n",
       "      <td>4.1000000</td>\n",
       "      <td>125</td>\n",
       "      <td>202.9900000</td>\n",
       "      <td>0.0000000</td>\n",
       "    </tr>\n",
       "    <tr>\n",
       "      <th>49874</th>\n",
       "      <td>B07FZH9BGV</td>\n",
       "      <td>Kiluwasha</td>\n",
       "      <td>5</td>\n",
       "      <td>February 15, 2019</td>\n",
       "      <td>True</td>\n",
       "      <td>Great product for the money</td>\n",
       "      <td>I wanted to invest my money into something ths...</td>\n",
       "      <td>nan</td>\n",
       "      <td>Samsung</td>\n",
       "      <td>Samsung Galaxy Note 9 Factory Unlocked Phone w...</td>\n",
       "      <td>4.1000000</td>\n",
       "      <td>873</td>\n",
       "      <td>781.0500000</td>\n",
       "      <td>999.9900000</td>\n",
       "    </tr>\n",
       "  </tbody>\n",
       "</table>\n",
       "</div>"
      ],
      "text/plain": [
       "             asin               name  rating_x                date  verified  \\\n",
       "37137  B072N3GKSM              Rosey         1     August 21, 2018     False   \n",
       "47374  B07CHW5KMY         amarisrama         4  September 29, 2018      True   \n",
       "45481  B079HB518K  Pamela S. Nichols         5  September 19, 2019      True   \n",
       "57231  B07NP2Y82Q            BioDoug         1       June 10, 2019      True   \n",
       "49874  B07FZH9BGV          Kiluwasha         5   February 15, 2019      True   \n",
       "\n",
       "                                                 title_x  \\\n",
       "37137  CAUTION: Refurbished units probably aren't bei...   \n",
       "47374                                     budget phone..   \n",
       "45481                                        Reliability   \n",
       "57231               Great if you don't need wifi calling   \n",
       "49874                        Great product for the money   \n",
       "\n",
       "                                                    body  helpfulVotes  \\\n",
       "37137  I have a Pixel 2 XL. My son was ecstatic to ge...     1.0000000   \n",
       "47374  some of the basic features are disabled by Mot...    11.0000000   \n",
       "45481  Replaced an IPhone 6SE belonging to my grandda...           nan   \n",
       "57231  Phone does not support wifi calling in the USA...     5.0000000   \n",
       "49874  I wanted to invest my money into something ths...           nan   \n",
       "\n",
       "          brand                                            title_y  rating_y  \\\n",
       "37137    Google   Google Pixel GSM Unlocked (Renewed) (32GB, Gray) 2.9000000   \n",
       "47374  Motorola  Motorola Moto G6 (32GB, 3GB RAM) Dual SIM 5.7\"... 3.8000000   \n",
       "45481     Apple  Apple iPhone 7, 32GB, Rose Gold - For AT&T / T... 3.9000000   \n",
       "57231  Motorola  Motorola Moto G7+ Plus (64GB, 4GB RAM) Dual SI... 4.1000000   \n",
       "49874   Samsung  Samsung Galaxy Note 9 Factory Unlocked Phone w... 4.1000000   \n",
       "\n",
       "       totalReviews       price  originalPrice  \n",
       "37137           319 109.9500000      0.0000000  \n",
       "47374           212 118.9600000    118.9700000  \n",
       "45481           243 199.0000000    206.9000000  \n",
       "57231           125 202.9900000      0.0000000  \n",
       "49874           873 781.0500000    999.9900000  "
      ]
     },
     "execution_count": 105,
     "metadata": {
      "tags": []
     },
     "output_type": "execute_result"
    }
   ],
   "source": [
    "df_final.sample(5)"
   ]
  },
  {
   "cell_type": "markdown",
   "metadata": {
    "id": "zdTfwlL7fYpq"
   },
   "source": [
    "### 4.9 Rename important features with appropriate names.\n",
    "Imortant features - \"rating_x\": \"user_rating\", \"title_x\": \"review_title\", \"title_y\": \"item_title\", \"rating_y\": \"overall_rating\""
   ]
  },
  {
   "cell_type": "code",
   "execution_count": 9,
   "metadata": {
    "id": "KI-6FCkZztXM"
   },
   "outputs": [],
   "source": [
    "df_final.rename(columns = {'title_x': 'review_title', 'rating_x':'user_rating', 'title_y' : 'item_title', 'rating_y': 'overall_rating'}, inplace=True)"
   ]
  },
  {
   "cell_type": "code",
   "execution_count": 10,
   "metadata": {
    "colab": {
     "base_uri": "https://localhost:8080/",
     "height": 295
    },
    "id": "-_f_Vhe02GzF",
    "outputId": "3ab38358-8cbc-4ec9-9aff-9f7ddebaf006"
   },
   "outputs": [
    {
     "data": {
      "text/html": [
       "<div>\n",
       "<style scoped>\n",
       "    .dataframe tbody tr th:only-of-type {\n",
       "        vertical-align: middle;\n",
       "    }\n",
       "\n",
       "    .dataframe tbody tr th {\n",
       "        vertical-align: top;\n",
       "    }\n",
       "\n",
       "    .dataframe thead th {\n",
       "        text-align: right;\n",
       "    }\n",
       "</style>\n",
       "<table border=\"1\" class=\"dataframe\">\n",
       "  <thead>\n",
       "    <tr style=\"text-align: right;\">\n",
       "      <th></th>\n",
       "      <th>asin</th>\n",
       "      <th>name</th>\n",
       "      <th>user_rating</th>\n",
       "      <th>date</th>\n",
       "      <th>verified</th>\n",
       "      <th>review_title</th>\n",
       "      <th>body</th>\n",
       "      <th>helpfulVotes</th>\n",
       "      <th>brand</th>\n",
       "      <th>item_title</th>\n",
       "      <th>overall_rating</th>\n",
       "      <th>totalReviews</th>\n",
       "      <th>price</th>\n",
       "      <th>originalPrice</th>\n",
       "    </tr>\n",
       "  </thead>\n",
       "  <tbody>\n",
       "    <tr>\n",
       "      <th>11907</th>\n",
       "      <td>B00LAEA84S</td>\n",
       "      <td>Steven</td>\n",
       "      <td>1</td>\n",
       "      <td>September 21, 2017</td>\n",
       "      <td>True</td>\n",
       "      <td>Do not buy.</td>\n",
       "      <td>Phone is junk. Stopped charging correctly afte...</td>\n",
       "      <td>nan</td>\n",
       "      <td>Samsung</td>\n",
       "      <td>Samsung Galaxy S5 G900V Verizon 4G LTE Smartph...</td>\n",
       "      <td>3.2000000</td>\n",
       "      <td>627</td>\n",
       "      <td>0.0000000</td>\n",
       "      <td>0.0000000</td>\n",
       "    </tr>\n",
       "    <tr>\n",
       "      <th>42594</th>\n",
       "      <td>B077578W38</td>\n",
       "      <td>Mike G</td>\n",
       "      <td>5</td>\n",
       "      <td>December 7, 2019</td>\n",
       "      <td>False</td>\n",
       "      <td>Really great condition</td>\n",
       "      <td>It was as advertised where the phone was like ...</td>\n",
       "      <td>nan</td>\n",
       "      <td>Apple</td>\n",
       "      <td>Apple iPhone X, Unlocked 5.8\", 64GB - Space Gr...</td>\n",
       "      <td>3.9000000</td>\n",
       "      <td>442</td>\n",
       "      <td>448.9500000</td>\n",
       "      <td>0.0000000</td>\n",
       "    </tr>\n",
       "    <tr>\n",
       "      <th>15810</th>\n",
       "      <td>B00VH2TWBS</td>\n",
       "      <td>K3R</td>\n",
       "      <td>1</td>\n",
       "      <td>May 15, 2018</td>\n",
       "      <td>True</td>\n",
       "      <td>No service..</td>\n",
       "      <td>Phone is said to be fully unlocked but I have ...</td>\n",
       "      <td>1.0000000</td>\n",
       "      <td>Samsung</td>\n",
       "      <td>Samsung GALAXY S6 G920 32GB Unlocked GSM 4G LT...</td>\n",
       "      <td>3.1000000</td>\n",
       "      <td>243</td>\n",
       "      <td>0.0000000</td>\n",
       "      <td>0.0000000</td>\n",
       "    </tr>\n",
       "  </tbody>\n",
       "</table>\n",
       "</div>"
      ],
      "text/plain": [
       "             asin    name  user_rating                date  verified  \\\n",
       "11907  B00LAEA84S  Steven            1  September 21, 2017      True   \n",
       "42594  B077578W38  Mike G            5    December 7, 2019     False   \n",
       "15810  B00VH2TWBS     K3R            1        May 15, 2018      True   \n",
       "\n",
       "                 review_title  \\\n",
       "11907             Do not buy.   \n",
       "42594  Really great condition   \n",
       "15810            No service..   \n",
       "\n",
       "                                                    body  helpfulVotes  \\\n",
       "11907  Phone is junk. Stopped charging correctly afte...           nan   \n",
       "42594  It was as advertised where the phone was like ...           nan   \n",
       "15810  Phone is said to be fully unlocked but I have ...     1.0000000   \n",
       "\n",
       "         brand                                         item_title  \\\n",
       "11907  Samsung  Samsung Galaxy S5 G900V Verizon 4G LTE Smartph...   \n",
       "42594    Apple  Apple iPhone X, Unlocked 5.8\", 64GB - Space Gr...   \n",
       "15810  Samsung  Samsung GALAXY S6 G920 32GB Unlocked GSM 4G LT...   \n",
       "\n",
       "       overall_rating  totalReviews       price  originalPrice  \n",
       "11907       3.2000000           627   0.0000000      0.0000000  \n",
       "42594       3.9000000           442 448.9500000      0.0000000  \n",
       "15810       3.1000000           243   0.0000000      0.0000000  "
      ]
     },
     "execution_count": 10,
     "metadata": {
      "tags": []
     },
     "output_type": "execute_result"
    }
   ],
   "source": [
    "df_final.sample(3)"
   ]
  },
  {
   "cell_type": "markdown",
   "metadata": {
    "id": "hNHEElHszthc"
   },
   "source": [
    "### 4.10 Select rows having verified reviews and check the shape of the final dataset"
   ]
  },
  {
   "cell_type": "code",
   "execution_count": 11,
   "metadata": {
    "id": "Jyav9_Zoz-rT"
   },
   "outputs": [],
   "source": [
    "df_1 = df_final[df_final.verified == True]"
   ]
  },
  {
   "cell_type": "code",
   "execution_count": 12,
   "metadata": {
    "colab": {
     "base_uri": "https://localhost:8080/"
    },
    "id": "ZSsyEMQb2c6f",
    "outputId": "f912a330-7d1c-4d52-fde8-9a244ee8c7c8"
   },
   "outputs": [
    {
     "data": {
      "text/plain": [
       "(61225, 14)"
      ]
     },
     "execution_count": 12,
     "metadata": {
      "tags": []
     },
     "output_type": "execute_result"
    }
   ],
   "source": [
    "df_1.shape"
   ]
  },
  {
   "cell_type": "code",
   "execution_count": 13,
   "metadata": {
    "colab": {
     "base_uri": "https://localhost:8080/"
    },
    "id": "XmQ19yif225L",
    "outputId": "855bbcc8-00b2-4bfd-d667-e63b1e29dbcc"
   },
   "outputs": [
    {
     "data": {
      "text/plain": [
       "True     61225\n",
       "False     6761\n",
       "Name: verified, dtype: int64"
      ]
     },
     "execution_count": 13,
     "metadata": {
      "tags": []
     },
     "output_type": "execute_result"
    }
   ],
   "source": [
    "# Confirming the count in df_1\n",
    "df_final.verified.value_counts()"
   ]
  },
  {
   "cell_type": "markdown",
   "metadata": {
    "id": "EpKusPjdz-2q"
   },
   "source": [
    "### 4.11 Check the number of reviews for various brands and report the brand that have highest number of reviews"
   ]
  },
  {
   "cell_type": "code",
   "execution_count": 14,
   "metadata": {
    "colab": {
     "base_uri": "https://localhost:8080/",
     "height": 265
    },
    "id": "WYvvwzQi4tqH",
    "outputId": "11e8d9d1-8cba-4bc6-937f-1439f64f086a"
   },
   "outputs": [
    {
     "data": {
      "image/png": "[encoded data removed]",
      "text/plain": [
       "<Figure size 432x288 with 1 Axes>"
      ]
     },
     "metadata": {
      "needs_background": "light",
      "tags": []
     },
     "output_type": "display_data"
    }
   ],
   "source": [
    "df_1.brand.value_counts().plot(kind='barh');"
   ]
  },
  {
   "cell_type": "code",
   "execution_count": 15,
   "metadata": {
    "colab": {
     "base_uri": "https://localhost:8080/",
     "height": 265
    },
    "id": "Ibz1S0Ns4CA_",
    "outputId": "f5d42a3e-fac2-4179-b14b-f88540726a1a"
   },
   "outputs": [
    {
     "data": {
      "image/png": "[encoded data removed]",
      "text/plain": [
       "<Figure size 432x288 with 1 Axes>"
      ]
     },
     "metadata": {
      "needs_background": "light",
      "tags": []
     },
     "output_type": "display_data"
    }
   ],
   "source": [
    "df_1.groupby(by='brand')['totalReviews'].count().sort_values().plot(kind='barh');"
   ]
  },
  {
   "cell_type": "markdown",
   "metadata": {
    "id": "5Gvnwy8FrCkQ"
   },
   "source": [
    "Brand Samsung has most reviews."
   ]
  },
  {
   "cell_type": "markdown",
   "metadata": {
    "id": "gPGjMFE-0Q5k"
   },
   "source": [
    "### 4.12 Drop irrelevant columns and keep important features like 'brand','body','price','user_rating','review_title' for further analysis"
   ]
  },
  {
   "cell_type": "code",
   "execution_count": 16,
   "metadata": {
    "colab": {
     "base_uri": "https://localhost:8080/",
     "height": 111
    },
    "id": "h-NbJFu45b-k",
    "outputId": "4a69ef4b-a198-4de6-f6d0-f5724caf2522"
   },
   "outputs": [
    {
     "data": {
      "text/html": [
       "<div>\n",
       "<style scoped>\n",
       "    .dataframe tbody tr th:only-of-type {\n",
       "        vertical-align: middle;\n",
       "    }\n",
       "\n",
       "    .dataframe tbody tr th {\n",
       "        vertical-align: top;\n",
       "    }\n",
       "\n",
       "    .dataframe thead th {\n",
       "        text-align: right;\n",
       "    }\n",
       "</style>\n",
       "<table border=\"1\" class=\"dataframe\">\n",
       "  <thead>\n",
       "    <tr style=\"text-align: right;\">\n",
       "      <th></th>\n",
       "      <th>brand</th>\n",
       "      <th>body</th>\n",
       "      <th>price</th>\n",
       "      <th>user_rating</th>\n",
       "      <th>review_title</th>\n",
       "    </tr>\n",
       "  </thead>\n",
       "  <tbody>\n",
       "    <tr>\n",
       "      <th>14</th>\n",
       "      <td>Motorola</td>\n",
       "      <td>DON'T BUY OUT OF SERVICE</td>\n",
       "      <td>49.9500000</td>\n",
       "      <td>1</td>\n",
       "      <td>Stupid phone</td>\n",
       "    </tr>\n",
       "    <tr>\n",
       "      <th>17</th>\n",
       "      <td>Motorola</td>\n",
       "      <td>1 star because the phones locked so I have to ...</td>\n",
       "      <td>49.9500000</td>\n",
       "      <td>1</td>\n",
       "      <td>Phones locked</td>\n",
       "    </tr>\n",
       "  </tbody>\n",
       "</table>\n",
       "</div>"
      ],
      "text/plain": [
       "       brand                                               body      price  \\\n",
       "14  Motorola                           DON'T BUY OUT OF SERVICE 49.9500000   \n",
       "17  Motorola  1 star because the phones locked so I have to ... 49.9500000   \n",
       "\n",
       "    user_rating   review_title  \n",
       "14            1   Stupid phone  \n",
       "17            1  Phones locked  "
      ]
     },
     "execution_count": 16,
     "metadata": {
      "tags": []
     },
     "output_type": "execute_result"
    }
   ],
   "source": [
    "# Building final data frame\n",
    "df_final = df_1[['brand','body','price','user_rating','review_title']]\n",
    "df_final.head(2)"
   ]
  },
  {
   "cell_type": "markdown",
   "metadata": {
    "id": "Gzo_rVT60fDf"
   },
   "source": [
    "### 4.13 Perform univariate analysis. Check distribution of price, user_rating"
   ]
  },
  {
   "cell_type": "code",
   "execution_count": 17,
   "metadata": {
    "colab": {
     "base_uri": "https://localhost:8080/",
     "height": 369
    },
    "id": "DDoaU6pG7OAn",
    "outputId": "eb24cf6b-e4c2-4b8b-fc70-56997e89f0ab"
   },
   "outputs": [
    {
     "data": {
      "image/png": "[encoded data removed]",
      "text/plain": [
       "<Figure size 360x360 with 1 Axes>"
      ]
     },
     "metadata": {
      "needs_background": "light",
      "tags": []
     },
     "output_type": "display_data"
    }
   ],
   "source": [
    "sns.displot(df_final['price'], kind='kde');"
   ]
  },
  {
   "cell_type": "code",
   "execution_count": 18,
   "metadata": {
    "colab": {
     "base_uri": "https://localhost:8080/",
     "height": 280
    },
    "id": "F3vzILxZ0t0L",
    "outputId": "f520c04c-ee32-4ea4-8257-7df9c06c5b80"
   },
   "outputs": [
    {
     "data": {
      "image/png": "[encoded data removed]",
      "text/plain": [
       "<Figure size 432x288 with 1 Axes>"
      ]
     },
     "metadata": {
      "needs_background": "light",
      "tags": []
     },
     "output_type": "display_data"
    }
   ],
   "source": [
    "sns.countplot(df_final['user_rating']);"
   ]
  },
  {
   "cell_type": "markdown",
   "metadata": {
    "id": "x0Y_kE9T0uAf"
   },
   "source": [
    "### 4.14 Create a new column called \"sentiment\". It should have value as 1 (positive) if the user_Rating is greater than 3, value as 0 (negative) if the user_Rating <= 3"
   ]
  },
  {
   "cell_type": "code",
   "execution_count": 19,
   "metadata": {
    "id": "jGon-2xU1Ujb"
   },
   "outputs": [],
   "source": [
    "df_final['sentiment'] = df_final['user_rating'].apply(lambda x: 1 if x > 3 else 0)"
   ]
  },
  {
   "cell_type": "code",
   "execution_count": 20,
   "metadata": {
    "colab": {
     "base_uri": "https://localhost:8080/"
    },
    "id": "ZPya-ufa9pD-",
    "outputId": "18e5696f-17b1-42ac-c541-7902dd6e2e89"
   },
   "outputs": [
    {
     "data": {
      "text/plain": [
       "5    35001\n",
       "1    10910\n",
       "4     7938\n",
       "3     4128\n",
       "2     3248\n",
       "Name: user_rating, dtype: int64"
      ]
     },
     "execution_count": 20,
     "metadata": {
      "tags": []
     },
     "output_type": "execute_result"
    }
   ],
   "source": [
    "df_final['user_rating'].value_counts()"
   ]
  },
  {
   "cell_type": "markdown",
   "metadata": {
    "id": "K4rxSZWp1VAb"
   },
   "source": [
    "### 4.15 Check frequency distribution of the 'sentiment'"
   ]
  },
  {
   "cell_type": "code",
   "execution_count": 21,
   "metadata": {
    "colab": {
     "base_uri": "https://localhost:8080/"
    },
    "id": "yt3gH7Iz1dVP",
    "outputId": "4c0501a0-2d13-473b-baf4-deab96be9c0a"
   },
   "outputs": [
    {
     "data": {
      "text/plain": [
       "1    42939\n",
       "0    18286\n",
       "Name: sentiment, dtype: int64"
      ]
     },
     "execution_count": 21,
     "metadata": {
      "tags": []
     },
     "output_type": "execute_result"
    }
   ],
   "source": [
    "df_final['sentiment'].value_counts()"
   ]
  },
  {
   "cell_type": "code",
   "execution_count": 22,
   "metadata": {
    "colab": {
     "base_uri": "https://localhost:8080/",
     "height": 262
    },
    "id": "QFfwuiRl-LEh",
    "outputId": "4c324ec8-01d1-475b-f58d-e4fede3ac91f"
   },
   "outputs": [
    {
     "data": {
      "image/png": "[encoded data removed]",
      "text/plain": [
       "<Figure size 432x288 with 1 Axes>"
      ]
     },
     "metadata": {
      "needs_background": "light",
      "tags": []
     },
     "output_type": "display_data"
    }
   ],
   "source": [
    "df_final['sentiment'].value_counts().plot(kind='bar');"
   ]
  },
  {
   "cell_type": "markdown",
   "metadata": {
    "id": "rK0KMghP1ddb"
   },
   "source": [
    "### 4.16 Perform bivariate analysis. Check correlation/crosstab between features and write your inferences."
   ]
  },
  {
   "cell_type": "code",
   "execution_count": 23,
   "metadata": {
    "colab": {
     "base_uri": "https://localhost:8080/",
     "height": 279
    },
    "id": "scAV4fRg1nX0",
    "outputId": "270e0e05-8e24-42c9-d371-abe70982f21e"
   },
   "outputs": [
    {
     "data": {
      "image/png": "[encoded data removed]",
      "text/plain": [
       "<Figure size 432x288 with 1 Axes>"
      ]
     },
     "metadata": {
      "needs_background": "light",
      "tags": []
     },
     "output_type": "display_data"
    }
   ],
   "source": [
    "sns.boxplot(x=df_final['sentiment'], y=df_final['price']);"
   ]
  },
  {
   "cell_type": "markdown",
   "metadata": {
    "id": "Q-e2GTWaG14b"
   },
   "source": [
    "Price has no relation with sentiments. Both boxplot are aligned on same lines."
   ]
  },
  {
   "cell_type": "code",
   "execution_count": 24,
   "metadata": {
    "colab": {
     "base_uri": "https://localhost:8080/",
     "height": 390
    },
    "id": "pKyluO3SJHBy",
    "outputId": "e308c2ec-dbad-4b14-97d4-fac697854f00"
   },
   "outputs": [
    {
     "data": {
      "text/html": [
       "<div>\n",
       "<style scoped>\n",
       "    .dataframe tbody tr th:only-of-type {\n",
       "        vertical-align: middle;\n",
       "    }\n",
       "\n",
       "    .dataframe tbody tr th {\n",
       "        vertical-align: top;\n",
       "    }\n",
       "\n",
       "    .dataframe thead th {\n",
       "        text-align: right;\n",
       "    }\n",
       "</style>\n",
       "<table border=\"1\" class=\"dataframe\">\n",
       "  <thead>\n",
       "    <tr style=\"text-align: right;\">\n",
       "      <th>sentiment</th>\n",
       "      <th>0</th>\n",
       "      <th>1</th>\n",
       "    </tr>\n",
       "    <tr>\n",
       "      <th>brand</th>\n",
       "      <th></th>\n",
       "      <th></th>\n",
       "    </tr>\n",
       "  </thead>\n",
       "  <tbody>\n",
       "    <tr>\n",
       "      <th>ASUS</th>\n",
       "      <td>69</td>\n",
       "      <td>137</td>\n",
       "    </tr>\n",
       "    <tr>\n",
       "      <th>Apple</th>\n",
       "      <td>1627</td>\n",
       "      <td>3249</td>\n",
       "    </tr>\n",
       "    <tr>\n",
       "      <th>Google</th>\n",
       "      <td>1011</td>\n",
       "      <td>2152</td>\n",
       "    </tr>\n",
       "    <tr>\n",
       "      <th>HUAWEI</th>\n",
       "      <td>366</td>\n",
       "      <td>1653</td>\n",
       "    </tr>\n",
       "    <tr>\n",
       "      <th>Motorola</th>\n",
       "      <td>2220</td>\n",
       "      <td>5494</td>\n",
       "    </tr>\n",
       "    <tr>\n",
       "      <th>Nokia</th>\n",
       "      <td>1904</td>\n",
       "      <td>2974</td>\n",
       "    </tr>\n",
       "    <tr>\n",
       "      <th>OnePlus</th>\n",
       "      <td>45</td>\n",
       "      <td>259</td>\n",
       "    </tr>\n",
       "    <tr>\n",
       "      <th>Samsung</th>\n",
       "      <td>9499</td>\n",
       "      <td>21521</td>\n",
       "    </tr>\n",
       "    <tr>\n",
       "      <th>Sony</th>\n",
       "      <td>879</td>\n",
       "      <td>1812</td>\n",
       "    </tr>\n",
       "    <tr>\n",
       "      <th>Xiaomi</th>\n",
       "      <td>628</td>\n",
       "      <td>3579</td>\n",
       "    </tr>\n",
       "  </tbody>\n",
       "</table>\n",
       "</div>"
      ],
      "text/plain": [
       "sentiment     0      1\n",
       "brand                 \n",
       "ASUS         69    137\n",
       "Apple      1627   3249\n",
       "Google     1011   2152\n",
       "HUAWEI      366   1653\n",
       "Motorola   2220   5494\n",
       "Nokia      1904   2974\n",
       "OnePlus      45    259\n",
       "Samsung    9499  21521\n",
       "Sony        879   1812\n",
       "Xiaomi      628   3579"
      ]
     },
     "execution_count": 24,
     "metadata": {
      "tags": []
     },
     "output_type": "execute_result"
    }
   ],
   "source": [
    "pd.crosstab(df_final['brand'], df_final['sentiment'])"
   ]
  },
  {
   "cell_type": "code",
   "execution_count": 25,
   "metadata": {
    "colab": {
     "base_uri": "https://localhost:8080/",
     "height": 390
    },
    "id": "dQPQvErPDwMf",
    "outputId": "925054fe-f34a-4b1b-cacb-aa9bb6431b3d"
   },
   "outputs": [
    {
     "data": {
      "text/html": [
       "<div>\n",
       "<style scoped>\n",
       "    .dataframe tbody tr th:only-of-type {\n",
       "        vertical-align: middle;\n",
       "    }\n",
       "\n",
       "    .dataframe tbody tr th {\n",
       "        vertical-align: top;\n",
       "    }\n",
       "\n",
       "    .dataframe thead th {\n",
       "        text-align: right;\n",
       "    }\n",
       "</style>\n",
       "<table border=\"1\" class=\"dataframe\">\n",
       "  <thead>\n",
       "    <tr style=\"text-align: right;\">\n",
       "      <th>sentiment</th>\n",
       "      <th>0</th>\n",
       "      <th>1</th>\n",
       "    </tr>\n",
       "    <tr>\n",
       "      <th>brand</th>\n",
       "      <th></th>\n",
       "      <th></th>\n",
       "    </tr>\n",
       "  </thead>\n",
       "  <tbody>\n",
       "    <tr>\n",
       "      <th>ASUS</th>\n",
       "      <td>0.3349515</td>\n",
       "      <td>0.6650485</td>\n",
       "    </tr>\n",
       "    <tr>\n",
       "      <th>Apple</th>\n",
       "      <td>0.3336751</td>\n",
       "      <td>0.6663249</td>\n",
       "    </tr>\n",
       "    <tr>\n",
       "      <th>Google</th>\n",
       "      <td>0.3196333</td>\n",
       "      <td>0.6803667</td>\n",
       "    </tr>\n",
       "    <tr>\n",
       "      <th>HUAWEI</th>\n",
       "      <td>0.1812779</td>\n",
       "      <td>0.8187221</td>\n",
       "    </tr>\n",
       "    <tr>\n",
       "      <th>Motorola</th>\n",
       "      <td>0.2877884</td>\n",
       "      <td>0.7122116</td>\n",
       "    </tr>\n",
       "    <tr>\n",
       "      <th>Nokia</th>\n",
       "      <td>0.3903239</td>\n",
       "      <td>0.6096761</td>\n",
       "    </tr>\n",
       "    <tr>\n",
       "      <th>OnePlus</th>\n",
       "      <td>0.1480263</td>\n",
       "      <td>0.8519737</td>\n",
       "    </tr>\n",
       "    <tr>\n",
       "      <th>Samsung</th>\n",
       "      <td>0.3062218</td>\n",
       "      <td>0.6937782</td>\n",
       "    </tr>\n",
       "    <tr>\n",
       "      <th>Sony</th>\n",
       "      <td>0.3266444</td>\n",
       "      <td>0.6733556</td>\n",
       "    </tr>\n",
       "    <tr>\n",
       "      <th>Xiaomi</th>\n",
       "      <td>0.1492750</td>\n",
       "      <td>0.8507250</td>\n",
       "    </tr>\n",
       "  </tbody>\n",
       "</table>\n",
       "</div>"
      ],
      "text/plain": [
       "sentiment         0         1\n",
       "brand                        \n",
       "ASUS      0.3349515 0.6650485\n",
       "Apple     0.3336751 0.6663249\n",
       "Google    0.3196333 0.6803667\n",
       "HUAWEI    0.1812779 0.8187221\n",
       "Motorola  0.2877884 0.7122116\n",
       "Nokia     0.3903239 0.6096761\n",
       "OnePlus   0.1480263 0.8519737\n",
       "Samsung   0.3062218 0.6937782\n",
       "Sony      0.3266444 0.6733556\n",
       "Xiaomi    0.1492750 0.8507250"
      ]
     },
     "execution_count": 25,
     "metadata": {
      "tags": []
     },
     "output_type": "execute_result"
    }
   ],
   "source": [
    "pd.crosstab(df_final['brand'], df_final['sentiment']).apply(lambda r: r/r.sum(), axis=1)"
   ]
  },
  {
   "cell_type": "markdown",
   "metadata": {
    "id": "xaF6oVoNFO58"
   },
   "source": [
    "- For ASUS 33% review are negative and 66% reviews are positive.\n",
    "- Similarly Samsung has 30% negative and 70% positive reviews.\n",
    "- Xiami and Oneplus has huge positive reviews."
   ]
  },
  {
   "cell_type": "markdown",
   "metadata": {
    "id": "2Nzj7ZXVLakx"
   },
   "source": [
    "## 5. Text Preprocessing and Vectorization"
   ]
  },
  {
   "cell_type": "markdown",
   "metadata": {
    "id": "ZbC_RPndnlf3"
   },
   "source": [
    "We will analyze the 'body' and 'review_title' to gain more understanding.\n",
    "\n",
    "We will peform the below tasks\n",
    "\n",
    "- Convert the text into lowercase\n",
    "- Remove punctuation\n",
    "- Remove stopwords (English, from nltk corpus)\n",
    "- Remove other keywords like \"phone\" and brand name"
   ]
  },
  {
   "cell_type": "markdown",
   "metadata": {
    "id": "XnhMQsxz2DJH"
   },
   "source": [
    "### 5.1 Change the datatype of the 'body' column to 'str' and convert it into lowercase. Print any two samples and check the output."
   ]
  },
  {
   "cell_type": "code",
   "execution_count": 26,
   "metadata": {
    "id": "KBdW8q35H8lz"
   },
   "outputs": [],
   "source": [
    "# Creating a new column keyword for our text processing\n",
    "# Lowering the case\n",
    "df_final['keyword'] = df_final['body'].str.lower()"
   ]
  },
  {
   "cell_type": "code",
   "execution_count": 27,
   "metadata": {
    "colab": {
     "base_uri": "https://localhost:8080/"
    },
    "id": "rVDBfXWIJWvi",
    "outputId": "540c3628-7b93-4fe9-f31f-196b92f5b20e"
   },
   "outputs": [
    {
     "data": {
      "text/plain": [
       "53251    could not get it to work. had to return the ph...\n",
       "46220    the phone wouldn't even turn on !! and was tra...\n",
       "Name: keyword, dtype: object"
      ]
     },
     "execution_count": 27,
     "metadata": {
      "tags": []
     },
     "output_type": "execute_result"
    }
   ],
   "source": [
    "df_final['keyword'].sample(2)"
   ]
  },
  {
   "cell_type": "markdown",
   "metadata": {
    "id": "lsppV0X52VXf"
   },
   "source": [
    "### 5.2 Remove punctuations from the lowercased 'body' column and display at least two samples."
   ]
  },
  {
   "cell_type": "code",
   "execution_count": 28,
   "metadata": {
    "colab": {
     "base_uri": "https://localhost:8080/"
    },
    "id": "_KaUlSk0rpGj",
    "outputId": "c08e83b6-46dd-4397-ffd6-c6f108e27d45"
   },
   "outputs": [
    {
     "data": {
      "text/plain": [
       "14                             don't buy out of service\n",
       "17    1 star because the phones locked so i have to ...\n",
       "18    the product has been very good. i had used thi...\n",
       "21    i bought this phone to replace an lg phone tha...\n",
       "22    i purchased this phone for my at&t phone repla...\n",
       "23    the phone did not come with a charger and didn...\n",
       "24                   served me well as a back up phone.\n",
       "25    i got this phone just as secondary cell phone....\n",
       "26    sturdy - clarity is great - easy to use only p...\n",
       "27                                 phone stoped working\n",
       "Name: keyword, dtype: object"
      ]
     },
     "execution_count": 28,
     "metadata": {
      "tags": []
     },
     "output_type": "execute_result"
    }
   ],
   "source": [
    "df_final['keyword'].head(10)"
   ]
  },
  {
   "cell_type": "code",
   "execution_count": 29,
   "metadata": {
    "id": "lQXKc8et2onG"
   },
   "outputs": [],
   "source": [
    "df_final['keyword'] = df_final['keyword'].str.replace('[^\\w\\s]','')"
   ]
  },
  {
   "cell_type": "code",
   "execution_count": 30,
   "metadata": {
    "colab": {
     "base_uri": "https://localhost:8080/"
    },
    "id": "OOPVD9LjNLRi",
    "outputId": "9bb75c82-1e07-413c-beac-e2356ebdc335"
   },
   "outputs": [
    {
     "data": {
      "text/plain": [
       "14                              dont buy out of service\n",
       "17    1 star because the phones locked so i have to ...\n",
       "18    the product has been very good i had used this...\n",
       "21    i bought this phone to replace an lg phone tha...\n",
       "22    i purchased this phone for my att phone replac...\n",
       "23    the phone did not come with a charger and didn...\n",
       "24                    served me well as a back up phone\n",
       "25    i got this phone just as secondary cell phone ...\n",
       "26    sturdy  clarity is great  easy to use only pro...\n",
       "27                                 phone stoped working\n",
       "Name: keyword, dtype: object"
      ]
     },
     "execution_count": 30,
     "metadata": {
      "tags": []
     },
     "output_type": "execute_result"
    }
   ],
   "source": [
    "df_final['keyword'].head(10)"
   ]
  },
  {
   "cell_type": "markdown",
   "metadata": {
    "id": "5QGBNYU5r1Sf"
   },
   "source": [
    "It has removed ' from don't, and '&' from at&t"
   ]
  },
  {
   "cell_type": "code",
   "execution_count": null,
   "metadata": {
    "id": "eIIarujAPQ_4"
   },
   "outputs": [],
   "source": [
    "# Another way\n",
    "# import string\n",
    "# df_final['keywords'] = df_final['keywords'].str.translate(str.maketrans('', '', string.punctuation))"
   ]
  },
  {
   "cell_type": "markdown",
   "metadata": {
    "id": "8Zk7ja6A2owN"
   },
   "source": [
    "### 5.3 Remove stop words from the above pre-processed 'body' column and display at least two samples."
   ]
  },
  {
   "cell_type": "code",
   "execution_count": 31,
   "metadata": {
    "colab": {
     "base_uri": "https://localhost:8080/"
    },
    "id": "1d-DhX_e2yQ-",
    "outputId": "4e28b697-d3e4-474c-b04f-c271bddda252"
   },
   "outputs": [
    {
     "name": "stdout",
     "output_type": "stream",
     "text": [
      "[nltk_data] Downloading package stopwords to /root/nltk_data...\n",
      "[nltk_data]   Unzipping corpora/stopwords.zip.\n"
     ]
    },
    {
     "data": {
      "text/plain": [
       "True"
      ]
     },
     "execution_count": 31,
     "metadata": {
      "tags": []
     },
     "output_type": "execute_result"
    }
   ],
   "source": [
    "import nltk\n",
    "from nltk.corpus import stopwords\n",
    "nltk.download('stopwords')"
   ]
  },
  {
   "cell_type": "code",
   "execution_count": 32,
   "metadata": {
    "colab": {
     "base_uri": "https://localhost:8080/"
    },
    "id": "zXP_Jau-Q2rn",
    "outputId": "7caf8154-dfed-4b98-beb7-65adca2506f2"
   },
   "outputs": [
    {
     "data": {
      "text/plain": [
       "{'a',\n",
       " 'about',\n",
       " 'above',\n",
       " 'after',\n",
       " 'again',\n",
       " 'against',\n",
       " 'ain',\n",
       " 'all',\n",
       " 'am',\n",
       " 'an',\n",
       " 'and',\n",
       " 'any',\n",
       " 'are',\n",
       " 'aren',\n",
       " \"aren't\",\n",
       " 'as',\n",
       " 'at',\n",
       " 'be',\n",
       " 'because',\n",
       " 'been',\n",
       " 'before',\n",
       " 'being',\n",
       " 'below',\n",
       " 'between',\n",
       " 'both',\n",
       " 'but',\n",
       " 'by',\n",
       " 'can',\n",
       " 'couldn',\n",
       " \"couldn't\",\n",
       " 'd',\n",
       " 'did',\n",
       " 'didn',\n",
       " \"didn't\",\n",
       " 'do',\n",
       " 'does',\n",
       " 'doesn',\n",
       " \"doesn't\",\n",
       " 'doing',\n",
       " 'don',\n",
       " \"don't\",\n",
       " 'down',\n",
       " 'during',\n",
       " 'each',\n",
       " 'few',\n",
       " 'for',\n",
       " 'from',\n",
       " 'further',\n",
       " 'had',\n",
       " 'hadn',\n",
       " \"hadn't\",\n",
       " 'has',\n",
       " 'hasn',\n",
       " \"hasn't\",\n",
       " 'have',\n",
       " 'haven',\n",
       " \"haven't\",\n",
       " 'having',\n",
       " 'he',\n",
       " 'her',\n",
       " 'here',\n",
       " 'hers',\n",
       " 'herself',\n",
       " 'him',\n",
       " 'himself',\n",
       " 'his',\n",
       " 'how',\n",
       " 'i',\n",
       " 'if',\n",
       " 'in',\n",
       " 'into',\n",
       " 'is',\n",
       " 'isn',\n",
       " \"isn't\",\n",
       " 'it',\n",
       " \"it's\",\n",
       " 'its',\n",
       " 'itself',\n",
       " 'just',\n",
       " 'll',\n",
       " 'm',\n",
       " 'ma',\n",
       " 'me',\n",
       " 'mightn',\n",
       " \"mightn't\",\n",
       " 'more',\n",
       " 'most',\n",
       " 'mustn',\n",
       " \"mustn't\",\n",
       " 'my',\n",
       " 'myself',\n",
       " 'needn',\n",
       " \"needn't\",\n",
       " 'no',\n",
       " 'nor',\n",
       " 'not',\n",
       " 'now',\n",
       " 'o',\n",
       " 'of',\n",
       " 'off',\n",
       " 'on',\n",
       " 'once',\n",
       " 'only',\n",
       " 'or',\n",
       " 'other',\n",
       " 'our',\n",
       " 'ours',\n",
       " 'ourselves',\n",
       " 'out',\n",
       " 'over',\n",
       " 'own',\n",
       " 're',\n",
       " 's',\n",
       " 'same',\n",
       " 'shan',\n",
       " \"shan't\",\n",
       " 'she',\n",
       " \"she's\",\n",
       " 'should',\n",
       " \"should've\",\n",
       " 'shouldn',\n",
       " \"shouldn't\",\n",
       " 'so',\n",
       " 'some',\n",
       " 'such',\n",
       " 't',\n",
       " 'than',\n",
       " 'that',\n",
       " \"that'll\",\n",
       " 'the',\n",
       " 'their',\n",
       " 'theirs',\n",
       " 'them',\n",
       " 'themselves',\n",
       " 'then',\n",
       " 'there',\n",
       " 'these',\n",
       " 'they',\n",
       " 'this',\n",
       " 'those',\n",
       " 'through',\n",
       " 'to',\n",
       " 'too',\n",
       " 'under',\n",
       " 'until',\n",
       " 'up',\n",
       " 've',\n",
       " 'very',\n",
       " 'was',\n",
       " 'wasn',\n",
       " \"wasn't\",\n",
       " 'we',\n",
       " 'were',\n",
       " 'weren',\n",
       " \"weren't\",\n",
       " 'what',\n",
       " 'when',\n",
       " 'where',\n",
       " 'which',\n",
       " 'while',\n",
       " 'who',\n",
       " 'whom',\n",
       " 'why',\n",
       " 'will',\n",
       " 'with',\n",
       " 'won',\n",
       " \"won't\",\n",
       " 'wouldn',\n",
       " \"wouldn't\",\n",
       " 'y',\n",
       " 'you',\n",
       " \"you'd\",\n",
       " \"you'll\",\n",
       " \"you're\",\n",
       " \"you've\",\n",
       " 'your',\n",
       " 'yours',\n",
       " 'yourself',\n",
       " 'yourselves'}"
      ]
     },
     "execution_count": 32,
     "metadata": {
      "tags": []
     },
     "output_type": "execute_result"
    }
   ],
   "source": [
    "stop_words = set(stopwords.words('english'))\n",
    "stop_words"
   ]
  },
  {
   "cell_type": "code",
   "execution_count": 33,
   "metadata": {
    "id": "kkVtNL6SVjB6"
   },
   "outputs": [],
   "source": [
    "df_final['keyword'] = df_final['keyword'].astype('str')"
   ]
  },
  {
   "cell_type": "code",
   "execution_count": 34,
   "metadata": {
    "id": "xbcERhM1S3Nl"
   },
   "outputs": [],
   "source": [
    "df_final['keyword'] = df_final['keyword'].apply(lambda words: ' '.join(word for word in words.split() if word not in stop_words))"
   ]
  },
  {
   "cell_type": "code",
   "execution_count": 36,
   "metadata": {
    "colab": {
     "base_uri": "https://localhost:8080/"
    },
    "id": "uu-7_V2hUALh",
    "outputId": "0fb4d136-f5ee-433a-f1b0-d066bd4f61eb"
   },
   "outputs": [
    {
     "data": {
      "text/plain": [
       "14                                     dont buy service\n",
       "17      1 star phones locked pay additional fees unlock\n",
       "18    product good used cell phone one projects work...\n",
       "21    bought phone replace lg phone didnt like expec...\n",
       "22    purchased phone att phone replacement even tho...\n",
       "Name: keyword, dtype: object"
      ]
     },
     "execution_count": 36,
     "metadata": {
      "tags": []
     },
     "output_type": "execute_result"
    }
   ],
   "source": [
    "df_final['keyword'].head()"
   ]
  },
  {
   "cell_type": "markdown",
   "metadata": {
    "id": "luEfZ6UKsrnY"
   },
   "source": [
    "Stop words removed"
   ]
  },
  {
   "cell_type": "markdown",
   "metadata": {
    "id": "TQNvXay42yaQ"
   },
   "source": [
    "### 5.4 Apply lemmatisation on the above preprocessed text and display a few samples"
   ]
  },
  {
   "cell_type": "code",
   "execution_count": 37,
   "metadata": {
    "colab": {
     "base_uri": "https://localhost:8080/"
    },
    "id": "oQ1VfFaa3DET",
    "outputId": "0f8a27a5-8380-46f8-91a7-287538bcf0c9"
   },
   "outputs": [
    {
     "name": "stdout",
     "output_type": "stream",
     "text": [
      "[nltk_data] Downloading package wordnet to /root/nltk_data...\n",
      "[nltk_data]   Unzipping corpora/wordnet.zip.\n"
     ]
    },
    {
     "data": {
      "text/plain": [
       "True"
      ]
     },
     "execution_count": 37,
     "metadata": {
      "tags": []
     },
     "output_type": "execute_result"
    }
   ],
   "source": [
    "import nltk\n",
    "nltk.download('wordnet')"
   ]
  },
  {
   "cell_type": "code",
   "execution_count": 38,
   "metadata": {
    "id": "FYpXVP5sYuO7"
   },
   "outputs": [],
   "source": [
    "w_tokenizer = nltk.tokenize.WhitespaceTokenizer()\n",
    "lemmatizer = nltk.stem.WordNetLemmatizer()"
   ]
  },
  {
   "cell_type": "code",
   "execution_count": 39,
   "metadata": {
    "id": "iIv77nNfZFiz"
   },
   "outputs": [],
   "source": [
    "def lemmatize_text(text):\n",
    "  return [lemmatizer.lemmatize(w) for w in w_tokenizer.tokenize(text)]"
   ]
  },
  {
   "cell_type": "code",
   "execution_count": 40,
   "metadata": {
    "id": "hrb0gT7raBtW"
   },
   "outputs": [],
   "source": [
    "# Copying for backup\n",
    "df_final1 = df_final.copy()"
   ]
  },
  {
   "cell_type": "code",
   "execution_count": 41,
   "metadata": {
    "colab": {
     "base_uri": "https://localhost:8080/"
    },
    "id": "jGhMSQQBaZ4Y",
    "outputId": "d116ac87-8e97-42f9-be3a-d098d2e9b108"
   },
   "outputs": [
    {
     "data": {
      "text/plain": [
       "14                                 [dont, buy, service]\n",
       "17    [1, star, phone, locked, pay, additional, fee,...\n",
       "18    [product, good, used, cell, phone, one, projec...\n",
       "21    [bought, phone, replace, lg, phone, didnt, lik...\n",
       "22    [purchased, phone, att, phone, replacement, ev...\n",
       "Name: lemm, dtype: object"
      ]
     },
     "execution_count": 41,
     "metadata": {
      "tags": []
     },
     "output_type": "execute_result"
    }
   ],
   "source": [
    "df_final['lemm'] = df_final['keyword'].apply(lemmatize_text)\n",
    "df_final['lemm'].head(5)"
   ]
  },
  {
   "cell_type": "markdown",
   "metadata": {
    "id": "OzweL_fA3DiN"
   },
   "source": [
    "### 5.5 Check most common and rare words in the processed text\n",
    "- We can also write a function to check word frequency of the text (Optional)"
   ]
  },
  {
   "cell_type": "code",
   "execution_count": 42,
   "metadata": {
    "colab": {
     "base_uri": "https://localhost:8080/"
    },
    "id": "MzIAyX3N6lz5",
    "outputId": "6b742008-1d91-498e-c55a-b78e25fbc922"
   },
   "outputs": [
    {
     "data": {
      "text/plain": [
       "[('phone', 74458),\n",
       " ('great', 16986),\n",
       " ('good', 13415),\n",
       " ('battery', 11641),\n",
       " ('screen', 10377),\n",
       " ('like', 10360),\n",
       " ('one', 10035),\n",
       " ('new', 9498),\n",
       " ('use', 8755),\n",
       " ('get', 7566)]"
      ]
     },
     "execution_count": 42,
     "metadata": {
      "tags": []
     },
     "output_type": "execute_result"
    }
   ],
   "source": [
    "# Most common word\n",
    "from collections import Counter\n",
    "cnt = Counter()\n",
    "for text in df_final[\"keyword\"].values:\n",
    "    for word in text.split():\n",
    "        cnt[word] += 1\n",
    "        \n",
    "cnt.most_common(10)"
   ]
  },
  {
   "cell_type": "code",
   "execution_count": 43,
   "metadata": {
    "colab": {
     "base_uri": "https://localhost:8080/"
    },
    "id": "TdQplnisilzn",
    "outputId": "28acf226-ec6b-4329-a62e-10efe3735d6c"
   },
   "outputs": [
    {
     "data": {
      "text/plain": [
       "[('prontoen', 1),\n",
       " ('500500', 1),\n",
       " ('sd730g', 1),\n",
       " ('nois', 1),\n",
       " ('tomuch', 1),\n",
       " ('instructivo', 1),\n",
       " ('confirmen', 1),\n",
       " ('intrligente', 1),\n",
       " ('haxe', 1),\n",
       " ('4ever', 1)]"
      ]
     },
     "execution_count": 43,
     "metadata": {
      "tags": []
     },
     "output_type": "execute_result"
    }
   ],
   "source": [
    "# Most rare word\n",
    "cnt.most_common()[:-10-1:-1]"
   ]
  },
  {
   "cell_type": "markdown",
   "metadata": {
    "id": "9UbdTGsv60t1"
   },
   "source": [
    "### 5.6 Initialize tf-idf vectorizer and transform the preprocessed body text"
   ]
  },
  {
   "cell_type": "code",
   "execution_count": 44,
   "metadata": {
    "id": "_Jfo6go_69yh"
   },
   "outputs": [],
   "source": [
    "from sklearn.feature_extraction.text import TfidfVectorizer\n",
    "\n",
    "tfidf_vectorizer = TfidfVectorizer()"
   ]
  },
  {
   "cell_type": "code",
   "execution_count": 47,
   "metadata": {
    "id": "zTCdzOAZdu2o"
   },
   "outputs": [],
   "source": [
    "tfidf = tfidf_vectorizer.fit_transform(df_final['keyword']) # We are passing keyword only as column 'lemm' is list"
   ]
  },
  {
   "cell_type": "code",
   "execution_count": 67,
   "metadata": {
    "colab": {
     "base_uri": "https://localhost:8080/"
    },
    "id": "I19d-QGi8oxe",
    "outputId": "4488ad5e-de19-44fe-dd92-b3be7a37e14d"
   },
   "outputs": [
    {
     "data": {
      "text/plain": [
       "(61225, 38370)"
      ]
     },
     "execution_count": 67,
     "metadata": {
      "tags": []
     },
     "output_type": "execute_result"
    }
   ],
   "source": [
    "tfidf.shape"
   ]
  },
  {
   "cell_type": "code",
   "execution_count": 48,
   "metadata": {
    "colab": {
     "base_uri": "https://localhost:8080/"
    },
    "id": "irOhvtO0fW83",
    "outputId": "0469b795-94f5-4715-fb0b-c309e9471667"
   },
   "outputs": [
    {
     "data": {
      "text/plain": [
       "{'dont': 11596,\n",
       " 'buy': 6837,\n",
       " 'service': 30416,\n",
       " 'star': 32286,\n",
       " 'phones': 25247,\n",
       " 'locked': 20169,\n",
       " 'pay': 24696,\n",
       " 'additional': 3126,\n",
       " 'fees': 14013,\n",
       " 'unlock': 35572,\n",
       " 'product': 26590,\n",
       " 'good': 15670,\n",
       " 'used': 35980,\n",
       " 'cell': 7495,\n",
       " 'phone': 25090,\n",
       " 'one': 23673,\n",
       " 'projects': 26692,\n",
       " 'worked': 37663,\n",
       " 'wonders': 37607,\n",
       " 'definitely': 10365,\n",
       " 'recommend': 27874,\n",
       " 'anyone': 4149,\n",
       " 'interested': 18330,\n",
       " 'buying': 6851,\n",
       " 'bought': 6330,\n",
       " 'replace': 28492,\n",
       " 'lg': 19787,\n",
       " 'didnt': 10968,\n",
       " 'like': 19934,\n",
       " 'expected': 13374,\n",
       " 'put': 27094,\n",
       " 'old': 23603,\n",
       " 'sim': 30937,\n",
       " 'card': 7234,\n",
       " 'new': 22652,\n",
       " 'two': 35120,\n",
       " 'serious': 30396,\n",
       " 'drawbacks': 11753,\n",
       " 'device': 10847,\n",
       " 'related': 28268,\n",
       " 'candy': 7156,\n",
       " 'bar': 5288,\n",
       " 'style': 32710,\n",
       " 'first': 14251,\n",
       " 'buttons': 6829,\n",
       " 'exposed': 13483,\n",
       " 'easy': 12112,\n",
       " 'hit': 16916,\n",
       " 'accidentally': 2875,\n",
       " 'second': 30128,\n",
       " 'screen': 29952,\n",
       " 'easily': 12098,\n",
       " 'scratched': 29901,\n",
       " 'got': 15792,\n",
       " 'making': 20665,\n",
       " 'difficult': 11019,\n",
       " 'read': 27564,\n",
       " 'sunlight': 32926,\n",
       " 'aside': 4574,\n",
       " 'flaws': 14385,\n",
       " 'works': 37711,\n",
       " 'great': 15964,\n",
       " 'connectivity': 8893,\n",
       " 'battery': 5393,\n",
       " 'life': 19843,\n",
       " 'quality': 27175,\n",
       " 'voice': 36625,\n",
       " 'superb': 32946,\n",
       " 'since': 31004,\n",
       " 'texting': 33827,\n",
       " 'cant': 7172,\n",
       " 'comment': 8388,\n",
       " 'nice': 22748,\n",
       " 'small': 31352,\n",
       " 'came': 7066,\n",
       " 'case': 7360,\n",
       " 'could': 9364,\n",
       " 'find': 14157,\n",
       " 'would': 37787,\n",
       " 'perfect': 24868,\n",
       " 'needs': 22540,\n",
       " 'price': 26368,\n",
       " 'right': 29073,\n",
       " '10': 78,\n",
       " 'worth': 37771,\n",
       " 'calling': 7006,\n",
       " 'need': 22516,\n",
       " 'purchased': 27021,\n",
       " 'att': 4736,\n",
       " 'replacement': 28498,\n",
       " 'even': 13061,\n",
       " 'though': 34095,\n",
       " 'faq': 13786,\n",
       " 'mentioned': 21188,\n",
       " 'primary': 26427,\n",
       " 'stead': 32356,\n",
       " 'spending': 32022,\n",
       " 'time': 34238,\n",
       " 'see': 30164,\n",
       " 'reason': 27651,\n",
       " 'ill': 17489,\n",
       " 'go': 15618,\n",
       " 'specifically': 31968,\n",
       " 'says': 29753,\n",
       " 'unlocked': 35576,\n",
       " 'come': 8349,\n",
       " 'charger': 7684,\n",
       " 'sims': 30986,\n",
       " 'served': 30406,\n",
       " 'well': 37141,\n",
       " 'back': 5107,\n",
       " 'secondary': 30130,\n",
       " 'really': 27628,\n",
       " 'lightweight': 19927,\n",
       " 'cheap': 7756,\n",
       " 'receiption': 27725,\n",
       " 'windy': 37462,\n",
       " 'noise': 22869,\n",
       " 'heard': 16643,\n",
       " 'somebody': 31722,\n",
       " 'sturdy': 32698,\n",
       " 'clarity': 8030,\n",
       " 'use': 35970,\n",
       " 'problem': 26507,\n",
       " 'speaker': 31935,\n",
       " 'option': 23910,\n",
       " 'big': 5778,\n",
       " 'issue': 18666,\n",
       " 'im': 17506,\n",
       " 'living': 20093,\n",
       " 'atm': 4720,\n",
       " 'stoped': 32474,\n",
       " 'working': 37681,\n",
       " 'beautiful': 5506,\n",
       " 'job': 18995,\n",
       " 'item': 18731,\n",
       " 'account': 2900,\n",
       " 'bill': 5808,\n",
       " 'little': 20076,\n",
       " 'avoided': 4979,\n",
       " 'amount': 3882,\n",
       " 'billsi': 5816,\n",
       " 'body': 6148,\n",
       " 'met': 21265,\n",
       " 'expectations': 13364,\n",
       " 'way': 37016,\n",
       " 'asked': 4586,\n",
       " 'friend': 14834,\n",
       " 'toss': 34544,\n",
       " 'hey': 16778,\n",
       " 'throw': 34155,\n",
       " 'hard': 16443,\n",
       " 'head': 16599,\n",
       " 'square': 32168,\n",
       " 'temple': 33704,\n",
       " 'dropped': 11825,\n",
       " 'needless': 22537,\n",
       " 'say': 29743,\n",
       " 'simple': 30970,\n",
       " 'long': 20244,\n",
       " 'stretch': 32596,\n",
       " 'armstrong': 4475,\n",
       " 'takes': 33392,\n",
       " 'smacked': 31349,\n",
       " 'around': 4481,\n",
       " 'champ': 7633,\n",
       " 'son': 31756,\n",
       " 'id': 17410,\n",
       " 'proud': 26837,\n",
       " 'afraid': 3331,\n",
       " 'get': 15416,\n",
       " 'digress': 11053,\n",
       " 'smart': 31365,\n",
       " 'dummies': 11914,\n",
       " 'ps': 26889,\n",
       " 'create': 9552,\n",
       " 'ringtones': 29108,\n",
       " 'provides': 26857,\n",
       " 'entertainment': 12665,\n",
       " 'flappy': 14332,\n",
       " 'bird': 5837,\n",
       " 'isnt': 18653,\n",
       " 'kidding': 19229,\n",
       " 'military': 21453,\n",
       " 'specs': 31979,\n",
       " 'hole': 16966,\n",
       " 'pocket': 25776,\n",
       " 'went': 37193,\n",
       " 'tumbling': 35019,\n",
       " 'flight': 14412,\n",
       " 'concrete': 8722,\n",
       " 'steps': 32388,\n",
       " '20': 726,\n",
       " 'scratches': 29906,\n",
       " 'fine': 14165,\n",
       " 'also': 3705,\n",
       " 'made': 20579,\n",
       " 'death': 10144,\n",
       " 'defying': 10387,\n",
       " 'leaps': 19628,\n",
       " 'drop': 11813,\n",
       " 'resistant': 28695,\n",
       " 'said': 29531,\n",
       " 'crush': 9671,\n",
       " 'proof': 26754,\n",
       " 'dead': 10102,\n",
       " 'decided': 10230,\n",
       " 'leave': 19653,\n",
       " 'car': 7220,\n",
       " 'charge': 7664,\n",
       " 'plugged': 25722,\n",
       " 'grabbed': 15838,\n",
       " 'purse': 27068,\n",
       " 'unbeknownst': 35307,\n",
       " 'cord': 9233,\n",
       " 'tangled': 33442,\n",
       " 'stood': 32471,\n",
       " 'closed': 8145,\n",
       " 'door': 11616,\n",
       " 'left': 19673,\n",
       " 'mark': 20847,\n",
       " 'finally': 14147,\n",
       " 'still': 32421,\n",
       " 'worlds': 37738,\n",
       " 'boomerang': 6226,\n",
       " 'looked': 20273,\n",
       " 'afterwards': 3344,\n",
       " 'ordered': 23940,\n",
       " 'much': 22151,\n",
       " 'beat': 5492,\n",
       " 'last': 19492,\n",
       " 'fared': 13793,\n",
       " 'another': 4058,\n",
       " 'pet': 25029,\n",
       " 'peeve': 24779,\n",
       " 'least': 19647,\n",
       " 'given': 15515,\n",
       " 'full': 14952,\n",
       " 'game': 15220,\n",
       " 'lame': 19427,\n",
       " 'demos': 10507,\n",
       " 'included': 17760,\n",
       " 'size': 31087,\n",
       " 'hershey': 16763,\n",
       " 'often': 23555,\n",
       " 'keep': 19166,\n",
       " 'pants': 24498,\n",
       " 'front': 14877,\n",
       " 'found': 14692,\n",
       " 'iden': 17422,\n",
       " 'cards': 7254,\n",
       " 'longer': 20247,\n",
       " 'eligible': 12361,\n",
       " 'boost': 6240,\n",
       " 'mobile': 21729,\n",
       " 'buyer': 6843,\n",
       " 'ware': 36873,\n",
       " 'unless': 35562,\n",
       " 'already': 3691,\n",
       " 'wont': 37616,\n",
       " 'enter': 12655,\n",
       " 'special': 31957,\n",
       " 'code': 8237,\n",
       " 'mother': 21996,\n",
       " 'loves': 20367,\n",
       " 'walkie': 36805,\n",
       " 'talkie': 33406,\n",
       " 'denise': 10516,\n",
       " 'avellan': 4953,\n",
       " 'mothers': 22003,\n",
       " 'day': 10022,\n",
       " '2014': 769,\n",
       " 'direct': 11113,\n",
       " 'connect': 8878,\n",
       " 'connection': 8888,\n",
       " 'told': 34438,\n",
       " 'work': 37646,\n",
       " 'network': 22620,\n",
       " 'waste': 36950,\n",
       " 'money': 21853,\n",
       " 'seller': 30256,\n",
       " 'knew': 19292,\n",
       " 'anything': 4154,\n",
       " 'solid': 31692,\n",
       " 'motorola': 22045,\n",
       " 'sounds': 31855,\n",
       " 'looks': 20282,\n",
       " 'cardinformation': 7242,\n",
       " 'wouldve': 37797,\n",
       " 'liked': 19937,\n",
       " 'ptt': 26910,\n",
       " 'phasedout': 25054,\n",
       " 'rating': 27481,\n",
       " 'unhappy': 35494,\n",
       " 'facts': 13666,\n",
       " 'prior': 26463,\n",
       " 'purchase': 27017,\n",
       " 'gps': 15818,\n",
       " 'send': 30300,\n",
       " 'huge': 17272,\n",
       " 'pain': 24424,\n",
       " 'something': 31738,\n",
       " '24': 938,\n",
       " 'ripoff': 29119,\n",
       " 'usedropped': 35999,\n",
       " 'times': 34276,\n",
       " 'basic': 5341,\n",
       " 'functions': 15023,\n",
       " 'needed': 22521,\n",
       " 'words': 37642,\n",
       " 'effective': 12245,\n",
       " 'wouldnt': 37794,\n",
       " 'know': 19311,\n",
       " 'person': 24982,\n",
       " 'hasnt': 16508,\n",
       " 'shipped': 30672,\n",
       " 'yet': 38161,\n",
       " 'month': 21901,\n",
       " 'amazon': 3794,\n",
       " 'nothing': 23143,\n",
       " 'help': 16720,\n",
       " 'provide': 26847,\n",
       " 'assistance': 4630,\n",
       " 'mom': 21830,\n",
       " 'south': 31870,\n",
       " 'us': 35907,\n",
       " 'complain': 8541,\n",
       " 'carrier': 7318,\n",
       " 'probably': 26498,\n",
       " 'give': 15512,\n",
       " 'five': 14286,\n",
       " 'stars': 32299,\n",
       " 'gave': 15306,\n",
       " 'spot': 32110,\n",
       " 'description': 10654,\n",
       " 'threw': 34134,\n",
       " 'free': 14761,\n",
       " 'doesnt': 11522,\n",
       " 'seem': 30174,\n",
       " 'receive': 27728,\n",
       " 'package': 24371,\n",
       " 'next': 22715,\n",
       " 'shipping': 30675,\n",
       " 'supose': 33006,\n",
       " 'problems': 26526,\n",
       " 'stated': 32325,\n",
       " 'looking': 20279,\n",
       " 'area': 4432,\n",
       " 'signal': 30871,\n",
       " 'clear': 8065,\n",
       " 'cloudy': 8170,\n",
       " 'thank': 33880,\n",
       " 'delivered': 10451,\n",
       " 'promised': 26712,\n",
       " 'showing': 30777,\n",
       " 'cingular': 7982,\n",
       " 'identical': 17423,\n",
       " 'instead': 18212,\n",
       " 'atttit': 4805,\n",
       " 'okay': 23581,\n",
       " 'yhe': 38170,\n",
       " 'options': 23915,\n",
       " 'wife': 37374,\n",
       " 'third': 34052,\n",
       " 'thanks': 33885,\n",
       " 'husband': 17325,\n",
       " 'opened': 23814,\n",
       " 'many': 20808,\n",
       " 'years': 38116,\n",
       " 'ago': 3395,\n",
       " 'open': 23808,\n",
       " 'change': 7641,\n",
       " 'wasnt': 36941,\n",
       " 'sure': 33067,\n",
       " 'glad': 15525,\n",
       " 'able': 2763,\n",
       " 'quite': 27321,\n",
       " 'wanted': 36846,\n",
       " 'better': 5712,\n",
       " 'reception': 27754,\n",
       " 'previous': 26357,\n",
       " 'however': 17144,\n",
       " 'never': 22646,\n",
       " 'recognized': 27838,\n",
       " 'information': 18000,\n",
       " 'stored': 32509,\n",
       " 'essentially': 12920,\n",
       " 'useless': 36012,\n",
       " 'alpha': 3684,\n",
       " 'wireless': 37486,\n",
       " 'supposedly': 33042,\n",
       " 'texas': 33813,\n",
       " 'green': 16019,\n",
       " 'florida': 14450,\n",
       " 'understand': 35404,\n",
       " 'several': 30495,\n",
       " 'companies': 8454,\n",
       " 'may': 20978,\n",
       " 'cooperate': 9202,\n",
       " 'fulfill': 14947,\n",
       " 'orders': 23951,\n",
       " 'make': 20654,\n",
       " 'regarding': 28151,\n",
       " 'recourse': 27937,\n",
       " 'represented': 28550,\n",
       " 'simply': 30984,\n",
       " 'paid': 24420,\n",
       " 'closely': 8149,\n",
       " 'reflected': 28061,\n",
       " 'condition': 8736,\n",
       " 'beware': 5739,\n",
       " 'usual': 36088,\n",
       " 'using': 36063,\n",
       " 'ebay': 12136,\n",
       " 'properly': 26765,\n",
       " 'answer': 4071,\n",
       " 'hear': 16642,\n",
       " 'line': 19995,\n",
       " 'order': 23937,\n",
       " 'causes': 7443,\n",
       " 'people': 24820,\n",
       " 'hang': 16394,\n",
       " 'piece': 25462,\n",
       " 'junk': 19092,\n",
       " 'started': 32309,\n",
       " 'happen': 16410,\n",
       " 'days': 10046,\n",
       " 'phonea': 25095,\n",
       " 'bad': 5175,\n",
       " 'choice': 7888,\n",
       " 'satisfied': 29703,\n",
       " 'regular': 28197,\n",
       " 'thats': 33916,\n",
       " 'fairly': 13697,\n",
       " 'durable': 11951,\n",
       " 'especially': 12873,\n",
       " 'heavy': 16679,\n",
       " 'yes': 38141,\n",
       " 'wrost': 37871,\n",
       " 'experience': 13413,\n",
       " 'costed': 9324,\n",
       " '7200': 2203,\n",
       " 'arrived': 4507,\n",
       " 'inright': 18120,\n",
       " 'without': 37539,\n",
       " 'activation': 3025,\n",
       " 'called': 6999,\n",
       " 'locate': 20161,\n",
       " 'numbers': 23299,\n",
       " 'call': 6989,\n",
       " 'learned': 19634,\n",
       " 'activated': 3016,\n",
       " 'customer': 9804,\n",
       " 'took': 34482,\n",
       " 'meanwhile': 21028,\n",
       " 'missed': 21633,\n",
       " 'billing': 5811,\n",
       " 'cycle': 9849,\n",
       " 'company': 8456,\n",
       " 'process': 26565,\n",
       " 'week': 37094,\n",
       " 'mention': 21186,\n",
       " 'ship': 30665,\n",
       " 'phased': 25053,\n",
       " 'couldnt': 9367,\n",
       " 'inform': 17993,\n",
       " 'sellers': 30264,\n",
       " 'ive': 18846,\n",
       " 'switched': 33229,\n",
       " 'within': 37535,\n",
       " 'months': 21907,\n",
       " 'lasted': 19494,\n",
       " 'almost': 3668,\n",
       " 'year': 38110,\n",
       " 'likes': 19953,\n",
       " 'everything': 13107,\n",
       " 'want': 36843,\n",
       " 'love': 20352,\n",
       " 'excellent': 13213,\n",
       " 'wonderful': 37601,\n",
       " 'forever': 14593,\n",
       " 'expecting': 13389,\n",
       " 'fit': 14279,\n",
       " 'exactly': 13167,\n",
       " 'less': 19743,\n",
       " 'technical': 33552,\n",
       " 'brand': 6405,\n",
       " 'box': 6351,\n",
       " 'charged': 7670,\n",
       " 'instructed': 18227,\n",
       " 'four': 14694,\n",
       " 'hours': 17122,\n",
       " 'six': 31080,\n",
       " 'unplugged': 35653,\n",
       " 'black': 5891,\n",
       " 'returning': 28931,\n",
       " 'cleared': 8071,\n",
       " 'owners': 24329,\n",
       " 'cool': 9188,\n",
       " 'sell': 30251,\n",
       " 'things': 34026,\n",
       " 'wrong': 37865,\n",
       " 'color': 8295,\n",
       " 'badly': 5189,\n",
       " 'postage': 26018,\n",
       " 'return': 28923,\n",
       " 'exchange': 13247,\n",
       " 'daughter': 10013,\n",
       " 'crap': 9507,\n",
       " 'support': 33025,\n",
       " 'bluetooth': 6081,\n",
       " 'capability': 7185,\n",
       " 'website': 37081,\n",
       " 'shows': 30784,\n",
       " 'headsets': 16628,\n",
       " 'available': 4938,\n",
       " 'accessories': 2865,\n",
       " 'doe': 11512,\n",
       " 'either': 12288,\n",
       " 'guess': 16167,\n",
       " 'inside': 18143,\n",
       " 'packaging': 24381,\n",
       " 'samsung': 29617,\n",
       " 'picture': 25434,\n",
       " 'corded': 9235,\n",
       " 'headset': 16625,\n",
       " 'havent': 16554,\n",
       " 'dad': 9883,\n",
       " 'cause': 7440,\n",
       " 'lookin': 20278,\n",
       " 'delete': 10424,\n",
       " 'lst': 20427,\n",
       " 'review': 28972,\n",
       " 'confusion': 8865,\n",
       " 'tried': 34885,\n",
       " 'activate': 3014,\n",
       " 'verizon': 36355,\n",
       " 'imei': 17537,\n",
       " 'goes': 15636,\n",
       " 'dec': 10186,\n",
       " 'hex': 16776,\n",
       " 'rep': 28444,\n",
       " 'look': 20270,\n",
       " 'guildelines': 16185,\n",
       " 'thought': 34102,\n",
       " 'obsolete': 23387,\n",
       " 'verizons': 36371,\n",
       " '2nd': 1155,\n",
       " 'rrep': 29315,\n",
       " 'remove': 28393,\n",
       " 'negative': 22555,\n",
       " 'attempting': 4757,\n",
       " 'ended': 12552,\n",
       " 'hold': 16959,\n",
       " 'generously': 15371,\n",
       " 'sale': 29554,\n",
       " 'refunded': 28094,\n",
       " 'three': 34126,\n",
       " 'hour': 17115,\n",
       " 'international': 18369,\n",
       " 'bring': 6512,\n",
       " 'meter': 21272,\n",
       " 'wow': 37804,\n",
       " 'impressed': 17655,\n",
       " 'sound': 31840,\n",
       " 'compares': 8477,\n",
       " 'infinity': 17978,\n",
       " 'accoustics': 2910,\n",
       " 'kappa': 19145,\n",
       " 'audiophile': 4824,\n",
       " 'studio': 32666,\n",
       " 'speakers': 31943,\n",
       " 'raise': 27385,\n",
       " 'volume': 36667,\n",
       " 'flip': 14418,\n",
       " 'compliment': 8595,\n",
       " 'moto': 22018,\n",
       " 'droid': 11805,\n",
       " 'touch': 34567,\n",
       " 'iv': 18844,\n",
       " 'mini': 21498,\n",
       " 'backup': 5159,\n",
       " 'main': 20635,\n",
       " '3500': 1361,\n",
       " 'steal': 32362,\n",
       " 'horrible': 17065,\n",
       " 'today': 34402,\n",
       " 'thing': 34018,\n",
       " 'noticed': 23158,\n",
       " 'far': 13788,\n",
       " 'yr': 38232,\n",
       " 'playing': 25666,\n",
       " 'yrs': 38236,\n",
       " 'avoid': 4977,\n",
       " 'costs': 9341,\n",
       " 'pink': 25499,\n",
       " 'silver': 30932,\n",
       " 'clearly': 8082,\n",
       " 'factory': 13662,\n",
       " 'plug': 25717,\n",
       " 'displays': 11341,\n",
       " 'message': 21236,\n",
       " 'saying': 29748,\n",
       " 'unable': 35278,\n",
       " 'alternate': 3727,\n",
       " 'shouldnt': 30760,\n",
       " 'disappointed': 11171,\n",
       " 'saw': 29740,\n",
       " 'keypad': 19203,\n",
       " 'weathered': 37066,\n",
       " 'worn': 37742,\n",
       " 'considering': 8948,\n",
       " 'dial': 10922,\n",
       " 'pad': 24392,\n",
       " 'activating': 3023,\n",
       " 'existing': 13326,\n",
       " 'pretty': 26341,\n",
       " 'weak': 37035,\n",
       " 'lasts': 19506,\n",
       " 'safe': 29512,\n",
       " 'theyre': 33997,\n",
       " 'bucks': 6620,\n",
       " 'sane': 29656,\n",
       " 'paris': 24555,\n",
       " 'hilton': 16868,\n",
       " 'red': 27957,\n",
       " 'awesome': 5016,\n",
       " 'features': 13954,\n",
       " 'soon': 31789,\n",
       " 'going': 15645,\n",
       " 'pruchase': 26879,\n",
       " 'cusotmers': 9794,\n",
       " 'sinply': 31034,\n",
       " 'becasue': 5528,\n",
       " 'superior': 32964,\n",
       " 'disapointed': 11160,\n",
       " 'dying': 12003,\n",
       " '78': 2271,\n",
       " 'disabled': 11144,\n",
       " 'hassle': 16518,\n",
       " 'spent': 32025,\n",
       " 'charging': 7717,\n",
       " 'cannot': 7164,\n",
       " 'hook': 17028,\n",
       " 'powerful': 26070,\n",
       " 'enough': 12633,\n",
       " 'fault': 13881,\n",
       " 'defiantly': 10343,\n",
       " 'smaller': 31354,\n",
       " 'raiser': 27388,\n",
       " 'remember': 28361,\n",
       " 'claimed': 8014,\n",
       " 'refurbished': 28113,\n",
       " 'supposed': 33041,\n",
       " 'fully': 14972,\n",
       " 'tested': 33799,\n",
       " 'functional': 15010,\n",
       " 'oem': 23477,\n",
       " 'supplied': 33015,\n",
       " 'received': 27729,\n",
       " 'error': 12825,\n",
       " 'authorized': 4868,\n",
       " '2899': 1081,\n",
       " '622': 2020,\n",
       " '350': 1360,\n",
       " 'refuses': 28137,\n",
       " 'internet': 18377,\n",
       " 'via': 36447,\n",
       " 'computer': 8661,\n",
       " 'internal': 18362,\n",
       " 'starts': 32316,\n",
       " 'flickers': 14408,\n",
       " 'dies': 10987,\n",
       " 'repeated': 28480,\n",
       " 'attempts': 4758,\n",
       " 'luck': 20451,\n",
       " 'lights': 19924,\n",
       " 'internals': 18364,\n",
       " 'waited': 36786,\n",
       " 'late': 19512,\n",
       " 'take': 33385,\n",
       " 'action': 3003,\n",
       " 'failure': 13690,\n",
       " 'operate': 23836,\n",
       " 'mode': 21756,\n",
       " 'amounts': 3884,\n",
       " '40': 1511,\n",
       " 'paperweight': 24508,\n",
       " 'wary': 36926,\n",
       " 'esp': 12865,\n",
       " 'claim': 8013,\n",
       " 'youre': 38204,\n",
       " 'taking': 33395,\n",
       " 'risk': 29132,\n",
       " 'itll': 18767,\n",
       " 'lesson': 19750,\n",
       " 'dealing': 10124,\n",
       " 'products': 26618,\n",
       " 'smartphone': 31379,\n",
       " 'glitchy': 15570,\n",
       " 'turned': 35053,\n",
       " 'couple': 9411,\n",
       " 'port': 25947,\n",
       " 'loose': 20305,\n",
       " 'randomly': 27420,\n",
       " 'turns': 35061,\n",
       " 'think': 34036,\n",
       " 'issues': 18673,\n",
       " 'lovely': 20363,\n",
       " 'memories': 21147,\n",
       " 'hand': 16340,\n",
       " 'broken': 6544,\n",
       " 'mail': 20626,\n",
       " 'night': 22790,\n",
       " 'turn': 35050,\n",
       " 'light': 19897,\n",
       " 'returns': 28939,\n",
       " 'wound': 37802,\n",
       " 'grow': 16087,\n",
       " 'trees': 34842,\n",
       " 'guarantee': 16148,\n",
       " 'suck': 32832,\n",
       " 'advertised': 3256,\n",
       " 'mint': 21527,\n",
       " 'excited': 13255,\n",
       " 'let': 19755,\n",
       " 'transfer': 34741,\n",
       " 'removed': 28395,\n",
       " 'manufacturer': 20797,\n",
       " 'reluctantly': 28328,\n",
       " 'placed': 25597,\n",
       " '12': 303,\n",
       " 'complete': 8569,\n",
       " 'sit': 31064,\n",
       " 'totally': 34555,\n",
       " 'drained': 11736,\n",
       " 'low': 20378,\n",
       " 'behold': 5605,\n",
       " 'damaged': 9913,\n",
       " 'ups': 35862,\n",
       " 'wait': 36783,\n",
       " 'credit': 9569,\n",
       " 'issuedaggravating': 18668,\n",
       " 'lower': 20385,\n",
       " 'end': 12546,\n",
       " 'fragile': 14707,\n",
       " 'lighter': 19909,\n",
       " 'weight': 37117,\n",
       " 'cheaply': 7772,\n",
       " 'pictures': 25438,\n",
       " 'ipad': 18525,\n",
       " 'happy': 16428,\n",
       " 'wifes': 37375,\n",
       " 'replaced': 28495,\n",
       " 'sons': 31775,\n",
       " 'non': 22903,\n",
       " 'razr': 27527,\n",
       " 'upgraded': 35827,\n",
       " 'online': 23743,\n",
       " 'plan': 25612,\n",
       " 'required': 28594,\n",
       " 'data': 9973,\n",
       " 'current': 9771,\n",
       " 'nonsmart': 23010,\n",
       " 'guessing': 16171,\n",
       " 'intentional': 18305,\n",
       " 'lean': 19620,\n",
       " 'towards': 34613,\n",
       " 'profitable': 26654,\n",
       " 'plans': 25628,\n",
       " 'calls': 7022,\n",
       " 'alternative': 3730,\n",
       " 'getting': 15433,\n",
       " 'store': 32503,\n",
       " 'offered': 23508,\n",
       " 'provider': 26851,\n",
       " 'unnecessary': 35621,\n",
       " 'switch': 33227,\n",
       " 'newer': 22668,\n",
       " 'note': 23105,\n",
       " 'volunteer': 36678,\n",
       " 'upgrade': 35822,\n",
       " 'nonverizon': 23038,\n",
       " 'directly': 11121,\n",
       " 'getitnow': 15420,\n",
       " 'backupassitant': 5161,\n",
       " 'contact': 9015,\n",
       " 'autosync': 4925,\n",
       " 'legacyunsupported': 19682,\n",
       " 'show': 30770,\n",
       " 'stopper': 32477,\n",
       " 'printed': 26455,\n",
       " 'wasted': 36951,\n",
       " 'paperwished': 24510,\n",
       " 'list': 20041,\n",
       " 'view': 36527,\n",
       " 'contacts': 9024,\n",
       " 'manually': 20784,\n",
       " 'copybackup': 9225,\n",
       " 'backupassistant': 5160,\n",
       " 'useful': 36004,\n",
       " 'upgrading': 35838,\n",
       " 'annoying': 4047,\n",
       " 'messge': 21262,\n",
       " 'trying': 34987,\n",
       " 'run': 29368,\n",
       " 'getitnowget_new_app': 15421,\n",
       " 'retrieve': 28902,\n",
       " 'catalog': 7414,\n",
       " 'please': 25691,\n",
       " 'try': 34984,\n",
       " 'later': 19518,\n",
       " '3332': 1325,\n",
       " 'reviews': 28986,\n",
       " 'positive': 26002,\n",
       " 'feedback': 13995,\n",
       " 'goodsimple': 15724,\n",
       " 'solutions': 31711,\n",
       " 'fix': 14289,\n",
       " 'resolution': 28715,\n",
       " 'possibly': 26015,\n",
       " 'verizion': 36354,\n",
       " 'unusable': 35746,\n",
       " 'upgradereplacement': 35833,\n",
       " 'straigtforward': 32543,\n",
       " 'verison': 36349,\n",
       " 'supporting': 33033,\n",
       " 'sold': 31671,\n",
       " 'oldlegacy': 23613,\n",
       " 'fixingmaintaining': 14298,\n",
       " 'sofware': 31659,\n",
       " 'priority': 26467,\n",
       " 'nondata': 22930,\n",
       " 'fixreplace': 14299,\n",
       " 'legacy': 19681,\n",
       " 'parents': 24551,\n",
       " 'reluctant': 28327,\n",
       " 'stopped': 32476,\n",
       " 'oh': 23561,\n",
       " 'kind': 19248,\n",
       " 'dirty': 11135,\n",
       " 'laggy': 19410,\n",
       " 'sometimes': 31745,\n",
       " 'seemed': 30176,\n",
       " 'text': 33816,\n",
       " 'fast': 13830,\n",
       " 'enjoyed': 12617,\n",
       " 'school': 29837,\n",
       " 'reliable': 28297,\n",
       " 'crazy': 9544,\n",
       " 'aout': 4177,\n",
       " 'delayed': 10416,\n",
       " 'noticeable': 23155,\n",
       " 'defects': 10324,\n",
       " 'knowing': 19314,\n",
       " 'refurbishedused': 28120,\n",
       " 'assured': 4661,\n",
       " 'extremely': 13556,\n",
       " 'navigating': 22448,\n",
       " 'messages': 21243,\n",
       " 'clearer': 8072,\n",
       " 'opens': 23824,\n",
       " 'particular': 24579,\n",
       " 'corners': 9250,\n",
       " 'dozen': 11715,\n",
       " 'lot': 20331,\n",
       " 'specific': 31967,\n",
       " 'idea': 17413,\n",
       " 'hope': 17039,\n",
       " 'gets': 15423,\n",
       " 'memory': 21152,\n",
       " 'music': 22256,\n",
       " 'photos': 25377,\n",
       " 'surprise': 33097,\n",
       " 'opinion': 23856,\n",
       " 'recharge': 27772,\n",
       " 'quickly': 27277,\n",
       " 'users': 36038,\n",
       " 'carry': 7343,\n",
       " 'pack': 24369,\n",
       " 'phenomenon': 25060,\n",
       " 'suit': 32893,\n",
       " 'missingsome': 21643,\n",
       " 'esn': 12861,\n",
       " 'match': 20919,\n",
       " 'sticker': 32404,\n",
       " 'compartment': 8487,\n",
       " 'consequently': 8930,\n",
       " '30': 1191,\n",
       " 'snc': 31550,\n",
       " 'programming': 26671,\n",
       " 'datedi': 10002,\n",
       " 'lets': 19759,\n",
       " 'jerked': 18959,\n",
       " 'aroud': 4479,\n",
       " 'screwed': 30017,\n",
       " 'shape': 30574,\n",
       " 'itlookedas': 18769,\n",
       " 'hapoy': 16405,\n",
       " 'frame': 14713,\n",
       " 'delivery': 10456,\n",
       " 'outside': 24148,\n",
       " 'traces': 34651,\n",
       " 'chocolate': 7886,\n",
       " 'performs': 24925,\n",
       " 'except': 13232,\n",
       " 'reader': 27571,\n",
       " 'quick': 27269,\n",
       " 'rather': 27480,\n",
       " 'equipment': 12776,\n",
       " 'assuming': 4656,\n",
       " 'defect': 10313,\n",
       " 'burned': 6756,\n",
       " 'power': 26060,\n",
       " 'completely': 8573,\n",
       " 'pulling': 26971,\n",
       " 'depleted': 10551,\n",
       " 'approx': 4340,\n",
       " 'mins': 21526,\n",
       " 'talk': 33400,\n",
       " 'returned': 28926,\n",
       " 'elderly': 12311,\n",
       " 'plus': 25739,\n",
       " 'expend': 13398,\n",
       " 'valuable': 36188,\n",
       " 'cost': 9313,\n",
       " '50': 1742,\n",
       " 'collapsed': 8268,\n",
       " 'receipt': 27724,\n",
       " '150': 473,\n",
       " 'expect': 13355,\n",
       " 'manual': 20782,\n",
       " 'original': 23978,\n",
       " 'stuff': 32669,\n",
       " 'thrown': 34159,\n",
       " 'else': 12378,\n",
       " 'older': 23606,\n",
       " 'version': 36397,\n",
       " 'slim': 31246,\n",
       " 'camera': 7069,\n",
       " 'standard': 32266,\n",
       " 'someone': 31727,\n",
       " 'wants': 36862,\n",
       " 'receiving': 27741,\n",
       " 'texts': 33842,\n",
       " 'finest': 14184,\n",
       " 'devise': 10871,\n",
       " 'terrible': 33784,\n",
       " 'realized': 27615,\n",
       " 'alldont': 3593,\n",
       " 'amazonits': 3808,\n",
       " 'chaarger': 7613,\n",
       " 'min': 21474,\n",
       " 'batteryi': 5411,\n",
       " 'pluged': 25721,\n",
       " 'wallbad': 36815,\n",
       " 'hopefully': 17043,\n",
       " 'refund': 28092,\n",
       " 'timely': 34262,\n",
       " 'arrival': 4505,\n",
       " 'seems': 30183,\n",
       " 'ok': 23579,\n",
       " 'disappointment': 11184,\n",
       " 'moving': 22098,\n",
       " 'transferred': 34747,\n",
       " 'added': 3113,\n",
       " 'hassles': 16521,\n",
       " 'wondering': 37606,\n",
       " 'parts': 24593,\n",
       " 'outdated': 24075,\n",
       " 'deal': 10110,\n",
       " 'pleased': 25692,\n",
       " 'secondhand': 30132,\n",
       " 'details': 10780,\n",
       " 'specified': 31973,\n",
       " 'must': 22269,\n",
       " 'stay': 32351,\n",
       " 'weeks': 37103,\n",
       " 'incoming': 17778,\n",
       " 'purchasing': 27036,\n",
       " 'advertisement': 3266,\n",
       " 'supplier': 33016,\n",
       " 'exceeded': 13192,\n",
       " 'likenew': 19949,\n",
       " 'promptly': 26740,\n",
       " 'saved': 29728,\n",
       " 'expensive': 13405,\n",
       " 'contract': 9088,\n",
       " 'staff': 32236,\n",
       " 'ease': 12090,\n",
       " 'golden': 15649,\n",
       " 'net': 22610,\n",
       " 'mind': 21477,\n",
       " 'video': 36486,\n",
       " '15': 472,\n",
       " 'minutesnew': 21545,\n",
       " 'best': 5682,\n",
       " 'dud': 11885,\n",
       " 'known': 19319,\n",
       " 'true': 34954,\n",
       " ...}"
      ]
     },
     "execution_count": 48,
     "metadata": {
      "tags": []
     },
     "output_type": "execute_result"
    }
   ],
   "source": [
    "# Checking vocabulary to get all the words\n",
    "tfidf_vectorizer.vocabulary_"
   ]
  },
  {
   "cell_type": "markdown",
   "metadata": {
    "id": "5dqPXETLKN0h"
   },
   "source": [
    "### 5.7 Segregate the data into dependent (sentiment) and independent (transformed body using tf-idf) features for building a classifier. "
   ]
  },
  {
   "cell_type": "code",
   "execution_count": 50,
   "metadata": {
    "id": "mpOLAYn07W6F"
   },
   "outputs": [],
   "source": [
    "y = df_final['sentiment']\n",
    "X = tfidf"
   ]
  },
  {
   "cell_type": "markdown",
   "metadata": {
    "id": "4K03FO0q7XBP"
   },
   "source": [
    "### 5.9 Split the data into Train & Test Sets"
   ]
  },
  {
   "cell_type": "code",
   "execution_count": 52,
   "metadata": {
    "id": "D548-7cE7dZa"
   },
   "outputs": [],
   "source": [
    "from sklearn.model_selection import train_test_split\n",
    "x_train, x_test, y_train, y_test = train_test_split(X, y, random_state = 10, stratify=y, test_size=0.3)"
   ]
  },
  {
   "cell_type": "markdown",
   "metadata": {
    "id": "rhD1a-beKvE7"
   },
   "source": [
    "## 6. Model building"
   ]
  },
  {
   "cell_type": "markdown",
   "metadata": {
    "id": "UPFovmN03exD"
   },
   "source": [
    "### 6.1 Build a random forest classifier to predict the 'sentiment'\n",
    "### 6.2 Predict on test set\n",
    "### 6.3 Check accuracy and confusion matrix"
   ]
  },
  {
   "cell_type": "code",
   "execution_count": 54,
   "metadata": {
    "colab": {
     "base_uri": "https://localhost:8080/"
    },
    "id": "y0ytdD-_30P9",
    "outputId": "35490511-dbab-423c-ee24-df8148bc7475"
   },
   "outputs": [
    {
     "name": "stdout",
     "output_type": "stream",
     "text": [
      "Train Accuracy  0.9956833189443964\n",
      "Test Accuracy  0.8896450348432056\n"
     ]
    }
   ],
   "source": [
    "from sklearn.ensemble import RandomForestClassifier\n",
    "rf_clf = RandomForestClassifier() # Using default values\n",
    "\n",
    "# Training model\n",
    "rf_clf.fit(x_train, y_train)\n",
    "\n",
    "# Checking accuracy\n",
    "print('Train Accuracy ', rf_clf.score(x_train, y_train))\n",
    "print('Test Accuracy ', rf_clf.score(x_test, y_test))"
   ]
  },
  {
   "cell_type": "markdown",
   "metadata": {
    "id": "2I4ZqNk1xwth"
   },
   "source": [
    "Confusion Matrix on Train and Test"
   ]
  },
  {
   "cell_type": "code",
   "execution_count": 56,
   "metadata": {
    "colab": {
     "base_uri": "https://localhost:8080/"
    },
    "id": "NJ6Ke4hl30Zk",
    "outputId": "15fa6a87-37bf-403a-cdf6-9c39ba6c7757"
   },
   "outputs": [
    {
     "data": {
      "text/plain": [
       "array([[ 4066,  1420],\n",
       "       [  607, 12275]])"
      ]
     },
     "execution_count": 56,
     "metadata": {
      "tags": []
     },
     "output_type": "execute_result"
    }
   ],
   "source": [
    "from sklearn.metrics import confusion_matrix\n",
    "\n",
    "y_pred = rf_clf.predict(x_test)\n",
    "confusion_matrix(y_test, y_pred)"
   ]
  },
  {
   "cell_type": "markdown",
   "metadata": {
    "id": "5lgYGGtVxnDQ"
   },
   "source": [
    "Checking confusion matrix on train also."
   ]
  },
  {
   "cell_type": "code",
   "execution_count": 57,
   "metadata": {
    "colab": {
     "base_uri": "https://localhost:8080/"
    },
    "id": "MFTA1SxLkOKq",
    "outputId": "851177e1-b238-45b3-8526-e789d920db13"
   },
   "outputs": [
    {
     "data": {
      "text/plain": [
       "array([[12635,   165],\n",
       "       [   20, 30037]])"
      ]
     },
     "execution_count": 57,
     "metadata": {
      "tags": []
     },
     "output_type": "execute_result"
    }
   ],
   "source": [
    "y_pred = rf_clf.predict(x_train)\n",
    "confusion_matrix(y_train, y_pred)"
   ]
  },
  {
   "cell_type": "markdown",
   "metadata": {
    "id": "Ey7an7ukLxWB"
   },
   "source": [
    "## 7. Write your conclusion"
   ]
  },
  {
   "cell_type": "markdown",
   "metadata": {
    "id": "fcq51Dz-0ovr"
   },
   "source": [
    "- We can further improve the model performance. We have huge number of feature with this current approach we followed.\n",
    "- We can perform hyper tuning TfidfVectorizer, use max_features to have less number of features. Currently we got huge number of features. Model will not learn well in this situation. We can also explore differnt ngram values.\n",
    "- We do not have balance between the classes of rating. It would be good for any model if we do have equal number of records for both the classes else model will be biased towards majority class. We can remove Xiomi brand as it has high number of positive classes.\n",
    "- Also we can remove words which are very rate, remove words which are very common.\n",
    "- However we are still able to get 88% accruacy in test even withouth any preprocessing, this is a good accuracy although model is little overfit."
   ]
  },
  {
   "cell_type": "markdown",
   "metadata": {
    "id": "LMvzXGVOyEeN"
   },
   "source": [
    "#### Trying model with few more hyper parameter and a different model."
   ]
  },
  {
   "cell_type": "code",
   "execution_count": 64,
   "metadata": {
    "colab": {
     "base_uri": "https://localhost:8080/"
    },
    "id": "cTQuBgf3yNcI",
    "outputId": "65905e03-526e-45be-eac7-fd163c662225"
   },
   "outputs": [
    {
     "data": {
      "text/plain": [
       "RandomForestClassifier(bootstrap=True, ccp_alpha=0.0, class_weight=None,\n",
       "                       criterion='gini', max_depth=None, max_features='auto',\n",
       "                       max_leaf_nodes=None, max_samples=None,\n",
       "                       min_impurity_decrease=0.0, min_impurity_split=None,\n",
       "                       min_samples_leaf=1, min_samples_split=2,\n",
       "                       min_weight_fraction_leaf=0.0, n_estimators=100,\n",
       "                       n_jobs=None, oob_score=False, random_state=None,\n",
       "                       verbose=0, warm_start=False)"
      ]
     },
     "execution_count": 64,
     "metadata": {
      "tags": []
     },
     "output_type": "execute_result"
    }
   ],
   "source": [
    "tfidf_vectorizer = TfidfVectorizer( min_df = 2, ngram_range=(1,2), max_features = 2000 ) # Limiting features to 2000\n",
    "\n",
    "X = tfidf_vectorizer.fit_transform(df_final['keyword'])\n",
    "y = df_final['sentiment']\n",
    "\n",
    "x_train, x_test, y_train, y_test = train_test_split(X, y, random_state = 10, stratify=y, test_size=0.3)\n",
    "\n",
    "rf_clf = RandomForestClassifier() # Using default values\n",
    "\n",
    "# Training model\n",
    "rf_clf.fit(x_train, y_train)"
   ]
  },
  {
   "cell_type": "code",
   "execution_count": 66,
   "metadata": {
    "colab": {
     "base_uri": "https://localhost:8080/"
    },
    "id": "TEI-RrrW6D96",
    "outputId": "50ce537a-d836-4f0c-ec5b-e62b131f91de"
   },
   "outputs": [
    {
     "name": "stdout",
     "output_type": "stream",
     "text": [
      "Train Accuracy  0.9923466411554706\n",
      "Test Accuracy  0.8857251742160279\n"
     ]
    }
   ],
   "source": [
    "# Checking accuracy\n",
    "print('Train Accuracy ', rf_clf.score(x_train, y_train))\n",
    "print('Test Accuracy ', rf_clf.score(x_test, y_test))"
   ]
  },
  {
   "cell_type": "code",
   "execution_count": 68,
   "metadata": {
    "colab": {
     "base_uri": "https://localhost:8080/"
    },
    "id": "UOOc-Pp_8wQH",
    "outputId": "e13c04c0-5925-47f1-fd40-6da058fe9323"
   },
   "outputs": [
    {
     "data": {
      "text/plain": [
       "(61225, 2000)"
      ]
     },
     "execution_count": 68,
     "metadata": {
      "tags": []
     },
     "output_type": "execute_result"
    }
   ],
   "source": [
    "X.shape"
   ]
  },
  {
   "cell_type": "markdown",
   "metadata": {
    "id": "ZoM2WeGX8NA9"
   },
   "source": [
    "Accuracy not improved even after limiting the features to 2000. However we can say we are able to get same accuracy with quire less number of features now.\n",
    "\n",
    "Earlier we were working on shape (61225, 38370), now we are working with (61225, 2000)."
   ]
  },
  {
   "cell_type": "markdown",
   "metadata": {
    "id": "CD8lVNY0YLQD"
   },
   "source": [
    "##. 8. Further Explore\n",
    "### 8.0 Merge all independent features and the below text preprocessing steps\n",
    "### 8.1 Check rare words and drop them\n",
    "### 8.2 Remove emoticon/emojis\n",
    "### 8.3 Try different vectorizer for vectorization\n",
    "### 8.4 Use embeddings\n",
    "### 8.5 Use NN based models"
   ]
  },
  {
   "cell_type": "code",
   "execution_count": null,
   "metadata": {
    "id": "bJEEmN3ZY5KJ"
   },
   "outputs": [],
   "source": []
  }
 ],
 "metadata": {
  "colab": {
   "collapsed_sections": [],
   "name": "R8 Internal Lab Question Notebook (2).ipynb",
   "provenance": []
  },
  "kernelspec": {
   "display_name": "Python 3",
   "language": "python",
   "name": "python3"
  },
  "language_info": {
   "codemirror_mode": {
    "name": "ipython",
    "version": 3
   },
   "file_extension": ".py",
   "mimetype": "text/x-python",
   "name": "python",
   "nbconvert_exporter": "python",
   "pygments_lexer": "ipython3",
   "version": "3.7.6"
  }
 },
 "nbformat": 4,
 "nbformat_minor": 1
}
