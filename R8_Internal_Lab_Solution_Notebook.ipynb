{
  "nbformat": 4,
  "nbformat_minor": 0,
  "metadata": {
    "colab": {
      "name": "R8 Internal Lab Solution Notebook.ipynb",
      "provenance": [],
      "collapsed_sections": [
        "x_Lom6cXzqn7",
        "fze-aokU0ukH"
      ]
    },
    "kernelspec": {
      "name": "python3",
      "display_name": "Python 3"
    }
  },
  "cells": [
    {
      "cell_type": "markdown",
      "metadata": {
        "id": "PHYs6Z84xV8E"
      },
      "source": [
        "<img src=\"http://drive.google.com/uc?export=view&id=1tpOCamr9aWz817atPnyXus8w5gJ3mIts\" width=500px>\n",
        "\n",
        "Proprietary content. © Great Learning. All Rights Reserved. Unauthorized use or distribution prohibited."
      ]
    },
    {
      "cell_type": "markdown",
      "metadata": {
        "id": "5QQxgAmWzSye"
      },
      "source": [
        "# Mobile Phone Review Analysis"
      ]
    },
    {
      "cell_type": "markdown",
      "metadata": {
        "id": "FbwHYUXhxaqD"
      },
      "source": [
        "## Context\n",
        "\n",
        "The product companies can utilize the detailed review comments to gather insights from the end user. Most of the products are sold via e-commerce sites like Flipkart or Amazon where customers can buy a product and give their review about the product on the web site. \n",
        "Product managers can identify the relevant reviews from the website and run a sentiment analysis tool to understand what the sentiments of the customer are. Based on their sentiments, they can identify what users think of the current product. Are they happy? Discontent? \n",
        "They can also come up with a document that lists the features, the team needs to focus on for making the product better. \n",
        "\n",
        "## Objective\n",
        "\n",
        "Given the review data rating label, we will try to get insights about various brands and their ratings using text analytics and build a model to predict the rating and overall sentiment. \n"
      ]
    },
    {
      "cell_type": "markdown",
      "metadata": {
        "id": "CI7usguRzeox"
      },
      "source": [
        "### Package version\n",
        "\n",
        "- tensorflow==2.3.0\n",
        "- scikit-learn==0.22.2.post1\n",
        "- pandas==1.0.5\n",
        "- numpy==1.18.5\n",
        "- matplotlib==3.2.2\n",
        "- google==2.0.3"
      ]
    },
    {
      "cell_type": "markdown",
      "metadata": {
        "id": "aiMdVjHRH7NR"
      },
      "source": [
        "### Data Dictionary \n",
        "\n",
        "product_data.csv - contains product details\n",
        "- 'asin',  - Product ASIN\n",
        "- 'brand', - Product Brand\n",
        "- 'title', - Product Title\n",
        "- 'url',  - Product URL\n",
        "- 'image', - Product Image URL\n",
        "- 'rating',- Product Avg. Rating\n",
        "- 'reviewUrl' - Product Review Page URL\n",
        "- 'totalReviews' - Product Total Reviews\n",
        "- ‘price’ - Product Price ($)\n",
        "- ‘originalPrice’ - Product Original Price ($)\n",
        " \n",
        "reviews.csv  - contains user review details\n",
        " \n",
        "- 'asin' - Product ASIN\n",
        "- 'name' - Reviewer Name\n",
        "- 'rating' - Reviewer Rating (scale 1 to 5)\n",
        "- 'date'  - Review Date\n",
        "- 'verified' - Valid Customer\n",
        "- 'title'  - Review Title\n",
        "- 'body'  - Review Content\n",
        "- 'helpfulVotes  - Helpful Feedbacks\n"
      ]
    },
    {
      "cell_type": "markdown",
      "metadata": {
        "id": "cEn52o8jznJK"
      },
      "source": [
        "## Table of Content\n",
        "\n",
        "1. Import Libraries\n",
        "\n",
        "2. Setting options\n",
        "\n",
        "3. Read Data\n",
        "\n",
        "4. Data Analysis and EDA\n",
        "\n",
        "5. Text preprocessing and Vectorization\n",
        "\n",
        "6. Model building\n",
        "\n",
        "7. Conclusion and Interpretation"
      ]
    },
    {
      "cell_type": "markdown",
      "metadata": {
        "id": "x_Lom6cXzqn7"
      },
      "source": [
        "## 1. Import Libraries"
      ]
    },
    {
      "cell_type": "markdown",
      "metadata": {
        "id": "FZtVstH8zre2"
      },
      "source": [
        "Let us start by mounting the drive"
      ]
    },
    {
      "cell_type": "code",
      "metadata": {
        "id": "xv9jxv3-R5Xl",
        "colab": {
          "base_uri": "https://localhost:8080/"
        },
        "outputId": "78b07c0d-ce90-43b3-b35b-164f15115f52"
      },
      "source": [
        "from google.colab import drive\n",
        "drive.mount('/content/drive')"
      ],
      "execution_count": null,
      "outputs": [
        {
          "output_type": "stream",
          "text": [
            "Drive already mounted at /content/drive; to attempt to forcibly remount, call drive.mount(\"/content/drive\", force_remount=True).\n"
          ],
          "name": "stdout"
        }
      ]
    },
    {
      "cell_type": "markdown",
      "metadata": {
        "id": "Gv-tZoFjz2WD"
      },
      "source": [
        "Let us check for the version of installed tensorflow."
      ]
    },
    {
      "cell_type": "code",
      "metadata": {
        "id": "eiuUVBuDzzn9",
        "colab": {
          "base_uri": "https://localhost:8080/"
        },
        "outputId": "5478f902-cf6a-4482-f716-bc8879eb35e4"
      },
      "source": [
        "# used to supress display of warnings\n",
        "import warnings\n",
        "\n",
        "# os is used to provide a way of using operating system dependent functionality\n",
        "# We use it for setting working folder\n",
        "import os\n",
        "\n",
        "# Pandas is used for data manipulation and analysis\n",
        "import pandas as pd \n",
        "\n",
        "# Numpy is used for large, multi-dimensional arrays and matrices, along with mathematical operators on these arrays\n",
        "import numpy as np\n",
        "\n",
        "# Matplotlib is a data visualization library for 2D plots of arrays, built on NumPy arrays \n",
        "# and designed to work with the broader SciPy stack\n",
        "import matplotlib.pyplot as plt\n",
        "%matplotlib inline\n",
        "from matplotlib import pyplot\n",
        "\n",
        "# Seaborn is based on matplotlib, which aids in drawing attractive and informative statistical graphics.\n",
        "import seaborn as sns\n",
        "import tensorflow \n",
        "print(tensorflow.__version__)"
      ],
      "execution_count": null,
      "outputs": [
        {
          "output_type": "stream",
          "text": [
            "2.5.0\n"
          ],
          "name": "stdout"
        }
      ]
    },
    {
      "cell_type": "markdown",
      "metadata": {
        "id": "fze-aokU0ukH"
      },
      "source": [
        "## 2. Setting Options"
      ]
    },
    {
      "cell_type": "code",
      "metadata": {
        "id": "T3FALggG0xXa"
      },
      "source": [
        "# suppress display of warnings\n",
        "warnings.filterwarnings('ignore')\n",
        "\n",
        "# display all dataframe columns\n",
        "pd.options.display.max_columns = None\n",
        "\n",
        "# to set the limit to 3 decimals\n",
        "pd.options.display.float_format = '{:.7f}'.format\n",
        "\n",
        "# display all dataframe rows\n",
        "pd.options.display.max_rows = None"
      ],
      "execution_count": null,
      "outputs": []
    },
    {
      "cell_type": "markdown",
      "metadata": {
        "id": "ZT1P1WdK1vfZ"
      },
      "source": [
        "## 3. Read Data"
      ]
    },
    {
      "cell_type": "markdown",
      "metadata": {
        "id": "-UOW6zwww7L1"
      },
      "source": [
        "### 3.1 Read the provided CSVs and check 5 random samples and shape to understand the datasets"
      ]
    },
    {
      "cell_type": "code",
      "metadata": {
        "id": "nxT2g284xF1W",
        "colab": {
          "base_uri": "https://localhost:8080/",
          "height": 428
        },
        "outputId": "819413e1-1a0e-47e9-d2b5-2f5cdac7c25e"
      },
      "source": [
        "prod_df = pd.read_csv('/content/drive/MyDrive/GL- AIML/Stats NLP/product_data.csv')\n",
        "print('Dataset Shape : ',prod_df.shape)\n",
        "prod_df.sample(5)"
      ],
      "execution_count": null,
      "outputs": [
        {
          "output_type": "stream",
          "text": [
            "Dataset Shape :  (720, 10)\n"
          ],
          "name": "stdout"
        },
        {
          "output_type": "execute_result",
          "data": {
            "text/html": [
              "<div>\n",
              "<style scoped>\n",
              "    .dataframe tbody tr th:only-of-type {\n",
              "        vertical-align: middle;\n",
              "    }\n",
              "\n",
              "    .dataframe tbody tr th {\n",
              "        vertical-align: top;\n",
              "    }\n",
              "\n",
              "    .dataframe thead th {\n",
              "        text-align: right;\n",
              "    }\n",
              "</style>\n",
              "<table border=\"1\" class=\"dataframe\">\n",
              "  <thead>\n",
              "    <tr style=\"text-align: right;\">\n",
              "      <th></th>\n",
              "      <th>asin</th>\n",
              "      <th>brand</th>\n",
              "      <th>title</th>\n",
              "      <th>url</th>\n",
              "      <th>image</th>\n",
              "      <th>rating</th>\n",
              "      <th>reviewUrl</th>\n",
              "      <th>totalReviews</th>\n",
              "      <th>price</th>\n",
              "      <th>originalPrice</th>\n",
              "    </tr>\n",
              "  </thead>\n",
              "  <tbody>\n",
              "    <tr>\n",
              "      <th>125</th>\n",
              "      <td>B01CJ3SF02</td>\n",
              "      <td>Samsung</td>\n",
              "      <td>Samsung Galaxy GS7 Edge, Gold 32GB (Verizon Wi...</td>\n",
              "      <td>https://www.amazon.com/Samsung-Galaxy-GS7-Edge...</td>\n",
              "      <td>https://m.media-amazon.com/images/I/51dtq9MFg0...</td>\n",
              "      <td>3.8000000</td>\n",
              "      <td>https://www.amazon.com/product-reviews/B01CJ3SF02</td>\n",
              "      <td>37</td>\n",
              "      <td>0.0000000</td>\n",
              "      <td>0.0000000</td>\n",
              "    </tr>\n",
              "    <tr>\n",
              "      <th>55</th>\n",
              "      <td>B00F9RRVUG</td>\n",
              "      <td>Samsung</td>\n",
              "      <td>Samsung a157V (AT&amp;T Go Phone) No Annual Contract</td>\n",
              "      <td>https://www.amazon.com/Samsung-a157V-Phone-Ann...</td>\n",
              "      <td>https://m.media-amazon.com/images/I/415nK4G4hJ...</td>\n",
              "      <td>3.5000000</td>\n",
              "      <td>https://www.amazon.com/product-reviews/B00F9RRVUG</td>\n",
              "      <td>299</td>\n",
              "      <td>102.0000000</td>\n",
              "      <td>0.0000000</td>\n",
              "    </tr>\n",
              "    <tr>\n",
              "      <th>284</th>\n",
              "      <td>B0757LYR7P</td>\n",
              "      <td>Samsung</td>\n",
              "      <td>Samsung Galaxy S8 SM-G950UZSAVZW - Verizon - C...</td>\n",
              "      <td>https://www.amazon.com/Samsung-Galaxy-SM-G950U...</td>\n",
              "      <td>https://m.media-amazon.com/images/I/311DkyHrY8...</td>\n",
              "      <td>5.0000000</td>\n",
              "      <td>https://www.amazon.com/product-reviews/B0757LYR7P</td>\n",
              "      <td>2</td>\n",
              "      <td>289.9500000</td>\n",
              "      <td>0.0000000</td>\n",
              "    </tr>\n",
              "    <tr>\n",
              "      <th>433</th>\n",
              "      <td>B07GPNGWNK</td>\n",
              "      <td>Xiaomi</td>\n",
              "      <td>Xiaomi Mi 8, 6-64GB, Unlocked, Global Version ...</td>\n",
              "      <td>https://www.amazon.com/Xiaomi-6-64GB-Unlocked-...</td>\n",
              "      <td>https://m.media-amazon.com/images/I/61ITfSJQDA...</td>\n",
              "      <td>4.5000000</td>\n",
              "      <td>https://www.amazon.com/product-reviews/B07GPNGWNK</td>\n",
              "      <td>60</td>\n",
              "      <td>268.9900000</td>\n",
              "      <td>0.0000000</td>\n",
              "    </tr>\n",
              "    <tr>\n",
              "      <th>173</th>\n",
              "      <td>B01M0PADR4</td>\n",
              "      <td>Google</td>\n",
              "      <td>Google Pixel XL G2PW210032GBBK Factory Unlocke...</td>\n",
              "      <td>https://www.amazon.com/Google-G2PW210032GBBK-U...</td>\n",
              "      <td>https://m.media-amazon.com/images/I/71PZz7CQ9U...</td>\n",
              "      <td>3.4000000</td>\n",
              "      <td>https://www.amazon.com/product-reviews/B01M0PADR4</td>\n",
              "      <td>429</td>\n",
              "      <td>201.4800000</td>\n",
              "      <td>0.0000000</td>\n",
              "    </tr>\n",
              "  </tbody>\n",
              "</table>\n",
              "</div>"
            ],
            "text/plain": [
              "           asin    brand                                              title  \\\n",
              "125  B01CJ3SF02  Samsung  Samsung Galaxy GS7 Edge, Gold 32GB (Verizon Wi...   \n",
              "55   B00F9RRVUG  Samsung   Samsung a157V (AT&T Go Phone) No Annual Contract   \n",
              "284  B0757LYR7P  Samsung  Samsung Galaxy S8 SM-G950UZSAVZW - Verizon - C...   \n",
              "433  B07GPNGWNK   Xiaomi  Xiaomi Mi 8, 6-64GB, Unlocked, Global Version ...   \n",
              "173  B01M0PADR4   Google  Google Pixel XL G2PW210032GBBK Factory Unlocke...   \n",
              "\n",
              "                                                   url  \\\n",
              "125  https://www.amazon.com/Samsung-Galaxy-GS7-Edge...   \n",
              "55   https://www.amazon.com/Samsung-a157V-Phone-Ann...   \n",
              "284  https://www.amazon.com/Samsung-Galaxy-SM-G950U...   \n",
              "433  https://www.amazon.com/Xiaomi-6-64GB-Unlocked-...   \n",
              "173  https://www.amazon.com/Google-G2PW210032GBBK-U...   \n",
              "\n",
              "                                                 image    rating  \\\n",
              "125  https://m.media-amazon.com/images/I/51dtq9MFg0... 3.8000000   \n",
              "55   https://m.media-amazon.com/images/I/415nK4G4hJ... 3.5000000   \n",
              "284  https://m.media-amazon.com/images/I/311DkyHrY8... 5.0000000   \n",
              "433  https://m.media-amazon.com/images/I/61ITfSJQDA... 4.5000000   \n",
              "173  https://m.media-amazon.com/images/I/71PZz7CQ9U... 3.4000000   \n",
              "\n",
              "                                             reviewUrl  totalReviews  \\\n",
              "125  https://www.amazon.com/product-reviews/B01CJ3SF02            37   \n",
              "55   https://www.amazon.com/product-reviews/B00F9RRVUG           299   \n",
              "284  https://www.amazon.com/product-reviews/B0757LYR7P             2   \n",
              "433  https://www.amazon.com/product-reviews/B07GPNGWNK            60   \n",
              "173  https://www.amazon.com/product-reviews/B01M0PADR4           429   \n",
              "\n",
              "          price  originalPrice  \n",
              "125   0.0000000      0.0000000  \n",
              "55  102.0000000      0.0000000  \n",
              "284 289.9500000      0.0000000  \n",
              "433 268.9900000      0.0000000  \n",
              "173 201.4800000      0.0000000  "
            ]
          },
          "metadata": {
            "tags": []
          },
          "execution_count": 4
        }
      ]
    },
    {
      "cell_type": "code",
      "metadata": {
        "id": "GRjG44fRxGIq",
        "colab": {
          "base_uri": "https://localhost:8080/",
          "height": 221
        },
        "outputId": "2bb53223-78a3-4c93-b2f6-85836a8d0c2b"
      },
      "source": [
        "review_df = pd.read_csv('/content/drive/MyDrive/GL- AIML/Stats NLP/reviews.csv')\n",
        "print('Dataset Shape : ',review_df.shape)\n",
        "review_df.sample(5)"
      ],
      "execution_count": null,
      "outputs": [
        {
          "output_type": "stream",
          "text": [
            "Dataset Shape :  (67986, 8)\n"
          ],
          "name": "stdout"
        },
        {
          "output_type": "execute_result",
          "data": {
            "text/html": [
              "<div>\n",
              "<style scoped>\n",
              "    .dataframe tbody tr th:only-of-type {\n",
              "        vertical-align: middle;\n",
              "    }\n",
              "\n",
              "    .dataframe tbody tr th {\n",
              "        vertical-align: top;\n",
              "    }\n",
              "\n",
              "    .dataframe thead th {\n",
              "        text-align: right;\n",
              "    }\n",
              "</style>\n",
              "<table border=\"1\" class=\"dataframe\">\n",
              "  <thead>\n",
              "    <tr style=\"text-align: right;\">\n",
              "      <th></th>\n",
              "      <th>asin</th>\n",
              "      <th>name</th>\n",
              "      <th>rating</th>\n",
              "      <th>date</th>\n",
              "      <th>verified</th>\n",
              "      <th>title</th>\n",
              "      <th>body</th>\n",
              "      <th>helpfulVotes</th>\n",
              "    </tr>\n",
              "  </thead>\n",
              "  <tbody>\n",
              "    <tr>\n",
              "      <th>13934</th>\n",
              "      <td>B00O2ALRNS</td>\n",
              "      <td>Mary Clements</td>\n",
              "      <td>5</td>\n",
              "      <td>March 8, 2015</td>\n",
              "      <td>True</td>\n",
              "      <td>Five Stars</td>\n",
              "      <td>Excellent phone received it within 3 days afte...</td>\n",
              "      <td>1.0000000</td>\n",
              "    </tr>\n",
              "    <tr>\n",
              "      <th>42972</th>\n",
              "      <td>B077V219SV</td>\n",
              "      <td>Corbin Carter</td>\n",
              "      <td>5</td>\n",
              "      <td>July 8, 2019</td>\n",
              "      <td>True</td>\n",
              "      <td>great S7</td>\n",
              "      <td>great phone</td>\n",
              "      <td>nan</td>\n",
              "    </tr>\n",
              "    <tr>\n",
              "      <th>24804</th>\n",
              "      <td>B01I8V0MJQ</td>\n",
              "      <td>Glenn Turner</td>\n",
              "      <td>1</td>\n",
              "      <td>March 3, 2017</td>\n",
              "      <td>True</td>\n",
              "      <td>Not like new</td>\n",
              "      <td>Just got the phone today, was not wrapped like...</td>\n",
              "      <td>12.0000000</td>\n",
              "    </tr>\n",
              "    <tr>\n",
              "      <th>36656</th>\n",
              "      <td>B072B7XSVT</td>\n",
              "      <td>Queeny</td>\n",
              "      <td>5</td>\n",
              "      <td>July 30, 2019</td>\n",
              "      <td>True</td>\n",
              "      <td>Great phone.</td>\n",
              "      <td>Love this phone, was a gift for my hubby. He l...</td>\n",
              "      <td>nan</td>\n",
              "    </tr>\n",
              "    <tr>\n",
              "      <th>49276</th>\n",
              "      <td>B07FM9913M</td>\n",
              "      <td>Traveling Tech Guy</td>\n",
              "      <td>2</td>\n",
              "      <td>October 17, 2019</td>\n",
              "      <td>True</td>\n",
              "      <td>Very good phone - if you get a working one</td>\n",
              "      <td>For a full review of the phone itself, scroll ...</td>\n",
              "      <td>nan</td>\n",
              "    </tr>\n",
              "  </tbody>\n",
              "</table>\n",
              "</div>"
            ],
            "text/plain": [
              "             asin                name  rating              date  verified  \\\n",
              "13934  B00O2ALRNS       Mary Clements       5     March 8, 2015      True   \n",
              "42972  B077V219SV       Corbin Carter       5      July 8, 2019      True   \n",
              "24804  B01I8V0MJQ        Glenn Turner       1     March 3, 2017      True   \n",
              "36656  B072B7XSVT              Queeny       5     July 30, 2019      True   \n",
              "49276  B07FM9913M  Traveling Tech Guy       2  October 17, 2019      True   \n",
              "\n",
              "                                            title  \\\n",
              "13934                                  Five Stars   \n",
              "42972                                    great S7   \n",
              "24804                                Not like new   \n",
              "36656                                Great phone.   \n",
              "49276  Very good phone - if you get a working one   \n",
              "\n",
              "                                                    body  helpfulVotes  \n",
              "13934  Excellent phone received it within 3 days afte...     1.0000000  \n",
              "42972                                        great phone           nan  \n",
              "24804  Just got the phone today, was not wrapped like...    12.0000000  \n",
              "36656  Love this phone, was a gift for my hubby. He l...           nan  \n",
              "49276  For a full review of the phone itself, scroll ...           nan  "
            ]
          },
          "metadata": {
            "tags": []
          },
          "execution_count": 5
        }
      ]
    },
    {
      "cell_type": "markdown",
      "metadata": {
        "id": "rED6DbDBKTjM"
      },
      "source": [
        "## 4.  Data Analysis and EDA"
      ]
    },
    {
      "cell_type": "markdown",
      "metadata": {
        "id": "awlqmp40xMfc"
      },
      "source": [
        "### 4.1 Drop unnecessary columns like 'url', 'image' from the product_data"
      ]
    },
    {
      "cell_type": "code",
      "metadata": {
        "colab": {
          "base_uri": "https://localhost:8080/"
        },
        "id": "MOO4XJDrpX8I",
        "outputId": "5cab2e82-5ff7-473a-f8e2-7eac936d0bbd"
      },
      "source": [
        "prod_df.columns"
      ],
      "execution_count": null,
      "outputs": [
        {
          "output_type": "execute_result",
          "data": {
            "text/plain": [
              "Index(['asin', 'brand', 'title', 'url', 'image', 'rating', 'reviewUrl',\n",
              "       'totalReviews', 'price', 'originalPrice'],\n",
              "      dtype='object')"
            ]
          },
          "metadata": {
            "tags": []
          },
          "execution_count": 6
        }
      ]
    },
    {
      "cell_type": "code",
      "metadata": {
        "id": "VT4d-6TCxZCm"
      },
      "source": [
        "prod_df.drop(columns=['url','image','reviewUrl'],inplace=True)"
      ],
      "execution_count": null,
      "outputs": []
    },
    {
      "cell_type": "markdown",
      "metadata": {
        "id": "Zk0WW5D5xZK9"
      },
      "source": [
        "### 4.2 Check statistical summary of both datasets. Note:- Include both numerical and object type columns."
      ]
    },
    {
      "cell_type": "code",
      "metadata": {
        "colab": {
          "base_uri": "https://localhost:8080/"
        },
        "id": "olynUmPPpuYQ",
        "outputId": "9457f36d-493e-40aa-d816-f9552db81e34"
      },
      "source": [
        "prod_df.info()"
      ],
      "execution_count": null,
      "outputs": [
        {
          "output_type": "stream",
          "text": [
            "<class 'pandas.core.frame.DataFrame'>\n",
            "RangeIndex: 720 entries, 0 to 719\n",
            "Data columns (total 7 columns):\n",
            " #   Column         Non-Null Count  Dtype  \n",
            "---  ------         --------------  -----  \n",
            " 0   asin           720 non-null    object \n",
            " 1   brand          716 non-null    object \n",
            " 2   title          720 non-null    object \n",
            " 3   rating         720 non-null    float64\n",
            " 4   totalReviews   720 non-null    int64  \n",
            " 5   price          720 non-null    float64\n",
            " 6   originalPrice  720 non-null    float64\n",
            "dtypes: float64(3), int64(1), object(3)\n",
            "memory usage: 39.5+ KB\n"
          ],
          "name": "stdout"
        }
      ]
    },
    {
      "cell_type": "markdown",
      "metadata": {
        "id": "YNsUEpE5zEFK"
      },
      "source": [
        "- There are 2 columns which are float or int. All others are float.\n",
        "- There are only 4 null values in brand column, all other have no null value."
      ]
    },
    {
      "cell_type": "code",
      "metadata": {
        "colab": {
          "base_uri": "https://localhost:8080/",
          "height": 297
        },
        "id": "e55R5WcpqGfh",
        "outputId": "afcaa3d0-eb0e-4f13-c86e-dc2dbac81b50"
      },
      "source": [
        "|prod_df.describe()"
      ],
      "execution_count": null,
      "outputs": [
        {
          "output_type": "execute_result",
          "data": {
            "text/html": [
              "<div>\n",
              "<style scoped>\n",
              "    .dataframe tbody tr th:only-of-type {\n",
              "        vertical-align: middle;\n",
              "    }\n",
              "\n",
              "    .dataframe tbody tr th {\n",
              "        vertical-align: top;\n",
              "    }\n",
              "\n",
              "    .dataframe thead th {\n",
              "        text-align: right;\n",
              "    }\n",
              "</style>\n",
              "<table border=\"1\" class=\"dataframe\">\n",
              "  <thead>\n",
              "    <tr style=\"text-align: right;\">\n",
              "      <th></th>\n",
              "      <th>rating</th>\n",
              "      <th>totalReviews</th>\n",
              "      <th>price</th>\n",
              "      <th>originalPrice</th>\n",
              "    </tr>\n",
              "  </thead>\n",
              "  <tbody>\n",
              "    <tr>\n",
              "      <th>count</th>\n",
              "      <td>720.0000000</td>\n",
              "      <td>720.0000000</td>\n",
              "      <td>720.0000000</td>\n",
              "      <td>720.0000000</td>\n",
              "    </tr>\n",
              "    <tr>\n",
              "      <th>mean</th>\n",
              "      <td>3.7137500</td>\n",
              "      <td>105.6791667</td>\n",
              "      <td>234.9489306</td>\n",
              "      <td>63.6907778</td>\n",
              "    </tr>\n",
              "    <tr>\n",
              "      <th>std</th>\n",
              "      <td>0.7160138</td>\n",
              "      <td>167.6011014</td>\n",
              "      <td>200.0084407</td>\n",
              "      <td>172.4053696</td>\n",
              "    </tr>\n",
              "    <tr>\n",
              "      <th>min</th>\n",
              "      <td>1.0000000</td>\n",
              "      <td>1.0000000</td>\n",
              "      <td>0.0000000</td>\n",
              "      <td>0.0000000</td>\n",
              "    </tr>\n",
              "    <tr>\n",
              "      <th>25%</th>\n",
              "      <td>3.3000000</td>\n",
              "      <td>7.0000000</td>\n",
              "      <td>97.5125000</td>\n",
              "      <td>0.0000000</td>\n",
              "    </tr>\n",
              "    <tr>\n",
              "      <th>50%</th>\n",
              "      <td>3.8000000</td>\n",
              "      <td>32.0000000</td>\n",
              "      <td>188.9750000</td>\n",
              "      <td>0.0000000</td>\n",
              "    </tr>\n",
              "    <tr>\n",
              "      <th>75%</th>\n",
              "      <td>4.1000000</td>\n",
              "      <td>122.2500000</td>\n",
              "      <td>336.7250000</td>\n",
              "      <td>0.0000000</td>\n",
              "    </tr>\n",
              "    <tr>\n",
              "      <th>max</th>\n",
              "      <td>5.0000000</td>\n",
              "      <td>983.0000000</td>\n",
              "      <td>999.9900000</td>\n",
              "      <td>999.9900000</td>\n",
              "    </tr>\n",
              "  </tbody>\n",
              "</table>\n",
              "</div>"
            ],
            "text/plain": [
              "           rating  totalReviews       price  originalPrice\n",
              "count 720.0000000   720.0000000 720.0000000    720.0000000\n",
              "mean    3.7137500   105.6791667 234.9489306     63.6907778\n",
              "std     0.7160138   167.6011014 200.0084407    172.4053696\n",
              "min     1.0000000     1.0000000   0.0000000      0.0000000\n",
              "25%     3.3000000     7.0000000  97.5125000      0.0000000\n",
              "50%     3.8000000    32.0000000 188.9750000      0.0000000\n",
              "75%     4.1000000   122.2500000 336.7250000      0.0000000\n",
              "max     5.0000000   983.0000000 999.9900000    999.9900000"
            ]
          },
          "metadata": {
            "tags": []
          },
          "execution_count": 9
        }
      ]
    },
    {
      "cell_type": "markdown",
      "metadata": {
        "id": "9rT0IGMGzjq1"
      },
      "source": [
        "- In Rating column, we have values ranging from 1 to 5 with mean of 3.72 and deviation of 0.72.\n",
        "- In totalReviews column, we have values ranging from 1 to 983 with mean of 105.68 and deviation of 167.60.\n",
        "- In price column, we have values ranging from 0 to 999.99 with mean of 234.95 and deviation of 200.09.\n",
        "- In originalPrice column, we have values ranging from 0 to 999.99 with mean of 63.7 and deviation of 172.4."
      ]
    },
    {
      "cell_type": "code",
      "metadata": {
        "id": "ylwcqQpcx_Tl",
        "colab": {
          "base_uri": "https://localhost:8080/",
          "height": 173
        },
        "outputId": "20949f4a-f56d-4765-c584-77f03c9763b9"
      },
      "source": [
        "prod_df.describe(include='O')"
      ],
      "execution_count": null,
      "outputs": [
        {
          "output_type": "execute_result",
          "data": {
            "text/html": [
              "<div>\n",
              "<style scoped>\n",
              "    .dataframe tbody tr th:only-of-type {\n",
              "        vertical-align: middle;\n",
              "    }\n",
              "\n",
              "    .dataframe tbody tr th {\n",
              "        vertical-align: top;\n",
              "    }\n",
              "\n",
              "    .dataframe thead th {\n",
              "        text-align: right;\n",
              "    }\n",
              "</style>\n",
              "<table border=\"1\" class=\"dataframe\">\n",
              "  <thead>\n",
              "    <tr style=\"text-align: right;\">\n",
              "      <th></th>\n",
              "      <th>asin</th>\n",
              "      <th>brand</th>\n",
              "      <th>title</th>\n",
              "    </tr>\n",
              "  </thead>\n",
              "  <tbody>\n",
              "    <tr>\n",
              "      <th>count</th>\n",
              "      <td>720</td>\n",
              "      <td>716</td>\n",
              "      <td>720</td>\n",
              "    </tr>\n",
              "    <tr>\n",
              "      <th>unique</th>\n",
              "      <td>720</td>\n",
              "      <td>10</td>\n",
              "      <td>718</td>\n",
              "    </tr>\n",
              "    <tr>\n",
              "      <th>top</th>\n",
              "      <td>B077MR13HM</td>\n",
              "      <td>Samsung</td>\n",
              "      <td>Google Pixel 2 XL 128GB Unlocked GSM/CDMA 4G L...</td>\n",
              "    </tr>\n",
              "    <tr>\n",
              "      <th>freq</th>\n",
              "      <td>1</td>\n",
              "      <td>346</td>\n",
              "      <td>2</td>\n",
              "    </tr>\n",
              "  </tbody>\n",
              "</table>\n",
              "</div>"
            ],
            "text/plain": [
              "              asin    brand                                              title\n",
              "count          720      716                                                720\n",
              "unique         720       10                                                718\n",
              "top     B077MR13HM  Samsung  Google Pixel 2 XL 128GB Unlocked GSM/CDMA 4G L...\n",
              "freq             1      346                                                  2"
            ]
          },
          "metadata": {
            "tags": []
          },
          "execution_count": 10
        }
      ]
    },
    {
      "cell_type": "markdown",
      "metadata": {
        "id": "Ft8bTSMb0o7J"
      },
      "source": [
        "- There are 718 unique values in brand column.\n",
        "- Samsung have topmost rows with 346 rowcount."
      ]
    },
    {
      "cell_type": "code",
      "metadata": {
        "colab": {
          "base_uri": "https://localhost:8080/"
        },
        "id": "wUKbNjFnqzFT",
        "outputId": "34d811e3-17ae-4734-a425-ba122847d32f"
      },
      "source": [
        "review_df.info()"
      ],
      "execution_count": null,
      "outputs": [
        {
          "output_type": "stream",
          "text": [
            "<class 'pandas.core.frame.DataFrame'>\n",
            "RangeIndex: 67986 entries, 0 to 67985\n",
            "Data columns (total 8 columns):\n",
            " #   Column        Non-Null Count  Dtype  \n",
            "---  ------        --------------  -----  \n",
            " 0   asin          67986 non-null  object \n",
            " 1   name          67984 non-null  object \n",
            " 2   rating        67986 non-null  int64  \n",
            " 3   date          67986 non-null  object \n",
            " 4   verified      67986 non-null  bool   \n",
            " 5   title         67972 non-null  object \n",
            " 6   body          67965 non-null  object \n",
            " 7   helpfulVotes  27215 non-null  float64\n",
            "dtypes: bool(1), float64(1), int64(1), object(5)\n",
            "memory usage: 3.7+ MB\n"
          ],
          "name": "stdout"
        }
      ]
    },
    {
      "cell_type": "code",
      "metadata": {
        "colab": {
          "base_uri": "https://localhost:8080/",
          "height": 297
        },
        "id": "IK_vuEErqy-Q",
        "outputId": "28dc02b7-0f3c-4545-ae99-baad81e0b370"
      },
      "source": [
        "review_df.describe()"
      ],
      "execution_count": null,
      "outputs": [
        {
          "output_type": "execute_result",
          "data": {
            "text/html": [
              "<div>\n",
              "<style scoped>\n",
              "    .dataframe tbody tr th:only-of-type {\n",
              "        vertical-align: middle;\n",
              "    }\n",
              "\n",
              "    .dataframe tbody tr th {\n",
              "        vertical-align: top;\n",
              "    }\n",
              "\n",
              "    .dataframe thead th {\n",
              "        text-align: right;\n",
              "    }\n",
              "</style>\n",
              "<table border=\"1\" class=\"dataframe\">\n",
              "  <thead>\n",
              "    <tr style=\"text-align: right;\">\n",
              "      <th></th>\n",
              "      <th>rating</th>\n",
              "      <th>helpfulVotes</th>\n",
              "    </tr>\n",
              "  </thead>\n",
              "  <tbody>\n",
              "    <tr>\n",
              "      <th>count</th>\n",
              "      <td>67986.0000000</td>\n",
              "      <td>27215.0000000</td>\n",
              "    </tr>\n",
              "    <tr>\n",
              "      <th>mean</th>\n",
              "      <td>3.8079163</td>\n",
              "      <td>8.2296895</td>\n",
              "    </tr>\n",
              "    <tr>\n",
              "      <th>std</th>\n",
              "      <td>1.5829058</td>\n",
              "      <td>31.9548772</td>\n",
              "    </tr>\n",
              "    <tr>\n",
              "      <th>min</th>\n",
              "      <td>1.0000000</td>\n",
              "      <td>1.0000000</td>\n",
              "    </tr>\n",
              "    <tr>\n",
              "      <th>25%</th>\n",
              "      <td>3.0000000</td>\n",
              "      <td>1.0000000</td>\n",
              "    </tr>\n",
              "    <tr>\n",
              "      <th>50%</th>\n",
              "      <td>5.0000000</td>\n",
              "      <td>2.0000000</td>\n",
              "    </tr>\n",
              "    <tr>\n",
              "      <th>75%</th>\n",
              "      <td>5.0000000</td>\n",
              "      <td>5.0000000</td>\n",
              "    </tr>\n",
              "    <tr>\n",
              "      <th>max</th>\n",
              "      <td>5.0000000</td>\n",
              "      <td>990.0000000</td>\n",
              "    </tr>\n",
              "  </tbody>\n",
              "</table>\n",
              "</div>"
            ],
            "text/plain": [
              "             rating  helpfulVotes\n",
              "count 67986.0000000 27215.0000000\n",
              "mean      3.8079163     8.2296895\n",
              "std       1.5829058    31.9548772\n",
              "min       1.0000000     1.0000000\n",
              "25%       3.0000000     1.0000000\n",
              "50%       5.0000000     2.0000000\n",
              "75%       5.0000000     5.0000000\n",
              "max       5.0000000   990.0000000"
            ]
          },
          "metadata": {
            "tags": []
          },
          "execution_count": 12
        }
      ]
    },
    {
      "cell_type": "code",
      "metadata": {
        "id": "WFaDkvIjyDtG",
        "colab": {
          "base_uri": "https://localhost:8080/",
          "height": 173
        },
        "outputId": "1da05e3d-9f7c-4902-9696-bf81c21afd79"
      },
      "source": [
        "review_df.describe(include='O')"
      ],
      "execution_count": null,
      "outputs": [
        {
          "output_type": "execute_result",
          "data": {
            "text/html": [
              "<div>\n",
              "<style scoped>\n",
              "    .dataframe tbody tr th:only-of-type {\n",
              "        vertical-align: middle;\n",
              "    }\n",
              "\n",
              "    .dataframe tbody tr th {\n",
              "        vertical-align: top;\n",
              "    }\n",
              "\n",
              "    .dataframe thead th {\n",
              "        text-align: right;\n",
              "    }\n",
              "</style>\n",
              "<table border=\"1\" class=\"dataframe\">\n",
              "  <thead>\n",
              "    <tr style=\"text-align: right;\">\n",
              "      <th></th>\n",
              "      <th>asin</th>\n",
              "      <th>name</th>\n",
              "      <th>date</th>\n",
              "      <th>title</th>\n",
              "      <th>body</th>\n",
              "    </tr>\n",
              "  </thead>\n",
              "  <tbody>\n",
              "    <tr>\n",
              "      <th>count</th>\n",
              "      <td>67986</td>\n",
              "      <td>67984</td>\n",
              "      <td>67986</td>\n",
              "      <td>67972</td>\n",
              "      <td>67965</td>\n",
              "    </tr>\n",
              "    <tr>\n",
              "      <th>unique</th>\n",
              "      <td>720</td>\n",
              "      <td>47323</td>\n",
              "      <td>2983</td>\n",
              "      <td>41489</td>\n",
              "      <td>59811</td>\n",
              "    </tr>\n",
              "    <tr>\n",
              "      <th>top</th>\n",
              "      <td>B00F2SKPIM</td>\n",
              "      <td>Amazon Customer</td>\n",
              "      <td>December 11, 2019</td>\n",
              "      <td>Five Stars</td>\n",
              "      <td>Good</td>\n",
              "    </tr>\n",
              "    <tr>\n",
              "      <th>freq</th>\n",
              "      <td>981</td>\n",
              "      <td>6507</td>\n",
              "      <td>234</td>\n",
              "      <td>6043</td>\n",
              "      <td>303</td>\n",
              "    </tr>\n",
              "  </tbody>\n",
              "</table>\n",
              "</div>"
            ],
            "text/plain": [
              "              asin             name               date       title   body\n",
              "count        67986            67984              67986       67972  67965\n",
              "unique         720            47323               2983       41489  59811\n",
              "top     B00F2SKPIM  Amazon Customer  December 11, 2019  Five Stars   Good\n",
              "freq           981             6507                234        6043    303"
            ]
          },
          "metadata": {
            "tags": []
          },
          "execution_count": 13
        }
      ]
    },
    {
      "cell_type": "markdown",
      "metadata": {
        "id": "cSdGfadUyEdU"
      },
      "source": [
        "### 4.3 From the above statistical summary, write inferences like count of unique products, top brand, top title, range of rating, price range, etc"
      ]
    },
    {
      "cell_type": "markdown",
      "metadata": {
        "id": "NqeOu9kSt20P"
      },
      "source": [
        "- Top brand is Samsung.\n",
        "- There are no duplicate asin id.\n",
        "- Top title is Apple iphone 6s\n",
        "- Rating ranges from 1 to 5. Mean rating is 3.71\n",
        "- Price ranges from 0 to 999.99 with 235 as mean price value"
      ]
    },
    {
      "cell_type": "markdown",
      "metadata": {
        "id": "XMv_hXyxJKZK"
      },
      "source": [
        "### 4.4 Analyze the distribution of ratings and other categorical features like brand, etc"
      ]
    },
    {
      "cell_type": "code",
      "metadata": {
        "id": "oEhjSsMcyirD",
        "colab": {
          "base_uri": "https://localhost:8080/",
          "height": 386
        },
        "outputId": "95026a9e-67d3-43f7-c655-004631f188d1"
      },
      "source": [
        "sns.displot(data= prod_df,x='rating',kind ='kde')"
      ],
      "execution_count": null,
      "outputs": [
        {
          "output_type": "execute_result",
          "data": {
            "text/plain": [
              "<seaborn.axisgrid.FacetGrid at 0x7fc085305d90>"
            ]
          },
          "metadata": {
            "tags": []
          },
          "execution_count": 14
        },
        {
          "output_type": "display_data",
          "data": {
            "image/png": "[encoded data removed]",
            "text/plain": [
              "<Figure size 360x360 with 1 Axes>"
            ]
          },
          "metadata": {
            "tags": [],
            "needs_background": "light"
          }
        }
      ]
    },
    {
      "cell_type": "code",
      "metadata": {
        "colab": {
          "base_uri": "https://localhost:8080/",
          "height": 319
        },
        "id": "iNhUcb46uilM",
        "outputId": "45ddece6-f75b-466c-bcbc-ad9b8a5f99ec"
      },
      "source": [
        "prod_df['brand'].value_counts().plot(kind='bar')"
      ],
      "execution_count": null,
      "outputs": [
        {
          "output_type": "execute_result",
          "data": {
            "text/plain": [
              "<matplotlib.axes._subplots.AxesSubplot at 0x7fc079d926d0>"
            ]
          },
          "metadata": {
            "tags": []
          },
          "execution_count": 15
        },
        {
          "output_type": "display_data",
          "data": {
            "image/png": "[encoded data removed]",
            "text/plain": [
              "<Figure size 432x288 with 1 Axes>"
            ]
          },
          "metadata": {
            "tags": [],
            "needs_background": "light"
          }
        }
      ]
    },
    {
      "cell_type": "code",
      "metadata": {
        "colab": {
          "base_uri": "https://localhost:8080/",
          "height": 592
        },
        "id": "RBw-RdlgwMWc",
        "outputId": "fb5e9cd2-11de-45a4-8211-a54ed01927f8"
      },
      "source": [
        "prod_df['brand'].value_counts().plot(kind='pie',autopct='%1.1f%%',figsize=(14,10))"
      ],
      "execution_count": null,
      "outputs": [
        {
          "output_type": "execute_result",
          "data": {
            "text/plain": [
              "<matplotlib.axes._subplots.AxesSubplot at 0x7fc079cb4550>"
            ]
          },
          "metadata": {
            "tags": []
          },
          "execution_count": 16
        },
        {
          "output_type": "display_data",
          "data": {
            "image/png": "[encoded data removed]",
            "text/plain": [
              "<Figure size 1008x720 with 1 Axes>"
            ]
          },
          "metadata": {
            "tags": []
          }
        }
      ]
    },
    {
      "cell_type": "markdown",
      "metadata": {
        "id": "jwZBGODgyi1a"
      },
      "source": [
        "### 4.5 Display average rating per brand"
      ]
    },
    {
      "cell_type": "code",
      "metadata": {
        "id": "OSBBiAv8yscd",
        "colab": {
          "base_uri": "https://localhost:8080/",
          "height": 282
        },
        "outputId": "53fc6bd2-07a6-4b94-8c89-b56d3255f198"
      },
      "source": [
        "prod_df.groupby(by='brand')['rating'].mean().sort_values().plot(kind='barh')"
      ],
      "execution_count": null,
      "outputs": [
        {
          "output_type": "execute_result",
          "data": {
            "text/plain": [
              "<matplotlib.axes._subplots.AxesSubplot at 0x7fc079d2a850>"
            ]
          },
          "metadata": {
            "tags": []
          },
          "execution_count": 17
        },
        {
          "output_type": "display_data",
          "data": {
            "image/png": "[encoded data removed]",
            "text/plain": [
              "<Figure size 432x288 with 1 Axes>"
            ]
          },
          "metadata": {
            "tags": [],
            "needs_background": "light"
          }
        }
      ]
    },
    {
      "cell_type": "markdown",
      "metadata": {
        "id": "vUXuEwlgyvB0"
      },
      "source": [
        "### 4.6 Display average price per brand"
      ]
    },
    {
      "cell_type": "code",
      "metadata": {
        "id": "ACgIwVlyy3Pu",
        "colab": {
          "base_uri": "https://localhost:8080/",
          "height": 282
        },
        "outputId": "c3c5ac46-067e-4cdf-ba72-6e7ba4be3bec"
      },
      "source": [
        "prod_df.groupby(by='brand')['price'].mean().sort_values().plot(kind='barh')"
      ],
      "execution_count": null,
      "outputs": [
        {
          "output_type": "execute_result",
          "data": {
            "text/plain": [
              "<matplotlib.axes._subplots.AxesSubplot at 0x7fc079bc9f90>"
            ]
          },
          "metadata": {
            "tags": []
          },
          "execution_count": 18
        },
        {
          "output_type": "display_data",
          "data": {
            "image/png": "[encoded data removed]",
            "text/plain": [
              "<Figure size 432x288 with 1 Axes>"
            ]
          },
          "metadata": {
            "tags": [],
            "needs_background": "light"
          }
        }
      ]
    },
    {
      "cell_type": "markdown",
      "metadata": {
        "id": "U0JfwL74y3a-"
      },
      "source": [
        "### 4.7 Display average 'totalReviews' per brand"
      ]
    },
    {
      "cell_type": "code",
      "metadata": {
        "id": "wfzciNxqzBYu",
        "colab": {
          "base_uri": "https://localhost:8080/",
          "height": 282
        },
        "outputId": "9c21f100-2f41-4016-8cff-5560a1468eac"
      },
      "source": [
        "prod_df.groupby(by='brand')['totalReviews'].mean().sort_values().plot(kind='barh')"
      ],
      "execution_count": null,
      "outputs": [
        {
          "output_type": "execute_result",
          "data": {
            "text/plain": [
              "<matplotlib.axes._subplots.AxesSubplot at 0x7fc079b55ed0>"
            ]
          },
          "metadata": {
            "tags": []
          },
          "execution_count": 19
        },
        {
          "output_type": "display_data",
          "data": {
            "image/png": "[encoded data removed]",
            "text/plain": [
              "<Figure size 432x288 with 1 Axes>"
            ]
          },
          "metadata": {
            "tags": [],
            "needs_background": "light"
          }
        }
      ]
    },
    {
      "cell_type": "code",
      "metadata": {
        "colab": {
          "base_uri": "https://localhost:8080/"
        },
        "id": "OjoZjqHnx5gy",
        "outputId": "1c33ee3d-93e9-48dc-a1fc-6cbad01b8a7f"
      },
      "source": [
        "print('Product Dataset Shape: \\n',prod_df.shape)\n",
        "print('\\nReviews Dataset Shape: \\n',review_df.shape)"
      ],
      "execution_count": null,
      "outputs": [
        {
          "output_type": "stream",
          "text": [
            "Product Dataset Shape: \n",
            " (720, 7)\n",
            "\n",
            "Reviews Dataset Shape: \n",
            " (67986, 8)\n"
          ],
          "name": "stdout"
        }
      ]
    },
    {
      "cell_type": "markdown",
      "metadata": {
        "id": "x_fxI7OAeDUM"
      },
      "source": [
        "### 4.8 Merge two datasets using 'asin' and check the shape of the final dataset"
      ]
    },
    {
      "cell_type": "code",
      "metadata": {
        "id": "svpHfWI9zNAP",
        "colab": {
          "base_uri": "https://localhost:8080/"
        },
        "outputId": "8eeebb10-f8f2-42f9-f001-58e6fa8632ed"
      },
      "source": [
        "new_df = pd.merge(review_df ,prod_df ,how='left' ,on='asin')\n",
        "print('\\nNew Merge Dataset Shape: \\n',new_df.shape)"
      ],
      "execution_count": null,
      "outputs": [
        {
          "output_type": "stream",
          "text": [
            "\n",
            "New Merge Dataset Shape: \n",
            " (67986, 14)\n"
          ],
          "name": "stdout"
        }
      ]
    },
    {
      "cell_type": "code",
      "metadata": {
        "colab": {
          "base_uri": "https://localhost:8080/",
          "height": 264
        },
        "id": "0oqpuepN2JAa",
        "outputId": "af2e3abe-f0be-454f-81b3-e07876b34a00"
      },
      "source": [
        "new_df.sample(2)"
      ],
      "execution_count": null,
      "outputs": [
        {
          "output_type": "execute_result",
          "data": {
            "text/html": [
              "<div>\n",
              "<style scoped>\n",
              "    .dataframe tbody tr th:only-of-type {\n",
              "        vertical-align: middle;\n",
              "    }\n",
              "\n",
              "    .dataframe tbody tr th {\n",
              "        vertical-align: top;\n",
              "    }\n",
              "\n",
              "    .dataframe thead th {\n",
              "        text-align: right;\n",
              "    }\n",
              "</style>\n",
              "<table border=\"1\" class=\"dataframe\">\n",
              "  <thead>\n",
              "    <tr style=\"text-align: right;\">\n",
              "      <th></th>\n",
              "      <th>asin</th>\n",
              "      <th>name</th>\n",
              "      <th>rating_x</th>\n",
              "      <th>date</th>\n",
              "      <th>verified</th>\n",
              "      <th>title_x</th>\n",
              "      <th>body</th>\n",
              "      <th>helpfulVotes</th>\n",
              "      <th>brand</th>\n",
              "      <th>title_y</th>\n",
              "      <th>rating_y</th>\n",
              "      <th>totalReviews</th>\n",
              "      <th>price</th>\n",
              "      <th>originalPrice</th>\n",
              "    </tr>\n",
              "  </thead>\n",
              "  <tbody>\n",
              "    <tr>\n",
              "      <th>332</th>\n",
              "      <td>B002UHS0UI</td>\n",
              "      <td>David</td>\n",
              "      <td>5</td>\n",
              "      <td>August 10, 2014</td>\n",
              "      <td>False</td>\n",
              "      <td>Most durable long last phone ever</td>\n",
              "      <td>I bought this phone for my great aunt because ...</td>\n",
              "      <td>1.0000000</td>\n",
              "      <td>Motorola</td>\n",
              "      <td>Verizon Wireless Motorola RAZR V3m - Silver</td>\n",
              "      <td>2.7000000</td>\n",
              "      <td>208</td>\n",
              "      <td>0.0000000</td>\n",
              "      <td>0.0000000</td>\n",
              "    </tr>\n",
              "    <tr>\n",
              "      <th>31773</th>\n",
              "      <td>B06XRJQX91</td>\n",
              "      <td>Greg J.</td>\n",
              "      <td>3</td>\n",
              "      <td>June 24, 2019</td>\n",
              "      <td>True</td>\n",
              "      <td>Good condition</td>\n",
              "      <td>Worked well for several weeks but the touch sc...</td>\n",
              "      <td>nan</td>\n",
              "      <td>Apple</td>\n",
              "      <td>Apple iPhone 6S, 64GB, Rose Gold - For AT&amp;T / ...</td>\n",
              "      <td>3.6000000</td>\n",
              "      <td>427</td>\n",
              "      <td>158.8800000</td>\n",
              "      <td>271.8400000</td>\n",
              "    </tr>\n",
              "  </tbody>\n",
              "</table>\n",
              "</div>"
            ],
            "text/plain": [
              "             asin     name  rating_x             date  verified  \\\n",
              "332    B002UHS0UI    David         5  August 10, 2014     False   \n",
              "31773  B06XRJQX91  Greg J.         3    June 24, 2019      True   \n",
              "\n",
              "                                 title_x  \\\n",
              "332    Most durable long last phone ever   \n",
              "31773                     Good condition   \n",
              "\n",
              "                                                    body  helpfulVotes  \\\n",
              "332    I bought this phone for my great aunt because ...     1.0000000   \n",
              "31773  Worked well for several weeks but the touch sc...           nan   \n",
              "\n",
              "          brand                                            title_y  rating_y  \\\n",
              "332    Motorola        Verizon Wireless Motorola RAZR V3m - Silver 2.7000000   \n",
              "31773     Apple  Apple iPhone 6S, 64GB, Rose Gold - For AT&T / ... 3.6000000   \n",
              "\n",
              "       totalReviews       price  originalPrice  \n",
              "332             208   0.0000000      0.0000000  \n",
              "31773           427 158.8800000    271.8400000  "
            ]
          },
          "metadata": {
            "tags": []
          },
          "execution_count": 22
        }
      ]
    },
    {
      "cell_type": "markdown",
      "metadata": {
        "id": "zdTfwlL7fYpq"
      },
      "source": [
        "### 4.9 Rename important features with appropriate names.\n",
        "Imortant features - \"rating_x\": \"user_rating\", \"title_x\": \"review_title\", \"title_y\": \"item_title\", \"rating_y\": \"overall_rating\""
      ]
    },
    {
      "cell_type": "code",
      "metadata": {
        "id": "KI-6FCkZztXM",
        "colab": {
          "base_uri": "https://localhost:8080/",
          "height": 284
        },
        "outputId": "c0520491-b378-42a1-d169-5591fac59e88"
      },
      "source": [
        "new_df.rename(columns={\"rating_x\": \"user_rating\", \"title_x\": \"review_title\",\"title_y\": \"item_title\",\"rating_y\":\"overall_rating\"},inplace=True)\n",
        "new_df.sample(2)"
      ],
      "execution_count": null,
      "outputs": [
        {
          "output_type": "execute_result",
          "data": {
            "text/html": [
              "<div>\n",
              "<style scoped>\n",
              "    .dataframe tbody tr th:only-of-type {\n",
              "        vertical-align: middle;\n",
              "    }\n",
              "\n",
              "    .dataframe tbody tr th {\n",
              "        vertical-align: top;\n",
              "    }\n",
              "\n",
              "    .dataframe thead th {\n",
              "        text-align: right;\n",
              "    }\n",
              "</style>\n",
              "<table border=\"1\" class=\"dataframe\">\n",
              "  <thead>\n",
              "    <tr style=\"text-align: right;\">\n",
              "      <th></th>\n",
              "      <th>asin</th>\n",
              "      <th>name</th>\n",
              "      <th>user_rating</th>\n",
              "      <th>date</th>\n",
              "      <th>verified</th>\n",
              "      <th>review_title</th>\n",
              "      <th>body</th>\n",
              "      <th>helpfulVotes</th>\n",
              "      <th>brand</th>\n",
              "      <th>item_title</th>\n",
              "      <th>overall_rating</th>\n",
              "      <th>totalReviews</th>\n",
              "      <th>price</th>\n",
              "      <th>originalPrice</th>\n",
              "    </tr>\n",
              "  </thead>\n",
              "  <tbody>\n",
              "    <tr>\n",
              "      <th>28478</th>\n",
              "      <td>B01N4E0RF1</td>\n",
              "      <td>AmyK1967</td>\n",
              "      <td>5</td>\n",
              "      <td>December 16, 2019</td>\n",
              "      <td>True</td>\n",
              "      <td>Great phone</td>\n",
              "      <td>Love this phone...will never buy phones anywhe...</td>\n",
              "      <td>nan</td>\n",
              "      <td>Samsung</td>\n",
              "      <td>Samsung Galaxy S7 - Black - 32GB - Verizon (Re...</td>\n",
              "      <td>3.8000000</td>\n",
              "      <td>600</td>\n",
              "      <td>148.9600000</td>\n",
              "      <td>0.0000000</td>\n",
              "    </tr>\n",
              "    <tr>\n",
              "      <th>38353</th>\n",
              "      <td>B0751KLN39</td>\n",
              "      <td>Dhanpaul Oodith</td>\n",
              "      <td>5</td>\n",
              "      <td>October 2, 2019</td>\n",
              "      <td>False</td>\n",
              "      <td>Works perfectly! 👌</td>\n",
              "      <td>Quick delivery and the phone works perfectly!</td>\n",
              "      <td>nan</td>\n",
              "      <td>Motorola</td>\n",
              "      <td>Motorola Moto Z2 Play XT1710-06 - 64GB Single ...</td>\n",
              "      <td>3.9000000</td>\n",
              "      <td>11</td>\n",
              "      <td>195.0000000</td>\n",
              "      <td>0.0000000</td>\n",
              "    </tr>\n",
              "  </tbody>\n",
              "</table>\n",
              "</div>"
            ],
            "text/plain": [
              "             asin             name  user_rating               date  verified  \\\n",
              "28478  B01N4E0RF1         AmyK1967            5  December 16, 2019      True   \n",
              "38353  B0751KLN39  Dhanpaul Oodith            5    October 2, 2019     False   \n",
              "\n",
              "             review_title                                               body  \\\n",
              "28478         Great phone  Love this phone...will never buy phones anywhe...   \n",
              "38353  Works perfectly! 👌      Quick delivery and the phone works perfectly!   \n",
              "\n",
              "       helpfulVotes     brand  \\\n",
              "28478           nan   Samsung   \n",
              "38353           nan  Motorola   \n",
              "\n",
              "                                              item_title  overall_rating  \\\n",
              "28478  Samsung Galaxy S7 - Black - 32GB - Verizon (Re...       3.8000000   \n",
              "38353  Motorola Moto Z2 Play XT1710-06 - 64GB Single ...       3.9000000   \n",
              "\n",
              "       totalReviews       price  originalPrice  \n",
              "28478           600 148.9600000      0.0000000  \n",
              "38353            11 195.0000000      0.0000000  "
            ]
          },
          "metadata": {
            "tags": []
          },
          "execution_count": 23
        }
      ]
    },
    {
      "cell_type": "markdown",
      "metadata": {
        "id": "hNHEElHszthc"
      },
      "source": [
        "### 4.10 Select rows having verified reviews and check the shape of the final dataset"
      ]
    },
    {
      "cell_type": "code",
      "metadata": {
        "colab": {
          "base_uri": "https://localhost:8080/"
        },
        "id": "SW6KuLKw2s0h",
        "outputId": "72b7c070-df5b-40b3-b19f-fac85340ac6c"
      },
      "source": [
        "new_df['verified'].value_counts()"
      ],
      "execution_count": null,
      "outputs": [
        {
          "output_type": "execute_result",
          "data": {
            "text/plain": [
              "True     61225\n",
              "False     6761\n",
              "Name: verified, dtype: int64"
            ]
          },
          "metadata": {
            "tags": []
          },
          "execution_count": 24
        }
      ]
    },
    {
      "cell_type": "code",
      "metadata": {
        "id": "Jyav9_Zoz-rT",
        "colab": {
          "base_uri": "https://localhost:8080/"
        },
        "outputId": "934034a4-b9b1-4d61-b893-608551b47e8d"
      },
      "source": [
        "df = new_df[new_df.verified == True]\n",
        "df.shape"
      ],
      "execution_count": null,
      "outputs": [
        {
          "output_type": "execute_result",
          "data": {
            "text/plain": [
              "(61225, 14)"
            ]
          },
          "metadata": {
            "tags": []
          },
          "execution_count": 25
        }
      ]
    },
    {
      "cell_type": "markdown",
      "metadata": {
        "id": "EpKusPjdz-2q"
      },
      "source": [
        "### 4.11 Check the number of reviews for various brands and report the brand that have highest number of reviews"
      ]
    },
    {
      "cell_type": "code",
      "metadata": {
        "id": "5tux6vwr0JDb",
        "colab": {
          "base_uri": "https://localhost:8080/",
          "height": 282
        },
        "outputId": "64ee8e06-5a33-4630-dfc1-2f5ec1800bca"
      },
      "source": [
        "df.groupby(by='brand')['totalReviews'].count().sort_values().plot(kind='barh')"
      ],
      "execution_count": null,
      "outputs": [
        {
          "output_type": "execute_result",
          "data": {
            "text/plain": [
              "<matplotlib.axes._subplots.AxesSubplot at 0x7fc079ac6610>"
            ]
          },
          "metadata": {
            "tags": []
          },
          "execution_count": 26
        },
        {
          "output_type": "display_data",
          "data": {
            "image/png": "[encoded data removed]",
            "text/plain": [
              "<Figure size 432x288 with 1 Axes>"
            ]
          },
          "metadata": {
            "tags": [],
            "needs_background": "light"
          }
        }
      ]
    },
    {
      "cell_type": "markdown",
      "metadata": {
        "id": "5orPocVY1N0Q"
      },
      "source": [
        "#### Samsung have highest reviews."
      ]
    },
    {
      "cell_type": "markdown",
      "metadata": {
        "id": "gPGjMFE-0Q5k"
      },
      "source": [
        "### 4.12 Drop irrelevant columns and keep important features like 'brand','body','price','user_rating','review_title' for further analysis"
      ]
    },
    {
      "cell_type": "code",
      "metadata": {
        "id": "J_IvLN6e0e6z",
        "colab": {
          "base_uri": "https://localhost:8080/",
          "height": 142
        },
        "outputId": "135a9b9a-ccdc-4a81-f6c9-d92eb7ee4ec7"
      },
      "source": [
        "final_df = df[['brand','body','price','user_rating','review_title']]\n",
        "final_df.sample(3)"
      ],
      "execution_count": null,
      "outputs": [
        {
          "output_type": "execute_result",
          "data": {
            "text/html": [
              "<div>\n",
              "<style scoped>\n",
              "    .dataframe tbody tr th:only-of-type {\n",
              "        vertical-align: middle;\n",
              "    }\n",
              "\n",
              "    .dataframe tbody tr th {\n",
              "        vertical-align: top;\n",
              "    }\n",
              "\n",
              "    .dataframe thead th {\n",
              "        text-align: right;\n",
              "    }\n",
              "</style>\n",
              "<table border=\"1\" class=\"dataframe\">\n",
              "  <thead>\n",
              "    <tr style=\"text-align: right;\">\n",
              "      <th></th>\n",
              "      <th>brand</th>\n",
              "      <th>body</th>\n",
              "      <th>price</th>\n",
              "      <th>user_rating</th>\n",
              "      <th>review_title</th>\n",
              "    </tr>\n",
              "  </thead>\n",
              "  <tbody>\n",
              "    <tr>\n",
              "      <th>350</th>\n",
              "      <td>Motorola</td>\n",
              "      <td>I like these phones. They are ruggedly built, ...</td>\n",
              "      <td>139.9900000</td>\n",
              "      <td>2</td>\n",
              "      <td>Buyer beware !!!</td>\n",
              "    </tr>\n",
              "    <tr>\n",
              "      <th>37836</th>\n",
              "      <td>Apple</td>\n",
              "      <td>Do not buy this iphone. IT IS ONLY GSM COMPATI...</td>\n",
              "      <td>199.9500000</td>\n",
              "      <td>1</td>\n",
              "      <td>DO NOT BUY THIS PHONE</td>\n",
              "    </tr>\n",
              "    <tr>\n",
              "      <th>65118</th>\n",
              "      <td>Samsung</td>\n",
              "      <td>Good phone</td>\n",
              "      <td>274.9900000</td>\n",
              "      <td>5</td>\n",
              "      <td>Nice phone at a reasonable price</td>\n",
              "    </tr>\n",
              "  </tbody>\n",
              "</table>\n",
              "</div>"
            ],
            "text/plain": [
              "          brand                                               body  \\\n",
              "350    Motorola  I like these phones. They are ruggedly built, ...   \n",
              "37836     Apple  Do not buy this iphone. IT IS ONLY GSM COMPATI...   \n",
              "65118   Samsung                                         Good phone   \n",
              "\n",
              "            price  user_rating                      review_title  \n",
              "350   139.9900000            2                  Buyer beware !!!  \n",
              "37836 199.9500000            1             DO NOT BUY THIS PHONE  \n",
              "65118 274.9900000            5  Nice phone at a reasonable price  "
            ]
          },
          "metadata": {
            "tags": []
          },
          "execution_count": 27
        }
      ]
    },
    {
      "cell_type": "markdown",
      "metadata": {
        "id": "Gzo_rVT60fDf"
      },
      "source": [
        "### 4.13 Perform univariate analysis. Check distribution of price, user_rating"
      ]
    },
    {
      "cell_type": "code",
      "metadata": {
        "colab": {
          "base_uri": "https://localhost:8080/",
          "height": 297
        },
        "id": "ARbEYOl77w3L",
        "outputId": "f1c609f1-3837-4c70-cc2a-9a261d1a8471"
      },
      "source": [
        "sns.countplot(final_df['user_rating'])"
      ],
      "execution_count": null,
      "outputs": [
        {
          "output_type": "execute_result",
          "data": {
            "text/plain": [
              "<matplotlib.axes._subplots.AxesSubplot at 0x7fc07913db90>"
            ]
          },
          "metadata": {
            "tags": []
          },
          "execution_count": 28
        },
        {
          "output_type": "display_data",
          "data": {
            "image/png": "[encoded data removed]",
            "text/plain": [
              "<Figure size 432x288 with 1 Axes>"
            ]
          },
          "metadata": {
            "tags": [],
            "needs_background": "light"
          }
        }
      ]
    },
    {
      "cell_type": "code",
      "metadata": {
        "colab": {
          "base_uri": "https://localhost:8080/",
          "height": 386
        },
        "id": "qidtlS147GqT",
        "outputId": "897e3260-3ff6-49ff-d528-85487f661ad4"
      },
      "source": [
        "sns.displot(data= final_df,x='price',kind ='kde')"
      ],
      "execution_count": null,
      "outputs": [
        {
          "output_type": "execute_result",
          "data": {
            "text/plain": [
              "<seaborn.axisgrid.FacetGrid at 0x7fc078e863d0>"
            ]
          },
          "metadata": {
            "tags": []
          },
          "execution_count": 29
        },
        {
          "output_type": "display_data",
          "data": {
            "image/png": "[encoded data removed]",
            "text/plain": [
              "<Figure size 360x360 with 1 Axes>"
            ]
          },
          "metadata": {
            "tags": [],
            "needs_background": "light"
          }
        }
      ]
    },
    {
      "cell_type": "markdown",
      "metadata": {
        "id": "x0Y_kE9T0uAf"
      },
      "source": [
        "### 4.14 Create a new column called \"sentiment\". It should have value as 1 (positive) if the user_Rating is greater than 3, value as 0 (negative) if the user_Rating <= 3"
      ]
    },
    {
      "cell_type": "code",
      "metadata": {
        "id": "jGon-2xU1Ujb"
      },
      "source": [
        "final_df['sentiment'] = final_df['user_rating'].apply(lambda x:1 if x>3 else 0)"
      ],
      "execution_count": null,
      "outputs": []
    },
    {
      "cell_type": "markdown",
      "metadata": {
        "id": "K4rxSZWp1VAb"
      },
      "source": [
        "### 4.15 Check frequency distribution of the 'sentiment'"
      ]
    },
    {
      "cell_type": "code",
      "metadata": {
        "id": "yt3gH7Iz1dVP",
        "colab": {
          "base_uri": "https://localhost:8080/",
          "height": 330
        },
        "outputId": "bcaae381-9ee9-4d12-b7d1-6dfee7d07a8e"
      },
      "source": [
        "print(final_df['sentiment'].value_counts())\n",
        "final_df['sentiment'].value_counts().plot(kind='bar')"
      ],
      "execution_count": null,
      "outputs": [
        {
          "output_type": "stream",
          "text": [
            "1    42939\n",
            "0    18286\n",
            "Name: sentiment, dtype: int64\n"
          ],
          "name": "stdout"
        },
        {
          "output_type": "execute_result",
          "data": {
            "text/plain": [
              "<matplotlib.axes._subplots.AxesSubplot at 0x7fc0792f8490>"
            ]
          },
          "metadata": {
            "tags": []
          },
          "execution_count": 31
        },
        {
          "output_type": "display_data",
          "data": {
            "image/png": "[encoded data removed]",
            "text/plain": [
              "<Figure size 432x288 with 1 Axes>"
            ]
          },
          "metadata": {
            "tags": [],
            "needs_background": "light"
          }
        }
      ]
    },
    {
      "cell_type": "markdown",
      "metadata": {
        "id": "rK0KMghP1ddb"
      },
      "source": [
        "### 4.16 Perform bivariate analysis. Check correlation/crosstab between features and write your inferences."
      ]
    },
    {
      "cell_type": "code",
      "metadata": {
        "colab": {
          "base_uri": "https://localhost:8080/",
          "height": 297
        },
        "id": "pf1KhmoZHUnA",
        "outputId": "ff8f6300-ad99-4e01-dbf3-b7ab0c27163b"
      },
      "source": [
        "sns.boxplot(x=final_df['user_rating'],y=final_df['price'])"
      ],
      "execution_count": null,
      "outputs": [
        {
          "output_type": "execute_result",
          "data": {
            "text/plain": [
              "<matplotlib.axes._subplots.AxesSubplot at 0x7fc07903f590>"
            ]
          },
          "metadata": {
            "tags": []
          },
          "execution_count": 32
        },
        {
          "output_type": "display_data",
          "data": {
            "image/png": "[encoded data removed]",
            "text/plain": [
              "<Figure size 432x288 with 1 Axes>"
            ]
          },
          "metadata": {
            "tags": [],
            "needs_background": "light"
          }
        }
      ]
    },
    {
      "cell_type": "code",
      "metadata": {
        "id": "scAV4fRg1nX0",
        "colab": {
          "base_uri": "https://localhost:8080/",
          "height": 296
        },
        "outputId": "f00da311-def9-45d1-ecae-233ccd7f8fa6"
      },
      "source": [
        "sns.boxplot(x=final_df['sentiment'],y=final_df['price'])"
      ],
      "execution_count": null,
      "outputs": [
        {
          "output_type": "execute_result",
          "data": {
            "text/plain": [
              "<matplotlib.axes._subplots.AxesSubplot at 0x7fc078ff5190>"
            ]
          },
          "metadata": {
            "tags": []
          },
          "execution_count": 33
        },
        {
          "output_type": "display_data",
          "data": {
            "image/png": "[encoded data removed]",
            "text/plain": [
              "<Figure size 432x288 with 1 Axes>"
            ]
          },
          "metadata": {
            "tags": [],
            "needs_background": "light"
          }
        }
      ]
    },
    {
      "cell_type": "code",
      "metadata": {
        "colab": {
          "base_uri": "https://localhost:8080/",
          "height": 390
        },
        "id": "6hB9B5XxDofk",
        "outputId": "5c580aab-eb3a-4ff3-c2de-4dc7dad959ba"
      },
      "source": [
        "pd.crosstab(final_df['brand'],final_df['sentiment']).apply(lambda y : y/y.sum(),axis=1)"
      ],
      "execution_count": null,
      "outputs": [
        {
          "output_type": "execute_result",
          "data": {
            "text/html": [
              "<div>\n",
              "<style scoped>\n",
              "    .dataframe tbody tr th:only-of-type {\n",
              "        vertical-align: middle;\n",
              "    }\n",
              "\n",
              "    .dataframe tbody tr th {\n",
              "        vertical-align: top;\n",
              "    }\n",
              "\n",
              "    .dataframe thead th {\n",
              "        text-align: right;\n",
              "    }\n",
              "</style>\n",
              "<table border=\"1\" class=\"dataframe\">\n",
              "  <thead>\n",
              "    <tr style=\"text-align: right;\">\n",
              "      <th>sentiment</th>\n",
              "      <th>0</th>\n",
              "      <th>1</th>\n",
              "    </tr>\n",
              "    <tr>\n",
              "      <th>brand</th>\n",
              "      <th></th>\n",
              "      <th></th>\n",
              "    </tr>\n",
              "  </thead>\n",
              "  <tbody>\n",
              "    <tr>\n",
              "      <th>ASUS</th>\n",
              "      <td>0.3349515</td>\n",
              "      <td>0.6650485</td>\n",
              "    </tr>\n",
              "    <tr>\n",
              "      <th>Apple</th>\n",
              "      <td>0.3336751</td>\n",
              "      <td>0.6663249</td>\n",
              "    </tr>\n",
              "    <tr>\n",
              "      <th>Google</th>\n",
              "      <td>0.3196333</td>\n",
              "      <td>0.6803667</td>\n",
              "    </tr>\n",
              "    <tr>\n",
              "      <th>HUAWEI</th>\n",
              "      <td>0.1812779</td>\n",
              "      <td>0.8187221</td>\n",
              "    </tr>\n",
              "    <tr>\n",
              "      <th>Motorola</th>\n",
              "      <td>0.2877884</td>\n",
              "      <td>0.7122116</td>\n",
              "    </tr>\n",
              "    <tr>\n",
              "      <th>Nokia</th>\n",
              "      <td>0.3903239</td>\n",
              "      <td>0.6096761</td>\n",
              "    </tr>\n",
              "    <tr>\n",
              "      <th>OnePlus</th>\n",
              "      <td>0.1480263</td>\n",
              "      <td>0.8519737</td>\n",
              "    </tr>\n",
              "    <tr>\n",
              "      <th>Samsung</th>\n",
              "      <td>0.3062218</td>\n",
              "      <td>0.6937782</td>\n",
              "    </tr>\n",
              "    <tr>\n",
              "      <th>Sony</th>\n",
              "      <td>0.3266444</td>\n",
              "      <td>0.6733556</td>\n",
              "    </tr>\n",
              "    <tr>\n",
              "      <th>Xiaomi</th>\n",
              "      <td>0.1492750</td>\n",
              "      <td>0.8507250</td>\n",
              "    </tr>\n",
              "  </tbody>\n",
              "</table>\n",
              "</div>"
            ],
            "text/plain": [
              "sentiment         0         1\n",
              "brand                        \n",
              "ASUS      0.3349515 0.6650485\n",
              "Apple     0.3336751 0.6663249\n",
              "Google    0.3196333 0.6803667\n",
              "HUAWEI    0.1812779 0.8187221\n",
              "Motorola  0.2877884 0.7122116\n",
              "Nokia     0.3903239 0.6096761\n",
              "OnePlus   0.1480263 0.8519737\n",
              "Samsung   0.3062218 0.6937782\n",
              "Sony      0.3266444 0.6733556\n",
              "Xiaomi    0.1492750 0.8507250"
            ]
          },
          "metadata": {
            "tags": []
          },
          "execution_count": 34
        }
      ]
    },
    {
      "cell_type": "markdown",
      "metadata": {
        "id": "X_fnjmvk1ZP1"
      },
      "source": [
        "- For both sentiments, price range does not vary too much.\n",
        "- All the brands have majority data for sentiment = 1 (i.e 4-5 rating).\n",
        "- For ASUS, Apple, Google : data for sentiment = 0 is 1/3 and for sentiment = 1 is 2/3."
      ]
    },
    {
      "cell_type": "markdown",
      "metadata": {
        "id": "2Nzj7ZXVLakx"
      },
      "source": [
        "## 5. Text Preprocessing and Vectorization"
      ]
    },
    {
      "cell_type": "markdown",
      "metadata": {
        "id": "ZbC_RPndnlf3"
      },
      "source": [
        "We will analyze the 'body' and 'review_title' to gain more understanding.\n",
        "\n",
        "We will peform the below tasks\n",
        "\n",
        "- Convert the text into lowercase\n",
        "- Remove punctuation\n",
        "- Remove stopwords (English, from nltk corpus)\n",
        "- Remove other keywords like \"phone\" and brand name"
      ]
    },
    {
      "cell_type": "code",
      "metadata": {
        "id": "1DbTf2yc2VOQ",
        "colab": {
          "base_uri": "https://localhost:8080/"
        },
        "outputId": "9cdc7e04-e6bc-488d-d37b-92e102073c6b"
      },
      "source": [
        "final_df.info()"
      ],
      "execution_count": null,
      "outputs": [
        {
          "output_type": "stream",
          "text": [
            "<class 'pandas.core.frame.DataFrame'>\n",
            "Int64Index: 61225 entries, 14 to 67984\n",
            "Data columns (total 6 columns):\n",
            " #   Column        Non-Null Count  Dtype  \n",
            "---  ------        --------------  -----  \n",
            " 0   brand         61078 non-null  object \n",
            " 1   body          61207 non-null  object \n",
            " 2   price         61225 non-null  float64\n",
            " 3   user_rating   61225 non-null  int64  \n",
            " 4   review_title  61211 non-null  object \n",
            " 5   sentiment     61225 non-null  int64  \n",
            "dtypes: float64(1), int64(2), object(3)\n",
            "memory usage: 5.8+ MB\n"
          ],
          "name": "stdout"
        }
      ]
    },
    {
      "cell_type": "markdown",
      "metadata": {
        "id": "XnhMQsxz2DJH"
      },
      "source": [
        "### 5.1 Change the datatype of the 'body' column to 'str' and convert it into lowercase. Print any two samples and check the output."
      ]
    },
    {
      "cell_type": "code",
      "metadata": {
        "colab": {
          "base_uri": "https://localhost:8080/",
          "height": 204
        },
        "id": "whgyI1C3GuWu",
        "outputId": "1f96e6ef-42f3-403a-d05a-0bb31f2575f9"
      },
      "source": [
        "final_df['keyword'] = final_df['body'].str.lower()\n",
        "final_df['keyword'] = final_df['keyword'].astype('str')\n",
        "final_df[['keyword','body']].sample(5)"
      ],
      "execution_count": null,
      "outputs": [
        {
          "output_type": "execute_result",
          "data": {
            "text/html": [
              "<div>\n",
              "<style scoped>\n",
              "    .dataframe tbody tr th:only-of-type {\n",
              "        vertical-align: middle;\n",
              "    }\n",
              "\n",
              "    .dataframe tbody tr th {\n",
              "        vertical-align: top;\n",
              "    }\n",
              "\n",
              "    .dataframe thead th {\n",
              "        text-align: right;\n",
              "    }\n",
              "</style>\n",
              "<table border=\"1\" class=\"dataframe\">\n",
              "  <thead>\n",
              "    <tr style=\"text-align: right;\">\n",
              "      <th></th>\n",
              "      <th>keyword</th>\n",
              "      <th>body</th>\n",
              "    </tr>\n",
              "  </thead>\n",
              "  <tbody>\n",
              "    <tr>\n",
              "      <th>62189</th>\n",
              "      <td>don't know this was the international version....</td>\n",
              "      <td>Don't know this was the international version....</td>\n",
              "    </tr>\n",
              "    <tr>\n",
              "      <th>29419</th>\n",
              "      <td>great deal!! great phone,</td>\n",
              "      <td>Great deal!! Great phone,</td>\n",
              "    </tr>\n",
              "    <tr>\n",
              "      <th>24085</th>\n",
              "      <td>okay first let me say for the price this is a ...</td>\n",
              "      <td>Okay first let me say for the price this is a ...</td>\n",
              "    </tr>\n",
              "    <tr>\n",
              "      <th>35937</th>\n",
              "      <td>i ordered this phone from july 2018 and still ...</td>\n",
              "      <td>I ordered this phone from July 2018 and still ...</td>\n",
              "    </tr>\n",
              "    <tr>\n",
              "      <th>4793</th>\n",
              "      <td>i bought this phone for my son (who decided to...</td>\n",
              "      <td>i bought this phone for my son (who decided to...</td>\n",
              "    </tr>\n",
              "  </tbody>\n",
              "</table>\n",
              "</div>"
            ],
            "text/plain": [
              "                                                 keyword  \\\n",
              "62189  don't know this was the international version....   \n",
              "29419                          great deal!! great phone,   \n",
              "24085  okay first let me say for the price this is a ...   \n",
              "35937  i ordered this phone from july 2018 and still ...   \n",
              "4793   i bought this phone for my son (who decided to...   \n",
              "\n",
              "                                                    body  \n",
              "62189  Don't know this was the international version....  \n",
              "29419                          Great deal!! Great phone,  \n",
              "24085  Okay first let me say for the price this is a ...  \n",
              "35937  I ordered this phone from July 2018 and still ...  \n",
              "4793   i bought this phone for my son (who decided to...  "
            ]
          },
          "metadata": {
            "tags": []
          },
          "execution_count": 36
        }
      ]
    },
    {
      "cell_type": "markdown",
      "metadata": {
        "id": "lsppV0X52VXf"
      },
      "source": [
        "### 5.2 Remove punctuations from the lowercased 'body' column and display at least two samples."
      ]
    },
    {
      "cell_type": "code",
      "metadata": {
        "id": "lQXKc8et2onG",
        "colab": {
          "base_uri": "https://localhost:8080/",
          "height": 204
        },
        "outputId": "15738692-b2aa-4d75-807e-8bf3b698c509"
      },
      "source": [
        "final_df['keyword'] = final_df['keyword'].str.replace('[^\\w\\s]','')\n",
        "final_df[['keyword','body']].sample(5)"
      ],
      "execution_count": null,
      "outputs": [
        {
          "output_type": "execute_result",
          "data": {
            "text/html": [
              "<div>\n",
              "<style scoped>\n",
              "    .dataframe tbody tr th:only-of-type {\n",
              "        vertical-align: middle;\n",
              "    }\n",
              "\n",
              "    .dataframe tbody tr th {\n",
              "        vertical-align: top;\n",
              "    }\n",
              "\n",
              "    .dataframe thead th {\n",
              "        text-align: right;\n",
              "    }\n",
              "</style>\n",
              "<table border=\"1\" class=\"dataframe\">\n",
              "  <thead>\n",
              "    <tr style=\"text-align: right;\">\n",
              "      <th></th>\n",
              "      <th>keyword</th>\n",
              "      <th>body</th>\n",
              "    </tr>\n",
              "  </thead>\n",
              "  <tbody>\n",
              "    <tr>\n",
              "      <th>56902</th>\n",
              "      <td>top of page clearly states compatible with boo...</td>\n",
              "      <td>Top of page clearly states compatible with boo...</td>\n",
              "    </tr>\n",
              "    <tr>\n",
              "      <th>11284</th>\n",
              "      <td>it was what i expected</td>\n",
              "      <td>It was what I expected</td>\n",
              "    </tr>\n",
              "    <tr>\n",
              "      <th>19628</th>\n",
              "      <td>battery life is bad abd speaker is breakingup ...</td>\n",
              "      <td>battery life is bad abd speaker is breakingup ...</td>\n",
              "    </tr>\n",
              "    <tr>\n",
              "      <th>55704</th>\n",
              "      <td>compared to my 6 its different took some time ...</td>\n",
              "      <td>Compared to my 6, it’s different. Took some ti...</td>\n",
              "    </tr>\n",
              "    <tr>\n",
              "      <th>60685</th>\n",
              "      <td>i have a huawei mate 9 it works good still but...</td>\n",
              "      <td>I have a HUAWEI Mate 9 it works good still but...</td>\n",
              "    </tr>\n",
              "  </tbody>\n",
              "</table>\n",
              "</div>"
            ],
            "text/plain": [
              "                                                 keyword  \\\n",
              "56902  top of page clearly states compatible with boo...   \n",
              "11284                             it was what i expected   \n",
              "19628  battery life is bad abd speaker is breakingup ...   \n",
              "55704  compared to my 6 its different took some time ...   \n",
              "60685  i have a huawei mate 9 it works good still but...   \n",
              "\n",
              "                                                    body  \n",
              "56902  Top of page clearly states compatible with boo...  \n",
              "11284                             It was what I expected  \n",
              "19628  battery life is bad abd speaker is breakingup ...  \n",
              "55704  Compared to my 6, it’s different. Took some ti...  \n",
              "60685  I have a HUAWEI Mate 9 it works good still but...  "
            ]
          },
          "metadata": {
            "tags": []
          },
          "execution_count": 37
        }
      ]
    },
    {
      "cell_type": "markdown",
      "metadata": {
        "id": "8Zk7ja6A2owN"
      },
      "source": [
        "### 5.3 Remove stop words from the above pre-processed 'body' column and display at least two samples."
      ]
    },
    {
      "cell_type": "code",
      "metadata": {
        "id": "1d-DhX_e2yQ-",
        "colab": {
          "base_uri": "https://localhost:8080/"
        },
        "outputId": "8f1701e6-cd8e-4ac6-9f0d-2f860be75c94"
      },
      "source": [
        "import nltk\n",
        "from nltk.corpus import stopwords\n",
        "nltk.download('stopwords')\n",
        "stop_words = set(stopwords.words('english'))"
      ],
      "execution_count": null,
      "outputs": [
        {
          "output_type": "stream",
          "text": [
            "[nltk_data] Downloading package stopwords to /root/nltk_data...\n",
            "[nltk_data]   Package stopwords is already up-to-date!\n"
          ],
          "name": "stdout"
        }
      ]
    },
    {
      "cell_type": "code",
      "metadata": {
        "colab": {
          "base_uri": "https://localhost:8080/"
        },
        "id": "ebWT02YBUgQx",
        "outputId": "fb9043d8-6afe-47c8-f631-cb484181c0c0"
      },
      "source": [
        "final_df['keyword'] = final_df['keyword'].apply(lambda words: ' '.join(w for w in words.split() if w not in stop_words))\n",
        "final_df['keyword'].sample(5)"
      ],
      "execution_count": null,
      "outputs": [
        {
          "output_type": "execute_result",
          "data": {
            "text/plain": [
              "38874    tablet branded show photo item charger also de...\n",
              "33873    waited couple months leave review never know p...\n",
              "20829    great product phone runs 100 times faster old ...\n",
              "50825    phone keeps loosing connection sim cards multi...\n",
              "20492    great phone great price refurbished looks bran...\n",
              "Name: keyword, dtype: object"
            ]
          },
          "metadata": {
            "tags": []
          },
          "execution_count": 39
        }
      ]
    },
    {
      "cell_type": "markdown",
      "metadata": {
        "id": "TQNvXay42yaQ"
      },
      "source": [
        "### 5.4 Apply lemmatisation on the above preprocessed text and display a few samples"
      ]
    },
    {
      "cell_type": "code",
      "metadata": {
        "id": "oQ1VfFaa3DET",
        "colab": {
          "base_uri": "https://localhost:8080/"
        },
        "outputId": "72f53d2b-efd4-452f-8041-a7568dcc3942"
      },
      "source": [
        "nltk.download('wordnet')"
      ],
      "execution_count": null,
      "outputs": [
        {
          "output_type": "stream",
          "text": [
            "[nltk_data] Downloading package wordnet to /root/nltk_data...\n",
            "[nltk_data]   Package wordnet is already up-to-date!\n"
          ],
          "name": "stdout"
        },
        {
          "output_type": "execute_result",
          "data": {
            "text/plain": [
              "True"
            ]
          },
          "metadata": {
            "tags": []
          },
          "execution_count": 40
        }
      ]
    },
    {
      "cell_type": "code",
      "metadata": {
        "id": "Xp0JtxOiYz0i"
      },
      "source": [
        "w_tokenizer = nltk.tokenize.WhitespaceTokenizer()\n",
        "lemmatizer = nltk.stem.WordNetLemmatizer()"
      ],
      "execution_count": null,
      "outputs": []
    },
    {
      "cell_type": "code",
      "metadata": {
        "id": "GAuvilrzYzrr"
      },
      "source": [
        "def lemm_text(text):\n",
        "  return[lemmatizer.lemmatize(w) for w in w_tokenizer.tokenize(text)]"
      ],
      "execution_count": null,
      "outputs": []
    },
    {
      "cell_type": "code",
      "metadata": {
        "colab": {
          "base_uri": "https://localhost:8080/"
        },
        "id": "ek8kVa1WYzlF",
        "outputId": "32aaa3d4-7e71-4689-d3a0-1cfff142d70e"
      },
      "source": [
        "final_df['lemm'] = final_df['keyword'].apply(lemm_text)\n",
        "final_df['lemm'].head()"
      ],
      "execution_count": null,
      "outputs": [
        {
          "output_type": "execute_result",
          "data": {
            "text/plain": [
              "14                                 [dont, buy, service]\n",
              "17    [1, star, phone, locked, pay, additional, fee,...\n",
              "18    [product, good, used, cell, phone, one, projec...\n",
              "21    [bought, phone, replace, lg, phone, didnt, lik...\n",
              "22    [purchased, phone, att, phone, replacement, ev...\n",
              "Name: lemm, dtype: object"
            ]
          },
          "metadata": {
            "tags": []
          },
          "execution_count": 43
        }
      ]
    },
    {
      "cell_type": "markdown",
      "metadata": {
        "id": "OzweL_fA3DiN"
      },
      "source": [
        "### 5.5 Check most common and rare words in the processed text\n",
        "- We can also write a function to check word frequency of the text (Optional)"
      ]
    },
    {
      "cell_type": "code",
      "metadata": {
        "id": "MzIAyX3N6lz5",
        "colab": {
          "base_uri": "https://localhost:8080/"
        },
        "outputId": "2ac20041-65c9-4579-c91c-5dc65a04239a"
      },
      "source": [
        "from collections import Counter\n",
        "cnt = Counter()\n",
        "for text in final_df[\"keyword\"].values:\n",
        "    for word in text.split():\n",
        "        cnt[word] += 1\n",
        "        \n",
        "cnt.most_common(10)"
      ],
      "execution_count": null,
      "outputs": [
        {
          "output_type": "execute_result",
          "data": {
            "text/plain": [
              "[('phone', 74458),\n",
              " ('great', 16986),\n",
              " ('good', 13415),\n",
              " ('battery', 11641),\n",
              " ('screen', 10377),\n",
              " ('like', 10360),\n",
              " ('one', 10035),\n",
              " ('new', 9498),\n",
              " ('use', 8755),\n",
              " ('get', 7566)]"
            ]
          },
          "metadata": {
            "tags": []
          },
          "execution_count": 57
        }
      ]
    },
    {
      "cell_type": "code",
      "metadata": {
        "colab": {
          "base_uri": "https://localhost:8080/"
        },
        "id": "RjvAa37AiQhV",
        "outputId": "b3efa752-750a-418a-f4f6-9f4e21ae973e"
      },
      "source": [
        "rare_words = 10\n",
        "cnt.most_common()[:-rare_words-1:-1]"
      ],
      "execution_count": null,
      "outputs": [
        {
          "output_type": "execute_result",
          "data": {
            "text/plain": [
              "[('prontoen', 1),\n",
              " ('500500', 1),\n",
              " ('sd730g', 1),\n",
              " ('nois', 1),\n",
              " ('tomuch', 1),\n",
              " ('instructivo', 1),\n",
              " ('confirmen', 1),\n",
              " ('intrligente', 1),\n",
              " ('haxe', 1),\n",
              " ('4ever', 1)]"
            ]
          },
          "metadata": {
            "tags": []
          },
          "execution_count": 58
        }
      ]
    },
    {
      "cell_type": "markdown",
      "metadata": {
        "id": "9UbdTGsv60t1"
      },
      "source": [
        "### 5.6 Initialize tf-idf vectorizer and transform the preprocessed body text"
      ]
    },
    {
      "cell_type": "code",
      "metadata": {
        "id": "_Jfo6go_69yh"
      },
      "source": [
        "# Initialize TF-IDF vectorizer\n",
        "from sklearn.feature_extraction.text import TfidfVectorizer\n",
        "\n",
        "tfidf_vectorizer = TfidfVectorizer()"
      ],
      "execution_count": null,
      "outputs": []
    },
    {
      "cell_type": "code",
      "metadata": {
        "id": "cycCMb0_eDJO"
      },
      "source": [
        "# Initialize TF-IDF vectorizer\n",
        "from sklearn.feature_extraction.text import TfidfVectorizer\n",
        "\n",
        "tfidf_vectorizer1 = TfidfVectorizer(ngram_range=(2,2))"
      ],
      "execution_count": null,
      "outputs": []
    },
    {
      "cell_type": "code",
      "metadata": {
        "id": "QAUMpt_yeDGx"
      },
      "source": [
        "tfidf = tfidf_vectorizer.fit_transform(final_df[\"keyword\"])"
      ],
      "execution_count": null,
      "outputs": []
    },
    {
      "cell_type": "code",
      "metadata": {
        "colab": {
          "base_uri": "https://localhost:8080/",
          "height": 128
        },
        "id": "ReFwrCCYeX6F",
        "outputId": "268c3ecd-4378-427c-b508-50f8ebb80501"
      },
      "source": [
        "final_df.sample(2)"
      ],
      "execution_count": null,
      "outputs": [
        {
          "output_type": "execute_result",
          "data": {
            "text/html": [
              "<div>\n",
              "<style scoped>\n",
              "    .dataframe tbody tr th:only-of-type {\n",
              "        vertical-align: middle;\n",
              "    }\n",
              "\n",
              "    .dataframe tbody tr th {\n",
              "        vertical-align: top;\n",
              "    }\n",
              "\n",
              "    .dataframe thead th {\n",
              "        text-align: right;\n",
              "    }\n",
              "</style>\n",
              "<table border=\"1\" class=\"dataframe\">\n",
              "  <thead>\n",
              "    <tr style=\"text-align: right;\">\n",
              "      <th></th>\n",
              "      <th>brand</th>\n",
              "      <th>body</th>\n",
              "      <th>price</th>\n",
              "      <th>user_rating</th>\n",
              "      <th>review_title</th>\n",
              "      <th>sentiment</th>\n",
              "      <th>keyword</th>\n",
              "      <th>lemm</th>\n",
              "    </tr>\n",
              "  </thead>\n",
              "  <tbody>\n",
              "    <tr>\n",
              "      <th>18505</th>\n",
              "      <td>Samsung</td>\n",
              "      <td>Good!</td>\n",
              "      <td>148.9800000</td>\n",
              "      <td>5</td>\n",
              "      <td>Five Stars</td>\n",
              "      <td>1</td>\n",
              "      <td>good</td>\n",
              "      <td>[good]</td>\n",
              "    </tr>\n",
              "    <tr>\n",
              "      <th>12254</th>\n",
              "      <td>Samsung</td>\n",
              "      <td>bad phone cut out all time. Dropped call - sen...</td>\n",
              "      <td>0.0000000</td>\n",
              "      <td>1</td>\n",
              "      <td>One Star</td>\n",
              "      <td>0</td>\n",
              "      <td>bad phone cut time dropped call sent back woul...</td>\n",
              "      <td>[bad, phone, cut, time, dropped, call, sent, b...</td>\n",
              "    </tr>\n",
              "  </tbody>\n",
              "</table>\n",
              "</div>"
            ],
            "text/plain": [
              "         brand                                               body       price  \\\n",
              "18505  Samsung                                              Good! 148.9800000   \n",
              "12254  Samsung  bad phone cut out all time. Dropped call - sen...   0.0000000   \n",
              "\n",
              "       user_rating review_title  sentiment  \\\n",
              "18505            5   Five Stars          1   \n",
              "12254            1     One Star          0   \n",
              "\n",
              "                                                 keyword  \\\n",
              "18505                                               good   \n",
              "12254  bad phone cut time dropped call sent back woul...   \n",
              "\n",
              "                                                    lemm  \n",
              "18505                                             [good]  \n",
              "12254  [bad, phone, cut, time, dropped, call, sent, b...  "
            ]
          },
          "metadata": {
            "tags": []
          },
          "execution_count": 47
        }
      ]
    },
    {
      "cell_type": "markdown",
      "metadata": {
        "id": "5dqPXETLKN0h"
      },
      "source": [
        "### 5.7 Segregate the data into dependent (sentiment) and independent (transformed body using tf-idf) features for building a classifier. "
      ]
    },
    {
      "cell_type": "code",
      "metadata": {
        "id": "mpOLAYn07W6F"
      },
      "source": [
        "y = final_df['sentiment']"
      ],
      "execution_count": null,
      "outputs": []
    },
    {
      "cell_type": "markdown",
      "metadata": {
        "id": "4K03FO0q7XBP"
      },
      "source": [
        "### 5.9 Split the data into Train & Test Sets"
      ]
    },
    {
      "cell_type": "code",
      "metadata": {
        "id": "D548-7cE7dZa"
      },
      "source": [
        "from sklearn.model_selection import train_test_split\n",
        "X_train, X_test, y1_train, y1_test = train_test_split(tfidf, y, random_state = 50, stratify=y, test_size=0.3)"
      ],
      "execution_count": null,
      "outputs": []
    },
    {
      "cell_type": "markdown",
      "metadata": {
        "id": "rhD1a-beKvE7"
      },
      "source": [
        "## 6. Model building"
      ]
    },
    {
      "cell_type": "markdown",
      "metadata": {
        "id": "UPFovmN03exD"
      },
      "source": [
        "### 6.1 Build a random forest classifier to predict the 'sentiment'\n",
        "### 6.2 Predict on test set\n",
        "### 6.3 Check accuracy and confusion matrix"
      ]
    },
    {
      "cell_type": "code",
      "metadata": {
        "id": "y0ytdD-_30P9",
        "colab": {
          "base_uri": "https://localhost:8080/"
        },
        "outputId": "eea70fb1-d5c1-4352-9cba-b5ee000bcee9"
      },
      "source": [
        "from sklearn.ensemble import RandomForestClassifier\n",
        "rf_clf1 = RandomForestClassifier()\n",
        "rf_clf1.fit(X_train, y1_train)\n",
        "print(rf_clf1.score(X_train, y1_train))\n",
        "print(rf_clf1.score(X_test, y1_test))"
      ],
      "execution_count": null,
      "outputs": [
        {
          "output_type": "stream",
          "text": [
            "0.9958699862332875\n",
            "0.8881206445993032\n"
          ],
          "name": "stdout"
        }
      ]
    },
    {
      "cell_type": "code",
      "metadata": {
        "id": "NJ6Ke4hl30Zk",
        "colab": {
          "base_uri": "https://localhost:8080/"
        },
        "outputId": "957304d5-bb56-4cdc-810d-c4a6a4b47087"
      },
      "source": [
        "from sklearn.metrics import confusion_matrix\n",
        "y_pred = rf_clf1.predict(X_train)\n",
        "confusion_matrix(y1_train, y_pred)"
      ],
      "execution_count": null,
      "outputs": [
        {
          "output_type": "execute_result",
          "data": {
            "text/plain": [
              "array([[12637,   163],\n",
              "       [   14, 30043]])"
            ]
          },
          "metadata": {
            "tags": []
          },
          "execution_count": 54
        }
      ]
    },
    {
      "cell_type": "markdown",
      "metadata": {
        "id": "Ey7an7ukLxWB"
      },
      "source": [
        "## 7. Write your conclusion"
      ]
    },
    {
      "cell_type": "code",
      "metadata": {
        "id": "0csFkbEJmSIe",
        "colab": {
          "base_uri": "https://localhost:8080/"
        },
        "outputId": "558d436a-ca17-496d-b130-ad5f15952b42"
      },
      "source": [
        "from sklearn.metrics import confusion_matrix\n",
        "y1_pred = rf_clf1.predict(X_test)\n",
        "confusion_matrix(y1_test, y1_pred)"
      ],
      "execution_count": null,
      "outputs": [
        {
          "output_type": "execute_result",
          "data": {
            "text/plain": [
              "array([[ 4055,  1431],\n",
              "       [  624, 12258]])"
            ]
          },
          "metadata": {
            "tags": []
          },
          "execution_count": 55
        }
      ]
    },
    {
      "cell_type": "markdown",
      "metadata": {
        "id": "CD8lVNY0YLQD"
      },
      "source": [
        "##. 8. Further Explore\n",
        "### 8.0 Merge all independent features and the below text preprocessing steps\n",
        "### 8.1 Check rare words and drop them\n",
        "### 8.2 Remove emoticon/emojis\n",
        "### 8.3 Try different vectorizer for vectorization\n",
        "### 8.4 Use embeddings\n",
        "### 8.5 Use NN based models"
      ]
    }
  ]
}