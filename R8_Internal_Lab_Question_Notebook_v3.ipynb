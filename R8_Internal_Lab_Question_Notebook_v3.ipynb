{
  "nbformat": 4,
  "nbformat_minor": 0,
  "metadata": {
    "colab": {
      "name": "R8 Internal Lab Question Notebook_sol.ipynb",
      "provenance": [],
      "collapsed_sections": []
    },
    "kernelspec": {
      "name": "python3",
      "display_name": "Python 3"
    }
  },
  "cells": [
    {
      "cell_type": "markdown",
      "metadata": {
        "id": "PHYs6Z84xV8E"
      },
      "source": [
        "<img src=\"http://drive.google.com/uc?export=view&id=1tpOCamr9aWz817atPnyXus8w5gJ3mIts\" width=500px>\n",
        "\n",
        "Proprietary content. © Great Learning. All Rights Reserved. Unauthorized use or distribution prohibited."
      ]
    },
    {
      "cell_type": "markdown",
      "metadata": {
        "id": "5QQxgAmWzSye"
      },
      "source": [
        "# Mobile Phone Review Analysis"
      ]
    },
    {
      "cell_type": "markdown",
      "metadata": {
        "id": "FbwHYUXhxaqD"
      },
      "source": [
        "## Context\n",
        "\n",
        "The product companies can utilize the detailed review comments to gather insights from the end user. Most of the products are sold via e-commerce sites like Flipkart or Amazon where customers can buy a product and give their review about the product on the web site. \n",
        "Product managers can identify the relevant reviews from the website and run a sentiment analysis tool to understand what the sentiments of the customer are. Based on their sentiments, they can identify what users think of the current product. Are they happy? Discontent? \n",
        "They can also come up with a document that lists the features, the team needs to focus on for making the product better. \n",
        "\n",
        "## Objective\n",
        "\n",
        "Given the review data rating label, we will try to get insights about various brands and their ratings using text analytics and build a model to predict the rating and overall sentiment. \n"
      ]
    },
    {
      "cell_type": "markdown",
      "metadata": {
        "id": "CI7usguRzeox"
      },
      "source": [
        "### Package version\n",
        "\n",
        "- tensorflow==2.3.0\n",
        "- scikit-learn==0.22.2.post1\n",
        "- pandas==1.0.5\n",
        "- numpy==1.18.5\n",
        "- matplotlib==3.2.2\n",
        "- google==2.0.3"
      ]
    },
    {
      "cell_type": "markdown",
      "metadata": {
        "id": "aiMdVjHRH7NR"
      },
      "source": [
        "### Data Dictionary \n",
        "\n",
        "product_data.csv - contains product details\n",
        "- 'asin',  - Product ASIN\n",
        "- 'brand', - Product Brand\n",
        "- 'title', - Product Title\n",
        "- 'url',  - Product URL\n",
        "- 'image', - Product Image URL\n",
        "- 'rating',- Product Avg. Rating\n",
        "- 'reviewUrl' - Product Review Page URL\n",
        "- 'totalReviews' - Product Total Reviews\n",
        "- ‘price’ - Product Price ($)\n",
        "- ‘originalPrice’ - Product Original Price ($)\n",
        " \n",
        "reviews.csv  - contains user review details\n",
        " \n",
        "- 'asin' - Product ASIN\n",
        "- 'name' - Reviewer Name\n",
        "- 'rating' - Reviewer Rating (scale 1 to 5)\n",
        "- 'date'  - Review Date\n",
        "- 'verified' - Valid Customer\n",
        "- 'title'  - Review Title\n",
        "- 'body'  - Review Content\n",
        "- 'helpfulVotes  - Helpful Feedbacks\n"
      ]
    },
    {
      "cell_type": "markdown",
      "metadata": {
        "id": "cEn52o8jznJK"
      },
      "source": [
        "## Table of Content\n",
        "\n",
        "1. Import Libraries\n",
        "\n",
        "2. Setting options\n",
        "\n",
        "3. Read Data\n",
        "\n",
        "4. Data Analysis and EDA\n",
        "\n",
        "5. Text preprocessing and Vectorization\n",
        "\n",
        "6. Model building\n",
        "\n",
        "7. Conclusion and Interpretation"
      ]
    },
    {
      "cell_type": "markdown",
      "metadata": {
        "id": "x_Lom6cXzqn7"
      },
      "source": [
        "## 1. Import Libraries"
      ]
    },
    {
      "cell_type": "markdown",
      "metadata": {
        "id": "FZtVstH8zre2"
      },
      "source": [
        "Let us start by mounting the drive"
      ]
    },
    {
      "cell_type": "code",
      "metadata": {
        "id": "xv9jxv3-R5Xl",
        "colab": {
          "base_uri": "https://localhost:8080/"
        },
        "outputId": "9412c936-8546-4ff1-d20b-68dcbc8d7fba"
      },
      "source": [
        "from google.colab import drive\n",
        "drive.mount('/content/drive')"
      ],
      "execution_count": 1,
      "outputs": [
        {
          "output_type": "stream",
          "text": [
            "Mounted at /content/drive\n"
          ],
          "name": "stdout"
        }
      ]
    },
    {
      "cell_type": "markdown",
      "metadata": {
        "id": "Gv-tZoFjz2WD"
      },
      "source": [
        "Let us check for the version of installed tensorflow."
      ]
    },
    {
      "cell_type": "code",
      "metadata": {
        "id": "eiuUVBuDzzn9",
        "colab": {
          "base_uri": "https://localhost:8080/"
        },
        "outputId": "6515c8a2-bd8f-4317-f922-820c36c004d1"
      },
      "source": [
        "# used to supress display of warnings\n",
        "import warnings\n",
        "\n",
        "# os is used to provide a way of using operating system dependent functionality\n",
        "# We use it for setting working folder\n",
        "import os\n",
        "\n",
        "# Pandas is used for data manipulation and analysis\n",
        "import pandas as pd \n",
        "\n",
        "# Numpy is used for large, multi-dimensional arrays and matrices, along with mathematical operators on these arrays\n",
        "import numpy as np\n",
        "\n",
        "# Matplotlib is a data visualization library for 2D plots of arrays, built on NumPy arrays \n",
        "# and designed to work with the broader SciPy stack\n",
        "import matplotlib.pyplot as plt\n",
        "%matplotlib inline\n",
        "from matplotlib import pyplot\n",
        "\n",
        "# Seaborn is based on matplotlib, which aids in drawing attractive and informative statistical graphics.\n",
        "import seaborn as sns\n",
        "import tensorflow \n",
        "print(tensorflow.__version__)"
      ],
      "execution_count": 1,
      "outputs": [
        {
          "output_type": "stream",
          "text": [
            "2.5.0\n"
          ],
          "name": "stdout"
        }
      ]
    },
    {
      "cell_type": "markdown",
      "metadata": {
        "id": "fze-aokU0ukH"
      },
      "source": [
        "## 2. Setting Options"
      ]
    },
    {
      "cell_type": "code",
      "metadata": {
        "id": "T3FALggG0xXa"
      },
      "source": [
        "# suppress display of warnings\n",
        "warnings.filterwarnings('ignore')\n",
        "\n",
        "# display all dataframe columns\n",
        "pd.options.display.max_columns = None\n",
        "\n",
        "# to set the limit to 3 decimals\n",
        "pd.options.display.float_format = '{:.7f}'.format\n",
        "\n",
        "# display all dataframe rows\n",
        "pd.options.display.max_rows = None"
      ],
      "execution_count": 2,
      "outputs": []
    },
    {
      "cell_type": "markdown",
      "metadata": {
        "id": "ZT1P1WdK1vfZ"
      },
      "source": [
        "## 3. Read Data"
      ]
    },
    {
      "cell_type": "markdown",
      "metadata": {
        "id": "-UOW6zwww7L1"
      },
      "source": [
        "### 3.1 Read the provided CSVs and check 5 random samples and shape to understand the datasets"
      ]
    },
    {
      "cell_type": "code",
      "metadata": {
        "id": "nxT2g284xF1W"
      },
      "source": [
        "product = pd.read_csv(\"/content/product_data.csv\")\n",
        "reviews = pd.read_csv(\"/content/reviews.csv\")"
      ],
      "execution_count": 3,
      "outputs": []
    },
    {
      "cell_type": "code",
      "metadata": {
        "id": "GRjG44fRxGIq",
        "colab": {
          "base_uri": "https://localhost:8080/",
          "height": 526
        },
        "outputId": "ba551c09-8813-4319-f810-0258581b2a9a"
      },
      "source": [
        "product.head()"
      ],
      "execution_count": 4,
      "outputs": [
        {
          "output_type": "execute_result",
          "data": {
            "text/html": [
              "<div>\n",
              "<style scoped>\n",
              "    .dataframe tbody tr th:only-of-type {\n",
              "        vertical-align: middle;\n",
              "    }\n",
              "\n",
              "    .dataframe tbody tr th {\n",
              "        vertical-align: top;\n",
              "    }\n",
              "\n",
              "    .dataframe thead th {\n",
              "        text-align: right;\n",
              "    }\n",
              "</style>\n",
              "<table border=\"1\" class=\"dataframe\">\n",
              "  <thead>\n",
              "    <tr style=\"text-align: right;\">\n",
              "      <th></th>\n",
              "      <th>asin</th>\n",
              "      <th>brand</th>\n",
              "      <th>title</th>\n",
              "      <th>url</th>\n",
              "      <th>image</th>\n",
              "      <th>rating</th>\n",
              "      <th>reviewUrl</th>\n",
              "      <th>totalReviews</th>\n",
              "      <th>price</th>\n",
              "      <th>originalPrice</th>\n",
              "    </tr>\n",
              "  </thead>\n",
              "  <tbody>\n",
              "    <tr>\n",
              "      <th>0</th>\n",
              "      <td>B0000SX2UC</td>\n",
              "      <td>NaN</td>\n",
              "      <td>Dual-Band / Tri-Mode Sprint PCS Phone w/ Voice...</td>\n",
              "      <td>https://www.amazon.com/Dual-Band-Tri-Mode-Acti...</td>\n",
              "      <td>https://m.media-amazon.com/images/I/2143EBQ210...</td>\n",
              "      <td>3.0000000</td>\n",
              "      <td>https://www.amazon.com/product-reviews/B0000SX2UC</td>\n",
              "      <td>14</td>\n",
              "      <td>0.0000000</td>\n",
              "      <td>0.0000000</td>\n",
              "    </tr>\n",
              "    <tr>\n",
              "      <th>1</th>\n",
              "      <td>B0009N5L7K</td>\n",
              "      <td>Motorola</td>\n",
              "      <td>Motorola I265 phone</td>\n",
              "      <td>https://www.amazon.com/Motorola-i265-I265-phon...</td>\n",
              "      <td>https://m.media-amazon.com/images/I/419WBAVDAR...</td>\n",
              "      <td>3.0000000</td>\n",
              "      <td>https://www.amazon.com/product-reviews/B0009N5L7K</td>\n",
              "      <td>7</td>\n",
              "      <td>49.9500000</td>\n",
              "      <td>0.0000000</td>\n",
              "    </tr>\n",
              "    <tr>\n",
              "      <th>2</th>\n",
              "      <td>B000SKTZ0S</td>\n",
              "      <td>Motorola</td>\n",
              "      <td>MOTOROLA C168i AT&amp;T CINGULAR PREPAID GOPHONE C...</td>\n",
              "      <td>https://www.amazon.com/MOTOROLA-C168i-CINGULAR...</td>\n",
              "      <td>https://m.media-amazon.com/images/I/71b+q3ydkI...</td>\n",
              "      <td>2.7000000</td>\n",
              "      <td>https://www.amazon.com/product-reviews/B000SKTZ0S</td>\n",
              "      <td>22</td>\n",
              "      <td>99.9900000</td>\n",
              "      <td>0.0000000</td>\n",
              "    </tr>\n",
              "    <tr>\n",
              "      <th>3</th>\n",
              "      <td>B001AO4OUC</td>\n",
              "      <td>Motorola</td>\n",
              "      <td>Motorola i335 Cell Phone Boost Mobile</td>\n",
              "      <td>https://www.amazon.com/Motorola-i335-Phone-Boo...</td>\n",
              "      <td>https://m.media-amazon.com/images/I/710UO8gdT+...</td>\n",
              "      <td>3.3000000</td>\n",
              "      <td>https://www.amazon.com/product-reviews/B001AO4OUC</td>\n",
              "      <td>21</td>\n",
              "      <td>0.0000000</td>\n",
              "      <td>0.0000000</td>\n",
              "    </tr>\n",
              "    <tr>\n",
              "      <th>4</th>\n",
              "      <td>B001DCJAJG</td>\n",
              "      <td>Motorola</td>\n",
              "      <td>Motorola V365 no contract cellular phone AT&amp;T</td>\n",
              "      <td>https://www.amazon.com/Motorola-V365-contract-...</td>\n",
              "      <td>https://m.media-amazon.com/images/I/61LYNCVrrK...</td>\n",
              "      <td>3.1000000</td>\n",
              "      <td>https://www.amazon.com/product-reviews/B001DCJAJG</td>\n",
              "      <td>12</td>\n",
              "      <td>149.9900000</td>\n",
              "      <td>0.0000000</td>\n",
              "    </tr>\n",
              "  </tbody>\n",
              "</table>\n",
              "</div>"
            ],
            "text/plain": [
              "         asin     brand                                              title  \\\n",
              "0  B0000SX2UC       NaN  Dual-Band / Tri-Mode Sprint PCS Phone w/ Voice...   \n",
              "1  B0009N5L7K  Motorola                                Motorola I265 phone   \n",
              "2  B000SKTZ0S  Motorola  MOTOROLA C168i AT&T CINGULAR PREPAID GOPHONE C...   \n",
              "3  B001AO4OUC  Motorola              Motorola i335 Cell Phone Boost Mobile   \n",
              "4  B001DCJAJG  Motorola      Motorola V365 no contract cellular phone AT&T   \n",
              "\n",
              "                                                 url  \\\n",
              "0  https://www.amazon.com/Dual-Band-Tri-Mode-Acti...   \n",
              "1  https://www.amazon.com/Motorola-i265-I265-phon...   \n",
              "2  https://www.amazon.com/MOTOROLA-C168i-CINGULAR...   \n",
              "3  https://www.amazon.com/Motorola-i335-Phone-Boo...   \n",
              "4  https://www.amazon.com/Motorola-V365-contract-...   \n",
              "\n",
              "                                               image    rating  \\\n",
              "0  https://m.media-amazon.com/images/I/2143EBQ210... 3.0000000   \n",
              "1  https://m.media-amazon.com/images/I/419WBAVDAR... 3.0000000   \n",
              "2  https://m.media-amazon.com/images/I/71b+q3ydkI... 2.7000000   \n",
              "3  https://m.media-amazon.com/images/I/710UO8gdT+... 3.3000000   \n",
              "4  https://m.media-amazon.com/images/I/61LYNCVrrK... 3.1000000   \n",
              "\n",
              "                                           reviewUrl  totalReviews  \\\n",
              "0  https://www.amazon.com/product-reviews/B0000SX2UC            14   \n",
              "1  https://www.amazon.com/product-reviews/B0009N5L7K             7   \n",
              "2  https://www.amazon.com/product-reviews/B000SKTZ0S            22   \n",
              "3  https://www.amazon.com/product-reviews/B001AO4OUC            21   \n",
              "4  https://www.amazon.com/product-reviews/B001DCJAJG            12   \n",
              "\n",
              "        price  originalPrice  \n",
              "0   0.0000000      0.0000000  \n",
              "1  49.9500000      0.0000000  \n",
              "2  99.9900000      0.0000000  \n",
              "3   0.0000000      0.0000000  \n",
              "4 149.9900000      0.0000000  "
            ]
          },
          "metadata": {
            "tags": []
          },
          "execution_count": 4
        }
      ]
    },
    {
      "cell_type": "markdown",
      "metadata": {
        "id": "yvTAWbJyyz8v"
      },
      "source": [
        ""
      ]
    },
    {
      "cell_type": "code",
      "metadata": {
        "colab": {
          "base_uri": "https://localhost:8080/",
          "height": 287
        },
        "id": "3CQXo8TPji3b",
        "outputId": "e235abf7-32ac-4ab5-c7a1-d1b576734718"
      },
      "source": [
        "reviews.head()"
      ],
      "execution_count": 5,
      "outputs": [
        {
          "output_type": "execute_result",
          "data": {
            "text/html": [
              "<div>\n",
              "<style scoped>\n",
              "    .dataframe tbody tr th:only-of-type {\n",
              "        vertical-align: middle;\n",
              "    }\n",
              "\n",
              "    .dataframe tbody tr th {\n",
              "        vertical-align: top;\n",
              "    }\n",
              "\n",
              "    .dataframe thead th {\n",
              "        text-align: right;\n",
              "    }\n",
              "</style>\n",
              "<table border=\"1\" class=\"dataframe\">\n",
              "  <thead>\n",
              "    <tr style=\"text-align: right;\">\n",
              "      <th></th>\n",
              "      <th>asin</th>\n",
              "      <th>name</th>\n",
              "      <th>rating</th>\n",
              "      <th>date</th>\n",
              "      <th>verified</th>\n",
              "      <th>title</th>\n",
              "      <th>body</th>\n",
              "      <th>helpfulVotes</th>\n",
              "    </tr>\n",
              "  </thead>\n",
              "  <tbody>\n",
              "    <tr>\n",
              "      <th>0</th>\n",
              "      <td>B0000SX2UC</td>\n",
              "      <td>Janet</td>\n",
              "      <td>3</td>\n",
              "      <td>October 11, 2005</td>\n",
              "      <td>False</td>\n",
              "      <td>Def not best, but not worst</td>\n",
              "      <td>I had the Samsung A600 for awhile which is abs...</td>\n",
              "      <td>1.0000000</td>\n",
              "    </tr>\n",
              "    <tr>\n",
              "      <th>1</th>\n",
              "      <td>B0000SX2UC</td>\n",
              "      <td>Luke Wyatt</td>\n",
              "      <td>1</td>\n",
              "      <td>January 7, 2004</td>\n",
              "      <td>False</td>\n",
              "      <td>Text Messaging Doesn't Work</td>\n",
              "      <td>Due to a software issue between Nokia and Spri...</td>\n",
              "      <td>17.0000000</td>\n",
              "    </tr>\n",
              "    <tr>\n",
              "      <th>2</th>\n",
              "      <td>B0000SX2UC</td>\n",
              "      <td>Brooke</td>\n",
              "      <td>5</td>\n",
              "      <td>December 30, 2003</td>\n",
              "      <td>False</td>\n",
              "      <td>Love This Phone</td>\n",
              "      <td>This is a great, reliable phone. I also purcha...</td>\n",
              "      <td>5.0000000</td>\n",
              "    </tr>\n",
              "    <tr>\n",
              "      <th>3</th>\n",
              "      <td>B0000SX2UC</td>\n",
              "      <td>amy m. teague</td>\n",
              "      <td>3</td>\n",
              "      <td>March 18, 2004</td>\n",
              "      <td>False</td>\n",
              "      <td>Love the Phone, BUT...!</td>\n",
              "      <td>I love the phone and all, because I really did...</td>\n",
              "      <td>1.0000000</td>\n",
              "    </tr>\n",
              "    <tr>\n",
              "      <th>4</th>\n",
              "      <td>B0000SX2UC</td>\n",
              "      <td>tristazbimmer</td>\n",
              "      <td>4</td>\n",
              "      <td>August 28, 2005</td>\n",
              "      <td>False</td>\n",
              "      <td>Great phone service and options, lousy case!</td>\n",
              "      <td>The phone has been great for every purpose it ...</td>\n",
              "      <td>1.0000000</td>\n",
              "    </tr>\n",
              "  </tbody>\n",
              "</table>\n",
              "</div>"
            ],
            "text/plain": [
              "         asin           name  rating               date  verified  \\\n",
              "0  B0000SX2UC          Janet       3   October 11, 2005     False   \n",
              "1  B0000SX2UC     Luke Wyatt       1    January 7, 2004     False   \n",
              "2  B0000SX2UC         Brooke       5  December 30, 2003     False   \n",
              "3  B0000SX2UC  amy m. teague       3     March 18, 2004     False   \n",
              "4  B0000SX2UC  tristazbimmer       4    August 28, 2005     False   \n",
              "\n",
              "                                          title  \\\n",
              "0                   Def not best, but not worst   \n",
              "1                   Text Messaging Doesn't Work   \n",
              "2                               Love This Phone   \n",
              "3                       Love the Phone, BUT...!   \n",
              "4  Great phone service and options, lousy case!   \n",
              "\n",
              "                                                body  helpfulVotes  \n",
              "0  I had the Samsung A600 for awhile which is abs...     1.0000000  \n",
              "1  Due to a software issue between Nokia and Spri...    17.0000000  \n",
              "2  This is a great, reliable phone. I also purcha...     5.0000000  \n",
              "3  I love the phone and all, because I really did...     1.0000000  \n",
              "4  The phone has been great for every purpose it ...     1.0000000  "
            ]
          },
          "metadata": {
            "tags": []
          },
          "execution_count": 5
        }
      ]
    },
    {
      "cell_type": "markdown",
      "metadata": {
        "id": "rED6DbDBKTjM"
      },
      "source": [
        "## 4.  Data Analysis and EDA"
      ]
    },
    {
      "cell_type": "markdown",
      "metadata": {
        "id": "awlqmp40xMfc"
      },
      "source": [
        "### 4.1 Drop unnecessary columns like 'url', 'image' from the product_data"
      ]
    },
    {
      "cell_type": "code",
      "metadata": {
        "id": "VT4d-6TCxZCm"
      },
      "source": [
        "product.drop(columns=[\"url\", \"image\"], inplace=True)"
      ],
      "execution_count": 6,
      "outputs": []
    },
    {
      "cell_type": "markdown",
      "metadata": {
        "id": "Zk0WW5D5xZK9"
      },
      "source": [
        "### 4.2 Check statistical summary of both datasets. Note:- Include both numerical and object type columns."
      ]
    },
    {
      "cell_type": "code",
      "metadata": {
        "id": "ylwcqQpcx_Tl",
        "colab": {
          "base_uri": "https://localhost:8080/",
          "height": 405
        },
        "outputId": "c3fbb6fa-e2d4-4474-b994-55fbc1a25148"
      },
      "source": [
        "product.describe(include=\"all\")"
      ],
      "execution_count": 7,
      "outputs": [
        {
          "output_type": "execute_result",
          "data": {
            "text/html": [
              "<div>\n",
              "<style scoped>\n",
              "    .dataframe tbody tr th:only-of-type {\n",
              "        vertical-align: middle;\n",
              "    }\n",
              "\n",
              "    .dataframe tbody tr th {\n",
              "        vertical-align: top;\n",
              "    }\n",
              "\n",
              "    .dataframe thead th {\n",
              "        text-align: right;\n",
              "    }\n",
              "</style>\n",
              "<table border=\"1\" class=\"dataframe\">\n",
              "  <thead>\n",
              "    <tr style=\"text-align: right;\">\n",
              "      <th></th>\n",
              "      <th>asin</th>\n",
              "      <th>brand</th>\n",
              "      <th>title</th>\n",
              "      <th>rating</th>\n",
              "      <th>reviewUrl</th>\n",
              "      <th>totalReviews</th>\n",
              "      <th>price</th>\n",
              "      <th>originalPrice</th>\n",
              "    </tr>\n",
              "  </thead>\n",
              "  <tbody>\n",
              "    <tr>\n",
              "      <th>count</th>\n",
              "      <td>720</td>\n",
              "      <td>716</td>\n",
              "      <td>720</td>\n",
              "      <td>720.0000000</td>\n",
              "      <td>720</td>\n",
              "      <td>720.0000000</td>\n",
              "      <td>720.0000000</td>\n",
              "      <td>720.0000000</td>\n",
              "    </tr>\n",
              "    <tr>\n",
              "      <th>unique</th>\n",
              "      <td>720</td>\n",
              "      <td>10</td>\n",
              "      <td>718</td>\n",
              "      <td>nan</td>\n",
              "      <td>720</td>\n",
              "      <td>nan</td>\n",
              "      <td>nan</td>\n",
              "      <td>nan</td>\n",
              "    </tr>\n",
              "    <tr>\n",
              "      <th>top</th>\n",
              "      <td>B074PYHP6Q</td>\n",
              "      <td>Samsung</td>\n",
              "      <td>Apple iPhone 6S, 64GB, Rose Gold - For AT&amp;T / ...</td>\n",
              "      <td>nan</td>\n",
              "      <td>https://www.amazon.com/product-reviews/B07D42T6MB</td>\n",
              "      <td>nan</td>\n",
              "      <td>nan</td>\n",
              "      <td>nan</td>\n",
              "    </tr>\n",
              "    <tr>\n",
              "      <th>freq</th>\n",
              "      <td>1</td>\n",
              "      <td>346</td>\n",
              "      <td>2</td>\n",
              "      <td>nan</td>\n",
              "      <td>1</td>\n",
              "      <td>nan</td>\n",
              "      <td>nan</td>\n",
              "      <td>nan</td>\n",
              "    </tr>\n",
              "    <tr>\n",
              "      <th>mean</th>\n",
              "      <td>NaN</td>\n",
              "      <td>NaN</td>\n",
              "      <td>NaN</td>\n",
              "      <td>3.7137500</td>\n",
              "      <td>NaN</td>\n",
              "      <td>105.6791667</td>\n",
              "      <td>234.9489306</td>\n",
              "      <td>63.6907778</td>\n",
              "    </tr>\n",
              "    <tr>\n",
              "      <th>std</th>\n",
              "      <td>NaN</td>\n",
              "      <td>NaN</td>\n",
              "      <td>NaN</td>\n",
              "      <td>0.7160138</td>\n",
              "      <td>NaN</td>\n",
              "      <td>167.6011014</td>\n",
              "      <td>200.0084407</td>\n",
              "      <td>172.4053696</td>\n",
              "    </tr>\n",
              "    <tr>\n",
              "      <th>min</th>\n",
              "      <td>NaN</td>\n",
              "      <td>NaN</td>\n",
              "      <td>NaN</td>\n",
              "      <td>1.0000000</td>\n",
              "      <td>NaN</td>\n",
              "      <td>1.0000000</td>\n",
              "      <td>0.0000000</td>\n",
              "      <td>0.0000000</td>\n",
              "    </tr>\n",
              "    <tr>\n",
              "      <th>25%</th>\n",
              "      <td>NaN</td>\n",
              "      <td>NaN</td>\n",
              "      <td>NaN</td>\n",
              "      <td>3.3000000</td>\n",
              "      <td>NaN</td>\n",
              "      <td>7.0000000</td>\n",
              "      <td>97.5125000</td>\n",
              "      <td>0.0000000</td>\n",
              "    </tr>\n",
              "    <tr>\n",
              "      <th>50%</th>\n",
              "      <td>NaN</td>\n",
              "      <td>NaN</td>\n",
              "      <td>NaN</td>\n",
              "      <td>3.8000000</td>\n",
              "      <td>NaN</td>\n",
              "      <td>32.0000000</td>\n",
              "      <td>188.9750000</td>\n",
              "      <td>0.0000000</td>\n",
              "    </tr>\n",
              "    <tr>\n",
              "      <th>75%</th>\n",
              "      <td>NaN</td>\n",
              "      <td>NaN</td>\n",
              "      <td>NaN</td>\n",
              "      <td>4.1000000</td>\n",
              "      <td>NaN</td>\n",
              "      <td>122.2500000</td>\n",
              "      <td>336.7250000</td>\n",
              "      <td>0.0000000</td>\n",
              "    </tr>\n",
              "    <tr>\n",
              "      <th>max</th>\n",
              "      <td>NaN</td>\n",
              "      <td>NaN</td>\n",
              "      <td>NaN</td>\n",
              "      <td>5.0000000</td>\n",
              "      <td>NaN</td>\n",
              "      <td>983.0000000</td>\n",
              "      <td>999.9900000</td>\n",
              "      <td>999.9900000</td>\n",
              "    </tr>\n",
              "  </tbody>\n",
              "</table>\n",
              "</div>"
            ],
            "text/plain": [
              "              asin    brand  \\\n",
              "count          720      716   \n",
              "unique         720       10   \n",
              "top     B074PYHP6Q  Samsung   \n",
              "freq             1      346   \n",
              "mean           NaN      NaN   \n",
              "std            NaN      NaN   \n",
              "min            NaN      NaN   \n",
              "25%            NaN      NaN   \n",
              "50%            NaN      NaN   \n",
              "75%            NaN      NaN   \n",
              "max            NaN      NaN   \n",
              "\n",
              "                                                    title      rating  \\\n",
              "count                                                 720 720.0000000   \n",
              "unique                                                718         nan   \n",
              "top     Apple iPhone 6S, 64GB, Rose Gold - For AT&T / ...         nan   \n",
              "freq                                                    2         nan   \n",
              "mean                                                  NaN   3.7137500   \n",
              "std                                                   NaN   0.7160138   \n",
              "min                                                   NaN   1.0000000   \n",
              "25%                                                   NaN   3.3000000   \n",
              "50%                                                   NaN   3.8000000   \n",
              "75%                                                   NaN   4.1000000   \n",
              "max                                                   NaN   5.0000000   \n",
              "\n",
              "                                                reviewUrl  totalReviews  \\\n",
              "count                                                 720   720.0000000   \n",
              "unique                                                720           nan   \n",
              "top     https://www.amazon.com/product-reviews/B07D42T6MB           nan   \n",
              "freq                                                    1           nan   \n",
              "mean                                                  NaN   105.6791667   \n",
              "std                                                   NaN   167.6011014   \n",
              "min                                                   NaN     1.0000000   \n",
              "25%                                                   NaN     7.0000000   \n",
              "50%                                                   NaN    32.0000000   \n",
              "75%                                                   NaN   122.2500000   \n",
              "max                                                   NaN   983.0000000   \n",
              "\n",
              "             price  originalPrice  \n",
              "count  720.0000000    720.0000000  \n",
              "unique         nan            nan  \n",
              "top            nan            nan  \n",
              "freq           nan            nan  \n",
              "mean   234.9489306     63.6907778  \n",
              "std    200.0084407    172.4053696  \n",
              "min      0.0000000      0.0000000  \n",
              "25%     97.5125000      0.0000000  \n",
              "50%    188.9750000      0.0000000  \n",
              "75%    336.7250000      0.0000000  \n",
              "max    999.9900000    999.9900000  "
            ]
          },
          "metadata": {
            "tags": []
          },
          "execution_count": 7
        }
      ]
    },
    {
      "cell_type": "code",
      "metadata": {
        "id": "WFaDkvIjyDtG",
        "colab": {
          "base_uri": "https://localhost:8080/",
          "height": 388
        },
        "outputId": "52106498-6a22-4341-b4d6-5ec2658651ce"
      },
      "source": [
        "reviews.describe(include=\"all\")"
      ],
      "execution_count": 8,
      "outputs": [
        {
          "output_type": "execute_result",
          "data": {
            "text/html": [
              "<div>\n",
              "<style scoped>\n",
              "    .dataframe tbody tr th:only-of-type {\n",
              "        vertical-align: middle;\n",
              "    }\n",
              "\n",
              "    .dataframe tbody tr th {\n",
              "        vertical-align: top;\n",
              "    }\n",
              "\n",
              "    .dataframe thead th {\n",
              "        text-align: right;\n",
              "    }\n",
              "</style>\n",
              "<table border=\"1\" class=\"dataframe\">\n",
              "  <thead>\n",
              "    <tr style=\"text-align: right;\">\n",
              "      <th></th>\n",
              "      <th>asin</th>\n",
              "      <th>name</th>\n",
              "      <th>rating</th>\n",
              "      <th>date</th>\n",
              "      <th>verified</th>\n",
              "      <th>title</th>\n",
              "      <th>body</th>\n",
              "      <th>helpfulVotes</th>\n",
              "    </tr>\n",
              "  </thead>\n",
              "  <tbody>\n",
              "    <tr>\n",
              "      <th>count</th>\n",
              "      <td>70313</td>\n",
              "      <td>70311</td>\n",
              "      <td>70313.0000000</td>\n",
              "      <td>70313</td>\n",
              "      <td>70313</td>\n",
              "      <td>70299</td>\n",
              "      <td>70292</td>\n",
              "      <td>27886.0000000</td>\n",
              "    </tr>\n",
              "    <tr>\n",
              "      <th>unique</th>\n",
              "      <td>720</td>\n",
              "      <td>47323</td>\n",
              "      <td>nan</td>\n",
              "      <td>2983</td>\n",
              "      <td>2</td>\n",
              "      <td>41489</td>\n",
              "      <td>59812</td>\n",
              "      <td>nan</td>\n",
              "    </tr>\n",
              "    <tr>\n",
              "      <th>top</th>\n",
              "      <td>B00F2SKPIM</td>\n",
              "      <td>Amazon Customer</td>\n",
              "      <td>nan</td>\n",
              "      <td>December 11, 2019</td>\n",
              "      <td>True</td>\n",
              "      <td>Five Stars</td>\n",
              "      <td>Good</td>\n",
              "      <td>nan</td>\n",
              "    </tr>\n",
              "    <tr>\n",
              "      <th>freq</th>\n",
              "      <td>1548</td>\n",
              "      <td>6680</td>\n",
              "      <td>nan</td>\n",
              "      <td>234</td>\n",
              "      <td>63162</td>\n",
              "      <td>6437</td>\n",
              "      <td>308</td>\n",
              "      <td>nan</td>\n",
              "    </tr>\n",
              "    <tr>\n",
              "      <th>mean</th>\n",
              "      <td>NaN</td>\n",
              "      <td>NaN</td>\n",
              "      <td>3.8121827</td>\n",
              "      <td>NaN</td>\n",
              "      <td>NaN</td>\n",
              "      <td>NaN</td>\n",
              "      <td>NaN</td>\n",
              "      <td>8.1543427</td>\n",
              "    </tr>\n",
              "    <tr>\n",
              "      <th>std</th>\n",
              "      <td>NaN</td>\n",
              "      <td>NaN</td>\n",
              "      <td>1.5796615</td>\n",
              "      <td>NaN</td>\n",
              "      <td>NaN</td>\n",
              "      <td>NaN</td>\n",
              "      <td>NaN</td>\n",
              "      <td>31.6642450</td>\n",
              "    </tr>\n",
              "    <tr>\n",
              "      <th>min</th>\n",
              "      <td>NaN</td>\n",
              "      <td>NaN</td>\n",
              "      <td>1.0000000</td>\n",
              "      <td>NaN</td>\n",
              "      <td>NaN</td>\n",
              "      <td>NaN</td>\n",
              "      <td>NaN</td>\n",
              "      <td>1.0000000</td>\n",
              "    </tr>\n",
              "    <tr>\n",
              "      <th>25%</th>\n",
              "      <td>NaN</td>\n",
              "      <td>NaN</td>\n",
              "      <td>3.0000000</td>\n",
              "      <td>NaN</td>\n",
              "      <td>NaN</td>\n",
              "      <td>NaN</td>\n",
              "      <td>NaN</td>\n",
              "      <td>1.0000000</td>\n",
              "    </tr>\n",
              "    <tr>\n",
              "      <th>50%</th>\n",
              "      <td>NaN</td>\n",
              "      <td>NaN</td>\n",
              "      <td>5.0000000</td>\n",
              "      <td>NaN</td>\n",
              "      <td>NaN</td>\n",
              "      <td>NaN</td>\n",
              "      <td>NaN</td>\n",
              "      <td>2.0000000</td>\n",
              "    </tr>\n",
              "    <tr>\n",
              "      <th>75%</th>\n",
              "      <td>NaN</td>\n",
              "      <td>NaN</td>\n",
              "      <td>5.0000000</td>\n",
              "      <td>NaN</td>\n",
              "      <td>NaN</td>\n",
              "      <td>NaN</td>\n",
              "      <td>NaN</td>\n",
              "      <td>5.0000000</td>\n",
              "    </tr>\n",
              "    <tr>\n",
              "      <th>max</th>\n",
              "      <td>NaN</td>\n",
              "      <td>NaN</td>\n",
              "      <td>5.0000000</td>\n",
              "      <td>NaN</td>\n",
              "      <td>NaN</td>\n",
              "      <td>NaN</td>\n",
              "      <td>NaN</td>\n",
              "      <td>990.0000000</td>\n",
              "    </tr>\n",
              "  </tbody>\n",
              "</table>\n",
              "</div>"
            ],
            "text/plain": [
              "              asin             name        rating               date verified  \\\n",
              "count        70313            70311 70313.0000000              70313    70313   \n",
              "unique         720            47323           nan               2983        2   \n",
              "top     B00F2SKPIM  Amazon Customer           nan  December 11, 2019     True   \n",
              "freq          1548             6680           nan                234    63162   \n",
              "mean           NaN              NaN     3.8121827                NaN      NaN   \n",
              "std            NaN              NaN     1.5796615                NaN      NaN   \n",
              "min            NaN              NaN     1.0000000                NaN      NaN   \n",
              "25%            NaN              NaN     3.0000000                NaN      NaN   \n",
              "50%            NaN              NaN     5.0000000                NaN      NaN   \n",
              "75%            NaN              NaN     5.0000000                NaN      NaN   \n",
              "max            NaN              NaN     5.0000000                NaN      NaN   \n",
              "\n",
              "             title   body  helpfulVotes  \n",
              "count        70299  70292 27886.0000000  \n",
              "unique       41489  59812           nan  \n",
              "top     Five Stars   Good           nan  \n",
              "freq          6437    308           nan  \n",
              "mean           NaN    NaN     8.1543427  \n",
              "std            NaN    NaN    31.6642450  \n",
              "min            NaN    NaN     1.0000000  \n",
              "25%            NaN    NaN     1.0000000  \n",
              "50%            NaN    NaN     2.0000000  \n",
              "75%            NaN    NaN     5.0000000  \n",
              "max            NaN    NaN   990.0000000  "
            ]
          },
          "metadata": {
            "tags": []
          },
          "execution_count": 8
        }
      ]
    },
    {
      "cell_type": "markdown",
      "metadata": {
        "id": "cSdGfadUyEdU"
      },
      "source": [
        "### 4.3 From the above statistical summary, write inferences like count of unique products, top brand, top title, range of rating, price range, etc"
      ]
    },
    {
      "cell_type": "markdown",
      "metadata": {
        "id": "qhuKk0yCmeJi"
      },
      "source": [
        "*Product table Observation*\n",
        "\n",
        "- 720 unique products\n",
        "- brand contain 2 null values and in total 10 brand data\n",
        "- totalReviews is left skewed which means Most of the product have received less than 32 ratings\n",
        "- Samsung is the top brand among all.\n",
        "- Rating is in range from 1-5\n",
        "- Price is in range from 0-999.99"
      ]
    },
    {
      "cell_type": "markdown",
      "metadata": {
        "id": "sJ3BphNboURw"
      },
      "source": [
        "*Review table Observation*\n",
        "\n",
        "- 70313 reviews\n",
        "- name contain one null value\n",
        "- more than 50% of product have 5 rating.\n"
      ]
    },
    {
      "cell_type": "markdown",
      "metadata": {
        "id": "XMv_hXyxJKZK"
      },
      "source": [
        "### 4.4 Analyze the distribution of ratings and other categorical features like brand, etc"
      ]
    },
    {
      "cell_type": "code",
      "metadata": {
        "id": "oEhjSsMcyirD",
        "colab": {
          "base_uri": "https://localhost:8080/",
          "height": 296
        },
        "outputId": "a2f37cf4-74a3-4b16-a976-29e1cc6f6d46"
      },
      "source": [
        "sns.distplot(product[\"rating\"])"
      ],
      "execution_count": 9,
      "outputs": [
        {
          "output_type": "execute_result",
          "data": {
            "text/plain": [
              "<matplotlib.axes._subplots.AxesSubplot at 0x7ff0b2947a90>"
            ]
          },
          "metadata": {
            "tags": []
          },
          "execution_count": 9
        },
        {
          "output_type": "display_data",
          "data": {
            "image/png": "[encoded data removed]",
            "text/plain": [
              "<Figure size 432x288 with 1 Axes>"
            ]
          },
          "metadata": {
            "tags": [],
            "needs_background": "light"
          }
        }
      ]
    },
    {
      "cell_type": "markdown",
      "metadata": {
        "id": "0slyaPrZwPOt"
      },
      "source": [
        "**observation:** We see two peaks here"
      ]
    },
    {
      "cell_type": "code",
      "metadata": {
        "id": "wsmN6ke-tJIj"
      },
      "source": [
        "gbp = product.groupby(by=\"brand\")"
      ],
      "execution_count": 10,
      "outputs": []
    },
    {
      "cell_type": "code",
      "metadata": {
        "colab": {
          "base_uri": "https://localhost:8080/",
          "height": 423
        },
        "id": "4jVjvL18vEDm",
        "outputId": "e130d1bf-b510-4094-9be0-695a9c2cb335"
      },
      "source": [
        "prod = product.dropna()\n",
        "sns.displot(prod[\"brand\"])\n",
        "plt.xticks(rotation=90)"
      ],
      "execution_count": 11,
      "outputs": [
        {
          "output_type": "execute_result",
          "data": {
            "text/plain": [
              "([0, 1, 2, 3, 4, 5, 6, 7, 8, 9], <a list of 10 Text major ticklabel objects>)"
            ]
          },
          "metadata": {
            "tags": []
          },
          "execution_count": 11
        },
        {
          "output_type": "display_data",
          "data": {
            "image/png": "[encoded data removed]",
            "text/plain": [
              "<Figure size 360x360 with 1 Axes>"
            ]
          },
          "metadata": {
            "tags": [],
            "needs_background": "light"
          }
        }
      ]
    },
    {
      "cell_type": "markdown",
      "metadata": {
        "id": "yWN9764ww17-"
      },
      "source": [
        "**Observation** Samsung branch got most reviews."
      ]
    },
    {
      "cell_type": "code",
      "metadata": {
        "id": "yFvf4HnOwLv8"
      },
      "source": [
        "data = prod.groupby(\"brand\")[\"rating\"].count()"
      ],
      "execution_count": 12,
      "outputs": []
    },
    {
      "cell_type": "code",
      "metadata": {
        "colab": {
          "base_uri": "https://localhost:8080/",
          "height": 265
        },
        "id": "td195J8wwT89",
        "outputId": "5679c1ea-0c00-4480-8a46-2dd29c9ee512"
      },
      "source": [
        "data.plot.pie(autopct=\"%.1f%%\")"
      ],
      "execution_count": 13,
      "outputs": [
        {
          "output_type": "execute_result",
          "data": {
            "text/plain": [
              "<matplotlib.axes._subplots.AxesSubplot at 0x7ff0a7abe510>"
            ]
          },
          "metadata": {
            "tags": []
          },
          "execution_count": 13
        },
        {
          "output_type": "display_data",
          "data": {
            "image/png": "[encoded data removed]",
            "text/plain": [
              "<Figure size 432x288 with 1 Axes>"
            ]
          },
          "metadata": {
            "tags": []
          }
        }
      ]
    },
    {
      "cell_type": "markdown",
      "metadata": {
        "id": "jwZBGODgyi1a"
      },
      "source": [
        "### 4.5 Display average rating per brand"
      ]
    },
    {
      "cell_type": "code",
      "metadata": {
        "id": "OSBBiAv8yscd"
      },
      "source": [
        "data = prod.groupby(\"brand\")[\"rating\"].mean()"
      ],
      "execution_count": 14,
      "outputs": []
    },
    {
      "cell_type": "code",
      "metadata": {
        "colab": {
          "base_uri": "https://localhost:8080/",
          "height": 282
        },
        "id": "ebAhB41WwrRJ",
        "outputId": "e4575d6a-4473-4c07-d507-515b31749690"
      },
      "source": [
        "data.plot(x='brand', kind='barh')"
      ],
      "execution_count": 15,
      "outputs": [
        {
          "output_type": "execute_result",
          "data": {
            "text/plain": [
              "<matplotlib.axes._subplots.AxesSubplot at 0x7ff0a7a589d0>"
            ]
          },
          "metadata": {
            "tags": []
          },
          "execution_count": 15
        },
        {
          "output_type": "display_data",
          "data": {
            "image/png": "[encoded data removed]",
            "text/plain": [
              "<Figure size 432x288 with 1 Axes>"
            ]
          },
          "metadata": {
            "tags": [],
            "needs_background": "light"
          }
        }
      ]
    },
    {
      "cell_type": "markdown",
      "metadata": {
        "id": "vUXuEwlgyvB0"
      },
      "source": [
        "### 4.6 Display average price per brand"
      ]
    },
    {
      "cell_type": "code",
      "metadata": {
        "id": "ACgIwVlyy3Pu",
        "colab": {
          "base_uri": "https://localhost:8080/",
          "height": 282
        },
        "outputId": "a18aff41-3515-4e2c-a4bd-3dec7433c198"
      },
      "source": [
        "prod.groupby(\"brand\")[\"price\"].mean().sort_values().plot(kind='barh')"
      ],
      "execution_count": 16,
      "outputs": [
        {
          "output_type": "execute_result",
          "data": {
            "text/plain": [
              "<matplotlib.axes._subplots.AxesSubplot at 0x7ff0a79d3a90>"
            ]
          },
          "metadata": {
            "tags": []
          },
          "execution_count": 16
        },
        {
          "output_type": "display_data",
          "data": {
            "image/png": "[encoded data removed]",
            "text/plain": [
              "<Figure size 432x288 with 1 Axes>"
            ]
          },
          "metadata": {
            "tags": [],
            "needs_background": "light"
          }
        }
      ]
    },
    {
      "cell_type": "markdown",
      "metadata": {
        "id": "U0JfwL74y3a-"
      },
      "source": [
        "### 4.7 Display average 'totalReviews' per brand"
      ]
    },
    {
      "cell_type": "code",
      "metadata": {
        "id": "wfzciNxqzBYu",
        "colab": {
          "base_uri": "https://localhost:8080/",
          "height": 265
        },
        "outputId": "2f307143-6c46-4430-a654-86b98b83fca1"
      },
      "source": [
        "data = prod.groupby(\"brand\")[\"totalReviews\"].mean().sort_values().plot(kind=\"barh\")"
      ],
      "execution_count": 17,
      "outputs": [
        {
          "output_type": "display_data",
          "data": {
            "image/png": "[encoded data removed]",
            "text/plain": [
              "<Figure size 432x288 with 1 Axes>"
            ]
          },
          "metadata": {
            "tags": [],
            "needs_background": "light"
          }
        }
      ]
    },
    {
      "cell_type": "markdown",
      "metadata": {
        "id": "x_fxI7OAeDUM"
      },
      "source": [
        "### 4.8 Merge two datasets using 'asin' and check the shape of the final dataset"
      ]
    },
    {
      "cell_type": "code",
      "metadata": {
        "id": "svpHfWI9zNAP"
      },
      "source": [
        "merged = reviews.merge(product, how=\"left\", on=\"asin\")"
      ],
      "execution_count": 18,
      "outputs": []
    },
    {
      "cell_type": "code",
      "metadata": {
        "colab": {
          "base_uri": "https://localhost:8080/",
          "height": 399
        },
        "id": "2e5b4c6Hyoea",
        "outputId": "813714df-ff2d-46df-d7a8-2f50979a71d4"
      },
      "source": [
        "merged.head(2)"
      ],
      "execution_count": 19,
      "outputs": [
        {
          "output_type": "execute_result",
          "data": {
            "text/html": [
              "<div>\n",
              "<style scoped>\n",
              "    .dataframe tbody tr th:only-of-type {\n",
              "        vertical-align: middle;\n",
              "    }\n",
              "\n",
              "    .dataframe tbody tr th {\n",
              "        vertical-align: top;\n",
              "    }\n",
              "\n",
              "    .dataframe thead th {\n",
              "        text-align: right;\n",
              "    }\n",
              "</style>\n",
              "<table border=\"1\" class=\"dataframe\">\n",
              "  <thead>\n",
              "    <tr style=\"text-align: right;\">\n",
              "      <th></th>\n",
              "      <th>asin</th>\n",
              "      <th>name</th>\n",
              "      <th>rating_x</th>\n",
              "      <th>date</th>\n",
              "      <th>verified</th>\n",
              "      <th>title_x</th>\n",
              "      <th>body</th>\n",
              "      <th>helpfulVotes</th>\n",
              "      <th>brand</th>\n",
              "      <th>title_y</th>\n",
              "      <th>rating_y</th>\n",
              "      <th>reviewUrl</th>\n",
              "      <th>totalReviews</th>\n",
              "      <th>price</th>\n",
              "      <th>originalPrice</th>\n",
              "    </tr>\n",
              "  </thead>\n",
              "  <tbody>\n",
              "    <tr>\n",
              "      <th>0</th>\n",
              "      <td>B0000SX2UC</td>\n",
              "      <td>Janet</td>\n",
              "      <td>3</td>\n",
              "      <td>October 11, 2005</td>\n",
              "      <td>False</td>\n",
              "      <td>Def not best, but not worst</td>\n",
              "      <td>I had the Samsung A600 for awhile which is abs...</td>\n",
              "      <td>1.0000000</td>\n",
              "      <td>NaN</td>\n",
              "      <td>Dual-Band / Tri-Mode Sprint PCS Phone w/ Voice...</td>\n",
              "      <td>3.0000000</td>\n",
              "      <td>https://www.amazon.com/product-reviews/B0000SX2UC</td>\n",
              "      <td>14</td>\n",
              "      <td>0.0000000</td>\n",
              "      <td>0.0000000</td>\n",
              "    </tr>\n",
              "    <tr>\n",
              "      <th>1</th>\n",
              "      <td>B0000SX2UC</td>\n",
              "      <td>Luke Wyatt</td>\n",
              "      <td>1</td>\n",
              "      <td>January 7, 2004</td>\n",
              "      <td>False</td>\n",
              "      <td>Text Messaging Doesn't Work</td>\n",
              "      <td>Due to a software issue between Nokia and Spri...</td>\n",
              "      <td>17.0000000</td>\n",
              "      <td>NaN</td>\n",
              "      <td>Dual-Band / Tri-Mode Sprint PCS Phone w/ Voice...</td>\n",
              "      <td>3.0000000</td>\n",
              "      <td>https://www.amazon.com/product-reviews/B0000SX2UC</td>\n",
              "      <td>14</td>\n",
              "      <td>0.0000000</td>\n",
              "      <td>0.0000000</td>\n",
              "    </tr>\n",
              "  </tbody>\n",
              "</table>\n",
              "</div>"
            ],
            "text/plain": [
              "         asin        name  rating_x              date  verified  \\\n",
              "0  B0000SX2UC       Janet         3  October 11, 2005     False   \n",
              "1  B0000SX2UC  Luke Wyatt         1   January 7, 2004     False   \n",
              "\n",
              "                       title_x  \\\n",
              "0  Def not best, but not worst   \n",
              "1  Text Messaging Doesn't Work   \n",
              "\n",
              "                                                body  helpfulVotes brand  \\\n",
              "0  I had the Samsung A600 for awhile which is abs...     1.0000000   NaN   \n",
              "1  Due to a software issue between Nokia and Spri...    17.0000000   NaN   \n",
              "\n",
              "                                             title_y  rating_y  \\\n",
              "0  Dual-Band / Tri-Mode Sprint PCS Phone w/ Voice... 3.0000000   \n",
              "1  Dual-Band / Tri-Mode Sprint PCS Phone w/ Voice... 3.0000000   \n",
              "\n",
              "                                           reviewUrl  totalReviews     price  \\\n",
              "0  https://www.amazon.com/product-reviews/B0000SX2UC            14 0.0000000   \n",
              "1  https://www.amazon.com/product-reviews/B0000SX2UC            14 0.0000000   \n",
              "\n",
              "   originalPrice  \n",
              "0      0.0000000  \n",
              "1      0.0000000  "
            ]
          },
          "metadata": {
            "tags": []
          },
          "execution_count": 19
        }
      ]
    },
    {
      "cell_type": "code",
      "metadata": {
        "colab": {
          "base_uri": "https://localhost:8080/",
          "height": 295
        },
        "id": "ePzvh79oywJx",
        "outputId": "6107639e-a263-41bf-cf39-ca3cf9a683d4"
      },
      "source": [
        "merged.describe()"
      ],
      "execution_count": 20,
      "outputs": [
        {
          "output_type": "execute_result",
          "data": {
            "text/html": [
              "<div>\n",
              "<style scoped>\n",
              "    .dataframe tbody tr th:only-of-type {\n",
              "        vertical-align: middle;\n",
              "    }\n",
              "\n",
              "    .dataframe tbody tr th {\n",
              "        vertical-align: top;\n",
              "    }\n",
              "\n",
              "    .dataframe thead th {\n",
              "        text-align: right;\n",
              "    }\n",
              "</style>\n",
              "<table border=\"1\" class=\"dataframe\">\n",
              "  <thead>\n",
              "    <tr style=\"text-align: right;\">\n",
              "      <th></th>\n",
              "      <th>rating_x</th>\n",
              "      <th>helpfulVotes</th>\n",
              "      <th>rating_y</th>\n",
              "      <th>totalReviews</th>\n",
              "      <th>price</th>\n",
              "      <th>originalPrice</th>\n",
              "    </tr>\n",
              "  </thead>\n",
              "  <tbody>\n",
              "    <tr>\n",
              "      <th>count</th>\n",
              "      <td>70313.0000000</td>\n",
              "      <td>27886.0000000</td>\n",
              "      <td>70313.0000000</td>\n",
              "      <td>70313.0000000</td>\n",
              "      <td>70313.0000000</td>\n",
              "      <td>70313.0000000</td>\n",
              "    </tr>\n",
              "    <tr>\n",
              "      <th>mean</th>\n",
              "      <td>3.8121827</td>\n",
              "      <td>8.1543427</td>\n",
              "      <td>3.7612831</td>\n",
              "      <td>379.5519463</td>\n",
              "      <td>216.8876700</td>\n",
              "      <td>81.2757570</td>\n",
              "    </tr>\n",
              "    <tr>\n",
              "      <th>std</th>\n",
              "      <td>1.5796615</td>\n",
              "      <td>31.6642450</td>\n",
              "      <td>0.4255355</td>\n",
              "      <td>265.6812119</td>\n",
              "      <td>188.3097434</td>\n",
              "      <td>199.1224564</td>\n",
              "    </tr>\n",
              "    <tr>\n",
              "      <th>min</th>\n",
              "      <td>1.0000000</td>\n",
              "      <td>1.0000000</td>\n",
              "      <td>1.0000000</td>\n",
              "      <td>1.0000000</td>\n",
              "      <td>0.0000000</td>\n",
              "      <td>0.0000000</td>\n",
              "    </tr>\n",
              "    <tr>\n",
              "      <th>25%</th>\n",
              "      <td>3.0000000</td>\n",
              "      <td>1.0000000</td>\n",
              "      <td>3.5000000</td>\n",
              "      <td>153.0000000</td>\n",
              "      <td>99.9900000</td>\n",
              "      <td>0.0000000</td>\n",
              "    </tr>\n",
              "    <tr>\n",
              "      <th>50%</th>\n",
              "      <td>5.0000000</td>\n",
              "      <td>2.0000000</td>\n",
              "      <td>3.8000000</td>\n",
              "      <td>340.0000000</td>\n",
              "      <td>179.5000000</td>\n",
              "      <td>0.0000000</td>\n",
              "    </tr>\n",
              "    <tr>\n",
              "      <th>75%</th>\n",
              "      <td>5.0000000</td>\n",
              "      <td>5.0000000</td>\n",
              "      <td>4.1000000</td>\n",
              "      <td>558.0000000</td>\n",
              "      <td>300.5500000</td>\n",
              "      <td>0.0000000</td>\n",
              "    </tr>\n",
              "    <tr>\n",
              "      <th>max</th>\n",
              "      <td>5.0000000</td>\n",
              "      <td>990.0000000</td>\n",
              "      <td>5.0000000</td>\n",
              "      <td>983.0000000</td>\n",
              "      <td>999.9900000</td>\n",
              "      <td>999.9900000</td>\n",
              "    </tr>\n",
              "  </tbody>\n",
              "</table>\n",
              "</div>"
            ],
            "text/plain": [
              "           rating_x  helpfulVotes      rating_y  totalReviews         price  \\\n",
              "count 70313.0000000 27886.0000000 70313.0000000 70313.0000000 70313.0000000   \n",
              "mean      3.8121827     8.1543427     3.7612831   379.5519463   216.8876700   \n",
              "std       1.5796615    31.6642450     0.4255355   265.6812119   188.3097434   \n",
              "min       1.0000000     1.0000000     1.0000000     1.0000000     0.0000000   \n",
              "25%       3.0000000     1.0000000     3.5000000   153.0000000    99.9900000   \n",
              "50%       5.0000000     2.0000000     3.8000000   340.0000000   179.5000000   \n",
              "75%       5.0000000     5.0000000     4.1000000   558.0000000   300.5500000   \n",
              "max       5.0000000   990.0000000     5.0000000   983.0000000   999.9900000   \n",
              "\n",
              "       originalPrice  \n",
              "count  70313.0000000  \n",
              "mean      81.2757570  \n",
              "std      199.1224564  \n",
              "min        0.0000000  \n",
              "25%        0.0000000  \n",
              "50%        0.0000000  \n",
              "75%        0.0000000  \n",
              "max      999.9900000  "
            ]
          },
          "metadata": {
            "tags": []
          },
          "execution_count": 20
        }
      ]
    },
    {
      "cell_type": "code",
      "metadata": {
        "colab": {
          "base_uri": "https://localhost:8080/"
        },
        "id": "UtGOD28Ez8gD",
        "outputId": "fe39cebe-eb66-4044-e1c1-58c7f2efb8ea"
      },
      "source": [
        "merged.shape"
      ],
      "execution_count": 21,
      "outputs": [
        {
          "output_type": "execute_result",
          "data": {
            "text/plain": [
              "(70313, 15)"
            ]
          },
          "metadata": {
            "tags": []
          },
          "execution_count": 21
        }
      ]
    },
    {
      "cell_type": "markdown",
      "metadata": {
        "id": "zdTfwlL7fYpq"
      },
      "source": [
        "### 4.9 Rename important features with appropriate names.\n",
        "Imortant features - \"rating_x\": \"user_rating\", \"title_x\": \"review_title\", \"title_y\": \"item_title\", \"rating_y\": \"overall_rating\""
      ]
    },
    {
      "cell_type": "code",
      "metadata": {
        "id": "KI-6FCkZztXM"
      },
      "source": [
        "merged.rename(columns = {'rating_x':'user_rating', 'title_x': 'review_title', 'title_y':'item_title', 'rating_y':'overall_rating'}, inplace = True)"
      ],
      "execution_count": 22,
      "outputs": []
    },
    {
      "cell_type": "code",
      "metadata": {
        "colab": {
          "base_uri": "https://localhost:8080/"
        },
        "id": "9DG_f05-0uDE",
        "outputId": "f6fe8492-fe8c-4020-8581-4f2b059c9f07"
      },
      "source": [
        "merged.columns"
      ],
      "execution_count": 23,
      "outputs": [
        {
          "output_type": "execute_result",
          "data": {
            "text/plain": [
              "Index(['asin', 'name', 'user_rating', 'date', 'verified', 'review_title',\n",
              "       'body', 'helpfulVotes', 'brand', 'item_title', 'overall_rating',\n",
              "       'reviewUrl', 'totalReviews', 'price', 'originalPrice'],\n",
              "      dtype='object')"
            ]
          },
          "metadata": {
            "tags": []
          },
          "execution_count": 23
        }
      ]
    },
    {
      "cell_type": "markdown",
      "metadata": {
        "id": "hNHEElHszthc"
      },
      "source": [
        "### 4.10 Select rows having verified reviews and check the shape of the final dataset"
      ]
    },
    {
      "cell_type": "code",
      "metadata": {
        "id": "Jyav9_Zoz-rT"
      },
      "source": [
        "merged_sel = merged[merged[\"verified\"]==True]"
      ],
      "execution_count": 24,
      "outputs": []
    },
    {
      "cell_type": "code",
      "metadata": {
        "colab": {
          "base_uri": "https://localhost:8080/"
        },
        "id": "Q1h-erIy1HtM",
        "outputId": "dadb0846-d3a3-47de-a210-4099c060e021"
      },
      "source": [
        "merged_sel.shape"
      ],
      "execution_count": 25,
      "outputs": [
        {
          "output_type": "execute_result",
          "data": {
            "text/plain": [
              "(63162, 15)"
            ]
          },
          "metadata": {
            "tags": []
          },
          "execution_count": 25
        }
      ]
    },
    {
      "cell_type": "markdown",
      "metadata": {
        "id": "EpKusPjdz-2q"
      },
      "source": [
        "### 4.11 Check the number of reviews for various brands and report the brand that have highest number of reviews"
      ]
    },
    {
      "cell_type": "code",
      "metadata": {
        "id": "5tux6vwr0JDb",
        "colab": {
          "base_uri": "https://localhost:8080/"
        },
        "outputId": "d47de2a7-7f0a-4a05-d02c-dce6d7107ac5"
      },
      "source": [
        "product.groupby(\"brand\")[\"totalReviews\"].sum().sort_values(ascending=False).head(1)"
      ],
      "execution_count": 26,
      "outputs": [
        {
          "output_type": "execute_result",
          "data": {
            "text/plain": [
              "brand\n",
              "Samsung    37701\n",
              "Name: totalReviews, dtype: int64"
            ]
          },
          "metadata": {
            "tags": []
          },
          "execution_count": 26
        }
      ]
    },
    {
      "cell_type": "markdown",
      "metadata": {
        "id": "gPGjMFE-0Q5k"
      },
      "source": [
        "### 4.12 Drop irrelevant columns and keep important features like 'brand','body','price','user_rating','review_title' for further analysis"
      ]
    },
    {
      "cell_type": "code",
      "metadata": {
        "id": "J_IvLN6e0e6z"
      },
      "source": [
        "filtered = merged_sel[[\"brand\", \"body\", \"price\", \"user_rating\",\"review_title\"]]"
      ],
      "execution_count": 27,
      "outputs": []
    },
    {
      "cell_type": "code",
      "metadata": {
        "colab": {
          "base_uri": "https://localhost:8080/",
          "height": 203
        },
        "id": "AMgMxs943AR1",
        "outputId": "2c383eb6-d9bb-484a-acb1-7493ca475c45"
      },
      "source": [
        "filtered.head()"
      ],
      "execution_count": 28,
      "outputs": [
        {
          "output_type": "execute_result",
          "data": {
            "text/html": [
              "<div>\n",
              "<style scoped>\n",
              "    .dataframe tbody tr th:only-of-type {\n",
              "        vertical-align: middle;\n",
              "    }\n",
              "\n",
              "    .dataframe tbody tr th {\n",
              "        vertical-align: top;\n",
              "    }\n",
              "\n",
              "    .dataframe thead th {\n",
              "        text-align: right;\n",
              "    }\n",
              "</style>\n",
              "<table border=\"1\" class=\"dataframe\">\n",
              "  <thead>\n",
              "    <tr style=\"text-align: right;\">\n",
              "      <th></th>\n",
              "      <th>brand</th>\n",
              "      <th>body</th>\n",
              "      <th>price</th>\n",
              "      <th>user_rating</th>\n",
              "      <th>review_title</th>\n",
              "    </tr>\n",
              "  </thead>\n",
              "  <tbody>\n",
              "    <tr>\n",
              "      <th>14</th>\n",
              "      <td>Motorola</td>\n",
              "      <td>DON'T BUY OUT OF SERVICE</td>\n",
              "      <td>49.9500000</td>\n",
              "      <td>1</td>\n",
              "      <td>Stupid phone</td>\n",
              "    </tr>\n",
              "    <tr>\n",
              "      <th>17</th>\n",
              "      <td>Motorola</td>\n",
              "      <td>1 star because the phones locked so I have to ...</td>\n",
              "      <td>49.9500000</td>\n",
              "      <td>1</td>\n",
              "      <td>Phones locked</td>\n",
              "    </tr>\n",
              "    <tr>\n",
              "      <th>18</th>\n",
              "      <td>Motorola</td>\n",
              "      <td>The product has been very good. I had used thi...</td>\n",
              "      <td>49.9500000</td>\n",
              "      <td>5</td>\n",
              "      <td>Excellent product</td>\n",
              "    </tr>\n",
              "    <tr>\n",
              "      <th>21</th>\n",
              "      <td>Motorola</td>\n",
              "      <td>I bought this phone to replace an LG phone tha...</td>\n",
              "      <td>99.9900000</td>\n",
              "      <td>4</td>\n",
              "      <td>Nice, but</td>\n",
              "    </tr>\n",
              "    <tr>\n",
              "      <th>22</th>\n",
              "      <td>Motorola</td>\n",
              "      <td>I purchased this phone for my AT&amp;T phone repla...</td>\n",
              "      <td>99.9900000</td>\n",
              "      <td>1</td>\n",
              "      <td>It seems it doesn't work with the existing AT&amp;...</td>\n",
              "    </tr>\n",
              "  </tbody>\n",
              "</table>\n",
              "</div>"
            ],
            "text/plain": [
              "       brand                                               body      price  \\\n",
              "14  Motorola                           DON'T BUY OUT OF SERVICE 49.9500000   \n",
              "17  Motorola  1 star because the phones locked so I have to ... 49.9500000   \n",
              "18  Motorola  The product has been very good. I had used thi... 49.9500000   \n",
              "21  Motorola  I bought this phone to replace an LG phone tha... 99.9900000   \n",
              "22  Motorola  I purchased this phone for my AT&T phone repla... 99.9900000   \n",
              "\n",
              "    user_rating                                       review_title  \n",
              "14            1                                       Stupid phone  \n",
              "17            1                                      Phones locked  \n",
              "18            5                                  Excellent product  \n",
              "21            4                                          Nice, but  \n",
              "22            1  It seems it doesn't work with the existing AT&...  "
            ]
          },
          "metadata": {
            "tags": []
          },
          "execution_count": 28
        }
      ]
    },
    {
      "cell_type": "markdown",
      "metadata": {
        "id": "Gzo_rVT60fDf"
      },
      "source": [
        "### 4.13 Perform univariate analysis. Check distribution of price, user_rating"
      ]
    },
    {
      "cell_type": "code",
      "metadata": {
        "id": "F3vzILxZ0t0L",
        "colab": {
          "base_uri": "https://localhost:8080/",
          "height": 282
        },
        "outputId": "758f5ff6-5f38-439e-a456-8ca91d337984"
      },
      "source": [
        "filtered[\"price\"].plot(kind=\"hist\")"
      ],
      "execution_count": 29,
      "outputs": [
        {
          "output_type": "execute_result",
          "data": {
            "text/plain": [
              "<matplotlib.axes._subplots.AxesSubplot at 0x7ff0a793f090>"
            ]
          },
          "metadata": {
            "tags": []
          },
          "execution_count": 29
        },
        {
          "output_type": "display_data",
          "data": {
            "image/png": "[encoded data removed]",
            "text/plain": [
              "<Figure size 432x288 with 1 Axes>"
            ]
          },
          "metadata": {
            "tags": [],
            "needs_background": "light"
          }
        }
      ]
    },
    {
      "cell_type": "markdown",
      "metadata": {
        "id": "x0Y_kE9T0uAf"
      },
      "source": [
        "### 4.14 Create a new column called \"sentiment\". It should have value as 1 (positive) if the user_Rating is greater than 3, value as 0 (negative) if the user_Rating <= 3"
      ]
    },
    {
      "cell_type": "code",
      "metadata": {
        "id": "jGon-2xU1Ujb"
      },
      "source": [
        "filtered.loc[filtered[\"user_rating\"]>3, \"sentiment\"] = 1\n",
        "filtered.loc[filtered[\"user_rating\"]<=3, \"sentiment\"] = 0"
      ],
      "execution_count": 30,
      "outputs": []
    },
    {
      "cell_type": "code",
      "metadata": {
        "colab": {
          "base_uri": "https://localhost:8080/",
          "height": 203
        },
        "id": "_cCvoRcv5Sar",
        "outputId": "5fe3f238-00d1-4f59-fcc4-2f649a72a23f"
      },
      "source": [
        "filtered.head()"
      ],
      "execution_count": 31,
      "outputs": [
        {
          "output_type": "execute_result",
          "data": {
            "text/html": [
              "<div>\n",
              "<style scoped>\n",
              "    .dataframe tbody tr th:only-of-type {\n",
              "        vertical-align: middle;\n",
              "    }\n",
              "\n",
              "    .dataframe tbody tr th {\n",
              "        vertical-align: top;\n",
              "    }\n",
              "\n",
              "    .dataframe thead th {\n",
              "        text-align: right;\n",
              "    }\n",
              "</style>\n",
              "<table border=\"1\" class=\"dataframe\">\n",
              "  <thead>\n",
              "    <tr style=\"text-align: right;\">\n",
              "      <th></th>\n",
              "      <th>brand</th>\n",
              "      <th>body</th>\n",
              "      <th>price</th>\n",
              "      <th>user_rating</th>\n",
              "      <th>review_title</th>\n",
              "      <th>sentiment</th>\n",
              "    </tr>\n",
              "  </thead>\n",
              "  <tbody>\n",
              "    <tr>\n",
              "      <th>14</th>\n",
              "      <td>Motorola</td>\n",
              "      <td>DON'T BUY OUT OF SERVICE</td>\n",
              "      <td>49.9500000</td>\n",
              "      <td>1</td>\n",
              "      <td>Stupid phone</td>\n",
              "      <td>0.0000000</td>\n",
              "    </tr>\n",
              "    <tr>\n",
              "      <th>17</th>\n",
              "      <td>Motorola</td>\n",
              "      <td>1 star because the phones locked so I have to ...</td>\n",
              "      <td>49.9500000</td>\n",
              "      <td>1</td>\n",
              "      <td>Phones locked</td>\n",
              "      <td>0.0000000</td>\n",
              "    </tr>\n",
              "    <tr>\n",
              "      <th>18</th>\n",
              "      <td>Motorola</td>\n",
              "      <td>The product has been very good. I had used thi...</td>\n",
              "      <td>49.9500000</td>\n",
              "      <td>5</td>\n",
              "      <td>Excellent product</td>\n",
              "      <td>1.0000000</td>\n",
              "    </tr>\n",
              "    <tr>\n",
              "      <th>21</th>\n",
              "      <td>Motorola</td>\n",
              "      <td>I bought this phone to replace an LG phone tha...</td>\n",
              "      <td>99.9900000</td>\n",
              "      <td>4</td>\n",
              "      <td>Nice, but</td>\n",
              "      <td>1.0000000</td>\n",
              "    </tr>\n",
              "    <tr>\n",
              "      <th>22</th>\n",
              "      <td>Motorola</td>\n",
              "      <td>I purchased this phone for my AT&amp;T phone repla...</td>\n",
              "      <td>99.9900000</td>\n",
              "      <td>1</td>\n",
              "      <td>It seems it doesn't work with the existing AT&amp;...</td>\n",
              "      <td>0.0000000</td>\n",
              "    </tr>\n",
              "  </tbody>\n",
              "</table>\n",
              "</div>"
            ],
            "text/plain": [
              "       brand                                               body      price  \\\n",
              "14  Motorola                           DON'T BUY OUT OF SERVICE 49.9500000   \n",
              "17  Motorola  1 star because the phones locked so I have to ... 49.9500000   \n",
              "18  Motorola  The product has been very good. I had used thi... 49.9500000   \n",
              "21  Motorola  I bought this phone to replace an LG phone tha... 99.9900000   \n",
              "22  Motorola  I purchased this phone for my AT&T phone repla... 99.9900000   \n",
              "\n",
              "    user_rating                                       review_title  sentiment  \n",
              "14            1                                       Stupid phone  0.0000000  \n",
              "17            1                                      Phones locked  0.0000000  \n",
              "18            5                                  Excellent product  1.0000000  \n",
              "21            4                                          Nice, but  1.0000000  \n",
              "22            1  It seems it doesn't work with the existing AT&...  0.0000000  "
            ]
          },
          "metadata": {
            "tags": []
          },
          "execution_count": 31
        }
      ]
    },
    {
      "cell_type": "markdown",
      "metadata": {
        "id": "K4rxSZWp1VAb"
      },
      "source": [
        "### 4.15 Check frequency distribution of the 'sentiment'"
      ]
    },
    {
      "cell_type": "code",
      "metadata": {
        "id": "yt3gH7Iz1dVP",
        "colab": {
          "base_uri": "https://localhost:8080/",
          "height": 282
        },
        "outputId": "8bfdfc93-ed6e-4b54-e0eb-0d71f81478ea"
      },
      "source": [
        "filtered[\"sentiment\"].plot(kind=\"hist\")"
      ],
      "execution_count": 32,
      "outputs": [
        {
          "output_type": "execute_result",
          "data": {
            "text/plain": [
              "<matplotlib.axes._subplots.AxesSubplot at 0x7ff0a781fd10>"
            ]
          },
          "metadata": {
            "tags": []
          },
          "execution_count": 32
        },
        {
          "output_type": "display_data",
          "data": {
            "image/png": "[encoded data removed]",
            "text/plain": [
              "<Figure size 432x288 with 1 Axes>"
            ]
          },
          "metadata": {
            "tags": [],
            "needs_background": "light"
          }
        }
      ]
    },
    {
      "cell_type": "markdown",
      "metadata": {
        "id": "rK0KMghP1ddb"
      },
      "source": [
        "### 4.16 Perform bivariate analysis. Check correlation/crosstab between features and write your inferences."
      ]
    },
    {
      "cell_type": "code",
      "metadata": {
        "id": "scAV4fRg1nX0",
        "colab": {
          "base_uri": "https://localhost:8080/",
          "height": 142
        },
        "outputId": "412e83cc-9be1-430d-ea65-5d1d0ae0bd97"
      },
      "source": [
        "filtered.corr()"
      ],
      "execution_count": 33,
      "outputs": [
        {
          "output_type": "execute_result",
          "data": {
            "text/html": [
              "<div>\n",
              "<style scoped>\n",
              "    .dataframe tbody tr th:only-of-type {\n",
              "        vertical-align: middle;\n",
              "    }\n",
              "\n",
              "    .dataframe tbody tr th {\n",
              "        vertical-align: top;\n",
              "    }\n",
              "\n",
              "    .dataframe thead th {\n",
              "        text-align: right;\n",
              "    }\n",
              "</style>\n",
              "<table border=\"1\" class=\"dataframe\">\n",
              "  <thead>\n",
              "    <tr style=\"text-align: right;\">\n",
              "      <th></th>\n",
              "      <th>price</th>\n",
              "      <th>user_rating</th>\n",
              "      <th>sentiment</th>\n",
              "    </tr>\n",
              "  </thead>\n",
              "  <tbody>\n",
              "    <tr>\n",
              "      <th>price</th>\n",
              "      <td>1.0000000</td>\n",
              "      <td>0.0506117</td>\n",
              "      <td>0.0471113</td>\n",
              "    </tr>\n",
              "    <tr>\n",
              "      <th>user_rating</th>\n",
              "      <td>0.0506117</td>\n",
              "      <td>1.0000000</td>\n",
              "      <td>0.9338886</td>\n",
              "    </tr>\n",
              "    <tr>\n",
              "      <th>sentiment</th>\n",
              "      <td>0.0471113</td>\n",
              "      <td>0.9338886</td>\n",
              "      <td>1.0000000</td>\n",
              "    </tr>\n",
              "  </tbody>\n",
              "</table>\n",
              "</div>"
            ],
            "text/plain": [
              "                price  user_rating  sentiment\n",
              "price       1.0000000    0.0506117  0.0471113\n",
              "user_rating 0.0506117    1.0000000  0.9338886\n",
              "sentiment   0.0471113    0.9338886  1.0000000"
            ]
          },
          "metadata": {
            "tags": []
          },
          "execution_count": 33
        }
      ]
    },
    {
      "cell_type": "code",
      "metadata": {
        "colab": {
          "base_uri": "https://localhost:8080/",
          "height": 388
        },
        "id": "udSKEyT77RGf",
        "outputId": "d38b8469-f904-4e62-b787-dc5a3a61b275"
      },
      "source": [
        "pd.crosstab(filtered[\"brand\"], [filtered[\"sentiment\"]], rownames=['brand'], colnames=['sentiment']).apply(lambda x: x/x.sum(), axis=1)"
      ],
      "execution_count": 34,
      "outputs": [
        {
          "output_type": "execute_result",
          "data": {
            "text/html": [
              "<div>\n",
              "<style scoped>\n",
              "    .dataframe tbody tr th:only-of-type {\n",
              "        vertical-align: middle;\n",
              "    }\n",
              "\n",
              "    .dataframe tbody tr th {\n",
              "        vertical-align: top;\n",
              "    }\n",
              "\n",
              "    .dataframe thead th {\n",
              "        text-align: right;\n",
              "    }\n",
              "</style>\n",
              "<table border=\"1\" class=\"dataframe\">\n",
              "  <thead>\n",
              "    <tr style=\"text-align: right;\">\n",
              "      <th>sentiment</th>\n",
              "      <th>0.0000000</th>\n",
              "      <th>1.0000000</th>\n",
              "    </tr>\n",
              "    <tr>\n",
              "      <th>brand</th>\n",
              "      <th></th>\n",
              "      <th></th>\n",
              "    </tr>\n",
              "  </thead>\n",
              "  <tbody>\n",
              "    <tr>\n",
              "      <th>ASUS</th>\n",
              "      <td>0.3349515</td>\n",
              "      <td>0.6650485</td>\n",
              "    </tr>\n",
              "    <tr>\n",
              "      <th>Apple</th>\n",
              "      <td>0.3336751</td>\n",
              "      <td>0.6663249</td>\n",
              "    </tr>\n",
              "    <tr>\n",
              "      <th>Google</th>\n",
              "      <td>0.3196333</td>\n",
              "      <td>0.6803667</td>\n",
              "    </tr>\n",
              "    <tr>\n",
              "      <th>HUAWEI</th>\n",
              "      <td>0.1831610</td>\n",
              "      <td>0.8168390</td>\n",
              "    </tr>\n",
              "    <tr>\n",
              "      <th>Motorola</th>\n",
              "      <td>0.2877884</td>\n",
              "      <td>0.7122116</td>\n",
              "    </tr>\n",
              "    <tr>\n",
              "      <th>Nokia</th>\n",
              "      <td>0.3849339</td>\n",
              "      <td>0.6150661</td>\n",
              "    </tr>\n",
              "    <tr>\n",
              "      <th>OnePlus</th>\n",
              "      <td>0.1480263</td>\n",
              "      <td>0.8519737</td>\n",
              "    </tr>\n",
              "    <tr>\n",
              "      <th>Samsung</th>\n",
              "      <td>0.3034624</td>\n",
              "      <td>0.6965376</td>\n",
              "    </tr>\n",
              "    <tr>\n",
              "      <th>Sony</th>\n",
              "      <td>0.3266444</td>\n",
              "      <td>0.6733556</td>\n",
              "    </tr>\n",
              "    <tr>\n",
              "      <th>Xiaomi</th>\n",
              "      <td>0.1492750</td>\n",
              "      <td>0.8507250</td>\n",
              "    </tr>\n",
              "  </tbody>\n",
              "</table>\n",
              "</div>"
            ],
            "text/plain": [
              "sentiment  0.0000000  1.0000000\n",
              "brand                          \n",
              "ASUS       0.3349515  0.6650485\n",
              "Apple      0.3336751  0.6663249\n",
              "Google     0.3196333  0.6803667\n",
              "HUAWEI     0.1831610  0.8168390\n",
              "Motorola   0.2877884  0.7122116\n",
              "Nokia      0.3849339  0.6150661\n",
              "OnePlus    0.1480263  0.8519737\n",
              "Samsung    0.3034624  0.6965376\n",
              "Sony       0.3266444  0.6733556\n",
              "Xiaomi     0.1492750  0.8507250"
            ]
          },
          "metadata": {
            "tags": []
          },
          "execution_count": 34
        }
      ]
    },
    {
      "cell_type": "code",
      "metadata": {
        "colab": {
          "base_uri": "https://localhost:8080/",
          "height": 296
        },
        "id": "-lYihqN7_DG4",
        "outputId": "c309a14e-f6ba-4ff6-ecd0-604564763ecc"
      },
      "source": [
        "sns.boxplot(filtered[\"sentiment\"], filtered[\"price\"])"
      ],
      "execution_count": 35,
      "outputs": [
        {
          "output_type": "execute_result",
          "data": {
            "text/plain": [
              "<matplotlib.axes._subplots.AxesSubplot at 0x7ff0a77a5990>"
            ]
          },
          "metadata": {
            "tags": []
          },
          "execution_count": 35
        },
        {
          "output_type": "display_data",
          "data": {
            "image/png": "[encoded data removed]",
            "text/plain": [
              "<Figure size 432x288 with 1 Axes>"
            ]
          },
          "metadata": {
            "tags": [],
            "needs_background": "light"
          }
        }
      ]
    },
    {
      "cell_type": "markdown",
      "metadata": {
        "id": "2Nzj7ZXVLakx"
      },
      "source": [
        "## 5. Text Preprocessing and Vectorization"
      ]
    },
    {
      "cell_type": "markdown",
      "metadata": {
        "id": "ZbC_RPndnlf3"
      },
      "source": [
        "We will analyze the 'body' and 'review_title' to gain more understanding.\n",
        "\n",
        "We will peform the below tasks\n",
        "\n",
        "- Convert the text into lowercase\n",
        "- Remove punctuation\n",
        "- Remove stopwords (English, from nltk corpus)\n",
        "- Remove other keywords like \"phone\" and brand name"
      ]
    },
    {
      "cell_type": "markdown",
      "metadata": {
        "id": "XnhMQsxz2DJH"
      },
      "source": [
        "### 5.1 Change the datatype of the 'body' column to 'str' and convert it into lowercase. Print any two samples and check the output."
      ]
    },
    {
      "cell_type": "code",
      "metadata": {
        "id": "1DbTf2yc2VOQ",
        "colab": {
          "base_uri": "https://localhost:8080/"
        },
        "outputId": "85989edb-b855-4a83-eef4-c11e5f0a93bd"
      },
      "source": [
        "filtered[\"body\"].dtype"
      ],
      "execution_count": 36,
      "outputs": [
        {
          "output_type": "execute_result",
          "data": {
            "text/plain": [
              "dtype('O')"
            ]
          },
          "metadata": {
            "tags": []
          },
          "execution_count": 36
        }
      ]
    },
    {
      "cell_type": "code",
      "metadata": {
        "id": "KCqzKF5qAuCT"
      },
      "source": [
        "filtered[\"body\"] = filtered[\"body\"].apply(str)"
      ],
      "execution_count": 37,
      "outputs": []
    },
    {
      "cell_type": "code",
      "metadata": {
        "id": "gab_tLbIBYNM"
      },
      "source": [
        "filtered[\"body\"] = filtered[\"body\"].apply(lambda x: x.lower())"
      ],
      "execution_count": 38,
      "outputs": []
    },
    {
      "cell_type": "code",
      "metadata": {
        "colab": {
          "base_uri": "https://localhost:8080/",
          "height": 203
        },
        "id": "B_tiP7csB2rn",
        "outputId": "cf6bc72a-e0a0-421c-9a2e-3930be3540e3"
      },
      "source": [
        "filtered.sample(n=5)"
      ],
      "execution_count": 39,
      "outputs": [
        {
          "output_type": "execute_result",
          "data": {
            "text/html": [
              "<div>\n",
              "<style scoped>\n",
              "    .dataframe tbody tr th:only-of-type {\n",
              "        vertical-align: middle;\n",
              "    }\n",
              "\n",
              "    .dataframe tbody tr th {\n",
              "        vertical-align: top;\n",
              "    }\n",
              "\n",
              "    .dataframe thead th {\n",
              "        text-align: right;\n",
              "    }\n",
              "</style>\n",
              "<table border=\"1\" class=\"dataframe\">\n",
              "  <thead>\n",
              "    <tr style=\"text-align: right;\">\n",
              "      <th></th>\n",
              "      <th>brand</th>\n",
              "      <th>body</th>\n",
              "      <th>price</th>\n",
              "      <th>user_rating</th>\n",
              "      <th>review_title</th>\n",
              "      <th>sentiment</th>\n",
              "    </tr>\n",
              "  </thead>\n",
              "  <tbody>\n",
              "    <tr>\n",
              "      <th>28170</th>\n",
              "      <td>Sony</td>\n",
              "      <td>good phone but after update 7.0 there is a voi...</td>\n",
              "      <td>269.9900000</td>\n",
              "      <td>4</td>\n",
              "      <td>Good phone but after update 7</td>\n",
              "      <td>1.0000000</td>\n",
              "    </tr>\n",
              "    <tr>\n",
              "      <th>65015</th>\n",
              "      <td>Samsung</td>\n",
              "      <td>love the face recognition! fingerprint reader ...</td>\n",
              "      <td>299.5000000</td>\n",
              "      <td>5</td>\n",
              "      <td>great camera!</td>\n",
              "      <td>1.0000000</td>\n",
              "    </tr>\n",
              "    <tr>\n",
              "      <th>50431</th>\n",
              "      <td>HUAWEI</td>\n",
              "      <td>this phone works like a dream..</td>\n",
              "      <td>229.9900000</td>\n",
              "      <td>5</td>\n",
              "      <td>A good buy</td>\n",
              "      <td>1.0000000</td>\n",
              "    </tr>\n",
              "    <tr>\n",
              "      <th>7449</th>\n",
              "      <td>Samsung</td>\n",
              "      <td>i purchased this phone to upgrade from my s3. ...</td>\n",
              "      <td>0.0000000</td>\n",
              "      <td>4</td>\n",
              "      <td>Nice Upgrade From The S3</td>\n",
              "      <td>1.0000000</td>\n",
              "    </tr>\n",
              "    <tr>\n",
              "      <th>65986</th>\n",
              "      <td>Samsung</td>\n",
              "      <td>better than expected. works great on metropcs</td>\n",
              "      <td>334.9900000</td>\n",
              "      <td>5</td>\n",
              "      <td>Must buy</td>\n",
              "      <td>1.0000000</td>\n",
              "    </tr>\n",
              "  </tbody>\n",
              "</table>\n",
              "</div>"
            ],
            "text/plain": [
              "         brand                                               body       price  \\\n",
              "28170     Sony  good phone but after update 7.0 there is a voi... 269.9900000   \n",
              "65015  Samsung  love the face recognition! fingerprint reader ... 299.5000000   \n",
              "50431   HUAWEI                    this phone works like a dream.. 229.9900000   \n",
              "7449   Samsung  i purchased this phone to upgrade from my s3. ...   0.0000000   \n",
              "65986  Samsung      better than expected. works great on metropcs 334.9900000   \n",
              "\n",
              "       user_rating                   review_title  sentiment  \n",
              "28170            4  Good phone but after update 7  1.0000000  \n",
              "65015            5                  great camera!  1.0000000  \n",
              "50431            5                     A good buy  1.0000000  \n",
              "7449             4       Nice Upgrade From The S3  1.0000000  \n",
              "65986            5                       Must buy  1.0000000  "
            ]
          },
          "metadata": {
            "tags": []
          },
          "execution_count": 39
        }
      ]
    },
    {
      "cell_type": "markdown",
      "metadata": {
        "id": "lsppV0X52VXf"
      },
      "source": [
        "### 5.2 Remove punctuations from the lowercased 'body' column and display at least two samples."
      ]
    },
    {
      "cell_type": "code",
      "metadata": {
        "id": "lQXKc8et2onG"
      },
      "source": [
        "filtered[\"body\"] = filtered['body'].str.replace('[^\\w\\s]','')"
      ],
      "execution_count": 40,
      "outputs": []
    },
    {
      "cell_type": "code",
      "metadata": {
        "colab": {
          "base_uri": "https://localhost:8080/",
          "height": 203
        },
        "id": "NUZ0dPRtCqI8",
        "outputId": "c6dad0e7-a51f-4eb0-91fb-084ad35af939"
      },
      "source": [
        "filtered.sample(n=5)"
      ],
      "execution_count": 41,
      "outputs": [
        {
          "output_type": "execute_result",
          "data": {
            "text/html": [
              "<div>\n",
              "<style scoped>\n",
              "    .dataframe tbody tr th:only-of-type {\n",
              "        vertical-align: middle;\n",
              "    }\n",
              "\n",
              "    .dataframe tbody tr th {\n",
              "        vertical-align: top;\n",
              "    }\n",
              "\n",
              "    .dataframe thead th {\n",
              "        text-align: right;\n",
              "    }\n",
              "</style>\n",
              "<table border=\"1\" class=\"dataframe\">\n",
              "  <thead>\n",
              "    <tr style=\"text-align: right;\">\n",
              "      <th></th>\n",
              "      <th>brand</th>\n",
              "      <th>body</th>\n",
              "      <th>price</th>\n",
              "      <th>user_rating</th>\n",
              "      <th>review_title</th>\n",
              "      <th>sentiment</th>\n",
              "    </tr>\n",
              "  </thead>\n",
              "  <tbody>\n",
              "    <tr>\n",
              "      <th>28523</th>\n",
              "      <td>Google</td>\n",
              "      <td>pure lies  plain and simple the paint is chipp...</td>\n",
              "      <td>185.0000000</td>\n",
              "      <td>1</td>\n",
              "      <td>Phone has excessive signs of wear: the adverti...</td>\n",
              "      <td>0.0000000</td>\n",
              "    </tr>\n",
              "    <tr>\n",
              "      <th>42310</th>\n",
              "      <td>Samsung</td>\n",
              "      <td>bad bad bad</td>\n",
              "      <td>429.9700000</td>\n",
              "      <td>1</td>\n",
              "      <td>Bad bad</td>\n",
              "      <td>0.0000000</td>\n",
              "    </tr>\n",
              "    <tr>\n",
              "      <th>51796</th>\n",
              "      <td>Xiaomi</td>\n",
              "      <td>confiable confortable and really good product</td>\n",
              "      <td>159.4900000</td>\n",
              "      <td>5</td>\n",
              "      <td>Great choice</td>\n",
              "      <td>1.0000000</td>\n",
              "    </tr>\n",
              "    <tr>\n",
              "      <th>42070</th>\n",
              "      <td>Nokia</td>\n",
              "      <td>this phone has good features but is really slow</td>\n",
              "      <td>194.9700000</td>\n",
              "      <td>2</td>\n",
              "      <td>slow</td>\n",
              "      <td>0.0000000</td>\n",
              "    </tr>\n",
              "    <tr>\n",
              "      <th>58937</th>\n",
              "      <td>Samsung</td>\n",
              "      <td>great phone great battery life really glad i b...</td>\n",
              "      <td>649.9900000</td>\n",
              "      <td>5</td>\n",
              "      <td>Great phone</td>\n",
              "      <td>1.0000000</td>\n",
              "    </tr>\n",
              "  </tbody>\n",
              "</table>\n",
              "</div>"
            ],
            "text/plain": [
              "         brand                                               body       price  \\\n",
              "28523   Google  pure lies  plain and simple the paint is chipp... 185.0000000   \n",
              "42310  Samsung                                        bad bad bad 429.9700000   \n",
              "51796   Xiaomi      confiable confortable and really good product 159.4900000   \n",
              "42070    Nokia    this phone has good features but is really slow 194.9700000   \n",
              "58937  Samsung  great phone great battery life really glad i b... 649.9900000   \n",
              "\n",
              "       user_rating                                       review_title  \\\n",
              "28523            1  Phone has excessive signs of wear: the adverti...   \n",
              "42310            1                                            Bad bad   \n",
              "51796            5                                       Great choice   \n",
              "42070            2                                               slow   \n",
              "58937            5                                        Great phone   \n",
              "\n",
              "       sentiment  \n",
              "28523  0.0000000  \n",
              "42310  0.0000000  \n",
              "51796  1.0000000  \n",
              "42070  0.0000000  \n",
              "58937  1.0000000  "
            ]
          },
          "metadata": {
            "tags": []
          },
          "execution_count": 41
        }
      ]
    },
    {
      "cell_type": "markdown",
      "metadata": {
        "id": "8Zk7ja6A2owN"
      },
      "source": [
        "### 5.3 Remove stop words from the above pre-processed 'body' column and display at least two samples."
      ]
    },
    {
      "cell_type": "code",
      "metadata": {
        "colab": {
          "base_uri": "https://localhost:8080/"
        },
        "id": "mrHuoKYrGPpa",
        "outputId": "119ab428-93f2-4c85-c91e-a4d73e56e28d"
      },
      "source": [
        "!pip install nltk"
      ],
      "execution_count": 42,
      "outputs": [
        {
          "output_type": "stream",
          "text": [
            "Requirement already satisfied: nltk in /usr/local/lib/python3.7/dist-packages (3.2.5)\n",
            "Requirement already satisfied: six in /usr/local/lib/python3.7/dist-packages (from nltk) (1.15.0)\n"
          ],
          "name": "stdout"
        }
      ]
    },
    {
      "cell_type": "code",
      "metadata": {
        "id": "1d-DhX_e2yQ-",
        "colab": {
          "base_uri": "https://localhost:8080/"
        },
        "outputId": "1757e8a1-3a86-4cfa-d5b6-1f7332223ec8"
      },
      "source": [
        "from nltk.corpus import stopwords\n",
        "import nltk\n",
        "nltk.download('stopwords')\n",
        "stop_words = set(stopwords.words('english'))\n",
        "\n",
        "def remove_stop(x):\n",
        "  final = []\n",
        "  words = x.split()\n",
        "  for word in words:\n",
        "    if not word in stop_words:\n",
        "      final.append(word)\n",
        "  return \" \".join(final)\n",
        "\n",
        "filtered[\"no_stop_body\"] = filtered[\"body\"].apply(remove_stop)"
      ],
      "execution_count": 43,
      "outputs": [
        {
          "output_type": "stream",
          "text": [
            "[nltk_data] Downloading package stopwords to /root/nltk_data...\n",
            "[nltk_data]   Package stopwords is already up-to-date!\n"
          ],
          "name": "stdout"
        }
      ]
    },
    {
      "cell_type": "code",
      "metadata": {
        "colab": {
          "base_uri": "https://localhost:8080/",
          "height": 287
        },
        "id": "I9xsu9gJF3BK",
        "outputId": "61833b92-ddbd-4964-9057-4e7f92059978"
      },
      "source": [
        "filtered.sample(5)"
      ],
      "execution_count": 44,
      "outputs": [
        {
          "output_type": "execute_result",
          "data": {
            "text/html": [
              "<div>\n",
              "<style scoped>\n",
              "    .dataframe tbody tr th:only-of-type {\n",
              "        vertical-align: middle;\n",
              "    }\n",
              "\n",
              "    .dataframe tbody tr th {\n",
              "        vertical-align: top;\n",
              "    }\n",
              "\n",
              "    .dataframe thead th {\n",
              "        text-align: right;\n",
              "    }\n",
              "</style>\n",
              "<table border=\"1\" class=\"dataframe\">\n",
              "  <thead>\n",
              "    <tr style=\"text-align: right;\">\n",
              "      <th></th>\n",
              "      <th>brand</th>\n",
              "      <th>body</th>\n",
              "      <th>price</th>\n",
              "      <th>user_rating</th>\n",
              "      <th>review_title</th>\n",
              "      <th>sentiment</th>\n",
              "      <th>no_stop_body</th>\n",
              "    </tr>\n",
              "  </thead>\n",
              "  <tbody>\n",
              "    <tr>\n",
              "      <th>10377</th>\n",
              "      <td>Samsung</td>\n",
              "      <td>i love this phone it is so worth the money and...</td>\n",
              "      <td>0.0000000</td>\n",
              "      <td>5</td>\n",
              "      <td>I love this phone it is so worth the money and...</td>\n",
              "      <td>1.0000000</td>\n",
              "      <td>love phone worth money would recommend item co...</td>\n",
              "    </tr>\n",
              "    <tr>\n",
              "      <th>69099</th>\n",
              "      <td>Motorola</td>\n",
              "      <td>gave this phone to my brother today for his bi...</td>\n",
              "      <td>89.9900000</td>\n",
              "      <td>5</td>\n",
              "      <td>Highly recommend durable mobil phone</td>\n",
              "      <td>1.0000000</td>\n",
              "      <td>gave phone brother today birthday shipped adve...</td>\n",
              "    </tr>\n",
              "    <tr>\n",
              "      <th>27139</th>\n",
              "      <td>Samsung</td>\n",
              "      <td>i bought a refurbished phone from the seller e...</td>\n",
              "      <td>0.0000000</td>\n",
              "      <td>5</td>\n",
              "      <td>I bought a refurbished one</td>\n",
              "      <td>1.0000000</td>\n",
              "      <td>bought refurbished phone seller edge cellular ...</td>\n",
              "    </tr>\n",
              "    <tr>\n",
              "      <th>21806</th>\n",
              "      <td>Samsung</td>\n",
              "      <td>great device only one flaw the headphones that...</td>\n",
              "      <td>300.5500000</td>\n",
              "      <td>4</td>\n",
              "      <td>HEADPHONES DON'T FIT IN THE HEADPHONE JACK</td>\n",
              "      <td>1.0000000</td>\n",
              "      <td>great device one flaw headphones came phone di...</td>\n",
              "    </tr>\n",
              "    <tr>\n",
              "      <th>54852</th>\n",
              "      <td>Samsung</td>\n",
              "      <td>i love this phone looked perfectly new when i ...</td>\n",
              "      <td>324.9900000</td>\n",
              "      <td>5</td>\n",
              "      <td>You won't be dissapointed.</td>\n",
              "      <td>1.0000000</td>\n",
              "      <td>love phone looked perfectly new received may p...</td>\n",
              "    </tr>\n",
              "  </tbody>\n",
              "</table>\n",
              "</div>"
            ],
            "text/plain": [
              "          brand                                               body  \\\n",
              "10377   Samsung  i love this phone it is so worth the money and...   \n",
              "69099  Motorola  gave this phone to my brother today for his bi...   \n",
              "27139   Samsung  i bought a refurbished phone from the seller e...   \n",
              "21806   Samsung  great device only one flaw the headphones that...   \n",
              "54852   Samsung  i love this phone looked perfectly new when i ...   \n",
              "\n",
              "            price  user_rating  \\\n",
              "10377   0.0000000            5   \n",
              "69099  89.9900000            5   \n",
              "27139   0.0000000            5   \n",
              "21806 300.5500000            4   \n",
              "54852 324.9900000            5   \n",
              "\n",
              "                                            review_title  sentiment  \\\n",
              "10377  I love this phone it is so worth the money and...  1.0000000   \n",
              "69099               Highly recommend durable mobil phone  1.0000000   \n",
              "27139                         I bought a refurbished one  1.0000000   \n",
              "21806         HEADPHONES DON'T FIT IN THE HEADPHONE JACK  1.0000000   \n",
              "54852                         You won't be dissapointed.  1.0000000   \n",
              "\n",
              "                                            no_stop_body  \n",
              "10377  love phone worth money would recommend item co...  \n",
              "69099  gave phone brother today birthday shipped adve...  \n",
              "27139  bought refurbished phone seller edge cellular ...  \n",
              "21806  great device one flaw headphones came phone di...  \n",
              "54852  love phone looked perfectly new received may p...  "
            ]
          },
          "metadata": {
            "tags": []
          },
          "execution_count": 44
        }
      ]
    },
    {
      "cell_type": "markdown",
      "metadata": {
        "id": "TQNvXay42yaQ"
      },
      "source": [
        "### 5.4 Apply lemmatisation on the above preprocessed text and display a few samples"
      ]
    },
    {
      "cell_type": "code",
      "metadata": {
        "id": "oQ1VfFaa3DET",
        "colab": {
          "base_uri": "https://localhost:8080/"
        },
        "outputId": "8085af40-72bc-4e08-9e79-a0251e1eaa7f"
      },
      "source": [
        "from nltk.stem import WordNetLemmatizer\n",
        "nltk.download('wordnet')\n",
        "lemmatizer = WordNetLemmatizer()\n",
        "def lemmatize(x):\n",
        "  final = []\n",
        "  words = x.split()\n",
        "  for word in words:\n",
        "    #print(f\"{word} ==> {lemmatizer.lemmatize(word)}\")\n",
        "    lemword = lemmatizer.lemmatize(word)\n",
        "    #if word != lemword:\n",
        "    #  print(f\"{word} ==> {lemword}\")\n",
        "    final.append(lemword)\n",
        "  return \" \".join(final)\n",
        "\n",
        "filtered[\"no_stop_body\"] = filtered[\"no_stop_body\"].apply(lemmatize)"
      ],
      "execution_count": 45,
      "outputs": [
        {
          "output_type": "stream",
          "text": [
            "[nltk_data] Downloading package wordnet to /root/nltk_data...\n",
            "[nltk_data]   Package wordnet is already up-to-date!\n"
          ],
          "name": "stdout"
        }
      ]
    },
    {
      "cell_type": "code",
      "metadata": {
        "colab": {
          "base_uri": "https://localhost:8080/",
          "height": 270
        },
        "id": "lBE1RO0BLnVV",
        "outputId": "d2e5e18b-5e91-4448-fdc8-cac5f4234d90"
      },
      "source": [
        "filtered.sample(5)"
      ],
      "execution_count": 46,
      "outputs": [
        {
          "output_type": "execute_result",
          "data": {
            "text/html": [
              "<div>\n",
              "<style scoped>\n",
              "    .dataframe tbody tr th:only-of-type {\n",
              "        vertical-align: middle;\n",
              "    }\n",
              "\n",
              "    .dataframe tbody tr th {\n",
              "        vertical-align: top;\n",
              "    }\n",
              "\n",
              "    .dataframe thead th {\n",
              "        text-align: right;\n",
              "    }\n",
              "</style>\n",
              "<table border=\"1\" class=\"dataframe\">\n",
              "  <thead>\n",
              "    <tr style=\"text-align: right;\">\n",
              "      <th></th>\n",
              "      <th>brand</th>\n",
              "      <th>body</th>\n",
              "      <th>price</th>\n",
              "      <th>user_rating</th>\n",
              "      <th>review_title</th>\n",
              "      <th>sentiment</th>\n",
              "      <th>no_stop_body</th>\n",
              "    </tr>\n",
              "  </thead>\n",
              "  <tbody>\n",
              "    <tr>\n",
              "      <th>66921</th>\n",
              "      <td>Xiaomi</td>\n",
              "      <td>very good phone i recommended</td>\n",
              "      <td>163.0000000</td>\n",
              "      <td>5</td>\n",
              "      <td>Good</td>\n",
              "      <td>1.0000000</td>\n",
              "      <td>good phone recommended</td>\n",
              "    </tr>\n",
              "    <tr>\n",
              "      <th>3565</th>\n",
              "      <td>Samsung</td>\n",
              "      <td>network connection issues  wifi  bluetooth not...</td>\n",
              "      <td>154.9700000</td>\n",
              "      <td>2</td>\n",
              "      <td>Everything works EXCEPT:</td>\n",
              "      <td>0.0000000</td>\n",
              "      <td>network connection issue wifi bluetooth working</td>\n",
              "    </tr>\n",
              "    <tr>\n",
              "      <th>50299</th>\n",
              "      <td>HUAWEI</td>\n",
              "      <td>i gave up iphone 7  bought huwai im very happy...</td>\n",
              "      <td>229.9900000</td>\n",
              "      <td>5</td>\n",
              "      <td>Best Phone in a small budget!</td>\n",
              "      <td>1.0000000</td>\n",
              "      <td>gave iphone 7 bought huwai im happy u hard dec...</td>\n",
              "    </tr>\n",
              "    <tr>\n",
              "      <th>16808</th>\n",
              "      <td>Motorola</td>\n",
              "      <td>this phone works nicely quick response take re...</td>\n",
              "      <td>149.9900000</td>\n",
              "      <td>5</td>\n",
              "      <td>This phone works nicely quick response</td>\n",
              "      <td>1.0000000</td>\n",
              "      <td>phone work nicely quick response take really n...</td>\n",
              "    </tr>\n",
              "    <tr>\n",
              "      <th>16948</th>\n",
              "      <td>Motorola</td>\n",
              "      <td>other than not able to root to use unlimited d...</td>\n",
              "      <td>149.9900000</td>\n",
              "      <td>4</td>\n",
              "      <td>... root to use unlimited data thru hotspot it...</td>\n",
              "      <td>1.0000000</td>\n",
              "      <td>able root use unlimited data thru hotspot grea...</td>\n",
              "    </tr>\n",
              "  </tbody>\n",
              "</table>\n",
              "</div>"
            ],
            "text/plain": [
              "          brand                                               body  \\\n",
              "66921    Xiaomi                      very good phone i recommended   \n",
              "3565    Samsung  network connection issues  wifi  bluetooth not...   \n",
              "50299    HUAWEI  i gave up iphone 7  bought huwai im very happy...   \n",
              "16808  Motorola  this phone works nicely quick response take re...   \n",
              "16948  Motorola  other than not able to root to use unlimited d...   \n",
              "\n",
              "            price  user_rating  \\\n",
              "66921 163.0000000            5   \n",
              "3565  154.9700000            2   \n",
              "50299 229.9900000            5   \n",
              "16808 149.9900000            5   \n",
              "16948 149.9900000            4   \n",
              "\n",
              "                                            review_title  sentiment  \\\n",
              "66921                                               Good  1.0000000   \n",
              "3565                            Everything works EXCEPT:  0.0000000   \n",
              "50299                      Best Phone in a small budget!  1.0000000   \n",
              "16808             This phone works nicely quick response  1.0000000   \n",
              "16948  ... root to use unlimited data thru hotspot it...  1.0000000   \n",
              "\n",
              "                                            no_stop_body  \n",
              "66921                             good phone recommended  \n",
              "3565     network connection issue wifi bluetooth working  \n",
              "50299  gave iphone 7 bought huwai im happy u hard dec...  \n",
              "16808  phone work nicely quick response take really n...  \n",
              "16948  able root use unlimited data thru hotspot grea...  "
            ]
          },
          "metadata": {
            "tags": []
          },
          "execution_count": 46
        }
      ]
    },
    {
      "cell_type": "markdown",
      "metadata": {
        "id": "OzweL_fA3DiN"
      },
      "source": [
        "### 5.6 Word Frequency (optional)"
      ]
    },
    {
      "cell_type": "code",
      "metadata": {
        "id": "MzIAyX3N6lz5",
        "colab": {
          "base_uri": "https://localhost:8080/"
        },
        "outputId": "3ea5c441-7b16-4aae-cf17-64f0af567c52"
      },
      "source": [
        "word_freq = {}\n",
        "def cal_word_freq(x):\n",
        "  words = x.split()\n",
        "  for word in words:\n",
        "    if word in word_freq:\n",
        "      word_freq[word] += 1\n",
        "    else:\n",
        "      word_freq[word] = 0\n",
        "filtered[\"no_stop_body\"].apply(cal_word_freq)\n",
        "len(word_freq)"
      ],
      "execution_count": 47,
      "outputs": [
        {
          "output_type": "execute_result",
          "data": {
            "text/plain": [
              "36109"
            ]
          },
          "metadata": {
            "tags": []
          },
          "execution_count": 47
        }
      ]
    },
    {
      "cell_type": "code",
      "metadata": {
        "id": "Z2V6HwKNRjwB"
      },
      "source": [
        "dic = sorted(word_freq.items(), key=lambda x:x[1], reverse=True)"
      ],
      "execution_count": 48,
      "outputs": []
    },
    {
      "cell_type": "code",
      "metadata": {
        "colab": {
          "base_uri": "https://localhost:8080/"
        },
        "id": "7PcW7SsbS5Dw",
        "outputId": "1905a587-b3b0-4e4c-9df7-f7f0fd0d5819"
      },
      "source": [
        "res = next(iter(dic))\n",
        "res"
      ],
      "execution_count": 49,
      "outputs": [
        {
          "output_type": "execute_result",
          "data": {
            "text/plain": [
              "('phone', 83386)"
            ]
          },
          "metadata": {
            "tags": []
          },
          "execution_count": 49
        }
      ]
    },
    {
      "cell_type": "markdown",
      "metadata": {
        "id": "9UbdTGsv60t1"
      },
      "source": [
        "### 5.6 Initialize tf-idf vectorizer and transform the preprocessed body text"
      ]
    },
    {
      "cell_type": "code",
      "metadata": {
        "id": "_Jfo6go_69yh",
        "colab": {
          "base_uri": "https://localhost:8080/"
        },
        "outputId": "d3e1ec63-f0cc-41b7-92e2-852b35af0b75"
      },
      "source": [
        "from sklearn.feature_extraction.text import TfidfVectorizer\n",
        "vectorizer = TfidfVectorizer()\n",
        "X = vectorizer.fit_transform(filtered[\"no_stop_body\"])\n",
        "X.shape"
      ],
      "execution_count": 50,
      "outputs": [
        {
          "output_type": "execute_result",
          "data": {
            "text/plain": [
              "(63162, 36065)"
            ]
          },
          "metadata": {
            "tags": []
          },
          "execution_count": 50
        }
      ]
    },
    {
      "cell_type": "markdown",
      "metadata": {
        "id": "5dqPXETLKN0h"
      },
      "source": [
        "### 5.7 Segregate the data into dependent (sentiment) and independent (transformed body using tf-idf) features for building a classifier. "
      ]
    },
    {
      "cell_type": "code",
      "metadata": {
        "id": "mpOLAYn07W6F"
      },
      "source": [
        "y = filtered[\"sentiment\"]"
      ],
      "execution_count": 51,
      "outputs": []
    },
    {
      "cell_type": "markdown",
      "metadata": {
        "id": "4K03FO0q7XBP"
      },
      "source": [
        "### 5.9 Split the data into Train & Test Sets"
      ]
    },
    {
      "cell_type": "code",
      "metadata": {
        "id": "D548-7cE7dZa"
      },
      "source": [
        "from sklearn.model_selection import train_test_split\n",
        "X_train, X_test, y_train, y_test = train_test_split(X, y, test_size=0.20, random_state=5)"
      ],
      "execution_count": 52,
      "outputs": []
    },
    {
      "cell_type": "markdown",
      "metadata": {
        "id": "rhD1a-beKvE7"
      },
      "source": [
        "## 6. Model building"
      ]
    },
    {
      "cell_type": "markdown",
      "metadata": {
        "id": "UPFovmN03exD"
      },
      "source": [
        "### 6.1 Build a random forest classifier to predict the 'sentiment'\n",
        "### 6.2 Predict on test set\n",
        "### 6.3 Check accuracy and confusion matrix"
      ]
    },
    {
      "cell_type": "code",
      "metadata": {
        "id": "y0ytdD-_30P9",
        "colab": {
          "base_uri": "https://localhost:8080/"
        },
        "outputId": "848b1d2b-2a9f-4293-f715-21293fbb1a5d"
      },
      "source": [
        "from sklearn.ensemble import RandomForestClassifier\n",
        "rf_clf1 = RandomForestClassifier()\n",
        "rf_clf1.fit(X_train, y_train)\n",
        "print(\"Training accuracy: {}\".format(rf_clf1.score(X_train, y_train)))\n",
        "print(\"Test accuracy: {}\".format(rf_clf1.score(X_test, y_test)))\n"
      ],
      "execution_count": 53,
      "outputs": [
        {
          "output_type": "stream",
          "text": [
            "Training accuracy: 0.9951908804844742\n",
            "Test accuracy: 0.89289954880076\n"
          ],
          "name": "stdout"
        }
      ]
    },
    {
      "cell_type": "code",
      "metadata": {
        "colab": {
          "base_uri": "https://localhost:8080/"
        },
        "id": "fyflYzYgxknH",
        "outputId": "14b69bbe-784c-47ac-f0cd-e7352da0fb2f"
      },
      "source": [
        "from sklearn.metrics import confusion_matrix\n",
        "confusion_matrix(y_test, rf_clf1.predict(X_test))"
      ],
      "execution_count": 54,
      "outputs": [
        {
          "output_type": "execute_result",
          "data": {
            "text/plain": [
              "array([[2829,  959],\n",
              "       [ 394, 8451]])"
            ]
          },
          "metadata": {
            "tags": []
          },
          "execution_count": 54
        }
      ]
    },
    {
      "cell_type": "markdown",
      "metadata": {
        "id": "Ey7an7ukLxWB"
      },
      "source": [
        "## 7. Write your conclusion"
      ]
    },
    {
      "cell_type": "markdown",
      "metadata": {
        "id": "EL7OqNHIxkEQ"
      },
      "source": [
        "**Observed:**\n",
        "\n",
        "- Test Accuracy: 89 while training accuracy is 99.5 which tells that our model is overfit.\n",
        "- True positive: 8439\n",
        "- True negative: 2851"
      ]
    },
    {
      "cell_type": "markdown",
      "metadata": {
        "id": "CD8lVNY0YLQD"
      },
      "source": [
        "##. 8. Further Explore\n",
        "### 8.0 Merge all independent features and the below text preprocessing steps\n",
        "### 8.1 Check rare words and drop them\n",
        "### 8.2 Remove emoticon/emojis\n",
        "### 8.3 Try different vectorizer for vectorization\n",
        "### 8.4 Use embeddings\n",
        "### 8.5 Use NN based models"
      ]
    },
    {
      "cell_type": "markdown",
      "metadata": {
        "id": "9Otj8DKJ022R"
      },
      "source": [
        "## Drop 50% of words having least occurance frequency"
      ]
    },
    {
      "cell_type": "code",
      "metadata": {
        "id": "s0Fl7QBn0dU6"
      },
      "source": [
        "import re\n",
        "def deEmojify(text):\n",
        "    regrex_pattern = re.compile(pattern = \"[\"\n",
        "        u\"\\U0001F600-\\U0001F64F\"  # emoticons\n",
        "        u\"\\U0001F300-\\U0001F5FF\"  # symbols & pictographs\n",
        "        u\"\\U0001F680-\\U0001F6FF\"  # transport & map symbols\n",
        "        u\"\\U0001F1E0-\\U0001F1FF\"  # flags (iOS)\n",
        "                           \"]+\", flags = re.UNICODE)\n",
        "    return regrex_pattern.sub(r'',text)"
      ],
      "execution_count": 53,
      "outputs": []
    },
    {
      "cell_type": "code",
      "metadata": {
        "id": "1imo7qwj499u"
      },
      "source": [
        "filtered[\"no_stop_body\"] = filtered[\"no_stop_body\"].apply(deEmojify)"
      ],
      "execution_count": 54,
      "outputs": []
    },
    {
      "cell_type": "code",
      "metadata": {
        "colab": {
          "base_uri": "https://localhost:8080/"
        },
        "id": "r73vYMiU5TaS",
        "outputId": "214b6a0f-bfe4-42f8-fd8d-381ff4217b5d"
      },
      "source": [
        "word_freq = {}\n",
        "def cal_word_freq(x):\n",
        "  words = x.split()\n",
        "  for word in words:\n",
        "    if word in word_freq:\n",
        "      word_freq[word] += 1\n",
        "    else:\n",
        "      word_freq[word] = 0\n",
        "filtered[\"no_stop_body\"].apply(cal_word_freq)\n",
        "len(word_freq)"
      ],
      "execution_count": 55,
      "outputs": [
        {
          "output_type": "execute_result",
          "data": {
            "text/plain": [
              "36109"
            ]
          },
          "metadata": {
            "tags": []
          },
          "execution_count": 55
        }
      ]
    },
    {
      "cell_type": "code",
      "metadata": {
        "id": "bJEEmN3ZY5KJ"
      },
      "source": [
        "dic = {k:v for k,v in sorted(word_freq.items(), key=lambda x:x[1])}"
      ],
      "execution_count": 56,
      "outputs": []
    },
    {
      "cell_type": "code",
      "metadata": {
        "id": "09r4-7Ku0yVU"
      },
      "source": [
        "temp = dict(dic)\n",
        "diciter = iter(temp)\n",
        "to_remove = []\n",
        "for i in range(int((len(dic)*60)/100)):\n",
        "  try:\n",
        "    k = next(diciter)\n",
        "    #print(k[0])\n",
        "    to_remove.append(k)\n",
        "  except:\n",
        "    pass"
      ],
      "execution_count": 57,
      "outputs": []
    },
    {
      "cell_type": "code",
      "metadata": {
        "colab": {
          "base_uri": "https://localhost:8080/"
        },
        "id": "Pde57jrR2tDJ",
        "outputId": "2c2c311e-ccad-46ee-c10a-ba2e29207a8c"
      },
      "source": [
        "len(to_remove)"
      ],
      "execution_count": 58,
      "outputs": [
        {
          "output_type": "execute_result",
          "data": {
            "text/plain": [
              "21665"
            ]
          },
          "metadata": {
            "tags": []
          },
          "execution_count": 58
        }
      ]
    },
    {
      "cell_type": "code",
      "metadata": {
        "id": "LKIOB6kN5zrO"
      },
      "source": [
        "def remove_unwated_words(X):\n",
        "  words = X.split()\n",
        "  final = []\n",
        "  for word in words:\n",
        "    if word not in to_remove:\n",
        "        final.append(word)\n",
        "  return \" \".join(final)"
      ],
      "execution_count": 59,
      "outputs": []
    },
    {
      "cell_type": "code",
      "metadata": {
        "id": "Y7E8UGz-6g7x"
      },
      "source": [
        "filtered[\"no_stop_body\"] = filtered[\"no_stop_body\"].apply(remove_unwated_words)"
      ],
      "execution_count": 60,
      "outputs": []
    },
    {
      "cell_type": "code",
      "metadata": {
        "colab": {
          "base_uri": "https://localhost:8080/"
        },
        "id": "zSLMe2it7Tgu",
        "outputId": "be1311a3-5df8-436a-b15f-97a1a28baf4f"
      },
      "source": [
        "filtered.shape"
      ],
      "execution_count": 61,
      "outputs": [
        {
          "output_type": "execute_result",
          "data": {
            "text/plain": [
              "(63162, 7)"
            ]
          },
          "metadata": {
            "tags": []
          },
          "execution_count": 61
        }
      ]
    },
    {
      "cell_type": "code",
      "metadata": {
        "colab": {
          "base_uri": "https://localhost:8080/"
        },
        "id": "gQsIS-6J6paK",
        "outputId": "e2b9bcd5-5d9e-4fa0-c65e-39deda08de7c"
      },
      "source": [
        "from sklearn.feature_extraction.text import TfidfVectorizer\n",
        "vectorizer = TfidfVectorizer()\n",
        "X = vectorizer.fit_transform(filtered[\"no_stop_body\"])\n",
        "X.shape"
      ],
      "execution_count": 62,
      "outputs": [
        {
          "output_type": "execute_result",
          "data": {
            "text/plain": [
              "(63162, 14409)"
            ]
          },
          "metadata": {
            "tags": []
          },
          "execution_count": 62
        }
      ]
    },
    {
      "cell_type": "code",
      "metadata": {
        "id": "RdbsIxdT7LQP"
      },
      "source": [
        "y = filtered[\"sentiment\"]\n",
        "from sklearn.model_selection import train_test_split\n",
        "X_train, X_test, y_train, y_test = train_test_split(X, y, test_size=0.50, random_state=5)"
      ],
      "execution_count": 63,
      "outputs": []
    },
    {
      "cell_type": "code",
      "metadata": {
        "colab": {
          "base_uri": "https://localhost:8080/"
        },
        "id": "zgZODM-JCs_b",
        "outputId": "935d79e7-604d-4440-82f0-7434b91d16c5"
      },
      "source": [
        "from sklearn.ensemble import RandomForestClassifier\n",
        "rf_clf1 = RandomForestClassifier()\n",
        "rf_clf1.fit(X_train, y_train)\n",
        "print(\"Training accuracy: {}\".format(rf_clf1.score(X_train, y_train)))\n",
        "print(\"Test accuracy: {}\".format(rf_clf1.score(X_test, y_test)))"
      ],
      "execution_count": 66,
      "outputs": [
        {
          "output_type": "stream",
          "text": [
            "Training accuracy: 0.9951236502960641\n",
            "Test accuracy: 0.8885089135872835\n"
          ],
          "name": "stdout"
        }
      ]
    },
    {
      "cell_type": "code",
      "metadata": {
        "id": "3jLKa7y6rsZh"
      },
      "source": [
        ""
      ],
      "execution_count": 66,
      "outputs": []
    },
    {
      "cell_type": "code",
      "metadata": {
        "colab": {
          "base_uri": "https://localhost:8080/"
        },
        "id": "xB-A2_pxsVWj",
        "outputId": "dd491afd-1366-4b02-88e0-bbe2ead26b92"
      },
      "source": [
        "X_train.shape"
      ],
      "execution_count": 67,
      "outputs": [
        {
          "output_type": "execute_result",
          "data": {
            "text/plain": [
              "(31581, 14409)"
            ]
          },
          "metadata": {
            "tags": []
          },
          "execution_count": 67
        }
      ]
    },
    {
      "cell_type": "markdown",
      "metadata": {
        "id": "tB4UtpXCEDs5"
      },
      "source": [
        "*Using Neuran Network*"
      ]
    },
    {
      "cell_type": "code",
      "metadata": {
        "colab": {
          "base_uri": "https://localhost:8080/"
        },
        "id": "WpOISbxoCuKA",
        "outputId": "18b5a408-17db-43cd-d096-ff56a0c42577"
      },
      "source": [
        "from keras.models import Sequential\n",
        "from keras.layers import Dense\n",
        "X_train = X_train.toarray()\n",
        "#y_train = y_train.toarray()\n",
        "X_test = X_test.toarray()\n",
        "#y_test = y_test.toarray()\n",
        "model = Sequential()\n",
        "model.add(Dense(8, input_dim=X_train.shape[1], activation='relu'))\n",
        "model.add(Dense(8, activation='relu'))\n",
        "model.add(Dense(1, activation='sigmoid'))\n",
        "# compile the keras model\n",
        "model.compile(loss='binary_crossentropy', optimizer='adam', metrics=['accuracy'])\n",
        "# fit the keras model on the dataset\n",
        "model.fit(X_train, y_train, epochs=10, batch_size=1, validation_data=(X_test, y_test))\n",
        "# evaluate the keras model\n",
        "_, accuracy = model.evaluate(X_test, y_test)\n",
        "print('Accuracy: %.2f' % (accuracy*100))"
      ],
      "execution_count": null,
      "outputs": [
        {
          "output_type": "stream",
          "text": [
            "Epoch 1/10\n",
            "31581/31581 [==============================] - 109s 3ms/step - loss: 0.3476 - accuracy: 0.8464 - val_loss: 0.2638 - val_accuracy: 0.8905\n",
            "Epoch 2/10\n",
            "31581/31581 [==============================] - 80s 3ms/step - loss: 0.2247 - accuracy: 0.9115 - val_loss: 0.2737 - val_accuracy: 0.8904\n",
            "Epoch 3/10\n",
            "31581/31581 [==============================] - 77s 2ms/step - loss: 0.2012 - accuracy: 0.9245 - val_loss: 0.2725 - val_accuracy: 0.8933\n",
            "Epoch 4/10\n",
            "31581/31581 [==============================] - 79s 2ms/step - loss: 0.1819 - accuracy: 0.9332 - val_loss: 0.2869 - val_accuracy: 0.8937\n",
            "Epoch 5/10\n",
            "31581/31581 [==============================] - 94s 3ms/step - loss: 0.1643 - accuracy: 0.9405 - val_loss: 0.2893 - val_accuracy: 0.8900\n",
            "Epoch 6/10\n",
            "31581/31581 [==============================] - 92s 3ms/step - loss: 0.1597 - accuracy: 0.9439 - val_loss: 0.3059 - val_accuracy: 0.8897\n",
            "Epoch 7/10\n",
            "31581/31581 [==============================] - 93s 3ms/step - loss: 0.1507 - accuracy: 0.9453 - val_loss: 0.3199 - val_accuracy: 0.8883\n",
            "Epoch 8/10\n",
            "31581/31581 [==============================] - 78s 2ms/step - loss: 0.1362 - accuracy: 0.9531 - val_loss: 0.3274 - val_accuracy: 0.8893\n",
            "Epoch 9/10\n",
            "31581/31581 [==============================] - 77s 2ms/step - loss: 0.1303 - accuracy: 0.9535 - val_loss: 0.3442 - val_accuracy: 0.8857\n",
            "Epoch 10/10\n",
            "31581/31581 [==============================] - 93s 3ms/step - loss: 0.1276 - accuracy: 0.9560 - val_loss: 0.3681 - val_accuracy: 0.8876\n"
          ],
          "name": "stdout"
        }
      ]
    },
    {
      "cell_type": "markdown",
      "metadata": {
        "id": "mu8XQBCmKegH"
      },
      "source": [
        "**Observation**:\n",
        "\n",
        "Both Neural Network and RandomForest Classifier gave same performance.\n",
        "We can do hyper parameter turning in NN to increase the performance."
      ]
    }
  ]
}