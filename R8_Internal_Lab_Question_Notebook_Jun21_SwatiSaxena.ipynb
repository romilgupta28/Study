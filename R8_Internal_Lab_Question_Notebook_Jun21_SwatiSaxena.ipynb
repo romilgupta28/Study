{
 "cells": [
  {
   "cell_type": "markdown",
   "metadata": {
    "id": "PHYs6Z84xV8E"
   },
   "source": [
    "<img src=\"http://drive.google.com/uc?export=view&id=1tpOCamr9aWz817atPnyXus8w5gJ3mIts\" width=500px>\n",
    "\n",
    "Proprietary content. © Great Learning. All Rights Reserved. Unauthorized use or distribution prohibited."
   ]
  },
  {
   "cell_type": "markdown",
   "metadata": {
    "id": "5QQxgAmWzSye"
   },
   "source": [
    "# Mobile Phone Review Analysis"
   ]
  },
  {
   "cell_type": "markdown",
   "metadata": {
    "id": "FbwHYUXhxaqD"
   },
   "source": [
    "## Context\n",
    "\n",
    "The product companies can utilize the detailed review comments to gather insights from the end user. Most of the products are sold via e-commerce sites like Flipkart or Amazon where customers can buy a product and give their review about the product on the web site. \n",
    "Product managers can identify the relevant reviews from the website and run a sentiment analysis tool to understand what the sentiments of the customer are. Based on their sentiments, they can identify what users think of the current product. Are they happy? Discontent? \n",
    "They can also come up with a document that lists the features, the team needs to focus on for making the product better. \n",
    "\n",
    "## Objective\n",
    "\n",
    "Given the review data rating label, we will try to get insights about various brands and their ratings using text analytics and build a model to predict the rating and overall sentiment. \n"
   ]
  },
  {
   "cell_type": "markdown",
   "metadata": {
    "id": "CI7usguRzeox"
   },
   "source": [
    "### Package version\n",
    "\n",
    "- tensorflow==2.3.0\n",
    "- scikit-learn==0.22.2.post1\n",
    "- pandas==1.0.5\n",
    "- numpy==1.18.5\n",
    "- matplotlib==3.2.2\n",
    "- google==2.0.3"
   ]
  },
  {
   "cell_type": "markdown",
   "metadata": {
    "id": "aiMdVjHRH7NR"
   },
   "source": [
    "### Data Dictionary \n",
    "\n",
    "product_data.csv - contains product details\n",
    "- 'asin',  - Product ASIN\n",
    "- 'brand', - Product Brand\n",
    "- 'title', - Product Title\n",
    "- 'url',  - Product URL\n",
    "- 'image', - Product Image URL\n",
    "- 'rating',- Product Avg. Rating\n",
    "- 'reviewUrl' - Product Review Page URL\n",
    "- 'totalReviews' - Product Total Reviews\n",
    "- ‘price’ - Product Price ($)\n",
    "- ‘originalPrice’ - Product Original Price ($)\n",
    " \n",
    "reviews.csv  - contains user review details\n",
    " \n",
    "- 'asin' - Product ASIN\n",
    "- 'name' - Reviewer Name\n",
    "- 'rating' - Reviewer Rating (scale 1 to 5)\n",
    "- 'date'  - Review Date\n",
    "- 'verified' - Valid Customer\n",
    "- 'title'  - Review Title\n",
    "- 'body'  - Review Content\n",
    "- 'helpfulVotes  - Helpful Feedbacks\n"
   ]
  },
  {
   "cell_type": "markdown",
   "metadata": {
    "id": "cEn52o8jznJK"
   },
   "source": [
    "## Table of Content\n",
    "\n",
    "1. Import Libraries\n",
    "\n",
    "2. Setting options\n",
    "\n",
    "3. Read Data\n",
    "\n",
    "4. Data Analysis and EDA\n",
    "\n",
    "5. Text preprocessing and Vectorization\n",
    "\n",
    "6. Model building\n",
    "\n",
    "7. Conclusion and Interpretation"
   ]
  },
  {
   "cell_type": "code",
   "execution_count": 1,
   "metadata": {
    "colab": {
     "base_uri": "https://localhost:8080/"
    },
    "id": "sBut8gI1brYZ",
    "outputId": "1bf160ce-372d-4e79-a2e1-6477cbd61de4"
   },
   "outputs": [
    {
     "name": "stdout",
     "output_type": "stream",
     "text": [
      "Drive already mounted at /content/drive; to attempt to forcibly remount, call drive.mount(\"/content/drive\", force_remount=True).\n"
     ]
    }
   ],
   "source": [
    "from google.colab import drive\n",
    "drive.mount('/content/drive')"
   ]
  },
  {
   "cell_type": "code",
   "execution_count": 2,
   "metadata": {
    "id": "O2IkMIoGcIhi"
   },
   "outputs": [],
   "source": [
    "# read file into pandas using a relative path. Please change the path as needed\n",
    "import pandas as pd\n",
    "product_df = pd.read_csv('/content/drive/MyDrive/AI/NLP/Submission/product_data.csv')\n",
    "reviews_df = pd.read_csv('/content/drive/MyDrive/AI/NLP/Submission/reviews.csv')\n"
   ]
  },
  {
   "cell_type": "markdown",
   "metadata": {
    "id": "x_Lom6cXzqn7"
   },
   "source": [
    "## 1. Import Libraries"
   ]
  },
  {
   "cell_type": "markdown",
   "metadata": {
    "id": "Gv-tZoFjz2WD"
   },
   "source": [
    "Let us check for the version of installed tensorflow."
   ]
  },
  {
   "cell_type": "code",
   "execution_count": 3,
   "metadata": {
    "colab": {
     "base_uri": "https://localhost:8080/"
    },
    "id": "eiuUVBuDzzn9",
    "outputId": "e40f30b3-06c2-4a41-e52c-c80cb422fcf5"
   },
   "outputs": [
    {
     "name": "stdout",
     "output_type": "stream",
     "text": [
      "2.5.0\n"
     ]
    }
   ],
   "source": [
    "# used to supress display of warnings\n",
    "import warnings\n",
    "\n",
    "# os is used to provide a way of using operating system dependent functionality\n",
    "# We use it for setting working folder\n",
    "import os\n",
    "\n",
    "# Pandas is used for data manipulation and analysis\n",
    "import pandas as pd \n",
    "\n",
    "# Numpy is used for large, multi-dimensional arrays and matrices, along with mathematical operators on these arrays\n",
    "import numpy as np\n",
    "\n",
    "# Matplotlib is a data visualization library for 2D plots of arrays, built on NumPy arrays \n",
    "# and designed to work with the broader SciPy stack\n",
    "import matplotlib.pyplot as plt\n",
    "%matplotlib inline\n",
    "from matplotlib import pyplot\n",
    "\n",
    "# Seaborn is based on matplotlib, which aids in drawing attractive and informative statistical graphics.\n",
    "import seaborn as sns\n",
    "import tensorflow \n",
    "print(tensorflow.__version__)"
   ]
  },
  {
   "cell_type": "markdown",
   "metadata": {
    "id": "fze-aokU0ukH"
   },
   "source": [
    "## 2. Setting Options"
   ]
  },
  {
   "cell_type": "code",
   "execution_count": 4,
   "metadata": {
    "id": "T3FALggG0xXa"
   },
   "outputs": [],
   "source": [
    "# suppress display of warnings\n",
    "warnings.filterwarnings('ignore')\n",
    "\n",
    "# display all dataframe columns\n",
    "pd.options.display.max_columns = None\n",
    "\n",
    "# to set the limit to 3 decimals\n",
    "pd.options.display.float_format = '{:.7f}'.format\n",
    "\n",
    "# display all dataframe rows\n",
    "pd.options.display.max_rows = None"
   ]
  },
  {
   "cell_type": "markdown",
   "metadata": {
    "id": "ZT1P1WdK1vfZ"
   },
   "source": [
    "## 3. Read Data"
   ]
  },
  {
   "cell_type": "markdown",
   "metadata": {
    "id": "-UOW6zwww7L1"
   },
   "source": [
    "### 3.1 Read the provided CSVs and check 5 random samples and shape to understand the datasets"
   ]
  },
  {
   "cell_type": "code",
   "execution_count": 5,
   "metadata": {
    "colab": {
     "base_uri": "https://localhost:8080/",
     "height": 306
    },
    "id": "nxT2g284xF1W",
    "outputId": "bbd9527f-aad8-449b-be8c-8c3b823b5ff4"
   },
   "outputs": [
    {
     "data": {
      "text/html": [
       "<div>\n",
       "<style scoped>\n",
       "    .dataframe tbody tr th:only-of-type {\n",
       "        vertical-align: middle;\n",
       "    }\n",
       "\n",
       "    .dataframe tbody tr th {\n",
       "        vertical-align: top;\n",
       "    }\n",
       "\n",
       "    .dataframe thead th {\n",
       "        text-align: right;\n",
       "    }\n",
       "</style>\n",
       "<table border=\"1\" class=\"dataframe\">\n",
       "  <thead>\n",
       "    <tr style=\"text-align: right;\">\n",
       "      <th></th>\n",
       "      <th>asin</th>\n",
       "      <th>brand</th>\n",
       "      <th>title</th>\n",
       "      <th>url</th>\n",
       "      <th>image</th>\n",
       "      <th>rating</th>\n",
       "      <th>reviewUrl</th>\n",
       "      <th>totalReviews</th>\n",
       "      <th>price</th>\n",
       "      <th>originalPrice</th>\n",
       "    </tr>\n",
       "  </thead>\n",
       "  <tbody>\n",
       "    <tr>\n",
       "      <th>0</th>\n",
       "      <td>B0000SX2UC</td>\n",
       "      <td>NaN</td>\n",
       "      <td>Dual-Band / Tri-Mode Sprint PCS Phone w/ Voice...</td>\n",
       "      <td>https://www.amazon.com/Dual-Band-Tri-Mode-Acti...</td>\n",
       "      <td>https://m.media-amazon.com/images/I/2143EBQ210...</td>\n",
       "      <td>3.0000000</td>\n",
       "      <td>https://www.amazon.com/product-reviews/B0000SX2UC</td>\n",
       "      <td>14</td>\n",
       "      <td>0.0000000</td>\n",
       "      <td>0.0000000</td>\n",
       "    </tr>\n",
       "    <tr>\n",
       "      <th>1</th>\n",
       "      <td>B0009N5L7K</td>\n",
       "      <td>Motorola</td>\n",
       "      <td>Motorola I265 phone</td>\n",
       "      <td>https://www.amazon.com/Motorola-i265-I265-phon...</td>\n",
       "      <td>https://m.media-amazon.com/images/I/419WBAVDAR...</td>\n",
       "      <td>3.0000000</td>\n",
       "      <td>https://www.amazon.com/product-reviews/B0009N5L7K</td>\n",
       "      <td>7</td>\n",
       "      <td>49.9500000</td>\n",
       "      <td>0.0000000</td>\n",
       "    </tr>\n",
       "    <tr>\n",
       "      <th>2</th>\n",
       "      <td>B000SKTZ0S</td>\n",
       "      <td>Motorola</td>\n",
       "      <td>MOTOROLA C168i AT&amp;T CINGULAR PREPAID GOPHONE C...</td>\n",
       "      <td>https://www.amazon.com/MOTOROLA-C168i-CINGULAR...</td>\n",
       "      <td>https://m.media-amazon.com/images/I/71b+q3ydkI...</td>\n",
       "      <td>2.7000000</td>\n",
       "      <td>https://www.amazon.com/product-reviews/B000SKTZ0S</td>\n",
       "      <td>22</td>\n",
       "      <td>99.9900000</td>\n",
       "      <td>0.0000000</td>\n",
       "    </tr>\n",
       "    <tr>\n",
       "      <th>3</th>\n",
       "      <td>B001AO4OUC</td>\n",
       "      <td>Motorola</td>\n",
       "      <td>Motorola i335 Cell Phone Boost Mobile</td>\n",
       "      <td>https://www.amazon.com/Motorola-i335-Phone-Boo...</td>\n",
       "      <td>https://m.media-amazon.com/images/I/710UO8gdT+...</td>\n",
       "      <td>3.3000000</td>\n",
       "      <td>https://www.amazon.com/product-reviews/B001AO4OUC</td>\n",
       "      <td>21</td>\n",
       "      <td>0.0000000</td>\n",
       "      <td>0.0000000</td>\n",
       "    </tr>\n",
       "    <tr>\n",
       "      <th>4</th>\n",
       "      <td>B001DCJAJG</td>\n",
       "      <td>Motorola</td>\n",
       "      <td>Motorola V365 no contract cellular phone AT&amp;T</td>\n",
       "      <td>https://www.amazon.com/Motorola-V365-contract-...</td>\n",
       "      <td>https://m.media-amazon.com/images/I/61LYNCVrrK...</td>\n",
       "      <td>3.1000000</td>\n",
       "      <td>https://www.amazon.com/product-reviews/B001DCJAJG</td>\n",
       "      <td>12</td>\n",
       "      <td>149.9900000</td>\n",
       "      <td>0.0000000</td>\n",
       "    </tr>\n",
       "  </tbody>\n",
       "</table>\n",
       "</div>"
      ],
      "text/plain": [
       "         asin     brand                                              title  \\\n",
       "0  B0000SX2UC       NaN  Dual-Band / Tri-Mode Sprint PCS Phone w/ Voice...   \n",
       "1  B0009N5L7K  Motorola                                Motorola I265 phone   \n",
       "2  B000SKTZ0S  Motorola  MOTOROLA C168i AT&T CINGULAR PREPAID GOPHONE C...   \n",
       "3  B001AO4OUC  Motorola              Motorola i335 Cell Phone Boost Mobile   \n",
       "4  B001DCJAJG  Motorola      Motorola V365 no contract cellular phone AT&T   \n",
       "\n",
       "                                                 url  \\\n",
       "0  https://www.amazon.com/Dual-Band-Tri-Mode-Acti...   \n",
       "1  https://www.amazon.com/Motorola-i265-I265-phon...   \n",
       "2  https://www.amazon.com/MOTOROLA-C168i-CINGULAR...   \n",
       "3  https://www.amazon.com/Motorola-i335-Phone-Boo...   \n",
       "4  https://www.amazon.com/Motorola-V365-contract-...   \n",
       "\n",
       "                                               image    rating  \\\n",
       "0  https://m.media-amazon.com/images/I/2143EBQ210... 3.0000000   \n",
       "1  https://m.media-amazon.com/images/I/419WBAVDAR... 3.0000000   \n",
       "2  https://m.media-amazon.com/images/I/71b+q3ydkI... 2.7000000   \n",
       "3  https://m.media-amazon.com/images/I/710UO8gdT+... 3.3000000   \n",
       "4  https://m.media-amazon.com/images/I/61LYNCVrrK... 3.1000000   \n",
       "\n",
       "                                           reviewUrl  totalReviews  \\\n",
       "0  https://www.amazon.com/product-reviews/B0000SX2UC            14   \n",
       "1  https://www.amazon.com/product-reviews/B0009N5L7K             7   \n",
       "2  https://www.amazon.com/product-reviews/B000SKTZ0S            22   \n",
       "3  https://www.amazon.com/product-reviews/B001AO4OUC            21   \n",
       "4  https://www.amazon.com/product-reviews/B001DCJAJG            12   \n",
       "\n",
       "        price  originalPrice  \n",
       "0   0.0000000      0.0000000  \n",
       "1  49.9500000      0.0000000  \n",
       "2  99.9900000      0.0000000  \n",
       "3   0.0000000      0.0000000  \n",
       "4 149.9900000      0.0000000  "
      ]
     },
     "execution_count": 5,
     "metadata": {
      "tags": []
     },
     "output_type": "execute_result"
    }
   ],
   "source": [
    "product_df.head(5)"
   ]
  },
  {
   "cell_type": "code",
   "execution_count": 6,
   "metadata": {
    "colab": {
     "base_uri": "https://localhost:8080/",
     "height": 204
    },
    "id": "GRjG44fRxGIq",
    "outputId": "d1e2c782-e6e1-4e9e-c1dc-5cccc89a082c"
   },
   "outputs": [
    {
     "data": {
      "text/html": [
       "<div>\n",
       "<style scoped>\n",
       "    .dataframe tbody tr th:only-of-type {\n",
       "        vertical-align: middle;\n",
       "    }\n",
       "\n",
       "    .dataframe tbody tr th {\n",
       "        vertical-align: top;\n",
       "    }\n",
       "\n",
       "    .dataframe thead th {\n",
       "        text-align: right;\n",
       "    }\n",
       "</style>\n",
       "<table border=\"1\" class=\"dataframe\">\n",
       "  <thead>\n",
       "    <tr style=\"text-align: right;\">\n",
       "      <th></th>\n",
       "      <th>asin</th>\n",
       "      <th>name</th>\n",
       "      <th>rating</th>\n",
       "      <th>date</th>\n",
       "      <th>verified</th>\n",
       "      <th>title</th>\n",
       "      <th>body</th>\n",
       "      <th>helpfulVotes</th>\n",
       "    </tr>\n",
       "  </thead>\n",
       "  <tbody>\n",
       "    <tr>\n",
       "      <th>0</th>\n",
       "      <td>B0000SX2UC</td>\n",
       "      <td>Janet</td>\n",
       "      <td>3</td>\n",
       "      <td>October 11, 2005</td>\n",
       "      <td>False</td>\n",
       "      <td>Def not best, but not worst</td>\n",
       "      <td>I had the Samsung A600 for awhile which is abs...</td>\n",
       "      <td>1.0000000</td>\n",
       "    </tr>\n",
       "    <tr>\n",
       "      <th>1</th>\n",
       "      <td>B0000SX2UC</td>\n",
       "      <td>Luke Wyatt</td>\n",
       "      <td>1</td>\n",
       "      <td>January 7, 2004</td>\n",
       "      <td>False</td>\n",
       "      <td>Text Messaging Doesn't Work</td>\n",
       "      <td>Due to a software issue between Nokia and Spri...</td>\n",
       "      <td>17.0000000</td>\n",
       "    </tr>\n",
       "    <tr>\n",
       "      <th>2</th>\n",
       "      <td>B0000SX2UC</td>\n",
       "      <td>Brooke</td>\n",
       "      <td>5</td>\n",
       "      <td>December 30, 2003</td>\n",
       "      <td>False</td>\n",
       "      <td>Love This Phone</td>\n",
       "      <td>This is a great, reliable phone. I also purcha...</td>\n",
       "      <td>5.0000000</td>\n",
       "    </tr>\n",
       "    <tr>\n",
       "      <th>3</th>\n",
       "      <td>B0000SX2UC</td>\n",
       "      <td>amy m. teague</td>\n",
       "      <td>3</td>\n",
       "      <td>March 18, 2004</td>\n",
       "      <td>False</td>\n",
       "      <td>Love the Phone, BUT...!</td>\n",
       "      <td>I love the phone and all, because I really did...</td>\n",
       "      <td>1.0000000</td>\n",
       "    </tr>\n",
       "    <tr>\n",
       "      <th>4</th>\n",
       "      <td>B0000SX2UC</td>\n",
       "      <td>tristazbimmer</td>\n",
       "      <td>4</td>\n",
       "      <td>August 28, 2005</td>\n",
       "      <td>False</td>\n",
       "      <td>Great phone service and options, lousy case!</td>\n",
       "      <td>The phone has been great for every purpose it ...</td>\n",
       "      <td>1.0000000</td>\n",
       "    </tr>\n",
       "  </tbody>\n",
       "</table>\n",
       "</div>"
      ],
      "text/plain": [
       "         asin           name  rating               date  verified  \\\n",
       "0  B0000SX2UC          Janet       3   October 11, 2005     False   \n",
       "1  B0000SX2UC     Luke Wyatt       1    January 7, 2004     False   \n",
       "2  B0000SX2UC         Brooke       5  December 30, 2003     False   \n",
       "3  B0000SX2UC  amy m. teague       3     March 18, 2004     False   \n",
       "4  B0000SX2UC  tristazbimmer       4    August 28, 2005     False   \n",
       "\n",
       "                                          title  \\\n",
       "0                   Def not best, but not worst   \n",
       "1                   Text Messaging Doesn't Work   \n",
       "2                               Love This Phone   \n",
       "3                       Love the Phone, BUT...!   \n",
       "4  Great phone service and options, lousy case!   \n",
       "\n",
       "                                                body  helpfulVotes  \n",
       "0  I had the Samsung A600 for awhile which is abs...     1.0000000  \n",
       "1  Due to a software issue between Nokia and Spri...    17.0000000  \n",
       "2  This is a great, reliable phone. I also purcha...     5.0000000  \n",
       "3  I love the phone and all, because I really did...     1.0000000  \n",
       "4  The phone has been great for every purpose it ...     1.0000000  "
      ]
     },
     "execution_count": 6,
     "metadata": {
      "tags": []
     },
     "output_type": "execute_result"
    }
   ],
   "source": [
    "reviews_df.head(5)"
   ]
  },
  {
   "cell_type": "markdown",
   "metadata": {
    "id": "-ftQf_2XmP2v"
   },
   "source": [
    "Asin is common key between products and Reviews data frame.We'll consider Body Field to study sentiment"
   ]
  },
  {
   "cell_type": "markdown",
   "metadata": {
    "id": "rED6DbDBKTjM"
   },
   "source": [
    "## 4.  Data Analysis and EDA"
   ]
  },
  {
   "cell_type": "markdown",
   "metadata": {
    "id": "awlqmp40xMfc"
   },
   "source": [
    "### 4.1 Drop unnecessary columns like 'url', 'image' from the product_data"
   ]
  },
  {
   "cell_type": "code",
   "execution_count": 7,
   "metadata": {
    "id": "VT4d-6TCxZCm"
   },
   "outputs": [],
   "source": [
    "reviews_df = reviews_df.drop(['date','helpfulVotes'],axis=1)"
   ]
  },
  {
   "cell_type": "code",
   "execution_count": 8,
   "metadata": {
    "id": "UGS7aMOcngPh"
   },
   "outputs": [],
   "source": [
    "product_df = product_df.drop(['url','image','reviewUrl'],axis=1)"
   ]
  },
  {
   "cell_type": "markdown",
   "metadata": {
    "id": "Zk0WW5D5xZK9"
   },
   "source": [
    "### 4.2 Check statistical summary of both datasets. Note:- Include both numerical and object type columns."
   ]
  },
  {
   "cell_type": "code",
   "execution_count": 9,
   "metadata": {
    "colab": {
     "base_uri": "https://localhost:8080/"
    },
    "id": "8bmOmhCdtWpe",
    "outputId": "9bf32575-1642-4053-8fd2-277e00276a30"
   },
   "outputs": [
    {
     "data": {
      "text/plain": [
       "Index(['asin', 'brand', 'title', 'rating', 'totalReviews', 'price',\n",
       "       'originalPrice'],\n",
       "      dtype='object')"
      ]
     },
     "execution_count": 9,
     "metadata": {
      "tags": []
     },
     "output_type": "execute_result"
    }
   ],
   "source": [
    "product_df.columns"
   ]
  },
  {
   "cell_type": "code",
   "execution_count": 10,
   "metadata": {
    "colab": {
     "base_uri": "https://localhost:8080/"
    },
    "id": "7zshOj2eoFwM",
    "outputId": "030fb12f-2502-46cb-c9fd-15c90b986c82"
   },
   "outputs": [
    {
     "data": {
      "text/plain": [
       "asin              object\n",
       "brand             object\n",
       "title             object\n",
       "rating           float64\n",
       "totalReviews       int64\n",
       "price            float64\n",
       "originalPrice    float64\n",
       "dtype: object"
      ]
     },
     "execution_count": 10,
     "metadata": {
      "tags": []
     },
     "output_type": "execute_result"
    }
   ],
   "source": [
    "product_df.dtypes\n",
    "#Observations:\n",
    "#Over here Rating is continuous number as it is averaged.\n"
   ]
  },
  {
   "cell_type": "code",
   "execution_count": 11,
   "metadata": {
    "colab": {
     "base_uri": "https://localhost:8080/"
    },
    "id": "-yPkWf_5oLLL",
    "outputId": "dcc9b23c-84aa-412e-b34e-4720faaae247"
   },
   "outputs": [
    {
     "data": {
      "text/plain": [
       "asin        object\n",
       "name        object\n",
       "rating       int64\n",
       "verified      bool\n",
       "title       object\n",
       "body        object\n",
       "dtype: object"
      ]
     },
     "execution_count": 11,
     "metadata": {
      "tags": []
     },
     "output_type": "execute_result"
    }
   ],
   "source": [
    "reviews_df.dtypes"
   ]
  },
  {
   "cell_type": "code",
   "execution_count": 12,
   "metadata": {
    "colab": {
     "base_uri": "https://localhost:8080/",
     "height": 173
    },
    "id": "2XeZz-u5oYAd",
    "outputId": "7e9d9c28-f04d-4313-d51e-be8da48ca6fc"
   },
   "outputs": [
    {
     "data": {
      "text/html": [
       "<div>\n",
       "<style scoped>\n",
       "    .dataframe tbody tr th:only-of-type {\n",
       "        vertical-align: middle;\n",
       "    }\n",
       "\n",
       "    .dataframe tbody tr th {\n",
       "        vertical-align: top;\n",
       "    }\n",
       "\n",
       "    .dataframe thead th {\n",
       "        text-align: right;\n",
       "    }\n",
       "</style>\n",
       "<table border=\"1\" class=\"dataframe\">\n",
       "  <thead>\n",
       "    <tr style=\"text-align: right;\">\n",
       "      <th></th>\n",
       "      <th>asin</th>\n",
       "      <th>brand</th>\n",
       "      <th>title</th>\n",
       "    </tr>\n",
       "  </thead>\n",
       "  <tbody>\n",
       "    <tr>\n",
       "      <th>count</th>\n",
       "      <td>720</td>\n",
       "      <td>716</td>\n",
       "      <td>720</td>\n",
       "    </tr>\n",
       "    <tr>\n",
       "      <th>unique</th>\n",
       "      <td>720</td>\n",
       "      <td>10</td>\n",
       "      <td>718</td>\n",
       "    </tr>\n",
       "    <tr>\n",
       "      <th>top</th>\n",
       "      <td>B07NPRQYP1</td>\n",
       "      <td>Samsung</td>\n",
       "      <td>Apple iPhone 6S, 64GB, Rose Gold - For AT&amp;T / ...</td>\n",
       "    </tr>\n",
       "    <tr>\n",
       "      <th>freq</th>\n",
       "      <td>1</td>\n",
       "      <td>346</td>\n",
       "      <td>2</td>\n",
       "    </tr>\n",
       "  </tbody>\n",
       "</table>\n",
       "</div>"
      ],
      "text/plain": [
       "              asin    brand                                              title\n",
       "count          720      716                                                720\n",
       "unique         720       10                                                718\n",
       "top     B07NPRQYP1  Samsung  Apple iPhone 6S, 64GB, Rose Gold - For AT&T / ...\n",
       "freq             1      346                                                  2"
      ]
     },
     "execution_count": 12,
     "metadata": {
      "tags": []
     },
     "output_type": "execute_result"
    }
   ],
   "source": [
    "product_df.describe(include='O')\n",
    "#10 unique brands.Samsung is top brand."
   ]
  },
  {
   "cell_type": "code",
   "execution_count": 13,
   "metadata": {
    "colab": {
     "base_uri": "https://localhost:8080/",
     "height": 297
    },
    "id": "m4WD4ql4oei-",
    "outputId": "79c46de8-519d-4d86-f18a-0d06d49321be"
   },
   "outputs": [
    {
     "data": {
      "text/html": [
       "<div>\n",
       "<style scoped>\n",
       "    .dataframe tbody tr th:only-of-type {\n",
       "        vertical-align: middle;\n",
       "    }\n",
       "\n",
       "    .dataframe tbody tr th {\n",
       "        vertical-align: top;\n",
       "    }\n",
       "\n",
       "    .dataframe thead th {\n",
       "        text-align: right;\n",
       "    }\n",
       "</style>\n",
       "<table border=\"1\" class=\"dataframe\">\n",
       "  <thead>\n",
       "    <tr style=\"text-align: right;\">\n",
       "      <th></th>\n",
       "      <th>rating</th>\n",
       "      <th>totalReviews</th>\n",
       "      <th>price</th>\n",
       "      <th>originalPrice</th>\n",
       "    </tr>\n",
       "  </thead>\n",
       "  <tbody>\n",
       "    <tr>\n",
       "      <th>count</th>\n",
       "      <td>720.0000000</td>\n",
       "      <td>720.0000000</td>\n",
       "      <td>720.0000000</td>\n",
       "      <td>720.0000000</td>\n",
       "    </tr>\n",
       "    <tr>\n",
       "      <th>mean</th>\n",
       "      <td>3.7137500</td>\n",
       "      <td>105.6791667</td>\n",
       "      <td>234.9489306</td>\n",
       "      <td>63.6907778</td>\n",
       "    </tr>\n",
       "    <tr>\n",
       "      <th>std</th>\n",
       "      <td>0.7160138</td>\n",
       "      <td>167.6011014</td>\n",
       "      <td>200.0084407</td>\n",
       "      <td>172.4053696</td>\n",
       "    </tr>\n",
       "    <tr>\n",
       "      <th>min</th>\n",
       "      <td>1.0000000</td>\n",
       "      <td>1.0000000</td>\n",
       "      <td>0.0000000</td>\n",
       "      <td>0.0000000</td>\n",
       "    </tr>\n",
       "    <tr>\n",
       "      <th>25%</th>\n",
       "      <td>3.3000000</td>\n",
       "      <td>7.0000000</td>\n",
       "      <td>97.5125000</td>\n",
       "      <td>0.0000000</td>\n",
       "    </tr>\n",
       "    <tr>\n",
       "      <th>50%</th>\n",
       "      <td>3.8000000</td>\n",
       "      <td>32.0000000</td>\n",
       "      <td>188.9750000</td>\n",
       "      <td>0.0000000</td>\n",
       "    </tr>\n",
       "    <tr>\n",
       "      <th>75%</th>\n",
       "      <td>4.1000000</td>\n",
       "      <td>122.2500000</td>\n",
       "      <td>336.7250000</td>\n",
       "      <td>0.0000000</td>\n",
       "    </tr>\n",
       "    <tr>\n",
       "      <th>max</th>\n",
       "      <td>5.0000000</td>\n",
       "      <td>983.0000000</td>\n",
       "      <td>999.9900000</td>\n",
       "      <td>999.9900000</td>\n",
       "    </tr>\n",
       "  </tbody>\n",
       "</table>\n",
       "</div>"
      ],
      "text/plain": [
       "           rating  totalReviews       price  originalPrice\n",
       "count 720.0000000   720.0000000 720.0000000    720.0000000\n",
       "mean    3.7137500   105.6791667 234.9489306     63.6907778\n",
       "std     0.7160138   167.6011014 200.0084407    172.4053696\n",
       "min     1.0000000     1.0000000   0.0000000      0.0000000\n",
       "25%     3.3000000     7.0000000  97.5125000      0.0000000\n",
       "50%     3.8000000    32.0000000 188.9750000      0.0000000\n",
       "75%     4.1000000   122.2500000 336.7250000      0.0000000\n",
       "max     5.0000000   983.0000000 999.9900000    999.9900000"
      ]
     },
     "execution_count": 13,
     "metadata": {
      "tags": []
     },
     "output_type": "execute_result"
    }
   ],
   "source": [
    "product_df.describe()"
   ]
  },
  {
   "cell_type": "code",
   "execution_count": 14,
   "metadata": {
    "colab": {
     "base_uri": "https://localhost:8080/",
     "height": 297
    },
    "id": "44zz6ybQogXJ",
    "outputId": "d3c64083-daa1-4b38-b8d7-2de902eab795"
   },
   "outputs": [
    {
     "data": {
      "text/html": [
       "<div>\n",
       "<style scoped>\n",
       "    .dataframe tbody tr th:only-of-type {\n",
       "        vertical-align: middle;\n",
       "    }\n",
       "\n",
       "    .dataframe tbody tr th {\n",
       "        vertical-align: top;\n",
       "    }\n",
       "\n",
       "    .dataframe thead th {\n",
       "        text-align: right;\n",
       "    }\n",
       "</style>\n",
       "<table border=\"1\" class=\"dataframe\">\n",
       "  <thead>\n",
       "    <tr style=\"text-align: right;\">\n",
       "      <th></th>\n",
       "      <th>rating</th>\n",
       "    </tr>\n",
       "  </thead>\n",
       "  <tbody>\n",
       "    <tr>\n",
       "      <th>count</th>\n",
       "      <td>67986.0000000</td>\n",
       "    </tr>\n",
       "    <tr>\n",
       "      <th>mean</th>\n",
       "      <td>3.8079163</td>\n",
       "    </tr>\n",
       "    <tr>\n",
       "      <th>std</th>\n",
       "      <td>1.5829058</td>\n",
       "    </tr>\n",
       "    <tr>\n",
       "      <th>min</th>\n",
       "      <td>1.0000000</td>\n",
       "    </tr>\n",
       "    <tr>\n",
       "      <th>25%</th>\n",
       "      <td>3.0000000</td>\n",
       "    </tr>\n",
       "    <tr>\n",
       "      <th>50%</th>\n",
       "      <td>5.0000000</td>\n",
       "    </tr>\n",
       "    <tr>\n",
       "      <th>75%</th>\n",
       "      <td>5.0000000</td>\n",
       "    </tr>\n",
       "    <tr>\n",
       "      <th>max</th>\n",
       "      <td>5.0000000</td>\n",
       "    </tr>\n",
       "  </tbody>\n",
       "</table>\n",
       "</div>"
      ],
      "text/plain": [
       "             rating\n",
       "count 67986.0000000\n",
       "mean      3.8079163\n",
       "std       1.5829058\n",
       "min       1.0000000\n",
       "25%       3.0000000\n",
       "50%       5.0000000\n",
       "75%       5.0000000\n",
       "max       5.0000000"
      ]
     },
     "execution_count": 14,
     "metadata": {
      "tags": []
     },
     "output_type": "execute_result"
    }
   ],
   "source": [
    "reviews_df.describe()"
   ]
  },
  {
   "cell_type": "markdown",
   "metadata": {
    "id": "cSdGfadUyEdU"
   },
   "source": [
    "### 4.3 From the above statistical summary, write inferences like count of unique products, top brand, top title, range of rating, price range, etc"
   ]
  },
  {
   "cell_type": "markdown",
   "metadata": {
    "id": "4yz3GlLfonh9"
   },
   "source": [
    "Reviews df - Total 720 ratings and totalReviews is also 720 done.\n",
    "Price 0 seems to be invalid value.\n"
   ]
  },
  {
   "cell_type": "markdown",
   "metadata": {
    "id": "XMv_hXyxJKZK"
   },
   "source": [
    "### 4.4 Analyze the distribution of ratings and other categorical features like brand, etc"
   ]
  },
  {
   "cell_type": "code",
   "execution_count": 15,
   "metadata": {
    "colab": {
     "base_uri": "https://localhost:8080/",
     "height": 386
    },
    "id": "oEhjSsMcyirD",
    "outputId": "421c97db-561c-4ef3-859c-a4c0a0c8801a"
   },
   "outputs": [
    {
     "data": {
      "text/plain": [
       "<seaborn.axisgrid.FacetGrid at 0x7f5e5b097e90>"
      ]
     },
     "execution_count": 15,
     "metadata": {
      "tags": []
     },
     "output_type": "execute_result"
    },
    {
     "data": {
      "image/png": "[encoded data removed]",
      "text/plain": [
       "<Figure size 360x360 with 1 Axes>"
      ]
     },
     "metadata": {
      "needs_background": "light",
      "tags": []
     },
     "output_type": "display_data"
    }
   ],
   "source": [
    "sns.displot(data= product_df,x='rating')\n",
    "#Max reviews have rating near 4.Some products have low rating like 1."
   ]
  },
  {
   "cell_type": "code",
   "execution_count": 16,
   "metadata": {
    "colab": {
     "base_uri": "https://localhost:8080/",
     "height": 296
    },
    "id": "CuzszV0Yt3ox",
    "outputId": "99b91de1-ee4f-4589-b1e0-776a55b057d8"
   },
   "outputs": [
    {
     "data": {
      "text/plain": [
       "<matplotlib.axes._subplots.AxesSubplot at 0x7f5e162bdd10>"
      ]
     },
     "execution_count": 16,
     "metadata": {
      "tags": []
     },
     "output_type": "execute_result"
    },
    {
     "data": {
      "image/png": "[encoded data removed]",
      "text/plain": [
       "<Figure size 432x288 with 1 Axes>"
      ]
     },
     "metadata": {
      "needs_background": "light",
      "tags": []
     },
     "output_type": "display_data"
    }
   ],
   "source": [
    "sns.barplot(data=product_df,x=product_df.rating,y='brand')\n",
    "#Brand is a categorical feature so we go for Barplot.\n",
    "#"
   ]
  },
  {
   "cell_type": "code",
   "execution_count": 17,
   "metadata": {
    "colab": {
     "base_uri": "https://localhost:8080/",
     "height": 279
    },
    "id": "0BFfjEnrv1pH",
    "outputId": "b32bbdc5-e1a5-4ff5-d269-a0cc9bf14157"
   },
   "outputs": [
    {
     "data": {
      "image/png": "[encoded data removed]",
      "text/plain": [
       "<Figure size 432x288 with 1 Axes>"
      ]
     },
     "metadata": {
      "needs_background": "light",
      "tags": []
     },
     "output_type": "display_data"
    }
   ],
   "source": [
    "sns.countplot(product_df.brand);"
   ]
  },
  {
   "cell_type": "code",
   "execution_count": 18,
   "metadata": {
    "colab": {
     "base_uri": "https://localhost:8080/",
     "height": 592
    },
    "id": "uhm07vaswPgT",
    "outputId": "bca0b545-e3b1-45f9-b2c5-f9084a5234aa"
   },
   "outputs": [
    {
     "data": {
      "text/plain": [
       "<matplotlib.axes._subplots.AxesSubplot at 0x7f5e16138790>"
      ]
     },
     "execution_count": 18,
     "metadata": {
      "tags": []
     },
     "output_type": "execute_result"
    },
    {
     "data": {
      "image/png": "[encoded data removed]",
      "text/plain": [
       "<Figure size 864x720 with 1 Axes>"
      ]
     },
     "metadata": {
      "tags": []
     },
     "output_type": "display_data"
    }
   ],
   "source": [
    "product_df['brand'].value_counts().plot(kind='pie', autopct = '%1.0f%%', figsize = (12,10))\n",
    "#Samsung seems to have highest share"
   ]
  },
  {
   "cell_type": "markdown",
   "metadata": {
    "id": "jwZBGODgyi1a"
   },
   "source": [
    "### 4.5 Display average rating per brand"
   ]
  },
  {
   "cell_type": "code",
   "execution_count": 19,
   "metadata": {
    "colab": {
     "base_uri": "https://localhost:8080/"
    },
    "id": "OSBBiAv8yscd",
    "outputId": "8d701d47-0e14-4dc3-9b83-5087ba95af25"
   },
   "outputs": [
    {
     "data": {
      "text/plain": [
       "brand\n",
       "Samsung     346\n",
       "Motorola    105\n",
       "Apple        63\n",
       "Xiaomi       46\n",
       "Nokia        44\n",
       "Google       38\n",
       "HUAWEI       32\n",
       "Sony         27\n",
       "OnePlus      10\n",
       "ASUS          5\n",
       "Name: rating, dtype: int64"
      ]
     },
     "execution_count": 19,
     "metadata": {
      "tags": []
     },
     "output_type": "execute_result"
    }
   ],
   "source": [
    "# Calculating average rating per brand\n",
    "\n",
    "rating_per_brand = product_df.groupby(by='brand')['rating'].count().sort_values(ascending=False)\n",
    "rating_per_brand"
   ]
  },
  {
   "cell_type": "markdown",
   "metadata": {
    "id": "vUXuEwlgyvB0"
   },
   "source": [
    "### 4.6 Display average price per brand"
   ]
  },
  {
   "cell_type": "code",
   "execution_count": 20,
   "metadata": {
    "colab": {
     "base_uri": "https://localhost:8080/"
    },
    "id": "ACgIwVlyy3Pu",
    "outputId": "13206407-5ce6-4588-a803-27f3baab285a"
   },
   "outputs": [
    {
     "data": {
      "text/plain": [
       "brand\n",
       "OnePlus    426.1960000\n",
       "Sony       332.7248148\n",
       "ASUS       309.6860000\n",
       "Apple      303.5811111\n",
       "Samsung    256.5272543\n",
       "Google     241.8676316\n",
       "HUAWEI     218.8290625\n",
       "Xiaomi     214.9676087\n",
       "Motorola   139.1210476\n",
       "Nokia      111.4438636\n",
       "Name: price, dtype: float64"
      ]
     },
     "execution_count": 20,
     "metadata": {
      "tags": []
     },
     "output_type": "execute_result"
    }
   ],
   "source": [
    "# Calculating average price per brand\n",
    "\n",
    "price_per_brand = product_df.groupby(by='brand')['price'].mean().sort_values(ascending=False)\n",
    "price_per_brand"
   ]
  },
  {
   "cell_type": "code",
   "execution_count": 21,
   "metadata": {
    "colab": {
     "base_uri": "https://localhost:8080/",
     "height": 282
    },
    "id": "q52jrMR6x_KS",
    "outputId": "d2131889-2886-41d7-f54d-b7518de25aa7"
   },
   "outputs": [
    {
     "data": {
      "text/plain": [
       "<matplotlib.axes._subplots.AxesSubplot at 0x7f5e160dfd90>"
      ]
     },
     "execution_count": 21,
     "metadata": {
      "tags": []
     },
     "output_type": "execute_result"
    },
    {
     "data": {
      "image/png": "[encoded data removed]",
      "text/plain": [
       "<Figure size 432x288 with 1 Axes>"
      ]
     },
     "metadata": {
      "needs_background": "light",
      "tags": []
     },
     "output_type": "display_data"
    }
   ],
   "source": [
    "price_per_brand.plot(kind='barh')"
   ]
  },
  {
   "cell_type": "markdown",
   "metadata": {
    "id": "rNH_8dpCx9at"
   },
   "source": []
  },
  {
   "cell_type": "markdown",
   "metadata": {
    "id": "U0JfwL74y3a-"
   },
   "source": [
    "### 4.7 Display average 'totalReviews' per brand"
   ]
  },
  {
   "cell_type": "code",
   "execution_count": 22,
   "metadata": {
    "colab": {
     "base_uri": "https://localhost:8080/"
    },
    "id": "wfzciNxqzBYu",
    "outputId": "d3846d1b-45e8-4677-d91d-cad55f187891"
   },
   "outputs": [
    {
     "data": {
      "text/plain": [
       "Index(['asin', 'brand', 'title', 'rating', 'totalReviews', 'price',\n",
       "       'originalPrice'],\n",
       "      dtype='object')"
      ]
     },
     "execution_count": 22,
     "metadata": {
      "tags": []
     },
     "output_type": "execute_result"
    }
   ],
   "source": [
    "product_df.columns"
   ]
  },
  {
   "cell_type": "code",
   "execution_count": 23,
   "metadata": {
    "colab": {
     "base_uri": "https://localhost:8080/"
    },
    "id": "zvTUIFLPppQA",
    "outputId": "96c64832-20e7-41a1-86b8-ab74ca059335"
   },
   "outputs": [
    {
     "data": {
      "text/plain": [
       "brand\n",
       "Samsung     346\n",
       "Motorola    105\n",
       "Apple        63\n",
       "Xiaomi       46\n",
       "Nokia        44\n",
       "Google       38\n",
       "HUAWEI       32\n",
       "Sony         27\n",
       "OnePlus      10\n",
       "ASUS          5\n",
       "Name: totalReviews, dtype: int64"
      ]
     },
     "execution_count": 23,
     "metadata": {
      "tags": []
     },
     "output_type": "execute_result"
    }
   ],
   "source": [
    "Reviews_per_brand = product_df.groupby(by='brand')['totalReviews'].count().sort_values(ascending=False)\n",
    "Reviews_per_brand"
   ]
  },
  {
   "cell_type": "code",
   "execution_count": 24,
   "metadata": {
    "colab": {
     "base_uri": "https://localhost:8080/"
    },
    "id": "tskklGXnpZJ0",
    "outputId": "01ef2c05-ffe0-42ee-8390-28d9a73b6034"
   },
   "outputs": [
    {
     "data": {
      "text/plain": [
       "brand\n",
       "Nokia      140.5000000\n",
       "Sony       122.6666667\n",
       "Xiaomi     121.1739130\n",
       "Google     111.5263158\n",
       "Samsung    108.9624277\n",
       "Apple      100.2380952\n",
       "Motorola    89.7047619\n",
       "HUAWEI      77.0937500\n",
       "ASUS        52.6000000\n",
       "OnePlus     40.6000000\n",
       "Name: totalReviews, dtype: float64"
      ]
     },
     "execution_count": 24,
     "metadata": {
      "tags": []
     },
     "output_type": "execute_result"
    }
   ],
   "source": [
    "Reviews_per_brand = product_df.groupby(by='brand')['totalReviews'].mean().sort_values(ascending=False)\n",
    "Reviews_per_brand\n",
    "#Though highest number of reviews are for Samsung.But it seems in mean Nokia is highest."
   ]
  },
  {
   "cell_type": "markdown",
   "metadata": {
    "id": "x_fxI7OAeDUM"
   },
   "source": [
    "### 4.8 Merge two datasets using 'asin' and check the shape of the final dataset"
   ]
  },
  {
   "cell_type": "code",
   "execution_count": 25,
   "metadata": {
    "colab": {
     "base_uri": "https://localhost:8080/"
    },
    "id": "jC9UqMMaqHib",
    "outputId": "91a211f0-127f-4417-c7e8-b0ac15fbcaed"
   },
   "outputs": [
    {
     "data": {
      "text/plain": [
       "(67986, 6)"
      ]
     },
     "execution_count": 25,
     "metadata": {
      "tags": []
     },
     "output_type": "execute_result"
    }
   ],
   "source": [
    "reviews_df.shape"
   ]
  },
  {
   "cell_type": "code",
   "execution_count": 26,
   "metadata": {
    "id": "svpHfWI9zNAP"
   },
   "outputs": [],
   "source": [
    "df = pd.merge(reviews_df, product_df,how ='left',left_on ='asin',right_on = 'asin')\n",
    "#We would like to keep all rows in reviews_df so we keep it in left and do a left join.\n"
   ]
  },
  {
   "cell_type": "code",
   "execution_count": 27,
   "metadata": {
    "colab": {
     "base_uri": "https://localhost:8080/"
    },
    "id": "sEgR1g1qyYg9",
    "outputId": "66c03ee2-c87e-401a-f4dc-debcd6b0aed9"
   },
   "outputs": [
    {
     "data": {
      "text/plain": [
       "(67986, 12)"
      ]
     },
     "execution_count": 27,
     "metadata": {
      "tags": []
     },
     "output_type": "execute_result"
    }
   ],
   "source": [
    "df.shape\n",
    "#Shape same as reviews df as we have kept reviews_df on left"
   ]
  },
  {
   "cell_type": "code",
   "execution_count": 28,
   "metadata": {
    "colab": {
     "base_uri": "https://localhost:8080/",
     "height": 145
    },
    "id": "royPcr9Mzsvq",
    "outputId": "fd33af40-1e26-4efe-b65e-34db29fa4981"
   },
   "outputs": [
    {
     "data": {
      "text/html": [
       "<div>\n",
       "<style scoped>\n",
       "    .dataframe tbody tr th:only-of-type {\n",
       "        vertical-align: middle;\n",
       "    }\n",
       "\n",
       "    .dataframe tbody tr th {\n",
       "        vertical-align: top;\n",
       "    }\n",
       "\n",
       "    .dataframe thead th {\n",
       "        text-align: right;\n",
       "    }\n",
       "</style>\n",
       "<table border=\"1\" class=\"dataframe\">\n",
       "  <thead>\n",
       "    <tr style=\"text-align: right;\">\n",
       "      <th></th>\n",
       "      <th>asin</th>\n",
       "      <th>name</th>\n",
       "      <th>rating_x</th>\n",
       "      <th>verified</th>\n",
       "      <th>title_x</th>\n",
       "      <th>body</th>\n",
       "      <th>brand</th>\n",
       "      <th>title_y</th>\n",
       "      <th>rating_y</th>\n",
       "      <th>totalReviews</th>\n",
       "      <th>price</th>\n",
       "      <th>originalPrice</th>\n",
       "    </tr>\n",
       "  </thead>\n",
       "  <tbody>\n",
       "    <tr>\n",
       "      <th>17546</th>\n",
       "      <td>B013XAPUW6</td>\n",
       "      <td>Xavier Salas</td>\n",
       "      <td>4</td>\n",
       "      <td>True</td>\n",
       "      <td>the phone It's fine..</td>\n",
       "      <td>he arrived on time .. the phone It's fine ... ...</td>\n",
       "      <td>Samsung</td>\n",
       "      <td>Samsung Galaxy Note 5, Black  64GB (Verizon Wi...</td>\n",
       "      <td>3.6000000</td>\n",
       "      <td>799</td>\n",
       "      <td>399.9900000</td>\n",
       "      <td>0.0000000</td>\n",
       "    </tr>\n",
       "    <tr>\n",
       "      <th>34712</th>\n",
       "      <td>B06Y3HCFZT</td>\n",
       "      <td>Emily</td>\n",
       "      <td>5</td>\n",
       "      <td>True</td>\n",
       "      <td>Love it.</td>\n",
       "      <td>Came in great condition. I love this phone! I'...</td>\n",
       "      <td>Samsung</td>\n",
       "      <td>Samsung Galaxy S8+, 6.2\" 64GB (Verizon Wireles...</td>\n",
       "      <td>4.1000000</td>\n",
       "      <td>54</td>\n",
       "      <td>729.9900000</td>\n",
       "      <td>0.0000000</td>\n",
       "    </tr>\n",
       "  </tbody>\n",
       "</table>\n",
       "</div>"
      ],
      "text/plain": [
       "             asin          name  rating_x  verified                title_x  \\\n",
       "17546  B013XAPUW6  Xavier Salas         4      True  the phone It's fine..   \n",
       "34712  B06Y3HCFZT         Emily         5      True               Love it.   \n",
       "\n",
       "                                                    body    brand  \\\n",
       "17546  he arrived on time .. the phone It's fine ... ...  Samsung   \n",
       "34712  Came in great condition. I love this phone! I'...  Samsung   \n",
       "\n",
       "                                                 title_y  rating_y  \\\n",
       "17546  Samsung Galaxy Note 5, Black  64GB (Verizon Wi... 3.6000000   \n",
       "34712  Samsung Galaxy S8+, 6.2\" 64GB (Verizon Wireles... 4.1000000   \n",
       "\n",
       "       totalReviews       price  originalPrice  \n",
       "17546           799 399.9900000      0.0000000  \n",
       "34712            54 729.9900000      0.0000000  "
      ]
     },
     "execution_count": 28,
     "metadata": {
      "tags": []
     },
     "output_type": "execute_result"
    }
   ],
   "source": [
    "df.sample(2)"
   ]
  },
  {
   "cell_type": "code",
   "execution_count": 29,
   "metadata": {
    "colab": {
     "base_uri": "https://localhost:8080/"
    },
    "id": "V9tRwF7e0PGH",
    "outputId": "f6134548-bdcc-42e5-df27-b55d30c785c0"
   },
   "outputs": [
    {
     "data": {
      "text/plain": [
       "Index(['asin', 'name', 'rating_x', 'verified', 'title_x', 'body', 'brand',\n",
       "       'title_y', 'rating_y', 'totalReviews', 'price', 'originalPrice'],\n",
       "      dtype='object')"
      ]
     },
     "execution_count": 29,
     "metadata": {
      "tags": []
     },
     "output_type": "execute_result"
    }
   ],
   "source": [
    "df.columns"
   ]
  },
  {
   "cell_type": "markdown",
   "metadata": {
    "id": "zdTfwlL7fYpq"
   },
   "source": [
    "### 4.9 Rename important features with appropriate names.\n",
    "Imortant features - \"rating_x\": \"user_rating\", \"title_x\": \"review_title\", \"title_y\": \"item_title\", \"rating_y\": \"overall_rating\""
   ]
  },
  {
   "cell_type": "code",
   "execution_count": 30,
   "metadata": {
    "id": "KI-6FCkZztXM"
   },
   "outputs": [],
   "source": [
    "df.rename(columns = {'rating_x':'user_rating','rating_y':'overall_rating','title_x' : 'review_title','title_y' : 'item_title'}, inplace = True)"
   ]
  },
  {
   "cell_type": "markdown",
   "metadata": {
    "id": "hNHEElHszthc"
   },
   "source": [
    "### 4.10 Select rows having verified reviews and check the shape of the final dataset"
   ]
  },
  {
   "cell_type": "code",
   "execution_count": 31,
   "metadata": {
    "colab": {
     "base_uri": "https://localhost:8080/"
    },
    "id": "2PTKGAqu2sPl",
    "outputId": "fd4024c3-e912-4a5d-ff02-b67b39fd8e39"
   },
   "outputs": [
    {
     "data": {
      "text/plain": [
       "True     61225\n",
       "False     6761\n",
       "Name: verified, dtype: int64"
      ]
     },
     "execution_count": 31,
     "metadata": {
      "tags": []
     },
     "output_type": "execute_result"
    }
   ],
   "source": [
    "df['verified'].value_counts()\n",
    "#It seems we have substantial number of records for which Verfied is True."
   ]
  },
  {
   "cell_type": "code",
   "execution_count": 32,
   "metadata": {
    "id": "Jyav9_Zoz-rT"
   },
   "outputs": [],
   "source": [
    "dff = df[df.verified==True]"
   ]
  },
  {
   "cell_type": "markdown",
   "metadata": {
    "id": "EpKusPjdz-2q"
   },
   "source": [
    "### 4.11 Check the number of reviews for various brands and report the brand that have highest number of reviews"
   ]
  },
  {
   "cell_type": "code",
   "execution_count": 33,
   "metadata": {
    "colab": {
     "base_uri": "https://localhost:8080/"
    },
    "id": "5tux6vwr0JDb",
    "outputId": "bcbf07d4-fe4f-4df8-86d5-3658b9a3bf13"
   },
   "outputs": [
    {
     "data": {
      "text/plain": [
       "brand\n",
       "Samsung    31020\n",
       "Name: totalReviews, dtype: int64"
      ]
     },
     "execution_count": 33,
     "metadata": {
      "tags": []
     },
     "output_type": "execute_result"
    }
   ],
   "source": [
    "# Calculating  the number of reviews for various brands \n",
    "reviews_brand = dff.groupby(by='brand')['totalReviews'].count().sort_values(ascending=False)\n",
    "reviews_brand.head(1)"
   ]
  },
  {
   "cell_type": "code",
   "execution_count": 34,
   "metadata": {
    "colab": {
     "base_uri": "https://localhost:8080/",
     "height": 282
    },
    "id": "AKwso_o53bBq",
    "outputId": "57287e83-5580-4ecc-9fe4-310d9e2913db"
   },
   "outputs": [
    {
     "data": {
      "text/plain": [
       "<matplotlib.axes._subplots.AxesSubplot at 0x7f5e1601f410>"
      ]
     },
     "execution_count": 34,
     "metadata": {
      "tags": []
     },
     "output_type": "execute_result"
    },
    {
     "data": {
      "image/png": "[encoded data removed]",
      "text/plain": [
       "<Figure size 432x288 with 1 Axes>"
      ]
     },
     "metadata": {
      "needs_background": "light",
      "tags": []
     },
     "output_type": "display_data"
    }
   ],
   "source": [
    "dff.groupby(by='brand')['totalReviews'].count().sort_values().plot(kind='barh')"
   ]
  },
  {
   "cell_type": "code",
   "execution_count": 35,
   "metadata": {
    "colab": {
     "base_uri": "https://localhost:8080/"
    },
    "id": "2pKKRKaK6J9d",
    "outputId": "d6b38634-8081-46aa-f976-c80d38f9a2f0"
   },
   "outputs": [
    {
     "data": {
      "text/plain": [
       "Index(['asin', 'name', 'user_rating', 'verified', 'review_title', 'body',\n",
       "       'brand', 'item_title', 'overall_rating', 'totalReviews', 'price',\n",
       "       'originalPrice'],\n",
       "      dtype='object')"
      ]
     },
     "execution_count": 35,
     "metadata": {
      "tags": []
     },
     "output_type": "execute_result"
    }
   ],
   "source": [
    "dff.columns"
   ]
  },
  {
   "cell_type": "markdown",
   "metadata": {
    "id": "gPGjMFE-0Q5k"
   },
   "source": [
    "### 4.12 Drop irrelevant columns and keep important features like 'brand','body','price','user_rating','review_title' for further analysis"
   ]
  },
  {
   "cell_type": "code",
   "execution_count": 36,
   "metadata": {
    "colab": {
     "base_uri": "https://localhost:8080/",
     "height": 111
    },
    "id": "J_IvLN6e0e6z",
    "outputId": "714fcad5-a8c4-404d-b173-7e59aa987218"
   },
   "outputs": [
    {
     "data": {
      "text/html": [
       "<div>\n",
       "<style scoped>\n",
       "    .dataframe tbody tr th:only-of-type {\n",
       "        vertical-align: middle;\n",
       "    }\n",
       "\n",
       "    .dataframe tbody tr th {\n",
       "        vertical-align: top;\n",
       "    }\n",
       "\n",
       "    .dataframe thead th {\n",
       "        text-align: right;\n",
       "    }\n",
       "</style>\n",
       "<table border=\"1\" class=\"dataframe\">\n",
       "  <thead>\n",
       "    <tr style=\"text-align: right;\">\n",
       "      <th></th>\n",
       "      <th>brand</th>\n",
       "      <th>body</th>\n",
       "      <th>price</th>\n",
       "      <th>user_rating</th>\n",
       "      <th>review_title</th>\n",
       "    </tr>\n",
       "  </thead>\n",
       "  <tbody>\n",
       "    <tr>\n",
       "      <th>14</th>\n",
       "      <td>Motorola</td>\n",
       "      <td>DON'T BUY OUT OF SERVICE</td>\n",
       "      <td>49.9500000</td>\n",
       "      <td>1</td>\n",
       "      <td>Stupid phone</td>\n",
       "    </tr>\n",
       "    <tr>\n",
       "      <th>17</th>\n",
       "      <td>Motorola</td>\n",
       "      <td>1 star because the phones locked so I have to ...</td>\n",
       "      <td>49.9500000</td>\n",
       "      <td>1</td>\n",
       "      <td>Phones locked</td>\n",
       "    </tr>\n",
       "  </tbody>\n",
       "</table>\n",
       "</div>"
      ],
      "text/plain": [
       "       brand                                               body      price  \\\n",
       "14  Motorola                           DON'T BUY OUT OF SERVICE 49.9500000   \n",
       "17  Motorola  1 star because the phones locked so I have to ... 49.9500000   \n",
       "\n",
       "    user_rating   review_title  \n",
       "14            1   Stupid phone  \n",
       "17            1  Phones locked  "
      ]
     },
     "execution_count": 36,
     "metadata": {
      "tags": []
     },
     "output_type": "execute_result"
    }
   ],
   "source": [
    "#dff = df.drop(['brand','body','user_rating','review_title'],axis=1).Better approach to use below code\n",
    "df_final = dff[['brand','body','price','user_rating','review_title']]\n",
    "df_final.head(2)"
   ]
  },
  {
   "cell_type": "markdown",
   "metadata": {
    "id": "Gzo_rVT60fDf"
   },
   "source": [
    "### 4.13 Perform univariate analysis. Check distribution of price, user_rating"
   ]
  },
  {
   "cell_type": "code",
   "execution_count": 37,
   "metadata": {
    "colab": {
     "base_uri": "https://localhost:8080/",
     "height": 386
    },
    "id": "F3vzILxZ0t0L",
    "outputId": "7edc2189-2980-4206-afa1-364e36a4823c"
   },
   "outputs": [
    {
     "data": {
      "text/plain": [
       "<seaborn.axisgrid.FacetGrid at 0x7f5e15f95590>"
      ]
     },
     "execution_count": 37,
     "metadata": {
      "tags": []
     },
     "output_type": "execute_result"
    },
    {
     "data": {
      "image/png": "[encoded data removed]",
      "text/plain": [
       "<Figure size 360x360 with 1 Axes>"
      ]
     },
     "metadata": {
      "needs_background": "light",
      "tags": []
     },
     "output_type": "display_data"
    }
   ],
   "source": [
    "sns.displot(df_final['price'], kind = 'kde')\n",
    "#Average is around 200.Data is right-skewed."
   ]
  },
  {
   "cell_type": "code",
   "execution_count": 38,
   "metadata": {
    "colab": {
     "base_uri": "https://localhost:8080/",
     "height": 297
    },
    "id": "qYgS5cBK8QC6",
    "outputId": "0b27525f-38b6-43d6-9ae2-8aca0cc4ffb4"
   },
   "outputs": [
    {
     "data": {
      "text/plain": [
       "<matplotlib.axes._subplots.AxesSubplot at 0x7f5e13666c10>"
      ]
     },
     "execution_count": 38,
     "metadata": {
      "tags": []
     },
     "output_type": "execute_result"
    },
    {
     "data": {
      "image/png": "[encoded data removed]",
      "text/plain": [
       "<Figure size 432x288 with 1 Axes>"
      ]
     },
     "metadata": {
      "needs_background": "light",
      "tags": []
     },
     "output_type": "display_data"
    }
   ],
   "source": [
    "sns.countplot(df_final['user_rating'])\n",
    "#For rating 5 there are maximum records"
   ]
  },
  {
   "cell_type": "code",
   "execution_count": 39,
   "metadata": {
    "colab": {
     "base_uri": "https://localhost:8080/"
    },
    "id": "wl0QDg1y-FT3",
    "outputId": "b33cb7ab-d021-4a4d-f2e7-4b19d631dac6"
   },
   "outputs": [
    {
     "data": {
      "text/plain": [
       "5    35001\n",
       "1    10910\n",
       "4     7938\n",
       "3     4128\n",
       "2     3248\n",
       "Name: user_rating, dtype: int64"
      ]
     },
     "execution_count": 39,
     "metadata": {
      "tags": []
     },
     "output_type": "execute_result"
    }
   ],
   "source": [
    "df_final['user_rating'].value_counts()"
   ]
  },
  {
   "cell_type": "markdown",
   "metadata": {
    "id": "x0Y_kE9T0uAf"
   },
   "source": [
    "### 4.14 Create a new column called \"sentiment\". It should have value as 1 (positive) if the user_Rating is greater than 3, value as 0 (negative) if the user_Rating <= 3"
   ]
  },
  {
   "cell_type": "code",
   "execution_count": 40,
   "metadata": {
    "id": "jGon-2xU1Ujb"
   },
   "outputs": [],
   "source": [
    "df_final['sentiment'] = df[\"user_rating\"].apply(lambda x:1 if x>3 else 0)"
   ]
  },
  {
   "cell_type": "code",
   "execution_count": 41,
   "metadata": {
    "colab": {
     "base_uri": "https://localhost:8080/"
    },
    "id": "mkK-c2uX9Ay1",
    "outputId": "ceab8f6d-c0dc-4c3e-b73a-d9db82f89c37"
   },
   "outputs": [
    {
     "data": {
      "text/plain": [
       "1    42939\n",
       "0    18286\n",
       "Name: sentiment, dtype: int64"
      ]
     },
     "execution_count": 41,
     "metadata": {
      "tags": []
     },
     "output_type": "execute_result"
    }
   ],
   "source": [
    "df_final['sentiment'].value_counts()\n",
    "#Still seems to be biased distribution.Values 1 have higher count"
   ]
  },
  {
   "cell_type": "markdown",
   "metadata": {
    "id": "K4rxSZWp1VAb"
   },
   "source": [
    "### 4.15 Check frequency distribution of the 'sentiment'"
   ]
  },
  {
   "cell_type": "code",
   "execution_count": 42,
   "metadata": {
    "colab": {
     "base_uri": "https://localhost:8080/",
     "height": 279
    },
    "id": "yt3gH7Iz1dVP",
    "outputId": "e65c2a0b-3987-480a-8568-d263b5b56945"
   },
   "outputs": [
    {
     "data": {
      "text/plain": [
       "<matplotlib.axes._subplots.AxesSubplot at 0x7f5e13af7b10>"
      ]
     },
     "execution_count": 42,
     "metadata": {
      "tags": []
     },
     "output_type": "execute_result"
    },
    {
     "data": {
      "image/png": "[encoded data removed]",
      "text/plain": [
       "<Figure size 432x288 with 1 Axes>"
      ]
     },
     "metadata": {
      "needs_background": "light",
      "tags": []
     },
     "output_type": "display_data"
    }
   ],
   "source": [
    "df_final['sentiment'].value_counts().plot(kind='bar')"
   ]
  },
  {
   "cell_type": "markdown",
   "metadata": {
    "id": "rK0KMghP1ddb"
   },
   "source": [
    "### 4.16 Perform bivariate analysis. Check correlation/crosstab between features and write your inferences."
   ]
  },
  {
   "cell_type": "code",
   "execution_count": 43,
   "metadata": {
    "colab": {
     "base_uri": "https://localhost:8080/",
     "height": 390
    },
    "id": "nmsQLAsQEQC_",
    "outputId": "68561b39-59bf-4895-fbec-87324f52d1f7"
   },
   "outputs": [
    {
     "data": {
      "text/html": [
       "<div>\n",
       "<style scoped>\n",
       "    .dataframe tbody tr th:only-of-type {\n",
       "        vertical-align: middle;\n",
       "    }\n",
       "\n",
       "    .dataframe tbody tr th {\n",
       "        vertical-align: top;\n",
       "    }\n",
       "\n",
       "    .dataframe thead th {\n",
       "        text-align: right;\n",
       "    }\n",
       "</style>\n",
       "<table border=\"1\" class=\"dataframe\">\n",
       "  <thead>\n",
       "    <tr style=\"text-align: right;\">\n",
       "      <th>sentiment</th>\n",
       "      <th>0</th>\n",
       "      <th>1</th>\n",
       "    </tr>\n",
       "    <tr>\n",
       "      <th>brand</th>\n",
       "      <th></th>\n",
       "      <th></th>\n",
       "    </tr>\n",
       "  </thead>\n",
       "  <tbody>\n",
       "    <tr>\n",
       "      <th>ASUS</th>\n",
       "      <td>69</td>\n",
       "      <td>137</td>\n",
       "    </tr>\n",
       "    <tr>\n",
       "      <th>Apple</th>\n",
       "      <td>1627</td>\n",
       "      <td>3249</td>\n",
       "    </tr>\n",
       "    <tr>\n",
       "      <th>Google</th>\n",
       "      <td>1011</td>\n",
       "      <td>2152</td>\n",
       "    </tr>\n",
       "    <tr>\n",
       "      <th>HUAWEI</th>\n",
       "      <td>366</td>\n",
       "      <td>1653</td>\n",
       "    </tr>\n",
       "    <tr>\n",
       "      <th>Motorola</th>\n",
       "      <td>2220</td>\n",
       "      <td>5494</td>\n",
       "    </tr>\n",
       "    <tr>\n",
       "      <th>Nokia</th>\n",
       "      <td>1904</td>\n",
       "      <td>2974</td>\n",
       "    </tr>\n",
       "    <tr>\n",
       "      <th>OnePlus</th>\n",
       "      <td>45</td>\n",
       "      <td>259</td>\n",
       "    </tr>\n",
       "    <tr>\n",
       "      <th>Samsung</th>\n",
       "      <td>9499</td>\n",
       "      <td>21521</td>\n",
       "    </tr>\n",
       "    <tr>\n",
       "      <th>Sony</th>\n",
       "      <td>879</td>\n",
       "      <td>1812</td>\n",
       "    </tr>\n",
       "    <tr>\n",
       "      <th>Xiaomi</th>\n",
       "      <td>628</td>\n",
       "      <td>3579</td>\n",
       "    </tr>\n",
       "  </tbody>\n",
       "</table>\n",
       "</div>"
      ],
      "text/plain": [
       "sentiment     0      1\n",
       "brand                 \n",
       "ASUS         69    137\n",
       "Apple      1627   3249\n",
       "Google     1011   2152\n",
       "HUAWEI      366   1653\n",
       "Motorola   2220   5494\n",
       "Nokia      1904   2974\n",
       "OnePlus      45    259\n",
       "Samsung    9499  21521\n",
       "Sony        879   1812\n",
       "Xiaomi      628   3579"
      ]
     },
     "execution_count": 43,
     "metadata": {
      "tags": []
     },
     "output_type": "execute_result"
    }
   ],
   "source": [
    "pd.crosstab(df_final['brand'],df_final['sentiment'])"
   ]
  },
  {
   "cell_type": "code",
   "execution_count": 44,
   "metadata": {
    "colab": {
     "base_uri": "https://localhost:8080/",
     "height": 390
    },
    "id": "scAV4fRg1nX0",
    "outputId": "6c2ef0c7-8e06-47dc-826a-8d09a463d25d"
   },
   "outputs": [
    {
     "data": {
      "text/html": [
       "<div>\n",
       "<style scoped>\n",
       "    .dataframe tbody tr th:only-of-type {\n",
       "        vertical-align: middle;\n",
       "    }\n",
       "\n",
       "    .dataframe tbody tr th {\n",
       "        vertical-align: top;\n",
       "    }\n",
       "\n",
       "    .dataframe thead th {\n",
       "        text-align: right;\n",
       "    }\n",
       "</style>\n",
       "<table border=\"1\" class=\"dataframe\">\n",
       "  <thead>\n",
       "    <tr style=\"text-align: right;\">\n",
       "      <th>sentiment</th>\n",
       "      <th>0</th>\n",
       "      <th>1</th>\n",
       "    </tr>\n",
       "    <tr>\n",
       "      <th>brand</th>\n",
       "      <th></th>\n",
       "      <th></th>\n",
       "    </tr>\n",
       "  </thead>\n",
       "  <tbody>\n",
       "    <tr>\n",
       "      <th>ASUS</th>\n",
       "      <td>0.3349515</td>\n",
       "      <td>0.6650485</td>\n",
       "    </tr>\n",
       "    <tr>\n",
       "      <th>Apple</th>\n",
       "      <td>0.3336751</td>\n",
       "      <td>0.6663249</td>\n",
       "    </tr>\n",
       "    <tr>\n",
       "      <th>Google</th>\n",
       "      <td>0.3196333</td>\n",
       "      <td>0.6803667</td>\n",
       "    </tr>\n",
       "    <tr>\n",
       "      <th>HUAWEI</th>\n",
       "      <td>0.1812779</td>\n",
       "      <td>0.8187221</td>\n",
       "    </tr>\n",
       "    <tr>\n",
       "      <th>Motorola</th>\n",
       "      <td>0.2877884</td>\n",
       "      <td>0.7122116</td>\n",
       "    </tr>\n",
       "    <tr>\n",
       "      <th>Nokia</th>\n",
       "      <td>0.3903239</td>\n",
       "      <td>0.6096761</td>\n",
       "    </tr>\n",
       "    <tr>\n",
       "      <th>OnePlus</th>\n",
       "      <td>0.1480263</td>\n",
       "      <td>0.8519737</td>\n",
       "    </tr>\n",
       "    <tr>\n",
       "      <th>Samsung</th>\n",
       "      <td>0.3062218</td>\n",
       "      <td>0.6937782</td>\n",
       "    </tr>\n",
       "    <tr>\n",
       "      <th>Sony</th>\n",
       "      <td>0.3266444</td>\n",
       "      <td>0.6733556</td>\n",
       "    </tr>\n",
       "    <tr>\n",
       "      <th>Xiaomi</th>\n",
       "      <td>0.1492750</td>\n",
       "      <td>0.8507250</td>\n",
       "    </tr>\n",
       "  </tbody>\n",
       "</table>\n",
       "</div>"
      ],
      "text/plain": [
       "sentiment         0         1\n",
       "brand                        \n",
       "ASUS      0.3349515 0.6650485\n",
       "Apple     0.3336751 0.6663249\n",
       "Google    0.3196333 0.6803667\n",
       "HUAWEI    0.1812779 0.8187221\n",
       "Motorola  0.2877884 0.7122116\n",
       "Nokia     0.3903239 0.6096761\n",
       "OnePlus   0.1480263 0.8519737\n",
       "Samsung   0.3062218 0.6937782\n",
       "Sony      0.3266444 0.6733556\n",
       "Xiaomi    0.1492750 0.8507250"
      ]
     },
     "execution_count": 44,
     "metadata": {
      "tags": []
     },
     "output_type": "execute_result"
    }
   ],
   "source": [
    "pd.crosstab(df_final['brand'],df_final['sentiment']).apply(lambda r:r/r.sum(),axis=1)\n",
    "#Defined in terms of percentage.\n",
    "#Almost all brands have higher positive sentiment.\n",
    "#For brands Xiomi 15% is negative sentiment and 85% is positive sentiment"
   ]
  },
  {
   "cell_type": "code",
   "execution_count": 45,
   "metadata": {
    "colab": {
     "base_uri": "https://localhost:8080/",
     "height": 296
    },
    "id": "yziHqVfRDBX9",
    "outputId": "69e77a43-1dd2-48e4-ff88-e013b06b9d73"
   },
   "outputs": [
    {
     "data": {
      "text/plain": [
       "<matplotlib.axes._subplots.AxesSubplot at 0x7f5e132ffb90>"
      ]
     },
     "execution_count": 45,
     "metadata": {
      "tags": []
     },
     "output_type": "execute_result"
    },
    {
     "data": {
      "image/png": "[encoded data removed]",
      "text/plain": [
       "<Figure size 432x288 with 1 Axes>"
      ]
     },
     "metadata": {
      "needs_background": "light",
      "tags": []
     },
     "output_type": "display_data"
    }
   ],
   "source": [
    "sns.boxplot(df_final['sentiment'],df_final['price'])\n",
    "#Not much difference for sentiment based on Price.Price does not seem to influence on sentiment"
   ]
  },
  {
   "cell_type": "markdown",
   "metadata": {
    "id": "2Nzj7ZXVLakx"
   },
   "source": [
    "## 5. Text Preprocessing and Vectorization"
   ]
  },
  {
   "cell_type": "markdown",
   "metadata": {
    "id": "ZbC_RPndnlf3"
   },
   "source": [
    "We will analyze the 'body' and 'review_title' to gain more understanding.\n",
    "\n",
    "We will peform the below tasks\n",
    "\n",
    "- Convert the text into lowercase\n",
    "- Remove punctuation\n",
    "- Remove stopwords (English, from nltk corpus)\n",
    "- Remove other keywords like \"phone\" and brand name"
   ]
  },
  {
   "cell_type": "markdown",
   "metadata": {
    "id": "XnhMQsxz2DJH"
   },
   "source": [
    "### 5.1 Change the datatype of the 'body' column to 'str' and convert it into lowercase. Print any two samples and check the output."
   ]
  },
  {
   "cell_type": "code",
   "execution_count": 46,
   "metadata": {
    "id": "1DbTf2yc2VOQ"
   },
   "outputs": [],
   "source": [
    "import nltk"
   ]
  },
  {
   "cell_type": "code",
   "execution_count": 47,
   "metadata": {
    "colab": {
     "base_uri": "https://localhost:8080/"
    },
    "id": "06emiW4iGG4V",
    "outputId": "26a19224-b4e0-4b20-bb99-4c5a4a7c201e"
   },
   "outputs": [
    {
     "name": "stdout",
     "output_type": "stream",
     "text": [
      "[nltk_data] Downloading package punkt to /root/nltk_data...\n",
      "[nltk_data]   Package punkt is already up-to-date!\n"
     ]
    },
    {
     "data": {
      "text/plain": [
       "True"
      ]
     },
     "execution_count": 47,
     "metadata": {
      "tags": []
     },
     "output_type": "execute_result"
    }
   ],
   "source": [
    "nltk.download('punkt')"
   ]
  },
  {
   "cell_type": "code",
   "execution_count": 48,
   "metadata": {
    "colab": {
     "base_uri": "https://localhost:8080/"
    },
    "id": "jFbaVCu4Gcix",
    "outputId": "8718b55c-2304-4722-8462-e04a65427661"
   },
   "outputs": [
    {
     "data": {
      "text/plain": [
       "Index(['brand', 'body', 'price', 'user_rating', 'review_title', 'sentiment'], dtype='object')"
      ]
     },
     "execution_count": 48,
     "metadata": {
      "tags": []
     },
     "output_type": "execute_result"
    }
   ],
   "source": [
    "df_final.columns"
   ]
  },
  {
   "cell_type": "code",
   "execution_count": 49,
   "metadata": {
    "colab": {
     "base_uri": "https://localhost:8080/",
     "height": 35
    },
    "id": "DqCSe7jJGUoi",
    "outputId": "5b6737d3-8bed-4cff-9b09-b3a4e1294c7f"
   },
   "outputs": [
    {
     "data": {
      "application/vnd.google.colaboratory.intrinsic+json": {
       "type": "string"
      },
      "text/plain": [
       "\"DON'T BUY OUT OF SERVICE\""
      ]
     },
     "execution_count": 49,
     "metadata": {
      "tags": []
     },
     "output_type": "execute_result"
    }
   ],
   "source": [
    "df_final.iloc[0,1]\n",
    "#We are trying to check 1st row and Body column(Index 1).\n",
    "#It is in capital letters and has punctuation "
   ]
  },
  {
   "cell_type": "code",
   "execution_count": 50,
   "metadata": {
    "id": "tMde4gTgG5Ix"
   },
   "outputs": [],
   "source": [
    "# This regex code can be used for cleaning .In case we want to remove numbers.Not used in this exercise.\n",
    "import re, string\n",
    "\n",
    "def clean_str(string):\n",
    "  \"\"\"\n",
    "  String cleaning before vectorization\n",
    "  \"\"\"\n",
    "  try:    \n",
    "    string = re.sub(r'^https?:\\/\\/<>.*[\\r\\n]*!', '', string, flags=re.MULTILINE)\n",
    "    string = re.sub(r\"[^A-Za-z]\", \" \", string)         \n",
    "    words = string.strip().lower().split()    \n",
    "    words = [w for w in words if len(w)>=1]\n",
    "    return \" \".join(words)\t\n",
    "  except:\n",
    "    return \"\"\n",
    "\n",
    "#df_lower = df_final\n",
    "#for index,row in df_final.iterrows():\n",
    "#     str_lower = row['body']\n",
    "#     df_lower['body'] = clean_str(str_lower)"
   ]
  },
  {
   "cell_type": "code",
   "execution_count": 51,
   "metadata": {
    "colab": {
     "base_uri": "https://localhost:8080/"
    },
    "id": "rTIHp0VzJess",
    "outputId": "8dd0bd49-0d23-40d2-fd28-8fad5c1f2c83"
   },
   "outputs": [
    {
     "data": {
      "text/plain": [
       "14                             don't buy out of service\n",
       "17    1 star because the phones locked so i have to ...\n",
       "18    the product has been very good. i had used thi...\n",
       "21    i bought this phone to replace an lg phone tha...\n",
       "22    i purchased this phone for my at&t phone repla...\n",
       "Name: keywords, dtype: object"
      ]
     },
     "execution_count": 51,
     "metadata": {
      "tags": []
     },
     "output_type": "execute_result"
    }
   ],
   "source": [
    "df_final['keywords'] = df_final['body'].str.lower()\n",
    "df_final['keywords'].head(5)"
   ]
  },
  {
   "cell_type": "code",
   "execution_count": 52,
   "metadata": {
    "colab": {
     "base_uri": "https://localhost:8080/"
    },
    "id": "J7X3MueqLOzZ",
    "outputId": "5823a015-55e6-4f36-9c5b-12dc0b6ddb20"
   },
   "outputs": [
    {
     "name": "stdout",
     "output_type": "stream",
     "text": [
      "<class 'pandas.core.frame.DataFrame'>\n",
      "Int64Index: 61225 entries, 14 to 67984\n",
      "Data columns (total 7 columns):\n",
      " #   Column        Non-Null Count  Dtype  \n",
      "---  ------        --------------  -----  \n",
      " 0   brand         61078 non-null  object \n",
      " 1   body          61207 non-null  object \n",
      " 2   price         61225 non-null  float64\n",
      " 3   user_rating   61225 non-null  int64  \n",
      " 4   review_title  61211 non-null  object \n",
      " 5   sentiment     61225 non-null  int64  \n",
      " 6   keywords      61207 non-null  object \n",
      "dtypes: float64(1), int64(2), object(4)\n",
      "memory usage: 6.2+ MB\n"
     ]
    }
   ],
   "source": [
    "df_final.info()"
   ]
  },
  {
   "cell_type": "code",
   "execution_count": 53,
   "metadata": {
    "id": "mgIxtuGwOHx_"
   },
   "outputs": [],
   "source": [
    "#df_final['body'] = df_final['body'].str.replace('[^\\w\\s]','').This can also be removed to use punctuations"
   ]
  },
  {
   "cell_type": "markdown",
   "metadata": {
    "id": "mXYBFImRNFpJ"
   },
   "source": [
    "### 5.2 Remove punctuations from the lowercased 'body' column and display at least two samples."
   ]
  },
  {
   "cell_type": "code",
   "execution_count": 54,
   "metadata": {
    "colab": {
     "base_uri": "https://localhost:8080/"
    },
    "id": "2Dvl0WPRr4yG",
    "outputId": "c299c91e-0a21-409d-a8a3-d04c1abd4c98"
   },
   "outputs": [
    {
     "data": {
      "text/plain": [
       "Index(['brand', 'body', 'price', 'user_rating', 'review_title', 'sentiment',\n",
       "       'keywords'],\n",
       "      dtype='object')"
      ]
     },
     "execution_count": 54,
     "metadata": {
      "tags": []
     },
     "output_type": "execute_result"
    }
   ],
   "source": [
    "df_final.columns"
   ]
  },
  {
   "cell_type": "code",
   "execution_count": 55,
   "metadata": {
    "colab": {
     "base_uri": "https://localhost:8080/",
     "height": 35
    },
    "id": "IAw6TK3zOKMZ",
    "outputId": "99d796be-2044-466a-df2e-2af17fd5e39e"
   },
   "outputs": [
    {
     "data": {
      "application/vnd.google.colaboratory.intrinsic+json": {
       "type": "string"
      },
      "text/plain": [
       "\"don't buy out of service\""
      ]
     },
     "execution_count": 55,
     "metadata": {
      "tags": []
     },
     "output_type": "execute_result"
    }
   ],
   "source": [
    "df_final.iloc[0,6]\n",
    "#Check column keywords to see that lowercase conversion is done"
   ]
  },
  {
   "cell_type": "code",
   "execution_count": 56,
   "metadata": {
    "id": "Xpry16owOods"
   },
   "outputs": [],
   "source": [
    "import string\n",
    "df_final['keywords'] = df_final['keywords'].str.translate(str.maketrans('', '', string.punctuation))\n",
    "#This code removes punctuations"
   ]
  },
  {
   "cell_type": "code",
   "execution_count": 57,
   "metadata": {
    "colab": {
     "base_uri": "https://localhost:8080/",
     "height": 35
    },
    "id": "31kEYbMwQwNk",
    "outputId": "277c3e4d-3b53-4b6c-8ca4-c3f843d9c01f"
   },
   "outputs": [
    {
     "data": {
      "application/vnd.google.colaboratory.intrinsic+json": {
       "type": "string"
      },
      "text/plain": [
       "'dont buy out of service'"
      ]
     },
     "execution_count": 57,
     "metadata": {
      "tags": []
     },
     "output_type": "execute_result"
    }
   ],
   "source": [
    "df_final.iloc[0,6]\n",
    "#We see that ' has been removed ."
   ]
  },
  {
   "cell_type": "code",
   "execution_count": 58,
   "metadata": {
    "colab": {
     "base_uri": "https://localhost:8080/",
     "height": 52
    },
    "id": "qfdmwG0eO0Gz",
    "outputId": "3f9d33a7-04b6-40f2-e9e9-8ade69a78384"
   },
   "outputs": [
    {
     "data": {
      "application/vnd.google.colaboratory.intrinsic+json": {
       "type": "string"
      },
      "text/plain": [
       "'this phone was the one my husband got when we first opened our cell account many years ago he is not open to change and i wasnt sure i could get this phone again i am very glad i was able to get it for him and it is working quite well thank you'"
      ]
     },
     "execution_count": 58,
     "metadata": {
      "tags": []
     },
     "output_type": "execute_result"
    }
   ],
   "source": [
    "df_final.iloc[30,6]\n"
   ]
  },
  {
   "cell_type": "markdown",
   "metadata": {
    "id": "8Zk7ja6A2owN"
   },
   "source": [
    "### 5.3 Remove stop words from the above pre-processed 'body' column and display at least two samples."
   ]
  },
  {
   "cell_type": "code",
   "execution_count": 59,
   "metadata": {
    "colab": {
     "base_uri": "https://localhost:8080/"
    },
    "id": "1d-DhX_e2yQ-",
    "outputId": "5bf93b5f-d4bc-480c-9c5a-6562d35a9646"
   },
   "outputs": [
    {
     "name": "stdout",
     "output_type": "stream",
     "text": [
      "[nltk_data] Downloading package stopwords to /root/nltk_data...\n",
      "[nltk_data]   Package stopwords is already up-to-date!\n"
     ]
    },
    {
     "data": {
      "text/plain": [
       "True"
      ]
     },
     "execution_count": 59,
     "metadata": {
      "tags": []
     },
     "output_type": "execute_result"
    }
   ],
   "source": [
    "import nltk\n",
    "from nltk.corpus import stopwords\n",
    "nltk.download('stopwords')"
   ]
  },
  {
   "cell_type": "code",
   "execution_count": 60,
   "metadata": {
    "colab": {
     "base_uri": "https://localhost:8080/"
    },
    "id": "CJpipL_XRUqm",
    "outputId": "75c86c22-b897-4f86-d860-9278bc307cda"
   },
   "outputs": [
    {
     "data": {
      "text/plain": [
       "{'a',\n",
       " 'about',\n",
       " 'above',\n",
       " 'after',\n",
       " 'again',\n",
       " 'against',\n",
       " 'ain',\n",
       " 'all',\n",
       " 'am',\n",
       " 'an',\n",
       " 'and',\n",
       " 'any',\n",
       " 'are',\n",
       " 'aren',\n",
       " \"aren't\",\n",
       " 'as',\n",
       " 'at',\n",
       " 'be',\n",
       " 'because',\n",
       " 'been',\n",
       " 'before',\n",
       " 'being',\n",
       " 'below',\n",
       " 'between',\n",
       " 'both',\n",
       " 'but',\n",
       " 'by',\n",
       " 'can',\n",
       " 'couldn',\n",
       " \"couldn't\",\n",
       " 'd',\n",
       " 'did',\n",
       " 'didn',\n",
       " \"didn't\",\n",
       " 'do',\n",
       " 'does',\n",
       " 'doesn',\n",
       " \"doesn't\",\n",
       " 'doing',\n",
       " 'don',\n",
       " \"don't\",\n",
       " 'down',\n",
       " 'during',\n",
       " 'each',\n",
       " 'few',\n",
       " 'for',\n",
       " 'from',\n",
       " 'further',\n",
       " 'had',\n",
       " 'hadn',\n",
       " \"hadn't\",\n",
       " 'has',\n",
       " 'hasn',\n",
       " \"hasn't\",\n",
       " 'have',\n",
       " 'haven',\n",
       " \"haven't\",\n",
       " 'having',\n",
       " 'he',\n",
       " 'her',\n",
       " 'here',\n",
       " 'hers',\n",
       " 'herself',\n",
       " 'him',\n",
       " 'himself',\n",
       " 'his',\n",
       " 'how',\n",
       " 'i',\n",
       " 'if',\n",
       " 'in',\n",
       " 'into',\n",
       " 'is',\n",
       " 'isn',\n",
       " \"isn't\",\n",
       " 'it',\n",
       " \"it's\",\n",
       " 'its',\n",
       " 'itself',\n",
       " 'just',\n",
       " 'll',\n",
       " 'm',\n",
       " 'ma',\n",
       " 'me',\n",
       " 'mightn',\n",
       " \"mightn't\",\n",
       " 'more',\n",
       " 'most',\n",
       " 'mustn',\n",
       " \"mustn't\",\n",
       " 'my',\n",
       " 'myself',\n",
       " 'needn',\n",
       " \"needn't\",\n",
       " 'no',\n",
       " 'nor',\n",
       " 'not',\n",
       " 'now',\n",
       " 'o',\n",
       " 'of',\n",
       " 'off',\n",
       " 'on',\n",
       " 'once',\n",
       " 'only',\n",
       " 'or',\n",
       " 'other',\n",
       " 'our',\n",
       " 'ours',\n",
       " 'ourselves',\n",
       " 'out',\n",
       " 'over',\n",
       " 'own',\n",
       " 're',\n",
       " 's',\n",
       " 'same',\n",
       " 'shan',\n",
       " \"shan't\",\n",
       " 'she',\n",
       " \"she's\",\n",
       " 'should',\n",
       " \"should've\",\n",
       " 'shouldn',\n",
       " \"shouldn't\",\n",
       " 'so',\n",
       " 'some',\n",
       " 'such',\n",
       " 't',\n",
       " 'than',\n",
       " 'that',\n",
       " \"that'll\",\n",
       " 'the',\n",
       " 'their',\n",
       " 'theirs',\n",
       " 'them',\n",
       " 'themselves',\n",
       " 'then',\n",
       " 'there',\n",
       " 'these',\n",
       " 'they',\n",
       " 'this',\n",
       " 'those',\n",
       " 'through',\n",
       " 'to',\n",
       " 'too',\n",
       " 'under',\n",
       " 'until',\n",
       " 'up',\n",
       " 've',\n",
       " 'very',\n",
       " 'was',\n",
       " 'wasn',\n",
       " \"wasn't\",\n",
       " 'we',\n",
       " 'were',\n",
       " 'weren',\n",
       " \"weren't\",\n",
       " 'what',\n",
       " 'when',\n",
       " 'where',\n",
       " 'which',\n",
       " 'while',\n",
       " 'who',\n",
       " 'whom',\n",
       " 'why',\n",
       " 'will',\n",
       " 'with',\n",
       " 'won',\n",
       " \"won't\",\n",
       " 'wouldn',\n",
       " \"wouldn't\",\n",
       " 'y',\n",
       " 'you',\n",
       " \"you'd\",\n",
       " \"you'll\",\n",
       " \"you're\",\n",
       " \"you've\",\n",
       " 'your',\n",
       " 'yours',\n",
       " 'yourself',\n",
       " 'yourselves'}"
      ]
     },
     "execution_count": 60,
     "metadata": {
      "tags": []
     },
     "output_type": "execute_result"
    }
   ],
   "source": [
    "stop_words = set(stopwords.words('english'))\n",
    "stop_words"
   ]
  },
  {
   "cell_type": "code",
   "execution_count": 61,
   "metadata": {
    "colab": {
     "base_uri": "https://localhost:8080/"
    },
    "id": "FI8c3jJfVR-e",
    "outputId": "b4be3982-5bb4-4c7e-e1fe-e386be264a57"
   },
   "outputs": [
    {
     "data": {
      "text/plain": [
       "14                              dont buy out of service\n",
       "17    1 star because the phones locked so i have to ...\n",
       "Name: keywords, dtype: object"
      ]
     },
     "execution_count": 61,
     "metadata": {
      "tags": []
     },
     "output_type": "execute_result"
    }
   ],
   "source": [
    "df_final['keywords'].head(2)"
   ]
  },
  {
   "cell_type": "code",
   "execution_count": 62,
   "metadata": {
    "colab": {
     "base_uri": "https://localhost:8080/"
    },
    "id": "egfuONUFVCn6",
    "outputId": "03bb1aec-2288-4926-988e-d2501fd9222f"
   },
   "outputs": [
    {
     "data": {
      "text/plain": [
       "14                                     dont buy service\n",
       "17      1 star phones locked pay additional fees unlock\n",
       "18    product good used cell phone one projects work...\n",
       "21    bought phone replace lg phone didnt like expec...\n",
       "22    purchased phone att phone replacement even tho...\n",
       "Name: keywords, dtype: object"
      ]
     },
     "execution_count": 62,
     "metadata": {
      "tags": []
     },
     "output_type": "execute_result"
    }
   ],
   "source": [
    "df_final['keywords'] = df_final['keywords'].astype(str)\n",
    "df_final['keywords'] = df_final['keywords'].apply(lambda words: ' '.join(w for w in words.split() if w not in stop_words))\n",
    "df_final['keywords'].head()\n",
    "#For first row we can see that word 'out','of' are removed.These are stopwords"
   ]
  },
  {
   "cell_type": "markdown",
   "metadata": {
    "id": "TQNvXay42yaQ"
   },
   "source": [
    "### 5.4 Apply lemmatisation on the above preprocessed text and display a few samples"
   ]
  },
  {
   "cell_type": "markdown",
   "metadata": {
    "id": "qesYi_v3syCi"
   },
   "source": [
    "Tried using Stemming and Lemmittization."
   ]
  },
  {
   "cell_type": "code",
   "execution_count": 63,
   "metadata": {
    "id": "oQ1VfFaa3DET"
   },
   "outputs": [],
   "source": [
    "from nltk.stem import PorterStemmer"
   ]
  },
  {
   "cell_type": "code",
   "execution_count": 64,
   "metadata": {
    "id": "uX35wRqUXRMz"
   },
   "outputs": [],
   "source": [
    "#Function to Stem words\n",
    "def get_stemmed_text(corpus):\n",
    "    stemmer = PorterStemmer()\n",
    "    return [' '.join([stemmer.stem(word) for word in review.split()]) for review in corpus]"
   ]
  },
  {
   "cell_type": "code",
   "execution_count": 65,
   "metadata": {
    "colab": {
     "base_uri": "https://localhost:8080/",
     "height": 35
    },
    "id": "hWc8KTIyXhZA",
    "outputId": "ffdf481f-4b38-447e-b53b-60b42a21b3be"
   },
   "outputs": [
    {
     "data": {
      "application/vnd.google.colaboratory.intrinsic+json": {
       "type": "string"
      },
      "text/plain": [
       "'phone one husband got first opened cell account many years ago open change wasnt sure could get phone glad able get working quite well thank'"
      ]
     },
     "execution_count": 65,
     "metadata": {
      "tags": []
     },
     "output_type": "execute_result"
    }
   ],
   "source": [
    "df_final.iloc[30,6]"
   ]
  },
  {
   "cell_type": "code",
   "execution_count": 66,
   "metadata": {
    "colab": {
     "base_uri": "https://localhost:8080/"
    },
    "id": "rzJA80MRXm86",
    "outputId": "f863bc6e-ebb9-4ad3-f01a-942d7bbaf78b"
   },
   "outputs": [
    {
     "data": {
      "text/plain": [
       "['dont buy servic']"
      ]
     },
     "execution_count": 66,
     "metadata": {
      "tags": []
     },
     "output_type": "execute_result"
    }
   ],
   "source": [
    "#Stemming for first review\n",
    "get_stemmed_text([df_final.iloc[0, 6]])"
   ]
  },
  {
   "cell_type": "code",
   "execution_count": 67,
   "metadata": {
    "colab": {
     "base_uri": "https://localhost:8080/"
    },
    "id": "SSrxJH_qX_k0",
    "outputId": "0c23e610-d0fc-4cb2-a662-e02016c63337"
   },
   "outputs": [
    {
     "name": "stdout",
     "output_type": "stream",
     "text": [
      "[nltk_data] Downloading package wordnet to /root/nltk_data...\n",
      "[nltk_data]   Package wordnet is already up-to-date!\n"
     ]
    },
    {
     "data": {
      "text/plain": [
       "True"
      ]
     },
     "execution_count": 67,
     "metadata": {
      "tags": []
     },
     "output_type": "execute_result"
    }
   ],
   "source": [
    "from nltk.stem import WordNetLemmatizer\n",
    "nltk.download('wordnet')"
   ]
  },
  {
   "cell_type": "code",
   "execution_count": 68,
   "metadata": {
    "colab": {
     "base_uri": "https://localhost:8080/"
    },
    "id": "PKm83-FwcNrz",
    "outputId": "43366666-6184-4526-d810-df8762360055"
   },
   "outputs": [
    {
     "data": {
      "text/plain": [
       "Index(['brand', 'body', 'price', 'user_rating', 'review_title', 'sentiment',\n",
       "       'keywords'],\n",
       "      dtype='object')"
      ]
     },
     "execution_count": 68,
     "metadata": {
      "tags": []
     },
     "output_type": "execute_result"
    }
   ],
   "source": [
    "df_final.columns"
   ]
  },
  {
   "cell_type": "code",
   "execution_count": 69,
   "metadata": {
    "colab": {
     "base_uri": "https://localhost:8080/",
     "height": 204
    },
    "id": "QjPwNjxIcJ_S",
    "outputId": "0c9be5f7-c8b4-41dd-ece6-83b2c0171949"
   },
   "outputs": [
    {
     "data": {
      "text/html": [
       "<div>\n",
       "<style scoped>\n",
       "    .dataframe tbody tr th:only-of-type {\n",
       "        vertical-align: middle;\n",
       "    }\n",
       "\n",
       "    .dataframe tbody tr th {\n",
       "        vertical-align: top;\n",
       "    }\n",
       "\n",
       "    .dataframe thead th {\n",
       "        text-align: right;\n",
       "    }\n",
       "</style>\n",
       "<table border=\"1\" class=\"dataframe\">\n",
       "  <thead>\n",
       "    <tr style=\"text-align: right;\">\n",
       "      <th></th>\n",
       "      <th>brand</th>\n",
       "      <th>body</th>\n",
       "      <th>price</th>\n",
       "      <th>user_rating</th>\n",
       "      <th>review_title</th>\n",
       "      <th>sentiment</th>\n",
       "      <th>keywords</th>\n",
       "    </tr>\n",
       "  </thead>\n",
       "  <tbody>\n",
       "    <tr>\n",
       "      <th>14</th>\n",
       "      <td>Motorola</td>\n",
       "      <td>DON'T BUY OUT OF SERVICE</td>\n",
       "      <td>49.9500000</td>\n",
       "      <td>1</td>\n",
       "      <td>Stupid phone</td>\n",
       "      <td>0</td>\n",
       "      <td>dont buy service</td>\n",
       "    </tr>\n",
       "    <tr>\n",
       "      <th>17</th>\n",
       "      <td>Motorola</td>\n",
       "      <td>1 star because the phones locked so I have to ...</td>\n",
       "      <td>49.9500000</td>\n",
       "      <td>1</td>\n",
       "      <td>Phones locked</td>\n",
       "      <td>0</td>\n",
       "      <td>1 star phones locked pay additional fees unlock</td>\n",
       "    </tr>\n",
       "    <tr>\n",
       "      <th>18</th>\n",
       "      <td>Motorola</td>\n",
       "      <td>The product has been very good. I had used thi...</td>\n",
       "      <td>49.9500000</td>\n",
       "      <td>5</td>\n",
       "      <td>Excellent product</td>\n",
       "      <td>1</td>\n",
       "      <td>product good used cell phone one projects work...</td>\n",
       "    </tr>\n",
       "    <tr>\n",
       "      <th>21</th>\n",
       "      <td>Motorola</td>\n",
       "      <td>I bought this phone to replace an LG phone tha...</td>\n",
       "      <td>99.9900000</td>\n",
       "      <td>4</td>\n",
       "      <td>Nice, but</td>\n",
       "      <td>1</td>\n",
       "      <td>bought phone replace lg phone didnt like expec...</td>\n",
       "    </tr>\n",
       "    <tr>\n",
       "      <th>22</th>\n",
       "      <td>Motorola</td>\n",
       "      <td>I purchased this phone for my AT&amp;T phone repla...</td>\n",
       "      <td>99.9900000</td>\n",
       "      <td>1</td>\n",
       "      <td>It seems it doesn't work with the existing AT&amp;...</td>\n",
       "      <td>0</td>\n",
       "      <td>purchased phone att phone replacement even tho...</td>\n",
       "    </tr>\n",
       "  </tbody>\n",
       "</table>\n",
       "</div>"
      ],
      "text/plain": [
       "       brand                                               body      price  \\\n",
       "14  Motorola                           DON'T BUY OUT OF SERVICE 49.9500000   \n",
       "17  Motorola  1 star because the phones locked so I have to ... 49.9500000   \n",
       "18  Motorola  The product has been very good. I had used thi... 49.9500000   \n",
       "21  Motorola  I bought this phone to replace an LG phone tha... 99.9900000   \n",
       "22  Motorola  I purchased this phone for my AT&T phone repla... 99.9900000   \n",
       "\n",
       "    user_rating                                       review_title  sentiment  \\\n",
       "14            1                                       Stupid phone          0   \n",
       "17            1                                      Phones locked          0   \n",
       "18            5                                  Excellent product          1   \n",
       "21            4                                          Nice, but          1   \n",
       "22            1  It seems it doesn't work with the existing AT&...          0   \n",
       "\n",
       "                                             keywords  \n",
       "14                                   dont buy service  \n",
       "17    1 star phones locked pay additional fees unlock  \n",
       "18  product good used cell phone one projects work...  \n",
       "21  bought phone replace lg phone didnt like expec...  \n",
       "22  purchased phone att phone replacement even tho...  "
      ]
     },
     "execution_count": 69,
     "metadata": {
      "tags": []
     },
     "output_type": "execute_result"
    }
   ],
   "source": [
    "df_final.head(5)"
   ]
  },
  {
   "cell_type": "code",
   "execution_count": 70,
   "metadata": {
    "colab": {
     "base_uri": "https://localhost:8080/"
    },
    "id": "AF3odwUTfIk7",
    "outputId": "5a1ddcf5-f2e7-4e3a-eaf0-46957645488a"
   },
   "outputs": [
    {
     "data": {
      "text/plain": [
       "Index(['brand', 'body', 'price', 'user_rating', 'review_title', 'sentiment',\n",
       "       'keywords'],\n",
       "      dtype='object')"
      ]
     },
     "execution_count": 70,
     "metadata": {
      "tags": []
     },
     "output_type": "execute_result"
    }
   ],
   "source": [
    "df_final.columns"
   ]
  },
  {
   "cell_type": "code",
   "execution_count": 71,
   "metadata": {
    "id": "9m75juEMgBI3"
   },
   "outputs": [],
   "source": [
    "y = df_final['sentiment']"
   ]
  },
  {
   "cell_type": "code",
   "execution_count": 72,
   "metadata": {
    "id": "ceA-fwCGe8bD"
   },
   "outputs": [],
   "source": [
    "#Using it with Lemmatized text\n",
    "#vect = TfidfVectorizer()\n",
    "#vect.fit(df_final['lemm'].tolist())\n",
    "#len(vect.get_feature_names())"
   ]
  },
  {
   "cell_type": "markdown",
   "metadata": {
    "id": "OzweL_fA3DiN"
   },
   "source": [
    "### 5.5 Check most common and rare words in the processed text\n",
    "- We can also write a function to check word frequency of the text (Optional)"
   ]
  },
  {
   "cell_type": "code",
   "execution_count": 73,
   "metadata": {
    "colab": {
     "base_uri": "https://localhost:8080/"
    },
    "id": "MzIAyX3N6lz5",
    "outputId": "16844ba0-5bb6-4a3d-cc2a-113a3608d845"
   },
   "outputs": [
    {
     "data": {
      "text/plain": [
       "[('phone', 74437),\n",
       " ('great', 16983),\n",
       " ('good', 13411),\n",
       " ('battery', 11639),\n",
       " ('screen', 10374),\n",
       " ('like', 10359),\n",
       " ('one', 10031),\n",
       " ('new', 9477),\n",
       " ('use', 8755),\n",
       " ('get', 7566)]"
      ]
     },
     "execution_count": 73,
     "metadata": {
      "tags": []
     },
     "output_type": "execute_result"
    }
   ],
   "source": [
    "from collections import Counter\n",
    "cnt = Counter()\n",
    "for text in df_final[\"keywords\"].values:\n",
    "    for word in text.split():\n",
    "        cnt[word] += 1\n",
    "        \n",
    "cnt.most_common(10)"
   ]
  },
  {
   "cell_type": "code",
   "execution_count": 74,
   "metadata": {
    "colab": {
     "base_uri": "https://localhost:8080/"
    },
    "id": "ytBmPnQkiNnI",
    "outputId": "25971c3b-77cb-46f8-bb29-080d46f07650"
   },
   "outputs": [
    {
     "data": {
      "text/plain": [
       "[('prontoen', 1),\n",
       " ('500500', 1),\n",
       " ('sd730g', 1),\n",
       " ('s10’s', 1),\n",
       " ('phone🤩', 1),\n",
       " ('nois', 1),\n",
       " ('tomuch', 1),\n",
       " ('instructivo', 1),\n",
       " ('confirmen', 1),\n",
       " ('intrligente', 1)]"
      ]
     },
     "execution_count": 74,
     "metadata": {
      "tags": []
     },
     "output_type": "execute_result"
    }
   ],
   "source": [
    "rare_words = 10\n",
    "cnt.most_common()[:-rare_words-1:-1]\n",
    "#Taking words from last"
   ]
  },
  {
   "cell_type": "markdown",
   "metadata": {
    "id": "9UbdTGsv60t1"
   },
   "source": [
    "### 5.6 Initialize tf-idf vectorizer and transform the preprocessed body text"
   ]
  },
  {
   "cell_type": "code",
   "execution_count": 75,
   "metadata": {
    "id": "_Jfo6go_69yh"
   },
   "outputs": [],
   "source": [
    "# Initialize TF-IDF vectorizer\n",
    "from sklearn.feature_extraction.text import TfidfVectorizer\n",
    "\n",
    "tfidf_vectorizer = TfidfVectorizer()"
   ]
  },
  {
   "cell_type": "code",
   "execution_count": 76,
   "metadata": {
    "colab": {
     "base_uri": "https://localhost:8080/"
    },
    "id": "OEvKx2eTu5q3",
    "outputId": "82eed413-5172-4b2d-9624-f384fa2a56a6"
   },
   "outputs": [
    {
     "name": "stdout",
     "output_type": "stream",
     "text": [
      "[nltk_data] Downloading package wordnet to /root/nltk_data...\n",
      "[nltk_data]   Package wordnet is already up-to-date!\n"
     ]
    },
    {
     "data": {
      "text/plain": [
       "True"
      ]
     },
     "execution_count": 76,
     "metadata": {
      "tags": []
     },
     "output_type": "execute_result"
    }
   ],
   "source": [
    "nltk.download('wordnet')"
   ]
  },
  {
   "cell_type": "code",
   "execution_count": 77,
   "metadata": {
    "colab": {
     "base_uri": "https://localhost:8080/"
    },
    "id": "RX8m6jQUvAcL",
    "outputId": "03fb5b92-ccdd-407e-83a5-50bd77ec4650"
   },
   "outputs": [
    {
     "data": {
      "text/plain": [
       "14                                 [dont, buy, service]\n",
       "17    [1, star, phone, locked, pay, additional, fee,...\n",
       "18    [product, good, used, cell, phone, one, projec...\n",
       "21    [bought, phone, replace, lg, phone, didnt, lik...\n",
       "22    [purchased, phone, att, phone, replacement, ev...\n",
       "Name: lemm, dtype: object"
      ]
     },
     "execution_count": 77,
     "metadata": {
      "tags": []
     },
     "output_type": "execute_result"
    }
   ],
   "source": [
    "\n",
    "w_tokenizer = nltk.tokenize.WhitespaceTokenizer()\n",
    "lemmatizer = nltk.stem.WordNetLemmatizer()\n",
    "\n",
    "def lemmatize_text(text):\n",
    "  return [lemmatizer.lemmatize(w) for w in w_tokenizer.tokenize(text)]\n",
    "\n",
    "df_final['lemm'] = df_final['keywords'].apply(lemmatize_text)\n",
    "df_final['lemm'].head()"
   ]
  },
  {
   "cell_type": "code",
   "execution_count": 78,
   "metadata": {
    "id": "2aHn3k2pvE-F"
   },
   "outputs": [],
   "source": [
    "# Initialize TF-IDF vectorizer\n",
    "from sklearn.feature_extraction.text import TfidfVectorizer\n",
    "\n",
    "tfidf_vectorizer = TfidfVectorizer()"
   ]
  },
  {
   "cell_type": "code",
   "execution_count": 79,
   "metadata": {
    "id": "oR4OcGblvIev"
   },
   "outputs": [],
   "source": [
    "# Initialize TF-IDF vectorizer\n",
    "from sklearn.feature_extraction.text import TfidfVectorizer\n",
    "\n",
    "tfidf_vectorizer1 = TfidfVectorizer(ngram_range=(2,2))"
   ]
  },
  {
   "cell_type": "code",
   "execution_count": 80,
   "metadata": {
    "id": "PJSawPh1vIpF"
   },
   "outputs": [],
   "source": [
    "tfidf = tfidf_vectorizer.fit_transform(df_final[\"keywords\"])"
   ]
  },
  {
   "cell_type": "markdown",
   "metadata": {
    "id": "5dqPXETLKN0h"
   },
   "source": [
    "### 5.7 Segregate the data into dependent (sentiment) and independent (transformed body using tf-idf) features for building a classifier. "
   ]
  },
  {
   "cell_type": "code",
   "execution_count": 81,
   "metadata": {
    "id": "CNZ5CGn_vGBZ"
   },
   "outputs": [],
   "source": [
    "tfidf = tfidf_vectorizer.fit_transform(df_final[\"keywords\"])"
   ]
  },
  {
   "cell_type": "markdown",
   "metadata": {
    "id": "4K03FO0q7XBP"
   },
   "source": [
    "### 5.9 Split the data into Train & Test Sets"
   ]
  },
  {
   "cell_type": "code",
   "execution_count": 82,
   "metadata": {
    "id": "D548-7cE7dZa"
   },
   "outputs": [],
   "source": [
    "from sklearn.model_selection import train_test_split\n",
    "X_train, X_test, y1_train, y1_test = train_test_split(tfidf, y, random_state = 50, stratify=y, test_size=0.3)"
   ]
  },
  {
   "cell_type": "markdown",
   "metadata": {
    "id": "rhD1a-beKvE7"
   },
   "source": [
    "## 6. Model building"
   ]
  },
  {
   "cell_type": "markdown",
   "metadata": {
    "id": "UPFovmN03exD"
   },
   "source": [
    "### 6.1 Build a random forest classifier to predict the 'sentiment'\n",
    "### 6.2 Predict on test set\n",
    "### 6.3 Check accuracy and confusion matrix"
   ]
  },
  {
   "cell_type": "code",
   "execution_count": 83,
   "metadata": {
    "colab": {
     "base_uri": "https://localhost:8080/"
    },
    "id": "1v4lCrzGvpve",
    "outputId": "98d5bd89-6633-4ca6-9e84-ea3f30563047"
   },
   "outputs": [
    {
     "name": "stdout",
     "output_type": "stream",
     "text": [
      "0.9958233194110647\n",
      "0.8871406794425087\n"
     ]
    }
   ],
   "source": [
    "from sklearn.ensemble import RandomForestClassifier\n",
    "rf_clf1 = RandomForestClassifier()\n",
    "rf_clf1.fit(X_train, y1_train)\n",
    "print(rf_clf1.score(X_train, y1_train))\n",
    "print(rf_clf1.score(X_test, y1_test))"
   ]
  },
  {
   "cell_type": "markdown",
   "metadata": {
    "id": "zd3sDMn8xkLZ"
   },
   "source": [
    "For training accuracy seems to very high approx 99 %.While for validation it around 88%.This seems to be case of Overfitting"
   ]
  },
  {
   "cell_type": "code",
   "execution_count": 84,
   "metadata": {
    "colab": {
     "base_uri": "https://localhost:8080/"
    },
    "id": "VVrBr7cRgxsT",
    "outputId": "b9bbb096-9f96-4714-cc63-0587d74da658"
   },
   "outputs": [
    {
     "data": {
      "text/plain": [
       "(61225, 38355)"
      ]
     },
     "execution_count": 84,
     "metadata": {
      "tags": []
     },
     "output_type": "execute_result"
    }
   ],
   "source": [
    "tfidf.get_shape()"
   ]
  },
  {
   "cell_type": "code",
   "execution_count": 85,
   "metadata": {
    "colab": {
     "base_uri": "https://localhost:8080/"
    },
    "id": "NJ6Ke4hl30Zk",
    "outputId": "37847326-920a-4eab-e065-a26d5444900b"
   },
   "outputs": [
    {
     "data": {
      "text/plain": [
       "array([[12639,   161],\n",
       "       [   18, 30039]])"
      ]
     },
     "execution_count": 85,
     "metadata": {
      "tags": []
     },
     "output_type": "execute_result"
    }
   ],
   "source": [
    "from sklearn.metrics import confusion_matrix\n",
    "y1_pred = rf_clf1.predict(X_train)\n",
    "confusion_matrix(y1_train, y1_pred)"
   ]
  },
  {
   "cell_type": "markdown",
   "metadata": {
    "id": "UxVOC_j3xvIn"
   },
   "source": [
    "There seem to be roughly 180 records which have been mis-classified."
   ]
  },
  {
   "cell_type": "markdown",
   "metadata": {
    "id": "Ey7an7ukLxWB"
   },
   "source": [
    "## 7. Write your conclusion"
   ]
  },
  {
   "cell_type": "code",
   "execution_count": 86,
   "metadata": {
    "colab": {
     "base_uri": "https://localhost:8080/",
     "height": 282
    },
    "id": "doe4RUU6kJZf",
    "outputId": "a136f831-c748-4528-f11d-ba460ea01e44"
   },
   "outputs": [
    {
     "data": {
      "text/plain": [
       "<matplotlib.axes._subplots.AxesSubplot at 0x7f5e003c2350>"
      ]
     },
     "execution_count": 86,
     "metadata": {
      "tags": []
     },
     "output_type": "execute_result"
    },
    {
     "data": {
      "image/png": "[encoded data removed]",
      "text/plain": [
       "<Figure size 432x288 with 1 Axes>"
      ]
     },
     "metadata": {
      "needs_background": "light",
      "tags": []
     },
     "output_type": "display_data"
    }
   ],
   "source": [
    "df_final[\"len\"] =df_final[\"keywords\"].str.len()\n",
    "df_final[\"len\"].plot()\n",
    "#There seems to be reviews which are very long"
   ]
  },
  {
   "cell_type": "markdown",
   "metadata": {
    "id": "qRigrZSkh7oL"
   },
   "source": [
    "This seems to be overfit model.\n",
    "Different possibilitied which could be tried out for optimisation:\n",
    "1.Merging brand and other features and then doing sentiment analysis\n",
    "2.Try different factorizers\n",
    "3.Lemmitize more features\n",
    "4.More features could be used in Vectorizer.\n",
    "5.We could look at removing rare words.\n",
    "6.Review length being shortend could be looked at."
   ]
  },
  {
   "cell_type": "code",
   "execution_count": 86,
   "metadata": {
    "id": "0csFkbEJmSIe"
   },
   "outputs": [],
   "source": []
  },
  {
   "cell_type": "markdown",
   "metadata": {
    "id": "CD8lVNY0YLQD"
   },
   "source": [
    "##. 8. Further Explore\n",
    "### 8.0 Merge all independent features and the below text preprocessing steps\n",
    "### 8.1 Check rare words and drop them\n",
    "### 8.2 Remove emoticon/emojis\n",
    "### 8.3 Try different vectorizer for vectorization\n",
    "### 8.4 Use embeddings\n",
    "### 8.5 Use NN based models"
   ]
  },
  {
   "cell_type": "code",
   "execution_count": 86,
   "metadata": {
    "id": "bJEEmN3ZY5KJ"
   },
   "outputs": [],
   "source": []
  }
 ],
 "metadata": {
  "colab": {
   "collapsed_sections": [],
   "name": "R8 Internal Lab Question Notebook.ipynb",
   "provenance": []
  },
  "kernelspec": {
   "display_name": "Python 3",
   "language": "python",
   "name": "python3"
  },
  "language_info": {
   "codemirror_mode": {
    "name": "ipython",
    "version": 3
   },
   "file_extension": ".py",
   "mimetype": "text/x-python",
   "name": "python",
   "nbconvert_exporter": "python",
   "pygments_lexer": "ipython3",
   "version": "3.8.5"
  }
 },
 "nbformat": 4,
 "nbformat_minor": 1
}
