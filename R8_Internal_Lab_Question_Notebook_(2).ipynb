{
  "nbformat": 4,
  "nbformat_minor": 0,
  "metadata": {
    "colab": {
      "name": "R8 Internal Lab Question Notebook (2).ipynb",
      "provenance": [],
      "collapsed_sections": [],
      "machine_shape": "hm"
    },
    "kernelspec": {
      "display_name": "Python 3",
      "name": "python3"
    },
    "accelerator": "GPU"
  },
  "cells": [
    {
      "cell_type": "markdown",
      "metadata": {
        "id": "PHYs6Z84xV8E"
      },
      "source": [
        "<img src=\"http://drive.google.com/uc?export=view&id=1tpOCamr9aWz817atPnyXus8w5gJ3mIts\" width=500px>\n",
        "\n",
        "Proprietary content. © Great Learning. All Rights Reserved. Unauthorized use or distribution prohibited."
      ]
    },
    {
      "cell_type": "markdown",
      "metadata": {
        "id": "5QQxgAmWzSye"
      },
      "source": [
        "# Mobile Phone Review Analysis"
      ]
    },
    {
      "cell_type": "markdown",
      "metadata": {
        "id": "FbwHYUXhxaqD"
      },
      "source": [
        "## Context\n",
        "\n",
        "The product companies can utilize the detailed review comments to gather insights from the end user. Most of the products are sold via e-commerce sites like Flipkart or Amazon where customers can buy a product and give their review about the product on the web site. \n",
        "Product managers can identify the relevant reviews from the website and run a sentiment analysis tool to understand what the sentiments of the customer are. Based on their sentiments, they can identify what users think of the current product. Are they happy? Discontent? \n",
        "They can also come up with a document that lists the features, the team needs to focus on for making the product better. \n",
        "\n",
        "## Objective\n",
        "\n",
        "Given the review data rating label, we will try to get insights about various brands and their ratings using text analytics and build a model to predict the rating and overall sentiment. \n"
      ]
    },
    {
      "cell_type": "markdown",
      "metadata": {
        "id": "CI7usguRzeox"
      },
      "source": [
        "### Package version\n",
        "\n",
        "- tensorflow==2.3.0\n",
        "- scikit-learn==0.22.2.post1\n",
        "- pandas==1.0.5\n",
        "- numpy==1.18.5\n",
        "- matplotlib==3.2.2\n",
        "- google==2.0.3"
      ]
    },
    {
      "cell_type": "markdown",
      "metadata": {
        "id": "aiMdVjHRH7NR"
      },
      "source": [
        "### Data Dictionary \n",
        "\n",
        "product_data.csv - contains product details\n",
        "- 'asin',  - Product ASIN\n",
        "- 'brand', - Product Brand\n",
        "- 'title', - Product Title\n",
        "- 'url',  - Product URL\n",
        "- 'image', - Product Image URL\n",
        "- 'rating',- Product Avg. Rating\n",
        "- 'reviewUrl' - Product Review Page URL\n",
        "- 'totalReviews' - Product Total Reviews\n",
        "- ‘price’ - Product Price ($)\n",
        "- ‘originalPrice’ - Product Original Price ($)\n",
        " \n",
        "reviews.csv  - contains user review details\n",
        " \n",
        "- 'asin' - Product ASIN\n",
        "- 'name' - Reviewer Name\n",
        "- 'rating' - Reviewer Rating (scale 1 to 5)\n",
        "- 'date'  - Review Date\n",
        "- 'verified' - Valid Customer\n",
        "- 'title'  - Review Title\n",
        "- 'body'  - Review Content\n",
        "- 'helpfulVotes  - Helpful Feedbacks\n"
      ]
    },
    {
      "cell_type": "markdown",
      "metadata": {
        "id": "cEn52o8jznJK"
      },
      "source": [
        "## Table of Content\n",
        "\n",
        "1. Import Libraries\n",
        "\n",
        "2. Setting options\n",
        "\n",
        "3. Read Data\n",
        "\n",
        "4. Data Analysis and EDA\n",
        "\n",
        "5. Text preprocessing and Vectorization\n",
        "\n",
        "6. Model building\n",
        "\n",
        "7. Conclusion and Interpretation"
      ]
    },
    {
      "cell_type": "markdown",
      "metadata": {
        "id": "x_Lom6cXzqn7"
      },
      "source": [
        "## 1. Import Libraries"
      ]
    },
    {
      "cell_type": "markdown",
      "metadata": {
        "id": "FZtVstH8zre2"
      },
      "source": [
        "Let us start by mounting the drive"
      ]
    },
    {
      "cell_type": "code",
      "metadata": {
        "colab": {
          "base_uri": "https://localhost:8080/"
        },
        "id": "xv9jxv3-R5Xl",
        "outputId": "90bf9e94-1903-4ba7-8628-1e635200a20b"
      },
      "source": [
        "from google.colab import drive\n",
        "drive.mount('/content/drive')"
      ],
      "execution_count": null,
      "outputs": [
        {
          "output_type": "stream",
          "text": [
            "Mounted at /content/drive\n"
          ],
          "name": "stdout"
        }
      ]
    },
    {
      "cell_type": "markdown",
      "metadata": {
        "id": "Gv-tZoFjz2WD"
      },
      "source": [
        "Let us check for the version of installed tensorflow."
      ]
    },
    {
      "cell_type": "code",
      "metadata": {
        "colab": {
          "base_uri": "https://localhost:8080/"
        },
        "id": "eiuUVBuDzzn9",
        "outputId": "cc2de8c8-4d04-4e55-a5f5-b3894fc3ff12"
      },
      "source": [
        "# used to supress display of warnings\n",
        "import warnings\n",
        "\n",
        "# os is used to provide a way of using operating system dependent functionality\n",
        "# We use it for setting working folder\n",
        "import os\n",
        "\n",
        "# Pandas is used for data manipulation and analysis\n",
        "import pandas as pd \n",
        "\n",
        "# Numpy is used for large, multi-dimensional arrays and matrices, along with mathematical operators on these arrays\n",
        "import numpy as np\n",
        "\n",
        "# Matplotlib is a data visualization library for 2D plots of arrays, built on NumPy arrays \n",
        "# and designed to work with the broader SciPy stack\n",
        "import matplotlib.pyplot as plt\n",
        "%matplotlib inline\n",
        "from matplotlib import pyplot\n",
        "\n",
        "# Seaborn is based on matplotlib, which aids in drawing attractive and informative statistical graphics.\n",
        "import seaborn as sns\n",
        "import tensorflow \n",
        "print(tensorflow.__version__)"
      ],
      "execution_count": null,
      "outputs": [
        {
          "output_type": "stream",
          "text": [
            "2.5.0\n"
          ],
          "name": "stdout"
        }
      ]
    },
    {
      "cell_type": "markdown",
      "metadata": {
        "id": "fze-aokU0ukH"
      },
      "source": [
        "## 2. Setting Options"
      ]
    },
    {
      "cell_type": "code",
      "metadata": {
        "id": "T3FALggG0xXa"
      },
      "source": [
        "# suppress display of warnings\n",
        "warnings.filterwarnings('ignore')\n",
        "\n",
        "# display all dataframe columns\n",
        "pd.options.display.max_columns = None\n",
        "\n",
        "# to set the limit to 3 decimals\n",
        "pd.options.display.float_format = '{:.7f}'.format\n",
        "\n",
        "# display all dataframe rows\n",
        "pd.options.display.max_rows = None"
      ],
      "execution_count": null,
      "outputs": []
    },
    {
      "cell_type": "markdown",
      "metadata": {
        "id": "ZT1P1WdK1vfZ"
      },
      "source": [
        "## 3. Read Data"
      ]
    },
    {
      "cell_type": "markdown",
      "metadata": {
        "id": "-UOW6zwww7L1"
      },
      "source": [
        "### 3.1 Read the provided CSVs and check 5 random samples and shape to understand the datasets"
      ]
    },
    {
      "cell_type": "code",
      "metadata": {
        "id": "nxT2g284xF1W"
      },
      "source": [
        "product_df=pd.read_csv(\"/content/drive/MyDrive/NLP/product_data.csv\")\n",
        "review_df=pd.read_csv(\"/content/drive/MyDrive/NLP/reviews.csv\")"
      ],
      "execution_count": null,
      "outputs": []
    },
    {
      "cell_type": "code",
      "metadata": {
        "colab": {
          "base_uri": "https://localhost:8080/",
          "height": 530
        },
        "id": "GRjG44fRxGIq",
        "outputId": "d7177310-8076-4a04-fd8e-5e9b304f5bcc"
      },
      "source": [
        "product_df.head()"
      ],
      "execution_count": null,
      "outputs": [
        {
          "output_type": "execute_result",
          "data": {
            "text/html": [
              "<div>\n",
              "<style scoped>\n",
              "    .dataframe tbody tr th:only-of-type {\n",
              "        vertical-align: middle;\n",
              "    }\n",
              "\n",
              "    .dataframe tbody tr th {\n",
              "        vertical-align: top;\n",
              "    }\n",
              "\n",
              "    .dataframe thead th {\n",
              "        text-align: right;\n",
              "    }\n",
              "</style>\n",
              "<table border=\"1\" class=\"dataframe\">\n",
              "  <thead>\n",
              "    <tr style=\"text-align: right;\">\n",
              "      <th></th>\n",
              "      <th>asin</th>\n",
              "      <th>brand</th>\n",
              "      <th>title</th>\n",
              "      <th>url</th>\n",
              "      <th>image</th>\n",
              "      <th>rating</th>\n",
              "      <th>reviewUrl</th>\n",
              "      <th>totalReviews</th>\n",
              "      <th>price</th>\n",
              "      <th>originalPrice</th>\n",
              "    </tr>\n",
              "  </thead>\n",
              "  <tbody>\n",
              "    <tr>\n",
              "      <th>0</th>\n",
              "      <td>B0000SX2UC</td>\n",
              "      <td>NaN</td>\n",
              "      <td>Dual-Band / Tri-Mode Sprint PCS Phone w/ Voice...</td>\n",
              "      <td>https://www.amazon.com/Dual-Band-Tri-Mode-Acti...</td>\n",
              "      <td>https://m.media-amazon.com/images/I/2143EBQ210...</td>\n",
              "      <td>3.0000000</td>\n",
              "      <td>https://www.amazon.com/product-reviews/B0000SX2UC</td>\n",
              "      <td>14</td>\n",
              "      <td>0.0000000</td>\n",
              "      <td>0.0000000</td>\n",
              "    </tr>\n",
              "    <tr>\n",
              "      <th>1</th>\n",
              "      <td>B0009N5L7K</td>\n",
              "      <td>Motorola</td>\n",
              "      <td>Motorola I265 phone</td>\n",
              "      <td>https://www.amazon.com/Motorola-i265-I265-phon...</td>\n",
              "      <td>https://m.media-amazon.com/images/I/419WBAVDAR...</td>\n",
              "      <td>3.0000000</td>\n",
              "      <td>https://www.amazon.com/product-reviews/B0009N5L7K</td>\n",
              "      <td>7</td>\n",
              "      <td>49.9500000</td>\n",
              "      <td>0.0000000</td>\n",
              "    </tr>\n",
              "    <tr>\n",
              "      <th>2</th>\n",
              "      <td>B000SKTZ0S</td>\n",
              "      <td>Motorola</td>\n",
              "      <td>MOTOROLA C168i AT&amp;T CINGULAR PREPAID GOPHONE C...</td>\n",
              "      <td>https://www.amazon.com/MOTOROLA-C168i-CINGULAR...</td>\n",
              "      <td>https://m.media-amazon.com/images/I/71b+q3ydkI...</td>\n",
              "      <td>2.7000000</td>\n",
              "      <td>https://www.amazon.com/product-reviews/B000SKTZ0S</td>\n",
              "      <td>22</td>\n",
              "      <td>99.9900000</td>\n",
              "      <td>0.0000000</td>\n",
              "    </tr>\n",
              "    <tr>\n",
              "      <th>3</th>\n",
              "      <td>B001AO4OUC</td>\n",
              "      <td>Motorola</td>\n",
              "      <td>Motorola i335 Cell Phone Boost Mobile</td>\n",
              "      <td>https://www.amazon.com/Motorola-i335-Phone-Boo...</td>\n",
              "      <td>https://m.media-amazon.com/images/I/710UO8gdT+...</td>\n",
              "      <td>3.3000000</td>\n",
              "      <td>https://www.amazon.com/product-reviews/B001AO4OUC</td>\n",
              "      <td>21</td>\n",
              "      <td>0.0000000</td>\n",
              "      <td>0.0000000</td>\n",
              "    </tr>\n",
              "    <tr>\n",
              "      <th>4</th>\n",
              "      <td>B001DCJAJG</td>\n",
              "      <td>Motorola</td>\n",
              "      <td>Motorola V365 no contract cellular phone AT&amp;T</td>\n",
              "      <td>https://www.amazon.com/Motorola-V365-contract-...</td>\n",
              "      <td>https://m.media-amazon.com/images/I/61LYNCVrrK...</td>\n",
              "      <td>3.1000000</td>\n",
              "      <td>https://www.amazon.com/product-reviews/B001DCJAJG</td>\n",
              "      <td>12</td>\n",
              "      <td>149.9900000</td>\n",
              "      <td>0.0000000</td>\n",
              "    </tr>\n",
              "  </tbody>\n",
              "</table>\n",
              "</div>"
            ],
            "text/plain": [
              "         asin     brand                                              title  \\\n",
              "0  B0000SX2UC       NaN  Dual-Band / Tri-Mode Sprint PCS Phone w/ Voice...   \n",
              "1  B0009N5L7K  Motorola                                Motorola I265 phone   \n",
              "2  B000SKTZ0S  Motorola  MOTOROLA C168i AT&T CINGULAR PREPAID GOPHONE C...   \n",
              "3  B001AO4OUC  Motorola              Motorola i335 Cell Phone Boost Mobile   \n",
              "4  B001DCJAJG  Motorola      Motorola V365 no contract cellular phone AT&T   \n",
              "\n",
              "                                                 url  \\\n",
              "0  https://www.amazon.com/Dual-Band-Tri-Mode-Acti...   \n",
              "1  https://www.amazon.com/Motorola-i265-I265-phon...   \n",
              "2  https://www.amazon.com/MOTOROLA-C168i-CINGULAR...   \n",
              "3  https://www.amazon.com/Motorola-i335-Phone-Boo...   \n",
              "4  https://www.amazon.com/Motorola-V365-contract-...   \n",
              "\n",
              "                                               image    rating  \\\n",
              "0  https://m.media-amazon.com/images/I/2143EBQ210... 3.0000000   \n",
              "1  https://m.media-amazon.com/images/I/419WBAVDAR... 3.0000000   \n",
              "2  https://m.media-amazon.com/images/I/71b+q3ydkI... 2.7000000   \n",
              "3  https://m.media-amazon.com/images/I/710UO8gdT+... 3.3000000   \n",
              "4  https://m.media-amazon.com/images/I/61LYNCVrrK... 3.1000000   \n",
              "\n",
              "                                           reviewUrl  totalReviews  \\\n",
              "0  https://www.amazon.com/product-reviews/B0000SX2UC            14   \n",
              "1  https://www.amazon.com/product-reviews/B0009N5L7K             7   \n",
              "2  https://www.amazon.com/product-reviews/B000SKTZ0S            22   \n",
              "3  https://www.amazon.com/product-reviews/B001AO4OUC            21   \n",
              "4  https://www.amazon.com/product-reviews/B001DCJAJG            12   \n",
              "\n",
              "        price  originalPrice  \n",
              "0   0.0000000      0.0000000  \n",
              "1  49.9500000      0.0000000  \n",
              "2  99.9900000      0.0000000  \n",
              "3   0.0000000      0.0000000  \n",
              "4 149.9900000      0.0000000  "
            ]
          },
          "metadata": {
            "tags": []
          },
          "execution_count": 6
        }
      ]
    },
    {
      "cell_type": "code",
      "metadata": {
        "colab": {
          "base_uri": "https://localhost:8080/",
          "height": 204
        },
        "id": "mglWvd_fmJa5",
        "outputId": "a6abdeaa-7fd2-4ae8-b5f9-067a02612c44"
      },
      "source": [
        "review_df.head()"
      ],
      "execution_count": null,
      "outputs": [
        {
          "output_type": "execute_result",
          "data": {
            "text/html": [
              "<div>\n",
              "<style scoped>\n",
              "    .dataframe tbody tr th:only-of-type {\n",
              "        vertical-align: middle;\n",
              "    }\n",
              "\n",
              "    .dataframe tbody tr th {\n",
              "        vertical-align: top;\n",
              "    }\n",
              "\n",
              "    .dataframe thead th {\n",
              "        text-align: right;\n",
              "    }\n",
              "</style>\n",
              "<table border=\"1\" class=\"dataframe\">\n",
              "  <thead>\n",
              "    <tr style=\"text-align: right;\">\n",
              "      <th></th>\n",
              "      <th>asin</th>\n",
              "      <th>name</th>\n",
              "      <th>rating</th>\n",
              "      <th>date</th>\n",
              "      <th>verified</th>\n",
              "      <th>title</th>\n",
              "      <th>body</th>\n",
              "      <th>helpfulVotes</th>\n",
              "    </tr>\n",
              "  </thead>\n",
              "  <tbody>\n",
              "    <tr>\n",
              "      <th>0</th>\n",
              "      <td>B0000SX2UC</td>\n",
              "      <td>Janet</td>\n",
              "      <td>3</td>\n",
              "      <td>October 11, 2005</td>\n",
              "      <td>False</td>\n",
              "      <td>Def not best, but not worst</td>\n",
              "      <td>I had the Samsung A600 for awhile which is abs...</td>\n",
              "      <td>1.0000000</td>\n",
              "    </tr>\n",
              "    <tr>\n",
              "      <th>1</th>\n",
              "      <td>B0000SX2UC</td>\n",
              "      <td>Luke Wyatt</td>\n",
              "      <td>1</td>\n",
              "      <td>January 7, 2004</td>\n",
              "      <td>False</td>\n",
              "      <td>Text Messaging Doesn't Work</td>\n",
              "      <td>Due to a software issue between Nokia and Spri...</td>\n",
              "      <td>17.0000000</td>\n",
              "    </tr>\n",
              "    <tr>\n",
              "      <th>2</th>\n",
              "      <td>B0000SX2UC</td>\n",
              "      <td>Brooke</td>\n",
              "      <td>5</td>\n",
              "      <td>December 30, 2003</td>\n",
              "      <td>False</td>\n",
              "      <td>Love This Phone</td>\n",
              "      <td>This is a great, reliable phone. I also purcha...</td>\n",
              "      <td>5.0000000</td>\n",
              "    </tr>\n",
              "    <tr>\n",
              "      <th>3</th>\n",
              "      <td>B0000SX2UC</td>\n",
              "      <td>amy m. teague</td>\n",
              "      <td>3</td>\n",
              "      <td>March 18, 2004</td>\n",
              "      <td>False</td>\n",
              "      <td>Love the Phone, BUT...!</td>\n",
              "      <td>I love the phone and all, because I really did...</td>\n",
              "      <td>1.0000000</td>\n",
              "    </tr>\n",
              "    <tr>\n",
              "      <th>4</th>\n",
              "      <td>B0000SX2UC</td>\n",
              "      <td>tristazbimmer</td>\n",
              "      <td>4</td>\n",
              "      <td>August 28, 2005</td>\n",
              "      <td>False</td>\n",
              "      <td>Great phone service and options, lousy case!</td>\n",
              "      <td>The phone has been great for every purpose it ...</td>\n",
              "      <td>1.0000000</td>\n",
              "    </tr>\n",
              "  </tbody>\n",
              "</table>\n",
              "</div>"
            ],
            "text/plain": [
              "         asin           name  rating               date  verified  \\\n",
              "0  B0000SX2UC          Janet       3   October 11, 2005     False   \n",
              "1  B0000SX2UC     Luke Wyatt       1    January 7, 2004     False   \n",
              "2  B0000SX2UC         Brooke       5  December 30, 2003     False   \n",
              "3  B0000SX2UC  amy m. teague       3     March 18, 2004     False   \n",
              "4  B0000SX2UC  tristazbimmer       4    August 28, 2005     False   \n",
              "\n",
              "                                          title  \\\n",
              "0                   Def not best, but not worst   \n",
              "1                   Text Messaging Doesn't Work   \n",
              "2                               Love This Phone   \n",
              "3                       Love the Phone, BUT...!   \n",
              "4  Great phone service and options, lousy case!   \n",
              "\n",
              "                                                body  helpfulVotes  \n",
              "0  I had the Samsung A600 for awhile which is abs...     1.0000000  \n",
              "1  Due to a software issue between Nokia and Spri...    17.0000000  \n",
              "2  This is a great, reliable phone. I also purcha...     5.0000000  \n",
              "3  I love the phone and all, because I really did...     1.0000000  \n",
              "4  The phone has been great for every purpose it ...     1.0000000  "
            ]
          },
          "metadata": {
            "tags": []
          },
          "execution_count": 7
        }
      ]
    },
    {
      "cell_type": "code",
      "metadata": {
        "colab": {
          "base_uri": "https://localhost:8080/"
        },
        "id": "zOEkTzsgmuIM",
        "outputId": "88a23576-6fca-4677-cd5e-f77d926f6a4d"
      },
      "source": [
        "product_df.shape,review_df.shape"
      ],
      "execution_count": null,
      "outputs": [
        {
          "output_type": "execute_result",
          "data": {
            "text/plain": [
              "((720, 10), (67986, 8))"
            ]
          },
          "metadata": {
            "tags": []
          },
          "execution_count": 8
        }
      ]
    },
    {
      "cell_type": "code",
      "metadata": {
        "id": "ewLn_91oinmQ"
      },
      "source": [
        "\n",
        "\n"
      ],
      "execution_count": null,
      "outputs": []
    },
    {
      "cell_type": "markdown",
      "metadata": {
        "id": "rED6DbDBKTjM"
      },
      "source": [
        "## 4.  Data Analysis and EDA"
      ]
    },
    {
      "cell_type": "markdown",
      "metadata": {
        "id": "awlqmp40xMfc"
      },
      "source": [
        "### 4.1 Drop unnecessary columns like 'url', 'image' from the product_data"
      ]
    },
    {
      "cell_type": "code",
      "metadata": {
        "colab": {
          "base_uri": "https://localhost:8080/"
        },
        "id": "CZ2lcypWgboB",
        "outputId": "0bf9a8ac-19f1-4c87-d0db-e471e68f77c1"
      },
      "source": [
        "product_df[product_df[\"originalPrice\"]==0][\"asin\"].count()\n",
        "# of 720 records 600 records are zero so it is of no use , we can drop"
      ],
      "execution_count": null,
      "outputs": [
        {
          "output_type": "execute_result",
          "data": {
            "text/plain": [
              "600"
            ]
          },
          "metadata": {
            "tags": []
          },
          "execution_count": 9
        }
      ]
    },
    {
      "cell_type": "code",
      "metadata": {
        "colab": {
          "base_uri": "https://localhost:8080/"
        },
        "id": "60ZDvI5kgyLj",
        "outputId": "1b93b499-e328-4bb4-f877-7be6edf7fee4"
      },
      "source": [
        "product_df[product_df[\"price\"]==0][\"asin\"].count()"
      ],
      "execution_count": null,
      "outputs": [
        {
          "output_type": "execute_result",
          "data": {
            "text/plain": [
              "124"
            ]
          },
          "metadata": {
            "tags": []
          },
          "execution_count": 10
        }
      ]
    },
    {
      "cell_type": "code",
      "metadata": {
        "id": "PWM-D_Y8kvEl"
      },
      "source": [
        "#Check if zero in price we can drop those records from product file \n",
        "product_df.drop(product_df[product_df['price']==0].index, inplace = True)"
      ],
      "execution_count": null,
      "outputs": []
    },
    {
      "cell_type": "code",
      "metadata": {
        "colab": {
          "base_uri": "https://localhost:8080/"
        },
        "id": "9OV-vCUakiGK",
        "outputId": "7ea46053-e6a8-4eb5-9748-4d91c3292fb6"
      },
      "source": [
        "\n",
        "product_df[product_df[\"price\"]==0][\"asin\"].count()"
      ],
      "execution_count": null,
      "outputs": [
        {
          "output_type": "execute_result",
          "data": {
            "text/plain": [
              "0"
            ]
          },
          "metadata": {
            "tags": []
          },
          "execution_count": 12
        }
      ]
    },
    {
      "cell_type": "code",
      "metadata": {
        "colab": {
          "base_uri": "https://localhost:8080/"
        },
        "id": "U9SH6QdGmYKu",
        "outputId": "2b1660e8-9d46-4764-c917-16291c0360f7"
      },
      "source": [
        "product_df[product_df[\"price\"]==0][\"asin\"].count()"
      ],
      "execution_count": null,
      "outputs": [
        {
          "output_type": "execute_result",
          "data": {
            "text/plain": [
              "0"
            ]
          },
          "metadata": {
            "tags": []
          },
          "execution_count": 13
        }
      ]
    },
    {
      "cell_type": "code",
      "metadata": {
        "id": "VT4d-6TCxZCm"
      },
      "source": [
        "product_dff=product_df.drop([\"url\",\"image\",\"reviewUrl\",\"originalPrice\"],axis=1)"
      ],
      "execution_count": null,
      "outputs": []
    },
    {
      "cell_type": "code",
      "metadata": {
        "colab": {
          "base_uri": "https://localhost:8080/"
        },
        "id": "qi1KC-8Dk_2F",
        "outputId": "32045e4f-3ebb-46de-c263-e17e4b30b787"
      },
      "source": [
        "#Check if zero in price we can drop those records from product file \n",
        "product_dff[product_df[\"price\"]==0][\"asin\"].count()"
      ],
      "execution_count": null,
      "outputs": [
        {
          "output_type": "execute_result",
          "data": {
            "text/plain": [
              "0"
            ]
          },
          "metadata": {
            "tags": []
          },
          "execution_count": 15
        }
      ]
    },
    {
      "cell_type": "code",
      "metadata": {
        "colab": {
          "base_uri": "https://localhost:8080/"
        },
        "id": "JdRQ_V1TmzvF",
        "outputId": "e812a764-7556-4aab-d2cb-cdfe8317510d"
      },
      "source": [
        "product_dff.shape"
      ],
      "execution_count": null,
      "outputs": [
        {
          "output_type": "execute_result",
          "data": {
            "text/plain": [
              "(596, 6)"
            ]
          },
          "metadata": {
            "tags": []
          },
          "execution_count": 16
        }
      ]
    },
    {
      "cell_type": "markdown",
      "metadata": {
        "id": "Zk0WW5D5xZK9"
      },
      "source": [
        "### 4.2 Check statistical summary of both datasets. Note:- Include both numerical and object type columns."
      ]
    },
    {
      "cell_type": "code",
      "metadata": {
        "colab": {
          "base_uri": "https://localhost:8080/",
          "height": 297
        },
        "id": "ylwcqQpcx_Tl",
        "outputId": "605f6308-d54b-444d-ace2-5d11396daf6b"
      },
      "source": [
        "product_dff.describe()"
      ],
      "execution_count": null,
      "outputs": [
        {
          "output_type": "execute_result",
          "data": {
            "text/html": [
              "<div>\n",
              "<style scoped>\n",
              "    .dataframe tbody tr th:only-of-type {\n",
              "        vertical-align: middle;\n",
              "    }\n",
              "\n",
              "    .dataframe tbody tr th {\n",
              "        vertical-align: top;\n",
              "    }\n",
              "\n",
              "    .dataframe thead th {\n",
              "        text-align: right;\n",
              "    }\n",
              "</style>\n",
              "<table border=\"1\" class=\"dataframe\">\n",
              "  <thead>\n",
              "    <tr style=\"text-align: right;\">\n",
              "      <th></th>\n",
              "      <th>rating</th>\n",
              "      <th>totalReviews</th>\n",
              "      <th>price</th>\n",
              "    </tr>\n",
              "  </thead>\n",
              "  <tbody>\n",
              "    <tr>\n",
              "      <th>count</th>\n",
              "      <td>596.0000000</td>\n",
              "      <td>596.0000000</td>\n",
              "      <td>596.0000000</td>\n",
              "    </tr>\n",
              "    <tr>\n",
              "      <th>mean</th>\n",
              "      <td>3.7605705</td>\n",
              "      <td>107.1157718</td>\n",
              "      <td>283.8309228</td>\n",
              "    </tr>\n",
              "    <tr>\n",
              "      <th>std</th>\n",
              "      <td>0.7221157</td>\n",
              "      <td>168.6654738</td>\n",
              "      <td>185.5873795</td>\n",
              "    </tr>\n",
              "    <tr>\n",
              "      <th>min</th>\n",
              "      <td>1.0000000</td>\n",
              "      <td>1.0000000</td>\n",
              "      <td>1.0000000</td>\n",
              "    </tr>\n",
              "    <tr>\n",
              "      <th>25%</th>\n",
              "      <td>3.5000000</td>\n",
              "      <td>7.0000000</td>\n",
              "      <td>148.9750000</td>\n",
              "    </tr>\n",
              "    <tr>\n",
              "      <th>50%</th>\n",
              "      <td>3.9000000</td>\n",
              "      <td>33.0000000</td>\n",
              "      <td>231.8500000</td>\n",
              "    </tr>\n",
              "    <tr>\n",
              "      <th>75%</th>\n",
              "      <td>4.2000000</td>\n",
              "      <td>122.5000000</td>\n",
              "      <td>389.4450000</td>\n",
              "    </tr>\n",
              "    <tr>\n",
              "      <th>max</th>\n",
              "      <td>5.0000000</td>\n",
              "      <td>929.0000000</td>\n",
              "      <td>999.9900000</td>\n",
              "    </tr>\n",
              "  </tbody>\n",
              "</table>\n",
              "</div>"
            ],
            "text/plain": [
              "           rating  totalReviews       price\n",
              "count 596.0000000   596.0000000 596.0000000\n",
              "mean    3.7605705   107.1157718 283.8309228\n",
              "std     0.7221157   168.6654738 185.5873795\n",
              "min     1.0000000     1.0000000   1.0000000\n",
              "25%     3.5000000     7.0000000 148.9750000\n",
              "50%     3.9000000    33.0000000 231.8500000\n",
              "75%     4.2000000   122.5000000 389.4450000\n",
              "max     5.0000000   929.0000000 999.9900000"
            ]
          },
          "metadata": {
            "tags": []
          },
          "execution_count": 17
        }
      ]
    },
    {
      "cell_type": "code",
      "metadata": {
        "colab": {
          "base_uri": "https://localhost:8080/",
          "height": 173
        },
        "id": "WFaDkvIjyDtG",
        "outputId": "7c8d3734-0971-48a8-d094-699823f8bc9e"
      },
      "source": [
        "product_dff.describe(include=\"O\")"
      ],
      "execution_count": null,
      "outputs": [
        {
          "output_type": "execute_result",
          "data": {
            "text/html": [
              "<div>\n",
              "<style scoped>\n",
              "    .dataframe tbody tr th:only-of-type {\n",
              "        vertical-align: middle;\n",
              "    }\n",
              "\n",
              "    .dataframe tbody tr th {\n",
              "        vertical-align: top;\n",
              "    }\n",
              "\n",
              "    .dataframe thead th {\n",
              "        text-align: right;\n",
              "    }\n",
              "</style>\n",
              "<table border=\"1\" class=\"dataframe\">\n",
              "  <thead>\n",
              "    <tr style=\"text-align: right;\">\n",
              "      <th></th>\n",
              "      <th>asin</th>\n",
              "      <th>brand</th>\n",
              "      <th>title</th>\n",
              "    </tr>\n",
              "  </thead>\n",
              "  <tbody>\n",
              "    <tr>\n",
              "      <th>count</th>\n",
              "      <td>596</td>\n",
              "      <td>593</td>\n",
              "      <td>596</td>\n",
              "    </tr>\n",
              "    <tr>\n",
              "      <th>unique</th>\n",
              "      <td>596</td>\n",
              "      <td>10</td>\n",
              "      <td>595</td>\n",
              "    </tr>\n",
              "    <tr>\n",
              "      <th>top</th>\n",
              "      <td>B07HKQ61NV</td>\n",
              "      <td>Samsung</td>\n",
              "      <td>Apple iPhone 6S, 64GB, Rose Gold - For AT&amp;T / ...</td>\n",
              "    </tr>\n",
              "    <tr>\n",
              "      <th>freq</th>\n",
              "      <td>1</td>\n",
              "      <td>269</td>\n",
              "      <td>2</td>\n",
              "    </tr>\n",
              "  </tbody>\n",
              "</table>\n",
              "</div>"
            ],
            "text/plain": [
              "              asin    brand                                              title\n",
              "count          596      593                                                596\n",
              "unique         596       10                                                595\n",
              "top     B07HKQ61NV  Samsung  Apple iPhone 6S, 64GB, Rose Gold - For AT&T / ...\n",
              "freq             1      269                                                  2"
            ]
          },
          "metadata": {
            "tags": []
          },
          "execution_count": 18
        }
      ]
    },
    {
      "cell_type": "code",
      "metadata": {
        "colab": {
          "base_uri": "https://localhost:8080/",
          "height": 297
        },
        "id": "YmHQVrTJrSCc",
        "outputId": "f518e58c-eb5c-43a8-9691-72f49aaf3bad"
      },
      "source": [
        "review_df.describe()"
      ],
      "execution_count": null,
      "outputs": [
        {
          "output_type": "execute_result",
          "data": {
            "text/html": [
              "<div>\n",
              "<style scoped>\n",
              "    .dataframe tbody tr th:only-of-type {\n",
              "        vertical-align: middle;\n",
              "    }\n",
              "\n",
              "    .dataframe tbody tr th {\n",
              "        vertical-align: top;\n",
              "    }\n",
              "\n",
              "    .dataframe thead th {\n",
              "        text-align: right;\n",
              "    }\n",
              "</style>\n",
              "<table border=\"1\" class=\"dataframe\">\n",
              "  <thead>\n",
              "    <tr style=\"text-align: right;\">\n",
              "      <th></th>\n",
              "      <th>rating</th>\n",
              "      <th>helpfulVotes</th>\n",
              "    </tr>\n",
              "  </thead>\n",
              "  <tbody>\n",
              "    <tr>\n",
              "      <th>count</th>\n",
              "      <td>67986.0000000</td>\n",
              "      <td>27215.0000000</td>\n",
              "    </tr>\n",
              "    <tr>\n",
              "      <th>mean</th>\n",
              "      <td>3.8079163</td>\n",
              "      <td>8.2296895</td>\n",
              "    </tr>\n",
              "    <tr>\n",
              "      <th>std</th>\n",
              "      <td>1.5829058</td>\n",
              "      <td>31.9548772</td>\n",
              "    </tr>\n",
              "    <tr>\n",
              "      <th>min</th>\n",
              "      <td>1.0000000</td>\n",
              "      <td>1.0000000</td>\n",
              "    </tr>\n",
              "    <tr>\n",
              "      <th>25%</th>\n",
              "      <td>3.0000000</td>\n",
              "      <td>1.0000000</td>\n",
              "    </tr>\n",
              "    <tr>\n",
              "      <th>50%</th>\n",
              "      <td>5.0000000</td>\n",
              "      <td>2.0000000</td>\n",
              "    </tr>\n",
              "    <tr>\n",
              "      <th>75%</th>\n",
              "      <td>5.0000000</td>\n",
              "      <td>5.0000000</td>\n",
              "    </tr>\n",
              "    <tr>\n",
              "      <th>max</th>\n",
              "      <td>5.0000000</td>\n",
              "      <td>990.0000000</td>\n",
              "    </tr>\n",
              "  </tbody>\n",
              "</table>\n",
              "</div>"
            ],
            "text/plain": [
              "             rating  helpfulVotes\n",
              "count 67986.0000000 27215.0000000\n",
              "mean      3.8079163     8.2296895\n",
              "std       1.5829058    31.9548772\n",
              "min       1.0000000     1.0000000\n",
              "25%       3.0000000     1.0000000\n",
              "50%       5.0000000     2.0000000\n",
              "75%       5.0000000     5.0000000\n",
              "max       5.0000000   990.0000000"
            ]
          },
          "metadata": {
            "tags": []
          },
          "execution_count": 19
        }
      ]
    },
    {
      "cell_type": "code",
      "metadata": {
        "colab": {
          "base_uri": "https://localhost:8080/",
          "height": 173
        },
        "id": "0u66klPurwJF",
        "outputId": "fafef223-3759-4699-c715-c6f851c6b5ca"
      },
      "source": [
        "review_df.describe(include=\"O\")"
      ],
      "execution_count": null,
      "outputs": [
        {
          "output_type": "execute_result",
          "data": {
            "text/html": [
              "<div>\n",
              "<style scoped>\n",
              "    .dataframe tbody tr th:only-of-type {\n",
              "        vertical-align: middle;\n",
              "    }\n",
              "\n",
              "    .dataframe tbody tr th {\n",
              "        vertical-align: top;\n",
              "    }\n",
              "\n",
              "    .dataframe thead th {\n",
              "        text-align: right;\n",
              "    }\n",
              "</style>\n",
              "<table border=\"1\" class=\"dataframe\">\n",
              "  <thead>\n",
              "    <tr style=\"text-align: right;\">\n",
              "      <th></th>\n",
              "      <th>asin</th>\n",
              "      <th>name</th>\n",
              "      <th>date</th>\n",
              "      <th>title</th>\n",
              "      <th>body</th>\n",
              "    </tr>\n",
              "  </thead>\n",
              "  <tbody>\n",
              "    <tr>\n",
              "      <th>count</th>\n",
              "      <td>67986</td>\n",
              "      <td>67984</td>\n",
              "      <td>67986</td>\n",
              "      <td>67972</td>\n",
              "      <td>67965</td>\n",
              "    </tr>\n",
              "    <tr>\n",
              "      <th>unique</th>\n",
              "      <td>720</td>\n",
              "      <td>47323</td>\n",
              "      <td>2983</td>\n",
              "      <td>41489</td>\n",
              "      <td>59811</td>\n",
              "    </tr>\n",
              "    <tr>\n",
              "      <th>top</th>\n",
              "      <td>B00F2SKPIM</td>\n",
              "      <td>Amazon Customer</td>\n",
              "      <td>December 11, 2019</td>\n",
              "      <td>Five Stars</td>\n",
              "      <td>Good</td>\n",
              "    </tr>\n",
              "    <tr>\n",
              "      <th>freq</th>\n",
              "      <td>981</td>\n",
              "      <td>6507</td>\n",
              "      <td>234</td>\n",
              "      <td>6043</td>\n",
              "      <td>303</td>\n",
              "    </tr>\n",
              "  </tbody>\n",
              "</table>\n",
              "</div>"
            ],
            "text/plain": [
              "              asin             name               date       title   body\n",
              "count        67986            67984              67986       67972  67965\n",
              "unique         720            47323               2983       41489  59811\n",
              "top     B00F2SKPIM  Amazon Customer  December 11, 2019  Five Stars   Good\n",
              "freq           981             6507                234        6043    303"
            ]
          },
          "metadata": {
            "tags": []
          },
          "execution_count": 20
        }
      ]
    },
    {
      "cell_type": "code",
      "metadata": {
        "colab": {
          "base_uri": "https://localhost:8080/",
          "height": 80
        },
        "id": "BV4ls7TAr3l2",
        "outputId": "0cc5c91b-c26f-4237-e907-ce019e8c0a70"
      },
      "source": [
        "review_df[review_df[\"helpfulVotes\"]==990]"
      ],
      "execution_count": null,
      "outputs": [
        {
          "output_type": "execute_result",
          "data": {
            "text/html": [
              "<div>\n",
              "<style scoped>\n",
              "    .dataframe tbody tr th:only-of-type {\n",
              "        vertical-align: middle;\n",
              "    }\n",
              "\n",
              "    .dataframe tbody tr th {\n",
              "        vertical-align: top;\n",
              "    }\n",
              "\n",
              "    .dataframe thead th {\n",
              "        text-align: right;\n",
              "    }\n",
              "</style>\n",
              "<table border=\"1\" class=\"dataframe\">\n",
              "  <thead>\n",
              "    <tr style=\"text-align: right;\">\n",
              "      <th></th>\n",
              "      <th>asin</th>\n",
              "      <th>name</th>\n",
              "      <th>rating</th>\n",
              "      <th>date</th>\n",
              "      <th>verified</th>\n",
              "      <th>title</th>\n",
              "      <th>body</th>\n",
              "      <th>helpfulVotes</th>\n",
              "    </tr>\n",
              "  </thead>\n",
              "  <tbody>\n",
              "    <tr>\n",
              "      <th>24467</th>\n",
              "      <td>B01GXAT0CE</td>\n",
              "      <td>Jake</td>\n",
              "      <td>1</td>\n",
              "      <td>May 1, 2017</td>\n",
              "      <td>True</td>\n",
              "      <td>It seems like it has been stolen</td>\n",
              "      <td>The product came in a beaten up box, came lock...</td>\n",
              "      <td>990.0000000</td>\n",
              "    </tr>\n",
              "  </tbody>\n",
              "</table>\n",
              "</div>"
            ],
            "text/plain": [
              "             asin  name  rating         date  verified  \\\n",
              "24467  B01GXAT0CE  Jake       1  May 1, 2017      True   \n",
              "\n",
              "                                  title  \\\n",
              "24467  It seems like it has been stolen   \n",
              "\n",
              "                                                    body  helpfulVotes  \n",
              "24467  The product came in a beaten up box, came lock...   990.0000000  "
            ]
          },
          "metadata": {
            "tags": []
          },
          "execution_count": 21
        }
      ]
    },
    {
      "cell_type": "markdown",
      "metadata": {
        "id": "cSdGfadUyEdU"
      },
      "source": [
        "### 4.3 From the above statistical summary, write inferences like count of unique products, top brand, top title, range of rating, price range, etc"
      ]
    },
    {
      "cell_type": "code",
      "metadata": {
        "id": "Ddkn_hJmyKNb"
      },
      "source": [
        "#We have details of 596 items/products. The top brand is Samsung.\n",
        "#There are no duplicate asin id\n",
        "#Rating ranges from 1 to 5. Mean rating is 3.8\n",
        "#Price ranges from 1 to 999.99 with 283 as mean price value\n"
      ],
      "execution_count": null,
      "outputs": []
    },
    {
      "cell_type": "markdown",
      "metadata": {
        "id": "XMv_hXyxJKZK"
      },
      "source": [
        "### 4.4 Analyze the distribution of ratings and other categorical features like brand, etc"
      ]
    },
    {
      "cell_type": "code",
      "metadata": {
        "id": "oEhjSsMcyirD"
      },
      "source": [
        "# Understand relationship between brand and price \n",
        "# Brand and ratings"
      ],
      "execution_count": null,
      "outputs": []
    },
    {
      "cell_type": "markdown",
      "metadata": {
        "id": "jwZBGODgyi1a"
      },
      "source": [
        "### 4.5 Display average rating per brand"
      ]
    },
    {
      "cell_type": "code",
      "metadata": {
        "colab": {
          "base_uri": "https://localhost:8080/",
          "height": 386
        },
        "id": "OSBBiAv8yscd",
        "outputId": "613fe430-aaba-48f7-a033-c7fd7e30948b"
      },
      "source": [
        "sns.displot(data= product_dff,x='rating')\n"
      ],
      "execution_count": null,
      "outputs": [
        {
          "output_type": "execute_result",
          "data": {
            "text/plain": [
              "<seaborn.axisgrid.FacetGrid at 0x7fb84c5b7a90>"
            ]
          },
          "metadata": {
            "tags": []
          },
          "execution_count": 24
        },
        {
          "output_type": "display_data",
          "data": {
            "image/png": "[encoded data removed]",
            "text/plain": [
              "<Figure size 360x360 with 1 Axes>"
            ]
          },
          "metadata": {
            "tags": [],
            "needs_background": "light"
          }
        }
      ]
    },
    {
      "cell_type": "code",
      "metadata": {
        "colab": {
          "base_uri": "https://localhost:8080/",
          "height": 386
        },
        "id": "sErIo8tIusGG",
        "outputId": "0db20a09-8359-4d13-b861-a623a544f4e8"
      },
      "source": [
        "sns.displot(data= product_dff,x='rating',kind=\"kde\")"
      ],
      "execution_count": null,
      "outputs": [
        {
          "output_type": "execute_result",
          "data": {
            "text/plain": [
              "<seaborn.axisgrid.FacetGrid at 0x7fb842c74dd0>"
            ]
          },
          "metadata": {
            "tags": []
          },
          "execution_count": 25
        },
        {
          "output_type": "display_data",
          "data": {
            "image/png": "[encoded data removed]",
            "text/plain": [
              "<Figure size 360x360 with 1 Axes>"
            ]
          },
          "metadata": {
            "tags": [],
            "needs_background": "light"
          }
        }
      ]
    },
    {
      "cell_type": "code",
      "metadata": {
        "colab": {
          "base_uri": "https://localhost:8080/",
          "height": 319
        },
        "id": "2Oxd-RASvce_",
        "outputId": "c758944a-b6ae-43e3-b782-2675676c8603"
      },
      "source": [
        "product_dff[\"brand\"].value_counts().plot(kind=\"bar\")"
      ],
      "execution_count": null,
      "outputs": [
        {
          "output_type": "execute_result",
          "data": {
            "text/plain": [
              "<matplotlib.axes._subplots.AxesSubplot at 0x7fb842769310>"
            ]
          },
          "metadata": {
            "tags": []
          },
          "execution_count": 26
        },
        {
          "output_type": "display_data",
          "data": {
            "image/png": "[encoded data removed]",
            "text/plain": [
              "<Figure size 432x288 with 1 Axes>"
            ]
          },
          "metadata": {
            "tags": [],
            "needs_background": "light"
          }
        }
      ]
    },
    {
      "cell_type": "code",
      "metadata": {
        "colab": {
          "base_uri": "https://localhost:8080/",
          "height": 592
        },
        "id": "TUqxGOxMuDC5",
        "outputId": "d9d8bc79-fbd4-4bea-e1fc-78ceeac9a174"
      },
      "source": [
        "product_dff[\"brand\"].value_counts().plot(kind=\"pie\",autopct='%1.0f%%',figsize=(12,10))\n"
      ],
      "execution_count": null,
      "outputs": [
        {
          "output_type": "execute_result",
          "data": {
            "text/plain": [
              "<matplotlib.axes._subplots.AxesSubplot at 0x7fb842683610>"
            ]
          },
          "metadata": {
            "tags": []
          },
          "execution_count": 27
        },
        {
          "output_type": "display_data",
          "data": {
            "image/png": "[encoded data removed]",
            "text/plain": [
              "<Figure size 864x720 with 1 Axes>"
            ]
          },
          "metadata": {
            "tags": []
          }
        }
      ]
    },
    {
      "cell_type": "code",
      "metadata": {
        "colab": {
          "base_uri": "https://localhost:8080/",
          "height": 296
        },
        "id": "jteFaC0FwanY",
        "outputId": "94477595-23fd-4083-d7b0-ef29fb80b5a2"
      },
      "source": [
        "sns.countplot(product_dff.brand)"
      ],
      "execution_count": null,
      "outputs": [
        {
          "output_type": "execute_result",
          "data": {
            "text/plain": [
              "<matplotlib.axes._subplots.AxesSubplot at 0x7fb842c74b90>"
            ]
          },
          "metadata": {
            "tags": []
          },
          "execution_count": 28
        },
        {
          "output_type": "display_data",
          "data": {
            "image/png": "[encoded data removed]",
            "text/plain": [
              "<Figure size 432x288 with 1 Axes>"
            ]
          },
          "metadata": {
            "tags": [],
            "needs_background": "light"
          }
        }
      ]
    },
    {
      "cell_type": "markdown",
      "metadata": {
        "id": "vUXuEwlgyvB0"
      },
      "source": [
        "### 4.6 Display average price per brand"
      ]
    },
    {
      "cell_type": "code",
      "metadata": {
        "colab": {
          "base_uri": "https://localhost:8080/",
          "height": 282
        },
        "id": "ACgIwVlyy3Pu",
        "outputId": "ba7ea3d4-8ad8-4287-af1a-516126c1b544"
      },
      "source": [
        "product_dff.groupby(by=\"brand\")[\"rating\"].mean().sort_values().plot(kind=\"barh\")"
      ],
      "execution_count": null,
      "outputs": [
        {
          "output_type": "execute_result",
          "data": {
            "text/plain": [
              "<matplotlib.axes._subplots.AxesSubplot at 0x7fb84257fb10>"
            ]
          },
          "metadata": {
            "tags": []
          },
          "execution_count": 29
        },
        {
          "output_type": "display_data",
          "data": {
            "image/png": "[encoded data removed]",
            "text/plain": [
              "<Figure size 432x288 with 1 Axes>"
            ]
          },
          "metadata": {
            "tags": [],
            "needs_background": "light"
          }
        }
      ]
    },
    {
      "cell_type": "code",
      "metadata": {
        "colab": {
          "base_uri": "https://localhost:8080/",
          "height": 282
        },
        "id": "DXCS1TGGxmPm",
        "outputId": "6718613f-9f3c-402b-d7f4-7260ef802749"
      },
      "source": [
        "product_dff.groupby(by=\"brand\")[\"price\"].mean().sort_values().plot(kind=\"barh\")"
      ],
      "execution_count": null,
      "outputs": [
        {
          "output_type": "execute_result",
          "data": {
            "text/plain": [
              "<matplotlib.axes._subplots.AxesSubplot at 0x7fb84251dc90>"
            ]
          },
          "metadata": {
            "tags": []
          },
          "execution_count": 30
        },
        {
          "output_type": "display_data",
          "data": {
            "image/png": "[encoded data removed]",
            "text/plain": [
              "<Figure size 432x288 with 1 Axes>"
            ]
          },
          "metadata": {
            "tags": [],
            "needs_background": "light"
          }
        }
      ]
    },
    {
      "cell_type": "markdown",
      "metadata": {
        "id": "U0JfwL74y3a-"
      },
      "source": [
        "### 4.7 Display average 'totalReviews' per brand"
      ]
    },
    {
      "cell_type": "code",
      "metadata": {
        "colab": {
          "base_uri": "https://localhost:8080/",
          "height": 282
        },
        "id": "wfzciNxqzBYu",
        "outputId": "bb274947-4740-43ba-e08e-c246e0e7ee7d"
      },
      "source": [
        "product_dff.groupby(by=\"brand\")[\"totalReviews\"].mean().sort_values().plot(kind=\"barh\")"
      ],
      "execution_count": null,
      "outputs": [
        {
          "output_type": "execute_result",
          "data": {
            "text/plain": [
              "<matplotlib.axes._subplots.AxesSubplot at 0x7fb842481690>"
            ]
          },
          "metadata": {
            "tags": []
          },
          "execution_count": 31
        },
        {
          "output_type": "display_data",
          "data": {
            "image/png": "[encoded data removed]",
            "text/plain": [
              "<Figure size 432x288 with 1 Axes>"
            ]
          },
          "metadata": {
            "tags": [],
            "needs_background": "light"
          }
        }
      ]
    },
    {
      "cell_type": "markdown",
      "metadata": {
        "id": "x_fxI7OAeDUM"
      },
      "source": [
        "### 4.8 Merge two datasets using 'asin' and check the shape of the final dataset"
      ]
    },
    {
      "cell_type": "code",
      "metadata": {
        "id": "svpHfWI9zNAP"
      },
      "source": [
        "df=pd.merge(review_df,product_dff, how=\"left\",on='asin')\n"
      ],
      "execution_count": null,
      "outputs": []
    },
    {
      "cell_type": "code",
      "metadata": {
        "colab": {
          "base_uri": "https://localhost:8080/"
        },
        "id": "VvaoylVcz_P6",
        "outputId": "e578c2c3-9a62-490f-f538-b43b2332a633"
      },
      "source": [
        "df.shape"
      ],
      "execution_count": null,
      "outputs": [
        {
          "output_type": "execute_result",
          "data": {
            "text/plain": [
              "(67986, 13)"
            ]
          },
          "metadata": {
            "tags": []
          },
          "execution_count": 33
        }
      ]
    },
    {
      "cell_type": "markdown",
      "metadata": {
        "id": "zdTfwlL7fYpq"
      },
      "source": [
        "### 4.9 Rename important features with appropriate names.\n",
        "Imortant features - \"rating_x\": \"user_rating\", \"title_x\": \"review_title\", \"title_y\": \"item_title\", \"rating_y\": \"overall_rating\""
      ]
    },
    {
      "cell_type": "code",
      "metadata": {
        "colab": {
          "base_uri": "https://localhost:8080/",
          "height": 179
        },
        "id": "KI-6FCkZztXM",
        "outputId": "49c9af3c-ad03-49bf-8490-50520bebb19d"
      },
      "source": [
        "df.rename(columns={\"rating_x\": \"user_rating\", \"title_x\": \"review_title\",\"title_y\": \"item_title\",\"rating_y\":\"overall_rating\"},inplace=True)\n",
        "df.head(2)"
      ],
      "execution_count": null,
      "outputs": [
        {
          "output_type": "execute_result",
          "data": {
            "text/html": [
              "<div>\n",
              "<style scoped>\n",
              "    .dataframe tbody tr th:only-of-type {\n",
              "        vertical-align: middle;\n",
              "    }\n",
              "\n",
              "    .dataframe tbody tr th {\n",
              "        vertical-align: top;\n",
              "    }\n",
              "\n",
              "    .dataframe thead th {\n",
              "        text-align: right;\n",
              "    }\n",
              "</style>\n",
              "<table border=\"1\" class=\"dataframe\">\n",
              "  <thead>\n",
              "    <tr style=\"text-align: right;\">\n",
              "      <th></th>\n",
              "      <th>asin</th>\n",
              "      <th>name</th>\n",
              "      <th>user_rating</th>\n",
              "      <th>date</th>\n",
              "      <th>verified</th>\n",
              "      <th>review_title</th>\n",
              "      <th>body</th>\n",
              "      <th>helpfulVotes</th>\n",
              "      <th>brand</th>\n",
              "      <th>item_title</th>\n",
              "      <th>overall_rating</th>\n",
              "      <th>totalReviews</th>\n",
              "      <th>price</th>\n",
              "    </tr>\n",
              "  </thead>\n",
              "  <tbody>\n",
              "    <tr>\n",
              "      <th>0</th>\n",
              "      <td>B0000SX2UC</td>\n",
              "      <td>Janet</td>\n",
              "      <td>3</td>\n",
              "      <td>October 11, 2005</td>\n",
              "      <td>False</td>\n",
              "      <td>Def not best, but not worst</td>\n",
              "      <td>I had the Samsung A600 for awhile which is abs...</td>\n",
              "      <td>1.0000000</td>\n",
              "      <td>NaN</td>\n",
              "      <td>NaN</td>\n",
              "      <td>nan</td>\n",
              "      <td>nan</td>\n",
              "      <td>nan</td>\n",
              "    </tr>\n",
              "    <tr>\n",
              "      <th>1</th>\n",
              "      <td>B0000SX2UC</td>\n",
              "      <td>Luke Wyatt</td>\n",
              "      <td>1</td>\n",
              "      <td>January 7, 2004</td>\n",
              "      <td>False</td>\n",
              "      <td>Text Messaging Doesn't Work</td>\n",
              "      <td>Due to a software issue between Nokia and Spri...</td>\n",
              "      <td>17.0000000</td>\n",
              "      <td>NaN</td>\n",
              "      <td>NaN</td>\n",
              "      <td>nan</td>\n",
              "      <td>nan</td>\n",
              "      <td>nan</td>\n",
              "    </tr>\n",
              "  </tbody>\n",
              "</table>\n",
              "</div>"
            ],
            "text/plain": [
              "         asin        name  user_rating              date  verified  \\\n",
              "0  B0000SX2UC       Janet            3  October 11, 2005     False   \n",
              "1  B0000SX2UC  Luke Wyatt            1   January 7, 2004     False   \n",
              "\n",
              "                  review_title  \\\n",
              "0  Def not best, but not worst   \n",
              "1  Text Messaging Doesn't Work   \n",
              "\n",
              "                                                body  helpfulVotes brand  \\\n",
              "0  I had the Samsung A600 for awhile which is abs...     1.0000000   NaN   \n",
              "1  Due to a software issue between Nokia and Spri...    17.0000000   NaN   \n",
              "\n",
              "  item_title  overall_rating  totalReviews  price  \n",
              "0        NaN             nan           nan    nan  \n",
              "1        NaN             nan           nan    nan  "
            ]
          },
          "metadata": {
            "tags": []
          },
          "execution_count": 34
        }
      ]
    },
    {
      "cell_type": "markdown",
      "metadata": {
        "id": "hNHEElHszthc"
      },
      "source": [
        "### 4.10 Select rows having verified reviews and check the shape of the final dataset"
      ]
    },
    {
      "cell_type": "code",
      "metadata": {
        "colab": {
          "base_uri": "https://localhost:8080/"
        },
        "id": "Jyav9_Zoz-rT",
        "outputId": "1ed3474e-3586-4dba-a1b1-9ab95ac33c19"
      },
      "source": [
        "df[\"verified\"].value_counts()\n",
        "#more verified revies "
      ],
      "execution_count": null,
      "outputs": [
        {
          "output_type": "execute_result",
          "data": {
            "text/plain": [
              "True     61225\n",
              "False     6761\n",
              "Name: verified, dtype: int64"
            ]
          },
          "metadata": {
            "tags": []
          },
          "execution_count": 35
        }
      ]
    },
    {
      "cell_type": "code",
      "metadata": {
        "colab": {
          "base_uri": "https://localhost:8080/"
        },
        "id": "5tux6vwr0JDb",
        "outputId": "9f106678-78ae-4d67-fc8d-1eb418fb835f"
      },
      "source": [
        "dff=df[df.verified==True]\n",
        "dff.shape"
      ],
      "execution_count": null,
      "outputs": [
        {
          "output_type": "execute_result",
          "data": {
            "text/plain": [
              "(61225, 13)"
            ]
          },
          "metadata": {
            "tags": []
          },
          "execution_count": 36
        }
      ]
    },
    {
      "cell_type": "markdown",
      "metadata": {
        "id": "EpKusPjdz-2q"
      },
      "source": [
        "### 4.11 Check the number of reviews for various brands and report the brand that have highest number of reviews"
      ]
    },
    {
      "cell_type": "code",
      "metadata": {
        "colab": {
          "base_uri": "https://localhost:8080/",
          "height": 282
        },
        "id": "KNDU-dWE37E1",
        "outputId": "ed67d628-e4a4-4d01-a389-f0d240b88b0e"
      },
      "source": [
        "dff.groupby(by='brand')['totalReviews'].count().sort_values().plot(kind='barh')\n",
        "#Samsung has maximum total reviews more than 20k\n"
      ],
      "execution_count": null,
      "outputs": [
        {
          "output_type": "execute_result",
          "data": {
            "text/plain": [
              "<matplotlib.axes._subplots.AxesSubplot at 0x7fb84f1e1610>"
            ]
          },
          "metadata": {
            "tags": []
          },
          "execution_count": 37
        },
        {
          "output_type": "display_data",
          "data": {
            "image/png": "[encoded data removed]",
            "text/plain": [
              "<Figure size 432x288 with 1 Axes>"
            ]
          },
          "metadata": {
            "tags": [],
            "needs_background": "light"
          }
        }
      ]
    },
    {
      "cell_type": "markdown",
      "metadata": {
        "id": "gPGjMFE-0Q5k"
      },
      "source": [
        "### 4.12 Drop irrelevant columns and keep important features like 'brand','body','price','user_rating','review_title' for further analysis"
      ]
    },
    {
      "cell_type": "code",
      "metadata": {
        "colab": {
          "base_uri": "https://localhost:8080/",
          "height": 111
        },
        "id": "J_IvLN6e0e6z",
        "outputId": "9a8e0bf7-673d-4832-e540-0616f61ed5bf"
      },
      "source": [
        "df_final = dff[['brand','body','price','user_rating','review_title']]\n",
        "df_final.head(2)\n"
      ],
      "execution_count": null,
      "outputs": [
        {
          "output_type": "execute_result",
          "data": {
            "text/html": [
              "<div>\n",
              "<style scoped>\n",
              "    .dataframe tbody tr th:only-of-type {\n",
              "        vertical-align: middle;\n",
              "    }\n",
              "\n",
              "    .dataframe tbody tr th {\n",
              "        vertical-align: top;\n",
              "    }\n",
              "\n",
              "    .dataframe thead th {\n",
              "        text-align: right;\n",
              "    }\n",
              "</style>\n",
              "<table border=\"1\" class=\"dataframe\">\n",
              "  <thead>\n",
              "    <tr style=\"text-align: right;\">\n",
              "      <th></th>\n",
              "      <th>brand</th>\n",
              "      <th>body</th>\n",
              "      <th>price</th>\n",
              "      <th>user_rating</th>\n",
              "      <th>review_title</th>\n",
              "    </tr>\n",
              "  </thead>\n",
              "  <tbody>\n",
              "    <tr>\n",
              "      <th>14</th>\n",
              "      <td>Motorola</td>\n",
              "      <td>DON'T BUY OUT OF SERVICE</td>\n",
              "      <td>49.9500000</td>\n",
              "      <td>1</td>\n",
              "      <td>Stupid phone</td>\n",
              "    </tr>\n",
              "    <tr>\n",
              "      <th>17</th>\n",
              "      <td>Motorola</td>\n",
              "      <td>1 star because the phones locked so I have to ...</td>\n",
              "      <td>49.9500000</td>\n",
              "      <td>1</td>\n",
              "      <td>Phones locked</td>\n",
              "    </tr>\n",
              "  </tbody>\n",
              "</table>\n",
              "</div>"
            ],
            "text/plain": [
              "       brand                                               body      price  \\\n",
              "14  Motorola                           DON'T BUY OUT OF SERVICE 49.9500000   \n",
              "17  Motorola  1 star because the phones locked so I have to ... 49.9500000   \n",
              "\n",
              "    user_rating   review_title  \n",
              "14            1   Stupid phone  \n",
              "17            1  Phones locked  "
            ]
          },
          "metadata": {
            "tags": []
          },
          "execution_count": 38
        }
      ]
    },
    {
      "cell_type": "markdown",
      "metadata": {
        "id": "Gzo_rVT60fDf"
      },
      "source": [
        "### 4.13 Perform univariate analysis. Check distribution of price, user_rating"
      ]
    },
    {
      "cell_type": "code",
      "metadata": {
        "colab": {
          "base_uri": "https://localhost:8080/",
          "height": 297
        },
        "id": "F3vzILxZ0t0L",
        "outputId": "862dd62a-bf08-4746-9ab8-a639138ada44"
      },
      "source": [
        "sns.countplot(df_final['user_rating'])"
      ],
      "execution_count": null,
      "outputs": [
        {
          "output_type": "execute_result",
          "data": {
            "text/plain": [
              "<matplotlib.axes._subplots.AxesSubplot at 0x7fb8423a7890>"
            ]
          },
          "metadata": {
            "tags": []
          },
          "execution_count": 39
        },
        {
          "output_type": "display_data",
          "data": {
            "image/png": "[encoded data removed]",
            "text/plain": [
              "<Figure size 432x288 with 1 Axes>"
            ]
          },
          "metadata": {
            "tags": [],
            "needs_background": "light"
          }
        }
      ]
    },
    {
      "cell_type": "code",
      "metadata": {
        "colab": {
          "base_uri": "https://localhost:8080/",
          "height": 386
        },
        "id": "qB9QgBwo8ds_",
        "outputId": "de20e907-e706-4450-b77d-f87f3ed7dea4"
      },
      "source": [
        "sns.displot(data= df_final,x='price',kind=\"kde\")"
      ],
      "execution_count": null,
      "outputs": [
        {
          "output_type": "execute_result",
          "data": {
            "text/plain": [
              "<seaborn.axisgrid.FacetGrid at 0x7fb8425090d0>"
            ]
          },
          "metadata": {
            "tags": []
          },
          "execution_count": 40
        },
        {
          "output_type": "display_data",
          "data": {
            "image/png": "[encoded data removed]",
            "text/plain": [
              "<Figure size 360x360 with 1 Axes>"
            ]
          },
          "metadata": {
            "tags": [],
            "needs_background": "light"
          }
        }
      ]
    },
    {
      "cell_type": "markdown",
      "metadata": {
        "id": "x0Y_kE9T0uAf"
      },
      "source": [
        "### 4.14 Create a new column called \"sentiment\". It should have value as 1 (positive) if the user_Rating is greater than 3, value as 0 (negative) if the user_Rating <= 3"
      ]
    },
    {
      "cell_type": "code",
      "metadata": {
        "id": "jGon-2xU1Ujb"
      },
      "source": [
        "df_final[\"sentiment\"]=df_final[\"user_rating\"].apply(lambda x:1 if x>3 else 0)"
      ],
      "execution_count": null,
      "outputs": []
    },
    {
      "cell_type": "code",
      "metadata": {
        "colab": {
          "base_uri": "https://localhost:8080/"
        },
        "id": "brLkQP1f9Tr6",
        "outputId": "4551282d-976a-4cd2-aea7-0ce3e0558c72"
      },
      "source": [
        "df_final[\"user_rating\"].value_counts()"
      ],
      "execution_count": null,
      "outputs": [
        {
          "output_type": "execute_result",
          "data": {
            "text/plain": [
              "5    35001\n",
              "1    10910\n",
              "4     7938\n",
              "3     4128\n",
              "2     3248\n",
              "Name: user_rating, dtype: int64"
            ]
          },
          "metadata": {
            "tags": []
          },
          "execution_count": 42
        }
      ]
    },
    {
      "cell_type": "markdown",
      "metadata": {
        "id": "K4rxSZWp1VAb"
      },
      "source": [
        "### 4.15 Check frequency distribution of the 'sentiment'"
      ]
    },
    {
      "cell_type": "code",
      "metadata": {
        "colab": {
          "base_uri": "https://localhost:8080/"
        },
        "id": "yt3gH7Iz1dVP",
        "outputId": "78501f8e-eab1-42d4-81a3-e86809bbca4e"
      },
      "source": [
        "count=df_final[\"sentiment\"].value_counts()\n",
        "print(count)"
      ],
      "execution_count": null,
      "outputs": [
        {
          "output_type": "stream",
          "text": [
            "1    42939\n",
            "0    18286\n",
            "Name: sentiment, dtype: int64\n"
          ],
          "name": "stdout"
        }
      ]
    },
    {
      "cell_type": "markdown",
      "metadata": {
        "id": "rK0KMghP1ddb"
      },
      "source": [
        "### 4.16 Perform bivariate analysis. Check correlation/crosstab between features and write your inferences."
      ]
    },
    {
      "cell_type": "code",
      "metadata": {
        "colab": {
          "base_uri": "https://localhost:8080/",
          "height": 296
        },
        "id": "NmiMN2t2aZ6x",
        "outputId": "78066f53-f4df-42b1-aedc-fb01cac258d3"
      },
      "source": [
        "sns.boxplot(data=df_final,x=\"sentiment\",y=\"price\")\n",
        "# mo major correlation between price and sentiment as mean is same "
      ],
      "execution_count": null,
      "outputs": [
        {
          "output_type": "execute_result",
          "data": {
            "text/plain": [
              "<matplotlib.axes._subplots.AxesSubplot at 0x7fb841703690>"
            ]
          },
          "metadata": {
            "tags": []
          },
          "execution_count": 44
        },
        {
          "output_type": "display_data",
          "data": {
            "image/png": "[encoded data removed]",
            "text/plain": [
              "<Figure size 432x288 with 1 Axes>"
            ]
          },
          "metadata": {
            "tags": [],
            "needs_background": "light"
          }
        }
      ]
    },
    {
      "cell_type": "code",
      "metadata": {
        "colab": {
          "base_uri": "https://localhost:8080/",
          "height": 142
        },
        "id": "x1OwpwjIauXc",
        "outputId": "ae72f098-ff75-48a6-97ad-99f7f9df8dd0"
      },
      "source": [
        "pd.crosstab(df_final.sentiment, [df_final.brand], rownames=['sentiment'], colnames=['brand']).apply(lambda x:x/x.sum(),axis=1)\n",
        "# Some correlation between established brands and positive sentiment can be seen\n",
        "# if we see sentiment category 1 across brands ---- Samsung shows more positive 50% positive next being motorola "
      ],
      "execution_count": null,
      "outputs": [
        {
          "output_type": "execute_result",
          "data": {
            "text/html": [
              "<div>\n",
              "<style scoped>\n",
              "    .dataframe tbody tr th:only-of-type {\n",
              "        vertical-align: middle;\n",
              "    }\n",
              "\n",
              "    .dataframe tbody tr th {\n",
              "        vertical-align: top;\n",
              "    }\n",
              "\n",
              "    .dataframe thead th {\n",
              "        text-align: right;\n",
              "    }\n",
              "</style>\n",
              "<table border=\"1\" class=\"dataframe\">\n",
              "  <thead>\n",
              "    <tr style=\"text-align: right;\">\n",
              "      <th>brand</th>\n",
              "      <th>ASUS</th>\n",
              "      <th>Apple</th>\n",
              "      <th>Google</th>\n",
              "      <th>HUAWEI</th>\n",
              "      <th>Motorola</th>\n",
              "      <th>Nokia</th>\n",
              "      <th>OnePlus</th>\n",
              "      <th>Samsung</th>\n",
              "      <th>Sony</th>\n",
              "      <th>Xiaomi</th>\n",
              "    </tr>\n",
              "    <tr>\n",
              "      <th>sentiment</th>\n",
              "      <th></th>\n",
              "      <th></th>\n",
              "      <th></th>\n",
              "      <th></th>\n",
              "      <th></th>\n",
              "      <th></th>\n",
              "      <th></th>\n",
              "      <th></th>\n",
              "      <th></th>\n",
              "      <th></th>\n",
              "    </tr>\n",
              "  </thead>\n",
              "  <tbody>\n",
              "    <tr>\n",
              "      <th>0</th>\n",
              "      <td>0.0046068</td>\n",
              "      <td>0.1066230</td>\n",
              "      <td>0.0637602</td>\n",
              "      <td>0.0236347</td>\n",
              "      <td>0.1119642</td>\n",
              "      <td>0.1184404</td>\n",
              "      <td>0.0027373</td>\n",
              "      <td>0.4691548</td>\n",
              "      <td>0.0578181</td>\n",
              "      <td>0.0412605</td>\n",
              "    </tr>\n",
              "    <tr>\n",
              "      <th>1</th>\n",
              "      <td>0.0038364</td>\n",
              "      <td>0.0901123</td>\n",
              "      <td>0.0566212</td>\n",
              "      <td>0.0460642</td>\n",
              "      <td>0.1241634</td>\n",
              "      <td>0.0740108</td>\n",
              "      <td>0.0063846</td>\n",
              "      <td>0.4506175</td>\n",
              "      <td>0.0492005</td>\n",
              "      <td>0.0989891</td>\n",
              "    </tr>\n",
              "  </tbody>\n",
              "</table>\n",
              "</div>"
            ],
            "text/plain": [
              "brand          ASUS     Apple    Google    HUAWEI  Motorola     Nokia  \\\n",
              "sentiment                                                               \n",
              "0         0.0046068 0.1066230 0.0637602 0.0236347 0.1119642 0.1184404   \n",
              "1         0.0038364 0.0901123 0.0566212 0.0460642 0.1241634 0.0740108   \n",
              "\n",
              "brand       OnePlus   Samsung      Sony    Xiaomi  \n",
              "sentiment                                          \n",
              "0         0.0027373 0.4691548 0.0578181 0.0412605  \n",
              "1         0.0063846 0.4506175 0.0492005 0.0989891  "
            ]
          },
          "metadata": {
            "tags": []
          },
          "execution_count": 45
        }
      ]
    },
    {
      "cell_type": "code",
      "metadata": {
        "colab": {
          "base_uri": "https://localhost:8080/"
        },
        "id": "LPXwDQDxpx6H",
        "outputId": "1911918a-8181-4c05-f6d0-a2c6b5049db3"
      },
      "source": [
        "df_final[df_final[\"brand\"]==\"Samsung\"][\"user_rating\"].value_counts()"
      ],
      "execution_count": null,
      "outputs": [
        {
          "output_type": "execute_result",
          "data": {
            "text/plain": [
              "5    13339\n",
              "1     4364\n",
              "4     2753\n",
              "3     1494\n",
              "2     1169\n",
              "Name: user_rating, dtype: int64"
            ]
          },
          "metadata": {
            "tags": []
          },
          "execution_count": 46
        }
      ]
    },
    {
      "cell_type": "code",
      "metadata": {
        "colab": {
          "base_uri": "https://localhost:8080/",
          "height": 390
        },
        "id": "S1XwJ0qUVLKJ",
        "outputId": "ca9dac1a-751d-47b2-a344-130cc8cb0bf8"
      },
      "source": [
        "pd.crosstab(df_final.brand, [df_final.user_rating], rownames=['brand'], colnames=['rating']).apply(lambda x:x/x.sum(),axis=1)"
      ],
      "execution_count": null,
      "outputs": [
        {
          "output_type": "execute_result",
          "data": {
            "text/html": [
              "<div>\n",
              "<style scoped>\n",
              "    .dataframe tbody tr th:only-of-type {\n",
              "        vertical-align: middle;\n",
              "    }\n",
              "\n",
              "    .dataframe tbody tr th {\n",
              "        vertical-align: top;\n",
              "    }\n",
              "\n",
              "    .dataframe thead th {\n",
              "        text-align: right;\n",
              "    }\n",
              "</style>\n",
              "<table border=\"1\" class=\"dataframe\">\n",
              "  <thead>\n",
              "    <tr style=\"text-align: right;\">\n",
              "      <th>rating</th>\n",
              "      <th>1</th>\n",
              "      <th>2</th>\n",
              "      <th>3</th>\n",
              "      <th>4</th>\n",
              "      <th>5</th>\n",
              "    </tr>\n",
              "    <tr>\n",
              "      <th>brand</th>\n",
              "      <th></th>\n",
              "      <th></th>\n",
              "      <th></th>\n",
              "      <th></th>\n",
              "      <th></th>\n",
              "    </tr>\n",
              "  </thead>\n",
              "  <tbody>\n",
              "    <tr>\n",
              "      <th>ASUS</th>\n",
              "      <td>0.1456311</td>\n",
              "      <td>0.0922330</td>\n",
              "      <td>0.0970874</td>\n",
              "      <td>0.1601942</td>\n",
              "      <td>0.5048544</td>\n",
              "    </tr>\n",
              "    <tr>\n",
              "      <th>Apple</th>\n",
              "      <td>0.2230530</td>\n",
              "      <td>0.0461059</td>\n",
              "      <td>0.0625130</td>\n",
              "      <td>0.1077882</td>\n",
              "      <td>0.5605400</td>\n",
              "    </tr>\n",
              "    <tr>\n",
              "      <th>Google</th>\n",
              "      <td>0.1904602</td>\n",
              "      <td>0.0651663</td>\n",
              "      <td>0.0651663</td>\n",
              "      <td>0.1289889</td>\n",
              "      <td>0.5502183</td>\n",
              "    </tr>\n",
              "    <tr>\n",
              "      <th>HUAWEI</th>\n",
              "      <td>0.0975488</td>\n",
              "      <td>0.0270135</td>\n",
              "      <td>0.0525263</td>\n",
              "      <td>0.1220610</td>\n",
              "      <td>0.7008504</td>\n",
              "    </tr>\n",
              "    <tr>\n",
              "      <th>Motorola</th>\n",
              "      <td>0.1525119</td>\n",
              "      <td>0.0518737</td>\n",
              "      <td>0.0700376</td>\n",
              "      <td>0.1476027</td>\n",
              "      <td>0.5779741</td>\n",
              "    </tr>\n",
              "    <tr>\n",
              "      <th>Nokia</th>\n",
              "      <td>0.2250396</td>\n",
              "      <td>0.0778809</td>\n",
              "      <td>0.0987095</td>\n",
              "      <td>0.1550826</td>\n",
              "      <td>0.4432873</td>\n",
              "    </tr>\n",
              "    <tr>\n",
              "      <th>OnePlus</th>\n",
              "      <td>0.1078067</td>\n",
              "      <td>0.0074349</td>\n",
              "      <td>0.0371747</td>\n",
              "      <td>0.1263941</td>\n",
              "      <td>0.7211896</td>\n",
              "    </tr>\n",
              "    <tr>\n",
              "      <th>Samsung</th>\n",
              "      <td>0.1887625</td>\n",
              "      <td>0.0505645</td>\n",
              "      <td>0.0646222</td>\n",
              "      <td>0.1190795</td>\n",
              "      <td>0.5769713</td>\n",
              "    </tr>\n",
              "    <tr>\n",
              "      <th>Sony</th>\n",
              "      <td>0.1688906</td>\n",
              "      <td>0.0800610</td>\n",
              "      <td>0.0812047</td>\n",
              "      <td>0.1361037</td>\n",
              "      <td>0.5337400</td>\n",
              "    </tr>\n",
              "    <tr>\n",
              "      <th>Xiaomi</th>\n",
              "      <td>0.0744040</td>\n",
              "      <td>0.0272092</td>\n",
              "      <td>0.0471948</td>\n",
              "      <td>0.1377318</td>\n",
              "      <td>0.7134601</td>\n",
              "    </tr>\n",
              "  </tbody>\n",
              "</table>\n",
              "</div>"
            ],
            "text/plain": [
              "rating           1         2         3         4         5\n",
              "brand                                                     \n",
              "ASUS     0.1456311 0.0922330 0.0970874 0.1601942 0.5048544\n",
              "Apple    0.2230530 0.0461059 0.0625130 0.1077882 0.5605400\n",
              "Google   0.1904602 0.0651663 0.0651663 0.1289889 0.5502183\n",
              "HUAWEI   0.0975488 0.0270135 0.0525263 0.1220610 0.7008504\n",
              "Motorola 0.1525119 0.0518737 0.0700376 0.1476027 0.5779741\n",
              "Nokia    0.2250396 0.0778809 0.0987095 0.1550826 0.4432873\n",
              "OnePlus  0.1078067 0.0074349 0.0371747 0.1263941 0.7211896\n",
              "Samsung  0.1887625 0.0505645 0.0646222 0.1190795 0.5769713\n",
              "Sony     0.1688906 0.0800610 0.0812047 0.1361037 0.5337400\n",
              "Xiaomi   0.0744040 0.0272092 0.0471948 0.1377318 0.7134601"
            ]
          },
          "metadata": {
            "tags": []
          },
          "execution_count": 47
        }
      ]
    },
    {
      "cell_type": "code",
      "metadata": {
        "id": "FlqqQ-NQr6Yy"
      },
      "source": [
        "## Majority of brands except Nokia is having more percentage on user rating as 5 over 50% so positive setiments are more \n",
        "# one plus , XIAOMI and HUAWEI are far more positive sentiment ratio is more compare to others  "
      ],
      "execution_count": null,
      "outputs": []
    },
    {
      "cell_type": "code",
      "metadata": {
        "colab": {
          "base_uri": "https://localhost:8080/",
          "height": 111
        },
        "id": "DI6_O2CeqHBO",
        "outputId": "2bcd8f33-61fd-4b62-992f-6dd19d6c9802"
      },
      "source": [
        "df_final.head(2)"
      ],
      "execution_count": null,
      "outputs": [
        {
          "output_type": "execute_result",
          "data": {
            "text/html": [
              "<div>\n",
              "<style scoped>\n",
              "    .dataframe tbody tr th:only-of-type {\n",
              "        vertical-align: middle;\n",
              "    }\n",
              "\n",
              "    .dataframe tbody tr th {\n",
              "        vertical-align: top;\n",
              "    }\n",
              "\n",
              "    .dataframe thead th {\n",
              "        text-align: right;\n",
              "    }\n",
              "</style>\n",
              "<table border=\"1\" class=\"dataframe\">\n",
              "  <thead>\n",
              "    <tr style=\"text-align: right;\">\n",
              "      <th></th>\n",
              "      <th>brand</th>\n",
              "      <th>body</th>\n",
              "      <th>price</th>\n",
              "      <th>user_rating</th>\n",
              "      <th>review_title</th>\n",
              "      <th>sentiment</th>\n",
              "    </tr>\n",
              "  </thead>\n",
              "  <tbody>\n",
              "    <tr>\n",
              "      <th>14</th>\n",
              "      <td>Motorola</td>\n",
              "      <td>DON'T BUY OUT OF SERVICE</td>\n",
              "      <td>49.9500000</td>\n",
              "      <td>1</td>\n",
              "      <td>Stupid phone</td>\n",
              "      <td>0</td>\n",
              "    </tr>\n",
              "    <tr>\n",
              "      <th>17</th>\n",
              "      <td>Motorola</td>\n",
              "      <td>1 star because the phones locked so I have to ...</td>\n",
              "      <td>49.9500000</td>\n",
              "      <td>1</td>\n",
              "      <td>Phones locked</td>\n",
              "      <td>0</td>\n",
              "    </tr>\n",
              "  </tbody>\n",
              "</table>\n",
              "</div>"
            ],
            "text/plain": [
              "       brand                                               body      price  \\\n",
              "14  Motorola                           DON'T BUY OUT OF SERVICE 49.9500000   \n",
              "17  Motorola  1 star because the phones locked so I have to ... 49.9500000   \n",
              "\n",
              "    user_rating   review_title  sentiment  \n",
              "14            1   Stupid phone          0  \n",
              "17            1  Phones locked          0  "
            ]
          },
          "metadata": {
            "tags": []
          },
          "execution_count": 49
        }
      ]
    },
    {
      "cell_type": "code",
      "metadata": {
        "colab": {
          "base_uri": "https://localhost:8080/"
        },
        "id": "xCw8LX2Uq9UF",
        "outputId": "374c49c1-65bc-40e6-8a39-8ece65a47721"
      },
      "source": [
        "df_final.shape"
      ],
      "execution_count": null,
      "outputs": [
        {
          "output_type": "execute_result",
          "data": {
            "text/plain": [
              "(61225, 6)"
            ]
          },
          "metadata": {
            "tags": []
          },
          "execution_count": 50
        }
      ]
    },
    {
      "cell_type": "code",
      "metadata": {
        "colab": {
          "base_uri": "https://localhost:8080/"
        },
        "id": "LZ78tkySrCZ7",
        "outputId": "11c31c85-dc6d-406b-9972-9ae06cae3f81"
      },
      "source": [
        "df_final[\"brand\"].unique()"
      ],
      "execution_count": null,
      "outputs": [
        {
          "output_type": "execute_result",
          "data": {
            "text/plain": [
              "array(['Motorola', nan, 'Samsung', 'Nokia', 'HUAWEI', 'Sony', 'Apple',\n",
              "       'Google', 'ASUS', 'OnePlus', 'Xiaomi'], dtype=object)"
            ]
          },
          "metadata": {
            "tags": []
          },
          "execution_count": 51
        }
      ]
    },
    {
      "cell_type": "code",
      "metadata": {
        "colab": {
          "base_uri": "https://localhost:8080/",
          "height": 1000
        },
        "id": "rQ3uDNG7VLkD",
        "outputId": "b1b70614-e13f-45fd-accb-90c117f311d3"
      },
      "source": [
        "pd.crosstab(df_final.price,df_final.user_rating,rownames=['price'], colnames=['rating']).apply(lambda x:x/x.sum(),axis=1)"
      ],
      "execution_count": null,
      "outputs": [
        {
          "output_type": "execute_result",
          "data": {
            "text/html": [
              "<div>\n",
              "<style scoped>\n",
              "    .dataframe tbody tr th:only-of-type {\n",
              "        vertical-align: middle;\n",
              "    }\n",
              "\n",
              "    .dataframe tbody tr th {\n",
              "        vertical-align: top;\n",
              "    }\n",
              "\n",
              "    .dataframe thead th {\n",
              "        text-align: right;\n",
              "    }\n",
              "</style>\n",
              "<table border=\"1\" class=\"dataframe\">\n",
              "  <thead>\n",
              "    <tr style=\"text-align: right;\">\n",
              "      <th>rating</th>\n",
              "      <th>1</th>\n",
              "      <th>2</th>\n",
              "      <th>3</th>\n",
              "      <th>4</th>\n",
              "      <th>5</th>\n",
              "    </tr>\n",
              "    <tr>\n",
              "      <th>price</th>\n",
              "      <th></th>\n",
              "      <th></th>\n",
              "      <th></th>\n",
              "      <th></th>\n",
              "      <th></th>\n",
              "    </tr>\n",
              "  </thead>\n",
              "  <tbody>\n",
              "    <tr>\n",
              "      <th>1.0000000</th>\n",
              "      <td>0.0000000</td>\n",
              "      <td>0.0000000</td>\n",
              "      <td>0.0000000</td>\n",
              "      <td>0.0000000</td>\n",
              "      <td>1.0000000</td>\n",
              "    </tr>\n",
              "    <tr>\n",
              "      <th>14.9900000</th>\n",
              "      <td>0.1093750</td>\n",
              "      <td>0.0625000</td>\n",
              "      <td>0.1562500</td>\n",
              "      <td>0.2343750</td>\n",
              "      <td>0.4375000</td>\n",
              "    </tr>\n",
              "    <tr>\n",
              "      <th>24.5000000</th>\n",
              "      <td>0.6666667</td>\n",
              "      <td>0.0000000</td>\n",
              "      <td>0.0000000</td>\n",
              "      <td>0.0000000</td>\n",
              "      <td>0.3333333</td>\n",
              "    </tr>\n",
              "    <tr>\n",
              "      <th>26.4300000</th>\n",
              "      <td>0.0666667</td>\n",
              "      <td>0.1333333</td>\n",
              "      <td>0.0666667</td>\n",
              "      <td>0.0000000</td>\n",
              "      <td>0.7333333</td>\n",
              "    </tr>\n",
              "    <tr>\n",
              "      <th>27.7200000</th>\n",
              "      <td>0.5454545</td>\n",
              "      <td>0.0000000</td>\n",
              "      <td>0.0000000</td>\n",
              "      <td>0.0000000</td>\n",
              "      <td>0.4545455</td>\n",
              "    </tr>\n",
              "    <tr>\n",
              "      <th>27.9000000</th>\n",
              "      <td>0.2500000</td>\n",
              "      <td>0.0000000</td>\n",
              "      <td>0.2500000</td>\n",
              "      <td>0.0833333</td>\n",
              "      <td>0.4166667</td>\n",
              "    </tr>\n",
              "    <tr>\n",
              "      <th>34.9900000</th>\n",
              "      <td>0.4745763</td>\n",
              "      <td>0.0338983</td>\n",
              "      <td>0.0593220</td>\n",
              "      <td>0.0932203</td>\n",
              "      <td>0.3389831</td>\n",
              "    </tr>\n",
              "    <tr>\n",
              "      <th>36.8900000</th>\n",
              "      <td>0.1052632</td>\n",
              "      <td>0.0789474</td>\n",
              "      <td>0.0526316</td>\n",
              "      <td>0.1052632</td>\n",
              "      <td>0.6578947</td>\n",
              "    </tr>\n",
              "    <tr>\n",
              "      <th>46.8300000</th>\n",
              "      <td>0.4710744</td>\n",
              "      <td>0.0247934</td>\n",
              "      <td>0.0495868</td>\n",
              "      <td>0.0743802</td>\n",
              "      <td>0.3801653</td>\n",
              "    </tr>\n",
              "    <tr>\n",
              "      <th>49.9000000</th>\n",
              "      <td>0.0000000</td>\n",
              "      <td>0.0000000</td>\n",
              "      <td>1.0000000</td>\n",
              "      <td>0.0000000</td>\n",
              "      <td>0.0000000</td>\n",
              "    </tr>\n",
              "    <tr>\n",
              "      <th>49.9500000</th>\n",
              "      <td>0.6666667</td>\n",
              "      <td>0.0000000</td>\n",
              "      <td>0.0000000</td>\n",
              "      <td>0.0000000</td>\n",
              "      <td>0.3333333</td>\n",
              "    </tr>\n",
              "    <tr>\n",
              "      <th>49.9900000</th>\n",
              "      <td>0.6000000</td>\n",
              "      <td>0.2000000</td>\n",
              "      <td>0.0000000</td>\n",
              "      <td>0.2000000</td>\n",
              "      <td>0.0000000</td>\n",
              "    </tr>\n",
              "    <tr>\n",
              "      <th>53.9200000</th>\n",
              "      <td>0.0833333</td>\n",
              "      <td>0.0833333</td>\n",
              "      <td>0.0833333</td>\n",
              "      <td>0.1666667</td>\n",
              "      <td>0.5833333</td>\n",
              "    </tr>\n",
              "    <tr>\n",
              "      <th>54.9900000</th>\n",
              "      <td>0.2293987</td>\n",
              "      <td>0.1135857</td>\n",
              "      <td>0.1403118</td>\n",
              "      <td>0.1380846</td>\n",
              "      <td>0.3786192</td>\n",
              "    </tr>\n",
              "    <tr>\n",
              "      <th>58.9000000</th>\n",
              "      <td>0.3333333</td>\n",
              "      <td>0.0000000</td>\n",
              "      <td>0.0000000</td>\n",
              "      <td>0.0000000</td>\n",
              "      <td>0.6666667</td>\n",
              "    </tr>\n",
              "    <tr>\n",
              "      <th>58.9900000</th>\n",
              "      <td>0.4615385</td>\n",
              "      <td>0.0000000</td>\n",
              "      <td>0.0769231</td>\n",
              "      <td>0.0769231</td>\n",
              "      <td>0.3846154</td>\n",
              "    </tr>\n",
              "    <tr>\n",
              "      <th>59.9900000</th>\n",
              "      <td>0.2921348</td>\n",
              "      <td>0.0561798</td>\n",
              "      <td>0.0449438</td>\n",
              "      <td>0.1797753</td>\n",
              "      <td>0.4269663</td>\n",
              "    </tr>\n",
              "    <tr>\n",
              "      <th>61.9900000</th>\n",
              "      <td>0.2631579</td>\n",
              "      <td>0.2631579</td>\n",
              "      <td>0.0526316</td>\n",
              "      <td>0.0526316</td>\n",
              "      <td>0.3684211</td>\n",
              "    </tr>\n",
              "    <tr>\n",
              "      <th>64.5700000</th>\n",
              "      <td>0.0000000</td>\n",
              "      <td>0.0000000</td>\n",
              "      <td>0.0000000</td>\n",
              "      <td>0.0000000</td>\n",
              "      <td>1.0000000</td>\n",
              "    </tr>\n",
              "    <tr>\n",
              "      <th>64.9000000</th>\n",
              "      <td>0.2571429</td>\n",
              "      <td>0.0285714</td>\n",
              "      <td>0.1142857</td>\n",
              "      <td>0.0857143</td>\n",
              "      <td>0.5142857</td>\n",
              "    </tr>\n",
              "    <tr>\n",
              "      <th>64.9400000</th>\n",
              "      <td>0.1666667</td>\n",
              "      <td>0.0000000</td>\n",
              "      <td>0.0833333</td>\n",
              "      <td>0.1666667</td>\n",
              "      <td>0.5833333</td>\n",
              "    </tr>\n",
              "    <tr>\n",
              "      <th>64.9900000</th>\n",
              "      <td>0.0964187</td>\n",
              "      <td>0.0330579</td>\n",
              "      <td>0.0674931</td>\n",
              "      <td>0.1570248</td>\n",
              "      <td>0.6460055</td>\n",
              "    </tr>\n",
              "    <tr>\n",
              "      <th>65.2300000</th>\n",
              "      <td>0.1666667</td>\n",
              "      <td>0.0000000</td>\n",
              "      <td>0.1666667</td>\n",
              "      <td>0.0000000</td>\n",
              "      <td>0.6666667</td>\n",
              "    </tr>\n",
              "    <tr>\n",
              "      <th>69.9300000</th>\n",
              "      <td>0.1562500</td>\n",
              "      <td>0.0312500</td>\n",
              "      <td>0.0312500</td>\n",
              "      <td>0.0937500</td>\n",
              "      <td>0.6875000</td>\n",
              "    </tr>\n",
              "    <tr>\n",
              "      <th>73.5000000</th>\n",
              "      <td>0.2903226</td>\n",
              "      <td>0.0860215</td>\n",
              "      <td>0.0537634</td>\n",
              "      <td>0.1290323</td>\n",
              "      <td>0.4408602</td>\n",
              "    </tr>\n",
              "    <tr>\n",
              "      <th>74.9800000</th>\n",
              "      <td>0.3076923</td>\n",
              "      <td>0.0384615</td>\n",
              "      <td>0.1923077</td>\n",
              "      <td>0.1538462</td>\n",
              "      <td>0.3076923</td>\n",
              "    </tr>\n",
              "    <tr>\n",
              "      <th>74.9900000</th>\n",
              "      <td>0.2107623</td>\n",
              "      <td>0.0717489</td>\n",
              "      <td>0.0448430</td>\n",
              "      <td>0.1569507</td>\n",
              "      <td>0.5156951</td>\n",
              "    </tr>\n",
              "    <tr>\n",
              "      <th>78.9000000</th>\n",
              "      <td>0.2857143</td>\n",
              "      <td>0.0476190</td>\n",
              "      <td>0.0476190</td>\n",
              "      <td>0.0952381</td>\n",
              "      <td>0.5238095</td>\n",
              "    </tr>\n",
              "    <tr>\n",
              "      <th>79.0000000</th>\n",
              "      <td>0.1578947</td>\n",
              "      <td>0.2631579</td>\n",
              "      <td>0.0000000</td>\n",
              "      <td>0.1052632</td>\n",
              "      <td>0.4736842</td>\n",
              "    </tr>\n",
              "    <tr>\n",
              "      <th>79.9900000</th>\n",
              "      <td>0.0780142</td>\n",
              "      <td>0.0354610</td>\n",
              "      <td>0.1276596</td>\n",
              "      <td>0.2269504</td>\n",
              "      <td>0.5319149</td>\n",
              "    </tr>\n",
              "    <tr>\n",
              "      <th>83.9900000</th>\n",
              "      <td>0.5000000</td>\n",
              "      <td>0.0000000</td>\n",
              "      <td>0.0833333</td>\n",
              "      <td>0.0833333</td>\n",
              "      <td>0.3333333</td>\n",
              "    </tr>\n",
              "    <tr>\n",
              "      <th>85.0000000</th>\n",
              "      <td>0.1776650</td>\n",
              "      <td>0.0152284</td>\n",
              "      <td>0.0507614</td>\n",
              "      <td>0.1116751</td>\n",
              "      <td>0.6446701</td>\n",
              "    </tr>\n",
              "    <tr>\n",
              "      <th>88.0000000</th>\n",
              "      <td>0.1538462</td>\n",
              "      <td>0.0769231</td>\n",
              "      <td>0.1538462</td>\n",
              "      <td>0.1538462</td>\n",
              "      <td>0.4615385</td>\n",
              "    </tr>\n",
              "    <tr>\n",
              "      <th>89.0000000</th>\n",
              "      <td>0.1841270</td>\n",
              "      <td>0.0730159</td>\n",
              "      <td>0.1047619</td>\n",
              "      <td>0.1714286</td>\n",
              "      <td>0.4666667</td>\n",
              "    </tr>\n",
              "    <tr>\n",
              "      <th>89.9000000</th>\n",
              "      <td>0.1666667</td>\n",
              "      <td>0.0000000</td>\n",
              "      <td>0.0000000</td>\n",
              "      <td>0.0833333</td>\n",
              "      <td>0.7500000</td>\n",
              "    </tr>\n",
              "    <tr>\n",
              "      <th>89.9600000</th>\n",
              "      <td>0.2962963</td>\n",
              "      <td>0.0000000</td>\n",
              "      <td>0.0740741</td>\n",
              "      <td>0.0740741</td>\n",
              "      <td>0.5555556</td>\n",
              "    </tr>\n",
              "    <tr>\n",
              "      <th>89.9900000</th>\n",
              "      <td>0.1215470</td>\n",
              "      <td>0.0662983</td>\n",
              "      <td>0.1325967</td>\n",
              "      <td>0.1491713</td>\n",
              "      <td>0.5303867</td>\n",
              "    </tr>\n",
              "    <tr>\n",
              "      <th>93.9900000</th>\n",
              "      <td>0.2698413</td>\n",
              "      <td>0.0158730</td>\n",
              "      <td>0.0634921</td>\n",
              "      <td>0.1111111</td>\n",
              "      <td>0.5396825</td>\n",
              "    </tr>\n",
              "    <tr>\n",
              "      <th>94.9000000</th>\n",
              "      <td>1.0000000</td>\n",
              "      <td>0.0000000</td>\n",
              "      <td>0.0000000</td>\n",
              "      <td>0.0000000</td>\n",
              "      <td>0.0000000</td>\n",
              "    </tr>\n",
              "    <tr>\n",
              "      <th>94.9900000</th>\n",
              "      <td>0.5806452</td>\n",
              "      <td>0.0000000</td>\n",
              "      <td>0.0322581</td>\n",
              "      <td>0.1612903</td>\n",
              "      <td>0.2258065</td>\n",
              "    </tr>\n",
              "    <tr>\n",
              "      <th>96.9800000</th>\n",
              "      <td>0.0000000</td>\n",
              "      <td>0.0000000</td>\n",
              "      <td>1.0000000</td>\n",
              "      <td>0.0000000</td>\n",
              "      <td>0.0000000</td>\n",
              "    </tr>\n",
              "    <tr>\n",
              "      <th>97.6900000</th>\n",
              "      <td>0.1277372</td>\n",
              "      <td>0.0547445</td>\n",
              "      <td>0.1131387</td>\n",
              "      <td>0.2299270</td>\n",
              "      <td>0.4744526</td>\n",
              "    </tr>\n",
              "    <tr>\n",
              "      <th>99.0000000</th>\n",
              "      <td>0.1621622</td>\n",
              "      <td>0.0810811</td>\n",
              "      <td>0.0540541</td>\n",
              "      <td>0.1891892</td>\n",
              "      <td>0.5135135</td>\n",
              "    </tr>\n",
              "    <tr>\n",
              "      <th>99.5800000</th>\n",
              "      <td>0.2500000</td>\n",
              "      <td>0.0000000</td>\n",
              "      <td>0.0000000</td>\n",
              "      <td>0.0000000</td>\n",
              "      <td>0.7500000</td>\n",
              "    </tr>\n",
              "    <tr>\n",
              "      <th>99.9900000</th>\n",
              "      <td>0.1615854</td>\n",
              "      <td>0.0396341</td>\n",
              "      <td>0.1006098</td>\n",
              "      <td>0.1524390</td>\n",
              "      <td>0.5457317</td>\n",
              "    </tr>\n",
              "    <tr>\n",
              "      <th>100.0000000</th>\n",
              "      <td>0.1666667</td>\n",
              "      <td>0.2083333</td>\n",
              "      <td>0.0833333</td>\n",
              "      <td>0.0833333</td>\n",
              "      <td>0.4583333</td>\n",
              "    </tr>\n",
              "    <tr>\n",
              "      <th>100.9600000</th>\n",
              "      <td>0.1052632</td>\n",
              "      <td>0.0350877</td>\n",
              "      <td>0.0701754</td>\n",
              "      <td>0.2456140</td>\n",
              "      <td>0.5438596</td>\n",
              "    </tr>\n",
              "    <tr>\n",
              "      <th>102.0000000</th>\n",
              "      <td>0.1018868</td>\n",
              "      <td>0.0603774</td>\n",
              "      <td>0.1207547</td>\n",
              "      <td>0.1622642</td>\n",
              "      <td>0.5547170</td>\n",
              "    </tr>\n",
              "    <tr>\n",
              "      <th>103.9800000</th>\n",
              "      <td>0.1844512</td>\n",
              "      <td>0.0594512</td>\n",
              "      <td>0.0609756</td>\n",
              "      <td>0.2195122</td>\n",
              "      <td>0.4756098</td>\n",
              "    </tr>\n",
              "    <tr>\n",
              "      <th>104.9000000</th>\n",
              "      <td>0.2547771</td>\n",
              "      <td>0.1401274</td>\n",
              "      <td>0.0573248</td>\n",
              "      <td>0.1528662</td>\n",
              "      <td>0.3949045</td>\n",
              "    </tr>\n",
              "    <tr>\n",
              "      <th>104.9700000</th>\n",
              "      <td>0.1111111</td>\n",
              "      <td>0.0000000</td>\n",
              "      <td>0.0000000</td>\n",
              "      <td>0.3333333</td>\n",
              "      <td>0.5555556</td>\n",
              "    </tr>\n",
              "    <tr>\n",
              "      <th>104.9900000</th>\n",
              "      <td>0.1282051</td>\n",
              "      <td>0.0769231</td>\n",
              "      <td>0.0769231</td>\n",
              "      <td>0.1794872</td>\n",
              "      <td>0.5384615</td>\n",
              "    </tr>\n",
              "    <tr>\n",
              "      <th>105.0000000</th>\n",
              "      <td>0.2051282</td>\n",
              "      <td>0.1025641</td>\n",
              "      <td>0.0256410</td>\n",
              "      <td>0.0769231</td>\n",
              "      <td>0.5897436</td>\n",
              "    </tr>\n",
              "    <tr>\n",
              "      <th>109.0000000</th>\n",
              "      <td>0.1811024</td>\n",
              "      <td>0.0708661</td>\n",
              "      <td>0.0866142</td>\n",
              "      <td>0.1448819</td>\n",
              "      <td>0.5165354</td>\n",
              "    </tr>\n",
              "    <tr>\n",
              "      <th>109.9500000</th>\n",
              "      <td>0.3546099</td>\n",
              "      <td>0.1134752</td>\n",
              "      <td>0.0780142</td>\n",
              "      <td>0.1063830</td>\n",
              "      <td>0.3475177</td>\n",
              "    </tr>\n",
              "    <tr>\n",
              "      <th>109.9800000</th>\n",
              "      <td>0.2209877</td>\n",
              "      <td>0.0765432</td>\n",
              "      <td>0.1197531</td>\n",
              "      <td>0.1444444</td>\n",
              "      <td>0.4382716</td>\n",
              "    </tr>\n",
              "    <tr>\n",
              "      <th>110.0000000</th>\n",
              "      <td>0.3200000</td>\n",
              "      <td>0.0400000</td>\n",
              "      <td>0.0400000</td>\n",
              "      <td>0.1200000</td>\n",
              "      <td>0.4800000</td>\n",
              "    </tr>\n",
              "    <tr>\n",
              "      <th>112.9800000</th>\n",
              "      <td>0.0000000</td>\n",
              "      <td>0.0000000</td>\n",
              "      <td>0.0000000</td>\n",
              "      <td>0.0000000</td>\n",
              "      <td>1.0000000</td>\n",
              "    </tr>\n",
              "    <tr>\n",
              "      <th>114.5500000</th>\n",
              "      <td>0.3529412</td>\n",
              "      <td>0.0588235</td>\n",
              "      <td>0.1176471</td>\n",
              "      <td>0.1176471</td>\n",
              "      <td>0.3529412</td>\n",
              "    </tr>\n",
              "    <tr>\n",
              "      <th>114.9900000</th>\n",
              "      <td>0.3541667</td>\n",
              "      <td>0.0625000</td>\n",
              "      <td>0.1041667</td>\n",
              "      <td>0.1875000</td>\n",
              "      <td>0.2916667</td>\n",
              "    </tr>\n",
              "    <tr>\n",
              "      <th>115.0000000</th>\n",
              "      <td>0.2916667</td>\n",
              "      <td>0.0833333</td>\n",
              "      <td>0.0000000</td>\n",
              "      <td>0.1666667</td>\n",
              "      <td>0.4583333</td>\n",
              "    </tr>\n",
              "    <tr>\n",
              "      <th>116.7000000</th>\n",
              "      <td>0.0000000</td>\n",
              "      <td>0.0000000</td>\n",
              "      <td>0.0000000</td>\n",
              "      <td>0.0000000</td>\n",
              "      <td>1.0000000</td>\n",
              "    </tr>\n",
              "    <tr>\n",
              "      <th>118.9600000</th>\n",
              "      <td>0.2000000</td>\n",
              "      <td>0.0466667</td>\n",
              "      <td>0.0666667</td>\n",
              "      <td>0.1666667</td>\n",
              "      <td>0.5200000</td>\n",
              "    </tr>\n",
              "    <tr>\n",
              "      <th>119.0000000</th>\n",
              "      <td>0.1702128</td>\n",
              "      <td>0.0638298</td>\n",
              "      <td>0.0638298</td>\n",
              "      <td>0.2553191</td>\n",
              "      <td>0.4468085</td>\n",
              "    </tr>\n",
              "    <tr>\n",
              "      <th>119.9500000</th>\n",
              "      <td>0.4166667</td>\n",
              "      <td>0.0000000</td>\n",
              "      <td>0.0000000</td>\n",
              "      <td>0.0833333</td>\n",
              "      <td>0.5000000</td>\n",
              "    </tr>\n",
              "    <tr>\n",
              "      <th>119.9900000</th>\n",
              "      <td>0.1651786</td>\n",
              "      <td>0.0562500</td>\n",
              "      <td>0.0848214</td>\n",
              "      <td>0.1625000</td>\n",
              "      <td>0.5312500</td>\n",
              "    </tr>\n",
              "    <tr>\n",
              "      <th>121.0800000</th>\n",
              "      <td>1.0000000</td>\n",
              "      <td>0.0000000</td>\n",
              "      <td>0.0000000</td>\n",
              "      <td>0.0000000</td>\n",
              "      <td>0.0000000</td>\n",
              "    </tr>\n",
              "    <tr>\n",
              "      <th>121.4600000</th>\n",
              "      <td>0.2738095</td>\n",
              "      <td>0.0833333</td>\n",
              "      <td>0.1071429</td>\n",
              "      <td>0.1904762</td>\n",
              "      <td>0.3452381</td>\n",
              "    </tr>\n",
              "    <tr>\n",
              "      <th>122.9900000</th>\n",
              "      <td>0.5555556</td>\n",
              "      <td>0.0000000</td>\n",
              "      <td>0.1111111</td>\n",
              "      <td>0.1111111</td>\n",
              "      <td>0.2222222</td>\n",
              "    </tr>\n",
              "    <tr>\n",
              "      <th>124.9500000</th>\n",
              "      <td>0.6666667</td>\n",
              "      <td>0.0000000</td>\n",
              "      <td>0.0000000</td>\n",
              "      <td>0.3333333</td>\n",
              "      <td>0.0000000</td>\n",
              "    </tr>\n",
              "    <tr>\n",
              "      <th>128.7900000</th>\n",
              "      <td>0.2327044</td>\n",
              "      <td>0.0566038</td>\n",
              "      <td>0.0691824</td>\n",
              "      <td>0.1446541</td>\n",
              "      <td>0.4968553</td>\n",
              "    </tr>\n",
              "    <tr>\n",
              "      <th>128.9000000</th>\n",
              "      <td>0.0000000</td>\n",
              "      <td>0.0000000</td>\n",
              "      <td>0.0000000</td>\n",
              "      <td>1.0000000</td>\n",
              "      <td>0.0000000</td>\n",
              "    </tr>\n",
              "    <tr>\n",
              "      <th>128.9700000</th>\n",
              "      <td>0.1428571</td>\n",
              "      <td>0.0714286</td>\n",
              "      <td>0.0714286</td>\n",
              "      <td>0.1428571</td>\n",
              "      <td>0.5714286</td>\n",
              "    </tr>\n",
              "    <tr>\n",
              "      <th>129.0000000</th>\n",
              "      <td>0.1970149</td>\n",
              "      <td>0.0776119</td>\n",
              "      <td>0.0716418</td>\n",
              "      <td>0.1462687</td>\n",
              "      <td>0.5074627</td>\n",
              "    </tr>\n",
              "    <tr>\n",
              "      <th>129.6000000</th>\n",
              "      <td>0.0000000</td>\n",
              "      <td>0.6000000</td>\n",
              "      <td>0.0000000</td>\n",
              "      <td>0.0000000</td>\n",
              "      <td>0.4000000</td>\n",
              "    </tr>\n",
              "    <tr>\n",
              "      <th>129.9500000</th>\n",
              "      <td>0.2500000</td>\n",
              "      <td>0.0000000</td>\n",
              "      <td>0.0000000</td>\n",
              "      <td>0.0000000</td>\n",
              "      <td>0.7500000</td>\n",
              "    </tr>\n",
              "    <tr>\n",
              "      <th>129.9900000</th>\n",
              "      <td>0.2229730</td>\n",
              "      <td>0.1081081</td>\n",
              "      <td>0.0540541</td>\n",
              "      <td>0.1418919</td>\n",
              "      <td>0.4729730</td>\n",
              "    </tr>\n",
              "    <tr>\n",
              "      <th>132.9900000</th>\n",
              "      <td>0.0909091</td>\n",
              "      <td>0.0000000</td>\n",
              "      <td>0.0000000</td>\n",
              "      <td>0.0909091</td>\n",
              "      <td>0.8181818</td>\n",
              "    </tr>\n",
              "    <tr>\n",
              "      <th>133.2800000</th>\n",
              "      <td>0.2395210</td>\n",
              "      <td>0.0688623</td>\n",
              "      <td>0.1167665</td>\n",
              "      <td>0.1437126</td>\n",
              "      <td>0.4311377</td>\n",
              "    </tr>\n",
              "    <tr>\n",
              "      <th>133.5500000</th>\n",
              "      <td>0.6000000</td>\n",
              "      <td>0.1000000</td>\n",
              "      <td>0.0000000</td>\n",
              "      <td>0.0000000</td>\n",
              "      <td>0.3000000</td>\n",
              "    </tr>\n",
              "    <tr>\n",
              "      <th>133.6500000</th>\n",
              "      <td>0.3333333</td>\n",
              "      <td>0.3333333</td>\n",
              "      <td>0.0000000</td>\n",
              "      <td>0.0000000</td>\n",
              "      <td>0.3333333</td>\n",
              "    </tr>\n",
              "    <tr>\n",
              "      <th>134.0000000</th>\n",
              "      <td>0.0740741</td>\n",
              "      <td>0.0740741</td>\n",
              "      <td>0.0555556</td>\n",
              "      <td>0.1666667</td>\n",
              "      <td>0.6296296</td>\n",
              "    </tr>\n",
              "    <tr>\n",
              "      <th>134.9800000</th>\n",
              "      <td>0.0000000</td>\n",
              "      <td>0.0000000</td>\n",
              "      <td>0.0000000</td>\n",
              "      <td>0.0000000</td>\n",
              "      <td>1.0000000</td>\n",
              "    </tr>\n",
              "    <tr>\n",
              "      <th>134.9900000</th>\n",
              "      <td>0.3157895</td>\n",
              "      <td>0.0827068</td>\n",
              "      <td>0.1353383</td>\n",
              "      <td>0.0902256</td>\n",
              "      <td>0.3759398</td>\n",
              "    </tr>\n",
              "    <tr>\n",
              "      <th>135.9900000</th>\n",
              "      <td>0.1555556</td>\n",
              "      <td>0.0222222</td>\n",
              "      <td>0.1333333</td>\n",
              "      <td>0.0666667</td>\n",
              "      <td>0.6222222</td>\n",
              "    </tr>\n",
              "    <tr>\n",
              "      <th>136.2700000</th>\n",
              "      <td>0.2500000</td>\n",
              "      <td>0.0000000</td>\n",
              "      <td>0.2500000</td>\n",
              "      <td>0.5000000</td>\n",
              "      <td>0.0000000</td>\n",
              "    </tr>\n",
              "    <tr>\n",
              "      <th>137.5700000</th>\n",
              "      <td>0.0714286</td>\n",
              "      <td>0.0714286</td>\n",
              "      <td>0.0000000</td>\n",
              "      <td>0.2142857</td>\n",
              "      <td>0.6428571</td>\n",
              "    </tr>\n",
              "    <tr>\n",
              "      <th>138.0000000</th>\n",
              "      <td>0.2307692</td>\n",
              "      <td>0.1282051</td>\n",
              "      <td>0.0512821</td>\n",
              "      <td>0.1025641</td>\n",
              "      <td>0.4871795</td>\n",
              "    </tr>\n",
              "    <tr>\n",
              "      <th>138.9500000</th>\n",
              "      <td>1.0000000</td>\n",
              "      <td>0.0000000</td>\n",
              "      <td>0.0000000</td>\n",
              "      <td>0.0000000</td>\n",
              "      <td>0.0000000</td>\n",
              "    </tr>\n",
              "    <tr>\n",
              "      <th>139.0000000</th>\n",
              "      <td>0.1764706</td>\n",
              "      <td>0.0000000</td>\n",
              "      <td>0.0588235</td>\n",
              "      <td>0.0588235</td>\n",
              "      <td>0.7058824</td>\n",
              "    </tr>\n",
              "    <tr>\n",
              "      <th>139.4800000</th>\n",
              "      <td>0.0784314</td>\n",
              "      <td>0.0196078</td>\n",
              "      <td>0.1372549</td>\n",
              "      <td>0.2745098</td>\n",
              "      <td>0.4901961</td>\n",
              "    </tr>\n",
              "    <tr>\n",
              "      <th>139.9500000</th>\n",
              "      <td>0.3421053</td>\n",
              "      <td>0.0789474</td>\n",
              "      <td>0.0263158</td>\n",
              "      <td>0.1052632</td>\n",
              "      <td>0.4473684</td>\n",
              "    </tr>\n",
              "    <tr>\n",
              "      <th>139.9700000</th>\n",
              "      <td>0.1794872</td>\n",
              "      <td>0.0256410</td>\n",
              "      <td>0.1153846</td>\n",
              "      <td>0.1153846</td>\n",
              "      <td>0.5641026</td>\n",
              "    </tr>\n",
              "    <tr>\n",
              "      <th>139.9900000</th>\n",
              "      <td>0.1545064</td>\n",
              "      <td>0.0622318</td>\n",
              "      <td>0.0729614</td>\n",
              "      <td>0.1502146</td>\n",
              "      <td>0.5600858</td>\n",
              "    </tr>\n",
              "    <tr>\n",
              "      <th>141.9900000</th>\n",
              "      <td>0.0000000</td>\n",
              "      <td>0.1428571</td>\n",
              "      <td>0.4285714</td>\n",
              "      <td>0.0000000</td>\n",
              "      <td>0.4285714</td>\n",
              "    </tr>\n",
              "    <tr>\n",
              "      <th>143.5700000</th>\n",
              "      <td>0.1987952</td>\n",
              "      <td>0.0662651</td>\n",
              "      <td>0.0692771</td>\n",
              "      <td>0.1325301</td>\n",
              "      <td>0.5331325</td>\n",
              "    </tr>\n",
              "    <tr>\n",
              "      <th>144.7100000</th>\n",
              "      <td>0.4000000</td>\n",
              "      <td>0.3000000</td>\n",
              "      <td>0.0000000</td>\n",
              "      <td>0.2000000</td>\n",
              "      <td>0.1000000</td>\n",
              "    </tr>\n",
              "    <tr>\n",
              "      <th>144.9000000</th>\n",
              "      <td>0.2368421</td>\n",
              "      <td>0.0263158</td>\n",
              "      <td>0.1052632</td>\n",
              "      <td>0.1578947</td>\n",
              "      <td>0.4736842</td>\n",
              "    </tr>\n",
              "    <tr>\n",
              "      <th>145.0000000</th>\n",
              "      <td>0.2551724</td>\n",
              "      <td>0.0620690</td>\n",
              "      <td>0.0620690</td>\n",
              "      <td>0.1241379</td>\n",
              "      <td>0.4965517</td>\n",
              "    </tr>\n",
              "    <tr>\n",
              "      <th>147.9800000</th>\n",
              "      <td>0.0588235</td>\n",
              "      <td>0.0588235</td>\n",
              "      <td>0.1764706</td>\n",
              "      <td>0.2941176</td>\n",
              "      <td>0.4117647</td>\n",
              "    </tr>\n",
              "    <tr>\n",
              "      <th>148.4900000</th>\n",
              "      <td>0.2666667</td>\n",
              "      <td>0.0666667</td>\n",
              "      <td>0.0000000</td>\n",
              "      <td>0.2000000</td>\n",
              "      <td>0.4666667</td>\n",
              "    </tr>\n",
              "    <tr>\n",
              "      <th>148.9600000</th>\n",
              "      <td>0.1790476</td>\n",
              "      <td>0.0514286</td>\n",
              "      <td>0.0704762</td>\n",
              "      <td>0.1523810</td>\n",
              "      <td>0.5466667</td>\n",
              "    </tr>\n",
              "    <tr>\n",
              "      <th>148.9800000</th>\n",
              "      <td>0.1089431</td>\n",
              "      <td>0.0406504</td>\n",
              "      <td>0.0682927</td>\n",
              "      <td>0.1528455</td>\n",
              "      <td>0.6292683</td>\n",
              "    </tr>\n",
              "    <tr>\n",
              "      <th>149.0000000</th>\n",
              "      <td>0.1081081</td>\n",
              "      <td>0.0090090</td>\n",
              "      <td>0.0360360</td>\n",
              "      <td>0.1531532</td>\n",
              "      <td>0.6936937</td>\n",
              "    </tr>\n",
              "    <tr>\n",
              "      <th>149.5000000</th>\n",
              "      <td>0.0645161</td>\n",
              "      <td>0.0322581</td>\n",
              "      <td>0.0000000</td>\n",
              "      <td>0.1290323</td>\n",
              "      <td>0.7741935</td>\n",
              "    </tr>\n",
              "    <tr>\n",
              "      <th>149.9800000</th>\n",
              "      <td>0.2340426</td>\n",
              "      <td>0.0425532</td>\n",
              "      <td>0.0638298</td>\n",
              "      <td>0.0425532</td>\n",
              "      <td>0.6170213</td>\n",
              "    </tr>\n",
              "    <tr>\n",
              "      <th>149.9900000</th>\n",
              "      <td>0.1700405</td>\n",
              "      <td>0.0506073</td>\n",
              "      <td>0.0748988</td>\n",
              "      <td>0.1396761</td>\n",
              "      <td>0.5647773</td>\n",
              "    </tr>\n",
              "    <tr>\n",
              "      <th>150.0000000</th>\n",
              "      <td>0.2439024</td>\n",
              "      <td>0.0487805</td>\n",
              "      <td>0.0487805</td>\n",
              "      <td>0.0975610</td>\n",
              "      <td>0.5609756</td>\n",
              "    </tr>\n",
              "    <tr>\n",
              "      <th>150.9600000</th>\n",
              "      <td>0.0000000</td>\n",
              "      <td>0.0000000</td>\n",
              "      <td>0.0000000</td>\n",
              "      <td>0.3333333</td>\n",
              "      <td>0.6666667</td>\n",
              "    </tr>\n",
              "    <tr>\n",
              "      <th>151.7900000</th>\n",
              "      <td>0.1960784</td>\n",
              "      <td>0.0392157</td>\n",
              "      <td>0.0784314</td>\n",
              "      <td>0.1764706</td>\n",
              "      <td>0.5098039</td>\n",
              "    </tr>\n",
              "    <tr>\n",
              "      <th>151.9000000</th>\n",
              "      <td>0.5714286</td>\n",
              "      <td>0.0000000</td>\n",
              "      <td>0.0000000</td>\n",
              "      <td>0.1428571</td>\n",
              "      <td>0.2857143</td>\n",
              "    </tr>\n",
              "    <tr>\n",
              "      <th>151.9900000</th>\n",
              "      <td>0.1891892</td>\n",
              "      <td>0.0810811</td>\n",
              "      <td>0.0540541</td>\n",
              "      <td>0.0810811</td>\n",
              "      <td>0.5945946</td>\n",
              "    </tr>\n",
              "    <tr>\n",
              "      <th>152.4900000</th>\n",
              "      <td>0.0370370</td>\n",
              "      <td>0.0000000</td>\n",
              "      <td>0.0000000</td>\n",
              "      <td>0.1111111</td>\n",
              "      <td>0.8518519</td>\n",
              "    </tr>\n",
              "    <tr>\n",
              "      <th>152.5000000</th>\n",
              "      <td>0.0454545</td>\n",
              "      <td>0.0227273</td>\n",
              "      <td>0.0227273</td>\n",
              "      <td>0.1363636</td>\n",
              "      <td>0.7727273</td>\n",
              "    </tr>\n",
              "    <tr>\n",
              "      <th>152.9500000</th>\n",
              "      <td>0.1219512</td>\n",
              "      <td>0.0243902</td>\n",
              "      <td>0.0975610</td>\n",
              "      <td>0.0487805</td>\n",
              "      <td>0.7073171</td>\n",
              "    </tr>\n",
              "    <tr>\n",
              "      <th>153.0000000</th>\n",
              "      <td>0.0714286</td>\n",
              "      <td>0.0000000</td>\n",
              "      <td>0.0714286</td>\n",
              "      <td>0.2142857</td>\n",
              "      <td>0.6428571</td>\n",
              "    </tr>\n",
              "    <tr>\n",
              "      <th>153.9700000</th>\n",
              "      <td>0.3913043</td>\n",
              "      <td>0.0869565</td>\n",
              "      <td>0.0000000</td>\n",
              "      <td>0.0434783</td>\n",
              "      <td>0.4782609</td>\n",
              "    </tr>\n",
              "    <tr>\n",
              "      <th>153.9900000</th>\n",
              "      <td>0.1290323</td>\n",
              "      <td>0.0537634</td>\n",
              "      <td>0.0645161</td>\n",
              "      <td>0.1505376</td>\n",
              "      <td>0.6021505</td>\n",
              "    </tr>\n",
              "    <tr>\n",
              "      <th>154.4900000</th>\n",
              "      <td>0.0546875</td>\n",
              "      <td>0.0390625</td>\n",
              "      <td>0.0546875</td>\n",
              "      <td>0.1718750</td>\n",
              "      <td>0.6796875</td>\n",
              "    </tr>\n",
              "    <tr>\n",
              "      <th>154.9500000</th>\n",
              "      <td>0.0357143</td>\n",
              "      <td>0.1428571</td>\n",
              "      <td>0.0000000</td>\n",
              "      <td>0.2142857</td>\n",
              "      <td>0.6071429</td>\n",
              "    </tr>\n",
              "    <tr>\n",
              "      <th>154.9700000</th>\n",
              "      <td>0.1869159</td>\n",
              "      <td>0.0614152</td>\n",
              "      <td>0.0574099</td>\n",
              "      <td>0.1495327</td>\n",
              "      <td>0.5447263</td>\n",
              "    </tr>\n",
              "    <tr>\n",
              "      <th>155.9900000</th>\n",
              "      <td>0.2072368</td>\n",
              "      <td>0.0789474</td>\n",
              "      <td>0.0625000</td>\n",
              "      <td>0.1414474</td>\n",
              "      <td>0.5098684</td>\n",
              "    </tr>\n",
              "    <tr>\n",
              "      <th>156.8800000</th>\n",
              "      <td>0.2445141</td>\n",
              "      <td>0.0877743</td>\n",
              "      <td>0.0909091</td>\n",
              "      <td>0.1347962</td>\n",
              "      <td>0.4420063</td>\n",
              "    </tr>\n",
              "    <tr>\n",
              "      <th>158.0000000</th>\n",
              "      <td>0.3333333</td>\n",
              "      <td>0.1666667</td>\n",
              "      <td>0.0000000</td>\n",
              "      <td>0.1666667</td>\n",
              "      <td>0.3333333</td>\n",
              "    </tr>\n",
              "    <tr>\n",
              "      <th>158.4200000</th>\n",
              "      <td>0.0000000</td>\n",
              "      <td>0.0000000</td>\n",
              "      <td>0.1428571</td>\n",
              "      <td>0.2857143</td>\n",
              "      <td>0.5714286</td>\n",
              "    </tr>\n",
              "    <tr>\n",
              "      <th>158.8800000</th>\n",
              "      <td>0.2493075</td>\n",
              "      <td>0.0609418</td>\n",
              "      <td>0.0831025</td>\n",
              "      <td>0.1246537</td>\n",
              "      <td>0.4819945</td>\n",
              "    </tr>\n",
              "    <tr>\n",
              "      <th>159.0000000</th>\n",
              "      <td>0.1186441</td>\n",
              "      <td>0.0932203</td>\n",
              "      <td>0.1355932</td>\n",
              "      <td>0.1864407</td>\n",
              "      <td>0.4661017</td>\n",
              "    </tr>\n",
              "    <tr>\n",
              "      <th>159.4900000</th>\n",
              "      <td>0.1035354</td>\n",
              "      <td>0.0454545</td>\n",
              "      <td>0.0707071</td>\n",
              "      <td>0.1161616</td>\n",
              "      <td>0.6641414</td>\n",
              "    </tr>\n",
              "    <tr>\n",
              "      <th>159.9000000</th>\n",
              "      <td>0.0000000</td>\n",
              "      <td>0.0000000</td>\n",
              "      <td>0.2000000</td>\n",
              "      <td>0.2000000</td>\n",
              "      <td>0.6000000</td>\n",
              "    </tr>\n",
              "    <tr>\n",
              "      <th>159.9900000</th>\n",
              "      <td>0.2400000</td>\n",
              "      <td>0.0400000</td>\n",
              "      <td>0.1200000</td>\n",
              "      <td>0.1200000</td>\n",
              "      <td>0.4800000</td>\n",
              "    </tr>\n",
              "    <tr>\n",
              "      <th>160.0800000</th>\n",
              "      <td>0.5000000</td>\n",
              "      <td>0.0000000</td>\n",
              "      <td>0.1000000</td>\n",
              "      <td>0.0000000</td>\n",
              "      <td>0.4000000</td>\n",
              "    </tr>\n",
              "    <tr>\n",
              "      <th>162.7200000</th>\n",
              "      <td>0.1476510</td>\n",
              "      <td>0.0604027</td>\n",
              "      <td>0.0604027</td>\n",
              "      <td>0.1275168</td>\n",
              "      <td>0.6040268</td>\n",
              "    </tr>\n",
              "    <tr>\n",
              "      <th>163.0000000</th>\n",
              "      <td>0.0709677</td>\n",
              "      <td>0.0193548</td>\n",
              "      <td>0.0322581</td>\n",
              "      <td>0.1870968</td>\n",
              "      <td>0.6903226</td>\n",
              "    </tr>\n",
              "    <tr>\n",
              "      <th>163.9900000</th>\n",
              "      <td>0.3632959</td>\n",
              "      <td>0.0861423</td>\n",
              "      <td>0.1048689</td>\n",
              "      <td>0.1011236</td>\n",
              "      <td>0.3445693</td>\n",
              "    </tr>\n",
              "    <tr>\n",
              "      <th>165.0000000</th>\n",
              "      <td>0.1502732</td>\n",
              "      <td>0.0573770</td>\n",
              "      <td>0.0710383</td>\n",
              "      <td>0.1366120</td>\n",
              "      <td>0.5846995</td>\n",
              "    </tr>\n",
              "    <tr>\n",
              "      <th>166.0000000</th>\n",
              "      <td>0.0629921</td>\n",
              "      <td>0.0209974</td>\n",
              "      <td>0.0498688</td>\n",
              "      <td>0.1207349</td>\n",
              "      <td>0.7454068</td>\n",
              "    </tr>\n",
              "    <tr>\n",
              "      <th>166.1900000</th>\n",
              "      <td>0.0000000</td>\n",
              "      <td>0.0000000</td>\n",
              "      <td>0.0000000</td>\n",
              "      <td>0.0000000</td>\n",
              "      <td>1.0000000</td>\n",
              "    </tr>\n",
              "    <tr>\n",
              "      <th>167.0000000</th>\n",
              "      <td>0.0888889</td>\n",
              "      <td>0.0427350</td>\n",
              "      <td>0.0547009</td>\n",
              "      <td>0.1538462</td>\n",
              "      <td>0.6598291</td>\n",
              "    </tr>\n",
              "    <tr>\n",
              "      <th>167.5000000</th>\n",
              "      <td>0.1119691</td>\n",
              "      <td>0.0308880</td>\n",
              "      <td>0.0733591</td>\n",
              "      <td>0.1119691</td>\n",
              "      <td>0.6718147</td>\n",
              "    </tr>\n",
              "    <tr>\n",
              "      <th>167.9900000</th>\n",
              "      <td>0.0000000</td>\n",
              "      <td>0.0000000</td>\n",
              "      <td>0.3333333</td>\n",
              "      <td>0.0000000</td>\n",
              "      <td>0.6666667</td>\n",
              "    </tr>\n",
              "    <tr>\n",
              "      <th>168.0000000</th>\n",
              "      <td>0.0461538</td>\n",
              "      <td>0.0153846</td>\n",
              "      <td>0.0461538</td>\n",
              "      <td>0.1076923</td>\n",
              "      <td>0.7846154</td>\n",
              "    </tr>\n",
              "    <tr>\n",
              "      <th>168.5100000</th>\n",
              "      <td>0.0461538</td>\n",
              "      <td>0.0153846</td>\n",
              "      <td>0.0461538</td>\n",
              "      <td>0.1076923</td>\n",
              "      <td>0.7846154</td>\n",
              "    </tr>\n",
              "    <tr>\n",
              "      <th>169.0000000</th>\n",
              "      <td>0.1139241</td>\n",
              "      <td>0.0506329</td>\n",
              "      <td>0.0590717</td>\n",
              "      <td>0.1350211</td>\n",
              "      <td>0.6413502</td>\n",
              "    </tr>\n",
              "    <tr>\n",
              "      <th>169.9300000</th>\n",
              "      <td>0.4000000</td>\n",
              "      <td>0.1000000</td>\n",
              "      <td>0.1666667</td>\n",
              "      <td>0.0666667</td>\n",
              "      <td>0.2666667</td>\n",
              "    </tr>\n",
              "    <tr>\n",
              "      <th>169.9500000</th>\n",
              "      <td>0.2915129</td>\n",
              "      <td>0.1033210</td>\n",
              "      <td>0.0738007</td>\n",
              "      <td>0.1033210</td>\n",
              "      <td>0.4280443</td>\n",
              "    </tr>\n",
              "    <tr>\n",
              "      <th>169.9800000</th>\n",
              "      <td>0.1693548</td>\n",
              "      <td>0.0766129</td>\n",
              "      <td>0.0685484</td>\n",
              "      <td>0.1370968</td>\n",
              "      <td>0.5483871</td>\n",
              "    </tr>\n",
              "    <tr>\n",
              "      <th>169.9900000</th>\n",
              "      <td>0.2727273</td>\n",
              "      <td>0.1136364</td>\n",
              "      <td>0.0454545</td>\n",
              "      <td>0.1136364</td>\n",
              "      <td>0.4545455</td>\n",
              "    </tr>\n",
              "    <tr>\n",
              "      <th>171.9800000</th>\n",
              "      <td>0.1428571</td>\n",
              "      <td>0.0000000</td>\n",
              "      <td>0.0000000</td>\n",
              "      <td>0.1428571</td>\n",
              "      <td>0.7142857</td>\n",
              "    </tr>\n",
              "    <tr>\n",
              "      <th>174.0000000</th>\n",
              "      <td>0.0709677</td>\n",
              "      <td>0.0193548</td>\n",
              "      <td>0.0322581</td>\n",
              "      <td>0.1870968</td>\n",
              "      <td>0.6903226</td>\n",
              "    </tr>\n",
              "    <tr>\n",
              "      <th>174.5000000</th>\n",
              "      <td>0.2941176</td>\n",
              "      <td>0.0588235</td>\n",
              "      <td>0.0000000</td>\n",
              "      <td>0.1764706</td>\n",
              "      <td>0.4705882</td>\n",
              "    </tr>\n",
              "    <tr>\n",
              "      <th>174.9400000</th>\n",
              "      <td>0.0969388</td>\n",
              "      <td>0.0357143</td>\n",
              "      <td>0.0918367</td>\n",
              "      <td>0.1173469</td>\n",
              "      <td>0.6581633</td>\n",
              "    </tr>\n",
              "    <tr>\n",
              "      <th>174.9500000</th>\n",
              "      <td>0.2960000</td>\n",
              "      <td>0.0560000</td>\n",
              "      <td>0.0720000</td>\n",
              "      <td>0.1040000</td>\n",
              "      <td>0.4720000</td>\n",
              "    </tr>\n",
              "    <tr>\n",
              "      <th>175.0000000</th>\n",
              "      <td>0.1696429</td>\n",
              "      <td>0.0357143</td>\n",
              "      <td>0.0446429</td>\n",
              "      <td>0.1428571</td>\n",
              "      <td>0.6071429</td>\n",
              "    </tr>\n",
              "    <tr>\n",
              "      <th>176.9400000</th>\n",
              "      <td>0.1153846</td>\n",
              "      <td>0.0439560</td>\n",
              "      <td>0.0769231</td>\n",
              "      <td>0.1098901</td>\n",
              "      <td>0.6538462</td>\n",
              "    </tr>\n",
              "    <tr>\n",
              "      <th>179.0000000</th>\n",
              "      <td>0.2195122</td>\n",
              "      <td>0.0731707</td>\n",
              "      <td>0.0000000</td>\n",
              "      <td>0.1463415</td>\n",
              "      <td>0.5609756</td>\n",
              "    </tr>\n",
              "    <tr>\n",
              "      <th>179.5000000</th>\n",
              "      <td>0.0837563</td>\n",
              "      <td>0.0329949</td>\n",
              "      <td>0.0380711</td>\n",
              "      <td>0.1497462</td>\n",
              "      <td>0.6954315</td>\n",
              "    </tr>\n",
              "    <tr>\n",
              "      <th>179.8700000</th>\n",
              "      <td>0.3333333</td>\n",
              "      <td>0.0000000</td>\n",
              "      <td>0.3333333</td>\n",
              "      <td>0.0000000</td>\n",
              "      <td>0.3333333</td>\n",
              "    </tr>\n",
              "    <tr>\n",
              "      <th>179.9900000</th>\n",
              "      <td>0.1816720</td>\n",
              "      <td>0.0627010</td>\n",
              "      <td>0.0675241</td>\n",
              "      <td>0.1270096</td>\n",
              "      <td>0.5610932</td>\n",
              "    </tr>\n",
              "    <tr>\n",
              "      <th>180.0000000</th>\n",
              "      <td>0.0500000</td>\n",
              "      <td>0.0000000</td>\n",
              "      <td>0.0500000</td>\n",
              "      <td>0.0500000</td>\n",
              "      <td>0.8500000</td>\n",
              "    </tr>\n",
              "    <tr>\n",
              "      <th>182.2500000</th>\n",
              "      <td>0.1764706</td>\n",
              "      <td>0.0882353</td>\n",
              "      <td>0.1323529</td>\n",
              "      <td>0.0882353</td>\n",
              "      <td>0.5147059</td>\n",
              "    </tr>\n",
              "    <tr>\n",
              "      <th>183.9500000</th>\n",
              "      <td>0.0185185</td>\n",
              "      <td>0.0000000</td>\n",
              "      <td>0.0370370</td>\n",
              "      <td>0.0925926</td>\n",
              "      <td>0.8518519</td>\n",
              "    </tr>\n",
              "    <tr>\n",
              "      <th>184.1800000</th>\n",
              "      <td>0.1250000</td>\n",
              "      <td>0.0416667</td>\n",
              "      <td>0.0416667</td>\n",
              "      <td>0.0833333</td>\n",
              "      <td>0.7083333</td>\n",
              "    </tr>\n",
              "    <tr>\n",
              "      <th>185.0000000</th>\n",
              "      <td>0.1927711</td>\n",
              "      <td>0.0481928</td>\n",
              "      <td>0.0331325</td>\n",
              "      <td>0.0993976</td>\n",
              "      <td>0.6265060</td>\n",
              "    </tr>\n",
              "    <tr>\n",
              "      <th>186.0000000</th>\n",
              "      <td>0.0913242</td>\n",
              "      <td>0.0228311</td>\n",
              "      <td>0.0684932</td>\n",
              "      <td>0.1369863</td>\n",
              "      <td>0.6803653</td>\n",
              "    </tr>\n",
              "    <tr>\n",
              "      <th>186.9000000</th>\n",
              "      <td>0.0714286</td>\n",
              "      <td>0.0142857</td>\n",
              "      <td>0.0428571</td>\n",
              "      <td>0.1285714</td>\n",
              "      <td>0.7428571</td>\n",
              "    </tr>\n",
              "    <tr>\n",
              "      <th>188.0000000</th>\n",
              "      <td>0.0185185</td>\n",
              "      <td>0.0000000</td>\n",
              "      <td>0.0370370</td>\n",
              "      <td>0.0925926</td>\n",
              "      <td>0.8518519</td>\n",
              "    </tr>\n",
              "    <tr>\n",
              "      <th>189.9500000</th>\n",
              "      <td>0.2500000</td>\n",
              "      <td>0.0000000</td>\n",
              "      <td>0.0000000</td>\n",
              "      <td>0.0000000</td>\n",
              "      <td>0.7500000</td>\n",
              "    </tr>\n",
              "    <tr>\n",
              "      <th>189.9600000</th>\n",
              "      <td>0.1182266</td>\n",
              "      <td>0.0541872</td>\n",
              "      <td>0.0738916</td>\n",
              "      <td>0.1231527</td>\n",
              "      <td>0.6305419</td>\n",
              "    </tr>\n",
              "    <tr>\n",
              "      <th>189.9900000</th>\n",
              "      <td>0.1428571</td>\n",
              "      <td>0.0000000</td>\n",
              "      <td>0.0000000</td>\n",
              "      <td>0.1428571</td>\n",
              "      <td>0.7142857</td>\n",
              "    </tr>\n",
              "    <tr>\n",
              "      <th>190.0000000</th>\n",
              "      <td>0.0816327</td>\n",
              "      <td>0.1632653</td>\n",
              "      <td>0.0612245</td>\n",
              "      <td>0.0816327</td>\n",
              "      <td>0.6122449</td>\n",
              "    </tr>\n",
              "    <tr>\n",
              "      <th>194.0000000</th>\n",
              "      <td>0.1625000</td>\n",
              "      <td>0.0475000</td>\n",
              "      <td>0.0625000</td>\n",
              "      <td>0.1000000</td>\n",
              "      <td>0.6275000</td>\n",
              "    </tr>\n",
              "    <tr>\n",
              "      <th>194.9700000</th>\n",
              "      <td>0.2789969</td>\n",
              "      <td>0.1097179</td>\n",
              "      <td>0.1191223</td>\n",
              "      <td>0.1442006</td>\n",
              "      <td>0.3479624</td>\n",
              "    </tr>\n",
              "    <tr>\n",
              "      <th>194.9900000</th>\n",
              "      <td>0.0526316</td>\n",
              "      <td>0.0095694</td>\n",
              "      <td>0.0430622</td>\n",
              "      <td>0.1435407</td>\n",
              "      <td>0.7511962</td>\n",
              "    </tr>\n",
              "    <tr>\n",
              "      <th>195.0000000</th>\n",
              "      <td>0.1463415</td>\n",
              "      <td>0.0731707</td>\n",
              "      <td>0.0731707</td>\n",
              "      <td>0.0731707</td>\n",
              "      <td>0.6341463</td>\n",
              "    </tr>\n",
              "    <tr>\n",
              "      <th>197.0000000</th>\n",
              "      <td>0.1176471</td>\n",
              "      <td>0.0000000</td>\n",
              "      <td>0.1176471</td>\n",
              "      <td>0.2058824</td>\n",
              "      <td>0.5588235</td>\n",
              "    </tr>\n",
              "    <tr>\n",
              "      <th>198.9000000</th>\n",
              "      <td>0.1722222</td>\n",
              "      <td>0.0222222</td>\n",
              "      <td>0.0277778</td>\n",
              "      <td>0.0944444</td>\n",
              "      <td>0.6833333</td>\n",
              "    </tr>\n",
              "    <tr>\n",
              "      <th>198.9900000</th>\n",
              "      <td>0.1666667</td>\n",
              "      <td>0.0000000</td>\n",
              "      <td>0.0000000</td>\n",
              "      <td>0.0833333</td>\n",
              "      <td>0.7500000</td>\n",
              "    </tr>\n",
              "    <tr>\n",
              "      <th>199.0000000</th>\n",
              "      <td>0.2143845</td>\n",
              "      <td>0.0470263</td>\n",
              "      <td>0.0774550</td>\n",
              "      <td>0.1023513</td>\n",
              "      <td>0.5587828</td>\n",
              "    </tr>\n",
              "    <tr>\n",
              "      <th>199.3700000</th>\n",
              "      <td>0.2380952</td>\n",
              "      <td>0.0952381</td>\n",
              "      <td>0.0000000</td>\n",
              "      <td>0.1428571</td>\n",
              "      <td>0.5238095</td>\n",
              "    </tr>\n",
              "    <tr>\n",
              "      <th>199.7200000</th>\n",
              "      <td>0.1724138</td>\n",
              "      <td>0.0172414</td>\n",
              "      <td>0.1034483</td>\n",
              "      <td>0.0689655</td>\n",
              "      <td>0.6379310</td>\n",
              "    </tr>\n",
              "    <tr>\n",
              "      <th>199.9500000</th>\n",
              "      <td>0.2548476</td>\n",
              "      <td>0.0304709</td>\n",
              "      <td>0.0415512</td>\n",
              "      <td>0.1080332</td>\n",
              "      <td>0.5650970</td>\n",
              "    </tr>\n",
              "    <tr>\n",
              "      <th>199.9900000</th>\n",
              "      <td>0.1468531</td>\n",
              "      <td>0.0454545</td>\n",
              "      <td>0.0944056</td>\n",
              "      <td>0.1678322</td>\n",
              "      <td>0.5454545</td>\n",
              "    </tr>\n",
              "    <tr>\n",
              "      <th>201.4800000</th>\n",
              "      <td>0.2491349</td>\n",
              "      <td>0.0449827</td>\n",
              "      <td>0.0519031</td>\n",
              "      <td>0.1314879</td>\n",
              "      <td>0.5224913</td>\n",
              "    </tr>\n",
              "    <tr>\n",
              "      <th>202.9500000</th>\n",
              "      <td>0.0000000</td>\n",
              "      <td>0.0000000</td>\n",
              "      <td>0.0000000</td>\n",
              "      <td>0.0000000</td>\n",
              "      <td>1.0000000</td>\n",
              "    </tr>\n",
              "    <tr>\n",
              "      <th>202.9900000</th>\n",
              "      <td>0.1030928</td>\n",
              "      <td>0.0515464</td>\n",
              "      <td>0.0515464</td>\n",
              "      <td>0.1546392</td>\n",
              "      <td>0.6391753</td>\n",
              "    </tr>\n",
              "    <tr>\n",
              "      <th>203.5100000</th>\n",
              "      <td>0.0400000</td>\n",
              "      <td>0.0800000</td>\n",
              "      <td>0.1200000</td>\n",
              "      <td>0.1200000</td>\n",
              "      <td>0.6400000</td>\n",
              "    </tr>\n",
              "    <tr>\n",
              "      <th>204.1600000</th>\n",
              "      <td>0.1363636</td>\n",
              "      <td>0.0454545</td>\n",
              "      <td>0.0909091</td>\n",
              "      <td>0.1363636</td>\n",
              "      <td>0.5909091</td>\n",
              "    </tr>\n",
              "    <tr>\n",
              "      <th>206.9500000</th>\n",
              "      <td>0.0000000</td>\n",
              "      <td>0.0000000</td>\n",
              "      <td>1.0000000</td>\n",
              "      <td>0.0000000</td>\n",
              "      <td>0.0000000</td>\n",
              "    </tr>\n",
              "    <tr>\n",
              "      <th>207.9900000</th>\n",
              "      <td>0.1739130</td>\n",
              "      <td>0.0434783</td>\n",
              "      <td>0.0513834</td>\n",
              "      <td>0.1264822</td>\n",
              "      <td>0.6047431</td>\n",
              "    </tr>\n",
              "    <tr>\n",
              "      <th>209.0000000</th>\n",
              "      <td>0.2863535</td>\n",
              "      <td>0.0850112</td>\n",
              "      <td>0.0894855</td>\n",
              "      <td>0.1297539</td>\n",
              "      <td>0.4093960</td>\n",
              "    </tr>\n",
              "    <tr>\n",
              "      <th>209.6700000</th>\n",
              "      <td>0.1769231</td>\n",
              "      <td>0.0384615</td>\n",
              "      <td>0.0923077</td>\n",
              "      <td>0.1538462</td>\n",
              "      <td>0.5384615</td>\n",
              "    </tr>\n",
              "    <tr>\n",
              "      <th>209.7500000</th>\n",
              "      <td>0.1000000</td>\n",
              "      <td>0.2000000</td>\n",
              "      <td>0.0000000</td>\n",
              "      <td>0.3000000</td>\n",
              "      <td>0.4000000</td>\n",
              "    </tr>\n",
              "    <tr>\n",
              "      <th>209.9400000</th>\n",
              "      <td>0.7000000</td>\n",
              "      <td>0.0000000</td>\n",
              "      <td>0.0000000</td>\n",
              "      <td>0.0000000</td>\n",
              "      <td>0.3000000</td>\n",
              "    </tr>\n",
              "    <tr>\n",
              "      <th>209.9900000</th>\n",
              "      <td>0.0697674</td>\n",
              "      <td>0.0000000</td>\n",
              "      <td>0.0697674</td>\n",
              "      <td>0.2325581</td>\n",
              "      <td>0.6279070</td>\n",
              "    </tr>\n",
              "    <tr>\n",
              "      <th>210.9900000</th>\n",
              "      <td>0.7000000</td>\n",
              "      <td>0.0000000</td>\n",
              "      <td>0.1000000</td>\n",
              "      <td>0.0000000</td>\n",
              "      <td>0.2000000</td>\n",
              "    </tr>\n",
              "    <tr>\n",
              "      <th>211.3900000</th>\n",
              "      <td>0.0961538</td>\n",
              "      <td>0.0769231</td>\n",
              "      <td>0.0480769</td>\n",
              "      <td>0.1730769</td>\n",
              "      <td>0.6057692</td>\n",
              "    </tr>\n",
              "    <tr>\n",
              "      <th>211.6300000</th>\n",
              "      <td>1.0000000</td>\n",
              "      <td>0.0000000</td>\n",
              "      <td>0.0000000</td>\n",
              "      <td>0.0000000</td>\n",
              "      <td>0.0000000</td>\n",
              "    </tr>\n",
              "    <tr>\n",
              "      <th>214.7500000</th>\n",
              "      <td>0.0760870</td>\n",
              "      <td>0.0108696</td>\n",
              "      <td>0.0543478</td>\n",
              "      <td>0.1521739</td>\n",
              "      <td>0.7065217</td>\n",
              "    </tr>\n",
              "    <tr>\n",
              "      <th>214.9700000</th>\n",
              "      <td>0.2461538</td>\n",
              "      <td>0.0769231</td>\n",
              "      <td>0.0730769</td>\n",
              "      <td>0.1538462</td>\n",
              "      <td>0.4500000</td>\n",
              "    </tr>\n",
              "    <tr>\n",
              "      <th>215.0000000</th>\n",
              "      <td>0.1786543</td>\n",
              "      <td>0.0580046</td>\n",
              "      <td>0.0788863</td>\n",
              "      <td>0.1392111</td>\n",
              "      <td>0.5452436</td>\n",
              "    </tr>\n",
              "    <tr>\n",
              "      <th>216.0000000</th>\n",
              "      <td>0.0760870</td>\n",
              "      <td>0.0108696</td>\n",
              "      <td>0.0543478</td>\n",
              "      <td>0.1521739</td>\n",
              "      <td>0.7065217</td>\n",
              "    </tr>\n",
              "    <tr>\n",
              "      <th>216.8900000</th>\n",
              "      <td>0.7000000</td>\n",
              "      <td>0.0000000</td>\n",
              "      <td>0.0000000</td>\n",
              "      <td>0.0000000</td>\n",
              "      <td>0.3000000</td>\n",
              "    </tr>\n",
              "    <tr>\n",
              "      <th>219.8800000</th>\n",
              "      <td>0.3757962</td>\n",
              "      <td>0.0605096</td>\n",
              "      <td>0.0859873</td>\n",
              "      <td>0.0891720</td>\n",
              "      <td>0.3885350</td>\n",
              "    </tr>\n",
              "    <tr>\n",
              "      <th>219.9500000</th>\n",
              "      <td>0.4000000</td>\n",
              "      <td>0.2000000</td>\n",
              "      <td>0.2000000</td>\n",
              "      <td>0.0000000</td>\n",
              "      <td>0.2000000</td>\n",
              "    </tr>\n",
              "    <tr>\n",
              "      <th>219.9700000</th>\n",
              "      <td>0.2067039</td>\n",
              "      <td>0.0521415</td>\n",
              "      <td>0.0837989</td>\n",
              "      <td>0.1098696</td>\n",
              "      <td>0.5474860</td>\n",
              "    </tr>\n",
              "    <tr>\n",
              "      <th>219.9900000</th>\n",
              "      <td>0.1700405</td>\n",
              "      <td>0.0688259</td>\n",
              "      <td>0.0829960</td>\n",
              "      <td>0.1255061</td>\n",
              "      <td>0.5526316</td>\n",
              "    </tr>\n",
              "    <tr>\n",
              "      <th>220.0000000</th>\n",
              "      <td>0.2500000</td>\n",
              "      <td>0.0357143</td>\n",
              "      <td>0.0714286</td>\n",
              "      <td>0.1428571</td>\n",
              "      <td>0.5000000</td>\n",
              "    </tr>\n",
              "    <tr>\n",
              "      <th>221.0000000</th>\n",
              "      <td>0.0769231</td>\n",
              "      <td>0.0000000</td>\n",
              "      <td>0.0000000</td>\n",
              "      <td>0.0000000</td>\n",
              "      <td>0.9230769</td>\n",
              "    </tr>\n",
              "    <tr>\n",
              "      <th>229.0000000</th>\n",
              "      <td>0.1712329</td>\n",
              "      <td>0.1095890</td>\n",
              "      <td>0.0753425</td>\n",
              "      <td>0.1712329</td>\n",
              "      <td>0.4726027</td>\n",
              "    </tr>\n",
              "    <tr>\n",
              "      <th>229.9800000</th>\n",
              "      <td>0.0706215</td>\n",
              "      <td>0.0282486</td>\n",
              "      <td>0.0423729</td>\n",
              "      <td>0.1440678</td>\n",
              "      <td>0.7146893</td>\n",
              "    </tr>\n",
              "    <tr>\n",
              "      <th>229.9900000</th>\n",
              "      <td>0.1187970</td>\n",
              "      <td>0.0315789</td>\n",
              "      <td>0.0586466</td>\n",
              "      <td>0.1398496</td>\n",
              "      <td>0.6511278</td>\n",
              "    </tr>\n",
              "    <tr>\n",
              "      <th>233.7100000</th>\n",
              "      <td>0.0727273</td>\n",
              "      <td>0.0545455</td>\n",
              "      <td>0.0636364</td>\n",
              "      <td>0.1090909</td>\n",
              "      <td>0.7000000</td>\n",
              "    </tr>\n",
              "    <tr>\n",
              "      <th>234.3500000</th>\n",
              "      <td>0.3684211</td>\n",
              "      <td>0.0789474</td>\n",
              "      <td>0.0263158</td>\n",
              "      <td>0.1842105</td>\n",
              "      <td>0.3421053</td>\n",
              "    </tr>\n",
              "    <tr>\n",
              "      <th>234.9500000</th>\n",
              "      <td>0.4000000</td>\n",
              "      <td>0.2000000</td>\n",
              "      <td>0.0000000</td>\n",
              "      <td>0.0000000</td>\n",
              "      <td>0.4000000</td>\n",
              "    </tr>\n",
              "    <tr>\n",
              "      <th>235.7800000</th>\n",
              "      <td>0.0632911</td>\n",
              "      <td>0.0126582</td>\n",
              "      <td>0.0000000</td>\n",
              "      <td>0.1139241</td>\n",
              "      <td>0.8101266</td>\n",
              "    </tr>\n",
              "    <tr>\n",
              "      <th>238.9900000</th>\n",
              "      <td>0.0000000</td>\n",
              "      <td>0.0000000</td>\n",
              "      <td>0.0000000</td>\n",
              "      <td>0.0000000</td>\n",
              "      <td>1.0000000</td>\n",
              "    </tr>\n",
              "    <tr>\n",
              "      <th>239.9800000</th>\n",
              "      <td>0.6000000</td>\n",
              "      <td>0.2000000</td>\n",
              "      <td>0.0000000</td>\n",
              "      <td>0.0000000</td>\n",
              "      <td>0.2000000</td>\n",
              "    </tr>\n",
              "    <tr>\n",
              "      <th>239.9900000</th>\n",
              "      <td>0.2297297</td>\n",
              "      <td>0.0472973</td>\n",
              "      <td>0.0608108</td>\n",
              "      <td>0.1013514</td>\n",
              "      <td>0.5608108</td>\n",
              "    </tr>\n",
              "    <tr>\n",
              "      <th>240.0000000</th>\n",
              "      <td>0.1800000</td>\n",
              "      <td>0.0400000</td>\n",
              "      <td>0.0800000</td>\n",
              "      <td>0.1000000</td>\n",
              "      <td>0.6000000</td>\n",
              "    </tr>\n",
              "    <tr>\n",
              "      <th>242.9900000</th>\n",
              "      <td>0.0740741</td>\n",
              "      <td>0.0555556</td>\n",
              "      <td>0.0925926</td>\n",
              "      <td>0.2037037</td>\n",
              "      <td>0.5740741</td>\n",
              "    </tr>\n",
              "    <tr>\n",
              "      <th>244.4500000</th>\n",
              "      <td>0.0949153</td>\n",
              "      <td>0.0542373</td>\n",
              "      <td>0.0406780</td>\n",
              "      <td>0.1355932</td>\n",
              "      <td>0.6745763</td>\n",
              "    </tr>\n",
              "    <tr>\n",
              "      <th>248.0000000</th>\n",
              "      <td>0.0000000</td>\n",
              "      <td>0.0000000</td>\n",
              "      <td>0.0000000</td>\n",
              "      <td>0.0000000</td>\n",
              "      <td>1.0000000</td>\n",
              "    </tr>\n",
              "    <tr>\n",
              "      <th>248.7000000</th>\n",
              "      <td>0.3093923</td>\n",
              "      <td>0.1049724</td>\n",
              "      <td>0.0883978</td>\n",
              "      <td>0.0856354</td>\n",
              "      <td>0.4116022</td>\n",
              "    </tr>\n",
              "    <tr>\n",
              "      <th>249.0000000</th>\n",
              "      <td>0.2222222</td>\n",
              "      <td>0.0000000</td>\n",
              "      <td>0.0000000</td>\n",
              "      <td>0.2222222</td>\n",
              "      <td>0.5555556</td>\n",
              "    </tr>\n",
              "    <tr>\n",
              "      <th>249.4500000</th>\n",
              "      <td>0.0000000</td>\n",
              "      <td>0.0000000</td>\n",
              "      <td>0.3333333</td>\n",
              "      <td>0.0000000</td>\n",
              "      <td>0.6666667</td>\n",
              "    </tr>\n",
              "    <tr>\n",
              "      <th>249.9500000</th>\n",
              "      <td>0.2727273</td>\n",
              "      <td>0.0909091</td>\n",
              "      <td>0.0000000</td>\n",
              "      <td>0.0454545</td>\n",
              "      <td>0.5909091</td>\n",
              "    </tr>\n",
              "    <tr>\n",
              "      <th>249.9900000</th>\n",
              "      <td>0.1636156</td>\n",
              "      <td>0.0629291</td>\n",
              "      <td>0.0572082</td>\n",
              "      <td>0.1064073</td>\n",
              "      <td>0.6098398</td>\n",
              "    </tr>\n",
              "    <tr>\n",
              "      <th>255.0000000</th>\n",
              "      <td>0.1562500</td>\n",
              "      <td>0.0625000</td>\n",
              "      <td>0.0625000</td>\n",
              "      <td>0.0937500</td>\n",
              "      <td>0.6250000</td>\n",
              "    </tr>\n",
              "    <tr>\n",
              "      <th>255.9900000</th>\n",
              "      <td>0.2164179</td>\n",
              "      <td>0.0597015</td>\n",
              "      <td>0.0970149</td>\n",
              "      <td>0.0895522</td>\n",
              "      <td>0.5373134</td>\n",
              "    </tr>\n",
              "    <tr>\n",
              "      <th>256.8200000</th>\n",
              "      <td>0.2857143</td>\n",
              "      <td>0.0000000</td>\n",
              "      <td>0.0000000</td>\n",
              "      <td>0.2857143</td>\n",
              "      <td>0.4285714</td>\n",
              "    </tr>\n",
              "    <tr>\n",
              "      <th>257.9800000</th>\n",
              "      <td>0.2820513</td>\n",
              "      <td>0.0769231</td>\n",
              "      <td>0.0256410</td>\n",
              "      <td>0.0512821</td>\n",
              "      <td>0.5641026</td>\n",
              "    </tr>\n",
              "    <tr>\n",
              "      <th>258.8000000</th>\n",
              "      <td>0.1000000</td>\n",
              "      <td>0.0000000</td>\n",
              "      <td>0.0000000</td>\n",
              "      <td>0.3000000</td>\n",
              "      <td>0.6000000</td>\n",
              "    </tr>\n",
              "    <tr>\n",
              "      <th>259.9800000</th>\n",
              "      <td>0.2303922</td>\n",
              "      <td>0.0343137</td>\n",
              "      <td>0.0441176</td>\n",
              "      <td>0.1323529</td>\n",
              "      <td>0.5588235</td>\n",
              "    </tr>\n",
              "    <tr>\n",
              "      <th>259.9900000</th>\n",
              "      <td>0.1428571</td>\n",
              "      <td>0.0714286</td>\n",
              "      <td>0.0857143</td>\n",
              "      <td>0.1857143</td>\n",
              "      <td>0.5142857</td>\n",
              "    </tr>\n",
              "    <tr>\n",
              "      <th>261.8400000</th>\n",
              "      <td>0.1272727</td>\n",
              "      <td>0.0363636</td>\n",
              "      <td>0.0606061</td>\n",
              "      <td>0.1636364</td>\n",
              "      <td>0.6121212</td>\n",
              "    </tr>\n",
              "    <tr>\n",
              "      <th>262.4900000</th>\n",
              "      <td>0.2727273</td>\n",
              "      <td>0.0681818</td>\n",
              "      <td>0.0909091</td>\n",
              "      <td>0.1363636</td>\n",
              "      <td>0.4318182</td>\n",
              "    </tr>\n",
              "    <tr>\n",
              "      <th>264.9800000</th>\n",
              "      <td>0.1538462</td>\n",
              "      <td>0.0769231</td>\n",
              "      <td>0.1538462</td>\n",
              "      <td>0.0769231</td>\n",
              "      <td>0.5384615</td>\n",
              "    </tr>\n",
              "    <tr>\n",
              "      <th>264.9900000</th>\n",
              "      <td>0.1470588</td>\n",
              "      <td>0.0294118</td>\n",
              "      <td>0.0294118</td>\n",
              "      <td>0.0882353</td>\n",
              "      <td>0.7058824</td>\n",
              "    </tr>\n",
              "    <tr>\n",
              "      <th>268.0000000</th>\n",
              "      <td>0.0714286</td>\n",
              "      <td>0.0000000</td>\n",
              "      <td>0.0714286</td>\n",
              "      <td>0.0714286</td>\n",
              "      <td>0.7857143</td>\n",
              "    </tr>\n",
              "    <tr>\n",
              "      <th>268.9900000</th>\n",
              "      <td>0.0961538</td>\n",
              "      <td>0.0000000</td>\n",
              "      <td>0.0192308</td>\n",
              "      <td>0.1153846</td>\n",
              "      <td>0.7692308</td>\n",
              "    </tr>\n",
              "    <tr>\n",
              "      <th>269.0000000</th>\n",
              "      <td>0.2000000</td>\n",
              "      <td>0.1000000</td>\n",
              "      <td>0.2000000</td>\n",
              "      <td>0.1000000</td>\n",
              "      <td>0.4000000</td>\n",
              "    </tr>\n",
              "    <tr>\n",
              "      <th>269.9900000</th>\n",
              "      <td>0.1491841</td>\n",
              "      <td>0.0629371</td>\n",
              "      <td>0.0606061</td>\n",
              "      <td>0.1188811</td>\n",
              "      <td>0.6083916</td>\n",
              "    </tr>\n",
              "    <tr>\n",
              "      <th>270.9500000</th>\n",
              "      <td>0.2000000</td>\n",
              "      <td>0.0000000</td>\n",
              "      <td>0.2000000</td>\n",
              "      <td>0.2000000</td>\n",
              "      <td>0.4000000</td>\n",
              "    </tr>\n",
              "    <tr>\n",
              "      <th>274.0000000</th>\n",
              "      <td>0.0000000</td>\n",
              "      <td>0.0000000</td>\n",
              "      <td>0.2500000</td>\n",
              "      <td>0.2500000</td>\n",
              "      <td>0.5000000</td>\n",
              "    </tr>\n",
              "    <tr>\n",
              "      <th>274.9500000</th>\n",
              "      <td>0.2434211</td>\n",
              "      <td>0.0131579</td>\n",
              "      <td>0.0592105</td>\n",
              "      <td>0.1447368</td>\n",
              "      <td>0.5394737</td>\n",
              "    </tr>\n",
              "    <tr>\n",
              "      <th>274.9900000</th>\n",
              "      <td>0.1321839</td>\n",
              "      <td>0.0689655</td>\n",
              "      <td>0.1206897</td>\n",
              "      <td>0.1609195</td>\n",
              "      <td>0.5172414</td>\n",
              "    </tr>\n",
              "    <tr>\n",
              "      <th>275.9900000</th>\n",
              "      <td>0.3093220</td>\n",
              "      <td>0.0762712</td>\n",
              "      <td>0.0720339</td>\n",
              "      <td>0.0762712</td>\n",
              "      <td>0.4661017</td>\n",
              "    </tr>\n",
              "    <tr>\n",
              "      <th>278.9900000</th>\n",
              "      <td>0.2000000</td>\n",
              "      <td>0.0500000</td>\n",
              "      <td>0.0875000</td>\n",
              "      <td>0.2000000</td>\n",
              "      <td>0.4625000</td>\n",
              "    </tr>\n",
              "    <tr>\n",
              "      <th>279.9900000</th>\n",
              "      <td>0.2631579</td>\n",
              "      <td>0.0000000</td>\n",
              "      <td>0.0526316</td>\n",
              "      <td>0.0526316</td>\n",
              "      <td>0.6315789</td>\n",
              "    </tr>\n",
              "    <tr>\n",
              "      <th>284.9800000</th>\n",
              "      <td>0.3093220</td>\n",
              "      <td>0.0762712</td>\n",
              "      <td>0.0720339</td>\n",
              "      <td>0.0762712</td>\n",
              "      <td>0.4661017</td>\n",
              "    </tr>\n",
              "    <tr>\n",
              "      <th>284.9900000</th>\n",
              "      <td>0.0909091</td>\n",
              "      <td>0.0909091</td>\n",
              "      <td>0.0909091</td>\n",
              "      <td>0.2727273</td>\n",
              "      <td>0.4545455</td>\n",
              "    </tr>\n",
              "    <tr>\n",
              "      <th>285.9900000</th>\n",
              "      <td>0.0000000</td>\n",
              "      <td>0.5000000</td>\n",
              "      <td>0.0000000</td>\n",
              "      <td>0.2500000</td>\n",
              "      <td>0.2500000</td>\n",
              "    </tr>\n",
              "    <tr>\n",
              "      <th>286.8700000</th>\n",
              "      <td>0.0000000</td>\n",
              "      <td>0.0000000</td>\n",
              "      <td>0.0000000</td>\n",
              "      <td>0.5000000</td>\n",
              "      <td>0.5000000</td>\n",
              "    </tr>\n",
              "    <tr>\n",
              "      <th>287.3200000</th>\n",
              "      <td>0.1176471</td>\n",
              "      <td>0.1470588</td>\n",
              "      <td>0.0000000</td>\n",
              "      <td>0.0588235</td>\n",
              "      <td>0.6764706</td>\n",
              "    </tr>\n",
              "    <tr>\n",
              "      <th>288.0000000</th>\n",
              "      <td>0.3400000</td>\n",
              "      <td>0.0400000</td>\n",
              "      <td>0.0400000</td>\n",
              "      <td>0.1000000</td>\n",
              "      <td>0.4800000</td>\n",
              "    </tr>\n",
              "    <tr>\n",
              "      <th>288.9700000</th>\n",
              "      <td>0.0000000</td>\n",
              "      <td>0.0000000</td>\n",
              "      <td>0.0384615</td>\n",
              "      <td>0.0769231</td>\n",
              "      <td>0.8846154</td>\n",
              "    </tr>\n",
              "    <tr>\n",
              "      <th>289.0000000</th>\n",
              "      <td>0.1060606</td>\n",
              "      <td>0.0151515</td>\n",
              "      <td>0.0757576</td>\n",
              "      <td>0.1363636</td>\n",
              "      <td>0.6666667</td>\n",
              "    </tr>\n",
              "    <tr>\n",
              "      <th>289.4400000</th>\n",
              "      <td>0.2474227</td>\n",
              "      <td>0.0515464</td>\n",
              "      <td>0.0463918</td>\n",
              "      <td>0.0927835</td>\n",
              "      <td>0.5618557</td>\n",
              "    </tr>\n",
              "    <tr>\n",
              "      <th>289.4700000</th>\n",
              "      <td>0.2000000</td>\n",
              "      <td>0.0000000</td>\n",
              "      <td>0.0000000</td>\n",
              "      <td>0.0000000</td>\n",
              "      <td>0.8000000</td>\n",
              "    </tr>\n",
              "    <tr>\n",
              "      <th>289.9500000</th>\n",
              "      <td>0.0000000</td>\n",
              "      <td>0.0000000</td>\n",
              "      <td>0.0000000</td>\n",
              "      <td>0.0000000</td>\n",
              "      <td>1.0000000</td>\n",
              "    </tr>\n",
              "    <tr>\n",
              "      <th>289.9700000</th>\n",
              "      <td>0.1333333</td>\n",
              "      <td>0.0000000</td>\n",
              "      <td>0.0666667</td>\n",
              "      <td>0.1333333</td>\n",
              "      <td>0.6666667</td>\n",
              "    </tr>\n",
              "    <tr>\n",
              "      <th>290.0000000</th>\n",
              "      <td>0.3333333</td>\n",
              "      <td>0.0333333</td>\n",
              "      <td>0.0666667</td>\n",
              "      <td>0.0666667</td>\n",
              "      <td>0.5000000</td>\n",
              "    </tr>\n",
              "    <tr>\n",
              "      <th>293.9900000</th>\n",
              "      <td>0.0800000</td>\n",
              "      <td>0.0400000</td>\n",
              "      <td>0.1200000</td>\n",
              "      <td>0.1600000</td>\n",
              "      <td>0.6000000</td>\n",
              "    </tr>\n",
              "    <tr>\n",
              "      <th>295.0000000</th>\n",
              "      <td>0.4000000</td>\n",
              "      <td>0.0000000</td>\n",
              "      <td>0.0000000</td>\n",
              "      <td>0.1000000</td>\n",
              "      <td>0.5000000</td>\n",
              "    </tr>\n",
              "    <tr>\n",
              "      <th>296.0000000</th>\n",
              "      <td>0.2000000</td>\n",
              "      <td>0.2000000</td>\n",
              "      <td>0.0000000</td>\n",
              "      <td>0.2000000</td>\n",
              "      <td>0.4000000</td>\n",
              "    </tr>\n",
              "    <tr>\n",
              "      <th>298.9500000</th>\n",
              "      <td>0.4000000</td>\n",
              "      <td>0.1000000</td>\n",
              "      <td>0.0000000</td>\n",
              "      <td>0.2000000</td>\n",
              "      <td>0.3000000</td>\n",
              "    </tr>\n",
              "    <tr>\n",
              "      <th>298.9800000</th>\n",
              "      <td>0.0535714</td>\n",
              "      <td>0.0535714</td>\n",
              "      <td>0.0178571</td>\n",
              "      <td>0.1250000</td>\n",
              "      <td>0.7500000</td>\n",
              "    </tr>\n",
              "    <tr>\n",
              "      <th>299.0000000</th>\n",
              "      <td>0.1995192</td>\n",
              "      <td>0.0600962</td>\n",
              "      <td>0.0769231</td>\n",
              "      <td>0.1177885</td>\n",
              "      <td>0.5456731</td>\n",
              "    </tr>\n",
              "    <tr>\n",
              "      <th>299.5000000</th>\n",
              "      <td>0.1101243</td>\n",
              "      <td>0.0337478</td>\n",
              "      <td>0.0532860</td>\n",
              "      <td>0.1829485</td>\n",
              "      <td>0.6198934</td>\n",
              "    </tr>\n",
              "    <tr>\n",
              "      <th>299.9500000</th>\n",
              "      <td>0.3333333</td>\n",
              "      <td>0.0000000</td>\n",
              "      <td>0.0000000</td>\n",
              "      <td>0.0000000</td>\n",
              "      <td>0.6666667</td>\n",
              "    </tr>\n",
              "    <tr>\n",
              "      <th>299.9900000</th>\n",
              "      <td>0.2065217</td>\n",
              "      <td>0.0217391</td>\n",
              "      <td>0.0652174</td>\n",
              "      <td>0.1304348</td>\n",
              "      <td>0.5760870</td>\n",
              "    </tr>\n",
              "    <tr>\n",
              "      <th>300.5500000</th>\n",
              "      <td>0.2115108</td>\n",
              "      <td>0.0733813</td>\n",
              "      <td>0.0561151</td>\n",
              "      <td>0.1136691</td>\n",
              "      <td>0.5453237</td>\n",
              "    </tr>\n",
              "    <tr>\n",
              "      <th>303.9000000</th>\n",
              "      <td>0.1084337</td>\n",
              "      <td>0.0843373</td>\n",
              "      <td>0.1084337</td>\n",
              "      <td>0.1325301</td>\n",
              "      <td>0.5662651</td>\n",
              "    </tr>\n",
              "    <tr>\n",
              "      <th>304.5300000</th>\n",
              "      <td>0.4000000</td>\n",
              "      <td>0.1000000</td>\n",
              "      <td>0.0000000</td>\n",
              "      <td>0.1000000</td>\n",
              "      <td>0.4000000</td>\n",
              "    </tr>\n",
              "    <tr>\n",
              "      <th>304.9900000</th>\n",
              "      <td>0.3181818</td>\n",
              "      <td>0.0000000</td>\n",
              "      <td>0.0909091</td>\n",
              "      <td>0.0909091</td>\n",
              "      <td>0.5000000</td>\n",
              "    </tr>\n",
              "    <tr>\n",
              "      <th>307.8000000</th>\n",
              "      <td>0.9000000</td>\n",
              "      <td>0.0000000</td>\n",
              "      <td>0.0000000</td>\n",
              "      <td>0.0000000</td>\n",
              "      <td>0.1000000</td>\n",
              "    </tr>\n",
              "    <tr>\n",
              "      <th>307.8800000</th>\n",
              "      <td>0.2000000</td>\n",
              "      <td>0.0000000</td>\n",
              "      <td>0.0000000</td>\n",
              "      <td>0.4000000</td>\n",
              "      <td>0.4000000</td>\n",
              "    </tr>\n",
              "    <tr>\n",
              "      <th>309.9500000</th>\n",
              "      <td>0.1000000</td>\n",
              "      <td>0.1000000</td>\n",
              "      <td>0.0000000</td>\n",
              "      <td>0.1000000</td>\n",
              "      <td>0.7000000</td>\n",
              "    </tr>\n",
              "    <tr>\n",
              "      <th>310.9900000</th>\n",
              "      <td>1.0000000</td>\n",
              "      <td>0.0000000</td>\n",
              "      <td>0.0000000</td>\n",
              "      <td>0.0000000</td>\n",
              "      <td>0.0000000</td>\n",
              "    </tr>\n",
              "    <tr>\n",
              "      <th>311.9700000</th>\n",
              "      <td>0.9000000</td>\n",
              "      <td>0.0000000</td>\n",
              "      <td>0.0000000</td>\n",
              "      <td>0.0000000</td>\n",
              "      <td>0.1000000</td>\n",
              "    </tr>\n",
              "    <tr>\n",
              "      <th>314.5000000</th>\n",
              "      <td>0.0917874</td>\n",
              "      <td>0.0193237</td>\n",
              "      <td>0.0386473</td>\n",
              "      <td>0.1449275</td>\n",
              "      <td>0.7053140</td>\n",
              "    </tr>\n",
              "    <tr>\n",
              "      <th>319.0000000</th>\n",
              "      <td>0.3200000</td>\n",
              "      <td>0.0000000</td>\n",
              "      <td>0.0000000</td>\n",
              "      <td>0.1200000</td>\n",
              "      <td>0.5600000</td>\n",
              "    </tr>\n",
              "    <tr>\n",
              "      <th>319.9700000</th>\n",
              "      <td>0.1626506</td>\n",
              "      <td>0.0481928</td>\n",
              "      <td>0.0843373</td>\n",
              "      <td>0.1204819</td>\n",
              "      <td>0.5843373</td>\n",
              "    </tr>\n",
              "    <tr>\n",
              "      <th>319.9900000</th>\n",
              "      <td>0.2500000</td>\n",
              "      <td>0.2500000</td>\n",
              "      <td>0.2500000</td>\n",
              "      <td>0.0000000</td>\n",
              "      <td>0.2500000</td>\n",
              "    </tr>\n",
              "    <tr>\n",
              "      <th>320.0000000</th>\n",
              "      <td>0.1000000</td>\n",
              "      <td>0.0000000</td>\n",
              "      <td>0.1000000</td>\n",
              "      <td>0.3000000</td>\n",
              "      <td>0.5000000</td>\n",
              "    </tr>\n",
              "    <tr>\n",
              "      <th>321.9900000</th>\n",
              "      <td>0.7000000</td>\n",
              "      <td>0.0000000</td>\n",
              "      <td>0.1000000</td>\n",
              "      <td>0.0000000</td>\n",
              "      <td>0.2000000</td>\n",
              "    </tr>\n",
              "    <tr>\n",
              "      <th>324.0000000</th>\n",
              "      <td>0.1842105</td>\n",
              "      <td>0.0350877</td>\n",
              "      <td>0.0526316</td>\n",
              "      <td>0.1140351</td>\n",
              "      <td>0.6140351</td>\n",
              "    </tr>\n",
              "    <tr>\n",
              "      <th>324.9900000</th>\n",
              "      <td>0.1123853</td>\n",
              "      <td>0.0412844</td>\n",
              "      <td>0.0596330</td>\n",
              "      <td>0.1376147</td>\n",
              "      <td>0.6490826</td>\n",
              "    </tr>\n",
              "    <tr>\n",
              "      <th>327.9900000</th>\n",
              "      <td>0.2833333</td>\n",
              "      <td>0.0833333</td>\n",
              "      <td>0.1000000</td>\n",
              "      <td>0.0833333</td>\n",
              "      <td>0.4500000</td>\n",
              "    </tr>\n",
              "    <tr>\n",
              "      <th>329.0000000</th>\n",
              "      <td>0.1176471</td>\n",
              "      <td>0.0882353</td>\n",
              "      <td>0.1176471</td>\n",
              "      <td>0.2647059</td>\n",
              "      <td>0.4117647</td>\n",
              "    </tr>\n",
              "    <tr>\n",
              "      <th>329.9500000</th>\n",
              "      <td>0.1052632</td>\n",
              "      <td>0.0263158</td>\n",
              "      <td>0.0526316</td>\n",
              "      <td>0.1315789</td>\n",
              "      <td>0.6842105</td>\n",
              "    </tr>\n",
              "    <tr>\n",
              "      <th>329.9700000</th>\n",
              "      <td>0.3846154</td>\n",
              "      <td>0.0000000</td>\n",
              "      <td>0.0769231</td>\n",
              "      <td>0.0000000</td>\n",
              "      <td>0.5384615</td>\n",
              "    </tr>\n",
              "    <tr>\n",
              "      <th>329.9900000</th>\n",
              "      <td>0.2025316</td>\n",
              "      <td>0.0126582</td>\n",
              "      <td>0.0126582</td>\n",
              "      <td>0.1645570</td>\n",
              "      <td>0.6075949</td>\n",
              "    </tr>\n",
              "    <tr>\n",
              "      <th>330.9500000</th>\n",
              "      <td>0.1556157</td>\n",
              "      <td>0.0405954</td>\n",
              "      <td>0.0771313</td>\n",
              "      <td>0.1339648</td>\n",
              "      <td>0.5926928</td>\n",
              "    </tr>\n",
              "    <tr>\n",
              "      <th>332.9500000</th>\n",
              "      <td>0.0958904</td>\n",
              "      <td>0.0000000</td>\n",
              "      <td>0.0547945</td>\n",
              "      <td>0.1369863</td>\n",
              "      <td>0.7123288</td>\n",
              "    </tr>\n",
              "    <tr>\n",
              "      <th>333.0000000</th>\n",
              "      <td>0.0588235</td>\n",
              "      <td>0.0588235</td>\n",
              "      <td>0.0588235</td>\n",
              "      <td>0.0000000</td>\n",
              "      <td>0.8235294</td>\n",
              "    </tr>\n",
              "    <tr>\n",
              "      <th>333.4800000</th>\n",
              "      <td>0.1206897</td>\n",
              "      <td>0.0344828</td>\n",
              "      <td>0.0862069</td>\n",
              "      <td>0.1379310</td>\n",
              "      <td>0.6206897</td>\n",
              "    </tr>\n",
              "    <tr>\n",
              "      <th>334.9000000</th>\n",
              "      <td>0.0322581</td>\n",
              "      <td>0.0483871</td>\n",
              "      <td>0.0483871</td>\n",
              "      <td>0.0967742</td>\n",
              "      <td>0.7741935</td>\n",
              "    </tr>\n",
              "    <tr>\n",
              "      <th>334.9800000</th>\n",
              "      <td>0.1875000</td>\n",
              "      <td>0.0625000</td>\n",
              "      <td>0.0625000</td>\n",
              "      <td>0.0625000</td>\n",
              "      <td>0.6250000</td>\n",
              "    </tr>\n",
              "    <tr>\n",
              "      <th>334.9900000</th>\n",
              "      <td>0.0906801</td>\n",
              "      <td>0.0226700</td>\n",
              "      <td>0.0629723</td>\n",
              "      <td>0.1435768</td>\n",
              "      <td>0.6801008</td>\n",
              "    </tr>\n",
              "    <tr>\n",
              "      <th>335.9700000</th>\n",
              "      <td>0.4444444</td>\n",
              "      <td>0.0000000</td>\n",
              "      <td>0.0000000</td>\n",
              "      <td>0.0000000</td>\n",
              "      <td>0.5555556</td>\n",
              "    </tr>\n",
              "    <tr>\n",
              "      <th>338.9900000</th>\n",
              "      <td>0.1603774</td>\n",
              "      <td>0.0471698</td>\n",
              "      <td>0.0660377</td>\n",
              "      <td>0.1226415</td>\n",
              "      <td>0.6037736</td>\n",
              "    </tr>\n",
              "    <tr>\n",
              "      <th>339.9500000</th>\n",
              "      <td>0.0952381</td>\n",
              "      <td>0.0000000</td>\n",
              "      <td>0.0000000</td>\n",
              "      <td>0.1428571</td>\n",
              "      <td>0.7619048</td>\n",
              "    </tr>\n",
              "    <tr>\n",
              "      <th>344.9100000</th>\n",
              "      <td>0.2222222</td>\n",
              "      <td>0.0000000</td>\n",
              "      <td>0.0000000</td>\n",
              "      <td>0.1111111</td>\n",
              "      <td>0.6666667</td>\n",
              "    </tr>\n",
              "    <tr>\n",
              "      <th>344.9400000</th>\n",
              "      <td>0.0000000</td>\n",
              "      <td>0.0000000</td>\n",
              "      <td>0.0000000</td>\n",
              "      <td>0.0000000</td>\n",
              "      <td>1.0000000</td>\n",
              "    </tr>\n",
              "    <tr>\n",
              "      <th>344.9500000</th>\n",
              "      <td>0.0000000</td>\n",
              "      <td>0.0000000</td>\n",
              "      <td>0.6666667</td>\n",
              "      <td>0.0000000</td>\n",
              "      <td>0.3333333</td>\n",
              "    </tr>\n",
              "    <tr>\n",
              "      <th>344.9900000</th>\n",
              "      <td>0.2500000</td>\n",
              "      <td>0.0000000</td>\n",
              "      <td>0.0000000</td>\n",
              "      <td>0.0000000</td>\n",
              "      <td>0.7500000</td>\n",
              "    </tr>\n",
              "    <tr>\n",
              "      <th>345.9200000</th>\n",
              "      <td>0.5000000</td>\n",
              "      <td>0.0000000</td>\n",
              "      <td>0.0000000</td>\n",
              "      <td>0.0000000</td>\n",
              "      <td>0.5000000</td>\n",
              "    </tr>\n",
              "    <tr>\n",
              "      <th>347.9900000</th>\n",
              "      <td>0.3333333</td>\n",
              "      <td>0.0000000</td>\n",
              "      <td>0.3333333</td>\n",
              "      <td>0.0000000</td>\n",
              "      <td>0.3333333</td>\n",
              "    </tr>\n",
              "    <tr>\n",
              "      <th>349.8000000</th>\n",
              "      <td>0.2191781</td>\n",
              "      <td>0.0136986</td>\n",
              "      <td>0.0547945</td>\n",
              "      <td>0.1095890</td>\n",
              "      <td>0.6027397</td>\n",
              "    </tr>\n",
              "    <tr>\n",
              "      <th>349.9900000</th>\n",
              "      <td>0.2767296</td>\n",
              "      <td>0.0471698</td>\n",
              "      <td>0.0754717</td>\n",
              "      <td>0.1572327</td>\n",
              "      <td>0.4433962</td>\n",
              "    </tr>\n",
              "    <tr>\n",
              "      <th>350.0000000</th>\n",
              "      <td>0.0000000</td>\n",
              "      <td>0.0000000</td>\n",
              "      <td>0.0000000</td>\n",
              "      <td>0.0000000</td>\n",
              "      <td>1.0000000</td>\n",
              "    </tr>\n",
              "    <tr>\n",
              "      <th>351.8700000</th>\n",
              "      <td>0.1739130</td>\n",
              "      <td>0.0869565</td>\n",
              "      <td>0.0869565</td>\n",
              "      <td>0.1739130</td>\n",
              "      <td>0.4782609</td>\n",
              "    </tr>\n",
              "    <tr>\n",
              "      <th>352.8000000</th>\n",
              "      <td>0.0000000</td>\n",
              "      <td>0.0000000</td>\n",
              "      <td>0.0000000</td>\n",
              "      <td>0.0000000</td>\n",
              "      <td>1.0000000</td>\n",
              "    </tr>\n",
              "    <tr>\n",
              "      <th>354.9900000</th>\n",
              "      <td>0.2147651</td>\n",
              "      <td>0.0402685</td>\n",
              "      <td>0.0469799</td>\n",
              "      <td>0.1006711</td>\n",
              "      <td>0.5973154</td>\n",
              "    </tr>\n",
              "    <tr>\n",
              "      <th>362.7500000</th>\n",
              "      <td>0.0000000</td>\n",
              "      <td>0.0000000</td>\n",
              "      <td>0.0000000</td>\n",
              "      <td>0.0000000</td>\n",
              "      <td>1.0000000</td>\n",
              "    </tr>\n",
              "    <tr>\n",
              "      <th>366.7300000</th>\n",
              "      <td>0.1428571</td>\n",
              "      <td>0.0476190</td>\n",
              "      <td>0.1904762</td>\n",
              "      <td>0.0000000</td>\n",
              "      <td>0.6190476</td>\n",
              "    </tr>\n",
              "    <tr>\n",
              "      <th>369.5000000</th>\n",
              "      <td>0.0212766</td>\n",
              "      <td>0.0000000</td>\n",
              "      <td>0.0638298</td>\n",
              "      <td>0.0638298</td>\n",
              "      <td>0.8510638</td>\n",
              "    </tr>\n",
              "    <tr>\n",
              "      <th>370.7400000</th>\n",
              "      <td>0.1542857</td>\n",
              "      <td>0.1085714</td>\n",
              "      <td>0.0400000</td>\n",
              "      <td>0.1428571</td>\n",
              "      <td>0.5542857</td>\n",
              "    </tr>\n",
              "    <tr>\n",
              "      <th>370.9900000</th>\n",
              "      <td>0.0851064</td>\n",
              "      <td>0.0000000</td>\n",
              "      <td>0.0212766</td>\n",
              "      <td>0.1063830</td>\n",
              "      <td>0.7872340</td>\n",
              "    </tr>\n",
              "    <tr>\n",
              "      <th>373.5300000</th>\n",
              "      <td>0.3000000</td>\n",
              "      <td>0.1000000</td>\n",
              "      <td>0.0000000</td>\n",
              "      <td>0.1000000</td>\n",
              "      <td>0.5000000</td>\n",
              "    </tr>\n",
              "    <tr>\n",
              "      <th>374.0000000</th>\n",
              "      <td>0.1034483</td>\n",
              "      <td>0.0000000</td>\n",
              "      <td>0.0000000</td>\n",
              "      <td>0.1034483</td>\n",
              "      <td>0.7931034</td>\n",
              "    </tr>\n",
              "    <tr>\n",
              "      <th>374.9500000</th>\n",
              "      <td>0.1540984</td>\n",
              "      <td>0.0393443</td>\n",
              "      <td>0.0295082</td>\n",
              "      <td>0.0885246</td>\n",
              "      <td>0.6885246</td>\n",
              "    </tr>\n",
              "    <tr>\n",
              "      <th>374.9900000</th>\n",
              "      <td>0.1774194</td>\n",
              "      <td>0.0403226</td>\n",
              "      <td>0.0241935</td>\n",
              "      <td>0.1451613</td>\n",
              "      <td>0.6129032</td>\n",
              "    </tr>\n",
              "    <tr>\n",
              "      <th>379.0000000</th>\n",
              "      <td>0.1000000</td>\n",
              "      <td>0.0333333</td>\n",
              "      <td>0.0333333</td>\n",
              "      <td>0.0666667</td>\n",
              "      <td>0.7666667</td>\n",
              "    </tr>\n",
              "    <tr>\n",
              "      <th>379.9900000</th>\n",
              "      <td>0.0000000</td>\n",
              "      <td>0.0000000</td>\n",
              "      <td>0.1428571</td>\n",
              "      <td>0.2857143</td>\n",
              "      <td>0.5714286</td>\n",
              "    </tr>\n",
              "    <tr>\n",
              "      <th>380.4000000</th>\n",
              "      <td>0.0000000</td>\n",
              "      <td>0.0000000</td>\n",
              "      <td>0.0000000</td>\n",
              "      <td>0.0000000</td>\n",
              "      <td>1.0000000</td>\n",
              "    </tr>\n",
              "    <tr>\n",
              "      <th>387.0000000</th>\n",
              "      <td>0.0000000</td>\n",
              "      <td>0.0487805</td>\n",
              "      <td>0.0243902</td>\n",
              "      <td>0.0975610</td>\n",
              "      <td>0.8292683</td>\n",
              "    </tr>\n",
              "    <tr>\n",
              "      <th>389.2800000</th>\n",
              "      <td>0.0000000</td>\n",
              "      <td>0.0000000</td>\n",
              "      <td>0.0000000</td>\n",
              "      <td>0.0000000</td>\n",
              "      <td>1.0000000</td>\n",
              "    </tr>\n",
              "    <tr>\n",
              "      <th>389.9400000</th>\n",
              "      <td>0.0767717</td>\n",
              "      <td>0.0354331</td>\n",
              "      <td>0.0590551</td>\n",
              "      <td>0.0807087</td>\n",
              "      <td>0.7480315</td>\n",
              "    </tr>\n",
              "    <tr>\n",
              "      <th>389.9700000</th>\n",
              "      <td>0.0454545</td>\n",
              "      <td>0.0454545</td>\n",
              "      <td>0.0000000</td>\n",
              "      <td>0.2045455</td>\n",
              "      <td>0.7045455</td>\n",
              "    </tr>\n",
              "    <tr>\n",
              "      <th>392.0000000</th>\n",
              "      <td>0.1470588</td>\n",
              "      <td>0.0588235</td>\n",
              "      <td>0.0294118</td>\n",
              "      <td>0.2352941</td>\n",
              "      <td>0.5294118</td>\n",
              "    </tr>\n",
              "    <tr>\n",
              "      <th>393.5500000</th>\n",
              "      <td>0.2500000</td>\n",
              "      <td>0.0000000</td>\n",
              "      <td>0.1500000</td>\n",
              "      <td>0.1000000</td>\n",
              "      <td>0.5000000</td>\n",
              "    </tr>\n",
              "    <tr>\n",
              "      <th>398.0000000</th>\n",
              "      <td>0.0727273</td>\n",
              "      <td>0.0181818</td>\n",
              "      <td>0.0909091</td>\n",
              "      <td>0.1272727</td>\n",
              "      <td>0.6909091</td>\n",
              "    </tr>\n",
              "    <tr>\n",
              "      <th>398.1100000</th>\n",
              "      <td>0.3125000</td>\n",
              "      <td>0.0625000</td>\n",
              "      <td>0.0000000</td>\n",
              "      <td>0.1875000</td>\n",
              "      <td>0.4375000</td>\n",
              "    </tr>\n",
              "    <tr>\n",
              "      <th>399.0000000</th>\n",
              "      <td>0.2241630</td>\n",
              "      <td>0.0334789</td>\n",
              "      <td>0.0465793</td>\n",
              "      <td>0.0858806</td>\n",
              "      <td>0.6098981</td>\n",
              "    </tr>\n",
              "    <tr>\n",
              "      <th>399.9500000</th>\n",
              "      <td>0.8000000</td>\n",
              "      <td>0.0000000</td>\n",
              "      <td>0.0000000</td>\n",
              "      <td>0.0000000</td>\n",
              "      <td>0.2000000</td>\n",
              "    </tr>\n",
              "    <tr>\n",
              "      <th>399.9800000</th>\n",
              "      <td>0.2205207</td>\n",
              "      <td>0.0505360</td>\n",
              "      <td>0.0535988</td>\n",
              "      <td>0.0735069</td>\n",
              "      <td>0.6018377</td>\n",
              "    </tr>\n",
              "    <tr>\n",
              "      <th>399.9900000</th>\n",
              "      <td>0.1903898</td>\n",
              "      <td>0.0752493</td>\n",
              "      <td>0.0543971</td>\n",
              "      <td>0.1142339</td>\n",
              "      <td>0.5657298</td>\n",
              "    </tr>\n",
              "    <tr>\n",
              "      <th>407.9900000</th>\n",
              "      <td>0.2820513</td>\n",
              "      <td>0.0128205</td>\n",
              "      <td>0.0769231</td>\n",
              "      <td>0.0512821</td>\n",
              "      <td>0.5769231</td>\n",
              "    </tr>\n",
              "    <tr>\n",
              "      <th>408.9500000</th>\n",
              "      <td>0.2500000</td>\n",
              "      <td>0.0000000</td>\n",
              "      <td>0.0000000</td>\n",
              "      <td>0.0000000</td>\n",
              "      <td>0.7500000</td>\n",
              "    </tr>\n",
              "    <tr>\n",
              "      <th>409.8800000</th>\n",
              "      <td>0.0964912</td>\n",
              "      <td>0.0438596</td>\n",
              "      <td>0.0964912</td>\n",
              "      <td>0.1052632</td>\n",
              "      <td>0.6578947</td>\n",
              "    </tr>\n",
              "    <tr>\n",
              "      <th>409.9700000</th>\n",
              "      <td>0.0000000</td>\n",
              "      <td>0.0000000</td>\n",
              "      <td>0.0000000</td>\n",
              "      <td>0.0000000</td>\n",
              "      <td>1.0000000</td>\n",
              "    </tr>\n",
              "    <tr>\n",
              "      <th>409.9900000</th>\n",
              "      <td>0.1025641</td>\n",
              "      <td>0.0256410</td>\n",
              "      <td>0.0769231</td>\n",
              "      <td>0.1282051</td>\n",
              "      <td>0.6666667</td>\n",
              "    </tr>\n",
              "    <tr>\n",
              "      <th>412.9500000</th>\n",
              "      <td>0.2000000</td>\n",
              "      <td>0.0000000</td>\n",
              "      <td>0.0000000</td>\n",
              "      <td>0.2000000</td>\n",
              "      <td>0.6000000</td>\n",
              "    </tr>\n",
              "    <tr>\n",
              "      <th>414.9800000</th>\n",
              "      <td>0.3260870</td>\n",
              "      <td>0.0000000</td>\n",
              "      <td>0.0217391</td>\n",
              "      <td>0.0434783</td>\n",
              "      <td>0.6086957</td>\n",
              "    </tr>\n",
              "    <tr>\n",
              "      <th>415.0000000</th>\n",
              "      <td>1.0000000</td>\n",
              "      <td>0.0000000</td>\n",
              "      <td>0.0000000</td>\n",
              "      <td>0.0000000</td>\n",
              "      <td>0.0000000</td>\n",
              "    </tr>\n",
              "    <tr>\n",
              "      <th>419.9500000</th>\n",
              "      <td>0.0000000</td>\n",
              "      <td>0.0000000</td>\n",
              "      <td>0.3333333</td>\n",
              "      <td>0.3333333</td>\n",
              "      <td>0.3333333</td>\n",
              "    </tr>\n",
              "    <tr>\n",
              "      <th>428.9900000</th>\n",
              "      <td>0.0000000</td>\n",
              "      <td>0.0000000</td>\n",
              "      <td>0.0000000</td>\n",
              "      <td>0.0000000</td>\n",
              "      <td>1.0000000</td>\n",
              "    </tr>\n",
              "    <tr>\n",
              "      <th>429.0000000</th>\n",
              "      <td>0.0000000</td>\n",
              "      <td>0.0000000</td>\n",
              "      <td>0.0000000</td>\n",
              "      <td>0.6666667</td>\n",
              "      <td>0.3333333</td>\n",
              "    </tr>\n",
              "    <tr>\n",
              "      <th>429.9700000</th>\n",
              "      <td>0.3888889</td>\n",
              "      <td>0.0000000</td>\n",
              "      <td>0.0000000</td>\n",
              "      <td>0.0000000</td>\n",
              "      <td>0.6111111</td>\n",
              "    </tr>\n",
              "    <tr>\n",
              "      <th>429.9900000</th>\n",
              "      <td>0.1825843</td>\n",
              "      <td>0.0280899</td>\n",
              "      <td>0.0477528</td>\n",
              "      <td>0.1095506</td>\n",
              "      <td>0.6320225</td>\n",
              "    </tr>\n",
              "    <tr>\n",
              "      <th>439.9800000</th>\n",
              "      <td>0.1739130</td>\n",
              "      <td>0.0289855</td>\n",
              "      <td>0.0579710</td>\n",
              "      <td>0.1159420</td>\n",
              "      <td>0.6231884</td>\n",
              "    </tr>\n",
              "    <tr>\n",
              "      <th>440.9900000</th>\n",
              "      <td>0.0851064</td>\n",
              "      <td>0.0000000</td>\n",
              "      <td>0.0212766</td>\n",
              "      <td>0.1063830</td>\n",
              "      <td>0.7872340</td>\n",
              "    </tr>\n",
              "    <tr>\n",
              "      <th>445.6600000</th>\n",
              "      <td>0.4000000</td>\n",
              "      <td>0.0000000</td>\n",
              "      <td>0.0000000</td>\n",
              "      <td>0.0000000</td>\n",
              "      <td>0.6000000</td>\n",
              "    </tr>\n",
              "    <tr>\n",
              "      <th>446.6100000</th>\n",
              "      <td>0.1973684</td>\n",
              "      <td>0.0394737</td>\n",
              "      <td>0.0789474</td>\n",
              "      <td>0.1973684</td>\n",
              "      <td>0.4868421</td>\n",
              "    </tr>\n",
              "    <tr>\n",
              "      <th>448.9500000</th>\n",
              "      <td>0.1934524</td>\n",
              "      <td>0.0446429</td>\n",
              "      <td>0.0505952</td>\n",
              "      <td>0.0833333</td>\n",
              "      <td>0.6279762</td>\n",
              "    </tr>\n",
              "    <tr>\n",
              "      <th>448.9700000</th>\n",
              "      <td>0.1250000</td>\n",
              "      <td>0.1250000</td>\n",
              "      <td>0.0000000</td>\n",
              "      <td>0.0000000</td>\n",
              "      <td>0.7500000</td>\n",
              "    </tr>\n",
              "    <tr>\n",
              "      <th>449.0000000</th>\n",
              "      <td>0.2061856</td>\n",
              "      <td>0.0412371</td>\n",
              "      <td>0.0309278</td>\n",
              "      <td>0.0515464</td>\n",
              "      <td>0.6701031</td>\n",
              "    </tr>\n",
              "    <tr>\n",
              "      <th>449.9900000</th>\n",
              "      <td>0.1313131</td>\n",
              "      <td>0.0606061</td>\n",
              "      <td>0.0404040</td>\n",
              "      <td>0.1212121</td>\n",
              "      <td>0.6464646</td>\n",
              "    </tr>\n",
              "    <tr>\n",
              "      <th>450.1100000</th>\n",
              "      <td>0.1488251</td>\n",
              "      <td>0.0469974</td>\n",
              "      <td>0.0365535</td>\n",
              "      <td>0.0966057</td>\n",
              "      <td>0.6710183</td>\n",
              "    </tr>\n",
              "    <tr>\n",
              "      <th>454.9800000</th>\n",
              "      <td>0.1904762</td>\n",
              "      <td>0.0952381</td>\n",
              "      <td>0.0476190</td>\n",
              "      <td>0.0476190</td>\n",
              "      <td>0.6190476</td>\n",
              "    </tr>\n",
              "    <tr>\n",
              "      <th>456.7000000</th>\n",
              "      <td>0.3076923</td>\n",
              "      <td>0.0000000</td>\n",
              "      <td>0.0000000</td>\n",
              "      <td>0.0769231</td>\n",
              "      <td>0.6153846</td>\n",
              "    </tr>\n",
              "    <tr>\n",
              "      <th>458.9500000</th>\n",
              "      <td>0.2727273</td>\n",
              "      <td>0.0909091</td>\n",
              "      <td>0.0000000</td>\n",
              "      <td>0.0909091</td>\n",
              "      <td>0.5454545</td>\n",
              "    </tr>\n",
              "    <tr>\n",
              "      <th>459.9500000</th>\n",
              "      <td>0.2727273</td>\n",
              "      <td>0.0909091</td>\n",
              "      <td>0.0000000</td>\n",
              "      <td>0.0909091</td>\n",
              "      <td>0.5454545</td>\n",
              "    </tr>\n",
              "    <tr>\n",
              "      <th>459.9800000</th>\n",
              "      <td>0.1111111</td>\n",
              "      <td>0.0666667</td>\n",
              "      <td>0.0444444</td>\n",
              "      <td>0.0666667</td>\n",
              "      <td>0.7111111</td>\n",
              "    </tr>\n",
              "    <tr>\n",
              "      <th>459.9900000</th>\n",
              "      <td>0.0521739</td>\n",
              "      <td>0.0173913</td>\n",
              "      <td>0.0173913</td>\n",
              "      <td>0.1130435</td>\n",
              "      <td>0.8000000</td>\n",
              "    </tr>\n",
              "    <tr>\n",
              "      <th>464.0000000</th>\n",
              "      <td>0.1081081</td>\n",
              "      <td>0.1351351</td>\n",
              "      <td>0.0270270</td>\n",
              "      <td>0.1351351</td>\n",
              "      <td>0.5945946</td>\n",
              "    </tr>\n",
              "    <tr>\n",
              "      <th>469.0000000</th>\n",
              "      <td>1.0000000</td>\n",
              "      <td>0.0000000</td>\n",
              "      <td>0.0000000</td>\n",
              "      <td>0.0000000</td>\n",
              "      <td>0.0000000</td>\n",
              "    </tr>\n",
              "    <tr>\n",
              "      <th>469.9500000</th>\n",
              "      <td>0.0000000</td>\n",
              "      <td>0.0000000</td>\n",
              "      <td>0.0000000</td>\n",
              "      <td>0.5000000</td>\n",
              "      <td>0.5000000</td>\n",
              "    </tr>\n",
              "    <tr>\n",
              "      <th>474.9800000</th>\n",
              "      <td>0.0769231</td>\n",
              "      <td>0.0000000</td>\n",
              "      <td>0.0000000</td>\n",
              "      <td>0.0769231</td>\n",
              "      <td>0.8461538</td>\n",
              "    </tr>\n",
              "    <tr>\n",
              "      <th>476.0000000</th>\n",
              "      <td>0.1937500</td>\n",
              "      <td>0.0312500</td>\n",
              "      <td>0.0937500</td>\n",
              "      <td>0.0937500</td>\n",
              "      <td>0.5875000</td>\n",
              "    </tr>\n",
              "    <tr>\n",
              "      <th>478.9700000</th>\n",
              "      <td>0.0000000</td>\n",
              "      <td>0.0000000</td>\n",
              "      <td>0.0000000</td>\n",
              "      <td>0.0000000</td>\n",
              "      <td>1.0000000</td>\n",
              "    </tr>\n",
              "    <tr>\n",
              "      <th>479.0000000</th>\n",
              "      <td>0.1742627</td>\n",
              "      <td>0.0294906</td>\n",
              "      <td>0.0857909</td>\n",
              "      <td>0.0965147</td>\n",
              "      <td>0.6139410</td>\n",
              "    </tr>\n",
              "    <tr>\n",
              "      <th>479.9800000</th>\n",
              "      <td>0.1875000</td>\n",
              "      <td>0.1250000</td>\n",
              "      <td>0.1250000</td>\n",
              "      <td>0.1250000</td>\n",
              "      <td>0.4375000</td>\n",
              "    </tr>\n",
              "    <tr>\n",
              "      <th>486.5700000</th>\n",
              "      <td>0.0000000</td>\n",
              "      <td>0.0000000</td>\n",
              "      <td>0.0000000</td>\n",
              "      <td>0.0000000</td>\n",
              "      <td>1.0000000</td>\n",
              "    </tr>\n",
              "    <tr>\n",
              "      <th>489.9900000</th>\n",
              "      <td>0.0000000</td>\n",
              "      <td>0.0000000</td>\n",
              "      <td>0.0000000</td>\n",
              "      <td>1.0000000</td>\n",
              "      <td>0.0000000</td>\n",
              "    </tr>\n",
              "    <tr>\n",
              "      <th>490.9500000</th>\n",
              "      <td>1.0000000</td>\n",
              "      <td>0.0000000</td>\n",
              "      <td>0.0000000</td>\n",
              "      <td>0.0000000</td>\n",
              "      <td>0.0000000</td>\n",
              "    </tr>\n",
              "    <tr>\n",
              "      <th>495.0000000</th>\n",
              "      <td>0.1241379</td>\n",
              "      <td>0.0620690</td>\n",
              "      <td>0.0620690</td>\n",
              "      <td>0.1448276</td>\n",
              "      <td>0.6068966</td>\n",
              "    </tr>\n",
              "    <tr>\n",
              "      <th>499.0000000</th>\n",
              "      <td>0.0722892</td>\n",
              "      <td>0.0361446</td>\n",
              "      <td>0.0963855</td>\n",
              "      <td>0.1445783</td>\n",
              "      <td>0.6506024</td>\n",
              "    </tr>\n",
              "    <tr>\n",
              "      <th>499.9500000</th>\n",
              "      <td>1.0000000</td>\n",
              "      <td>0.0000000</td>\n",
              "      <td>0.0000000</td>\n",
              "      <td>0.0000000</td>\n",
              "      <td>0.0000000</td>\n",
              "    </tr>\n",
              "    <tr>\n",
              "      <th>499.9800000</th>\n",
              "      <td>0.0909091</td>\n",
              "      <td>0.0000000</td>\n",
              "      <td>0.1818182</td>\n",
              "      <td>0.1818182</td>\n",
              "      <td>0.5454545</td>\n",
              "    </tr>\n",
              "    <tr>\n",
              "      <th>499.9900000</th>\n",
              "      <td>0.2212389</td>\n",
              "      <td>0.0353982</td>\n",
              "      <td>0.0398230</td>\n",
              "      <td>0.1814159</td>\n",
              "      <td>0.5221239</td>\n",
              "    </tr>\n",
              "    <tr>\n",
              "      <th>503.0900000</th>\n",
              "      <td>0.2000000</td>\n",
              "      <td>0.0444444</td>\n",
              "      <td>0.0333333</td>\n",
              "      <td>0.0333333</td>\n",
              "      <td>0.6888889</td>\n",
              "    </tr>\n",
              "    <tr>\n",
              "      <th>509.9900000</th>\n",
              "      <td>0.0000000</td>\n",
              "      <td>0.0000000</td>\n",
              "      <td>0.0000000</td>\n",
              "      <td>0.0000000</td>\n",
              "      <td>1.0000000</td>\n",
              "    </tr>\n",
              "    <tr>\n",
              "      <th>513.9900000</th>\n",
              "      <td>0.0222222</td>\n",
              "      <td>0.0333333</td>\n",
              "      <td>0.0111111</td>\n",
              "      <td>0.1333333</td>\n",
              "      <td>0.8000000</td>\n",
              "    </tr>\n",
              "    <tr>\n",
              "      <th>519.0000000</th>\n",
              "      <td>0.0982143</td>\n",
              "      <td>0.0267857</td>\n",
              "      <td>0.0535714</td>\n",
              "      <td>0.0892857</td>\n",
              "      <td>0.7321429</td>\n",
              "    </tr>\n",
              "    <tr>\n",
              "      <th>519.9900000</th>\n",
              "      <td>0.1666667</td>\n",
              "      <td>0.0000000</td>\n",
              "      <td>0.0000000</td>\n",
              "      <td>0.0000000</td>\n",
              "      <td>0.8333333</td>\n",
              "    </tr>\n",
              "    <tr>\n",
              "      <th>529.9900000</th>\n",
              "      <td>0.0000000</td>\n",
              "      <td>0.1666667</td>\n",
              "      <td>0.0000000</td>\n",
              "      <td>0.1666667</td>\n",
              "      <td>0.6666667</td>\n",
              "    </tr>\n",
              "    <tr>\n",
              "      <th>534.9500000</th>\n",
              "      <td>0.2500000</td>\n",
              "      <td>0.1250000</td>\n",
              "      <td>0.2500000</td>\n",
              "      <td>0.0000000</td>\n",
              "      <td>0.3750000</td>\n",
              "    </tr>\n",
              "    <tr>\n",
              "      <th>538.9900000</th>\n",
              "      <td>0.5000000</td>\n",
              "      <td>0.1000000</td>\n",
              "      <td>0.1000000</td>\n",
              "      <td>0.0000000</td>\n",
              "      <td>0.3000000</td>\n",
              "    </tr>\n",
              "    <tr>\n",
              "      <th>539.9900000</th>\n",
              "      <td>1.0000000</td>\n",
              "      <td>0.0000000</td>\n",
              "      <td>0.0000000</td>\n",
              "      <td>0.0000000</td>\n",
              "      <td>0.0000000</td>\n",
              "    </tr>\n",
              "    <tr>\n",
              "      <th>541.9800000</th>\n",
              "      <td>0.0679012</td>\n",
              "      <td>0.0308642</td>\n",
              "      <td>0.0432099</td>\n",
              "      <td>0.1172840</td>\n",
              "      <td>0.7407407</td>\n",
              "    </tr>\n",
              "    <tr>\n",
              "      <th>549.0000000</th>\n",
              "      <td>0.1123596</td>\n",
              "      <td>0.1011236</td>\n",
              "      <td>0.0674157</td>\n",
              "      <td>0.1348315</td>\n",
              "      <td>0.5842697</td>\n",
              "    </tr>\n",
              "    <tr>\n",
              "      <th>568.9900000</th>\n",
              "      <td>0.1666667</td>\n",
              "      <td>0.0000000</td>\n",
              "      <td>0.1666667</td>\n",
              "      <td>0.0000000</td>\n",
              "      <td>0.6666667</td>\n",
              "    </tr>\n",
              "    <tr>\n",
              "      <th>569.0000000</th>\n",
              "      <td>0.0000000</td>\n",
              "      <td>0.0000000</td>\n",
              "      <td>0.0000000</td>\n",
              "      <td>0.0000000</td>\n",
              "      <td>1.0000000</td>\n",
              "    </tr>\n",
              "    <tr>\n",
              "      <th>573.7700000</th>\n",
              "      <td>0.2066116</td>\n",
              "      <td>0.0247934</td>\n",
              "      <td>0.0661157</td>\n",
              "      <td>0.1157025</td>\n",
              "      <td>0.5867769</td>\n",
              "    </tr>\n",
              "    <tr>\n",
              "      <th>574.9500000</th>\n",
              "      <td>0.6250000</td>\n",
              "      <td>0.0000000</td>\n",
              "      <td>0.1250000</td>\n",
              "      <td>0.1250000</td>\n",
              "      <td>0.1250000</td>\n",
              "    </tr>\n",
              "    <tr>\n",
              "      <th>574.9900000</th>\n",
              "      <td>0.2066116</td>\n",
              "      <td>0.0247934</td>\n",
              "      <td>0.0661157</td>\n",
              "      <td>0.1157025</td>\n",
              "      <td>0.5867769</td>\n",
              "    </tr>\n",
              "    <tr>\n",
              "      <th>575.0000000</th>\n",
              "      <td>0.1276596</td>\n",
              "      <td>0.0000000</td>\n",
              "      <td>0.0425532</td>\n",
              "      <td>0.0638298</td>\n",
              "      <td>0.7659574</td>\n",
              "    </tr>\n",
              "    <tr>\n",
              "      <th>585.2800000</th>\n",
              "      <td>0.2258065</td>\n",
              "      <td>0.0766129</td>\n",
              "      <td>0.0483871</td>\n",
              "      <td>0.1048387</td>\n",
              "      <td>0.5443548</td>\n",
              "    </tr>\n",
              "    <tr>\n",
              "      <th>588.5300000</th>\n",
              "      <td>0.0779221</td>\n",
              "      <td>0.0129870</td>\n",
              "      <td>0.0389610</td>\n",
              "      <td>0.1558442</td>\n",
              "      <td>0.7142857</td>\n",
              "    </tr>\n",
              "    <tr>\n",
              "      <th>594.0000000</th>\n",
              "      <td>0.3571429</td>\n",
              "      <td>0.0000000</td>\n",
              "      <td>0.0714286</td>\n",
              "      <td>0.1428571</td>\n",
              "      <td>0.4285714</td>\n",
              "    </tr>\n",
              "    <tr>\n",
              "      <th>594.9800000</th>\n",
              "      <td>0.0000000</td>\n",
              "      <td>0.0000000</td>\n",
              "      <td>1.0000000</td>\n",
              "      <td>0.0000000</td>\n",
              "      <td>0.0000000</td>\n",
              "    </tr>\n",
              "    <tr>\n",
              "      <th>596.9900000</th>\n",
              "      <td>0.2500000</td>\n",
              "      <td>0.1250000</td>\n",
              "      <td>0.2500000</td>\n",
              "      <td>0.0000000</td>\n",
              "      <td>0.3750000</td>\n",
              "    </tr>\n",
              "    <tr>\n",
              "      <th>599.9500000</th>\n",
              "      <td>0.0000000</td>\n",
              "      <td>0.0000000</td>\n",
              "      <td>0.0000000</td>\n",
              "      <td>0.0000000</td>\n",
              "      <td>1.0000000</td>\n",
              "    </tr>\n",
              "    <tr>\n",
              "      <th>599.9900000</th>\n",
              "      <td>0.1690141</td>\n",
              "      <td>0.0140845</td>\n",
              "      <td>0.0422535</td>\n",
              "      <td>0.1267606</td>\n",
              "      <td>0.6478873</td>\n",
              "    </tr>\n",
              "    <tr>\n",
              "      <th>606.3000000</th>\n",
              "      <td>0.2000000</td>\n",
              "      <td>0.0000000</td>\n",
              "      <td>0.0000000</td>\n",
              "      <td>0.0000000</td>\n",
              "      <td>0.8000000</td>\n",
              "    </tr>\n",
              "    <tr>\n",
              "      <th>609.0000000</th>\n",
              "      <td>1.0000000</td>\n",
              "      <td>0.0000000</td>\n",
              "      <td>0.0000000</td>\n",
              "      <td>0.0000000</td>\n",
              "      <td>0.0000000</td>\n",
              "    </tr>\n",
              "    <tr>\n",
              "      <th>619.9700000</th>\n",
              "      <td>0.1111111</td>\n",
              "      <td>0.0000000</td>\n",
              "      <td>0.0277778</td>\n",
              "      <td>0.2500000</td>\n",
              "      <td>0.6111111</td>\n",
              "    </tr>\n",
              "    <tr>\n",
              "      <th>619.9900000</th>\n",
              "      <td>0.1111111</td>\n",
              "      <td>0.0370370</td>\n",
              "      <td>0.0000000</td>\n",
              "      <td>0.1481481</td>\n",
              "      <td>0.7037037</td>\n",
              "    </tr>\n",
              "    <tr>\n",
              "      <th>629.0000000</th>\n",
              "      <td>0.2000000</td>\n",
              "      <td>0.0000000</td>\n",
              "      <td>0.2000000</td>\n",
              "      <td>0.2000000</td>\n",
              "      <td>0.4000000</td>\n",
              "    </tr>\n",
              "    <tr>\n",
              "      <th>629.9900000</th>\n",
              "      <td>0.1296296</td>\n",
              "      <td>0.0740741</td>\n",
              "      <td>0.0555556</td>\n",
              "      <td>0.0370370</td>\n",
              "      <td>0.7037037</td>\n",
              "    </tr>\n",
              "    <tr>\n",
              "      <th>630.7100000</th>\n",
              "      <td>0.3333333</td>\n",
              "      <td>0.0000000</td>\n",
              "      <td>0.0000000</td>\n",
              "      <td>0.0000000</td>\n",
              "      <td>0.6666667</td>\n",
              "    </tr>\n",
              "    <tr>\n",
              "      <th>643.9800000</th>\n",
              "      <td>0.0000000</td>\n",
              "      <td>0.0000000</td>\n",
              "      <td>0.1428571</td>\n",
              "      <td>0.1428571</td>\n",
              "      <td>0.7142857</td>\n",
              "    </tr>\n",
              "    <tr>\n",
              "      <th>645.0000000</th>\n",
              "      <td>0.0588235</td>\n",
              "      <td>0.0000000</td>\n",
              "      <td>0.0000000</td>\n",
              "      <td>0.1176471</td>\n",
              "      <td>0.8235294</td>\n",
              "    </tr>\n",
              "    <tr>\n",
              "      <th>648.0000000</th>\n",
              "      <td>0.1428571</td>\n",
              "      <td>0.0158730</td>\n",
              "      <td>0.0476190</td>\n",
              "      <td>0.0317460</td>\n",
              "      <td>0.7619048</td>\n",
              "    </tr>\n",
              "    <tr>\n",
              "      <th>649.9900000</th>\n",
              "      <td>0.1255814</td>\n",
              "      <td>0.0511628</td>\n",
              "      <td>0.0790698</td>\n",
              "      <td>0.1209302</td>\n",
              "      <td>0.6232558</td>\n",
              "    </tr>\n",
              "    <tr>\n",
              "      <th>651.5800000</th>\n",
              "      <td>0.2253521</td>\n",
              "      <td>0.0211268</td>\n",
              "      <td>0.0422535</td>\n",
              "      <td>0.0563380</td>\n",
              "      <td>0.6549296</td>\n",
              "    </tr>\n",
              "    <tr>\n",
              "      <th>659.0000000</th>\n",
              "      <td>0.4285714</td>\n",
              "      <td>0.0000000</td>\n",
              "      <td>0.2857143</td>\n",
              "      <td>0.0000000</td>\n",
              "      <td>0.2857143</td>\n",
              "    </tr>\n",
              "    <tr>\n",
              "      <th>659.9900000</th>\n",
              "      <td>0.0000000</td>\n",
              "      <td>0.0000000</td>\n",
              "      <td>0.0000000</td>\n",
              "      <td>0.0000000</td>\n",
              "      <td>1.0000000</td>\n",
              "    </tr>\n",
              "    <tr>\n",
              "      <th>664.9900000</th>\n",
              "      <td>0.2253521</td>\n",
              "      <td>0.0211268</td>\n",
              "      <td>0.0422535</td>\n",
              "      <td>0.0563380</td>\n",
              "      <td>0.6549296</td>\n",
              "    </tr>\n",
              "    <tr>\n",
              "      <th>665.0000000</th>\n",
              "      <td>0.0000000</td>\n",
              "      <td>0.0909091</td>\n",
              "      <td>0.0909091</td>\n",
              "      <td>0.0000000</td>\n",
              "      <td>0.8181818</td>\n",
              "    </tr>\n",
              "    <tr>\n",
              "      <th>668.8000000</th>\n",
              "      <td>0.1186441</td>\n",
              "      <td>0.0677966</td>\n",
              "      <td>0.0847458</td>\n",
              "      <td>0.1779661</td>\n",
              "      <td>0.5508475</td>\n",
              "    </tr>\n",
              "    <tr>\n",
              "      <th>668.9500000</th>\n",
              "      <td>0.0000000</td>\n",
              "      <td>0.1111111</td>\n",
              "      <td>0.0000000</td>\n",
              "      <td>0.1111111</td>\n",
              "      <td>0.7777778</td>\n",
              "    </tr>\n",
              "    <tr>\n",
              "      <th>669.9900000</th>\n",
              "      <td>0.0992366</td>\n",
              "      <td>0.0267176</td>\n",
              "      <td>0.0496183</td>\n",
              "      <td>0.0954198</td>\n",
              "      <td>0.7290076</td>\n",
              "    </tr>\n",
              "    <tr>\n",
              "      <th>677.0000000</th>\n",
              "      <td>0.0000000</td>\n",
              "      <td>0.0000000</td>\n",
              "      <td>0.0666667</td>\n",
              "      <td>0.0000000</td>\n",
              "      <td>0.9333333</td>\n",
              "    </tr>\n",
              "    <tr>\n",
              "      <th>686.9900000</th>\n",
              "      <td>0.0833333</td>\n",
              "      <td>0.0416667</td>\n",
              "      <td>0.0416667</td>\n",
              "      <td>0.1250000</td>\n",
              "      <td>0.7083333</td>\n",
              "    </tr>\n",
              "    <tr>\n",
              "      <th>693.5800000</th>\n",
              "      <td>0.0000000</td>\n",
              "      <td>0.5000000</td>\n",
              "      <td>0.0000000</td>\n",
              "      <td>0.5000000</td>\n",
              "      <td>0.0000000</td>\n",
              "    </tr>\n",
              "    <tr>\n",
              "      <th>699.9900000</th>\n",
              "      <td>0.1126761</td>\n",
              "      <td>0.0000000</td>\n",
              "      <td>0.0563380</td>\n",
              "      <td>0.0563380</td>\n",
              "      <td>0.7746479</td>\n",
              "    </tr>\n",
              "    <tr>\n",
              "      <th>702.9700000</th>\n",
              "      <td>0.1250000</td>\n",
              "      <td>0.0000000</td>\n",
              "      <td>0.0000000</td>\n",
              "      <td>0.0000000</td>\n",
              "      <td>0.8750000</td>\n",
              "    </tr>\n",
              "    <tr>\n",
              "      <th>709.9700000</th>\n",
              "      <td>0.0000000</td>\n",
              "      <td>0.0000000</td>\n",
              "      <td>0.0000000</td>\n",
              "      <td>0.0000000</td>\n",
              "      <td>1.0000000</td>\n",
              "    </tr>\n",
              "    <tr>\n",
              "      <th>729.2900000</th>\n",
              "      <td>0.0000000</td>\n",
              "      <td>0.1250000</td>\n",
              "      <td>0.0000000</td>\n",
              "      <td>0.0000000</td>\n",
              "      <td>0.8750000</td>\n",
              "    </tr>\n",
              "    <tr>\n",
              "      <th>729.9900000</th>\n",
              "      <td>0.1458333</td>\n",
              "      <td>0.0208333</td>\n",
              "      <td>0.0625000</td>\n",
              "      <td>0.0625000</td>\n",
              "      <td>0.7083333</td>\n",
              "    </tr>\n",
              "    <tr>\n",
              "      <th>739.9900000</th>\n",
              "      <td>0.0884354</td>\n",
              "      <td>0.0340136</td>\n",
              "      <td>0.0544218</td>\n",
              "      <td>0.0884354</td>\n",
              "      <td>0.7346939</td>\n",
              "    </tr>\n",
              "    <tr>\n",
              "      <th>743.4800000</th>\n",
              "      <td>0.0000000</td>\n",
              "      <td>0.0000000</td>\n",
              "      <td>0.0000000</td>\n",
              "      <td>0.0000000</td>\n",
              "      <td>1.0000000</td>\n",
              "    </tr>\n",
              "    <tr>\n",
              "      <th>748.0000000</th>\n",
              "      <td>0.0833333</td>\n",
              "      <td>0.0277778</td>\n",
              "      <td>0.0277778</td>\n",
              "      <td>0.0555556</td>\n",
              "      <td>0.8055556</td>\n",
              "    </tr>\n",
              "    <tr>\n",
              "      <th>749.9900000</th>\n",
              "      <td>0.0000000</td>\n",
              "      <td>0.2500000</td>\n",
              "      <td>0.0000000</td>\n",
              "      <td>0.2500000</td>\n",
              "      <td>0.5000000</td>\n",
              "    </tr>\n",
              "    <tr>\n",
              "      <th>781.0500000</th>\n",
              "      <td>0.1593407</td>\n",
              "      <td>0.0274725</td>\n",
              "      <td>0.0274725</td>\n",
              "      <td>0.1016484</td>\n",
              "      <td>0.6840659</td>\n",
              "    </tr>\n",
              "    <tr>\n",
              "      <th>798.0000000</th>\n",
              "      <td>0.0000000</td>\n",
              "      <td>0.2500000</td>\n",
              "      <td>0.0000000</td>\n",
              "      <td>0.2500000</td>\n",
              "      <td>0.5000000</td>\n",
              "    </tr>\n",
              "    <tr>\n",
              "      <th>799.9900000</th>\n",
              "      <td>0.0000000</td>\n",
              "      <td>0.0000000</td>\n",
              "      <td>0.0000000</td>\n",
              "      <td>0.0000000</td>\n",
              "      <td>1.0000000</td>\n",
              "    </tr>\n",
              "    <tr>\n",
              "      <th>800.0000000</th>\n",
              "      <td>0.1518987</td>\n",
              "      <td>0.0759494</td>\n",
              "      <td>0.0632911</td>\n",
              "      <td>0.1012658</td>\n",
              "      <td>0.6075949</td>\n",
              "    </tr>\n",
              "    <tr>\n",
              "      <th>826.6900000</th>\n",
              "      <td>1.0000000</td>\n",
              "      <td>0.0000000</td>\n",
              "      <td>0.0000000</td>\n",
              "      <td>0.0000000</td>\n",
              "      <td>0.0000000</td>\n",
              "    </tr>\n",
              "    <tr>\n",
              "      <th>837.0000000</th>\n",
              "      <td>0.0312500</td>\n",
              "      <td>0.0625000</td>\n",
              "      <td>0.0625000</td>\n",
              "      <td>0.0937500</td>\n",
              "      <td>0.7500000</td>\n",
              "    </tr>\n",
              "    <tr>\n",
              "      <th>848.0000000</th>\n",
              "      <td>0.2500000</td>\n",
              "      <td>0.0000000</td>\n",
              "      <td>0.0000000</td>\n",
              "      <td>0.5000000</td>\n",
              "      <td>0.2500000</td>\n",
              "    </tr>\n",
              "    <tr>\n",
              "      <th>866.3600000</th>\n",
              "      <td>0.1691919</td>\n",
              "      <td>0.0353535</td>\n",
              "      <td>0.0656566</td>\n",
              "      <td>0.1035354</td>\n",
              "      <td>0.6262626</td>\n",
              "    </tr>\n",
              "    <tr>\n",
              "      <th>899.9900000</th>\n",
              "      <td>0.2307692</td>\n",
              "      <td>0.0000000</td>\n",
              "      <td>0.0769231</td>\n",
              "      <td>0.1538462</td>\n",
              "      <td>0.5384615</td>\n",
              "    </tr>\n",
              "    <tr>\n",
              "      <th>948.0000000</th>\n",
              "      <td>0.0833333</td>\n",
              "      <td>0.0277778</td>\n",
              "      <td>0.0277778</td>\n",
              "      <td>0.0555556</td>\n",
              "      <td>0.8055556</td>\n",
              "    </tr>\n",
              "    <tr>\n",
              "      <th>999.9900000</th>\n",
              "      <td>0.1409091</td>\n",
              "      <td>0.0590909</td>\n",
              "      <td>0.0590909</td>\n",
              "      <td>0.1000000</td>\n",
              "      <td>0.6409091</td>\n",
              "    </tr>\n",
              "  </tbody>\n",
              "</table>\n",
              "</div>"
            ],
            "text/plain": [
              "rating              1         2         3         4         5\n",
              "price                                                        \n",
              "1.0000000   0.0000000 0.0000000 0.0000000 0.0000000 1.0000000\n",
              "14.9900000  0.1093750 0.0625000 0.1562500 0.2343750 0.4375000\n",
              "24.5000000  0.6666667 0.0000000 0.0000000 0.0000000 0.3333333\n",
              "26.4300000  0.0666667 0.1333333 0.0666667 0.0000000 0.7333333\n",
              "27.7200000  0.5454545 0.0000000 0.0000000 0.0000000 0.4545455\n",
              "27.9000000  0.2500000 0.0000000 0.2500000 0.0833333 0.4166667\n",
              "34.9900000  0.4745763 0.0338983 0.0593220 0.0932203 0.3389831\n",
              "36.8900000  0.1052632 0.0789474 0.0526316 0.1052632 0.6578947\n",
              "46.8300000  0.4710744 0.0247934 0.0495868 0.0743802 0.3801653\n",
              "49.9000000  0.0000000 0.0000000 1.0000000 0.0000000 0.0000000\n",
              "49.9500000  0.6666667 0.0000000 0.0000000 0.0000000 0.3333333\n",
              "49.9900000  0.6000000 0.2000000 0.0000000 0.2000000 0.0000000\n",
              "53.9200000  0.0833333 0.0833333 0.0833333 0.1666667 0.5833333\n",
              "54.9900000  0.2293987 0.1135857 0.1403118 0.1380846 0.3786192\n",
              "58.9000000  0.3333333 0.0000000 0.0000000 0.0000000 0.6666667\n",
              "58.9900000  0.4615385 0.0000000 0.0769231 0.0769231 0.3846154\n",
              "59.9900000  0.2921348 0.0561798 0.0449438 0.1797753 0.4269663\n",
              "61.9900000  0.2631579 0.2631579 0.0526316 0.0526316 0.3684211\n",
              "64.5700000  0.0000000 0.0000000 0.0000000 0.0000000 1.0000000\n",
              "64.9000000  0.2571429 0.0285714 0.1142857 0.0857143 0.5142857\n",
              "64.9400000  0.1666667 0.0000000 0.0833333 0.1666667 0.5833333\n",
              "64.9900000  0.0964187 0.0330579 0.0674931 0.1570248 0.6460055\n",
              "65.2300000  0.1666667 0.0000000 0.1666667 0.0000000 0.6666667\n",
              "69.9300000  0.1562500 0.0312500 0.0312500 0.0937500 0.6875000\n",
              "73.5000000  0.2903226 0.0860215 0.0537634 0.1290323 0.4408602\n",
              "74.9800000  0.3076923 0.0384615 0.1923077 0.1538462 0.3076923\n",
              "74.9900000  0.2107623 0.0717489 0.0448430 0.1569507 0.5156951\n",
              "78.9000000  0.2857143 0.0476190 0.0476190 0.0952381 0.5238095\n",
              "79.0000000  0.1578947 0.2631579 0.0000000 0.1052632 0.4736842\n",
              "79.9900000  0.0780142 0.0354610 0.1276596 0.2269504 0.5319149\n",
              "83.9900000  0.5000000 0.0000000 0.0833333 0.0833333 0.3333333\n",
              "85.0000000  0.1776650 0.0152284 0.0507614 0.1116751 0.6446701\n",
              "88.0000000  0.1538462 0.0769231 0.1538462 0.1538462 0.4615385\n",
              "89.0000000  0.1841270 0.0730159 0.1047619 0.1714286 0.4666667\n",
              "89.9000000  0.1666667 0.0000000 0.0000000 0.0833333 0.7500000\n",
              "89.9600000  0.2962963 0.0000000 0.0740741 0.0740741 0.5555556\n",
              "89.9900000  0.1215470 0.0662983 0.1325967 0.1491713 0.5303867\n",
              "93.9900000  0.2698413 0.0158730 0.0634921 0.1111111 0.5396825\n",
              "94.9000000  1.0000000 0.0000000 0.0000000 0.0000000 0.0000000\n",
              "94.9900000  0.5806452 0.0000000 0.0322581 0.1612903 0.2258065\n",
              "96.9800000  0.0000000 0.0000000 1.0000000 0.0000000 0.0000000\n",
              "97.6900000  0.1277372 0.0547445 0.1131387 0.2299270 0.4744526\n",
              "99.0000000  0.1621622 0.0810811 0.0540541 0.1891892 0.5135135\n",
              "99.5800000  0.2500000 0.0000000 0.0000000 0.0000000 0.7500000\n",
              "99.9900000  0.1615854 0.0396341 0.1006098 0.1524390 0.5457317\n",
              "100.0000000 0.1666667 0.2083333 0.0833333 0.0833333 0.4583333\n",
              "100.9600000 0.1052632 0.0350877 0.0701754 0.2456140 0.5438596\n",
              "102.0000000 0.1018868 0.0603774 0.1207547 0.1622642 0.5547170\n",
              "103.9800000 0.1844512 0.0594512 0.0609756 0.2195122 0.4756098\n",
              "104.9000000 0.2547771 0.1401274 0.0573248 0.1528662 0.3949045\n",
              "104.9700000 0.1111111 0.0000000 0.0000000 0.3333333 0.5555556\n",
              "104.9900000 0.1282051 0.0769231 0.0769231 0.1794872 0.5384615\n",
              "105.0000000 0.2051282 0.1025641 0.0256410 0.0769231 0.5897436\n",
              "109.0000000 0.1811024 0.0708661 0.0866142 0.1448819 0.5165354\n",
              "109.9500000 0.3546099 0.1134752 0.0780142 0.1063830 0.3475177\n",
              "109.9800000 0.2209877 0.0765432 0.1197531 0.1444444 0.4382716\n",
              "110.0000000 0.3200000 0.0400000 0.0400000 0.1200000 0.4800000\n",
              "112.9800000 0.0000000 0.0000000 0.0000000 0.0000000 1.0000000\n",
              "114.5500000 0.3529412 0.0588235 0.1176471 0.1176471 0.3529412\n",
              "114.9900000 0.3541667 0.0625000 0.1041667 0.1875000 0.2916667\n",
              "115.0000000 0.2916667 0.0833333 0.0000000 0.1666667 0.4583333\n",
              "116.7000000 0.0000000 0.0000000 0.0000000 0.0000000 1.0000000\n",
              "118.9600000 0.2000000 0.0466667 0.0666667 0.1666667 0.5200000\n",
              "119.0000000 0.1702128 0.0638298 0.0638298 0.2553191 0.4468085\n",
              "119.9500000 0.4166667 0.0000000 0.0000000 0.0833333 0.5000000\n",
              "119.9900000 0.1651786 0.0562500 0.0848214 0.1625000 0.5312500\n",
              "121.0800000 1.0000000 0.0000000 0.0000000 0.0000000 0.0000000\n",
              "121.4600000 0.2738095 0.0833333 0.1071429 0.1904762 0.3452381\n",
              "122.9900000 0.5555556 0.0000000 0.1111111 0.1111111 0.2222222\n",
              "124.9500000 0.6666667 0.0000000 0.0000000 0.3333333 0.0000000\n",
              "128.7900000 0.2327044 0.0566038 0.0691824 0.1446541 0.4968553\n",
              "128.9000000 0.0000000 0.0000000 0.0000000 1.0000000 0.0000000\n",
              "128.9700000 0.1428571 0.0714286 0.0714286 0.1428571 0.5714286\n",
              "129.0000000 0.1970149 0.0776119 0.0716418 0.1462687 0.5074627\n",
              "129.6000000 0.0000000 0.6000000 0.0000000 0.0000000 0.4000000\n",
              "129.9500000 0.2500000 0.0000000 0.0000000 0.0000000 0.7500000\n",
              "129.9900000 0.2229730 0.1081081 0.0540541 0.1418919 0.4729730\n",
              "132.9900000 0.0909091 0.0000000 0.0000000 0.0909091 0.8181818\n",
              "133.2800000 0.2395210 0.0688623 0.1167665 0.1437126 0.4311377\n",
              "133.5500000 0.6000000 0.1000000 0.0000000 0.0000000 0.3000000\n",
              "133.6500000 0.3333333 0.3333333 0.0000000 0.0000000 0.3333333\n",
              "134.0000000 0.0740741 0.0740741 0.0555556 0.1666667 0.6296296\n",
              "134.9800000 0.0000000 0.0000000 0.0000000 0.0000000 1.0000000\n",
              "134.9900000 0.3157895 0.0827068 0.1353383 0.0902256 0.3759398\n",
              "135.9900000 0.1555556 0.0222222 0.1333333 0.0666667 0.6222222\n",
              "136.2700000 0.2500000 0.0000000 0.2500000 0.5000000 0.0000000\n",
              "137.5700000 0.0714286 0.0714286 0.0000000 0.2142857 0.6428571\n",
              "138.0000000 0.2307692 0.1282051 0.0512821 0.1025641 0.4871795\n",
              "138.9500000 1.0000000 0.0000000 0.0000000 0.0000000 0.0000000\n",
              "139.0000000 0.1764706 0.0000000 0.0588235 0.0588235 0.7058824\n",
              "139.4800000 0.0784314 0.0196078 0.1372549 0.2745098 0.4901961\n",
              "139.9500000 0.3421053 0.0789474 0.0263158 0.1052632 0.4473684\n",
              "139.9700000 0.1794872 0.0256410 0.1153846 0.1153846 0.5641026\n",
              "139.9900000 0.1545064 0.0622318 0.0729614 0.1502146 0.5600858\n",
              "141.9900000 0.0000000 0.1428571 0.4285714 0.0000000 0.4285714\n",
              "143.5700000 0.1987952 0.0662651 0.0692771 0.1325301 0.5331325\n",
              "144.7100000 0.4000000 0.3000000 0.0000000 0.2000000 0.1000000\n",
              "144.9000000 0.2368421 0.0263158 0.1052632 0.1578947 0.4736842\n",
              "145.0000000 0.2551724 0.0620690 0.0620690 0.1241379 0.4965517\n",
              "147.9800000 0.0588235 0.0588235 0.1764706 0.2941176 0.4117647\n",
              "148.4900000 0.2666667 0.0666667 0.0000000 0.2000000 0.4666667\n",
              "148.9600000 0.1790476 0.0514286 0.0704762 0.1523810 0.5466667\n",
              "148.9800000 0.1089431 0.0406504 0.0682927 0.1528455 0.6292683\n",
              "149.0000000 0.1081081 0.0090090 0.0360360 0.1531532 0.6936937\n",
              "149.5000000 0.0645161 0.0322581 0.0000000 0.1290323 0.7741935\n",
              "149.9800000 0.2340426 0.0425532 0.0638298 0.0425532 0.6170213\n",
              "149.9900000 0.1700405 0.0506073 0.0748988 0.1396761 0.5647773\n",
              "150.0000000 0.2439024 0.0487805 0.0487805 0.0975610 0.5609756\n",
              "150.9600000 0.0000000 0.0000000 0.0000000 0.3333333 0.6666667\n",
              "151.7900000 0.1960784 0.0392157 0.0784314 0.1764706 0.5098039\n",
              "151.9000000 0.5714286 0.0000000 0.0000000 0.1428571 0.2857143\n",
              "151.9900000 0.1891892 0.0810811 0.0540541 0.0810811 0.5945946\n",
              "152.4900000 0.0370370 0.0000000 0.0000000 0.1111111 0.8518519\n",
              "152.5000000 0.0454545 0.0227273 0.0227273 0.1363636 0.7727273\n",
              "152.9500000 0.1219512 0.0243902 0.0975610 0.0487805 0.7073171\n",
              "153.0000000 0.0714286 0.0000000 0.0714286 0.2142857 0.6428571\n",
              "153.9700000 0.3913043 0.0869565 0.0000000 0.0434783 0.4782609\n",
              "153.9900000 0.1290323 0.0537634 0.0645161 0.1505376 0.6021505\n",
              "154.4900000 0.0546875 0.0390625 0.0546875 0.1718750 0.6796875\n",
              "154.9500000 0.0357143 0.1428571 0.0000000 0.2142857 0.6071429\n",
              "154.9700000 0.1869159 0.0614152 0.0574099 0.1495327 0.5447263\n",
              "155.9900000 0.2072368 0.0789474 0.0625000 0.1414474 0.5098684\n",
              "156.8800000 0.2445141 0.0877743 0.0909091 0.1347962 0.4420063\n",
              "158.0000000 0.3333333 0.1666667 0.0000000 0.1666667 0.3333333\n",
              "158.4200000 0.0000000 0.0000000 0.1428571 0.2857143 0.5714286\n",
              "158.8800000 0.2493075 0.0609418 0.0831025 0.1246537 0.4819945\n",
              "159.0000000 0.1186441 0.0932203 0.1355932 0.1864407 0.4661017\n",
              "159.4900000 0.1035354 0.0454545 0.0707071 0.1161616 0.6641414\n",
              "159.9000000 0.0000000 0.0000000 0.2000000 0.2000000 0.6000000\n",
              "159.9900000 0.2400000 0.0400000 0.1200000 0.1200000 0.4800000\n",
              "160.0800000 0.5000000 0.0000000 0.1000000 0.0000000 0.4000000\n",
              "162.7200000 0.1476510 0.0604027 0.0604027 0.1275168 0.6040268\n",
              "163.0000000 0.0709677 0.0193548 0.0322581 0.1870968 0.6903226\n",
              "163.9900000 0.3632959 0.0861423 0.1048689 0.1011236 0.3445693\n",
              "165.0000000 0.1502732 0.0573770 0.0710383 0.1366120 0.5846995\n",
              "166.0000000 0.0629921 0.0209974 0.0498688 0.1207349 0.7454068\n",
              "166.1900000 0.0000000 0.0000000 0.0000000 0.0000000 1.0000000\n",
              "167.0000000 0.0888889 0.0427350 0.0547009 0.1538462 0.6598291\n",
              "167.5000000 0.1119691 0.0308880 0.0733591 0.1119691 0.6718147\n",
              "167.9900000 0.0000000 0.0000000 0.3333333 0.0000000 0.6666667\n",
              "168.0000000 0.0461538 0.0153846 0.0461538 0.1076923 0.7846154\n",
              "168.5100000 0.0461538 0.0153846 0.0461538 0.1076923 0.7846154\n",
              "169.0000000 0.1139241 0.0506329 0.0590717 0.1350211 0.6413502\n",
              "169.9300000 0.4000000 0.1000000 0.1666667 0.0666667 0.2666667\n",
              "169.9500000 0.2915129 0.1033210 0.0738007 0.1033210 0.4280443\n",
              "169.9800000 0.1693548 0.0766129 0.0685484 0.1370968 0.5483871\n",
              "169.9900000 0.2727273 0.1136364 0.0454545 0.1136364 0.4545455\n",
              "171.9800000 0.1428571 0.0000000 0.0000000 0.1428571 0.7142857\n",
              "174.0000000 0.0709677 0.0193548 0.0322581 0.1870968 0.6903226\n",
              "174.5000000 0.2941176 0.0588235 0.0000000 0.1764706 0.4705882\n",
              "174.9400000 0.0969388 0.0357143 0.0918367 0.1173469 0.6581633\n",
              "174.9500000 0.2960000 0.0560000 0.0720000 0.1040000 0.4720000\n",
              "175.0000000 0.1696429 0.0357143 0.0446429 0.1428571 0.6071429\n",
              "176.9400000 0.1153846 0.0439560 0.0769231 0.1098901 0.6538462\n",
              "179.0000000 0.2195122 0.0731707 0.0000000 0.1463415 0.5609756\n",
              "179.5000000 0.0837563 0.0329949 0.0380711 0.1497462 0.6954315\n",
              "179.8700000 0.3333333 0.0000000 0.3333333 0.0000000 0.3333333\n",
              "179.9900000 0.1816720 0.0627010 0.0675241 0.1270096 0.5610932\n",
              "180.0000000 0.0500000 0.0000000 0.0500000 0.0500000 0.8500000\n",
              "182.2500000 0.1764706 0.0882353 0.1323529 0.0882353 0.5147059\n",
              "183.9500000 0.0185185 0.0000000 0.0370370 0.0925926 0.8518519\n",
              "184.1800000 0.1250000 0.0416667 0.0416667 0.0833333 0.7083333\n",
              "185.0000000 0.1927711 0.0481928 0.0331325 0.0993976 0.6265060\n",
              "186.0000000 0.0913242 0.0228311 0.0684932 0.1369863 0.6803653\n",
              "186.9000000 0.0714286 0.0142857 0.0428571 0.1285714 0.7428571\n",
              "188.0000000 0.0185185 0.0000000 0.0370370 0.0925926 0.8518519\n",
              "189.9500000 0.2500000 0.0000000 0.0000000 0.0000000 0.7500000\n",
              "189.9600000 0.1182266 0.0541872 0.0738916 0.1231527 0.6305419\n",
              "189.9900000 0.1428571 0.0000000 0.0000000 0.1428571 0.7142857\n",
              "190.0000000 0.0816327 0.1632653 0.0612245 0.0816327 0.6122449\n",
              "194.0000000 0.1625000 0.0475000 0.0625000 0.1000000 0.6275000\n",
              "194.9700000 0.2789969 0.1097179 0.1191223 0.1442006 0.3479624\n",
              "194.9900000 0.0526316 0.0095694 0.0430622 0.1435407 0.7511962\n",
              "195.0000000 0.1463415 0.0731707 0.0731707 0.0731707 0.6341463\n",
              "197.0000000 0.1176471 0.0000000 0.1176471 0.2058824 0.5588235\n",
              "198.9000000 0.1722222 0.0222222 0.0277778 0.0944444 0.6833333\n",
              "198.9900000 0.1666667 0.0000000 0.0000000 0.0833333 0.7500000\n",
              "199.0000000 0.2143845 0.0470263 0.0774550 0.1023513 0.5587828\n",
              "199.3700000 0.2380952 0.0952381 0.0000000 0.1428571 0.5238095\n",
              "199.7200000 0.1724138 0.0172414 0.1034483 0.0689655 0.6379310\n",
              "199.9500000 0.2548476 0.0304709 0.0415512 0.1080332 0.5650970\n",
              "199.9900000 0.1468531 0.0454545 0.0944056 0.1678322 0.5454545\n",
              "201.4800000 0.2491349 0.0449827 0.0519031 0.1314879 0.5224913\n",
              "202.9500000 0.0000000 0.0000000 0.0000000 0.0000000 1.0000000\n",
              "202.9900000 0.1030928 0.0515464 0.0515464 0.1546392 0.6391753\n",
              "203.5100000 0.0400000 0.0800000 0.1200000 0.1200000 0.6400000\n",
              "204.1600000 0.1363636 0.0454545 0.0909091 0.1363636 0.5909091\n",
              "206.9500000 0.0000000 0.0000000 1.0000000 0.0000000 0.0000000\n",
              "207.9900000 0.1739130 0.0434783 0.0513834 0.1264822 0.6047431\n",
              "209.0000000 0.2863535 0.0850112 0.0894855 0.1297539 0.4093960\n",
              "209.6700000 0.1769231 0.0384615 0.0923077 0.1538462 0.5384615\n",
              "209.7500000 0.1000000 0.2000000 0.0000000 0.3000000 0.4000000\n",
              "209.9400000 0.7000000 0.0000000 0.0000000 0.0000000 0.3000000\n",
              "209.9900000 0.0697674 0.0000000 0.0697674 0.2325581 0.6279070\n",
              "210.9900000 0.7000000 0.0000000 0.1000000 0.0000000 0.2000000\n",
              "211.3900000 0.0961538 0.0769231 0.0480769 0.1730769 0.6057692\n",
              "211.6300000 1.0000000 0.0000000 0.0000000 0.0000000 0.0000000\n",
              "214.7500000 0.0760870 0.0108696 0.0543478 0.1521739 0.7065217\n",
              "214.9700000 0.2461538 0.0769231 0.0730769 0.1538462 0.4500000\n",
              "215.0000000 0.1786543 0.0580046 0.0788863 0.1392111 0.5452436\n",
              "216.0000000 0.0760870 0.0108696 0.0543478 0.1521739 0.7065217\n",
              "216.8900000 0.7000000 0.0000000 0.0000000 0.0000000 0.3000000\n",
              "219.8800000 0.3757962 0.0605096 0.0859873 0.0891720 0.3885350\n",
              "219.9500000 0.4000000 0.2000000 0.2000000 0.0000000 0.2000000\n",
              "219.9700000 0.2067039 0.0521415 0.0837989 0.1098696 0.5474860\n",
              "219.9900000 0.1700405 0.0688259 0.0829960 0.1255061 0.5526316\n",
              "220.0000000 0.2500000 0.0357143 0.0714286 0.1428571 0.5000000\n",
              "221.0000000 0.0769231 0.0000000 0.0000000 0.0000000 0.9230769\n",
              "229.0000000 0.1712329 0.1095890 0.0753425 0.1712329 0.4726027\n",
              "229.9800000 0.0706215 0.0282486 0.0423729 0.1440678 0.7146893\n",
              "229.9900000 0.1187970 0.0315789 0.0586466 0.1398496 0.6511278\n",
              "233.7100000 0.0727273 0.0545455 0.0636364 0.1090909 0.7000000\n",
              "234.3500000 0.3684211 0.0789474 0.0263158 0.1842105 0.3421053\n",
              "234.9500000 0.4000000 0.2000000 0.0000000 0.0000000 0.4000000\n",
              "235.7800000 0.0632911 0.0126582 0.0000000 0.1139241 0.8101266\n",
              "238.9900000 0.0000000 0.0000000 0.0000000 0.0000000 1.0000000\n",
              "239.9800000 0.6000000 0.2000000 0.0000000 0.0000000 0.2000000\n",
              "239.9900000 0.2297297 0.0472973 0.0608108 0.1013514 0.5608108\n",
              "240.0000000 0.1800000 0.0400000 0.0800000 0.1000000 0.6000000\n",
              "242.9900000 0.0740741 0.0555556 0.0925926 0.2037037 0.5740741\n",
              "244.4500000 0.0949153 0.0542373 0.0406780 0.1355932 0.6745763\n",
              "248.0000000 0.0000000 0.0000000 0.0000000 0.0000000 1.0000000\n",
              "248.7000000 0.3093923 0.1049724 0.0883978 0.0856354 0.4116022\n",
              "249.0000000 0.2222222 0.0000000 0.0000000 0.2222222 0.5555556\n",
              "249.4500000 0.0000000 0.0000000 0.3333333 0.0000000 0.6666667\n",
              "249.9500000 0.2727273 0.0909091 0.0000000 0.0454545 0.5909091\n",
              "249.9900000 0.1636156 0.0629291 0.0572082 0.1064073 0.6098398\n",
              "255.0000000 0.1562500 0.0625000 0.0625000 0.0937500 0.6250000\n",
              "255.9900000 0.2164179 0.0597015 0.0970149 0.0895522 0.5373134\n",
              "256.8200000 0.2857143 0.0000000 0.0000000 0.2857143 0.4285714\n",
              "257.9800000 0.2820513 0.0769231 0.0256410 0.0512821 0.5641026\n",
              "258.8000000 0.1000000 0.0000000 0.0000000 0.3000000 0.6000000\n",
              "259.9800000 0.2303922 0.0343137 0.0441176 0.1323529 0.5588235\n",
              "259.9900000 0.1428571 0.0714286 0.0857143 0.1857143 0.5142857\n",
              "261.8400000 0.1272727 0.0363636 0.0606061 0.1636364 0.6121212\n",
              "262.4900000 0.2727273 0.0681818 0.0909091 0.1363636 0.4318182\n",
              "264.9800000 0.1538462 0.0769231 0.1538462 0.0769231 0.5384615\n",
              "264.9900000 0.1470588 0.0294118 0.0294118 0.0882353 0.7058824\n",
              "268.0000000 0.0714286 0.0000000 0.0714286 0.0714286 0.7857143\n",
              "268.9900000 0.0961538 0.0000000 0.0192308 0.1153846 0.7692308\n",
              "269.0000000 0.2000000 0.1000000 0.2000000 0.1000000 0.4000000\n",
              "269.9900000 0.1491841 0.0629371 0.0606061 0.1188811 0.6083916\n",
              "270.9500000 0.2000000 0.0000000 0.2000000 0.2000000 0.4000000\n",
              "274.0000000 0.0000000 0.0000000 0.2500000 0.2500000 0.5000000\n",
              "274.9500000 0.2434211 0.0131579 0.0592105 0.1447368 0.5394737\n",
              "274.9900000 0.1321839 0.0689655 0.1206897 0.1609195 0.5172414\n",
              "275.9900000 0.3093220 0.0762712 0.0720339 0.0762712 0.4661017\n",
              "278.9900000 0.2000000 0.0500000 0.0875000 0.2000000 0.4625000\n",
              "279.9900000 0.2631579 0.0000000 0.0526316 0.0526316 0.6315789\n",
              "284.9800000 0.3093220 0.0762712 0.0720339 0.0762712 0.4661017\n",
              "284.9900000 0.0909091 0.0909091 0.0909091 0.2727273 0.4545455\n",
              "285.9900000 0.0000000 0.5000000 0.0000000 0.2500000 0.2500000\n",
              "286.8700000 0.0000000 0.0000000 0.0000000 0.5000000 0.5000000\n",
              "287.3200000 0.1176471 0.1470588 0.0000000 0.0588235 0.6764706\n",
              "288.0000000 0.3400000 0.0400000 0.0400000 0.1000000 0.4800000\n",
              "288.9700000 0.0000000 0.0000000 0.0384615 0.0769231 0.8846154\n",
              "289.0000000 0.1060606 0.0151515 0.0757576 0.1363636 0.6666667\n",
              "289.4400000 0.2474227 0.0515464 0.0463918 0.0927835 0.5618557\n",
              "289.4700000 0.2000000 0.0000000 0.0000000 0.0000000 0.8000000\n",
              "289.9500000 0.0000000 0.0000000 0.0000000 0.0000000 1.0000000\n",
              "289.9700000 0.1333333 0.0000000 0.0666667 0.1333333 0.6666667\n",
              "290.0000000 0.3333333 0.0333333 0.0666667 0.0666667 0.5000000\n",
              "293.9900000 0.0800000 0.0400000 0.1200000 0.1600000 0.6000000\n",
              "295.0000000 0.4000000 0.0000000 0.0000000 0.1000000 0.5000000\n",
              "296.0000000 0.2000000 0.2000000 0.0000000 0.2000000 0.4000000\n",
              "298.9500000 0.4000000 0.1000000 0.0000000 0.2000000 0.3000000\n",
              "298.9800000 0.0535714 0.0535714 0.0178571 0.1250000 0.7500000\n",
              "299.0000000 0.1995192 0.0600962 0.0769231 0.1177885 0.5456731\n",
              "299.5000000 0.1101243 0.0337478 0.0532860 0.1829485 0.6198934\n",
              "299.9500000 0.3333333 0.0000000 0.0000000 0.0000000 0.6666667\n",
              "299.9900000 0.2065217 0.0217391 0.0652174 0.1304348 0.5760870\n",
              "300.5500000 0.2115108 0.0733813 0.0561151 0.1136691 0.5453237\n",
              "303.9000000 0.1084337 0.0843373 0.1084337 0.1325301 0.5662651\n",
              "304.5300000 0.4000000 0.1000000 0.0000000 0.1000000 0.4000000\n",
              "304.9900000 0.3181818 0.0000000 0.0909091 0.0909091 0.5000000\n",
              "307.8000000 0.9000000 0.0000000 0.0000000 0.0000000 0.1000000\n",
              "307.8800000 0.2000000 0.0000000 0.0000000 0.4000000 0.4000000\n",
              "309.9500000 0.1000000 0.1000000 0.0000000 0.1000000 0.7000000\n",
              "310.9900000 1.0000000 0.0000000 0.0000000 0.0000000 0.0000000\n",
              "311.9700000 0.9000000 0.0000000 0.0000000 0.0000000 0.1000000\n",
              "314.5000000 0.0917874 0.0193237 0.0386473 0.1449275 0.7053140\n",
              "319.0000000 0.3200000 0.0000000 0.0000000 0.1200000 0.5600000\n",
              "319.9700000 0.1626506 0.0481928 0.0843373 0.1204819 0.5843373\n",
              "319.9900000 0.2500000 0.2500000 0.2500000 0.0000000 0.2500000\n",
              "320.0000000 0.1000000 0.0000000 0.1000000 0.3000000 0.5000000\n",
              "321.9900000 0.7000000 0.0000000 0.1000000 0.0000000 0.2000000\n",
              "324.0000000 0.1842105 0.0350877 0.0526316 0.1140351 0.6140351\n",
              "324.9900000 0.1123853 0.0412844 0.0596330 0.1376147 0.6490826\n",
              "327.9900000 0.2833333 0.0833333 0.1000000 0.0833333 0.4500000\n",
              "329.0000000 0.1176471 0.0882353 0.1176471 0.2647059 0.4117647\n",
              "329.9500000 0.1052632 0.0263158 0.0526316 0.1315789 0.6842105\n",
              "329.9700000 0.3846154 0.0000000 0.0769231 0.0000000 0.5384615\n",
              "329.9900000 0.2025316 0.0126582 0.0126582 0.1645570 0.6075949\n",
              "330.9500000 0.1556157 0.0405954 0.0771313 0.1339648 0.5926928\n",
              "332.9500000 0.0958904 0.0000000 0.0547945 0.1369863 0.7123288\n",
              "333.0000000 0.0588235 0.0588235 0.0588235 0.0000000 0.8235294\n",
              "333.4800000 0.1206897 0.0344828 0.0862069 0.1379310 0.6206897\n",
              "334.9000000 0.0322581 0.0483871 0.0483871 0.0967742 0.7741935\n",
              "334.9800000 0.1875000 0.0625000 0.0625000 0.0625000 0.6250000\n",
              "334.9900000 0.0906801 0.0226700 0.0629723 0.1435768 0.6801008\n",
              "335.9700000 0.4444444 0.0000000 0.0000000 0.0000000 0.5555556\n",
              "338.9900000 0.1603774 0.0471698 0.0660377 0.1226415 0.6037736\n",
              "339.9500000 0.0952381 0.0000000 0.0000000 0.1428571 0.7619048\n",
              "344.9100000 0.2222222 0.0000000 0.0000000 0.1111111 0.6666667\n",
              "344.9400000 0.0000000 0.0000000 0.0000000 0.0000000 1.0000000\n",
              "344.9500000 0.0000000 0.0000000 0.6666667 0.0000000 0.3333333\n",
              "344.9900000 0.2500000 0.0000000 0.0000000 0.0000000 0.7500000\n",
              "345.9200000 0.5000000 0.0000000 0.0000000 0.0000000 0.5000000\n",
              "347.9900000 0.3333333 0.0000000 0.3333333 0.0000000 0.3333333\n",
              "349.8000000 0.2191781 0.0136986 0.0547945 0.1095890 0.6027397\n",
              "349.9900000 0.2767296 0.0471698 0.0754717 0.1572327 0.4433962\n",
              "350.0000000 0.0000000 0.0000000 0.0000000 0.0000000 1.0000000\n",
              "351.8700000 0.1739130 0.0869565 0.0869565 0.1739130 0.4782609\n",
              "352.8000000 0.0000000 0.0000000 0.0000000 0.0000000 1.0000000\n",
              "354.9900000 0.2147651 0.0402685 0.0469799 0.1006711 0.5973154\n",
              "362.7500000 0.0000000 0.0000000 0.0000000 0.0000000 1.0000000\n",
              "366.7300000 0.1428571 0.0476190 0.1904762 0.0000000 0.6190476\n",
              "369.5000000 0.0212766 0.0000000 0.0638298 0.0638298 0.8510638\n",
              "370.7400000 0.1542857 0.1085714 0.0400000 0.1428571 0.5542857\n",
              "370.9900000 0.0851064 0.0000000 0.0212766 0.1063830 0.7872340\n",
              "373.5300000 0.3000000 0.1000000 0.0000000 0.1000000 0.5000000\n",
              "374.0000000 0.1034483 0.0000000 0.0000000 0.1034483 0.7931034\n",
              "374.9500000 0.1540984 0.0393443 0.0295082 0.0885246 0.6885246\n",
              "374.9900000 0.1774194 0.0403226 0.0241935 0.1451613 0.6129032\n",
              "379.0000000 0.1000000 0.0333333 0.0333333 0.0666667 0.7666667\n",
              "379.9900000 0.0000000 0.0000000 0.1428571 0.2857143 0.5714286\n",
              "380.4000000 0.0000000 0.0000000 0.0000000 0.0000000 1.0000000\n",
              "387.0000000 0.0000000 0.0487805 0.0243902 0.0975610 0.8292683\n",
              "389.2800000 0.0000000 0.0000000 0.0000000 0.0000000 1.0000000\n",
              "389.9400000 0.0767717 0.0354331 0.0590551 0.0807087 0.7480315\n",
              "389.9700000 0.0454545 0.0454545 0.0000000 0.2045455 0.7045455\n",
              "392.0000000 0.1470588 0.0588235 0.0294118 0.2352941 0.5294118\n",
              "393.5500000 0.2500000 0.0000000 0.1500000 0.1000000 0.5000000\n",
              "398.0000000 0.0727273 0.0181818 0.0909091 0.1272727 0.6909091\n",
              "398.1100000 0.3125000 0.0625000 0.0000000 0.1875000 0.4375000\n",
              "399.0000000 0.2241630 0.0334789 0.0465793 0.0858806 0.6098981\n",
              "399.9500000 0.8000000 0.0000000 0.0000000 0.0000000 0.2000000\n",
              "399.9800000 0.2205207 0.0505360 0.0535988 0.0735069 0.6018377\n",
              "399.9900000 0.1903898 0.0752493 0.0543971 0.1142339 0.5657298\n",
              "407.9900000 0.2820513 0.0128205 0.0769231 0.0512821 0.5769231\n",
              "408.9500000 0.2500000 0.0000000 0.0000000 0.0000000 0.7500000\n",
              "409.8800000 0.0964912 0.0438596 0.0964912 0.1052632 0.6578947\n",
              "409.9700000 0.0000000 0.0000000 0.0000000 0.0000000 1.0000000\n",
              "409.9900000 0.1025641 0.0256410 0.0769231 0.1282051 0.6666667\n",
              "412.9500000 0.2000000 0.0000000 0.0000000 0.2000000 0.6000000\n",
              "414.9800000 0.3260870 0.0000000 0.0217391 0.0434783 0.6086957\n",
              "415.0000000 1.0000000 0.0000000 0.0000000 0.0000000 0.0000000\n",
              "419.9500000 0.0000000 0.0000000 0.3333333 0.3333333 0.3333333\n",
              "428.9900000 0.0000000 0.0000000 0.0000000 0.0000000 1.0000000\n",
              "429.0000000 0.0000000 0.0000000 0.0000000 0.6666667 0.3333333\n",
              "429.9700000 0.3888889 0.0000000 0.0000000 0.0000000 0.6111111\n",
              "429.9900000 0.1825843 0.0280899 0.0477528 0.1095506 0.6320225\n",
              "439.9800000 0.1739130 0.0289855 0.0579710 0.1159420 0.6231884\n",
              "440.9900000 0.0851064 0.0000000 0.0212766 0.1063830 0.7872340\n",
              "445.6600000 0.4000000 0.0000000 0.0000000 0.0000000 0.6000000\n",
              "446.6100000 0.1973684 0.0394737 0.0789474 0.1973684 0.4868421\n",
              "448.9500000 0.1934524 0.0446429 0.0505952 0.0833333 0.6279762\n",
              "448.9700000 0.1250000 0.1250000 0.0000000 0.0000000 0.7500000\n",
              "449.0000000 0.2061856 0.0412371 0.0309278 0.0515464 0.6701031\n",
              "449.9900000 0.1313131 0.0606061 0.0404040 0.1212121 0.6464646\n",
              "450.1100000 0.1488251 0.0469974 0.0365535 0.0966057 0.6710183\n",
              "454.9800000 0.1904762 0.0952381 0.0476190 0.0476190 0.6190476\n",
              "456.7000000 0.3076923 0.0000000 0.0000000 0.0769231 0.6153846\n",
              "458.9500000 0.2727273 0.0909091 0.0000000 0.0909091 0.5454545\n",
              "459.9500000 0.2727273 0.0909091 0.0000000 0.0909091 0.5454545\n",
              "459.9800000 0.1111111 0.0666667 0.0444444 0.0666667 0.7111111\n",
              "459.9900000 0.0521739 0.0173913 0.0173913 0.1130435 0.8000000\n",
              "464.0000000 0.1081081 0.1351351 0.0270270 0.1351351 0.5945946\n",
              "469.0000000 1.0000000 0.0000000 0.0000000 0.0000000 0.0000000\n",
              "469.9500000 0.0000000 0.0000000 0.0000000 0.5000000 0.5000000\n",
              "474.9800000 0.0769231 0.0000000 0.0000000 0.0769231 0.8461538\n",
              "476.0000000 0.1937500 0.0312500 0.0937500 0.0937500 0.5875000\n",
              "478.9700000 0.0000000 0.0000000 0.0000000 0.0000000 1.0000000\n",
              "479.0000000 0.1742627 0.0294906 0.0857909 0.0965147 0.6139410\n",
              "479.9800000 0.1875000 0.1250000 0.1250000 0.1250000 0.4375000\n",
              "486.5700000 0.0000000 0.0000000 0.0000000 0.0000000 1.0000000\n",
              "489.9900000 0.0000000 0.0000000 0.0000000 1.0000000 0.0000000\n",
              "490.9500000 1.0000000 0.0000000 0.0000000 0.0000000 0.0000000\n",
              "495.0000000 0.1241379 0.0620690 0.0620690 0.1448276 0.6068966\n",
              "499.0000000 0.0722892 0.0361446 0.0963855 0.1445783 0.6506024\n",
              "499.9500000 1.0000000 0.0000000 0.0000000 0.0000000 0.0000000\n",
              "499.9800000 0.0909091 0.0000000 0.1818182 0.1818182 0.5454545\n",
              "499.9900000 0.2212389 0.0353982 0.0398230 0.1814159 0.5221239\n",
              "503.0900000 0.2000000 0.0444444 0.0333333 0.0333333 0.6888889\n",
              "509.9900000 0.0000000 0.0000000 0.0000000 0.0000000 1.0000000\n",
              "513.9900000 0.0222222 0.0333333 0.0111111 0.1333333 0.8000000\n",
              "519.0000000 0.0982143 0.0267857 0.0535714 0.0892857 0.7321429\n",
              "519.9900000 0.1666667 0.0000000 0.0000000 0.0000000 0.8333333\n",
              "529.9900000 0.0000000 0.1666667 0.0000000 0.1666667 0.6666667\n",
              "534.9500000 0.2500000 0.1250000 0.2500000 0.0000000 0.3750000\n",
              "538.9900000 0.5000000 0.1000000 0.1000000 0.0000000 0.3000000\n",
              "539.9900000 1.0000000 0.0000000 0.0000000 0.0000000 0.0000000\n",
              "541.9800000 0.0679012 0.0308642 0.0432099 0.1172840 0.7407407\n",
              "549.0000000 0.1123596 0.1011236 0.0674157 0.1348315 0.5842697\n",
              "568.9900000 0.1666667 0.0000000 0.1666667 0.0000000 0.6666667\n",
              "569.0000000 0.0000000 0.0000000 0.0000000 0.0000000 1.0000000\n",
              "573.7700000 0.2066116 0.0247934 0.0661157 0.1157025 0.5867769\n",
              "574.9500000 0.6250000 0.0000000 0.1250000 0.1250000 0.1250000\n",
              "574.9900000 0.2066116 0.0247934 0.0661157 0.1157025 0.5867769\n",
              "575.0000000 0.1276596 0.0000000 0.0425532 0.0638298 0.7659574\n",
              "585.2800000 0.2258065 0.0766129 0.0483871 0.1048387 0.5443548\n",
              "588.5300000 0.0779221 0.0129870 0.0389610 0.1558442 0.7142857\n",
              "594.0000000 0.3571429 0.0000000 0.0714286 0.1428571 0.4285714\n",
              "594.9800000 0.0000000 0.0000000 1.0000000 0.0000000 0.0000000\n",
              "596.9900000 0.2500000 0.1250000 0.2500000 0.0000000 0.3750000\n",
              "599.9500000 0.0000000 0.0000000 0.0000000 0.0000000 1.0000000\n",
              "599.9900000 0.1690141 0.0140845 0.0422535 0.1267606 0.6478873\n",
              "606.3000000 0.2000000 0.0000000 0.0000000 0.0000000 0.8000000\n",
              "609.0000000 1.0000000 0.0000000 0.0000000 0.0000000 0.0000000\n",
              "619.9700000 0.1111111 0.0000000 0.0277778 0.2500000 0.6111111\n",
              "619.9900000 0.1111111 0.0370370 0.0000000 0.1481481 0.7037037\n",
              "629.0000000 0.2000000 0.0000000 0.2000000 0.2000000 0.4000000\n",
              "629.9900000 0.1296296 0.0740741 0.0555556 0.0370370 0.7037037\n",
              "630.7100000 0.3333333 0.0000000 0.0000000 0.0000000 0.6666667\n",
              "643.9800000 0.0000000 0.0000000 0.1428571 0.1428571 0.7142857\n",
              "645.0000000 0.0588235 0.0000000 0.0000000 0.1176471 0.8235294\n",
              "648.0000000 0.1428571 0.0158730 0.0476190 0.0317460 0.7619048\n",
              "649.9900000 0.1255814 0.0511628 0.0790698 0.1209302 0.6232558\n",
              "651.5800000 0.2253521 0.0211268 0.0422535 0.0563380 0.6549296\n",
              "659.0000000 0.4285714 0.0000000 0.2857143 0.0000000 0.2857143\n",
              "659.9900000 0.0000000 0.0000000 0.0000000 0.0000000 1.0000000\n",
              "664.9900000 0.2253521 0.0211268 0.0422535 0.0563380 0.6549296\n",
              "665.0000000 0.0000000 0.0909091 0.0909091 0.0000000 0.8181818\n",
              "668.8000000 0.1186441 0.0677966 0.0847458 0.1779661 0.5508475\n",
              "668.9500000 0.0000000 0.1111111 0.0000000 0.1111111 0.7777778\n",
              "669.9900000 0.0992366 0.0267176 0.0496183 0.0954198 0.7290076\n",
              "677.0000000 0.0000000 0.0000000 0.0666667 0.0000000 0.9333333\n",
              "686.9900000 0.0833333 0.0416667 0.0416667 0.1250000 0.7083333\n",
              "693.5800000 0.0000000 0.5000000 0.0000000 0.5000000 0.0000000\n",
              "699.9900000 0.1126761 0.0000000 0.0563380 0.0563380 0.7746479\n",
              "702.9700000 0.1250000 0.0000000 0.0000000 0.0000000 0.8750000\n",
              "709.9700000 0.0000000 0.0000000 0.0000000 0.0000000 1.0000000\n",
              "729.2900000 0.0000000 0.1250000 0.0000000 0.0000000 0.8750000\n",
              "729.9900000 0.1458333 0.0208333 0.0625000 0.0625000 0.7083333\n",
              "739.9900000 0.0884354 0.0340136 0.0544218 0.0884354 0.7346939\n",
              "743.4800000 0.0000000 0.0000000 0.0000000 0.0000000 1.0000000\n",
              "748.0000000 0.0833333 0.0277778 0.0277778 0.0555556 0.8055556\n",
              "749.9900000 0.0000000 0.2500000 0.0000000 0.2500000 0.5000000\n",
              "781.0500000 0.1593407 0.0274725 0.0274725 0.1016484 0.6840659\n",
              "798.0000000 0.0000000 0.2500000 0.0000000 0.2500000 0.5000000\n",
              "799.9900000 0.0000000 0.0000000 0.0000000 0.0000000 1.0000000\n",
              "800.0000000 0.1518987 0.0759494 0.0632911 0.1012658 0.6075949\n",
              "826.6900000 1.0000000 0.0000000 0.0000000 0.0000000 0.0000000\n",
              "837.0000000 0.0312500 0.0625000 0.0625000 0.0937500 0.7500000\n",
              "848.0000000 0.2500000 0.0000000 0.0000000 0.5000000 0.2500000\n",
              "866.3600000 0.1691919 0.0353535 0.0656566 0.1035354 0.6262626\n",
              "899.9900000 0.2307692 0.0000000 0.0769231 0.1538462 0.5384615\n",
              "948.0000000 0.0833333 0.0277778 0.0277778 0.0555556 0.8055556\n",
              "999.9900000 0.1409091 0.0590909 0.0590909 0.1000000 0.6409091"
            ]
          },
          "metadata": {
            "tags": []
          },
          "execution_count": 52
        }
      ]
    },
    {
      "cell_type": "code",
      "metadata": {
        "colab": {
          "base_uri": "https://localhost:8080/",
          "height": 297
        },
        "id": "7ZFMf4zOVL8j",
        "outputId": "9a9a983b-3930-46cc-abff-a20c3cb06add"
      },
      "source": [
        "sns.boxplot(data=df_final,x=\"user_rating\",y=\"price\")"
      ],
      "execution_count": null,
      "outputs": [
        {
          "output_type": "execute_result",
          "data": {
            "text/plain": [
              "<matplotlib.axes._subplots.AxesSubplot at 0x7fb84225b090>"
            ]
          },
          "metadata": {
            "tags": []
          },
          "execution_count": 53
        },
        {
          "output_type": "display_data",
          "data": {
            "image/png": "[encoded data removed]",
            "text/plain": [
              "<Figure size 432x288 with 1 Axes>"
            ]
          },
          "metadata": {
            "tags": [],
            "needs_background": "light"
          }
        }
      ]
    },
    {
      "cell_type": "code",
      "metadata": {
        "colab": {
          "base_uri": "https://localhost:8080/",
          "height": 514
        },
        "id": "zI3E-gY1Xp1H",
        "outputId": "c8eb248c-9f49-48c8-81db-bcb67aef2fe7"
      },
      "source": [
        "plt.figure(figsize=(15, 8))\n",
        "sns.boxplot(data=df_final,x=\"brand\",y=\"user_rating\",showmeans=True)"
      ],
      "execution_count": null,
      "outputs": [
        {
          "output_type": "execute_result",
          "data": {
            "text/plain": [
              "<matplotlib.axes._subplots.AxesSubplot at 0x7fb8422c9710>"
            ]
          },
          "metadata": {
            "tags": []
          },
          "execution_count": 54
        },
        {
          "output_type": "display_data",
          "data": {
            "image/png": "[encoded data removed]",
            "text/plain": [
              "<Figure size 1080x576 with 1 Axes>"
            ]
          },
          "metadata": {
            "tags": [],
            "needs_background": "light"
          }
        }
      ]
    },
    {
      "cell_type": "markdown",
      "metadata": {
        "id": "2Nzj7ZXVLakx"
      },
      "source": [
        "## 5. Text Preprocessing and Vectorization"
      ]
    },
    {
      "cell_type": "markdown",
      "metadata": {
        "id": "ZbC_RPndnlf3"
      },
      "source": [
        "We will analyze the 'body' and 'review_title' to gain more understanding.\n",
        "\n",
        "We will peform the below tasks\n",
        "\n",
        "- Convert the text into lowercase\n",
        "- Remove punctuation\n",
        "- Remove stopwords (English, from nltk corpus)\n",
        "- Remove other keywords like \"phone\" and brand name"
      ]
    },
    {
      "cell_type": "markdown",
      "metadata": {
        "id": "XnhMQsxz2DJH"
      },
      "source": [
        "### 5.1 Change the datatype of the 'body' column to 'str' and convert it into lowercase. Print any two samples and check the output."
      ]
    },
    {
      "cell_type": "code",
      "metadata": {
        "id": "1DbTf2yc2VOQ"
      },
      "source": [
        "# Body is detailed comment and review_title is short comment"
      ],
      "execution_count": null,
      "outputs": []
    },
    {
      "cell_type": "code",
      "metadata": {
        "colab": {
          "base_uri": "https://localhost:8080/",
          "height": 35
        },
        "id": "rVxk8g3O8eB7",
        "outputId": "08ee0410-66fb-4a8c-fa3a-7b6806dbfcdc"
      },
      "source": [
        "df_final.loc[14,\"body\"]"
      ],
      "execution_count": null,
      "outputs": [
        {
          "output_type": "execute_result",
          "data": {
            "application/vnd.google.colaboratory.intrinsic+json": {
              "type": "string"
            },
            "text/plain": [
              "\"DON'T BUY OUT OF SERVICE\""
            ]
          },
          "metadata": {
            "tags": []
          },
          "execution_count": 56
        }
      ]
    },
    {
      "cell_type": "code",
      "metadata": {
        "id": "wt4q-ZtW5s6F"
      },
      "source": [
        "# as python is sensitive to case \n",
        "df_final[\"keywords\"]=df_final[\"body\"].str.lower()"
      ],
      "execution_count": null,
      "outputs": []
    },
    {
      "cell_type": "code",
      "metadata": {
        "colab": {
          "base_uri": "https://localhost:8080/"
        },
        "id": "emyCLA2r9G4D",
        "outputId": "f65a7e11-6582-458a-f831-ca64c01809fe"
      },
      "source": [
        "df_final[\"keywords\"].head(2)"
      ],
      "execution_count": null,
      "outputs": [
        {
          "output_type": "execute_result",
          "data": {
            "text/plain": [
              "14                             don't buy out of service\n",
              "17    1 star because the phones locked so i have to ...\n",
              "Name: keywords, dtype: object"
            ]
          },
          "metadata": {
            "tags": []
          },
          "execution_count": 58
        }
      ]
    },
    {
      "cell_type": "markdown",
      "metadata": {
        "id": "lsppV0X52VXf"
      },
      "source": [
        "### 5.2 Remove punctuations from the lowercased 'body' column and display at least two samples."
      ]
    },
    {
      "cell_type": "code",
      "metadata": {
        "id": "lQXKc8et2onG"
      },
      "source": [
        "df_final[\"keywords\"]=df_final[\"keywords\"].str.replace(\"[^\\w\\s]\",\"\")"
      ],
      "execution_count": null,
      "outputs": []
    },
    {
      "cell_type": "code",
      "metadata": {
        "colab": {
          "base_uri": "https://localhost:8080/"
        },
        "id": "fbsLecr0AZSp",
        "outputId": "3a6b3fb9-4655-4ff1-f389-10c383b4fc06"
      },
      "source": [
        "df_final[\"keywords\"].head(2)"
      ],
      "execution_count": null,
      "outputs": [
        {
          "output_type": "execute_result",
          "data": {
            "text/plain": [
              "14                              dont buy out of service\n",
              "17    1 star because the phones locked so i have to ...\n",
              "Name: keywords, dtype: object"
            ]
          },
          "metadata": {
            "tags": []
          },
          "execution_count": 60
        }
      ]
    },
    {
      "cell_type": "code",
      "metadata": {
        "id": "9tUr3rEVAmXF"
      },
      "source": [
        "import string\n",
        "df_final[\"keywords\"]=df_final[\"keywords\"].str.translate(str.maketrans(\"\",\"\",string.punctuation))"
      ],
      "execution_count": null,
      "outputs": []
    },
    {
      "cell_type": "code",
      "metadata": {
        "colab": {
          "base_uri": "https://localhost:8080/"
        },
        "id": "OS1n37LmBHfj",
        "outputId": "cedf6a02-6470-42b4-9154-36615752bb2c"
      },
      "source": [
        "df_final[\"keywords\"].head(2)"
      ],
      "execution_count": null,
      "outputs": [
        {
          "output_type": "execute_result",
          "data": {
            "text/plain": [
              "14                              dont buy out of service\n",
              "17    1 star because the phones locked so i have to ...\n",
              "Name: keywords, dtype: object"
            ]
          },
          "metadata": {
            "tags": []
          },
          "execution_count": 62
        }
      ]
    },
    {
      "cell_type": "markdown",
      "metadata": {
        "id": "8Zk7ja6A2owN"
      },
      "source": [
        "### 5.3 Remove stop words from the above pre-processed 'body' column and display at least two samples."
      ]
    },
    {
      "cell_type": "code",
      "metadata": {
        "colab": {
          "base_uri": "https://localhost:8080/"
        },
        "id": "1d-DhX_e2yQ-",
        "outputId": "5b71bd1d-bb84-4d6a-da5b-7f2e3cbd655c"
      },
      "source": [
        "import nltk\n",
        "from nltk.corpus import stopwords\n",
        "nltk.download(\"stopwords\")"
      ],
      "execution_count": null,
      "outputs": [
        {
          "output_type": "stream",
          "text": [
            "[nltk_data] Downloading package stopwords to /root/nltk_data...\n",
            "[nltk_data]   Unzipping corpora/stopwords.zip.\n"
          ],
          "name": "stdout"
        },
        {
          "output_type": "execute_result",
          "data": {
            "text/plain": [
              "True"
            ]
          },
          "metadata": {
            "tags": []
          },
          "execution_count": 63
        }
      ]
    },
    {
      "cell_type": "code",
      "metadata": {
        "colab": {
          "base_uri": "https://localhost:8080/"
        },
        "id": "4H1_uyJcUA3R",
        "outputId": "6755f3ba-75f4-455c-9324-5bde9ac2850d"
      },
      "source": [
        "stop_words = set(stopwords.words('english'))\n",
        "stop_words"
      ],
      "execution_count": null,
      "outputs": [
        {
          "output_type": "execute_result",
          "data": {
            "text/plain": [
              "{'a',\n",
              " 'about',\n",
              " 'above',\n",
              " 'after',\n",
              " 'again',\n",
              " 'against',\n",
              " 'ain',\n",
              " 'all',\n",
              " 'am',\n",
              " 'an',\n",
              " 'and',\n",
              " 'any',\n",
              " 'are',\n",
              " 'aren',\n",
              " \"aren't\",\n",
              " 'as',\n",
              " 'at',\n",
              " 'be',\n",
              " 'because',\n",
              " 'been',\n",
              " 'before',\n",
              " 'being',\n",
              " 'below',\n",
              " 'between',\n",
              " 'both',\n",
              " 'but',\n",
              " 'by',\n",
              " 'can',\n",
              " 'couldn',\n",
              " \"couldn't\",\n",
              " 'd',\n",
              " 'did',\n",
              " 'didn',\n",
              " \"didn't\",\n",
              " 'do',\n",
              " 'does',\n",
              " 'doesn',\n",
              " \"doesn't\",\n",
              " 'doing',\n",
              " 'don',\n",
              " \"don't\",\n",
              " 'down',\n",
              " 'during',\n",
              " 'each',\n",
              " 'few',\n",
              " 'for',\n",
              " 'from',\n",
              " 'further',\n",
              " 'had',\n",
              " 'hadn',\n",
              " \"hadn't\",\n",
              " 'has',\n",
              " 'hasn',\n",
              " \"hasn't\",\n",
              " 'have',\n",
              " 'haven',\n",
              " \"haven't\",\n",
              " 'having',\n",
              " 'he',\n",
              " 'her',\n",
              " 'here',\n",
              " 'hers',\n",
              " 'herself',\n",
              " 'him',\n",
              " 'himself',\n",
              " 'his',\n",
              " 'how',\n",
              " 'i',\n",
              " 'if',\n",
              " 'in',\n",
              " 'into',\n",
              " 'is',\n",
              " 'isn',\n",
              " \"isn't\",\n",
              " 'it',\n",
              " \"it's\",\n",
              " 'its',\n",
              " 'itself',\n",
              " 'just',\n",
              " 'll',\n",
              " 'm',\n",
              " 'ma',\n",
              " 'me',\n",
              " 'mightn',\n",
              " \"mightn't\",\n",
              " 'more',\n",
              " 'most',\n",
              " 'mustn',\n",
              " \"mustn't\",\n",
              " 'my',\n",
              " 'myself',\n",
              " 'needn',\n",
              " \"needn't\",\n",
              " 'no',\n",
              " 'nor',\n",
              " 'not',\n",
              " 'now',\n",
              " 'o',\n",
              " 'of',\n",
              " 'off',\n",
              " 'on',\n",
              " 'once',\n",
              " 'only',\n",
              " 'or',\n",
              " 'other',\n",
              " 'our',\n",
              " 'ours',\n",
              " 'ourselves',\n",
              " 'out',\n",
              " 'over',\n",
              " 'own',\n",
              " 're',\n",
              " 's',\n",
              " 'same',\n",
              " 'shan',\n",
              " \"shan't\",\n",
              " 'she',\n",
              " \"she's\",\n",
              " 'should',\n",
              " \"should've\",\n",
              " 'shouldn',\n",
              " \"shouldn't\",\n",
              " 'so',\n",
              " 'some',\n",
              " 'such',\n",
              " 't',\n",
              " 'than',\n",
              " 'that',\n",
              " \"that'll\",\n",
              " 'the',\n",
              " 'their',\n",
              " 'theirs',\n",
              " 'them',\n",
              " 'themselves',\n",
              " 'then',\n",
              " 'there',\n",
              " 'these',\n",
              " 'they',\n",
              " 'this',\n",
              " 'those',\n",
              " 'through',\n",
              " 'to',\n",
              " 'too',\n",
              " 'under',\n",
              " 'until',\n",
              " 'up',\n",
              " 've',\n",
              " 'very',\n",
              " 'was',\n",
              " 'wasn',\n",
              " \"wasn't\",\n",
              " 'we',\n",
              " 'were',\n",
              " 'weren',\n",
              " \"weren't\",\n",
              " 'what',\n",
              " 'when',\n",
              " 'where',\n",
              " 'which',\n",
              " 'while',\n",
              " 'who',\n",
              " 'whom',\n",
              " 'why',\n",
              " 'will',\n",
              " 'with',\n",
              " 'won',\n",
              " \"won't\",\n",
              " 'wouldn',\n",
              " \"wouldn't\",\n",
              " 'y',\n",
              " 'you',\n",
              " \"you'd\",\n",
              " \"you'll\",\n",
              " \"you're\",\n",
              " \"you've\",\n",
              " 'your',\n",
              " 'yours',\n",
              " 'yourself',\n",
              " 'yourselves'}"
            ]
          },
          "metadata": {
            "tags": []
          },
          "execution_count": 64
        }
      ]
    },
    {
      "cell_type": "code",
      "metadata": {
        "id": "coeI99uJUyxI"
      },
      "source": [
        "df_final[\"keywords\"]=df_final[\"keywords\"].astype(str)"
      ],
      "execution_count": null,
      "outputs": []
    },
    {
      "cell_type": "code",
      "metadata": {
        "id": "1bFBNhjuYrdb"
      },
      "source": [
        "df_final[\"keywords\"]=df_final[\"keywords\"].apply(lambda words: ' '.join(w for w in words.split() if w  not in stop_words))"
      ],
      "execution_count": null,
      "outputs": []
    },
    {
      "cell_type": "code",
      "metadata": {
        "colab": {
          "base_uri": "https://localhost:8080/"
        },
        "id": "SSdD7Zrfg9_-",
        "outputId": "f8e45acd-d9b1-4d56-b711-9b753658a9d5"
      },
      "source": [
        "df_final[\"keywords\"].head(2)"
      ],
      "execution_count": null,
      "outputs": [
        {
          "output_type": "execute_result",
          "data": {
            "text/plain": [
              "14                                   dont buy service\n",
              "17    1 star phones locked pay additional fees unlock\n",
              "Name: keywords, dtype: object"
            ]
          },
          "metadata": {
            "tags": []
          },
          "execution_count": 67
        }
      ]
    },
    {
      "cell_type": "markdown",
      "metadata": {
        "id": "TQNvXay42yaQ"
      },
      "source": [
        "### 5.4 Apply lemmatisation on the above preprocessed text and display a few samples"
      ]
    },
    {
      "cell_type": "code",
      "metadata": {
        "id": "oQ1VfFaa3DET"
      },
      "source": [
        "#Lemmatization is the process of grouping together the different inflected forms of a word so they can be analysed as a single item. Lemmatization is similar to stemming but it brings context to the words. \n",
        "#So it links words with similar meaning to one word"
      ],
      "execution_count": null,
      "outputs": []
    },
    {
      "cell_type": "code",
      "metadata": {
        "colab": {
          "base_uri": "https://localhost:8080/"
        },
        "id": "Ha2BZ935kYIl",
        "outputId": "da031c37-65b5-4cd6-86f3-6c00168407ed"
      },
      "source": [
        "# import these modules\n",
        "import nltk\n",
        "from nltk.stem import WordNetLemmatizer\n",
        "nltk.download(\"wordnet\")"
      ],
      "execution_count": null,
      "outputs": [
        {
          "output_type": "stream",
          "text": [
            "[nltk_data] Downloading package wordnet to /root/nltk_data...\n",
            "[nltk_data]   Unzipping corpora/wordnet.zip.\n"
          ],
          "name": "stdout"
        },
        {
          "output_type": "execute_result",
          "data": {
            "text/plain": [
              "True"
            ]
          },
          "metadata": {
            "tags": []
          },
          "execution_count": 69
        }
      ]
    },
    {
      "cell_type": "code",
      "metadata": {
        "id": "rzLl2cuzlIHa"
      },
      "source": [
        "w_tokenizer=nltk.tokenize.WhitespaceTokenizer()\n",
        "lemmatizer = nltk.stem.WordNetLemmatizer()"
      ],
      "execution_count": null,
      "outputs": []
    },
    {
      "cell_type": "code",
      "metadata": {
        "id": "LoxHyWBclJTj"
      },
      "source": [
        "def lemmatize_text(text):\n",
        "  return[lemmatizer.lemmatize(w) for w in w_tokenizer.tokenize(text)]"
      ],
      "execution_count": null,
      "outputs": []
    },
    {
      "cell_type": "code",
      "metadata": {
        "colab": {
          "base_uri": "https://localhost:8080/"
        },
        "id": "f9k0vEWBnngu",
        "outputId": "ffe8797b-1c52-404c-db8d-387734e9be27"
      },
      "source": [
        "df_final[\"lemm\"]=df_final[\"keywords\"].apply(lemmatize_text)\n",
        "df_final[\"lemm\"].head()"
      ],
      "execution_count": null,
      "outputs": [
        {
          "output_type": "execute_result",
          "data": {
            "text/plain": [
              "14                                 [dont, buy, service]\n",
              "17    [1, star, phone, locked, pay, additional, fee,...\n",
              "18    [product, good, used, cell, phone, one, projec...\n",
              "21    [bought, phone, replace, lg, phone, didnt, lik...\n",
              "22    [purchased, phone, att, phone, replacement, ev...\n",
              "Name: lemm, dtype: object"
            ]
          },
          "metadata": {
            "tags": []
          },
          "execution_count": 72
        }
      ]
    },
    {
      "cell_type": "markdown",
      "metadata": {
        "id": "OzweL_fA3DiN"
      },
      "source": [
        "### 5.5 Check most common and rare words in the processed text\n",
        "- We can also write a function to check word frequency of the text (Optional)"
      ]
    },
    {
      "cell_type": "code",
      "metadata": {
        "id": "MzIAyX3N6lz5",
        "colab": {
          "base_uri": "https://localhost:8080/"
        },
        "outputId": "0388d9b7-739d-45de-d31e-8b1bda5c6513"
      },
      "source": [
        "from collections import Counter\n",
        "cnt=Counter()\n",
        "for text in df_final[\"keywords\"].values:\n",
        "  for word in text.split():\n",
        "    cnt[word]+=1\n",
        "\n",
        "cnt.most_common(10)"
      ],
      "execution_count": null,
      "outputs": [
        {
          "output_type": "execute_result",
          "data": {
            "text/plain": [
              "[('phone', 74458),\n",
              " ('great', 16986),\n",
              " ('good', 13415),\n",
              " ('battery', 11641),\n",
              " ('screen', 10377),\n",
              " ('like', 10360),\n",
              " ('one', 10035),\n",
              " ('new', 9498),\n",
              " ('use', 8755),\n",
              " ('get', 7566)]"
            ]
          },
          "metadata": {
            "tags": []
          },
          "execution_count": 73
        }
      ]
    },
    {
      "cell_type": "markdown",
      "metadata": {
        "id": "9UbdTGsv60t1"
      },
      "source": [
        "### 5.6 Initialize tf-idf vectorizer and transform the preprocessed body text"
      ]
    },
    {
      "cell_type": "code",
      "metadata": {
        "id": "_Jfo6go_69yh"
      },
      "source": [
        "from sklearn.feature_extraction.text import TfidfVectorizer\n",
        "tfidf_vectorizer=TfidfVectorizer()"
      ],
      "execution_count": null,
      "outputs": []
    },
    {
      "cell_type": "code",
      "metadata": {
        "id": "hYXdqTkzsgWe"
      },
      "source": [
        "tfidf_vectorizer1=TfidfVectorizer(ngram_range=(2,2))"
      ],
      "execution_count": null,
      "outputs": []
    },
    {
      "cell_type": "code",
      "metadata": {
        "id": "QahsUoHysgxH"
      },
      "source": [
        "tfidf=tfidf_vectorizer.fit_transform(df_final[\"keywords\"])"
      ],
      "execution_count": null,
      "outputs": []
    },
    {
      "cell_type": "markdown",
      "metadata": {
        "id": "5dqPXETLKN0h"
      },
      "source": [
        "### 5.7 Segregate the data into dependent (sentiment) and independent (transformed body using tf-idf) features for building a classifier. "
      ]
    },
    {
      "cell_type": "code",
      "metadata": {
        "id": "mpOLAYn07W6F"
      },
      "source": [
        "y=df_final[\"sentiment\"]\n"
      ],
      "execution_count": null,
      "outputs": []
    },
    {
      "cell_type": "markdown",
      "metadata": {
        "id": "4K03FO0q7XBP"
      },
      "source": [
        "### 5.9 Split the data into Train & Test Sets"
      ]
    },
    {
      "cell_type": "code",
      "metadata": {
        "id": "D548-7cE7dZa"
      },
      "source": [
        "from sklearn.model_selection import train_test_split\n",
        "x_train,x_test,y_train,y_test=train_test_split(tfidf,y,random_state=50,stratify=y,test_size=0.30)"
      ],
      "execution_count": null,
      "outputs": []
    },
    {
      "cell_type": "markdown",
      "metadata": {
        "id": "rhD1a-beKvE7"
      },
      "source": [
        "## 6. Model building"
      ]
    },
    {
      "cell_type": "markdown",
      "metadata": {
        "id": "UPFovmN03exD"
      },
      "source": [
        "### 6.1 Build a random forest classifier to predict the 'sentiment'\n",
        "### 6.2 Predict on test set\n",
        "### 6.3 Check accuracy and confusion matrix"
      ]
    },
    {
      "cell_type": "code",
      "metadata": {
        "colab": {
          "base_uri": "https://localhost:8080/"
        },
        "id": "eVgNN2xXb7xm",
        "outputId": "7795b844-540e-4992-ee1a-cdc5eb65a252"
      },
      "source": [
        "from sklearn.ensemble import RandomForestClassifier\n",
        "rf_clf1=RandomForestClassifier()\n",
        "rf_clf1.fit(x_train,y_train)\n",
        "print(rf_clf1.score(x_train,y_train))\n",
        "print(rf_clf1.score(x_test,y_test))"
      ],
      "execution_count": null,
      "outputs": [
        {
          "output_type": "stream",
          "text": [
            "0.9958466528221761\n",
            "0.8885561846689896\n"
          ],
          "name": "stdout"
        }
      ]
    },
    {
      "cell_type": "code",
      "metadata": {
        "id": "y0ytdD-_30P9",
        "colab": {
          "base_uri": "https://localhost:8080/"
        },
        "outputId": "da32eec4-14e8-4cff-d1bc-33d99bc70eb4"
      },
      "source": [
        "from sklearn.metrics import confusion_matrix\n",
        "y_pred=rf_clf1.predict(x_test)\n",
        "confusion_matrix(y_test,y_pred)"
      ],
      "execution_count": null,
      "outputs": [
        {
          "output_type": "execute_result",
          "data": {
            "text/plain": [
              "array([[ 4073,  1413],\n",
              "       [  634, 12248]])"
            ]
          },
          "metadata": {
            "tags": []
          },
          "execution_count": 80
        }
      ]
    },
    {
      "cell_type": "code",
      "metadata": {
        "id": "NJ6Ke4hl30Zk"
      },
      "source": [
        "# high number of miss classification on test data"
      ],
      "execution_count": null,
      "outputs": []
    },
    {
      "cell_type": "code",
      "metadata": {
        "colab": {
          "base_uri": "https://localhost:8080/"
        },
        "id": "qxk6sGvrVmwU",
        "outputId": "07c0bc69-a711-4791-e0fa-ecdcace9650d"
      },
      "source": [
        "from sklearn.metrics import confusion_matrix\n",
        "y_pred1=rf_clf1.predict(x_train)\n",
        "confusion_matrix(y_train,y_pred1)"
      ],
      "execution_count": null,
      "outputs": [
        {
          "output_type": "execute_result",
          "data": {
            "text/plain": [
              "array([[12640,   160],\n",
              "       [   18, 30039]])"
            ]
          },
          "metadata": {
            "tags": []
          },
          "execution_count": 82
        }
      ]
    },
    {
      "cell_type": "markdown",
      "metadata": {
        "id": "Ey7an7ukLxWB"
      },
      "source": [
        "## 7. Write your conclusion"
      ]
    },
    {
      "cell_type": "code",
      "metadata": {
        "id": "0csFkbEJmSIe"
      },
      "source": [
        "# test accuracy 88% for detecting sentiment in reviews of customers and classifying them positive and negative"
      ],
      "execution_count": null,
      "outputs": []
    },
    {
      "cell_type": "markdown",
      "metadata": {
        "id": "CD8lVNY0YLQD"
      },
      "source": [
        "##. 8. Further Explore\n",
        "### 8.0 Merge all independent features and the below text preprocessing steps\n",
        "### 8.1 Check rare words and drop them\n",
        "### 8.2 Remove emoticon/emojis\n",
        "### 8.3 Try different vectorizer for vectorization\n",
        "### 8.4 Use embeddings\n",
        "### 8.5 Use NN based models"
      ]
    },
    {
      "cell_type": "code",
      "metadata": {
        "id": "bJEEmN3ZY5KJ"
      },
      "source": [
        ""
      ],
      "execution_count": null,
      "outputs": []
    }
  ]
}