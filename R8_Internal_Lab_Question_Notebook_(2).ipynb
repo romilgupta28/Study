{
  "nbformat": 4,
  "nbformat_minor": 0,
  "metadata": {
    "colab": {
      "name": "R8 Internal Lab Question Notebook (2).ipynb",
      "provenance": [],
      "collapsed_sections": [
        "x_Lom6cXzqn7",
        "fze-aokU0ukH"
      ]
    },
    "kernelspec": {
      "name": "python3",
      "display_name": "Python 3"
    },
    "accelerator": "GPU"
  },
  "cells": [
    {
      "cell_type": "markdown",
      "metadata": {
        "id": "PHYs6Z84xV8E"
      },
      "source": [
        "<img src=\"http://drive.google.com/uc?export=view&id=1tpOCamr9aWz817atPnyXus8w5gJ3mIts\" width=500px>\n",
        "\n",
        "Proprietary content. © Great Learning. All Rights Reserved. Unauthorized use or distribution prohibited."
      ]
    },
    {
      "cell_type": "markdown",
      "metadata": {
        "id": "5QQxgAmWzSye"
      },
      "source": [
        "# Mobile Phone Review Analysis"
      ]
    },
    {
      "cell_type": "markdown",
      "metadata": {
        "id": "FbwHYUXhxaqD"
      },
      "source": [
        "## Context\n",
        "\n",
        "The product companies can utilize the detailed review comments to gather insights from the end user. Most of the products are sold via e-commerce sites like Flipkart or Amazon where customers can buy a product and give their review about the product on the web site. \n",
        "Product managers can identify the relevant reviews from the website and run a sentiment analysis tool to understand what the sentiments of the customer are. Based on their sentiments, they can identify what users think of the current product. Are they happy? Discontent? \n",
        "They can also come up with a document that lists the features, the team needs to focus on for making the product better. \n",
        "\n",
        "## Objective\n",
        "\n",
        "Given the review data rating label, we will try to get insights about various brands and their ratings using text analytics and build a model to predict the rating and overall sentiment. \n"
      ]
    },
    {
      "cell_type": "markdown",
      "metadata": {
        "id": "CI7usguRzeox"
      },
      "source": [
        "### Package version\n",
        "\n",
        "- tensorflow==2.3.0\n",
        "- scikit-learn==0.22.2.post1\n",
        "- pandas==1.0.5\n",
        "- numpy==1.18.5\n",
        "- matplotlib==3.2.2\n",
        "- google==2.0.3"
      ]
    },
    {
      "cell_type": "markdown",
      "metadata": {
        "id": "aiMdVjHRH7NR"
      },
      "source": [
        "### Data Dictionary \n",
        "\n",
        "product_data.csv - contains product details\n",
        "- 'asin',  - Product ASIN\n",
        "- 'brand', - Product Brand\n",
        "- 'title', - Product Title\n",
        "- 'url',  - Product URL\n",
        "- 'image', - Product Image URL\n",
        "- 'rating',- Product Avg. Rating\n",
        "- 'reviewUrl' - Product Review Page URL\n",
        "- 'totalReviews' - Product Total Reviews\n",
        "- ‘price’ - Product Price ($)\n",
        "- ‘originalPrice’ - Product Original Price ($)\n",
        " \n",
        "reviews.csv  - contains user review details\n",
        " \n",
        "- 'asin' - Product ASIN\n",
        "- 'name' - Reviewer Name\n",
        "- 'rating' - Reviewer Rating (scale 1 to 5)\n",
        "- 'date'  - Review Date\n",
        "- 'verified' - Valid Customer\n",
        "- 'title'  - Review Title\n",
        "- 'body'  - Review Content\n",
        "- 'helpfulVotes  - Helpful Feedbacks\n"
      ]
    },
    {
      "cell_type": "markdown",
      "metadata": {
        "id": "cEn52o8jznJK"
      },
      "source": [
        "## Table of Content\n",
        "\n",
        "1. Import Libraries\n",
        "\n",
        "2. Setting options\n",
        "\n",
        "3. Read Data\n",
        "\n",
        "4. Data Analysis and EDA\n",
        "\n",
        "5. Text preprocessing and Vectorization\n",
        "\n",
        "6. Model building\n",
        "\n",
        "7. Conclusion and Interpretation"
      ]
    },
    {
      "cell_type": "markdown",
      "metadata": {
        "id": "x_Lom6cXzqn7"
      },
      "source": [
        "## 1. Import Libraries"
      ]
    },
    {
      "cell_type": "markdown",
      "metadata": {
        "id": "FZtVstH8zre2"
      },
      "source": [
        "Let us start by mounting the drive"
      ]
    },
    {
      "cell_type": "code",
      "metadata": {
        "id": "xv9jxv3-R5Xl",
        "colab": {
          "base_uri": "https://localhost:8080/"
        },
        "outputId": "ea9cb194-6a04-4c78-bd5e-d13d53a51e87"
      },
      "source": [
        "from google.colab import drive\n",
        "drive.mount('/content/drive')"
      ],
      "execution_count": 1,
      "outputs": [
        {
          "output_type": "stream",
          "text": [
            "Mounted at /content/drive\n"
          ],
          "name": "stdout"
        }
      ]
    },
    {
      "cell_type": "markdown",
      "metadata": {
        "id": "Gv-tZoFjz2WD"
      },
      "source": [
        "Let us check for the version of installed tensorflow."
      ]
    },
    {
      "cell_type": "code",
      "metadata": {
        "id": "eiuUVBuDzzn9",
        "colab": {
          "base_uri": "https://localhost:8080/"
        },
        "outputId": "621c3476-8fc9-4a47-dc1b-c3207ad7d29c"
      },
      "source": [
        "# used to supress display of warnings\n",
        "import warnings\n",
        "\n",
        "# os is used to provide a way of using operating system dependent functionality\n",
        "# We use it for setting working folder\n",
        "import os\n",
        "\n",
        "# Pandas is used for data manipulation and analysis\n",
        "import pandas as pd \n",
        "\n",
        "# Numpy is used for large, multi-dimensional arrays and matrices, along with mathematical operators on these arrays\n",
        "import numpy as np\n",
        "\n",
        "# Matplotlib is a data visualization library for 2D plots of arrays, built on NumPy arrays \n",
        "# and designed to work with the broader SciPy stack\n",
        "import matplotlib.pyplot as plt\n",
        "%matplotlib inline\n",
        "from matplotlib import pyplot\n",
        "\n",
        "# Seaborn is based on matplotlib, which aids in drawing attractive and informative statistical graphics.\n",
        "import seaborn as sns\n",
        "import tensorflow \n",
        "print(tensorflow.__version__)"
      ],
      "execution_count": 2,
      "outputs": [
        {
          "output_type": "stream",
          "text": [
            "2.5.0\n"
          ],
          "name": "stdout"
        }
      ]
    },
    {
      "cell_type": "markdown",
      "metadata": {
        "id": "fze-aokU0ukH"
      },
      "source": [
        "## 2. Setting Options"
      ]
    },
    {
      "cell_type": "code",
      "metadata": {
        "id": "T3FALggG0xXa"
      },
      "source": [
        "# suppress display of warnings\n",
        "warnings.filterwarnings('ignore')\n",
        "\n",
        "# display all dataframe columns\n",
        "pd.options.display.max_columns = None\n",
        "\n",
        "# to set the limit to 3 decimals\n",
        "pd.options.display.float_format = '{:.7f}'.format\n",
        "\n",
        "# display all dataframe rows\n",
        "pd.options.display.max_rows = None"
      ],
      "execution_count": 3,
      "outputs": []
    },
    {
      "cell_type": "markdown",
      "metadata": {
        "id": "ZT1P1WdK1vfZ"
      },
      "source": [
        "## 3. Read Data"
      ]
    },
    {
      "cell_type": "markdown",
      "metadata": {
        "id": "-UOW6zwww7L1"
      },
      "source": [
        "### 3.1 Read the provided CSVs and check 5 random samples and shape to understand the datasets"
      ]
    },
    {
      "cell_type": "code",
      "metadata": {
        "id": "nxT2g284xF1W"
      },
      "source": [
        "product_df = pd.read_csv('/content/drive/MyDrive/R8 Internal Lab Files/product_data.csv') "
      ],
      "execution_count": 4,
      "outputs": []
    },
    {
      "cell_type": "code",
      "metadata": {
        "colab": {
          "base_uri": "https://localhost:8080/",
          "height": 372
        },
        "id": "xrqoZ1WOnZbf",
        "outputId": "271b678c-6b6f-4749-a9f5-9b3379abcf97"
      },
      "source": [
        "product_df.sample(5)"
      ],
      "execution_count": 5,
      "outputs": [
        {
          "output_type": "execute_result",
          "data": {
            "text/html": [
              "<div>\n",
              "<style scoped>\n",
              "    .dataframe tbody tr th:only-of-type {\n",
              "        vertical-align: middle;\n",
              "    }\n",
              "\n",
              "    .dataframe tbody tr th {\n",
              "        vertical-align: top;\n",
              "    }\n",
              "\n",
              "    .dataframe thead th {\n",
              "        text-align: right;\n",
              "    }\n",
              "</style>\n",
              "<table border=\"1\" class=\"dataframe\">\n",
              "  <thead>\n",
              "    <tr style=\"text-align: right;\">\n",
              "      <th></th>\n",
              "      <th>asin</th>\n",
              "      <th>brand</th>\n",
              "      <th>title</th>\n",
              "      <th>url</th>\n",
              "      <th>image</th>\n",
              "      <th>rating</th>\n",
              "      <th>reviewUrl</th>\n",
              "      <th>totalReviews</th>\n",
              "      <th>price</th>\n",
              "      <th>originalPrice</th>\n",
              "    </tr>\n",
              "  </thead>\n",
              "  <tbody>\n",
              "    <tr>\n",
              "      <th>676</th>\n",
              "      <td>B07XJ5RSX3</td>\n",
              "      <td>Motorola</td>\n",
              "      <td>Motorola Moto E6 Smartphone with 16GB Memory, ...</td>\n",
              "      <td>https://www.amazon.com/Motorola-Moto-Smartphon...</td>\n",
              "      <td>https://m.media-amazon.com/images/I/81X3J941Cy...</td>\n",
              "      <td>5.0000000</td>\n",
              "      <td>https://www.amazon.com/product-reviews/B07XJ5RSX3</td>\n",
              "      <td>1</td>\n",
              "      <td>99.9900000</td>\n",
              "      <td>0.0000000</td>\n",
              "    </tr>\n",
              "    <tr>\n",
              "      <th>205</th>\n",
              "      <td>B06XGLHP8V</td>\n",
              "      <td>Apple</td>\n",
              "      <td>Apple iPhone 7 Plus, GSM Unlocked, 128GB - Ros...</td>\n",
              "      <td>https://www.amazon.com/Apple-iPhone-Plus-Unloc...</td>\n",
              "      <td>https://m.media-amazon.com/images/I/51SEopmY8H...</td>\n",
              "      <td>3.5000000</td>\n",
              "      <td>https://www.amazon.com/product-reviews/B06XGLHP8V</td>\n",
              "      <td>83</td>\n",
              "      <td>288.0000000</td>\n",
              "      <td>0.0000000</td>\n",
              "    </tr>\n",
              "    <tr>\n",
              "      <th>679</th>\n",
              "      <td>B07XVNDQMR</td>\n",
              "      <td>OnePlus</td>\n",
              "      <td>OnePlus 6T A6013 Dual Sim 128GB/8GB (Mirror Bl...</td>\n",
              "      <td>https://www.amazon.com/OnePlus-A6013-128GB-Mir...</td>\n",
              "      <td>https://m.media-amazon.com/images/I/61aFHNJdl9...</td>\n",
              "      <td>4.4000000</td>\n",
              "      <td>https://www.amazon.com/product-reviews/B07XVNDQMR</td>\n",
              "      <td>31</td>\n",
              "      <td>339.9500000</td>\n",
              "      <td>0.0000000</td>\n",
              "    </tr>\n",
              "    <tr>\n",
              "      <th>41</th>\n",
              "      <td>B00CEKXJ3Y</td>\n",
              "      <td>Samsung</td>\n",
              "      <td>Samsung Galaxy S4, Black Mist 16GB (Sprint)</td>\n",
              "      <td>https://www.amazon.com/Samsung-Galaxy-S4-Black...</td>\n",
              "      <td>https://m.media-amazon.com/images/I/71s9fDfT7U...</td>\n",
              "      <td>3.5000000</td>\n",
              "      <td>https://www.amazon.com/product-reviews/B00CEKXJ3Y</td>\n",
              "      <td>561</td>\n",
              "      <td>0.0000000</td>\n",
              "      <td>0.0000000</td>\n",
              "    </tr>\n",
              "    <tr>\n",
              "      <th>278</th>\n",
              "      <td>B074VFRKZG</td>\n",
              "      <td>Motorola</td>\n",
              "      <td>Motorola Moto X4 Factory Unlocked Phone - 32GB...</td>\n",
              "      <td>https://www.amazon.com/Motorola-Moto-Factory-U...</td>\n",
              "      <td>https://m.media-amazon.com/images/I/7159Jihtgg...</td>\n",
              "      <td>4.1000000</td>\n",
              "      <td>https://www.amazon.com/product-reviews/B074VFRKZG</td>\n",
              "      <td>184</td>\n",
              "      <td>261.8400000</td>\n",
              "      <td>0.0000000</td>\n",
              "    </tr>\n",
              "  </tbody>\n",
              "</table>\n",
              "</div>"
            ],
            "text/plain": [
              "           asin     brand                                              title  \\\n",
              "676  B07XJ5RSX3  Motorola  Motorola Moto E6 Smartphone with 16GB Memory, ...   \n",
              "205  B06XGLHP8V     Apple  Apple iPhone 7 Plus, GSM Unlocked, 128GB - Ros...   \n",
              "679  B07XVNDQMR   OnePlus  OnePlus 6T A6013 Dual Sim 128GB/8GB (Mirror Bl...   \n",
              "41   B00CEKXJ3Y   Samsung        Samsung Galaxy S4, Black Mist 16GB (Sprint)   \n",
              "278  B074VFRKZG  Motorola  Motorola Moto X4 Factory Unlocked Phone - 32GB...   \n",
              "\n",
              "                                                   url  \\\n",
              "676  https://www.amazon.com/Motorola-Moto-Smartphon...   \n",
              "205  https://www.amazon.com/Apple-iPhone-Plus-Unloc...   \n",
              "679  https://www.amazon.com/OnePlus-A6013-128GB-Mir...   \n",
              "41   https://www.amazon.com/Samsung-Galaxy-S4-Black...   \n",
              "278  https://www.amazon.com/Motorola-Moto-Factory-U...   \n",
              "\n",
              "                                                 image    rating  \\\n",
              "676  https://m.media-amazon.com/images/I/81X3J941Cy... 5.0000000   \n",
              "205  https://m.media-amazon.com/images/I/51SEopmY8H... 3.5000000   \n",
              "679  https://m.media-amazon.com/images/I/61aFHNJdl9... 4.4000000   \n",
              "41   https://m.media-amazon.com/images/I/71s9fDfT7U... 3.5000000   \n",
              "278  https://m.media-amazon.com/images/I/7159Jihtgg... 4.1000000   \n",
              "\n",
              "                                             reviewUrl  totalReviews  \\\n",
              "676  https://www.amazon.com/product-reviews/B07XJ5RSX3             1   \n",
              "205  https://www.amazon.com/product-reviews/B06XGLHP8V            83   \n",
              "679  https://www.amazon.com/product-reviews/B07XVNDQMR            31   \n",
              "41   https://www.amazon.com/product-reviews/B00CEKXJ3Y           561   \n",
              "278  https://www.amazon.com/product-reviews/B074VFRKZG           184   \n",
              "\n",
              "          price  originalPrice  \n",
              "676  99.9900000      0.0000000  \n",
              "205 288.0000000      0.0000000  \n",
              "679 339.9500000      0.0000000  \n",
              "41    0.0000000      0.0000000  \n",
              "278 261.8400000      0.0000000  "
            ]
          },
          "metadata": {
            "tags": []
          },
          "execution_count": 5
        }
      ]
    },
    {
      "cell_type": "code",
      "metadata": {
        "id": "GRjG44fRxGIq"
      },
      "source": [
        "review_df = pd.read_csv('/content/drive/MyDrive/R8 Internal Lab Files/reviews.csv')"
      ],
      "execution_count": 6,
      "outputs": []
    },
    {
      "cell_type": "code",
      "metadata": {
        "colab": {
          "base_uri": "https://localhost:8080/",
          "height": 204
        },
        "id": "0p_dGIpYnZ80",
        "outputId": "4e7b6e4c-e4a0-41f2-9c32-19e2a0578940"
      },
      "source": [
        "review_df.sample(5)"
      ],
      "execution_count": 7,
      "outputs": [
        {
          "output_type": "execute_result",
          "data": {
            "text/html": [
              "<div>\n",
              "<style scoped>\n",
              "    .dataframe tbody tr th:only-of-type {\n",
              "        vertical-align: middle;\n",
              "    }\n",
              "\n",
              "    .dataframe tbody tr th {\n",
              "        vertical-align: top;\n",
              "    }\n",
              "\n",
              "    .dataframe thead th {\n",
              "        text-align: right;\n",
              "    }\n",
              "</style>\n",
              "<table border=\"1\" class=\"dataframe\">\n",
              "  <thead>\n",
              "    <tr style=\"text-align: right;\">\n",
              "      <th></th>\n",
              "      <th>asin</th>\n",
              "      <th>name</th>\n",
              "      <th>rating</th>\n",
              "      <th>date</th>\n",
              "      <th>verified</th>\n",
              "      <th>title</th>\n",
              "      <th>body</th>\n",
              "      <th>helpfulVotes</th>\n",
              "    </tr>\n",
              "  </thead>\n",
              "  <tbody>\n",
              "    <tr>\n",
              "      <th>22597</th>\n",
              "      <td>B01D53A7KG</td>\n",
              "      <td>Jerome Sebrasky</td>\n",
              "      <td>5</td>\n",
              "      <td>May 17, 2017</td>\n",
              "      <td>True</td>\n",
              "      <td>Five Stars</td>\n",
              "      <td>Love it....</td>\n",
              "      <td>nan</td>\n",
              "    </tr>\n",
              "    <tr>\n",
              "      <th>5718</th>\n",
              "      <td>B00CGIULGC</td>\n",
              "      <td>Katie R. Baker</td>\n",
              "      <td>3</td>\n",
              "      <td>November 6, 2015</td>\n",
              "      <td>True</td>\n",
              "      <td>I like the phone but</td>\n",
              "      <td>I like the phone but, I just received the phon...</td>\n",
              "      <td>3.0000000</td>\n",
              "    </tr>\n",
              "    <tr>\n",
              "      <th>917</th>\n",
              "      <td>B0046REOWS</td>\n",
              "      <td>TLM</td>\n",
              "      <td>4</td>\n",
              "      <td>October 30, 2011</td>\n",
              "      <td>False</td>\n",
              "      <td>I am a 6 year user of Net10</td>\n",
              "      <td>I am shocked to read the one star reviews abou...</td>\n",
              "      <td>14.0000000</td>\n",
              "    </tr>\n",
              "    <tr>\n",
              "      <th>21613</th>\n",
              "      <td>B01CYYYRNK</td>\n",
              "      <td>KM</td>\n",
              "      <td>5</td>\n",
              "      <td>April 14, 2018</td>\n",
              "      <td>True</td>\n",
              "      <td>Just what I need at a good price.</td>\n",
              "      <td>I needed to replace my edge 6 but wasn't looki...</td>\n",
              "      <td>2.0000000</td>\n",
              "    </tr>\n",
              "    <tr>\n",
              "      <th>32330</th>\n",
              "      <td>B06XS2GWFC</td>\n",
              "      <td>luis pagan</td>\n",
              "      <td>5</td>\n",
              "      <td>June 9, 2017</td>\n",
              "      <td>True</td>\n",
              "      <td>Five Stars</td>\n",
              "      <td>Excellent phone</td>\n",
              "      <td>5.0000000</td>\n",
              "    </tr>\n",
              "  </tbody>\n",
              "</table>\n",
              "</div>"
            ],
            "text/plain": [
              "             asin             name  rating              date  verified  \\\n",
              "22597  B01D53A7KG  Jerome Sebrasky       5      May 17, 2017      True   \n",
              "5718   B00CGIULGC   Katie R. Baker       3  November 6, 2015      True   \n",
              "917    B0046REOWS              TLM       4  October 30, 2011     False   \n",
              "21613  B01CYYYRNK               KM       5    April 14, 2018      True   \n",
              "32330  B06XS2GWFC       luis pagan       5      June 9, 2017      True   \n",
              "\n",
              "                                   title  \\\n",
              "22597                         Five Stars   \n",
              "5718                I like the phone but   \n",
              "917          I am a 6 year user of Net10   \n",
              "21613  Just what I need at a good price.   \n",
              "32330                         Five Stars   \n",
              "\n",
              "                                                    body  helpfulVotes  \n",
              "22597                                        Love it....           nan  \n",
              "5718   I like the phone but, I just received the phon...     3.0000000  \n",
              "917    I am shocked to read the one star reviews abou...    14.0000000  \n",
              "21613  I needed to replace my edge 6 but wasn't looki...     2.0000000  \n",
              "32330                                    Excellent phone     5.0000000  "
            ]
          },
          "metadata": {
            "tags": []
          },
          "execution_count": 7
        }
      ]
    },
    {
      "cell_type": "code",
      "metadata": {
        "id": "31Lpa0JznYPs"
      },
      "source": [
        ""
      ],
      "execution_count": 7,
      "outputs": []
    },
    {
      "cell_type": "markdown",
      "metadata": {
        "id": "rED6DbDBKTjM"
      },
      "source": [
        "## 4.  Data Analysis and EDA"
      ]
    },
    {
      "cell_type": "markdown",
      "metadata": {
        "id": "awlqmp40xMfc"
      },
      "source": [
        "### 4.1 Drop unnecessary columns like 'url', 'image' from the product_data"
      ]
    },
    {
      "cell_type": "code",
      "metadata": {
        "id": "VT4d-6TCxZCm",
        "colab": {
          "base_uri": "https://localhost:8080/"
        },
        "outputId": "7a3af1c7-ca84-4ec9-aab3-a1c7a4e15c1d"
      },
      "source": [
        "product_df.columns"
      ],
      "execution_count": 8,
      "outputs": [
        {
          "output_type": "execute_result",
          "data": {
            "text/plain": [
              "Index(['asin', 'brand', 'title', 'url', 'image', 'rating', 'reviewUrl',\n",
              "       'totalReviews', 'price', 'originalPrice'],\n",
              "      dtype='object')"
            ]
          },
          "metadata": {
            "tags": []
          },
          "execution_count": 8
        }
      ]
    },
    {
      "cell_type": "code",
      "metadata": {
        "colab": {
          "base_uri": "https://localhost:8080/"
        },
        "id": "Lgl5pbU-prXx",
        "outputId": "ee8a3d83-b246-4efb-ef9b-4f801f562e20"
      },
      "source": [
        "product_dff = product_df.drop(columns=['url','image','reviewUrl'])\n",
        "product_dff.columns"
      ],
      "execution_count": 9,
      "outputs": [
        {
          "output_type": "execute_result",
          "data": {
            "text/plain": [
              "Index(['asin', 'brand', 'title', 'rating', 'totalReviews', 'price',\n",
              "       'originalPrice'],\n",
              "      dtype='object')"
            ]
          },
          "metadata": {
            "tags": []
          },
          "execution_count": 9
        }
      ]
    },
    {
      "cell_type": "markdown",
      "metadata": {
        "id": "Zk0WW5D5xZK9"
      },
      "source": [
        "### 4.2 Check statistical summary of both datasets. Note:- Include both numerical and object type columns."
      ]
    },
    {
      "cell_type": "code",
      "metadata": {
        "id": "ylwcqQpcx_Tl",
        "colab": {
          "base_uri": "https://localhost:8080/",
          "height": 296
        },
        "outputId": "0c2a285a-28be-483c-fea6-1e138ad041bb"
      },
      "source": [
        "product_dff.describe()"
      ],
      "execution_count": 10,
      "outputs": [
        {
          "output_type": "execute_result",
          "data": {
            "text/html": [
              "<div>\n",
              "<style scoped>\n",
              "    .dataframe tbody tr th:only-of-type {\n",
              "        vertical-align: middle;\n",
              "    }\n",
              "\n",
              "    .dataframe tbody tr th {\n",
              "        vertical-align: top;\n",
              "    }\n",
              "\n",
              "    .dataframe thead th {\n",
              "        text-align: right;\n",
              "    }\n",
              "</style>\n",
              "<table border=\"1\" class=\"dataframe\">\n",
              "  <thead>\n",
              "    <tr style=\"text-align: right;\">\n",
              "      <th></th>\n",
              "      <th>rating</th>\n",
              "      <th>totalReviews</th>\n",
              "      <th>price</th>\n",
              "      <th>originalPrice</th>\n",
              "    </tr>\n",
              "  </thead>\n",
              "  <tbody>\n",
              "    <tr>\n",
              "      <th>count</th>\n",
              "      <td>720.0000000</td>\n",
              "      <td>720.0000000</td>\n",
              "      <td>720.0000000</td>\n",
              "      <td>720.0000000</td>\n",
              "    </tr>\n",
              "    <tr>\n",
              "      <th>mean</th>\n",
              "      <td>3.7137500</td>\n",
              "      <td>105.6791667</td>\n",
              "      <td>234.9489306</td>\n",
              "      <td>63.6907778</td>\n",
              "    </tr>\n",
              "    <tr>\n",
              "      <th>std</th>\n",
              "      <td>0.7160138</td>\n",
              "      <td>167.6011014</td>\n",
              "      <td>200.0084407</td>\n",
              "      <td>172.4053696</td>\n",
              "    </tr>\n",
              "    <tr>\n",
              "      <th>min</th>\n",
              "      <td>1.0000000</td>\n",
              "      <td>1.0000000</td>\n",
              "      <td>0.0000000</td>\n",
              "      <td>0.0000000</td>\n",
              "    </tr>\n",
              "    <tr>\n",
              "      <th>25%</th>\n",
              "      <td>3.3000000</td>\n",
              "      <td>7.0000000</td>\n",
              "      <td>97.5125000</td>\n",
              "      <td>0.0000000</td>\n",
              "    </tr>\n",
              "    <tr>\n",
              "      <th>50%</th>\n",
              "      <td>3.8000000</td>\n",
              "      <td>32.0000000</td>\n",
              "      <td>188.9750000</td>\n",
              "      <td>0.0000000</td>\n",
              "    </tr>\n",
              "    <tr>\n",
              "      <th>75%</th>\n",
              "      <td>4.1000000</td>\n",
              "      <td>122.2500000</td>\n",
              "      <td>336.7250000</td>\n",
              "      <td>0.0000000</td>\n",
              "    </tr>\n",
              "    <tr>\n",
              "      <th>max</th>\n",
              "      <td>5.0000000</td>\n",
              "      <td>983.0000000</td>\n",
              "      <td>999.9900000</td>\n",
              "      <td>999.9900000</td>\n",
              "    </tr>\n",
              "  </tbody>\n",
              "</table>\n",
              "</div>"
            ],
            "text/plain": [
              "           rating  totalReviews       price  originalPrice\n",
              "count 720.0000000   720.0000000 720.0000000    720.0000000\n",
              "mean    3.7137500   105.6791667 234.9489306     63.6907778\n",
              "std     0.7160138   167.6011014 200.0084407    172.4053696\n",
              "min     1.0000000     1.0000000   0.0000000      0.0000000\n",
              "25%     3.3000000     7.0000000  97.5125000      0.0000000\n",
              "50%     3.8000000    32.0000000 188.9750000      0.0000000\n",
              "75%     4.1000000   122.2500000 336.7250000      0.0000000\n",
              "max     5.0000000   983.0000000 999.9900000    999.9900000"
            ]
          },
          "metadata": {
            "tags": []
          },
          "execution_count": 10
        }
      ]
    },
    {
      "cell_type": "code",
      "metadata": {
        "id": "WFaDkvIjyDtG",
        "colab": {
          "base_uri": "https://localhost:8080/",
          "height": 172
        },
        "outputId": "a2d75431-cae8-41d0-9ba6-78121318539d"
      },
      "source": [
        "product_dff.describe(include='object')"
      ],
      "execution_count": 11,
      "outputs": [
        {
          "output_type": "execute_result",
          "data": {
            "text/html": [
              "<div>\n",
              "<style scoped>\n",
              "    .dataframe tbody tr th:only-of-type {\n",
              "        vertical-align: middle;\n",
              "    }\n",
              "\n",
              "    .dataframe tbody tr th {\n",
              "        vertical-align: top;\n",
              "    }\n",
              "\n",
              "    .dataframe thead th {\n",
              "        text-align: right;\n",
              "    }\n",
              "</style>\n",
              "<table border=\"1\" class=\"dataframe\">\n",
              "  <thead>\n",
              "    <tr style=\"text-align: right;\">\n",
              "      <th></th>\n",
              "      <th>asin</th>\n",
              "      <th>brand</th>\n",
              "      <th>title</th>\n",
              "    </tr>\n",
              "  </thead>\n",
              "  <tbody>\n",
              "    <tr>\n",
              "      <th>count</th>\n",
              "      <td>720</td>\n",
              "      <td>716</td>\n",
              "      <td>720</td>\n",
              "    </tr>\n",
              "    <tr>\n",
              "      <th>unique</th>\n",
              "      <td>720</td>\n",
              "      <td>10</td>\n",
              "      <td>718</td>\n",
              "    </tr>\n",
              "    <tr>\n",
              "      <th>top</th>\n",
              "      <td>B01J63ODA4</td>\n",
              "      <td>Samsung</td>\n",
              "      <td>Apple iPhone 6S, 64GB, Rose Gold - For AT&amp;T / ...</td>\n",
              "    </tr>\n",
              "    <tr>\n",
              "      <th>freq</th>\n",
              "      <td>1</td>\n",
              "      <td>346</td>\n",
              "      <td>2</td>\n",
              "    </tr>\n",
              "  </tbody>\n",
              "</table>\n",
              "</div>"
            ],
            "text/plain": [
              "              asin    brand                                              title\n",
              "count          720      716                                                720\n",
              "unique         720       10                                                718\n",
              "top     B01J63ODA4  Samsung  Apple iPhone 6S, 64GB, Rose Gold - For AT&T / ...\n",
              "freq             1      346                                                  2"
            ]
          },
          "metadata": {
            "tags": []
          },
          "execution_count": 11
        }
      ]
    },
    {
      "cell_type": "code",
      "metadata": {
        "id": "Ddkn_hJmyKNb",
        "colab": {
          "base_uri": "https://localhost:8080/",
          "height": 80
        },
        "outputId": "604a90b2-e065-43f8-d04c-ae468be2cf3f"
      },
      "source": [
        "review_df[review_df['helpfulVotes']==990]"
      ],
      "execution_count": 12,
      "outputs": [
        {
          "output_type": "execute_result",
          "data": {
            "text/html": [
              "<div>\n",
              "<style scoped>\n",
              "    .dataframe tbody tr th:only-of-type {\n",
              "        vertical-align: middle;\n",
              "    }\n",
              "\n",
              "    .dataframe tbody tr th {\n",
              "        vertical-align: top;\n",
              "    }\n",
              "\n",
              "    .dataframe thead th {\n",
              "        text-align: right;\n",
              "    }\n",
              "</style>\n",
              "<table border=\"1\" class=\"dataframe\">\n",
              "  <thead>\n",
              "    <tr style=\"text-align: right;\">\n",
              "      <th></th>\n",
              "      <th>asin</th>\n",
              "      <th>name</th>\n",
              "      <th>rating</th>\n",
              "      <th>date</th>\n",
              "      <th>verified</th>\n",
              "      <th>title</th>\n",
              "      <th>body</th>\n",
              "      <th>helpfulVotes</th>\n",
              "    </tr>\n",
              "  </thead>\n",
              "  <tbody>\n",
              "    <tr>\n",
              "      <th>24467</th>\n",
              "      <td>B01GXAT0CE</td>\n",
              "      <td>Jake</td>\n",
              "      <td>1</td>\n",
              "      <td>May 1, 2017</td>\n",
              "      <td>True</td>\n",
              "      <td>It seems like it has been stolen</td>\n",
              "      <td>The product came in a beaten up box, came lock...</td>\n",
              "      <td>990.0000000</td>\n",
              "    </tr>\n",
              "  </tbody>\n",
              "</table>\n",
              "</div>"
            ],
            "text/plain": [
              "             asin  name  rating         date  verified  \\\n",
              "24467  B01GXAT0CE  Jake       1  May 1, 2017      True   \n",
              "\n",
              "                                  title  \\\n",
              "24467  It seems like it has been stolen   \n",
              "\n",
              "                                                    body  helpfulVotes  \n",
              "24467  The product came in a beaten up box, came lock...   990.0000000  "
            ]
          },
          "metadata": {
            "tags": []
          },
          "execution_count": 12
        }
      ]
    },
    {
      "cell_type": "code",
      "metadata": {
        "colab": {
          "base_uri": "https://localhost:8080/",
          "height": 172
        },
        "id": "miylgolNsPw8",
        "outputId": "6564dd55-6a4b-46a7-85c5-9a0b35e8ea3e"
      },
      "source": [
        "review_df.describe(include='object')"
      ],
      "execution_count": 13,
      "outputs": [
        {
          "output_type": "execute_result",
          "data": {
            "text/html": [
              "<div>\n",
              "<style scoped>\n",
              "    .dataframe tbody tr th:only-of-type {\n",
              "        vertical-align: middle;\n",
              "    }\n",
              "\n",
              "    .dataframe tbody tr th {\n",
              "        vertical-align: top;\n",
              "    }\n",
              "\n",
              "    .dataframe thead th {\n",
              "        text-align: right;\n",
              "    }\n",
              "</style>\n",
              "<table border=\"1\" class=\"dataframe\">\n",
              "  <thead>\n",
              "    <tr style=\"text-align: right;\">\n",
              "      <th></th>\n",
              "      <th>asin</th>\n",
              "      <th>name</th>\n",
              "      <th>date</th>\n",
              "      <th>title</th>\n",
              "      <th>body</th>\n",
              "    </tr>\n",
              "  </thead>\n",
              "  <tbody>\n",
              "    <tr>\n",
              "      <th>count</th>\n",
              "      <td>67986</td>\n",
              "      <td>67984</td>\n",
              "      <td>67986</td>\n",
              "      <td>67972</td>\n",
              "      <td>67965</td>\n",
              "    </tr>\n",
              "    <tr>\n",
              "      <th>unique</th>\n",
              "      <td>720</td>\n",
              "      <td>47323</td>\n",
              "      <td>2983</td>\n",
              "      <td>41489</td>\n",
              "      <td>59811</td>\n",
              "    </tr>\n",
              "    <tr>\n",
              "      <th>top</th>\n",
              "      <td>B00F2SKPIM</td>\n",
              "      <td>Amazon Customer</td>\n",
              "      <td>December 11, 2019</td>\n",
              "      <td>Five Stars</td>\n",
              "      <td>Good</td>\n",
              "    </tr>\n",
              "    <tr>\n",
              "      <th>freq</th>\n",
              "      <td>981</td>\n",
              "      <td>6507</td>\n",
              "      <td>234</td>\n",
              "      <td>6043</td>\n",
              "      <td>303</td>\n",
              "    </tr>\n",
              "  </tbody>\n",
              "</table>\n",
              "</div>"
            ],
            "text/plain": [
              "              asin             name               date       title   body\n",
              "count        67986            67984              67986       67972  67965\n",
              "unique         720            47323               2983       41489  59811\n",
              "top     B00F2SKPIM  Amazon Customer  December 11, 2019  Five Stars   Good\n",
              "freq           981             6507                234        6043    303"
            ]
          },
          "metadata": {
            "tags": []
          },
          "execution_count": 13
        }
      ]
    },
    {
      "cell_type": "markdown",
      "metadata": {
        "id": "cSdGfadUyEdU"
      },
      "source": [
        "### 4.3 From the above statistical summary, write inferences like count of unique products, top brand, top title, range of rating, price range, etc"
      ]
    },
    {
      "cell_type": "markdown",
      "metadata": {
        "id": "9NMzyItvtgcN"
      },
      "source": [
        "- We have details of 720 items/products. The top brand is Samsung\n",
        "- There are no duplicate asin id \n",
        "- To title is Apple iphone 6s\n",
        "- Rating ranges from 1 to 5. Mean rating is 3.71\n",
        "- Price ranges from 0 to 999.99 with 235 as mean price value\n",
        "- There is negative review with 990 helpful votes, we can analyse it in more detail\n"
      ]
    },
    {
      "cell_type": "markdown",
      "metadata": {
        "id": "XMv_hXyxJKZK"
      },
      "source": [
        "### 4.4 Analyze the distribution of ratings and other categorical features like brand, etc"
      ]
    },
    {
      "cell_type": "code",
      "metadata": {
        "id": "oEhjSsMcyirD",
        "colab": {
          "base_uri": "https://localhost:8080/",
          "height": 279
        },
        "outputId": "d4c4b8b6-6964-4139-860d-ac148292237d"
      },
      "source": [
        "sns.distplot(product_dff['rating']);"
      ],
      "execution_count": 14,
      "outputs": [
        {
          "output_type": "display_data",
          "data": {
            "image/png": "[encoded data removed]",
            "text/plain": [
              "<Figure size 432x288 with 1 Axes>"
            ]
          },
          "metadata": {
            "tags": [],
            "needs_background": "light"
          }
        }
      ]
    },
    {
      "cell_type": "code",
      "metadata": {
        "colab": {
          "base_uri": "https://localhost:8080/",
          "height": 356
        },
        "id": "r3x87ohlGwBe",
        "outputId": "87f44ce5-faff-474c-c762-77249505dcb7"
      },
      "source": [
        "product_dff['brand'].value_counts().plot(kind='bar',figsize = (10,5));"
      ],
      "execution_count": 15,
      "outputs": [
        {
          "output_type": "display_data",
          "data": {
            "image/png": "[encoded data removed]",
            "text/plain": [
              "<Figure size 720x360 with 1 Axes>"
            ]
          },
          "metadata": {
            "tags": [],
            "needs_background": "light"
          }
        }
      ]
    },
    {
      "cell_type": "code",
      "metadata": {
        "colab": {
          "base_uri": "https://localhost:8080/",
          "height": 411
        },
        "id": "EOC88zw5vw9m",
        "outputId": "26e539c5-71fe-4cfc-b7d0-77d37dc6c0bf"
      },
      "source": [
        "product_dff['brand'].value_counts().plot(kind='pie', autopct = '%1.0f%%', figsize = (12,7));"
      ],
      "execution_count": 16,
      "outputs": [
        {
          "output_type": "display_data",
          "data": {
            "image/png": "[encoded data removed]",
            "text/plain": [
              "<Figure size 864x504 with 1 Axes>"
            ]
          },
          "metadata": {
            "tags": []
          }
        }
      ]
    },
    {
      "cell_type": "code",
      "metadata": {
        "colab": {
          "base_uri": "https://localhost:8080/",
          "height": 302
        },
        "id": "WU24Mhp-wtXR",
        "outputId": "e57adcb2-5d4b-48e0-c584-5e18c422b104"
      },
      "source": [
        "product_dff['brand'].value_counts().plot(kind='bar');"
      ],
      "execution_count": 17,
      "outputs": [
        {
          "output_type": "display_data",
          "data": {
            "image/png": "[encoded data removed]",
            "text/plain": [
              "<Figure size 432x288 with 1 Axes>"
            ]
          },
          "metadata": {
            "tags": [],
            "needs_background": "light"
          }
        }
      ]
    },
    {
      "cell_type": "markdown",
      "metadata": {
        "id": "jwZBGODgyi1a"
      },
      "source": [
        "### 4.5 Display average rating per brand"
      ]
    },
    {
      "cell_type": "code",
      "metadata": {
        "colab": {
          "base_uri": "https://localhost:8080/",
          "height": 204
        },
        "id": "8oR2lGfi4NI7",
        "outputId": "e4037015-fcb8-4b92-ab50-865574740764"
      },
      "source": [
        "product_dff.sample(5)"
      ],
      "execution_count": 18,
      "outputs": [
        {
          "output_type": "execute_result",
          "data": {
            "text/html": [
              "<div>\n",
              "<style scoped>\n",
              "    .dataframe tbody tr th:only-of-type {\n",
              "        vertical-align: middle;\n",
              "    }\n",
              "\n",
              "    .dataframe tbody tr th {\n",
              "        vertical-align: top;\n",
              "    }\n",
              "\n",
              "    .dataframe thead th {\n",
              "        text-align: right;\n",
              "    }\n",
              "</style>\n",
              "<table border=\"1\" class=\"dataframe\">\n",
              "  <thead>\n",
              "    <tr style=\"text-align: right;\">\n",
              "      <th></th>\n",
              "      <th>asin</th>\n",
              "      <th>brand</th>\n",
              "      <th>title</th>\n",
              "      <th>rating</th>\n",
              "      <th>totalReviews</th>\n",
              "      <th>price</th>\n",
              "      <th>originalPrice</th>\n",
              "    </tr>\n",
              "  </thead>\n",
              "  <tbody>\n",
              "    <tr>\n",
              "      <th>101</th>\n",
              "      <td>B010CK8O9Q</td>\n",
              "      <td>Sony</td>\n",
              "      <td>Sony Xperia Z3 Plus E6533 32GB Black 3G/4G, Du...</td>\n",
              "      <td>3.1000000</td>\n",
              "      <td>4</td>\n",
              "      <td>0.0000000</td>\n",
              "      <td>0.0000000</td>\n",
              "    </tr>\n",
              "    <tr>\n",
              "      <th>131</th>\n",
              "      <td>B01CYYYRNK</td>\n",
              "      <td>Samsung</td>\n",
              "      <td>Samsung Galaxy S7 SM-G930A AT&amp;T Unlocked Smart...</td>\n",
              "      <td>3.1000000</td>\n",
              "      <td>394</td>\n",
              "      <td>248.7000000</td>\n",
              "      <td>0.0000000</td>\n",
              "    </tr>\n",
              "    <tr>\n",
              "      <th>525</th>\n",
              "      <td>B07NP2Y82Q</td>\n",
              "      <td>Motorola</td>\n",
              "      <td>Motorola Moto G7+ Plus (64GB, 4GB RAM) Dual SI...</td>\n",
              "      <td>4.1000000</td>\n",
              "      <td>125</td>\n",
              "      <td>202.9900000</td>\n",
              "      <td>0.0000000</td>\n",
              "    </tr>\n",
              "    <tr>\n",
              "      <th>4</th>\n",
              "      <td>B001DCJAJG</td>\n",
              "      <td>Motorola</td>\n",
              "      <td>Motorola V365 no contract cellular phone AT&amp;T</td>\n",
              "      <td>3.1000000</td>\n",
              "      <td>12</td>\n",
              "      <td>149.9900000</td>\n",
              "      <td>0.0000000</td>\n",
              "    </tr>\n",
              "    <tr>\n",
              "      <th>594</th>\n",
              "      <td>B07R5ZYR77</td>\n",
              "      <td>Xiaomi</td>\n",
              "      <td>Xiaomi Mi 9 128GB + 6GB RAM - 48MP Ultra High ...</td>\n",
              "      <td>4.7000000</td>\n",
              "      <td>56</td>\n",
              "      <td>387.0000000</td>\n",
              "      <td>0.0000000</td>\n",
              "    </tr>\n",
              "  </tbody>\n",
              "</table>\n",
              "</div>"
            ],
            "text/plain": [
              "           asin     brand                                              title  \\\n",
              "101  B010CK8O9Q      Sony  Sony Xperia Z3 Plus E6533 32GB Black 3G/4G, Du...   \n",
              "131  B01CYYYRNK   Samsung  Samsung Galaxy S7 SM-G930A AT&T Unlocked Smart...   \n",
              "525  B07NP2Y82Q  Motorola  Motorola Moto G7+ Plus (64GB, 4GB RAM) Dual SI...   \n",
              "4    B001DCJAJG  Motorola      Motorola V365 no contract cellular phone AT&T   \n",
              "594  B07R5ZYR77    Xiaomi  Xiaomi Mi 9 128GB + 6GB RAM - 48MP Ultra High ...   \n",
              "\n",
              "       rating  totalReviews       price  originalPrice  \n",
              "101 3.1000000             4   0.0000000      0.0000000  \n",
              "131 3.1000000           394 248.7000000      0.0000000  \n",
              "525 4.1000000           125 202.9900000      0.0000000  \n",
              "4   3.1000000            12 149.9900000      0.0000000  \n",
              "594 4.7000000            56 387.0000000      0.0000000  "
            ]
          },
          "metadata": {
            "tags": []
          },
          "execution_count": 18
        }
      ]
    },
    {
      "cell_type": "code",
      "metadata": {
        "id": "OSBBiAv8yscd",
        "colab": {
          "base_uri": "https://localhost:8080/",
          "height": 265
        },
        "outputId": "15523b34-e4a3-4f69-e310-0e27dc157026"
      },
      "source": [
        "product_dff.groupby(by='brand')['rating'].mean().sort_values().plot(kind='barh');"
      ],
      "execution_count": 19,
      "outputs": [
        {
          "output_type": "display_data",
          "data": {
            "image/png": "[encoded data removed]",
            "text/plain": [
              "<Figure size 432x288 with 1 Axes>"
            ]
          },
          "metadata": {
            "tags": [],
            "needs_background": "light"
          }
        }
      ]
    },
    {
      "cell_type": "markdown",
      "metadata": {
        "id": "vUXuEwlgyvB0"
      },
      "source": [
        "### 4.6 Display average price per brand"
      ]
    },
    {
      "cell_type": "code",
      "metadata": {
        "colab": {
          "base_uri": "https://localhost:8080/",
          "height": 265
        },
        "id": "8O8nziASxbnp",
        "outputId": "1ad76f27-a410-4a4a-92d8-c9664c810bc5"
      },
      "source": [
        "product_dff.groupby(by='brand')['price'].mean().sort_values().plot(kind='barh');"
      ],
      "execution_count": 20,
      "outputs": [
        {
          "output_type": "display_data",
          "data": {
            "image/png": "[encoded data removed]",
            "text/plain": [
              "<Figure size 432x288 with 1 Axes>"
            ]
          },
          "metadata": {
            "tags": [],
            "needs_background": "light"
          }
        }
      ]
    },
    {
      "cell_type": "markdown",
      "metadata": {
        "id": "U0JfwL74y3a-"
      },
      "source": [
        "### 4.7 Display average 'totalReviews' per brand"
      ]
    },
    {
      "cell_type": "code",
      "metadata": {
        "id": "wfzciNxqzBYu",
        "colab": {
          "base_uri": "https://localhost:8080/",
          "height": 265
        },
        "outputId": "0d4663d7-4afb-46ba-abd9-30d9932a2792"
      },
      "source": [
        "product_dff.groupby(by='brand')['totalReviews'].mean().sort_values().plot(kind='barh');"
      ],
      "execution_count": 21,
      "outputs": [
        {
          "output_type": "display_data",
          "data": {
            "image/png": "[encoded data removed]",
            "text/plain": [
              "<Figure size 432x288 with 1 Axes>"
            ]
          },
          "metadata": {
            "tags": [],
            "needs_background": "light"
          }
        }
      ]
    },
    {
      "cell_type": "markdown",
      "metadata": {
        "id": "x_fxI7OAeDUM"
      },
      "source": [
        "### 4.8 Merge two datasets using 'asin' and check the shape of the final dataset"
      ]
    },
    {
      "cell_type": "code",
      "metadata": {
        "colab": {
          "base_uri": "https://localhost:8080/",
          "height": 111
        },
        "id": "D5Qq5zay0Ha4",
        "outputId": "c75c33f8-851c-49df-d397-d51141b7e25c"
      },
      "source": [
        "review_df.head(2)"
      ],
      "execution_count": 22,
      "outputs": [
        {
          "output_type": "execute_result",
          "data": {
            "text/html": [
              "<div>\n",
              "<style scoped>\n",
              "    .dataframe tbody tr th:only-of-type {\n",
              "        vertical-align: middle;\n",
              "    }\n",
              "\n",
              "    .dataframe tbody tr th {\n",
              "        vertical-align: top;\n",
              "    }\n",
              "\n",
              "    .dataframe thead th {\n",
              "        text-align: right;\n",
              "    }\n",
              "</style>\n",
              "<table border=\"1\" class=\"dataframe\">\n",
              "  <thead>\n",
              "    <tr style=\"text-align: right;\">\n",
              "      <th></th>\n",
              "      <th>asin</th>\n",
              "      <th>name</th>\n",
              "      <th>rating</th>\n",
              "      <th>date</th>\n",
              "      <th>verified</th>\n",
              "      <th>title</th>\n",
              "      <th>body</th>\n",
              "      <th>helpfulVotes</th>\n",
              "    </tr>\n",
              "  </thead>\n",
              "  <tbody>\n",
              "    <tr>\n",
              "      <th>0</th>\n",
              "      <td>B0000SX2UC</td>\n",
              "      <td>Janet</td>\n",
              "      <td>3</td>\n",
              "      <td>October 11, 2005</td>\n",
              "      <td>False</td>\n",
              "      <td>Def not best, but not worst</td>\n",
              "      <td>I had the Samsung A600 for awhile which is abs...</td>\n",
              "      <td>1.0000000</td>\n",
              "    </tr>\n",
              "    <tr>\n",
              "      <th>1</th>\n",
              "      <td>B0000SX2UC</td>\n",
              "      <td>Luke Wyatt</td>\n",
              "      <td>1</td>\n",
              "      <td>January 7, 2004</td>\n",
              "      <td>False</td>\n",
              "      <td>Text Messaging Doesn't Work</td>\n",
              "      <td>Due to a software issue between Nokia and Spri...</td>\n",
              "      <td>17.0000000</td>\n",
              "    </tr>\n",
              "  </tbody>\n",
              "</table>\n",
              "</div>"
            ],
            "text/plain": [
              "         asin        name  rating              date  verified  \\\n",
              "0  B0000SX2UC       Janet       3  October 11, 2005     False   \n",
              "1  B0000SX2UC  Luke Wyatt       1   January 7, 2004     False   \n",
              "\n",
              "                         title  \\\n",
              "0  Def not best, but not worst   \n",
              "1  Text Messaging Doesn't Work   \n",
              "\n",
              "                                                body  helpfulVotes  \n",
              "0  I had the Samsung A600 for awhile which is abs...     1.0000000  \n",
              "1  Due to a software issue between Nokia and Spri...    17.0000000  "
            ]
          },
          "metadata": {
            "tags": []
          },
          "execution_count": 22
        }
      ]
    },
    {
      "cell_type": "code",
      "metadata": {
        "colab": {
          "base_uri": "https://localhost:8080/"
        },
        "id": "LEKYHee1zKFn",
        "outputId": "b4f904b0-11dc-4798-e913-3b3c229c379f"
      },
      "source": [
        "review_df.shape"
      ],
      "execution_count": 23,
      "outputs": [
        {
          "output_type": "execute_result",
          "data": {
            "text/plain": [
              "(67986, 8)"
            ]
          },
          "metadata": {
            "tags": []
          },
          "execution_count": 23
        }
      ]
    },
    {
      "cell_type": "code",
      "metadata": {
        "colab": {
          "base_uri": "https://localhost:8080/"
        },
        "id": "J2PFFFac0Kqw",
        "outputId": "15ea87ff-e48d-4b24-aaa3-547e38a37f03"
      },
      "source": [
        "dff = pd.merge(review_df,product_dff,how='left',on='asin')\n",
        "dff.shape"
      ],
      "execution_count": 24,
      "outputs": [
        {
          "output_type": "execute_result",
          "data": {
            "text/plain": [
              "(67986, 14)"
            ]
          },
          "metadata": {
            "tags": []
          },
          "execution_count": 24
        }
      ]
    },
    {
      "cell_type": "code",
      "metadata": {
        "colab": {
          "base_uri": "https://localhost:8080/",
          "height": 145
        },
        "id": "Au_ZFGxr0riP",
        "outputId": "56bd792d-4da8-49bc-d803-04306cac3eda"
      },
      "source": [
        "dff.head(2)"
      ],
      "execution_count": 25,
      "outputs": [
        {
          "output_type": "execute_result",
          "data": {
            "text/html": [
              "<div>\n",
              "<style scoped>\n",
              "    .dataframe tbody tr th:only-of-type {\n",
              "        vertical-align: middle;\n",
              "    }\n",
              "\n",
              "    .dataframe tbody tr th {\n",
              "        vertical-align: top;\n",
              "    }\n",
              "\n",
              "    .dataframe thead th {\n",
              "        text-align: right;\n",
              "    }\n",
              "</style>\n",
              "<table border=\"1\" class=\"dataframe\">\n",
              "  <thead>\n",
              "    <tr style=\"text-align: right;\">\n",
              "      <th></th>\n",
              "      <th>asin</th>\n",
              "      <th>name</th>\n",
              "      <th>rating_x</th>\n",
              "      <th>date</th>\n",
              "      <th>verified</th>\n",
              "      <th>title_x</th>\n",
              "      <th>body</th>\n",
              "      <th>helpfulVotes</th>\n",
              "      <th>brand</th>\n",
              "      <th>title_y</th>\n",
              "      <th>rating_y</th>\n",
              "      <th>totalReviews</th>\n",
              "      <th>price</th>\n",
              "      <th>originalPrice</th>\n",
              "    </tr>\n",
              "  </thead>\n",
              "  <tbody>\n",
              "    <tr>\n",
              "      <th>0</th>\n",
              "      <td>B0000SX2UC</td>\n",
              "      <td>Janet</td>\n",
              "      <td>3</td>\n",
              "      <td>October 11, 2005</td>\n",
              "      <td>False</td>\n",
              "      <td>Def not best, but not worst</td>\n",
              "      <td>I had the Samsung A600 for awhile which is abs...</td>\n",
              "      <td>1.0000000</td>\n",
              "      <td>NaN</td>\n",
              "      <td>Dual-Band / Tri-Mode Sprint PCS Phone w/ Voice...</td>\n",
              "      <td>3.0000000</td>\n",
              "      <td>14</td>\n",
              "      <td>0.0000000</td>\n",
              "      <td>0.0000000</td>\n",
              "    </tr>\n",
              "    <tr>\n",
              "      <th>1</th>\n",
              "      <td>B0000SX2UC</td>\n",
              "      <td>Luke Wyatt</td>\n",
              "      <td>1</td>\n",
              "      <td>January 7, 2004</td>\n",
              "      <td>False</td>\n",
              "      <td>Text Messaging Doesn't Work</td>\n",
              "      <td>Due to a software issue between Nokia and Spri...</td>\n",
              "      <td>17.0000000</td>\n",
              "      <td>NaN</td>\n",
              "      <td>Dual-Band / Tri-Mode Sprint PCS Phone w/ Voice...</td>\n",
              "      <td>3.0000000</td>\n",
              "      <td>14</td>\n",
              "      <td>0.0000000</td>\n",
              "      <td>0.0000000</td>\n",
              "    </tr>\n",
              "  </tbody>\n",
              "</table>\n",
              "</div>"
            ],
            "text/plain": [
              "         asin        name  rating_x              date  verified  \\\n",
              "0  B0000SX2UC       Janet         3  October 11, 2005     False   \n",
              "1  B0000SX2UC  Luke Wyatt         1   January 7, 2004     False   \n",
              "\n",
              "                       title_x  \\\n",
              "0  Def not best, but not worst   \n",
              "1  Text Messaging Doesn't Work   \n",
              "\n",
              "                                                body  helpfulVotes brand  \\\n",
              "0  I had the Samsung A600 for awhile which is abs...     1.0000000   NaN   \n",
              "1  Due to a software issue between Nokia and Spri...    17.0000000   NaN   \n",
              "\n",
              "                                             title_y  rating_y  totalReviews  \\\n",
              "0  Dual-Band / Tri-Mode Sprint PCS Phone w/ Voice... 3.0000000            14   \n",
              "1  Dual-Band / Tri-Mode Sprint PCS Phone w/ Voice... 3.0000000            14   \n",
              "\n",
              "      price  originalPrice  \n",
              "0 0.0000000      0.0000000  \n",
              "1 0.0000000      0.0000000  "
            ]
          },
          "metadata": {
            "tags": []
          },
          "execution_count": 25
        }
      ]
    },
    {
      "cell_type": "code",
      "metadata": {
        "id": "svpHfWI9zNAP",
        "colab": {
          "base_uri": "https://localhost:8080/"
        },
        "outputId": "88b36744-e641-4bee-978d-13b7730e2578"
      },
      "source": [
        "df = pd.merge(review_df, product_dff, how='left',left_on='asin',right_on='asin')\n",
        "df.shape"
      ],
      "execution_count": 26,
      "outputs": [
        {
          "output_type": "execute_result",
          "data": {
            "text/plain": [
              "(67986, 14)"
            ]
          },
          "metadata": {
            "tags": []
          },
          "execution_count": 26
        }
      ]
    },
    {
      "cell_type": "code",
      "metadata": {
        "colab": {
          "base_uri": "https://localhost:8080/",
          "height": 145
        },
        "id": "9BuSN6ss0uKs",
        "outputId": "d283d1ee-a498-4df1-9513-fe57736d132d"
      },
      "source": [
        "df.head(2)"
      ],
      "execution_count": 27,
      "outputs": [
        {
          "output_type": "execute_result",
          "data": {
            "text/html": [
              "<div>\n",
              "<style scoped>\n",
              "    .dataframe tbody tr th:only-of-type {\n",
              "        vertical-align: middle;\n",
              "    }\n",
              "\n",
              "    .dataframe tbody tr th {\n",
              "        vertical-align: top;\n",
              "    }\n",
              "\n",
              "    .dataframe thead th {\n",
              "        text-align: right;\n",
              "    }\n",
              "</style>\n",
              "<table border=\"1\" class=\"dataframe\">\n",
              "  <thead>\n",
              "    <tr style=\"text-align: right;\">\n",
              "      <th></th>\n",
              "      <th>asin</th>\n",
              "      <th>name</th>\n",
              "      <th>rating_x</th>\n",
              "      <th>date</th>\n",
              "      <th>verified</th>\n",
              "      <th>title_x</th>\n",
              "      <th>body</th>\n",
              "      <th>helpfulVotes</th>\n",
              "      <th>brand</th>\n",
              "      <th>title_y</th>\n",
              "      <th>rating_y</th>\n",
              "      <th>totalReviews</th>\n",
              "      <th>price</th>\n",
              "      <th>originalPrice</th>\n",
              "    </tr>\n",
              "  </thead>\n",
              "  <tbody>\n",
              "    <tr>\n",
              "      <th>0</th>\n",
              "      <td>B0000SX2UC</td>\n",
              "      <td>Janet</td>\n",
              "      <td>3</td>\n",
              "      <td>October 11, 2005</td>\n",
              "      <td>False</td>\n",
              "      <td>Def not best, but not worst</td>\n",
              "      <td>I had the Samsung A600 for awhile which is abs...</td>\n",
              "      <td>1.0000000</td>\n",
              "      <td>NaN</td>\n",
              "      <td>Dual-Band / Tri-Mode Sprint PCS Phone w/ Voice...</td>\n",
              "      <td>3.0000000</td>\n",
              "      <td>14</td>\n",
              "      <td>0.0000000</td>\n",
              "      <td>0.0000000</td>\n",
              "    </tr>\n",
              "    <tr>\n",
              "      <th>1</th>\n",
              "      <td>B0000SX2UC</td>\n",
              "      <td>Luke Wyatt</td>\n",
              "      <td>1</td>\n",
              "      <td>January 7, 2004</td>\n",
              "      <td>False</td>\n",
              "      <td>Text Messaging Doesn't Work</td>\n",
              "      <td>Due to a software issue between Nokia and Spri...</td>\n",
              "      <td>17.0000000</td>\n",
              "      <td>NaN</td>\n",
              "      <td>Dual-Band / Tri-Mode Sprint PCS Phone w/ Voice...</td>\n",
              "      <td>3.0000000</td>\n",
              "      <td>14</td>\n",
              "      <td>0.0000000</td>\n",
              "      <td>0.0000000</td>\n",
              "    </tr>\n",
              "  </tbody>\n",
              "</table>\n",
              "</div>"
            ],
            "text/plain": [
              "         asin        name  rating_x              date  verified  \\\n",
              "0  B0000SX2UC       Janet         3  October 11, 2005     False   \n",
              "1  B0000SX2UC  Luke Wyatt         1   January 7, 2004     False   \n",
              "\n",
              "                       title_x  \\\n",
              "0  Def not best, but not worst   \n",
              "1  Text Messaging Doesn't Work   \n",
              "\n",
              "                                                body  helpfulVotes brand  \\\n",
              "0  I had the Samsung A600 for awhile which is abs...     1.0000000   NaN   \n",
              "1  Due to a software issue between Nokia and Spri...    17.0000000   NaN   \n",
              "\n",
              "                                             title_y  rating_y  totalReviews  \\\n",
              "0  Dual-Band / Tri-Mode Sprint PCS Phone w/ Voice... 3.0000000            14   \n",
              "1  Dual-Band / Tri-Mode Sprint PCS Phone w/ Voice... 3.0000000            14   \n",
              "\n",
              "      price  originalPrice  \n",
              "0 0.0000000      0.0000000  \n",
              "1 0.0000000      0.0000000  "
            ]
          },
          "metadata": {
            "tags": []
          },
          "execution_count": 27
        }
      ]
    },
    {
      "cell_type": "markdown",
      "metadata": {
        "id": "zdTfwlL7fYpq"
      },
      "source": [
        "### 4.9 Rename important features with appropriate names.\n",
        "Imortant features - \"rating_x\": \"user_rating\", \"title_x\": \"review_title\", \"title_y\": \"item_title\", \"rating_y\": \"overall_rating\""
      ]
    },
    {
      "cell_type": "code",
      "metadata": {
        "id": "KI-6FCkZztXM",
        "colab": {
          "base_uri": "https://localhost:8080/",
          "height": 145
        },
        "outputId": "67cf52e7-cfbf-4415-c3f4-520f506acbde"
      },
      "source": [
        "df.rename(columns={\"rating_x\": \"user_rating\", \"title_x\": \"review_title\",\"title_y\": \"item_title\",\"rating_y\":\"overall_rating\"},inplace=True)\n",
        "df.head(2)\n"
      ],
      "execution_count": 28,
      "outputs": [
        {
          "output_type": "execute_result",
          "data": {
            "text/html": [
              "<div>\n",
              "<style scoped>\n",
              "    .dataframe tbody tr th:only-of-type {\n",
              "        vertical-align: middle;\n",
              "    }\n",
              "\n",
              "    .dataframe tbody tr th {\n",
              "        vertical-align: top;\n",
              "    }\n",
              "\n",
              "    .dataframe thead th {\n",
              "        text-align: right;\n",
              "    }\n",
              "</style>\n",
              "<table border=\"1\" class=\"dataframe\">\n",
              "  <thead>\n",
              "    <tr style=\"text-align: right;\">\n",
              "      <th></th>\n",
              "      <th>asin</th>\n",
              "      <th>name</th>\n",
              "      <th>user_rating</th>\n",
              "      <th>date</th>\n",
              "      <th>verified</th>\n",
              "      <th>review_title</th>\n",
              "      <th>body</th>\n",
              "      <th>helpfulVotes</th>\n",
              "      <th>brand</th>\n",
              "      <th>item_title</th>\n",
              "      <th>overall_rating</th>\n",
              "      <th>totalReviews</th>\n",
              "      <th>price</th>\n",
              "      <th>originalPrice</th>\n",
              "    </tr>\n",
              "  </thead>\n",
              "  <tbody>\n",
              "    <tr>\n",
              "      <th>0</th>\n",
              "      <td>B0000SX2UC</td>\n",
              "      <td>Janet</td>\n",
              "      <td>3</td>\n",
              "      <td>October 11, 2005</td>\n",
              "      <td>False</td>\n",
              "      <td>Def not best, but not worst</td>\n",
              "      <td>I had the Samsung A600 for awhile which is abs...</td>\n",
              "      <td>1.0000000</td>\n",
              "      <td>NaN</td>\n",
              "      <td>Dual-Band / Tri-Mode Sprint PCS Phone w/ Voice...</td>\n",
              "      <td>3.0000000</td>\n",
              "      <td>14</td>\n",
              "      <td>0.0000000</td>\n",
              "      <td>0.0000000</td>\n",
              "    </tr>\n",
              "    <tr>\n",
              "      <th>1</th>\n",
              "      <td>B0000SX2UC</td>\n",
              "      <td>Luke Wyatt</td>\n",
              "      <td>1</td>\n",
              "      <td>January 7, 2004</td>\n",
              "      <td>False</td>\n",
              "      <td>Text Messaging Doesn't Work</td>\n",
              "      <td>Due to a software issue between Nokia and Spri...</td>\n",
              "      <td>17.0000000</td>\n",
              "      <td>NaN</td>\n",
              "      <td>Dual-Band / Tri-Mode Sprint PCS Phone w/ Voice...</td>\n",
              "      <td>3.0000000</td>\n",
              "      <td>14</td>\n",
              "      <td>0.0000000</td>\n",
              "      <td>0.0000000</td>\n",
              "    </tr>\n",
              "  </tbody>\n",
              "</table>\n",
              "</div>"
            ],
            "text/plain": [
              "         asin        name  user_rating              date  verified  \\\n",
              "0  B0000SX2UC       Janet            3  October 11, 2005     False   \n",
              "1  B0000SX2UC  Luke Wyatt            1   January 7, 2004     False   \n",
              "\n",
              "                  review_title  \\\n",
              "0  Def not best, but not worst   \n",
              "1  Text Messaging Doesn't Work   \n",
              "\n",
              "                                                body  helpfulVotes brand  \\\n",
              "0  I had the Samsung A600 for awhile which is abs...     1.0000000   NaN   \n",
              "1  Due to a software issue between Nokia and Spri...    17.0000000   NaN   \n",
              "\n",
              "                                          item_title  overall_rating  \\\n",
              "0  Dual-Band / Tri-Mode Sprint PCS Phone w/ Voice...       3.0000000   \n",
              "1  Dual-Band / Tri-Mode Sprint PCS Phone w/ Voice...       3.0000000   \n",
              "\n",
              "   totalReviews     price  originalPrice  \n",
              "0            14 0.0000000      0.0000000  \n",
              "1            14 0.0000000      0.0000000  "
            ]
          },
          "metadata": {
            "tags": []
          },
          "execution_count": 28
        }
      ]
    },
    {
      "cell_type": "markdown",
      "metadata": {
        "id": "hNHEElHszthc"
      },
      "source": [
        "### 4.10 Select rows having verified reviews and check the shape of the final dataset"
      ]
    },
    {
      "cell_type": "code",
      "metadata": {
        "id": "Jyav9_Zoz-rT",
        "colab": {
          "base_uri": "https://localhost:8080/"
        },
        "outputId": "84e33535-9ff7-4a66-e1b5-52a5b2772544"
      },
      "source": [
        "df['verified'].value_counts()"
      ],
      "execution_count": 29,
      "outputs": [
        {
          "output_type": "execute_result",
          "data": {
            "text/plain": [
              "True     61225\n",
              "False     6761\n",
              "Name: verified, dtype: int64"
            ]
          },
          "metadata": {
            "tags": []
          },
          "execution_count": 29
        }
      ]
    },
    {
      "cell_type": "code",
      "metadata": {
        "colab": {
          "base_uri": "https://localhost:8080/"
        },
        "id": "rltBDliY2yUZ",
        "outputId": "597b2ecf-56fe-4517-ff57-468bcf32c408"
      },
      "source": [
        "dff = df[df.verified==True]\n",
        "dff.shape"
      ],
      "execution_count": 30,
      "outputs": [
        {
          "output_type": "execute_result",
          "data": {
            "text/plain": [
              "(61225, 14)"
            ]
          },
          "metadata": {
            "tags": []
          },
          "execution_count": 30
        }
      ]
    },
    {
      "cell_type": "markdown",
      "metadata": {
        "id": "EpKusPjdz-2q"
      },
      "source": [
        "### 4.11 Check the number of reviews for various brands and report the brand that have highest number of reviews"
      ]
    },
    {
      "cell_type": "code",
      "metadata": {
        "colab": {
          "base_uri": "https://localhost:8080/",
          "height": 265
        },
        "id": "PumhLh_J45pJ",
        "outputId": "e110e25c-8ec0-4d27-f64b-db139a247c6b"
      },
      "source": [
        "dff.groupby(by='brand')['totalReviews'].count().sort_values().plot(kind='barh');"
      ],
      "execution_count": 31,
      "outputs": [
        {
          "output_type": "display_data",
          "data": {
            "image/png": "[encoded data removed]",
            "text/plain": [
              "<Figure size 432x288 with 1 Axes>"
            ]
          },
          "metadata": {
            "tags": [],
            "needs_background": "light"
          }
        }
      ]
    },
    {
      "cell_type": "code",
      "metadata": {
        "colab": {
          "base_uri": "https://localhost:8080/",
          "height": 265
        },
        "id": "4pWTBwLh47VQ",
        "outputId": "ab3cb019-51ce-4ef5-d359-f03c85018087"
      },
      "source": [
        "#Another way of identifying the top review brand\n",
        "dff['brand'].value_counts().sort_values().plot(kind='barh');"
      ],
      "execution_count": 32,
      "outputs": [
        {
          "output_type": "display_data",
          "data": {
            "image/png": "[encoded data removed]",
            "text/plain": [
              "<Figure size 432x288 with 1 Axes>"
            ]
          },
          "metadata": {
            "tags": [],
            "needs_background": "light"
          }
        }
      ]
    },
    {
      "cell_type": "markdown",
      "metadata": {
        "id": "gPGjMFE-0Q5k"
      },
      "source": [
        "### 4.12 Drop irrelevant columns and keep important features like 'brand','body','price','user_rating','review_title' for further analysis"
      ]
    },
    {
      "cell_type": "code",
      "metadata": {
        "id": "J_IvLN6e0e6z",
        "colab": {
          "base_uri": "https://localhost:8080/",
          "height": 111
        },
        "outputId": "0fbf4d63-537b-41ad-be6d-7793f103200c"
      },
      "source": [
        "df_final = dff[['brand','body','price','user_rating','review_title']]\n",
        "df_final.head(2)"
      ],
      "execution_count": 33,
      "outputs": [
        {
          "output_type": "execute_result",
          "data": {
            "text/html": [
              "<div>\n",
              "<style scoped>\n",
              "    .dataframe tbody tr th:only-of-type {\n",
              "        vertical-align: middle;\n",
              "    }\n",
              "\n",
              "    .dataframe tbody tr th {\n",
              "        vertical-align: top;\n",
              "    }\n",
              "\n",
              "    .dataframe thead th {\n",
              "        text-align: right;\n",
              "    }\n",
              "</style>\n",
              "<table border=\"1\" class=\"dataframe\">\n",
              "  <thead>\n",
              "    <tr style=\"text-align: right;\">\n",
              "      <th></th>\n",
              "      <th>brand</th>\n",
              "      <th>body</th>\n",
              "      <th>price</th>\n",
              "      <th>user_rating</th>\n",
              "      <th>review_title</th>\n",
              "    </tr>\n",
              "  </thead>\n",
              "  <tbody>\n",
              "    <tr>\n",
              "      <th>14</th>\n",
              "      <td>Motorola</td>\n",
              "      <td>DON'T BUY OUT OF SERVICE</td>\n",
              "      <td>49.9500000</td>\n",
              "      <td>1</td>\n",
              "      <td>Stupid phone</td>\n",
              "    </tr>\n",
              "    <tr>\n",
              "      <th>17</th>\n",
              "      <td>Motorola</td>\n",
              "      <td>1 star because the phones locked so I have to ...</td>\n",
              "      <td>49.9500000</td>\n",
              "      <td>1</td>\n",
              "      <td>Phones locked</td>\n",
              "    </tr>\n",
              "  </tbody>\n",
              "</table>\n",
              "</div>"
            ],
            "text/plain": [
              "       brand                                               body      price  \\\n",
              "14  Motorola                           DON'T BUY OUT OF SERVICE 49.9500000   \n",
              "17  Motorola  1 star because the phones locked so I have to ... 49.9500000   \n",
              "\n",
              "    user_rating   review_title  \n",
              "14            1   Stupid phone  \n",
              "17            1  Phones locked  "
            ]
          },
          "metadata": {
            "tags": []
          },
          "execution_count": 33
        }
      ]
    },
    {
      "cell_type": "markdown",
      "metadata": {
        "id": "Gzo_rVT60fDf"
      },
      "source": [
        "### 4.13 Perform univariate analysis. Check distribution of price, user_rating"
      ]
    },
    {
      "cell_type": "code",
      "metadata": {
        "id": "F3vzILxZ0t0L",
        "colab": {
          "base_uri": "https://localhost:8080/",
          "height": 279
        },
        "outputId": "fe50daec-7e57-4957-fe74-28c5c0a3344d"
      },
      "source": [
        "sns.distplot(df_final.price);"
      ],
      "execution_count": 34,
      "outputs": [
        {
          "output_type": "display_data",
          "data": {
            "image/png": "[encoded data removed]",
            "text/plain": [
              "<Figure size 432x288 with 1 Axes>"
            ]
          },
          "metadata": {
            "tags": [],
            "needs_background": "light"
          }
        }
      ]
    },
    {
      "cell_type": "code",
      "metadata": {
        "colab": {
          "base_uri": "https://localhost:8080/",
          "height": 369
        },
        "id": "M8sb3-6u7xcc",
        "outputId": "4a15207f-5bd0-43c5-b4cb-e6043681560d"
      },
      "source": [
        "sns.displot(df_final['price'], kind = 'kde');"
      ],
      "execution_count": 35,
      "outputs": [
        {
          "output_type": "display_data",
          "data": {
            "image/png": "[encoded data removed]",
            "text/plain": [
              "<Figure size 360x360 with 1 Axes>"
            ]
          },
          "metadata": {
            "tags": [],
            "needs_background": "light"
          }
        }
      ]
    },
    {
      "cell_type": "code",
      "metadata": {
        "colab": {
          "base_uri": "https://localhost:8080/",
          "height": 280
        },
        "id": "XUMzWu1r7IcJ",
        "outputId": "370a1693-8b28-4913-e798-de13d19d6198"
      },
      "source": [
        "sns.countplot(df_final['user_rating']);"
      ],
      "execution_count": 36,
      "outputs": [
        {
          "output_type": "display_data",
          "data": {
            "image/png": "[encoded data removed]",
            "text/plain": [
              "<Figure size 432x288 with 1 Axes>"
            ]
          },
          "metadata": {
            "tags": [],
            "needs_background": "light"
          }
        }
      ]
    },
    {
      "cell_type": "markdown",
      "metadata": {
        "id": "x0Y_kE9T0uAf"
      },
      "source": [
        "### 4.14 Create a new column called \"sentiment\". It should have value as 1 (positive) if the user_Rating is greater than 3, value as 0 (negative) if the user_Rating <= 3"
      ]
    },
    {
      "cell_type": "code",
      "metadata": {
        "id": "jGon-2xU1Ujb"
      },
      "source": [
        "df_final['sentiment'] =  df_final['user_rating'].apply(lambda x:1 if x > 3 else 0)"
      ],
      "execution_count": 37,
      "outputs": []
    },
    {
      "cell_type": "markdown",
      "metadata": {
        "id": "K4rxSZWp1VAb"
      },
      "source": [
        "### 4.15 Check frequency distribution of the 'sentiment'"
      ]
    },
    {
      "cell_type": "code",
      "metadata": {
        "id": "yt3gH7Iz1dVP",
        "colab": {
          "base_uri": "https://localhost:8080/"
        },
        "outputId": "2ff72b11-a12c-4517-b834-da7a08d2fc43"
      },
      "source": [
        "df_final['sentiment'].value_counts()"
      ],
      "execution_count": 38,
      "outputs": [
        {
          "output_type": "execute_result",
          "data": {
            "text/plain": [
              "1    42939\n",
              "0    18286\n",
              "Name: sentiment, dtype: int64"
            ]
          },
          "metadata": {
            "tags": []
          },
          "execution_count": 38
        }
      ]
    },
    {
      "cell_type": "code",
      "metadata": {
        "colab": {
          "base_uri": "https://localhost:8080/",
          "height": 279
        },
        "id": "VQmpsezF9QdP",
        "outputId": "6d13e826-0eec-4982-df16-85e0bfb527b8"
      },
      "source": [
        "sns.countplot(df_final.sentiment);"
      ],
      "execution_count": 39,
      "outputs": [
        {
          "output_type": "display_data",
          "data": {
            "image/png": "[encoded data removed]",
            "text/plain": [
              "<Figure size 432x288 with 1 Axes>"
            ]
          },
          "metadata": {
            "tags": [],
            "needs_background": "light"
          }
        }
      ]
    },
    {
      "cell_type": "markdown",
      "metadata": {
        "id": "rK0KMghP1ddb"
      },
      "source": [
        "### 4.16 Perform bivariate analysis. Check correlation/crosstab between features and write your inferences."
      ]
    },
    {
      "cell_type": "code",
      "metadata": {
        "colab": {
          "base_uri": "https://localhost:8080/",
          "height": 279
        },
        "id": "0Km_HYjWDTsO",
        "outputId": "ef4354e5-c5e6-4425-fd2d-896f90339c97"
      },
      "source": [
        "sns.boxplot(df_final.sentiment,df_final.price);"
      ],
      "execution_count": 40,
      "outputs": [
        {
          "output_type": "display_data",
          "data": {
            "image/png": "[encoded data removed]",
            "text/plain": [
              "<Figure size 432x288 with 1 Axes>"
            ]
          },
          "metadata": {
            "tags": [],
            "needs_background": "light"
          }
        }
      ]
    },
    {
      "cell_type": "code",
      "metadata": {
        "id": "scAV4fRg1nX0",
        "colab": {
          "base_uri": "https://localhost:8080/",
          "height": 388
        },
        "outputId": "6d497fa8-c1ce-4f9d-88d1-c5a5402839e6"
      },
      "source": [
        "pd.crosstab(df_final.brand,df_final.sentiment).apply(lambda r : r/r.sum(),axis=1)"
      ],
      "execution_count": 41,
      "outputs": [
        {
          "output_type": "execute_result",
          "data": {
            "text/html": [
              "<div>\n",
              "<style scoped>\n",
              "    .dataframe tbody tr th:only-of-type {\n",
              "        vertical-align: middle;\n",
              "    }\n",
              "\n",
              "    .dataframe tbody tr th {\n",
              "        vertical-align: top;\n",
              "    }\n",
              "\n",
              "    .dataframe thead th {\n",
              "        text-align: right;\n",
              "    }\n",
              "</style>\n",
              "<table border=\"1\" class=\"dataframe\">\n",
              "  <thead>\n",
              "    <tr style=\"text-align: right;\">\n",
              "      <th>sentiment</th>\n",
              "      <th>0</th>\n",
              "      <th>1</th>\n",
              "    </tr>\n",
              "    <tr>\n",
              "      <th>brand</th>\n",
              "      <th></th>\n",
              "      <th></th>\n",
              "    </tr>\n",
              "  </thead>\n",
              "  <tbody>\n",
              "    <tr>\n",
              "      <th>ASUS</th>\n",
              "      <td>0.3349515</td>\n",
              "      <td>0.6650485</td>\n",
              "    </tr>\n",
              "    <tr>\n",
              "      <th>Apple</th>\n",
              "      <td>0.3336751</td>\n",
              "      <td>0.6663249</td>\n",
              "    </tr>\n",
              "    <tr>\n",
              "      <th>Google</th>\n",
              "      <td>0.3196333</td>\n",
              "      <td>0.6803667</td>\n",
              "    </tr>\n",
              "    <tr>\n",
              "      <th>HUAWEI</th>\n",
              "      <td>0.1812779</td>\n",
              "      <td>0.8187221</td>\n",
              "    </tr>\n",
              "    <tr>\n",
              "      <th>Motorola</th>\n",
              "      <td>0.2877884</td>\n",
              "      <td>0.7122116</td>\n",
              "    </tr>\n",
              "    <tr>\n",
              "      <th>Nokia</th>\n",
              "      <td>0.3903239</td>\n",
              "      <td>0.6096761</td>\n",
              "    </tr>\n",
              "    <tr>\n",
              "      <th>OnePlus</th>\n",
              "      <td>0.1480263</td>\n",
              "      <td>0.8519737</td>\n",
              "    </tr>\n",
              "    <tr>\n",
              "      <th>Samsung</th>\n",
              "      <td>0.3062218</td>\n",
              "      <td>0.6937782</td>\n",
              "    </tr>\n",
              "    <tr>\n",
              "      <th>Sony</th>\n",
              "      <td>0.3266444</td>\n",
              "      <td>0.6733556</td>\n",
              "    </tr>\n",
              "    <tr>\n",
              "      <th>Xiaomi</th>\n",
              "      <td>0.1492750</td>\n",
              "      <td>0.8507250</td>\n",
              "    </tr>\n",
              "  </tbody>\n",
              "</table>\n",
              "</div>"
            ],
            "text/plain": [
              "sentiment         0         1\n",
              "brand                        \n",
              "ASUS      0.3349515 0.6650485\n",
              "Apple     0.3336751 0.6663249\n",
              "Google    0.3196333 0.6803667\n",
              "HUAWEI    0.1812779 0.8187221\n",
              "Motorola  0.2877884 0.7122116\n",
              "Nokia     0.3903239 0.6096761\n",
              "OnePlus   0.1480263 0.8519737\n",
              "Samsung   0.3062218 0.6937782\n",
              "Sony      0.3266444 0.6733556\n",
              "Xiaomi    0.1492750 0.8507250"
            ]
          },
          "metadata": {
            "tags": []
          },
          "execution_count": 41
        }
      ]
    },
    {
      "cell_type": "markdown",
      "metadata": {
        "id": "2Nzj7ZXVLakx"
      },
      "source": [
        "## 5. Text Preprocessing and Vectorization"
      ]
    },
    {
      "cell_type": "markdown",
      "metadata": {
        "id": "ZbC_RPndnlf3"
      },
      "source": [
        "We will analyze the 'body' and 'review_title' to gain more understanding.\n",
        "\n",
        "We will peform the below tasks\n",
        "\n",
        "- Convert the text into lowercase\n",
        "- Remove punctuation\n",
        "- Remove stopwords (English, from nltk corpus)\n",
        "- Remove other keywords like \"phone\" and brand name"
      ]
    },
    {
      "cell_type": "markdown",
      "metadata": {
        "id": "XnhMQsxz2DJH"
      },
      "source": [
        "### 5.1 Change the datatype of the 'body' column to 'str' and convert it into lowercase. Print any two samples and check the output."
      ]
    },
    {
      "cell_type": "code",
      "metadata": {
        "id": "1DbTf2yc2VOQ",
        "colab": {
          "base_uri": "https://localhost:8080/"
        },
        "outputId": "1b167b84-0c16-4dc8-ea53-20249818409d"
      },
      "source": [
        "df_final.dtypes"
      ],
      "execution_count": 42,
      "outputs": [
        {
          "output_type": "execute_result",
          "data": {
            "text/plain": [
              "brand            object\n",
              "body             object\n",
              "price           float64\n",
              "user_rating       int64\n",
              "review_title     object\n",
              "sentiment         int64\n",
              "dtype: object"
            ]
          },
          "metadata": {
            "tags": []
          },
          "execution_count": 42
        }
      ]
    },
    {
      "cell_type": "code",
      "metadata": {
        "colab": {
          "base_uri": "https://localhost:8080/"
        },
        "id": "z6tsolHzHl8Q",
        "outputId": "dcef8638-3c04-4450-a7fc-5b92cc3d6d67"
      },
      "source": [
        "df_final['body'].astype('str').head(2)"
      ],
      "execution_count": 43,
      "outputs": [
        {
          "output_type": "execute_result",
          "data": {
            "text/plain": [
              "14                             DON'T BUY OUT OF SERVICE\n",
              "17    1 star because the phones locked so I have to ...\n",
              "Name: body, dtype: object"
            ]
          },
          "metadata": {
            "tags": []
          },
          "execution_count": 43
        }
      ]
    },
    {
      "cell_type": "code",
      "metadata": {
        "colab": {
          "base_uri": "https://localhost:8080/"
        },
        "id": "paa9p9X5KPSk",
        "outputId": "5ad4fa8f-9b4d-4177-a853-e10c7e7c42b6"
      },
      "source": [
        "df_final['body'].astype('string').head(2)"
      ],
      "execution_count": 44,
      "outputs": [
        {
          "output_type": "execute_result",
          "data": {
            "text/plain": [
              "14                             DON'T BUY OUT OF SERVICE\n",
              "17    1 star because the phones locked so I have to ...\n",
              "Name: body, dtype: string"
            ]
          },
          "metadata": {
            "tags": []
          },
          "execution_count": 44
        }
      ]
    },
    {
      "cell_type": "code",
      "metadata": {
        "id": "FI_NFEjAJ1ZF"
      },
      "source": [
        "# df['text'] = df['body'].str.lower()\n",
        "# df['text'].head()\n",
        "#---------------------------------------------------------------------\n",
        "# df_final['text'] = df_final['body'].astype('str')\n",
        "# df_final['text'] = df_final['text'].apply(lambda x:x.lower())\n",
        "\n",
        "#----------------------------------------------------------------------\n",
        "# To change the dataype to string\n",
        "\n",
        "# df_final['text'] = df_final['text'].astype('string')\n",
        "# df_final['text'].head()"
      ],
      "execution_count": 45,
      "outputs": []
    },
    {
      "cell_type": "code",
      "metadata": {
        "id": "bUHWNUTIXkZZ"
      },
      "source": [
        "df_final['text'] = df_final['body'].astype('string')\n",
        "df_final['text'] = df_final['text'].str.lower()"
      ],
      "execution_count": 46,
      "outputs": []
    },
    {
      "cell_type": "markdown",
      "metadata": {
        "id": "lsppV0X52VXf"
      },
      "source": [
        "### 5.2 Remove punctuations from the lowercased 'body' column and display at least two samples."
      ]
    },
    {
      "cell_type": "code",
      "metadata": {
        "id": "lQXKc8et2onG"
      },
      "source": [
        "#^removes everything except \\w=> [A-Za-z0-9_] and \\s retains white spaces\n",
        "df_final['text'] = df_final['text'].str.replace('[^\\w\\s]','')"
      ],
      "execution_count": 47,
      "outputs": []
    },
    {
      "cell_type": "code",
      "metadata": {
        "id": "OyyKDIY5OhHT"
      },
      "source": [
        "# second method\n",
        "# import string\n",
        "# df_final['keywords'] =  df_final['keywords'].str.translate(str.marketrans(\"\",\"\",string.punctuation))"
      ],
      "execution_count": 48,
      "outputs": []
    },
    {
      "cell_type": "code",
      "metadata": {
        "id": "1d-DhX_e2yQ-",
        "colab": {
          "base_uri": "https://localhost:8080/"
        },
        "outputId": "e0122114-348b-4e95-8b6c-9e65c61e3740"
      },
      "source": [
        "df_final['text'].head()"
      ],
      "execution_count": 49,
      "outputs": [
        {
          "output_type": "execute_result",
          "data": {
            "text/plain": [
              "14                              dont buy out of service\n",
              "17    1 star because the phones locked so i have to ...\n",
              "18    the product has been very good i had used this...\n",
              "21    i bought this phone to replace an lg phone tha...\n",
              "22    i purchased this phone for my att phone replac...\n",
              "Name: text, dtype: string"
            ]
          },
          "metadata": {
            "tags": []
          },
          "execution_count": 49
        }
      ]
    },
    {
      "cell_type": "markdown",
      "metadata": {
        "id": "8Zk7ja6A2owN"
      },
      "source": [
        "### 5.3 Remove stop words from the above pre-processed 'body' column and display at least two samples."
      ]
    },
    {
      "cell_type": "code",
      "metadata": {
        "colab": {
          "base_uri": "https://localhost:8080/"
        },
        "id": "_e70n3h8Qsfr",
        "outputId": "fe732073-ee8a-43da-e653-61213f968dba"
      },
      "source": [
        "import nltk\n",
        "from nltk.corpus import stopwords\n",
        "nltk.download('stopwords')"
      ],
      "execution_count": 50,
      "outputs": [
        {
          "output_type": "stream",
          "text": [
            "[nltk_data] Downloading package stopwords to /root/nltk_data...\n",
            "[nltk_data]   Unzipping corpora/stopwords.zip.\n"
          ],
          "name": "stdout"
        },
        {
          "output_type": "execute_result",
          "data": {
            "text/plain": [
              "True"
            ]
          },
          "metadata": {
            "tags": []
          },
          "execution_count": 50
        }
      ]
    },
    {
      "cell_type": "code",
      "metadata": {
        "id": "iF3BSMFLRTnB"
      },
      "source": [
        "# stopwords = stopwords.words('english')\n",
        "# stopwords\n",
        "stop_words = set(stopwords.words('english'))"
      ],
      "execution_count": 51,
      "outputs": []
    },
    {
      "cell_type": "code",
      "metadata": {
        "colab": {
          "base_uri": "https://localhost:8080/"
        },
        "id": "ToCE_XEHS3bC",
        "outputId": "8a80dda0-e2fc-411b-8a0c-f9d4e4d56408"
      },
      "source": [
        "df_final['text'] = df_final['text'].astype('str')\n",
        "df_final['text'] = df_final['text'].apply(lambda words: ' '.join(w for w in words.split() if w not in stop_words))\n",
        "df_final['text'].head()"
      ],
      "execution_count": 52,
      "outputs": [
        {
          "output_type": "execute_result",
          "data": {
            "text/plain": [
              "14                                     dont buy service\n",
              "17      1 star phones locked pay additional fees unlock\n",
              "18    product good used cell phone one projects work...\n",
              "21    bought phone replace lg phone didnt like expec...\n",
              "22    purchased phone att phone replacement even tho...\n",
              "Name: text, dtype: object"
            ]
          },
          "metadata": {
            "tags": []
          },
          "execution_count": 52
        }
      ]
    },
    {
      "cell_type": "markdown",
      "metadata": {
        "id": "TQNvXay42yaQ"
      },
      "source": [
        "### 5.4 Apply lemmatisation on the above preprocessed text and display a few samples"
      ]
    },
    {
      "cell_type": "code",
      "metadata": {
        "id": "oQ1VfFaa3DET",
        "colab": {
          "base_uri": "https://localhost:8080/"
        },
        "outputId": "32524320-d46f-4175-a020-65cfe1fa1d00"
      },
      "source": [
        "import nltk\n",
        "nltk.download('wordnet')"
      ],
      "execution_count": 53,
      "outputs": [
        {
          "output_type": "stream",
          "text": [
            "[nltk_data] Downloading package wordnet to /root/nltk_data...\n",
            "[nltk_data]   Unzipping corpora/wordnet.zip.\n"
          ],
          "name": "stdout"
        },
        {
          "output_type": "execute_result",
          "data": {
            "text/plain": [
              "True"
            ]
          },
          "metadata": {
            "tags": []
          },
          "execution_count": 53
        }
      ]
    },
    {
      "cell_type": "code",
      "metadata": {
        "id": "Ha38VvjAYpaT"
      },
      "source": [
        "w_tokenizer = nltk.tokenize.WhitespaceTokenizer()\n",
        "lemmatizer = nltk.stem.WordNetLemmatizer()"
      ],
      "execution_count": 54,
      "outputs": []
    },
    {
      "cell_type": "code",
      "metadata": {
        "colab": {
          "base_uri": "https://localhost:8080/",
          "height": 36
        },
        "id": "zJn-NT1ZbdW3",
        "outputId": "b76ae675-8417-4d43-f7c5-35d6f3e699a3"
      },
      "source": [
        "lemmatizer.lemmatize(\"rocksssss\")"
      ],
      "execution_count": 55,
      "outputs": [
        {
          "output_type": "execute_result",
          "data": {
            "application/vnd.google.colaboratory.intrinsic+json": {
              "type": "string"
            },
            "text/plain": [
              "'rock'"
            ]
          },
          "metadata": {
            "tags": []
          },
          "execution_count": 55
        }
      ]
    },
    {
      "cell_type": "code",
      "metadata": {
        "id": "Nwt4r9VnY5fu"
      },
      "source": [
        "def lemmatize_text(text):\n",
        "  return [lemmatizer.lemmatize(w) for w in w_tokenizer.tokenize(text)]"
      ],
      "execution_count": 56,
      "outputs": []
    },
    {
      "cell_type": "code",
      "metadata": {
        "colab": {
          "base_uri": "https://localhost:8080/"
        },
        "id": "QkNP_tobaB5u",
        "outputId": "b340fdae-9f7e-4ca7-e3f7-dabfcab415af"
      },
      "source": [
        "df_final['lemm'] = df_final['text'].apply(lemmatize_text)\n",
        "df_final['lemm'].head(2)"
      ],
      "execution_count": 57,
      "outputs": [
        {
          "output_type": "execute_result",
          "data": {
            "text/plain": [
              "14                                 [dont, buy, service]\n",
              "17    [1, star, phone, locked, pay, additional, fee,...\n",
              "Name: lemm, dtype: object"
            ]
          },
          "metadata": {
            "tags": []
          },
          "execution_count": 57
        }
      ]
    },
    {
      "cell_type": "markdown",
      "metadata": {
        "id": "OzweL_fA3DiN"
      },
      "source": [
        "### 5.5 Check most common and rare words in the processed text\n",
        "- We can also write a function to check word frequency of the text (Optional)"
      ]
    },
    {
      "cell_type": "code",
      "metadata": {
        "id": "MzIAyX3N6lz5",
        "colab": {
          "base_uri": "https://localhost:8080/"
        },
        "outputId": "04eb465e-d0d8-49ac-d791-ed7c2650c522"
      },
      "source": [
        "#Optional\n",
        "from collections import Counter\n",
        "cnt = Counter()\n",
        "for text in df_final[\"text\"].values:\n",
        "    for word in text.split():\n",
        "        cnt[word] += 1\n",
        "        \n",
        "cnt.most_common(10)"
      ],
      "execution_count": 69,
      "outputs": [
        {
          "output_type": "execute_result",
          "data": {
            "text/plain": [
              "[('phone', 74458),\n",
              " ('great', 16986),\n",
              " ('good', 13415),\n",
              " ('battery', 11641),\n",
              " ('screen', 10377),\n",
              " ('like', 10360),\n",
              " ('one', 10035),\n",
              " ('new', 9498),\n",
              " ('use', 8755),\n",
              " ('get', 7566)]"
            ]
          },
          "metadata": {
            "tags": []
          },
          "execution_count": 69
        }
      ]
    },
    {
      "cell_type": "code",
      "metadata": {
        "colab": {
          "base_uri": "https://localhost:8080/"
        },
        "id": "PID2Ow3ViTPf",
        "outputId": "9fbd9279-bca6-40f0-d26c-7acf3cf45965"
      },
      "source": [
        "rare_words = 10\n",
        "cnt.most_common()[:-rare_words-1:1]"
      ],
      "execution_count": 70,
      "outputs": [
        {
          "output_type": "execute_result",
          "data": {
            "text/plain": [
              "[('phone', 74458),\n",
              " ('great', 16986),\n",
              " ('good', 13415),\n",
              " ('battery', 11641),\n",
              " ('screen', 10377),\n",
              " ('like', 10360),\n",
              " ('one', 10035),\n",
              " ('new', 9498),\n",
              " ('use', 8755),\n",
              " ('get', 7566),\n",
              " ('works', 7464),\n",
              " ('would', 7317),\n",
              " ('love', 7215),\n",
              " ('camera', 7079),\n",
              " ('price', 6133),\n",
              " ('phones', 6070),\n",
              " ('work', 6046),\n",
              " ('im', 5861),\n",
              " ('really', 5641),\n",
              " ('time', 5489),\n",
              " ('dont', 5320),\n",
              " ('samsung', 5315),\n",
              " ('even', 5111),\n",
              " ('well', 5001),\n",
              " ('bought', 4938),\n",
              " ('life', 4899),\n",
              " ('got', 4848),\n",
              " ('sim', 4809),\n",
              " ('buy', 4526),\n",
              " ('card', 4516),\n",
              " ('back', 4500),\n",
              " ('fast', 4382),\n",
              " ('quality', 4244),\n",
              " ('also', 4211),\n",
              " ('still', 4169),\n",
              " ('came', 4118),\n",
              " ('better', 4104),\n",
              " ('used', 4100),\n",
              " ('ive', 3961),\n",
              " ('product', 3867),\n",
              " ('much', 3864),\n",
              " ('2', 3770),\n",
              " ('far', 3682),\n",
              " ('nice', 3679),\n",
              " ('day', 3631),\n",
              " ('apps', 3559),\n",
              " ('verizon', 3546),\n",
              " ('android', 3515),\n",
              " ('everything', 3457),\n",
              " ('best', 3264),\n",
              " ('unlocked', 3246),\n",
              " ('first', 3244),\n",
              " ('cant', 3237),\n",
              " ('charger', 3213),\n",
              " ('doesnt', 3193),\n",
              " ('could', 3169),\n",
              " ('using', 3144),\n",
              " ('iphone', 3106),\n",
              " ('charge', 3089),\n",
              " ('working', 3062),\n",
              " ('happy', 3052),\n",
              " ('amazon', 3042),\n",
              " ('didnt', 3035),\n",
              " ('device', 2974),\n",
              " ('note', 2931),\n",
              " ('need', 2862),\n",
              " ('old', 2838),\n",
              " ('3', 2837),\n",
              " ('excellent', 2791),\n",
              " ('days', 2755),\n",
              " ('att', 2732),\n",
              " ('perfect', 2719),\n",
              " ('issues', 2682),\n",
              " ('problem', 2675),\n",
              " ('seller', 2649),\n",
              " ('purchase', 2644),\n",
              " ('go', 2614),\n",
              " ('months', 2606),\n",
              " ('condition', 2572),\n",
              " ('never', 2517),\n",
              " ('amazing', 2517),\n",
              " ('little', 2498),\n",
              " ('features', 2485),\n",
              " ('case', 2483),\n",
              " ('galaxy', 2482),\n",
              " ('money', 2452),\n",
              " ('easy', 2451),\n",
              " ('brand', 2424),\n",
              " ('since', 2397),\n",
              " ('service', 2395),\n",
              " ('want', 2389),\n",
              " ('recommend', 2346),\n",
              " ('issue', 2346),\n",
              " ('received', 2341),\n",
              " ('looks', 2328),\n",
              " ('without', 2257),\n",
              " ('update', 2238),\n",
              " ('thing', 2218),\n",
              " ('fine', 2217),\n",
              " ('make', 2202),\n",
              " ('box', 2168),\n",
              " ('two', 2159),\n",
              " ('another', 2158),\n",
              " ('last', 2130),\n",
              " ('5', 2128),\n",
              " ('worked', 2118),\n",
              " ('charging', 2118),\n",
              " ('bad', 2105),\n",
              " ('problems', 2069),\n",
              " ('google', 2042),\n",
              " ('lot', 2020),\n",
              " ('calls', 2017),\n",
              " ('return', 2015),\n",
              " ('way', 2011),\n",
              " ('ever', 1992),\n",
              " ('however', 1969),\n",
              " ('pretty', 1962),\n",
              " ('know', 1954),\n",
              " ('call', 1944),\n",
              " ('awesome', 1944),\n",
              " ('4', 1936),\n",
              " ('able', 1900),\n",
              " ('though', 1888),\n",
              " ('say', 1873),\n",
              " ('getting', 1856),\n",
              " ('purchased', 1839),\n",
              " ('refurbished', 1828),\n",
              " ('many', 1822),\n",
              " ('said', 1809),\n",
              " ('take', 1803),\n",
              " ('wifi', 1802),\n",
              " ('see', 1785),\n",
              " ('tmobile', 1755),\n",
              " ('us', 1751),\n",
              " ('right', 1748),\n",
              " ('long', 1743),\n",
              " ('big', 1724),\n",
              " ('going', 1702),\n",
              " ('moto', 1701),\n",
              " ('think', 1696),\n",
              " ('nokia', 1692),\n",
              " ('arrived', 1684),\n",
              " ('el', 1678),\n",
              " ('sure', 1675),\n",
              " ('app', 1672),\n",
              " ('fingerprint', 1670),\n",
              " ('took', 1664),\n",
              " ('pictures', 1664),\n",
              " ('overall', 1661),\n",
              " ('seems', 1652),\n",
              " ('expected', 1615),\n",
              " ('version', 1602),\n",
              " ('de', 1591),\n",
              " ('find', 1590),\n",
              " ('buying', 1582),\n",
              " ('come', 1582),\n",
              " ('every', 1577),\n",
              " ('network', 1573),\n",
              " ('looking', 1571),\n",
              " ('hours', 1568),\n",
              " ('wont', 1563),\n",
              " ('1', 1529),\n",
              " ('cell', 1519),\n",
              " ('bit', 1505),\n",
              " ('years', 1482),\n",
              " ('tried', 1455),\n",
              " ('went', 1453),\n",
              " ('put', 1444),\n",
              " ('month', 1441),\n",
              " ('scratches', 1436),\n",
              " ('times', 1413),\n",
              " ('pixel', 1410),\n",
              " ('worth', 1403),\n",
              " ('software', 1401),\n",
              " ('sony', 1394),\n",
              " ('things', 1390),\n",
              " ('thats', 1384),\n",
              " ('less', 1380),\n",
              " ('deal', 1369),\n",
              " ('made', 1362),\n",
              " ('review', 1357),\n",
              " ('display', 1357),\n",
              " ('set', 1350),\n",
              " ('nothing', 1346),\n",
              " ('enough', 1337),\n",
              " ('something', 1335),\n",
              " ('size', 1321),\n",
              " ('store', 1313),\n",
              " ('ordered', 1302),\n",
              " ('plus', 1300),\n",
              " ('definitely', 1294),\n",
              " ('year', 1292),\n",
              " ('la', 1291),\n",
              " ('always', 1289),\n",
              " ('wanted', 1285),\n",
              " ('people', 1284),\n",
              " ('almost', 1284),\n",
              " ('support', 1284),\n",
              " ('perfectly', 1279),\n",
              " ('isnt', 1275),\n",
              " ('10', 1273),\n",
              " ('reviews', 1269),\n",
              " ('full', 1268),\n",
              " ('data', 1267),\n",
              " ('warranty', 1258),\n",
              " ('model', 1255),\n",
              " ('mobile', 1250),\n",
              " ('disappointed', 1242),\n",
              " ('turn', 1241),\n",
              " ('give', 1235),\n",
              " ('takes', 1233),\n",
              " ('look', 1231),\n",
              " ('super', 1229),\n",
              " ('anything', 1227),\n",
              " ('around', 1220),\n",
              " ('muy', 1206),\n",
              " ('carrier', 1203),\n",
              " ('memory', 1203),\n",
              " ('sound', 1202),\n",
              " ('replacement', 1194),\n",
              " ('6', 1193),\n",
              " ('found', 1191),\n",
              " ('couldnt', 1189),\n",
              " ('different', 1180),\n",
              " ('speaker', 1179),\n",
              " ('power', 1179),\n",
              " ('original', 1175),\n",
              " ('8', 1173),\n",
              " ('windows', 1173),\n",
              " ('performance', 1172),\n",
              " ('button', 1171),\n",
              " ('ok', 1160),\n",
              " ('apple', 1142),\n",
              " ('sd', 1123),\n",
              " ('wasnt', 1122),\n",
              " ('started', 1120),\n",
              " ('comes', 1115),\n",
              " ('may', 1114),\n",
              " ('needed', 1113),\n",
              " ('feel', 1112),\n",
              " ('que', 1111),\n",
              " ('pay', 1104),\n",
              " ('experience', 1101),\n",
              " ('light', 1099),\n",
              " ('keep', 1098),\n",
              " ('small', 1093),\n",
              " ('storage', 1089),\n",
              " ('cannot', 1088),\n",
              " ('upgrade', 1087),\n",
              " ('sprint', 1086),\n",
              " ('motorola', 1085),\n",
              " ('yet', 1080),\n",
              " ('text', 1080),\n",
              " ('photos', 1076),\n",
              " ('weeks', 1073),\n",
              " ('actually', 1062),\n",
              " ('send', 1057),\n",
              " ('already', 1054),\n",
              " ('feature', 1050),\n",
              " ('week', 1046),\n",
              " ('beautiful', 1040),\n",
              " ('slow', 1038),\n",
              " ('try', 1031),\n",
              " ('sometimes', 1027),\n",
              " ('es', 1027),\n",
              " ('thought', 1026),\n",
              " ('sent', 1026),\n",
              " ('item', 1023),\n",
              " ('video', 1009),\n",
              " ('advertised', 1008),\n",
              " ('s7', 1006),\n",
              " ('low', 1004),\n",
              " ('clear', 991),\n",
              " ('home', 988),\n",
              " ('quick', 986),\n",
              " ('quickly', 980),\n",
              " ('makes', 980),\n",
              " ('glass', 978),\n",
              " ('value', 974),\n",
              " ('updates', 971),\n",
              " ('user', 969),\n",
              " ('stars', 967),\n",
              " ('couple', 967),\n",
              " ('smart', 960),\n",
              " ('en', 948),\n",
              " ('replace', 946),\n",
              " ('havent', 944),\n",
              " ('hard', 942),\n",
              " ('absolutely', 942),\n",
              " ('second', 934),\n",
              " ('wireless', 933),\n",
              " ('customer', 928),\n",
              " ('100', 928),\n",
              " ('ill', 922),\n",
              " ('unlock', 918),\n",
              " ('7', 914),\n",
              " ('top', 914),\n",
              " ('edge', 914),\n",
              " ('wish', 911),\n",
              " ('lte', 911),\n",
              " ('read', 907),\n",
              " ('loves', 905),\n",
              " ('excelente', 902),\n",
              " ('play', 901),\n",
              " ('wouldnt', 897),\n",
              " ('smartphone', 897),\n",
              " ('system', 891),\n",
              " ('described', 883),\n",
              " ('looked', 881),\n",
              " ('etc', 877),\n",
              " ('exactly', 876),\n",
              " ('reason', 875),\n",
              " ('dropped', 873),\n",
              " ('minutes', 873),\n",
              " ('lo', 872),\n",
              " ('several', 870),\n",
              " ('point', 868),\n",
              " ('picture', 867),\n",
              " ('order', 863),\n",
              " ('youre', 860),\n",
              " ('previous', 855),\n",
              " ('satisfied', 854),\n",
              " ('thanks', 853),\n",
              " ('settings', 852),\n",
              " ('internet', 851),\n",
              " ('touch', 847),\n",
              " ('end', 847),\n",
              " ('pleased', 846),\n",
              " ('high', 845),\n",
              " ('returned', 844),\n",
              " ('paid', 842),\n",
              " ('feels', 838),\n",
              " ('shipping', 834),\n",
              " ('bluetooth', 834),\n",
              " ('decent', 834),\n",
              " ('protector', 833),\n",
              " ('company', 832),\n",
              " ('id', 831),\n",
              " ('longer', 831),\n",
              " ('probably', 831),\n",
              " ('thank', 831),\n",
              " ('away', 830),\n",
              " ('cheap', 829),\n",
              " ('stopped', 828),\n",
              " ('trying', 826),\n",
              " ('else', 823),\n",
              " ('os', 817),\n",
              " ('easily', 813),\n",
              " ('reader', 812),\n",
              " ('quite', 810),\n",
              " ('wife', 808),\n",
              " ('highly', 806),\n",
              " ('black', 804),\n",
              " ('music', 804),\n",
              " ('con', 804),\n",
              " ('open', 803),\n",
              " ('locked', 802),\n",
              " ('cost', 801),\n",
              " ('says', 798),\n",
              " ('loved', 797),\n",
              " ('plan', 796),\n",
              " ('next', 793),\n",
              " ('side', 793),\n",
              " ('wrong', 790),\n",
              " ('hand', 789),\n",
              " ('front', 787),\n",
              " ('ago', 786),\n",
              " ('number', 784),\n",
              " ('least', 782),\n",
              " ('talk', 774),\n",
              " ('completely', 771),\n",
              " ('hold', 770),\n",
              " ('factory', 768),\n",
              " ('volume', 766),\n",
              " ('mode', 766),\n",
              " ('help', 765),\n",
              " ('usb', 765),\n",
              " ('especially', 762),\n",
              " ('4g', 762),\n",
              " ('owned', 761),\n",
              " ('half', 758),\n",
              " ('signal', 754),\n",
              " ('either', 754),\n",
              " ('turned', 751),\n",
              " ('receive', 750),\n",
              " ('lasts', 750),\n",
              " ('needs', 748),\n",
              " ('anyone', 747),\n",
              " ('fix', 746),\n",
              " ('activate', 744),\n",
              " ('design', 743),\n",
              " ('might', 743),\n",
              " ('hear', 737),\n",
              " ('9', 736),\n",
              " ('told', 734),\n",
              " ('gets', 732),\n",
              " ('instead', 730),\n",
              " ('refund', 727),\n",
              " ('change', 717),\n",
              " ('decided', 716),\n",
              " ('cable', 713),\n",
              " ('due', 713),\n",
              " ('compatible', 712),\n",
              " ('someone', 707),\n",
              " ('description', 705),\n",
              " ('speed', 703),\n",
              " ('fact', 701),\n",
              " ('calling', 699),\n",
              " ('tell', 699),\n",
              " ('huawei', 699),\n",
              " ('port', 696),\n",
              " ('free', 695),\n",
              " ('simple', 690),\n",
              " ('finally', 689),\n",
              " ('international', 686),\n",
              " ('finger', 683),\n",
              " ('extremely', 682),\n",
              " ('later', 678),\n",
              " ('videos', 676),\n",
              " ('left', 673),\n",
              " ('charged', 672),\n",
              " ('games', 669),\n",
              " ('scratch', 669),\n",
              " ('line', 668),\n",
              " ('maybe', 665),\n",
              " ('replaced', 656),\n",
              " ('expensive', 655),\n",
              " ('smooth', 652),\n",
              " ('headphones', 652),\n",
              " ('running', 649),\n",
              " ('connect', 648),\n",
              " ('color', 645),\n",
              " ('run', 645),\n",
              " ('within', 644),\n",
              " ('30', 644),\n",
              " ('fully', 638),\n",
              " ('fantastic', 637),\n",
              " ('called', 636),\n",
              " ('option', 632),\n",
              " ('except', 631),\n",
              " ('although', 631),\n",
              " ('un', 630),\n",
              " ('mine', 629),\n",
              " ('gift', 629),\n",
              " ('solid', 628),\n",
              " ('poor', 626),\n",
              " ('available', 622),\n",
              " ('reset', 622),\n",
              " ('real', 620),\n",
              " ('let', 616),\n",
              " ('live', 616),\n",
              " ('basic', 615),\n",
              " ('expect', 611),\n",
              " ('faster', 611),\n",
              " ('gave', 609),\n",
              " ('compared', 607),\n",
              " ('complaints', 605),\n",
              " ('huge', 604),\n",
              " ('done', 603),\n",
              " ('theres', 599),\n",
              " ('included', 595),\n",
              " ('online', 593),\n",
              " ('voice', 590),\n",
              " ('part', 590),\n",
              " ('runs', 588),\n",
              " ('three', 584),\n",
              " ('xperia', 584),\n",
              " ('face', 583),\n",
              " ('x', 579),\n",
              " ('large', 578),\n",
              " ('star', 576),\n",
              " ('otherwise', 576),\n",
              " ('se', 572),\n",
              " ('waste', 571),\n",
              " ('switch', 571),\n",
              " ('broken', 569),\n",
              " ('heavy', 566),\n",
              " ('defective', 566),\n",
              " ('sensor', 565),\n",
              " ('straight', 564),\n",
              " ('reception', 562),\n",
              " ('activated', 562),\n",
              " ('son', 561),\n",
              " ('unless', 560),\n",
              " ('extra', 557),\n",
              " ('dual', 556),\n",
              " ('glad', 554),\n",
              " ('terrible', 551),\n",
              " ('start', 551),\n",
              " ('returning', 549),\n",
              " ('broke', 548),\n",
              " ('yes', 547),\n",
              " ('jack', 547),\n",
              " ('taking', 544),\n",
              " ('teléfono', 544),\n",
              " ('processor', 542),\n",
              " ('account', 540),\n",
              " ('seem', 540),\n",
              " ('s4', 540),\n",
              " ('hope', 537),\n",
              " ('market', 535),\n",
              " ('water', 534),\n",
              " ('adapter', 534),\n",
              " ('installed', 532),\n",
              " ('ram', 530),\n",
              " ('cameras', 525),\n",
              " ('properly', 523),\n",
              " ('today', 523),\n",
              " ('tech', 520),\n",
              " ('sold', 519),\n",
              " ('constantly', 518),\n",
              " ('build', 518),\n",
              " ('making', 517),\n",
              " ('scanner', 517),\n",
              " ('functions', 516),\n",
              " ('devices', 516),\n",
              " ('cover', 516),\n",
              " ('s5', 516),\n",
              " ('person', 515),\n",
              " ('impressed', 515),\n",
              " ('husband', 514),\n",
              " ('delivery', 512),\n",
              " ('coming', 509),\n",
              " ('believe', 506),\n",
              " ('flagship', 506),\n",
              " ('s8', 506),\n",
              " ('type', 504),\n",
              " ('buen', 503),\n",
              " ('slot', 502),\n",
              " ('headphone', 502),\n",
              " ('budget', 502),\n",
              " ('pocket', 501),\n",
              " ('upgraded', 500),\n",
              " ('soon', 499),\n",
              " ('messages', 498),\n",
              " ('gsm', 497),\n",
              " ('others', 494),\n",
              " ('bloatware', 494),\n",
              " ('hardware', 494),\n",
              " ('liked', 493),\n",
              " ('micro', 491),\n",
              " ('gb', 490),\n",
              " ('setup', 489),\n",
              " ('goes', 488),\n",
              " ('hour', 488),\n",
              " ('plug', 488),\n",
              " ('transfer', 488),\n",
              " ('speakers', 486),\n",
              " ('often', 485),\n",
              " ('job', 484),\n",
              " ('cool', 481),\n",
              " ('unfortunately', 479),\n",
              " ('usage', 478),\n",
              " ('mi', 476),\n",
              " ('must', 475),\n",
              " ('cellphone', 475),\n",
              " ('normal', 475),\n",
              " ('spend', 475),\n",
              " ('space', 474),\n",
              " ('please', 473),\n",
              " ('kind', 473),\n",
              " ('single', 473),\n",
              " ('missing', 473),\n",
              " ('supposed', 472),\n",
              " ('annoying', 471),\n",
              " ('repair', 470),\n",
              " ('print', 470),\n",
              " ('buttons', 469),\n",
              " ('cons', 469),\n",
              " ('older', 468),\n",
              " ('care', 468),\n",
              " ('audio', 467),\n",
              " ('setting', 466),\n",
              " ('products', 465),\n",
              " ('connection', 464),\n",
              " ('night', 462),\n",
              " ('s6', 462),\n",
              " ('package', 461),\n",
              " ('lots', 461),\n",
              " ('access', 460),\n",
              " ('resolution', 459),\n",
              " ('hands', 458),\n",
              " ('noticed', 457),\n",
              " ('responsive', 457),\n",
              " ('specs', 454),\n",
              " ('purchasing', 454),\n",
              " ('guess', 453),\n",
              " ('wait', 453),\n",
              " ('lg', 451),\n",
              " ('past', 451),\n",
              " ('close', 450),\n",
              " ('bigger', 449),\n",
              " ('minor', 448),\n",
              " ('charges', 448),\n",
              " ('xiaomi', 448),\n",
              " ('totally', 445),\n",
              " ('contact', 445),\n",
              " ('bright', 443),\n",
              " ('bottom', 443),\n",
              " ('difference', 439),\n",
              " ('hot', 438),\n",
              " ('prepaid', 438),\n",
              " ('expectations', 437),\n",
              " ('message', 436),\n",
              " ('function', 435),\n",
              " ('email', 435),\n",
              " ('loud', 434),\n",
              " ('place', 434),\n",
              " ('pro', 434),\n",
              " ('stock', 432),\n",
              " ('options', 431),\n",
              " ('provider', 431),\n",
              " ('clean', 431),\n",
              " ('simply', 430),\n",
              " ('accessories', 430),\n",
              " ('keeps', 430),\n",
              " ('check', 430),\n",
              " ('20', 429),\n",
              " ('updated', 429),\n",
              " ('50', 426),\n",
              " ('connected', 426),\n",
              " ('lost', 426),\n",
              " ('download', 426),\n",
              " ('daughter', 425),\n",
              " ('drop', 424),\n",
              " ('saying', 424),\n",
              " ('kept', 423),\n",
              " ('packaging', 420),\n",
              " ('whole', 419),\n",
              " ('texting', 418),\n",
              " ('fit', 418),\n",
              " ('contacted', 418),\n",
              " ('useless', 417),\n",
              " ('stop', 416),\n",
              " ('immediately', 416),\n",
              " ('uses', 414),\n",
              " ('add', 414),\n",
              " ('worst', 414),\n",
              " ('stuff', 413),\n",
              " ('latest', 413),\n",
              " ('para', 413),\n",
              " ('pen', 412),\n",
              " ('producto', 410),\n",
              " ('spent', 409),\n",
              " ('trouble', 409),\n",
              " ('save', 408),\n",
              " ('usa', 407),\n",
              " ('pros', 407),\n",
              " ('youtube', 407),\n",
              " ('wonderful', 406),\n",
              " ('bien', 406),\n",
              " ('damage', 405),\n",
              " ('200', 405),\n",
              " ('multiple', 402),\n",
              " ('okay', 401),\n",
              " ('horrible', 400),\n",
              " ('reading', 400),\n",
              " ('dead', 399),\n",
              " ('cracked', 398),\n",
              " ('white', 397),\n",
              " ('built', 397),\n",
              " ('shipped', 395),\n",
              " ('plastic', 394),\n",
              " ('means', 394),\n",
              " ('shape', 392),\n",
              " ('cellular', 390),\n",
              " ('mind', 389),\n",
              " ('fixed', 389),\n",
              " ('90', 387),\n",
              " ('delivered', 386),\n",
              " ('keyboard', 386),\n",
              " ('12', 385),\n",
              " ('15', 385),\n",
              " ('died', 385),\n",
              " ('rather', 382),\n",
              " ('seen', 382),\n",
              " ('security', 380),\n",
              " ('recognition', 380),\n",
              " ('main', 379),\n",
              " ('texts', 379),\n",
              " ('short', 378),\n",
              " ('stuck', 377),\n",
              " ('carriers', 377),\n",
              " ('gps', 375),\n",
              " ('stay', 375),\n",
              " ('por', 375),\n",
              " ('opened', 374),\n",
              " ('smaller', 374),\n",
              " ('internal', 374),\n",
              " ('complaint', 374),\n",
              " ('major', 373),\n",
              " ('flip', 371),\n",
              " ('unit', 371),\n",
              " ('miss', 371),\n",
              " ('area', 369),\n",
              " ('twice', 367),\n",
              " ('switched', 366),\n",
              " ('reliable', 365),\n",
              " ('contract', 365),\n",
              " ('cheaper', 365),\n",
              " ('process', 364),\n",
              " ('slightly', 363),\n",
              " ('barely', 362),\n",
              " ('sucks', 362),\n",
              " ('honestly', 361),\n",
              " ('photo', 361),\n",
              " ('lumia', 361),\n",
              " ('car', 359),\n",
              " ('important', 358),\n",
              " ('recommended', 358),\n",
              " ('basically', 354),\n",
              " ('unable', 353),\n",
              " ('usually', 353),\n",
              " ('g', 353),\n",
              " ('inside', 352),\n",
              " ('web', 352),\n",
              " ('anyway', 352),\n",
              " ('xl', 352),\n",
              " ('todo', 351),\n",
              " ('difficult', 350),\n",
              " ('droid', 350),\n",
              " ('cards', 349),\n",
              " ('renewed', 349),\n",
              " ('playing', 347),\n",
              " ('blue', 347),\n",
              " ('piece', 346),\n",
              " ('research', 346),\n",
              " ('choice', 345),\n",
              " ('outside', 345),\n",
              " ('worse', 345),\n",
              " ('lasted', 344),\n",
              " ('ones', 344),\n",
              " ('course', 344),\n",
              " ('lack', 344),\n",
              " ('pero', 344),\n",
              " ('matter', 343),\n",
              " ('lag', 343),\n",
              " ('stated', 342),\n",
              " ('range', 342),\n",
              " ('figure', 340),\n",
              " ('lock', 339),\n",
              " ('metro', 339),\n",
              " ('given', 338),\n",
              " ('precio', 338),\n",
              " ('larger', 337),\n",
              " ('fan', 337),\n",
              " ('ended', 335),\n",
              " ('date', 335),\n",
              " ('information', 334),\n",
              " ('waiting', 333),\n",
              " ('nexus', 332),\n",
              " ('watch', 332),\n",
              " ('restart', 332),\n",
              " ('seemed', 331),\n",
              " ('considering', 330),\n",
              " ('surprised', 330),\n",
              " ('understand', 329),\n",
              " ('show', 329),\n",
              " ('business', 329),\n",
              " ('pics', 327),\n",
              " ('celular', 327),\n",
              " ('via', 326),\n",
              " ('beat', 325),\n",
              " ('bueno', 325),\n",
              " ('flash', 324),\n",
              " ('hate', 324),\n",
              " ('regular', 323),\n",
              " ('computer', 322),\n",
              " ('interface', 322),\n",
              " ('3g', 321),\n",
              " ('operating', 320),\n",
              " ('s10', 320),\n",
              " ('colors', 319),\n",
              " ('contacts', 317),\n",
              " ('everyone', 317),\n",
              " ('youll', 315),\n",
              " ('premium', 315),\n",
              " ('clearly', 312),\n",
              " ('randomly', 312),\n",
              " ('u', 312),\n",
              " ('thinking', 312),\n",
              " ('install', 312),\n",
              " ('average', 311),\n",
              " ('mate', 310),\n",
              " ('durable', 309),\n",
              " ('similar', 309),\n",
              " ('cricket', 309),\n",
              " ('near', 308),\n",
              " ('gotten', 307),\n",
              " ('receiving', 306),\n",
              " ('response', 305),\n",
              " ('c', 305),\n",
              " ('rating', 304),\n",
              " ('shut', 304),\n",
              " ('giving', 303),\n",
              " ('g6', 303),\n",
              " ('turns', 302),\n",
              " ('despite', 301),\n",
              " ('family', 300),\n",
              " ('htc', 300),\n",
              " ('knew', 299),\n",
              " ('future', 299),\n",
              " ('added', 298),\n",
              " ('amount', 297),\n",
              " ('shows', 297),\n",
              " ('functionality', 296),\n",
              " ('mom', 295),\n",
              " ('anymore', 295),\n",
              " ('based', 295),\n",
              " ('cord', 294),\n",
              " ('imei', 294),\n",
              " ('current', 294),\n",
              " ('media', 292),\n",
              " ('daily', 292),\n",
              " ('dollars', 292),\n",
              " ('ready', 291),\n",
              " ('notice', 291),\n",
              " ('easier', 289),\n",
              " ('including', 289),\n",
              " ('game', 288),\n",
              " ('third', 288),\n",
              " ('notification', 288),\n",
              " ('learning', 288),\n",
              " ('sending', 287),\n",
              " ('iphones', 287),\n",
              " ('junk', 286),\n",
              " ('crap', 286),\n",
              " ('manual', 285),\n",
              " ('fits', 285),\n",
              " ('loving', 285),\n",
              " ('plenty', 284),\n",
              " ('ask', 283),\n",
              " ('personal', 282),\n",
              " ('damaged', 280),\n",
              " ('newer', 280),\n",
              " ('useful', 279),\n",
              " ('nearly', 279),\n",
              " ('negative', 278),\n",
              " ('turning', 278),\n",
              " ('users', 277),\n",
              " ('standard', 277),\n",
              " ('friends', 277),\n",
              " ('certain', 277),\n",
              " ('brightness', 277),\n",
              " ('sounds', 276),\n",
              " ('none', 275),\n",
              " ('appears', 275),\n",
              " ('prime', 275),\n",
              " ('capacity', 274),\n",
              " ('key', 273),\n",
              " ('taken', 273),\n",
              " ('sleek', 273),\n",
              " ('funciona', 273),\n",
              " ('changed', 272),\n",
              " ('plugged', 271),\n",
              " ('disappointing', 271),\n",
              " ('paying', 271),\n",
              " ('oh', 270),\n",
              " ('facebook', 269),\n",
              " ('focus', 269),\n",
              " ('allow', 268),\n",
              " ('ui', 268),\n",
              " ('opinion', 267),\n",
              " ('true', 266),\n",
              " ('buena', 266),\n",
              " ('s9', 266),\n",
              " ('possible', 265),\n",
              " ('lower', 264),\n",
              " ('along', 264),\n",
              " ('ability', 263),\n",
              " ('worried', 263),\n",
              " ('freezes', 262),\n",
              " ('switching', 262),\n",
              " ('80', 262),\n",
              " ('enjoy', 261),\n",
              " ('complain', 260),\n",
              " ('expecting', 260),\n",
              " ('bands', 260),\n",
              " ('beware', 259),\n",
              " ('early', 259),\n",
              " ('currently', 258),\n",
              " ('strong', 258),\n",
              " ('talking', 258),\n",
              " ('total', 258),\n",
              " ('stolen', 258),\n",
              " ('test', 257),\n",
              " ('watching', 257),\n",
              " ('2019', 257),\n",
              " ('scratched', 256),\n",
              " ('weight', 256),\n",
              " ('wear', 256),\n",
              " ('listed', 256),\n",
              " ('instructions', 256),\n",
              " ('remove', 254),\n",
              " ('truly', 254),\n",
              " ('holding', 254),\n",
              " ('write', 254),\n",
              " ('arent', 253),\n",
              " ('complete', 252),\n",
              " ('asked', 251),\n",
              " ('flawlessly', 250),\n",
              " ('saw', 249),\n",
              " ('break', 249),\n",
              " ('limited', 249),\n",
              " ('apparently', 249),\n",
              " ('hopefully', 248),\n",
              " ('happened', 248),\n",
              " ('upon', 248),\n",
              " ('usbc', 247),\n",
              " ('sell', 246),\n",
              " ('backup', 246),\n",
              " ('directly', 246),\n",
              " ('local', 246),\n",
              " ('mostly', 246),\n",
              " ('incredible', 246),\n",
              " ('leave', 245),\n",
              " ('recently', 244),\n",
              " ('mention', 242),\n",
              " ('excited', 242),\n",
              " ('prefer', 242),\n",
              " ('chance', 242),\n",
              " ('g7', 242),\n",
              " ('previously', 241),\n",
              " ('edges', 241),\n",
              " ('screens', 241),\n",
              " ('move', 241),\n",
              " ('promised', 240),\n",
              " ('fault', 240),\n",
              " ('literally', 240),\n",
              " ('notch', 240),\n",
              " ('ear', 240),\n",
              " ('late', 239),\n",
              " ('seconds', 239),\n",
              " ('noticeable', 238),\n",
              " ('known', 238),\n",
              " ('alot', 238),\n",
              " ('per', 238),\n",
              " ('load', 238),\n",
              " ('friend', 237),\n",
              " ('correct', 237),\n",
              " ('gone', 237),\n",
              " ('drops', 237),\n",
              " ('64gb', 237),\n",
              " ('states', 237),\n",
              " ('luck', 236),\n",
              " ('vendor', 236),\n",
              " ('hoping', 236),\n",
              " ('favorite', 236),\n",
              " ('generic', 236),\n",
              " ('country', 236),\n",
              " ('300', 236),\n",
              " ('bar', 235),\n",
              " ('functional', 233),\n",
              " ('happier', 233),\n",
              " ('gaming', 233),\n",
              " ('cause', 232),\n",
              " ('image', 232),\n",
              " ('party', 232),\n",
              " ('networks', 232),\n",
              " ('ios', 232),\n",
              " ('una', 232),\n",
              " ('hit', 231),\n",
              " ('este', 231),\n",
              " ('turbo', 231),\n",
              " ('wow', 230),\n",
              " ('crazy', 230),\n",
              " ('los', 230),\n",
              " ('sellers', 229),\n",
              " ('mean', 229),\n",
              " ('level', 229),\n",
              " ('microphone', 229),\n",
              " ('certified', 229),\n",
              " ('nfc', 229),\n",
              " ('sorry', 228),\n",
              " ('selling', 228),\n",
              " ('press', 228),\n",
              " ('las', 228),\n",
              " ('flawless', 227),\n",
              " ('anywhere', 227),\n",
              " ('s3', 227),\n",
              " ('mentioned', 226),\n",
              " ('error', 226),\n",
              " ('wants', 226),\n",
              " ('pure', 226),\n",
              " ('control', 225),\n",
              " ('ordering', 225),\n",
              " ('world', 225),\n",
              " ('cdma', 225),\n",
              " ('biggest', 225),\n",
              " ('technology', 225),\n",
              " ('regret', 225),\n",
              " ('gives', 225),\n",
              " ('heard', 224),\n",
              " ('prior', 224),\n",
              " ('higher', 224),\n",
              " ('calidad', 224),\n",
              " ('removed', 223),\n",
              " ('wall', 223),\n",
              " ('frustrating', 223),\n",
              " ('rear', 223),\n",
              " ...]"
            ]
          },
          "metadata": {
            "tags": []
          },
          "execution_count": 70
        }
      ]
    },
    {
      "cell_type": "markdown",
      "metadata": {
        "id": "9UbdTGsv60t1"
      },
      "source": [
        "### 5.6 Initialize tf-idf vectorizer and transform the preprocessed body text"
      ]
    },
    {
      "cell_type": "code",
      "metadata": {
        "id": "_Jfo6go_69yh"
      },
      "source": [
        "# Initialize TF-IDF vectorizer\n",
        "from sklearn.feature_extraction.text import TfidfVectorizer\n",
        "\n",
        "tfidf_vectorizer = TfidfVectorizer()\n",
        "# Initialize TF-IDF vectorizer\n",
        "from sklearn.feature_extraction.text import TfidfVectorizer\n",
        "\n",
        "tfidf_vectorizer1 = TfidfVectorizer(ngram_range=(2,2))"
      ],
      "execution_count": 59,
      "outputs": []
    },
    {
      "cell_type": "code",
      "metadata": {
        "id": "nn8S6MZjd9NB"
      },
      "source": [
        "tfidf = tfidf_vectorizer.fit_transform(df_final['text'])"
      ],
      "execution_count": 60,
      "outputs": []
    },
    {
      "cell_type": "code",
      "metadata": {
        "colab": {
          "base_uri": "https://localhost:8080/"
        },
        "id": "m3rQNKKAfBva",
        "outputId": "423bc8ff-e751-437d-aef4-bfcc7015c302"
      },
      "source": [
        "tfidf.get_shape()"
      ],
      "execution_count": 61,
      "outputs": [
        {
          "output_type": "execute_result",
          "data": {
            "text/plain": [
              "(61225, 38369)"
            ]
          },
          "metadata": {
            "tags": []
          },
          "execution_count": 61
        }
      ]
    },
    {
      "cell_type": "markdown",
      "metadata": {
        "id": "5dqPXETLKN0h"
      },
      "source": [
        "### 5.7 Segregate the data into dependent (sentiment) and independent (transformed body using tf-idf) features for building a classifier. "
      ]
    },
    {
      "cell_type": "code",
      "metadata": {
        "id": "mpOLAYn07W6F"
      },
      "source": [
        "y = df_final['sentiment']"
      ],
      "execution_count": 62,
      "outputs": []
    },
    {
      "cell_type": "markdown",
      "metadata": {
        "id": "4K03FO0q7XBP"
      },
      "source": [
        "### 5.9 Split the data into Train & Test Sets"
      ]
    },
    {
      "cell_type": "code",
      "metadata": {
        "id": "D548-7cE7dZa"
      },
      "source": [
        "from sklearn.model_selection import train_test_split\n",
        "X_train, X_test, y1_train, y1_test = train_test_split(tfidf, y, random_state = 50, stratify=y, test_size=0.3)"
      ],
      "execution_count": 63,
      "outputs": []
    },
    {
      "cell_type": "markdown",
      "metadata": {
        "id": "rhD1a-beKvE7"
      },
      "source": [
        "## 6. Model building"
      ]
    },
    {
      "cell_type": "markdown",
      "metadata": {
        "id": "UPFovmN03exD"
      },
      "source": [
        "### 6.1 Build a random forest classifier to predict the 'sentiment'\n",
        "### 6.2 Predict on test set\n",
        "### 6.3 Check accuracy and confusion matrix"
      ]
    },
    {
      "cell_type": "code",
      "metadata": {
        "id": "y0ytdD-_30P9"
      },
      "source": [
        "from sklearn.ensemble import RandomForestClassifier\n",
        "rf_clf1 = RandomForestClassifier()\n",
        "rf_clf1.fit(X_train, y1_train)"
      ],
      "execution_count": null,
      "outputs": []
    },
    {
      "cell_type": "code",
      "metadata": {
        "colab": {
          "base_uri": "https://localhost:8080/"
        },
        "id": "Bs3ICRQ0iiQr",
        "outputId": "f9ade22e-bac1-4b5c-9abf-cf65773a3434"
      },
      "source": [
        "print(\"Train Accuracy : \",rf_clf1.score(X_train, y1_train))\n",
        "print(\"Test Accuracy : \",rf_clf1.score(X_test, y1_test))"
      ],
      "execution_count": 71,
      "outputs": [
        {
          "output_type": "stream",
          "text": [
            "Train Accuracy :  0.9958699862332875\n",
            "Test Accuracy :  0.8881206445993032\n"
          ],
          "name": "stdout"
        }
      ]
    },
    {
      "cell_type": "code",
      "metadata": {
        "id": "NJ6Ke4hl30Zk",
        "colab": {
          "base_uri": "https://localhost:8080/"
        },
        "outputId": "f04bc80a-6549-43e1-b43c-369631cd3f41"
      },
      "source": [
        "#TRAIN\n",
        "from sklearn.metrics import confusion_matrix\n",
        "y1_pred = rf_clf1.predict(X_train)\n",
        "confusion_matrix(y1_train, y1_pred)"
      ],
      "execution_count": 65,
      "outputs": [
        {
          "output_type": "execute_result",
          "data": {
            "text/plain": [
              "array([[12639,   161],\n",
              "       [   16, 30041]])"
            ]
          },
          "metadata": {
            "tags": []
          },
          "execution_count": 65
        }
      ]
    },
    {
      "cell_type": "code",
      "metadata": {
        "colab": {
          "base_uri": "https://localhost:8080/"
        },
        "id": "jWubuIbdhy_3",
        "outputId": "8aca1190-f2c7-4684-b41c-9eb43fb04777"
      },
      "source": [
        "#TEST\n",
        "from sklearn.metrics import confusion_matrix\n",
        "y1_pred = rf_clf1.predict(X_test)\n",
        "confusion_matrix(y1_test, y1_pred)"
      ],
      "execution_count": 67,
      "outputs": [
        {
          "output_type": "execute_result",
          "data": {
            "text/plain": [
              "array([[ 4042,  1444],\n",
              "       [  611, 12271]])"
            ]
          },
          "metadata": {
            "tags": []
          },
          "execution_count": 67
        }
      ]
    },
    {
      "cell_type": "markdown",
      "metadata": {
        "id": "Ey7an7ukLxWB"
      },
      "source": [
        "## 7. Write your conclusion"
      ]
    },
    {
      "cell_type": "markdown",
      "metadata": {
        "id": "-77EvNtui7a_"
      },
      "source": [
        "###We loaded the data successfully and performed exploratory data analysis based on which we further built the model where we made the inferences using body and review comments/texts, and predicted an overall test accuracy at 88.81 and train accuracy at 99.58. The gap between train and test scores shows that the model is overfit and there are various ways to set the right tuning, briefly w.r.t to this data set, we can drop more poisitve review in order to maintain equal distribution of data as data imbalance majorly caused the model to overfit. Then, we can remove rare words in order to get rid of noise in the data. Also, we can finally perform hyper parameter tuning in the vectorizer and model.\n",
        "\n",
        "###That said, we can also build two seperate models, one for long review and one for short review in order to get more efficient results as highly likely a pattern can be observed by following such industrial methodologies.\n",
        "\n",
        "##Thank you."
      ]
    },
    {
      "cell_type": "markdown",
      "metadata": {
        "id": "CD8lVNY0YLQD"
      },
      "source": [
        "##. 8. Further Explore\n",
        "### 8.0 Merge all independent features and the below text preprocessing steps\n",
        "### 8.1 Check rare words and drop them\n",
        "### 8.2 Remove emoticon/emojis\n",
        "### 8.3 Try different vectorizer for vectorization\n",
        "### 8.4 Use embeddings\n",
        "### 8.5 Use NN based models"
      ]
    },
    {
      "cell_type": "code",
      "metadata": {
        "id": "bJEEmN3ZY5KJ"
      },
      "source": [
        ""
      ],
      "execution_count": null,
      "outputs": []
    }
  ]
}