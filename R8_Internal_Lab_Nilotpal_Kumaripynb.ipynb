{
  "nbformat": 4,
  "nbformat_minor": 0,
  "metadata": {
    "colab": {
      "name": "R8 Internal Lab_Nilotpal Kumaripynb",
      "provenance": [],
      "collapsed_sections": []
    },
    "kernelspec": {
      "name": "python3",
      "display_name": "Python 3"
    }
  },
  "cells": [
    {
      "cell_type": "markdown",
      "metadata": {
        "id": "PHYs6Z84xV8E"
      },
      "source": [
        "<img src=\"http://drive.google.com/uc?export=view&id=1tpOCamr9aWz817atPnyXus8w5gJ3mIts\" width=500px>\n",
        "\n",
        "Proprietary content. © Great Learning. All Rights Reserved. Unauthorized use or distribution prohibited."
      ]
    },
    {
      "cell_type": "markdown",
      "metadata": {
        "id": "5QQxgAmWzSye"
      },
      "source": [
        "#Mobile Phone Review Analysis"
      ]
    },
    {
      "cell_type": "markdown",
      "metadata": {
        "id": "FbwHYUXhxaqD"
      },
      "source": [
        "## Context\n",
        "\n",
        "The product companies can utilize the detailed review comments to gather insights from the end user. Most of the products are sold via e-commerce sites like Flipkart or Amazon where customers can buy a product and give their review about the product on the web site. \n",
        "Product managers can identify the relevant reviews from the website and run a sentiment analysis tool to understand what the sentiments of the customer are. Based on their sentiments, they can identify what users think of the current product. Are they happy? Discontent? \n",
        "They can also come up with a document that lists the features, the team needs to focus on for making the product better. \n",
        "\n",
        "## Objective\n",
        "\n",
        "Given the review data rating label, we will try to get insights about various brands and their ratings using text analytics and build a model to predict the rating and overall sentiment. \n"
      ]
    },
    {
      "cell_type": "markdown",
      "metadata": {
        "id": "CI7usguRzeox"
      },
      "source": [
        "### Package version\n",
        "\n",
        "- tensorflow==2.3.0\n",
        "- scikit-learn==0.22.2.post1\n",
        "- pandas==1.0.5\n",
        "- numpy==1.18.5\n",
        "- matplotlib==3.2.2\n",
        "- google==2.0.3"
      ]
    },
    {
      "cell_type": "markdown",
      "metadata": {
        "id": "aiMdVjHRH7NR"
      },
      "source": [
        "### Data Dictionary \n",
        "\n",
        "product_data.csv - contains product details\n",
        "- 'asin',  - Product ASIN\n",
        "- 'brand', - Product Brand\n",
        "- 'title', - Product Title\n",
        "- 'url',  - Product URL\n",
        "- 'image', - Product Image URL\n",
        "- 'rating',- Product Avg. Rating\n",
        "- 'reviewUrl' - Product Review Page URL\n",
        "- 'totalReviews' - Product Total Reviews\n",
        "- ‘price’ - Product Price ($)\n",
        "- ‘originalPrice’ - Product Original Price ($)\n",
        " \n",
        "reviews.csv  - contains user review details\n",
        " \n",
        "- 'asin' - Product ASIN\n",
        "- 'name' - Reviewer Name\n",
        "- 'rating' - Reviewer Rating (scale 1 to 5)\n",
        "- 'date'  - Review Date\n",
        "- 'verified' - Valid Customer\n",
        "- 'title'  - Review Title\n",
        "- 'body'  - Review Content\n",
        "- 'helpfulVotes  - Helpful Feedbacks\n"
      ]
    },
    {
      "cell_type": "markdown",
      "metadata": {
        "id": "cEn52o8jznJK"
      },
      "source": [
        "## Table of Content\n",
        "\n",
        "1. Import Libraries\n",
        "\n",
        "2. Setting options\n",
        "\n",
        "3. Read Data\n",
        "\n",
        "4. Data Analysis and EDA\n",
        "\n",
        "5. Text preprocessing and Vectorization\n",
        "\n",
        "6. Model building\n",
        "\n",
        "7. Conclusion and Interpretation"
      ]
    },
    {
      "cell_type": "markdown",
      "metadata": {
        "id": "x_Lom6cXzqn7"
      },
      "source": [
        "## 1. Import Libraries"
      ]
    },
    {
      "cell_type": "markdown",
      "metadata": {
        "id": "FZtVstH8zre2"
      },
      "source": [
        "**Let us start by mounting the drive**"
      ]
    },
    {
      "cell_type": "code",
      "metadata": {
        "id": "xv9jxv3-R5Xl",
        "colab": {
          "base_uri": "https://localhost:8080/"
        },
        "outputId": "c3a405df-b60c-4b72-fcd9-2ed481779fb9"
      },
      "source": [
        "from google.colab import drive\n",
        "drive.mount('/content/drive')"
      ],
      "execution_count": 1,
      "outputs": [
        {
          "output_type": "stream",
          "text": [
            "Drive already mounted at /content/drive; to attempt to forcibly remount, call drive.mount(\"/content/drive\", force_remount=True).\n"
          ],
          "name": "stdout"
        }
      ]
    },
    {
      "cell_type": "markdown",
      "metadata": {
        "id": "Gv-tZoFjz2WD"
      },
      "source": [
        "**Let us check for the version of installed tensorflow.**"
      ]
    },
    {
      "cell_type": "code",
      "metadata": {
        "id": "eiuUVBuDzzn9",
        "colab": {
          "base_uri": "https://localhost:8080/"
        },
        "outputId": "9960d667-dca2-41eb-9bad-537808b5b920"
      },
      "source": [
        "# used to supress display of warnings\n",
        "import warnings\n",
        "\n",
        "# os is used to provide a way of using operating system dependent functionality\n",
        "# We use it for setting working folder\n",
        "import os\n",
        "\n",
        "# Pandas is used for data manipulation and analysis\n",
        "import pandas as pd \n",
        "\n",
        "# Numpy is used for large, multi-dimensional arrays and matrices, along with mathematical operators on these arrays\n",
        "import numpy as np\n",
        "\n",
        "# Matplotlib is a data visualization library for 2D plots of arrays, built on NumPy arrays \n",
        "# and designed to work with the broader SciPy stack\n",
        "import matplotlib.pyplot as plt\n",
        "%matplotlib inline\n",
        "from matplotlib import pyplot\n",
        "\n",
        "# Seaborn is based on matplotlib, which aids in drawing attractive and informative statistical graphics.\n",
        "import seaborn as sns\n",
        "import tensorflow \n",
        "print(tensorflow.__version__)"
      ],
      "execution_count": 2,
      "outputs": [
        {
          "output_type": "stream",
          "text": [
            "2.5.0\n"
          ],
          "name": "stdout"
        }
      ]
    },
    {
      "cell_type": "markdown",
      "metadata": {
        "id": "fze-aokU0ukH"
      },
      "source": [
        "## 2. Setting Options"
      ]
    },
    {
      "cell_type": "code",
      "metadata": {
        "id": "T3FALggG0xXa"
      },
      "source": [
        "# suppress display of warnings\n",
        "warnings.filterwarnings('ignore')\n",
        "\n",
        "# display all dataframe columns\n",
        "pd.options.display.max_columns = None\n",
        "\n",
        "# to set the limit to 3 decimals\n",
        "pd.options.display.float_format = '{:.7f}'.format\n",
        "\n",
        "# display all dataframe rows\n",
        "pd.options.display.max_rows = None"
      ],
      "execution_count": 3,
      "outputs": []
    },
    {
      "cell_type": "markdown",
      "metadata": {
        "id": "ZT1P1WdK1vfZ"
      },
      "source": [
        "## 3. Read Data"
      ]
    },
    {
      "cell_type": "markdown",
      "metadata": {
        "id": "-UOW6zwww7L1"
      },
      "source": [
        "## 3.1 Read the provided CSVs and check 5 random samples and shape to understand the datasets"
      ]
    },
    {
      "cell_type": "code",
      "metadata": {
        "id": "nxT2g284xF1W",
        "colab": {
          "base_uri": "https://localhost:8080/"
        },
        "outputId": "ade6fb58-b430-48a1-d737-9587797d3843"
      },
      "source": [
        "# Importing product_data.csv into a pandas dataframe\n",
        "product_df = pd.read_csv('/content/drive/MyDrive/product_data.csv')\n",
        "#Checking the shape of DF\n",
        "product_df.shape"
      ],
      "execution_count": 4,
      "outputs": [
        {
          "output_type": "execute_result",
          "data": {
            "text/plain": [
              "(720, 10)"
            ]
          },
          "metadata": {
            "tags": []
          },
          "execution_count": 4
        }
      ]
    },
    {
      "cell_type": "markdown",
      "metadata": {
        "id": "0-qn7xvpXMz9"
      },
      "source": [
        "**There are 720 rows and 10 columns/features in product_df**"
      ]
    },
    {
      "cell_type": "code",
      "metadata": {
        "id": "uu8fNxW9m9Vr",
        "colab": {
          "base_uri": "https://localhost:8080/",
          "height": 243
        },
        "outputId": "26594666-48ef-42f4-eaa0-ea461c81332d"
      },
      "source": [
        "#Checking top two rows of DF to get an overview of the dataset\n",
        "product_df.head(2)"
      ],
      "execution_count": 5,
      "outputs": [
        {
          "output_type": "execute_result",
          "data": {
            "text/html": [
              "<div>\n",
              "<style scoped>\n",
              "    .dataframe tbody tr th:only-of-type {\n",
              "        vertical-align: middle;\n",
              "    }\n",
              "\n",
              "    .dataframe tbody tr th {\n",
              "        vertical-align: top;\n",
              "    }\n",
              "\n",
              "    .dataframe thead th {\n",
              "        text-align: right;\n",
              "    }\n",
              "</style>\n",
              "<table border=\"1\" class=\"dataframe\">\n",
              "  <thead>\n",
              "    <tr style=\"text-align: right;\">\n",
              "      <th></th>\n",
              "      <th>asin</th>\n",
              "      <th>brand</th>\n",
              "      <th>title</th>\n",
              "      <th>url</th>\n",
              "      <th>image</th>\n",
              "      <th>rating</th>\n",
              "      <th>reviewUrl</th>\n",
              "      <th>totalReviews</th>\n",
              "      <th>price</th>\n",
              "      <th>originalPrice</th>\n",
              "    </tr>\n",
              "  </thead>\n",
              "  <tbody>\n",
              "    <tr>\n",
              "      <th>0</th>\n",
              "      <td>B0000SX2UC</td>\n",
              "      <td>NaN</td>\n",
              "      <td>Dual-Band / Tri-Mode Sprint PCS Phone w/ Voice...</td>\n",
              "      <td>https://www.amazon.com/Dual-Band-Tri-Mode-Acti...</td>\n",
              "      <td>https://m.media-amazon.com/images/I/2143EBQ210...</td>\n",
              "      <td>3.0000000</td>\n",
              "      <td>https://www.amazon.com/product-reviews/B0000SX2UC</td>\n",
              "      <td>14</td>\n",
              "      <td>0.0000000</td>\n",
              "      <td>0.0000000</td>\n",
              "    </tr>\n",
              "    <tr>\n",
              "      <th>1</th>\n",
              "      <td>B0009N5L7K</td>\n",
              "      <td>Motorola</td>\n",
              "      <td>Motorola I265 phone</td>\n",
              "      <td>https://www.amazon.com/Motorola-i265-I265-phon...</td>\n",
              "      <td>https://m.media-amazon.com/images/I/419WBAVDAR...</td>\n",
              "      <td>3.0000000</td>\n",
              "      <td>https://www.amazon.com/product-reviews/B0009N5L7K</td>\n",
              "      <td>7</td>\n",
              "      <td>49.9500000</td>\n",
              "      <td>0.0000000</td>\n",
              "    </tr>\n",
              "  </tbody>\n",
              "</table>\n",
              "</div>"
            ],
            "text/plain": [
              "         asin     brand                                              title  \\\n",
              "0  B0000SX2UC       NaN  Dual-Band / Tri-Mode Sprint PCS Phone w/ Voice...   \n",
              "1  B0009N5L7K  Motorola                                Motorola I265 phone   \n",
              "\n",
              "                                                 url  \\\n",
              "0  https://www.amazon.com/Dual-Band-Tri-Mode-Acti...   \n",
              "1  https://www.amazon.com/Motorola-i265-I265-phon...   \n",
              "\n",
              "                                               image    rating  \\\n",
              "0  https://m.media-amazon.com/images/I/2143EBQ210... 3.0000000   \n",
              "1  https://m.media-amazon.com/images/I/419WBAVDAR... 3.0000000   \n",
              "\n",
              "                                           reviewUrl  totalReviews      price  \\\n",
              "0  https://www.amazon.com/product-reviews/B0000SX2UC            14  0.0000000   \n",
              "1  https://www.amazon.com/product-reviews/B0009N5L7K             7 49.9500000   \n",
              "\n",
              "   originalPrice  \n",
              "0      0.0000000  \n",
              "1      0.0000000  "
            ]
          },
          "metadata": {
            "tags": []
          },
          "execution_count": 5
        }
      ]
    },
    {
      "cell_type": "code",
      "metadata": {
        "id": "GRjG44fRxGIq",
        "colab": {
          "base_uri": "https://localhost:8080/"
        },
        "outputId": "74b6d9e0-192d-4c8d-9e23-87f7eaeeada2"
      },
      "source": [
        "# Importing reviews.csv into a pandas dataframe\n",
        "reviews_df = pd.read_csv('/content/drive/MyDrive/reviews.csv')\n",
        "# Checking shape of the DF\n",
        "reviews_df.shape"
      ],
      "execution_count": 6,
      "outputs": [
        {
          "output_type": "execute_result",
          "data": {
            "text/plain": [
              "(67986, 8)"
            ]
          },
          "metadata": {
            "tags": []
          },
          "execution_count": 6
        }
      ]
    },
    {
      "cell_type": "markdown",
      "metadata": {
        "id": "NrR-g4roXg_D"
      },
      "source": [
        "**There are 67986 rows and 8 columns/features in the reviews_df**"
      ]
    },
    {
      "cell_type": "code",
      "metadata": {
        "id": "ZJFM80wRh4zd",
        "colab": {
          "base_uri": "https://localhost:8080/",
          "height": 110
        },
        "outputId": "260623b2-bcd0-44a2-ee9b-05e5a888780f"
      },
      "source": [
        "#Checking top two rows of DF to get an overview of data\n",
        "reviews_df.head(2)"
      ],
      "execution_count": 7,
      "outputs": [
        {
          "output_type": "execute_result",
          "data": {
            "text/html": [
              "<div>\n",
              "<style scoped>\n",
              "    .dataframe tbody tr th:only-of-type {\n",
              "        vertical-align: middle;\n",
              "    }\n",
              "\n",
              "    .dataframe tbody tr th {\n",
              "        vertical-align: top;\n",
              "    }\n",
              "\n",
              "    .dataframe thead th {\n",
              "        text-align: right;\n",
              "    }\n",
              "</style>\n",
              "<table border=\"1\" class=\"dataframe\">\n",
              "  <thead>\n",
              "    <tr style=\"text-align: right;\">\n",
              "      <th></th>\n",
              "      <th>asin</th>\n",
              "      <th>name</th>\n",
              "      <th>rating</th>\n",
              "      <th>date</th>\n",
              "      <th>verified</th>\n",
              "      <th>title</th>\n",
              "      <th>body</th>\n",
              "      <th>helpfulVotes</th>\n",
              "    </tr>\n",
              "  </thead>\n",
              "  <tbody>\n",
              "    <tr>\n",
              "      <th>0</th>\n",
              "      <td>B0000SX2UC</td>\n",
              "      <td>Janet</td>\n",
              "      <td>3</td>\n",
              "      <td>October 11, 2005</td>\n",
              "      <td>False</td>\n",
              "      <td>Def not best, but not worst</td>\n",
              "      <td>I had the Samsung A600 for awhile which is abs...</td>\n",
              "      <td>1.0000000</td>\n",
              "    </tr>\n",
              "    <tr>\n",
              "      <th>1</th>\n",
              "      <td>B0000SX2UC</td>\n",
              "      <td>Luke Wyatt</td>\n",
              "      <td>1</td>\n",
              "      <td>January 7, 2004</td>\n",
              "      <td>False</td>\n",
              "      <td>Text Messaging Doesn't Work</td>\n",
              "      <td>Due to a software issue between Nokia and Spri...</td>\n",
              "      <td>17.0000000</td>\n",
              "    </tr>\n",
              "  </tbody>\n",
              "</table>\n",
              "</div>"
            ],
            "text/plain": [
              "         asin        name  rating              date  verified  \\\n",
              "0  B0000SX2UC       Janet       3  October 11, 2005     False   \n",
              "1  B0000SX2UC  Luke Wyatt       1   January 7, 2004     False   \n",
              "\n",
              "                         title  \\\n",
              "0  Def not best, but not worst   \n",
              "1  Text Messaging Doesn't Work   \n",
              "\n",
              "                                                body  helpfulVotes  \n",
              "0  I had the Samsung A600 for awhile which is abs...     1.0000000  \n",
              "1  Due to a software issue between Nokia and Spri...    17.0000000  "
            ]
          },
          "metadata": {
            "tags": []
          },
          "execution_count": 7
        }
      ]
    },
    {
      "cell_type": "markdown",
      "metadata": {
        "id": "rED6DbDBKTjM"
      },
      "source": [
        "## 4.  Data Analysis and EDA"
      ]
    },
    {
      "cell_type": "markdown",
      "metadata": {
        "id": "awlqmp40xMfc"
      },
      "source": [
        "### 4.1 Drop unnecessary columns like 'url', 'image' from the product_data"
      ]
    },
    {
      "cell_type": "code",
      "metadata": {
        "id": "VT4d-6TCxZCm"
      },
      "source": [
        "product_df = product_df.drop(['url','image','reviewUrl'],axis=1)"
      ],
      "execution_count": 10,
      "outputs": []
    },
    {
      "cell_type": "code",
      "metadata": {
        "id": "GBXyOVmUla4X",
        "colab": {
          "base_uri": "https://localhost:8080/"
        },
        "outputId": "acf359d1-18d4-4cab-e65d-add0750a9d06"
      },
      "source": [
        "product_df.shape"
      ],
      "execution_count": 11,
      "outputs": [
        {
          "output_type": "execute_result",
          "data": {
            "text/plain": [
              "(720, 7)"
            ]
          },
          "metadata": {
            "tags": []
          },
          "execution_count": 11
        }
      ]
    },
    {
      "cell_type": "markdown",
      "metadata": {
        "id": "TuMe6UmSX3ak"
      },
      "source": [
        "**Now there are 7 columns/features in product_df**"
      ]
    },
    {
      "cell_type": "markdown",
      "metadata": {
        "id": "Zk0WW5D5xZK9"
      },
      "source": [
        "### 4.2 Check statistical summary of both datasets. Note:- Include both numerical and object type columns."
      ]
    },
    {
      "cell_type": "code",
      "metadata": {
        "id": "ylwcqQpcx_Tl",
        "colab": {
          "base_uri": "https://localhost:8080/",
          "height": 294
        },
        "outputId": "7cc38183-b83f-4353-b372-fbf2167b233c"
      },
      "source": [
        "product_df.describe()"
      ],
      "execution_count": 13,
      "outputs": [
        {
          "output_type": "execute_result",
          "data": {
            "text/html": [
              "<div>\n",
              "<style scoped>\n",
              "    .dataframe tbody tr th:only-of-type {\n",
              "        vertical-align: middle;\n",
              "    }\n",
              "\n",
              "    .dataframe tbody tr th {\n",
              "        vertical-align: top;\n",
              "    }\n",
              "\n",
              "    .dataframe thead th {\n",
              "        text-align: right;\n",
              "    }\n",
              "</style>\n",
              "<table border=\"1\" class=\"dataframe\">\n",
              "  <thead>\n",
              "    <tr style=\"text-align: right;\">\n",
              "      <th></th>\n",
              "      <th>rating</th>\n",
              "      <th>totalReviews</th>\n",
              "      <th>price</th>\n",
              "      <th>originalPrice</th>\n",
              "    </tr>\n",
              "  </thead>\n",
              "  <tbody>\n",
              "    <tr>\n",
              "      <th>count</th>\n",
              "      <td>720.0000000</td>\n",
              "      <td>720.0000000</td>\n",
              "      <td>720.0000000</td>\n",
              "      <td>720.0000000</td>\n",
              "    </tr>\n",
              "    <tr>\n",
              "      <th>mean</th>\n",
              "      <td>3.7137500</td>\n",
              "      <td>105.6791667</td>\n",
              "      <td>234.9489306</td>\n",
              "      <td>63.6907778</td>\n",
              "    </tr>\n",
              "    <tr>\n",
              "      <th>std</th>\n",
              "      <td>0.7160138</td>\n",
              "      <td>167.6011014</td>\n",
              "      <td>200.0084407</td>\n",
              "      <td>172.4053696</td>\n",
              "    </tr>\n",
              "    <tr>\n",
              "      <th>min</th>\n",
              "      <td>1.0000000</td>\n",
              "      <td>1.0000000</td>\n",
              "      <td>0.0000000</td>\n",
              "      <td>0.0000000</td>\n",
              "    </tr>\n",
              "    <tr>\n",
              "      <th>25%</th>\n",
              "      <td>3.3000000</td>\n",
              "      <td>7.0000000</td>\n",
              "      <td>97.5125000</td>\n",
              "      <td>0.0000000</td>\n",
              "    </tr>\n",
              "    <tr>\n",
              "      <th>50%</th>\n",
              "      <td>3.8000000</td>\n",
              "      <td>32.0000000</td>\n",
              "      <td>188.9750000</td>\n",
              "      <td>0.0000000</td>\n",
              "    </tr>\n",
              "    <tr>\n",
              "      <th>75%</th>\n",
              "      <td>4.1000000</td>\n",
              "      <td>122.2500000</td>\n",
              "      <td>336.7250000</td>\n",
              "      <td>0.0000000</td>\n",
              "    </tr>\n",
              "    <tr>\n",
              "      <th>max</th>\n",
              "      <td>5.0000000</td>\n",
              "      <td>983.0000000</td>\n",
              "      <td>999.9900000</td>\n",
              "      <td>999.9900000</td>\n",
              "    </tr>\n",
              "  </tbody>\n",
              "</table>\n",
              "</div>"
            ],
            "text/plain": [
              "           rating  totalReviews       price  originalPrice\n",
              "count 720.0000000   720.0000000 720.0000000    720.0000000\n",
              "mean    3.7137500   105.6791667 234.9489306     63.6907778\n",
              "std     0.7160138   167.6011014 200.0084407    172.4053696\n",
              "min     1.0000000     1.0000000   0.0000000      0.0000000\n",
              "25%     3.3000000     7.0000000  97.5125000      0.0000000\n",
              "50%     3.8000000    32.0000000 188.9750000      0.0000000\n",
              "75%     4.1000000   122.2500000 336.7250000      0.0000000\n",
              "max     5.0000000   983.0000000 999.9900000    999.9900000"
            ]
          },
          "metadata": {
            "tags": []
          },
          "execution_count": 13
        }
      ]
    },
    {
      "cell_type": "markdown",
      "metadata": {
        "id": "HFVv5n_jYF_7"
      },
      "source": [
        "*   There are 720 unique records in the DF\n",
        "*   Average rating is 3.7 with minimum as 1 and max rating is 5\n",
        "*   Price range is between 0 to 999.9 with average price around 234.94 \n",
        "\n",
        "\n",
        "\n",
        "\n"
      ]
    },
    {
      "cell_type": "code",
      "metadata": {
        "id": "s24zjhklrS2b",
        "colab": {
          "base_uri": "https://localhost:8080/",
          "height": 171
        },
        "outputId": "a3ad8c4f-7010-4d66-a3cd-ea0d9e5c49c8"
      },
      "source": [
        "product_df.describe(include='O')"
      ],
      "execution_count": 14,
      "outputs": [
        {
          "output_type": "execute_result",
          "data": {
            "text/html": [
              "<div>\n",
              "<style scoped>\n",
              "    .dataframe tbody tr th:only-of-type {\n",
              "        vertical-align: middle;\n",
              "    }\n",
              "\n",
              "    .dataframe tbody tr th {\n",
              "        vertical-align: top;\n",
              "    }\n",
              "\n",
              "    .dataframe thead th {\n",
              "        text-align: right;\n",
              "    }\n",
              "</style>\n",
              "<table border=\"1\" class=\"dataframe\">\n",
              "  <thead>\n",
              "    <tr style=\"text-align: right;\">\n",
              "      <th></th>\n",
              "      <th>asin</th>\n",
              "      <th>brand</th>\n",
              "      <th>title</th>\n",
              "    </tr>\n",
              "  </thead>\n",
              "  <tbody>\n",
              "    <tr>\n",
              "      <th>count</th>\n",
              "      <td>720</td>\n",
              "      <td>716</td>\n",
              "      <td>720</td>\n",
              "    </tr>\n",
              "    <tr>\n",
              "      <th>unique</th>\n",
              "      <td>720</td>\n",
              "      <td>10</td>\n",
              "      <td>718</td>\n",
              "    </tr>\n",
              "    <tr>\n",
              "      <th>top</th>\n",
              "      <td>B072N3GKSM</td>\n",
              "      <td>Samsung</td>\n",
              "      <td>Google Pixel 2 XL 128GB Unlocked GSM/CDMA 4G L...</td>\n",
              "    </tr>\n",
              "    <tr>\n",
              "      <th>freq</th>\n",
              "      <td>1</td>\n",
              "      <td>346</td>\n",
              "      <td>2</td>\n",
              "    </tr>\n",
              "  </tbody>\n",
              "</table>\n",
              "</div>"
            ],
            "text/plain": [
              "              asin    brand                                              title\n",
              "count          720      716                                                720\n",
              "unique         720       10                                                718\n",
              "top     B072N3GKSM  Samsung  Google Pixel 2 XL 128GB Unlocked GSM/CDMA 4G L...\n",
              "freq             1      346                                                  2"
            ]
          },
          "metadata": {
            "tags": []
          },
          "execution_count": 14
        }
      ]
    },
    {
      "cell_type": "markdown",
      "metadata": {
        "id": "DugjjlDTY0ZY"
      },
      "source": [
        "\n",
        "\n",
        "*   Samsung is the top brand with 346 instances in the dataset\n",
        "*   All the 720 records in the DF is uniquely difined by asin as some sort of IDs\n",
        "\n"
      ]
    },
    {
      "cell_type": "code",
      "metadata": {
        "id": "WFaDkvIjyDtG",
        "colab": {
          "base_uri": "https://localhost:8080/",
          "height": 294
        },
        "outputId": "965a9c57-b244-49d2-8784-e1e5f2309911"
      },
      "source": [
        "reviews_df.describe()"
      ],
      "execution_count": 15,
      "outputs": [
        {
          "output_type": "execute_result",
          "data": {
            "text/html": [
              "<div>\n",
              "<style scoped>\n",
              "    .dataframe tbody tr th:only-of-type {\n",
              "        vertical-align: middle;\n",
              "    }\n",
              "\n",
              "    .dataframe tbody tr th {\n",
              "        vertical-align: top;\n",
              "    }\n",
              "\n",
              "    .dataframe thead th {\n",
              "        text-align: right;\n",
              "    }\n",
              "</style>\n",
              "<table border=\"1\" class=\"dataframe\">\n",
              "  <thead>\n",
              "    <tr style=\"text-align: right;\">\n",
              "      <th></th>\n",
              "      <th>rating</th>\n",
              "      <th>helpfulVotes</th>\n",
              "    </tr>\n",
              "  </thead>\n",
              "  <tbody>\n",
              "    <tr>\n",
              "      <th>count</th>\n",
              "      <td>67986.0000000</td>\n",
              "      <td>27215.0000000</td>\n",
              "    </tr>\n",
              "    <tr>\n",
              "      <th>mean</th>\n",
              "      <td>3.8079163</td>\n",
              "      <td>8.2296895</td>\n",
              "    </tr>\n",
              "    <tr>\n",
              "      <th>std</th>\n",
              "      <td>1.5829058</td>\n",
              "      <td>31.9548772</td>\n",
              "    </tr>\n",
              "    <tr>\n",
              "      <th>min</th>\n",
              "      <td>1.0000000</td>\n",
              "      <td>1.0000000</td>\n",
              "    </tr>\n",
              "    <tr>\n",
              "      <th>25%</th>\n",
              "      <td>3.0000000</td>\n",
              "      <td>1.0000000</td>\n",
              "    </tr>\n",
              "    <tr>\n",
              "      <th>50%</th>\n",
              "      <td>5.0000000</td>\n",
              "      <td>2.0000000</td>\n",
              "    </tr>\n",
              "    <tr>\n",
              "      <th>75%</th>\n",
              "      <td>5.0000000</td>\n",
              "      <td>5.0000000</td>\n",
              "    </tr>\n",
              "    <tr>\n",
              "      <th>max</th>\n",
              "      <td>5.0000000</td>\n",
              "      <td>990.0000000</td>\n",
              "    </tr>\n",
              "  </tbody>\n",
              "</table>\n",
              "</div>"
            ],
            "text/plain": [
              "             rating  helpfulVotes\n",
              "count 67986.0000000 27215.0000000\n",
              "mean      3.8079163     8.2296895\n",
              "std       1.5829058    31.9548772\n",
              "min       1.0000000     1.0000000\n",
              "25%       3.0000000     1.0000000\n",
              "50%       5.0000000     2.0000000\n",
              "75%       5.0000000     5.0000000\n",
              "max       5.0000000   990.0000000"
            ]
          },
          "metadata": {
            "tags": []
          },
          "execution_count": 15
        }
      ]
    },
    {
      "cell_type": "markdown",
      "metadata": {
        "id": "s9qf1XttZSJS"
      },
      "source": [
        "\n",
        "\n",
        "*   rating ranges from 1 to 5 with average rating as 3.8\n",
        "*   there is a instance in data with 990 helpfulvotes need to inspect this record\n",
        "\n"
      ]
    },
    {
      "cell_type": "code",
      "metadata": {
        "id": "mpkaL-sNrcpg",
        "colab": {
          "base_uri": "https://localhost:8080/",
          "height": 171
        },
        "outputId": "735e87ee-9d12-4934-e041-591841976db2"
      },
      "source": [
        "reviews_df.describe(include='object')"
      ],
      "execution_count": 16,
      "outputs": [
        {
          "output_type": "execute_result",
          "data": {
            "text/html": [
              "<div>\n",
              "<style scoped>\n",
              "    .dataframe tbody tr th:only-of-type {\n",
              "        vertical-align: middle;\n",
              "    }\n",
              "\n",
              "    .dataframe tbody tr th {\n",
              "        vertical-align: top;\n",
              "    }\n",
              "\n",
              "    .dataframe thead th {\n",
              "        text-align: right;\n",
              "    }\n",
              "</style>\n",
              "<table border=\"1\" class=\"dataframe\">\n",
              "  <thead>\n",
              "    <tr style=\"text-align: right;\">\n",
              "      <th></th>\n",
              "      <th>asin</th>\n",
              "      <th>name</th>\n",
              "      <th>date</th>\n",
              "      <th>title</th>\n",
              "      <th>body</th>\n",
              "    </tr>\n",
              "  </thead>\n",
              "  <tbody>\n",
              "    <tr>\n",
              "      <th>count</th>\n",
              "      <td>67986</td>\n",
              "      <td>67984</td>\n",
              "      <td>67986</td>\n",
              "      <td>67972</td>\n",
              "      <td>67965</td>\n",
              "    </tr>\n",
              "    <tr>\n",
              "      <th>unique</th>\n",
              "      <td>720</td>\n",
              "      <td>47323</td>\n",
              "      <td>2983</td>\n",
              "      <td>41489</td>\n",
              "      <td>59811</td>\n",
              "    </tr>\n",
              "    <tr>\n",
              "      <th>top</th>\n",
              "      <td>B00F2SKPIM</td>\n",
              "      <td>Amazon Customer</td>\n",
              "      <td>December 11, 2019</td>\n",
              "      <td>Five Stars</td>\n",
              "      <td>Good</td>\n",
              "    </tr>\n",
              "    <tr>\n",
              "      <th>freq</th>\n",
              "      <td>981</td>\n",
              "      <td>6507</td>\n",
              "      <td>234</td>\n",
              "      <td>6043</td>\n",
              "      <td>303</td>\n",
              "    </tr>\n",
              "  </tbody>\n",
              "</table>\n",
              "</div>"
            ],
            "text/plain": [
              "              asin             name               date       title   body\n",
              "count        67986            67984              67986       67972  67965\n",
              "unique         720            47323               2983       41489  59811\n",
              "top     B00F2SKPIM  Amazon Customer  December 11, 2019  Five Stars   Good\n",
              "freq           981             6507                234        6043    303"
            ]
          },
          "metadata": {
            "tags": []
          },
          "execution_count": 16
        }
      ]
    },
    {
      "cell_type": "markdown",
      "metadata": {
        "id": "XaEf6XA7ZufZ"
      },
      "source": [
        "\n",
        "\n",
        "*   Amazon Customer has the most no. of reviews 6507\n",
        "*   Most reviews are 5 stars in DF with 6043 instances\n",
        "*   \"Good\" as a comment is mentioned most i.e. 303 instances in body column of DF \n",
        "\n",
        "\n"
      ]
    },
    {
      "cell_type": "code",
      "metadata": {
        "id": "rkrkN4UAsoMU",
        "colab": {
          "base_uri": "https://localhost:8080/",
          "height": 78
        },
        "outputId": "97a6d2c9-5b11-4712-f190-f0662770ae93"
      },
      "source": [
        "#Checking the records \n",
        "reviews_df[reviews_df['helpfulVotes']==990]"
      ],
      "execution_count": 97,
      "outputs": [
        {
          "output_type": "execute_result",
          "data": {
            "text/html": [
              "<div>\n",
              "<style scoped>\n",
              "    .dataframe tbody tr th:only-of-type {\n",
              "        vertical-align: middle;\n",
              "    }\n",
              "\n",
              "    .dataframe tbody tr th {\n",
              "        vertical-align: top;\n",
              "    }\n",
              "\n",
              "    .dataframe thead th {\n",
              "        text-align: right;\n",
              "    }\n",
              "</style>\n",
              "<table border=\"1\" class=\"dataframe\">\n",
              "  <thead>\n",
              "    <tr style=\"text-align: right;\">\n",
              "      <th></th>\n",
              "      <th>asin</th>\n",
              "      <th>name</th>\n",
              "      <th>rating</th>\n",
              "      <th>date</th>\n",
              "      <th>verified</th>\n",
              "      <th>title</th>\n",
              "      <th>body</th>\n",
              "      <th>helpfulVotes</th>\n",
              "    </tr>\n",
              "  </thead>\n",
              "  <tbody>\n",
              "    <tr>\n",
              "      <th>24467</th>\n",
              "      <td>B01GXAT0CE</td>\n",
              "      <td>Jake</td>\n",
              "      <td>1</td>\n",
              "      <td>May 1, 2017</td>\n",
              "      <td>True</td>\n",
              "      <td>It seems like it has been stolen</td>\n",
              "      <td>The product came in a beaten up box, came lock...</td>\n",
              "      <td>990.0000000</td>\n",
              "    </tr>\n",
              "  </tbody>\n",
              "</table>\n",
              "</div>"
            ],
            "text/plain": [
              "             asin  name  rating         date  verified  \\\n",
              "24467  B01GXAT0CE  Jake       1  May 1, 2017      True   \n",
              "\n",
              "                                  title  \\\n",
              "24467  It seems like it has been stolen   \n",
              "\n",
              "                                                    body  helpfulVotes  \n",
              "24467  The product came in a beaten up box, came lock...   990.0000000  "
            ]
          },
          "metadata": {
            "tags": []
          },
          "execution_count": 97
        }
      ]
    },
    {
      "cell_type": "markdown",
      "metadata": {
        "id": "cSdGfadUyEdU"
      },
      "source": [
        "### 4.3 From the above statistical summary, write inferences like count of unique products, top brand, top title, range of rating, price range, etc"
      ]
    },
    {
      "cell_type": "markdown",
      "metadata": {
        "id": "UOwa4KmOp3ok"
      },
      "source": [
        "\n",
        "\n",
        "*   There are 720 unique products\n",
        "*   Rating ranges from 1 to 5. Mean rating is 3.71\n",
        "*   There are 10 brands of which samsung comes at top.\n",
        "*   Price ranges from 0 to 999.99 with 235 as mean price value\n",
        "*   There are no duplicate asin id\n",
        "*   To title is Apple iphone 6s\n",
        "\n",
        "\n",
        "\n",
        "\n",
        "\n",
        "\n"
      ]
    },
    {
      "cell_type": "markdown",
      "metadata": {
        "id": "XMv_hXyxJKZK"
      },
      "source": [
        "### 4.4 Analyze the distribution of ratings and other categorical features like brand, etc"
      ]
    },
    {
      "cell_type": "code",
      "metadata": {
        "id": "oEhjSsMcyirD",
        "colab": {
          "base_uri": "https://localhost:8080/",
          "height": 385
        },
        "outputId": "49885d52-45b9-4576-d904-235183c8c35b"
      },
      "source": [
        "sns.displot(data= product_df,x='rating')"
      ],
      "execution_count": 18,
      "outputs": [
        {
          "output_type": "execute_result",
          "data": {
            "text/plain": [
              "<seaborn.axisgrid.FacetGrid at 0x7f076fff6a10>"
            ]
          },
          "metadata": {
            "tags": []
          },
          "execution_count": 18
        },
        {
          "output_type": "display_data",
          "data": {
            "image/png": "[encoded data removed]",
            "text/plain": [
              "<Figure size 360x360 with 1 Axes>"
            ]
          },
          "metadata": {
            "tags": [],
            "needs_background": "light"
          }
        }
      ]
    },
    {
      "cell_type": "code",
      "metadata": {
        "id": "ZVb2LLMZvGQq",
        "colab": {
          "base_uri": "https://localhost:8080/",
          "height": 385
        },
        "outputId": "79b32afb-5ea5-47c8-95eb-100cfa32375c"
      },
      "source": [
        "sns.displot(data= product_df,x='rating',kind='kde')"
      ],
      "execution_count": 19,
      "outputs": [
        {
          "output_type": "execute_result",
          "data": {
            "text/plain": [
              "<seaborn.axisgrid.FacetGrid at 0x7f07676b9290>"
            ]
          },
          "metadata": {
            "tags": []
          },
          "execution_count": 19
        },
        {
          "output_type": "display_data",
          "data": {
            "image/png": "[encoded data removed]",
            "text/plain": [
              "<Figure size 360x360 with 1 Axes>"
            ]
          },
          "metadata": {
            "tags": [],
            "needs_background": "light"
          }
        }
      ]
    },
    {
      "cell_type": "markdown",
      "metadata": {
        "id": "I-9Co3l-er1C"
      },
      "source": [
        "**ratings feature is right skewed with most of the records are between 3 and 4**"
      ]
    },
    {
      "cell_type": "code",
      "metadata": {
        "id": "aqUpy8CllTOj",
        "colab": {
          "base_uri": "https://localhost:8080/",
          "height": 295
        },
        "outputId": "a52b1190-3b46-4f4d-ae41-8034db405d6a"
      },
      "source": [
        "sns.barplot(data=product_df,x=product_df.rating,y='brand')"
      ],
      "execution_count": 20,
      "outputs": [
        {
          "output_type": "execute_result",
          "data": {
            "text/plain": [
              "<matplotlib.axes._subplots.AxesSubplot at 0x7f0767252910>"
            ]
          },
          "metadata": {
            "tags": []
          },
          "execution_count": 20
        },
        {
          "output_type": "display_data",
          "data": {
            "image/png": "[encoded data removed]",
            "text/plain": [
              "<Figure size 432x288 with 1 Axes>"
            ]
          },
          "metadata": {
            "tags": [],
            "needs_background": "light"
          }
        }
      ]
    },
    {
      "cell_type": "markdown",
      "metadata": {
        "id": "kaMVS_ihe3ib"
      },
      "source": [
        "**Xiaomi is rated highest with average ratings above 4**"
      ]
    },
    {
      "cell_type": "code",
      "metadata": {
        "id": "J2_qTVu_v8Rw",
        "colab": {
          "base_uri": "https://localhost:8080/",
          "height": 591
        },
        "outputId": "159d2311-8d39-4e1c-a9f7-4284be7fb1c6"
      },
      "source": [
        "product_df['brand'].value_counts().plot(kind='pie',autopct='%1.0f%%',figsize=(12,10))"
      ],
      "execution_count": 98,
      "outputs": [
        {
          "output_type": "execute_result",
          "data": {
            "text/plain": [
              "<matplotlib.axes._subplots.AxesSubplot at 0x7f074a21f850>"
            ]
          },
          "metadata": {
            "tags": []
          },
          "execution_count": 98
        },
        {
          "output_type": "display_data",
          "data": {
            "image/png": "[encoded data removed]",
            "text/plain": [
              "<Figure size 864x720 with 1 Axes>"
            ]
          },
          "metadata": {
            "tags": []
          }
        }
      ]
    },
    {
      "cell_type": "code",
      "metadata": {
        "id": "l17rVvu9wPBi",
        "colab": {
          "base_uri": "https://localhost:8080/",
          "height": 318
        },
        "outputId": "9adfc32e-fbcb-4d03-c867-8486641955f1"
      },
      "source": [
        "product_df['brand'].value_counts().plot(kind='bar')"
      ],
      "execution_count": 22,
      "outputs": [
        {
          "output_type": "execute_result",
          "data": {
            "text/plain": [
              "<matplotlib.axes._subplots.AxesSubplot at 0x7f076507dd90>"
            ]
          },
          "metadata": {
            "tags": []
          },
          "execution_count": 22
        },
        {
          "output_type": "display_data",
          "data": {
            "image/png": "[encoded data removed]",
            "text/plain": [
              "<Figure size 432x288 with 1 Axes>"
            ]
          },
          "metadata": {
            "tags": [],
            "needs_background": "light"
          }
        }
      ]
    },
    {
      "cell_type": "code",
      "metadata": {
        "id": "TXIr3rbRwf-4",
        "colab": {
          "base_uri": "https://localhost:8080/",
          "height": 295
        },
        "outputId": "6d1dc50b-b849-4fd0-d38b-6b578b5f0733"
      },
      "source": [
        "sns.countplot(product_df.brand)"
      ],
      "execution_count": 23,
      "outputs": [
        {
          "output_type": "execute_result",
          "data": {
            "text/plain": [
              "<matplotlib.axes._subplots.AxesSubplot at 0x7f0764ff8bd0>"
            ]
          },
          "metadata": {
            "tags": []
          },
          "execution_count": 23
        },
        {
          "output_type": "display_data",
          "data": {
            "image/png": "[encoded data removed]",
            "text/plain": [
              "<Figure size 432x288 with 1 Axes>"
            ]
          },
          "metadata": {
            "tags": [],
            "needs_background": "light"
          }
        }
      ]
    },
    {
      "cell_type": "markdown",
      "metadata": {
        "id": "jwZBGODgyi1a"
      },
      "source": [
        "### 4.5 Display average rating per brand"
      ]
    },
    {
      "cell_type": "code",
      "metadata": {
        "id": "OSBBiAv8yscd",
        "colab": {
          "base_uri": "https://localhost:8080/"
        },
        "outputId": "08abfdc5-2378-4daa-c451-8b38d692cead"
      },
      "source": [
        "# Calculating average rating per brand\n",
        "\n",
        "rating_per_brand = product_df.groupby(by='brand')['rating'].mean().sort_values(ascending=False)\n",
        "rating_per_brand"
      ],
      "execution_count": 25,
      "outputs": [
        {
          "output_type": "execute_result",
          "data": {
            "text/plain": [
              "brand\n",
              "Xiaomi     4.4152174\n",
              "HUAWEI     4.0218750\n",
              "ASUS       3.8600000\n",
              "Sony       3.7888889\n",
              "Apple      3.7825397\n",
              "Google     3.7710526\n",
              "Motorola   3.6438095\n",
              "Samsung    3.6326590\n",
              "OnePlus    3.5800000\n",
              "Nokia      3.3863636\n",
              "Name: rating, dtype: float64"
            ]
          },
          "metadata": {
            "tags": []
          },
          "execution_count": 25
        }
      ]
    },
    {
      "cell_type": "code",
      "metadata": {
        "id": "Rn3YbLAaw669",
        "colab": {
          "base_uri": "https://localhost:8080/",
          "height": 281
        },
        "outputId": "fedcdcee-fa59-4e14-aab6-f3be29425b76"
      },
      "source": [
        "# Visualizing average rating per brand\n",
        "rating_per_brand.plot(kind='barh')"
      ],
      "execution_count": 26,
      "outputs": [
        {
          "output_type": "execute_result",
          "data": {
            "text/plain": [
              "<matplotlib.axes._subplots.AxesSubplot at 0x7f0764f86e50>"
            ]
          },
          "metadata": {
            "tags": []
          },
          "execution_count": 26
        },
        {
          "output_type": "display_data",
          "data": {
            "image/png": "[encoded data removed]",
            "text/plain": [
              "<Figure size 432x288 with 1 Axes>"
            ]
          },
          "metadata": {
            "tags": [],
            "needs_background": "light"
          }
        }
      ]
    },
    {
      "cell_type": "markdown",
      "metadata": {
        "id": "ol1EGMsnCIx8"
      },
      "source": [
        "**Xiaomi has the maximum average rating above 4**"
      ]
    },
    {
      "cell_type": "markdown",
      "metadata": {
        "id": "vUXuEwlgyvB0"
      },
      "source": [
        "### 4.6 Display average price per brand"
      ]
    },
    {
      "cell_type": "code",
      "metadata": {
        "id": "ACgIwVlyy3Pu",
        "colab": {
          "base_uri": "https://localhost:8080/"
        },
        "outputId": "7878df14-a2ae-4992-bf8e-7f61d609716a"
      },
      "source": [
        "# Calculating average price per brand\n",
        "\n",
        "price_per_brand = product_df.groupby(by='brand')['price'].mean().sort_values(ascending=False)\n",
        "price_per_brand"
      ],
      "execution_count": 27,
      "outputs": [
        {
          "output_type": "execute_result",
          "data": {
            "text/plain": [
              "brand\n",
              "OnePlus    426.1960000\n",
              "Sony       332.7248148\n",
              "ASUS       309.6860000\n",
              "Apple      303.5811111\n",
              "Samsung    256.5272543\n",
              "Google     241.8676316\n",
              "HUAWEI     218.8290625\n",
              "Xiaomi     214.9676087\n",
              "Motorola   139.1210476\n",
              "Nokia      111.4438636\n",
              "Name: price, dtype: float64"
            ]
          },
          "metadata": {
            "tags": []
          },
          "execution_count": 27
        }
      ]
    },
    {
      "cell_type": "code",
      "metadata": {
        "id": "Qz3nfhrQxG2j",
        "colab": {
          "base_uri": "https://localhost:8080/",
          "height": 281
        },
        "outputId": "62c8f96f-b0b2-428e-f72f-033090cbdcf1"
      },
      "source": [
        "# Visualizing average price per brand\n",
        "price_per_brand.plot(kind='barh')"
      ],
      "execution_count": 28,
      "outputs": [
        {
          "output_type": "execute_result",
          "data": {
            "text/plain": [
              "<matplotlib.axes._subplots.AxesSubplot at 0x7f0764f02590>"
            ]
          },
          "metadata": {
            "tags": []
          },
          "execution_count": 28
        },
        {
          "output_type": "display_data",
          "data": {
            "image/png": "[encoded data removed]",
            "text/plain": [
              "<Figure size 432x288 with 1 Axes>"
            ]
          },
          "metadata": {
            "tags": [],
            "needs_background": "light"
          }
        }
      ]
    },
    {
      "cell_type": "markdown",
      "metadata": {
        "id": "Q70CsnDSCak5"
      },
      "source": [
        "**OnePlus has the highest average price above 400$**"
      ]
    },
    {
      "cell_type": "markdown",
      "metadata": {
        "id": "U0JfwL74y3a-"
      },
      "source": [
        "### 4.7 Display average 'totalReviews' per brand"
      ]
    },
    {
      "cell_type": "code",
      "metadata": {
        "id": "wfzciNxqzBYu",
        "colab": {
          "base_uri": "https://localhost:8080/"
        },
        "outputId": "1282af2c-3c13-40ca-c978-fd05d1194e81"
      },
      "source": [
        "# Calculating average 'totalReviews' per brand\n",
        "price_per_brand = product_df.groupby(by='brand')['totalReviews'].mean().sort_values(ascending=False)\n",
        "price_per_brand"
      ],
      "execution_count": 29,
      "outputs": [
        {
          "output_type": "execute_result",
          "data": {
            "text/plain": [
              "brand\n",
              "Nokia      140.5000000\n",
              "Sony       122.6666667\n",
              "Xiaomi     121.1739130\n",
              "Google     111.5263158\n",
              "Samsung    108.9624277\n",
              "Apple      100.2380952\n",
              "Motorola    89.7047619\n",
              "HUAWEI      77.0937500\n",
              "ASUS        52.6000000\n",
              "OnePlus     40.6000000\n",
              "Name: totalReviews, dtype: float64"
            ]
          },
          "metadata": {
            "tags": []
          },
          "execution_count": 29
        }
      ]
    },
    {
      "cell_type": "code",
      "metadata": {
        "id": "i-Y2w5tAxbDu",
        "colab": {
          "base_uri": "https://localhost:8080/",
          "height": 281
        },
        "outputId": "52b35bee-5e3c-4d06-aa5f-b9a58a321795"
      },
      "source": [
        "# Visualizing average total reviews per brand\n",
        "price_per_brand.plot(kind='barh')"
      ],
      "execution_count": 30,
      "outputs": [
        {
          "output_type": "execute_result",
          "data": {
            "text/plain": [
              "<matplotlib.axes._subplots.AxesSubplot at 0x7f0764e23190>"
            ]
          },
          "metadata": {
            "tags": []
          },
          "execution_count": 30
        },
        {
          "output_type": "display_data",
          "data": {
            "image/png": "[encoded data removed]",
            "text/plain": [
              "<Figure size 432x288 with 1 Axes>"
            ]
          },
          "metadata": {
            "tags": [],
            "needs_background": "light"
          }
        }
      ]
    },
    {
      "cell_type": "markdown",
      "metadata": {
        "id": "rRHkwaf7CtrL"
      },
      "source": [
        "**Nokia has the highest average total reviews near about 140**"
      ]
    },
    {
      "cell_type": "markdown",
      "metadata": {
        "id": "x_fxI7OAeDUM"
      },
      "source": [
        "### 4.8 Merge two datasets using 'asin' and check the shape of the final dataset"
      ]
    },
    {
      "cell_type": "code",
      "metadata": {
        "id": "svpHfWI9zNAP",
        "colab": {
          "base_uri": "https://localhost:8080/"
        },
        "outputId": "bccb6605-b9e3-44df-def3-09d320acd1eb"
      },
      "source": [
        "# Merging the two DFs using Pandas.merge\n",
        "df = pd.merge(reviews_df, product_df,how='left',left_on='asin',right_on='asin') \n",
        "df.shape\n"
      ],
      "execution_count": 31,
      "outputs": [
        {
          "output_type": "execute_result",
          "data": {
            "text/plain": [
              "(67986, 14)"
            ]
          },
          "metadata": {
            "tags": []
          },
          "execution_count": 31
        }
      ]
    },
    {
      "cell_type": "code",
      "metadata": {
        "id": "IJkxAvFWyDD5",
        "colab": {
          "base_uri": "https://localhost:8080/",
          "height": 385
        },
        "outputId": "2b984070-b0dc-4f41-834c-544a192f9645"
      },
      "source": [
        "df.head()"
      ],
      "execution_count": 32,
      "outputs": [
        {
          "output_type": "execute_result",
          "data": {
            "text/html": [
              "<div>\n",
              "<style scoped>\n",
              "    .dataframe tbody tr th:only-of-type {\n",
              "        vertical-align: middle;\n",
              "    }\n",
              "\n",
              "    .dataframe tbody tr th {\n",
              "        vertical-align: top;\n",
              "    }\n",
              "\n",
              "    .dataframe thead th {\n",
              "        text-align: right;\n",
              "    }\n",
              "</style>\n",
              "<table border=\"1\" class=\"dataframe\">\n",
              "  <thead>\n",
              "    <tr style=\"text-align: right;\">\n",
              "      <th></th>\n",
              "      <th>asin</th>\n",
              "      <th>name</th>\n",
              "      <th>rating_x</th>\n",
              "      <th>date</th>\n",
              "      <th>verified</th>\n",
              "      <th>title_x</th>\n",
              "      <th>body</th>\n",
              "      <th>helpfulVotes</th>\n",
              "      <th>brand</th>\n",
              "      <th>title_y</th>\n",
              "      <th>rating_y</th>\n",
              "      <th>totalReviews</th>\n",
              "      <th>price</th>\n",
              "      <th>originalPrice</th>\n",
              "    </tr>\n",
              "  </thead>\n",
              "  <tbody>\n",
              "    <tr>\n",
              "      <th>0</th>\n",
              "      <td>B0000SX2UC</td>\n",
              "      <td>Janet</td>\n",
              "      <td>3</td>\n",
              "      <td>October 11, 2005</td>\n",
              "      <td>False</td>\n",
              "      <td>Def not best, but not worst</td>\n",
              "      <td>I had the Samsung A600 for awhile which is abs...</td>\n",
              "      <td>1.0000000</td>\n",
              "      <td>NaN</td>\n",
              "      <td>Dual-Band / Tri-Mode Sprint PCS Phone w/ Voice...</td>\n",
              "      <td>3.0000000</td>\n",
              "      <td>14</td>\n",
              "      <td>0.0000000</td>\n",
              "      <td>0.0000000</td>\n",
              "    </tr>\n",
              "    <tr>\n",
              "      <th>1</th>\n",
              "      <td>B0000SX2UC</td>\n",
              "      <td>Luke Wyatt</td>\n",
              "      <td>1</td>\n",
              "      <td>January 7, 2004</td>\n",
              "      <td>False</td>\n",
              "      <td>Text Messaging Doesn't Work</td>\n",
              "      <td>Due to a software issue between Nokia and Spri...</td>\n",
              "      <td>17.0000000</td>\n",
              "      <td>NaN</td>\n",
              "      <td>Dual-Band / Tri-Mode Sprint PCS Phone w/ Voice...</td>\n",
              "      <td>3.0000000</td>\n",
              "      <td>14</td>\n",
              "      <td>0.0000000</td>\n",
              "      <td>0.0000000</td>\n",
              "    </tr>\n",
              "    <tr>\n",
              "      <th>2</th>\n",
              "      <td>B0000SX2UC</td>\n",
              "      <td>Brooke</td>\n",
              "      <td>5</td>\n",
              "      <td>December 30, 2003</td>\n",
              "      <td>False</td>\n",
              "      <td>Love This Phone</td>\n",
              "      <td>This is a great, reliable phone. I also purcha...</td>\n",
              "      <td>5.0000000</td>\n",
              "      <td>NaN</td>\n",
              "      <td>Dual-Band / Tri-Mode Sprint PCS Phone w/ Voice...</td>\n",
              "      <td>3.0000000</td>\n",
              "      <td>14</td>\n",
              "      <td>0.0000000</td>\n",
              "      <td>0.0000000</td>\n",
              "    </tr>\n",
              "    <tr>\n",
              "      <th>3</th>\n",
              "      <td>B0000SX2UC</td>\n",
              "      <td>amy m. teague</td>\n",
              "      <td>3</td>\n",
              "      <td>March 18, 2004</td>\n",
              "      <td>False</td>\n",
              "      <td>Love the Phone, BUT...!</td>\n",
              "      <td>I love the phone and all, because I really did...</td>\n",
              "      <td>1.0000000</td>\n",
              "      <td>NaN</td>\n",
              "      <td>Dual-Band / Tri-Mode Sprint PCS Phone w/ Voice...</td>\n",
              "      <td>3.0000000</td>\n",
              "      <td>14</td>\n",
              "      <td>0.0000000</td>\n",
              "      <td>0.0000000</td>\n",
              "    </tr>\n",
              "    <tr>\n",
              "      <th>4</th>\n",
              "      <td>B0000SX2UC</td>\n",
              "      <td>tristazbimmer</td>\n",
              "      <td>4</td>\n",
              "      <td>August 28, 2005</td>\n",
              "      <td>False</td>\n",
              "      <td>Great phone service and options, lousy case!</td>\n",
              "      <td>The phone has been great for every purpose it ...</td>\n",
              "      <td>1.0000000</td>\n",
              "      <td>NaN</td>\n",
              "      <td>Dual-Band / Tri-Mode Sprint PCS Phone w/ Voice...</td>\n",
              "      <td>3.0000000</td>\n",
              "      <td>14</td>\n",
              "      <td>0.0000000</td>\n",
              "      <td>0.0000000</td>\n",
              "    </tr>\n",
              "  </tbody>\n",
              "</table>\n",
              "</div>"
            ],
            "text/plain": [
              "         asin           name  rating_x               date  verified  \\\n",
              "0  B0000SX2UC          Janet         3   October 11, 2005     False   \n",
              "1  B0000SX2UC     Luke Wyatt         1    January 7, 2004     False   \n",
              "2  B0000SX2UC         Brooke         5  December 30, 2003     False   \n",
              "3  B0000SX2UC  amy m. teague         3     March 18, 2004     False   \n",
              "4  B0000SX2UC  tristazbimmer         4    August 28, 2005     False   \n",
              "\n",
              "                                        title_x  \\\n",
              "0                   Def not best, but not worst   \n",
              "1                   Text Messaging Doesn't Work   \n",
              "2                               Love This Phone   \n",
              "3                       Love the Phone, BUT...!   \n",
              "4  Great phone service and options, lousy case!   \n",
              "\n",
              "                                                body  helpfulVotes brand  \\\n",
              "0  I had the Samsung A600 for awhile which is abs...     1.0000000   NaN   \n",
              "1  Due to a software issue between Nokia and Spri...    17.0000000   NaN   \n",
              "2  This is a great, reliable phone. I also purcha...     5.0000000   NaN   \n",
              "3  I love the phone and all, because I really did...     1.0000000   NaN   \n",
              "4  The phone has been great for every purpose it ...     1.0000000   NaN   \n",
              "\n",
              "                                             title_y  rating_y  totalReviews  \\\n",
              "0  Dual-Band / Tri-Mode Sprint PCS Phone w/ Voice... 3.0000000            14   \n",
              "1  Dual-Band / Tri-Mode Sprint PCS Phone w/ Voice... 3.0000000            14   \n",
              "2  Dual-Band / Tri-Mode Sprint PCS Phone w/ Voice... 3.0000000            14   \n",
              "3  Dual-Band / Tri-Mode Sprint PCS Phone w/ Voice... 3.0000000            14   \n",
              "4  Dual-Band / Tri-Mode Sprint PCS Phone w/ Voice... 3.0000000            14   \n",
              "\n",
              "      price  originalPrice  \n",
              "0 0.0000000      0.0000000  \n",
              "1 0.0000000      0.0000000  \n",
              "2 0.0000000      0.0000000  \n",
              "3 0.0000000      0.0000000  \n",
              "4 0.0000000      0.0000000  "
            ]
          },
          "metadata": {
            "tags": []
          },
          "execution_count": 32
        }
      ]
    },
    {
      "cell_type": "markdown",
      "metadata": {
        "id": "zdTfwlL7fYpq"
      },
      "source": [
        "### 4.9 Rename important features with appropriate names.\n",
        "Imortant features - \"rating_x\": \"user_rating\", \"title_x\": \"review_title\", \"title_y\": \"item_title\", \"rating_y\": \"overall_rating\""
      ]
    },
    {
      "cell_type": "code",
      "metadata": {
        "id": "KI-6FCkZztXM"
      },
      "source": [
        "df.rename(columns={\"rating_x\": \"user_rating\", \"title_x\": \"review_title\",\"title_y\": \"item_title\",\"rating_y\":\"overall_rating\"},inplace=True)"
      ],
      "execution_count": 33,
      "outputs": []
    },
    {
      "cell_type": "code",
      "metadata": {
        "id": "mz2Vj7qv0Ge1",
        "colab": {
          "base_uri": "https://localhost:8080/",
          "height": 535
        },
        "outputId": "b9a297bf-61ec-4558-9759-e73a1161ca60"
      },
      "source": [
        "df.head()"
      ],
      "execution_count": 34,
      "outputs": [
        {
          "output_type": "execute_result",
          "data": {
            "text/html": [
              "<div>\n",
              "<style scoped>\n",
              "    .dataframe tbody tr th:only-of-type {\n",
              "        vertical-align: middle;\n",
              "    }\n",
              "\n",
              "    .dataframe tbody tr th {\n",
              "        vertical-align: top;\n",
              "    }\n",
              "\n",
              "    .dataframe thead th {\n",
              "        text-align: right;\n",
              "    }\n",
              "</style>\n",
              "<table border=\"1\" class=\"dataframe\">\n",
              "  <thead>\n",
              "    <tr style=\"text-align: right;\">\n",
              "      <th></th>\n",
              "      <th>asin</th>\n",
              "      <th>name</th>\n",
              "      <th>user_rating</th>\n",
              "      <th>date</th>\n",
              "      <th>verified</th>\n",
              "      <th>review_title</th>\n",
              "      <th>body</th>\n",
              "      <th>helpfulVotes</th>\n",
              "      <th>brand</th>\n",
              "      <th>item_title</th>\n",
              "      <th>overall_rating</th>\n",
              "      <th>totalReviews</th>\n",
              "      <th>price</th>\n",
              "      <th>originalPrice</th>\n",
              "    </tr>\n",
              "  </thead>\n",
              "  <tbody>\n",
              "    <tr>\n",
              "      <th>0</th>\n",
              "      <td>B0000SX2UC</td>\n",
              "      <td>Janet</td>\n",
              "      <td>3</td>\n",
              "      <td>October 11, 2005</td>\n",
              "      <td>False</td>\n",
              "      <td>Def not best, but not worst</td>\n",
              "      <td>I had the Samsung A600 for awhile which is abs...</td>\n",
              "      <td>1.0000000</td>\n",
              "      <td>NaN</td>\n",
              "      <td>Dual-Band / Tri-Mode Sprint PCS Phone w/ Voice...</td>\n",
              "      <td>3.0000000</td>\n",
              "      <td>14</td>\n",
              "      <td>0.0000000</td>\n",
              "      <td>0.0000000</td>\n",
              "    </tr>\n",
              "    <tr>\n",
              "      <th>1</th>\n",
              "      <td>B0000SX2UC</td>\n",
              "      <td>Luke Wyatt</td>\n",
              "      <td>1</td>\n",
              "      <td>January 7, 2004</td>\n",
              "      <td>False</td>\n",
              "      <td>Text Messaging Doesn't Work</td>\n",
              "      <td>Due to a software issue between Nokia and Spri...</td>\n",
              "      <td>17.0000000</td>\n",
              "      <td>NaN</td>\n",
              "      <td>Dual-Band / Tri-Mode Sprint PCS Phone w/ Voice...</td>\n",
              "      <td>3.0000000</td>\n",
              "      <td>14</td>\n",
              "      <td>0.0000000</td>\n",
              "      <td>0.0000000</td>\n",
              "    </tr>\n",
              "    <tr>\n",
              "      <th>2</th>\n",
              "      <td>B0000SX2UC</td>\n",
              "      <td>Brooke</td>\n",
              "      <td>5</td>\n",
              "      <td>December 30, 2003</td>\n",
              "      <td>False</td>\n",
              "      <td>Love This Phone</td>\n",
              "      <td>This is a great, reliable phone. I also purcha...</td>\n",
              "      <td>5.0000000</td>\n",
              "      <td>NaN</td>\n",
              "      <td>Dual-Band / Tri-Mode Sprint PCS Phone w/ Voice...</td>\n",
              "      <td>3.0000000</td>\n",
              "      <td>14</td>\n",
              "      <td>0.0000000</td>\n",
              "      <td>0.0000000</td>\n",
              "    </tr>\n",
              "    <tr>\n",
              "      <th>3</th>\n",
              "      <td>B0000SX2UC</td>\n",
              "      <td>amy m. teague</td>\n",
              "      <td>3</td>\n",
              "      <td>March 18, 2004</td>\n",
              "      <td>False</td>\n",
              "      <td>Love the Phone, BUT...!</td>\n",
              "      <td>I love the phone and all, because I really did...</td>\n",
              "      <td>1.0000000</td>\n",
              "      <td>NaN</td>\n",
              "      <td>Dual-Band / Tri-Mode Sprint PCS Phone w/ Voice...</td>\n",
              "      <td>3.0000000</td>\n",
              "      <td>14</td>\n",
              "      <td>0.0000000</td>\n",
              "      <td>0.0000000</td>\n",
              "    </tr>\n",
              "    <tr>\n",
              "      <th>4</th>\n",
              "      <td>B0000SX2UC</td>\n",
              "      <td>tristazbimmer</td>\n",
              "      <td>4</td>\n",
              "      <td>August 28, 2005</td>\n",
              "      <td>False</td>\n",
              "      <td>Great phone service and options, lousy case!</td>\n",
              "      <td>The phone has been great for every purpose it ...</td>\n",
              "      <td>1.0000000</td>\n",
              "      <td>NaN</td>\n",
              "      <td>Dual-Band / Tri-Mode Sprint PCS Phone w/ Voice...</td>\n",
              "      <td>3.0000000</td>\n",
              "      <td>14</td>\n",
              "      <td>0.0000000</td>\n",
              "      <td>0.0000000</td>\n",
              "    </tr>\n",
              "  </tbody>\n",
              "</table>\n",
              "</div>"
            ],
            "text/plain": [
              "         asin           name  user_rating               date  verified  \\\n",
              "0  B0000SX2UC          Janet            3   October 11, 2005     False   \n",
              "1  B0000SX2UC     Luke Wyatt            1    January 7, 2004     False   \n",
              "2  B0000SX2UC         Brooke            5  December 30, 2003     False   \n",
              "3  B0000SX2UC  amy m. teague            3     March 18, 2004     False   \n",
              "4  B0000SX2UC  tristazbimmer            4    August 28, 2005     False   \n",
              "\n",
              "                                   review_title  \\\n",
              "0                   Def not best, but not worst   \n",
              "1                   Text Messaging Doesn't Work   \n",
              "2                               Love This Phone   \n",
              "3                       Love the Phone, BUT...!   \n",
              "4  Great phone service and options, lousy case!   \n",
              "\n",
              "                                                body  helpfulVotes brand  \\\n",
              "0  I had the Samsung A600 for awhile which is abs...     1.0000000   NaN   \n",
              "1  Due to a software issue between Nokia and Spri...    17.0000000   NaN   \n",
              "2  This is a great, reliable phone. I also purcha...     5.0000000   NaN   \n",
              "3  I love the phone and all, because I really did...     1.0000000   NaN   \n",
              "4  The phone has been great for every purpose it ...     1.0000000   NaN   \n",
              "\n",
              "                                          item_title  overall_rating  \\\n",
              "0  Dual-Band / Tri-Mode Sprint PCS Phone w/ Voice...       3.0000000   \n",
              "1  Dual-Band / Tri-Mode Sprint PCS Phone w/ Voice...       3.0000000   \n",
              "2  Dual-Band / Tri-Mode Sprint PCS Phone w/ Voice...       3.0000000   \n",
              "3  Dual-Band / Tri-Mode Sprint PCS Phone w/ Voice...       3.0000000   \n",
              "4  Dual-Band / Tri-Mode Sprint PCS Phone w/ Voice...       3.0000000   \n",
              "\n",
              "   totalReviews     price  originalPrice  \n",
              "0            14 0.0000000      0.0000000  \n",
              "1            14 0.0000000      0.0000000  \n",
              "2            14 0.0000000      0.0000000  \n",
              "3            14 0.0000000      0.0000000  \n",
              "4            14 0.0000000      0.0000000  "
            ]
          },
          "metadata": {
            "tags": []
          },
          "execution_count": 34
        }
      ]
    },
    {
      "cell_type": "markdown",
      "metadata": {
        "id": "hNHEElHszthc"
      },
      "source": [
        "### 4.10 Select rows having verified reviews and check the shape of the final dataset"
      ]
    },
    {
      "cell_type": "code",
      "metadata": {
        "id": "Jyav9_Zoz-rT"
      },
      "source": [
        "df = df[df.verified==True]"
      ],
      "execution_count": 35,
      "outputs": []
    },
    {
      "cell_type": "code",
      "metadata": {
        "id": "4FHlpN3x2R4m",
        "colab": {
          "base_uri": "https://localhost:8080/"
        },
        "outputId": "a7545098-2385-459b-8918-2ba581aabe4d"
      },
      "source": [
        "df.shape"
      ],
      "execution_count": 36,
      "outputs": [
        {
          "output_type": "execute_result",
          "data": {
            "text/plain": [
              "(61225, 14)"
            ]
          },
          "metadata": {
            "tags": []
          },
          "execution_count": 36
        }
      ]
    },
    {
      "cell_type": "markdown",
      "metadata": {
        "id": "EpKusPjdz-2q"
      },
      "source": [
        "### 4.11 Check the number of reviews for various brands and report the brand that have highest number of reviews"
      ]
    },
    {
      "cell_type": "code",
      "metadata": {
        "id": "5tux6vwr0JDb",
        "colab": {
          "base_uri": "https://localhost:8080/"
        },
        "outputId": "df6aaffb-ba21-41fb-e417-4092f6d2a8c6"
      },
      "source": [
        "# Calculating  the number of reviews for various brands \n",
        "reviews_brand = df.groupby(by='brand')['totalReviews'].count().sort_values(ascending=False)\n",
        "reviews_brand"
      ],
      "execution_count": 37,
      "outputs": [
        {
          "output_type": "execute_result",
          "data": {
            "text/plain": [
              "brand\n",
              "Samsung     31020\n",
              "Motorola     7714\n",
              "Nokia        4878\n",
              "Apple        4876\n",
              "Xiaomi       4207\n",
              "Google       3163\n",
              "Sony         2691\n",
              "HUAWEI       2019\n",
              "OnePlus       304\n",
              "ASUS          206\n",
              "Name: totalReviews, dtype: int64"
            ]
          },
          "metadata": {
            "tags": []
          },
          "execution_count": 37
        }
      ]
    },
    {
      "cell_type": "code",
      "metadata": {
        "id": "bHul99wY4JTY",
        "colab": {
          "base_uri": "https://localhost:8080/",
          "height": 281
        },
        "outputId": "540c05e6-6de0-42e7-c16f-b17be3d989b3"
      },
      "source": [
        "reviews_brand.plot(kind='barh')"
      ],
      "execution_count": 38,
      "outputs": [
        {
          "output_type": "execute_result",
          "data": {
            "text/plain": [
              "<matplotlib.axes._subplots.AxesSubplot at 0x7f0764d72910>"
            ]
          },
          "metadata": {
            "tags": []
          },
          "execution_count": 38
        },
        {
          "output_type": "display_data",
          "data": {
            "image/png": "[encoded data removed]",
            "text/plain": [
              "<Figure size 432x288 with 1 Axes>"
            ]
          },
          "metadata": {
            "tags": [],
            "needs_background": "light"
          }
        }
      ]
    },
    {
      "cell_type": "markdown",
      "metadata": {
        "id": "yqrzpQHEDN2H"
      },
      "source": [
        "**Samsumg is the most reviewed brand.It has reviews above 30000**"
      ]
    },
    {
      "cell_type": "markdown",
      "metadata": {
        "id": "gPGjMFE-0Q5k"
      },
      "source": [
        "### 4.12 Drop irrelevant columns and keep important features like 'brand','body','price','user_rating','review_title' for further analysis"
      ]
    },
    {
      "cell_type": "code",
      "metadata": {
        "id": "C2WRpTZB3I9N",
        "colab": {
          "base_uri": "https://localhost:8080/",
          "height": 176
        },
        "outputId": "e6bf2b4f-4789-4845-cd13-fd4ab0895fd2"
      },
      "source": [
        "df.head(2)"
      ],
      "execution_count": 39,
      "outputs": [
        {
          "output_type": "execute_result",
          "data": {
            "text/html": [
              "<div>\n",
              "<style scoped>\n",
              "    .dataframe tbody tr th:only-of-type {\n",
              "        vertical-align: middle;\n",
              "    }\n",
              "\n",
              "    .dataframe tbody tr th {\n",
              "        vertical-align: top;\n",
              "    }\n",
              "\n",
              "    .dataframe thead th {\n",
              "        text-align: right;\n",
              "    }\n",
              "</style>\n",
              "<table border=\"1\" class=\"dataframe\">\n",
              "  <thead>\n",
              "    <tr style=\"text-align: right;\">\n",
              "      <th></th>\n",
              "      <th>asin</th>\n",
              "      <th>name</th>\n",
              "      <th>user_rating</th>\n",
              "      <th>date</th>\n",
              "      <th>verified</th>\n",
              "      <th>review_title</th>\n",
              "      <th>body</th>\n",
              "      <th>helpfulVotes</th>\n",
              "      <th>brand</th>\n",
              "      <th>item_title</th>\n",
              "      <th>overall_rating</th>\n",
              "      <th>totalReviews</th>\n",
              "      <th>price</th>\n",
              "      <th>originalPrice</th>\n",
              "    </tr>\n",
              "  </thead>\n",
              "  <tbody>\n",
              "    <tr>\n",
              "      <th>14</th>\n",
              "      <td>B0009N5L7K</td>\n",
              "      <td>Marcel Thomas</td>\n",
              "      <td>1</td>\n",
              "      <td>March 5, 2016</td>\n",
              "      <td>True</td>\n",
              "      <td>Stupid phone</td>\n",
              "      <td>DON'T BUY OUT OF SERVICE</td>\n",
              "      <td>nan</td>\n",
              "      <td>Motorola</td>\n",
              "      <td>Motorola I265 phone</td>\n",
              "      <td>3.0000000</td>\n",
              "      <td>7</td>\n",
              "      <td>49.9500000</td>\n",
              "      <td>0.0000000</td>\n",
              "    </tr>\n",
              "    <tr>\n",
              "      <th>17</th>\n",
              "      <td>B0009N5L7K</td>\n",
              "      <td>Stephen Cahill</td>\n",
              "      <td>1</td>\n",
              "      <td>December 20, 2016</td>\n",
              "      <td>True</td>\n",
              "      <td>Phones locked</td>\n",
              "      <td>1 star because the phones locked so I have to ...</td>\n",
              "      <td>nan</td>\n",
              "      <td>Motorola</td>\n",
              "      <td>Motorola I265 phone</td>\n",
              "      <td>3.0000000</td>\n",
              "      <td>7</td>\n",
              "      <td>49.9500000</td>\n",
              "      <td>0.0000000</td>\n",
              "    </tr>\n",
              "  </tbody>\n",
              "</table>\n",
              "</div>"
            ],
            "text/plain": [
              "          asin            name  user_rating               date  verified  \\\n",
              "14  B0009N5L7K   Marcel Thomas            1      March 5, 2016      True   \n",
              "17  B0009N5L7K  Stephen Cahill            1  December 20, 2016      True   \n",
              "\n",
              "     review_title                                               body  \\\n",
              "14   Stupid phone                           DON'T BUY OUT OF SERVICE   \n",
              "17  Phones locked  1 star because the phones locked so I have to ...   \n",
              "\n",
              "    helpfulVotes     brand           item_title  overall_rating  totalReviews  \\\n",
              "14           nan  Motorola  Motorola I265 phone       3.0000000             7   \n",
              "17           nan  Motorola  Motorola I265 phone       3.0000000             7   \n",
              "\n",
              "        price  originalPrice  \n",
              "14 49.9500000      0.0000000  \n",
              "17 49.9500000      0.0000000  "
            ]
          },
          "metadata": {
            "tags": []
          },
          "execution_count": 39
        }
      ]
    },
    {
      "cell_type": "code",
      "metadata": {
        "id": "rfeM8keU3V9T",
        "colab": {
          "base_uri": "https://localhost:8080/"
        },
        "outputId": "efbf8f55-448e-4f33-e988-72a989a2688b"
      },
      "source": [
        "df.columns"
      ],
      "execution_count": 40,
      "outputs": [
        {
          "output_type": "execute_result",
          "data": {
            "text/plain": [
              "Index(['asin', 'name', 'user_rating', 'date', 'verified', 'review_title',\n",
              "       'body', 'helpfulVotes', 'brand', 'item_title', 'overall_rating',\n",
              "       'totalReviews', 'price', 'originalPrice'],\n",
              "      dtype='object')"
            ]
          },
          "metadata": {
            "tags": []
          },
          "execution_count": 40
        }
      ]
    },
    {
      "cell_type": "code",
      "metadata": {
        "id": "J_IvLN6e0e6z"
      },
      "source": [
        "# Dropping unnecessary columns\n",
        "df_final = df.drop(['asin', 'totalReviews','originalPrice', 'name', 'overall_rating', 'date', 'verified','item_title',  'helpfulVotes'],axis=1)"
      ],
      "execution_count": 41,
      "outputs": []
    },
    {
      "cell_type": "code",
      "metadata": {
        "id": "NUm8fqvM4by_",
        "colab": {
          "base_uri": "https://localhost:8080/",
          "height": 110
        },
        "outputId": "7a9cdc21-fa11-494f-b019-23d40e756857"
      },
      "source": [
        "df_final.head(2)"
      ],
      "execution_count": 42,
      "outputs": [
        {
          "output_type": "execute_result",
          "data": {
            "text/html": [
              "<div>\n",
              "<style scoped>\n",
              "    .dataframe tbody tr th:only-of-type {\n",
              "        vertical-align: middle;\n",
              "    }\n",
              "\n",
              "    .dataframe tbody tr th {\n",
              "        vertical-align: top;\n",
              "    }\n",
              "\n",
              "    .dataframe thead th {\n",
              "        text-align: right;\n",
              "    }\n",
              "</style>\n",
              "<table border=\"1\" class=\"dataframe\">\n",
              "  <thead>\n",
              "    <tr style=\"text-align: right;\">\n",
              "      <th></th>\n",
              "      <th>user_rating</th>\n",
              "      <th>review_title</th>\n",
              "      <th>body</th>\n",
              "      <th>brand</th>\n",
              "      <th>price</th>\n",
              "    </tr>\n",
              "  </thead>\n",
              "  <tbody>\n",
              "    <tr>\n",
              "      <th>14</th>\n",
              "      <td>1</td>\n",
              "      <td>Stupid phone</td>\n",
              "      <td>DON'T BUY OUT OF SERVICE</td>\n",
              "      <td>Motorola</td>\n",
              "      <td>49.9500000</td>\n",
              "    </tr>\n",
              "    <tr>\n",
              "      <th>17</th>\n",
              "      <td>1</td>\n",
              "      <td>Phones locked</td>\n",
              "      <td>1 star because the phones locked so I have to ...</td>\n",
              "      <td>Motorola</td>\n",
              "      <td>49.9500000</td>\n",
              "    </tr>\n",
              "  </tbody>\n",
              "</table>\n",
              "</div>"
            ],
            "text/plain": [
              "    user_rating   review_title  \\\n",
              "14            1   Stupid phone   \n",
              "17            1  Phones locked   \n",
              "\n",
              "                                                 body     brand      price  \n",
              "14                           DON'T BUY OUT OF SERVICE  Motorola 49.9500000  \n",
              "17  1 star because the phones locked so I have to ...  Motorola 49.9500000  "
            ]
          },
          "metadata": {
            "tags": []
          },
          "execution_count": 42
        }
      ]
    },
    {
      "cell_type": "code",
      "metadata": {
        "id": "dUFAvuSw6tFz",
        "colab": {
          "base_uri": "https://localhost:8080/"
        },
        "outputId": "b4499178-1116-4533-a522-37ddc0ebaf4a"
      },
      "source": [
        "# Final shape of DF\n",
        "df_final.shape"
      ],
      "execution_count": 43,
      "outputs": [
        {
          "output_type": "execute_result",
          "data": {
            "text/plain": [
              "(61225, 5)"
            ]
          },
          "metadata": {
            "tags": []
          },
          "execution_count": 43
        }
      ]
    },
    {
      "cell_type": "markdown",
      "metadata": {
        "id": "Gzo_rVT60fDf"
      },
      "source": [
        "### 4.13 Perform univariate analysis. Check distribution of price, user_rating"
      ]
    },
    {
      "cell_type": "code",
      "metadata": {
        "id": "F3vzILxZ0t0L",
        "colab": {
          "base_uri": "https://localhost:8080/",
          "height": 385
        },
        "outputId": "7da6ea20-0783-44a9-baa2-726a5abfd50a"
      },
      "source": [
        "sns.displot(data=df_final,x='price')"
      ],
      "execution_count": 44,
      "outputs": [
        {
          "output_type": "execute_result",
          "data": {
            "text/plain": [
              "<seaborn.axisgrid.FacetGrid at 0x7f07723f9890>"
            ]
          },
          "metadata": {
            "tags": []
          },
          "execution_count": 44
        },
        {
          "output_type": "display_data",
          "data": {
            "image/png": "[encoded data removed]",
            "text/plain": [
              "<Figure size 360x360 with 1 Axes>"
            ]
          },
          "metadata": {
            "tags": [],
            "needs_background": "light"
          }
        }
      ]
    },
    {
      "cell_type": "code",
      "metadata": {
        "id": "aVZOcwh_62rm",
        "colab": {
          "base_uri": "https://localhost:8080/",
          "height": 385
        },
        "outputId": "53ac5af1-d8a1-47e9-c29b-e33bf5e58f31"
      },
      "source": [
        "sns.displot(data=df_final,x='price',kind='kde')"
      ],
      "execution_count": 45,
      "outputs": [
        {
          "output_type": "execute_result",
          "data": {
            "text/plain": [
              "<seaborn.axisgrid.FacetGrid at 0x7f0764d3b450>"
            ]
          },
          "metadata": {
            "tags": []
          },
          "execution_count": 45
        },
        {
          "output_type": "display_data",
          "data": {
            "image/png": "[encoded data removed]",
            "text/plain": [
              "<Figure size 360x360 with 1 Axes>"
            ]
          },
          "metadata": {
            "tags": [],
            "needs_background": "light"
          }
        }
      ]
    },
    {
      "cell_type": "code",
      "metadata": {
        "id": "go3DsODz5Efc",
        "colab": {
          "base_uri": "https://localhost:8080/",
          "height": 385
        },
        "outputId": "b6b7669c-0045-4902-fe75-9992e1c83df5"
      },
      "source": [
        "sns.displot(data=df_final,x='user_rating')"
      ],
      "execution_count": 46,
      "outputs": [
        {
          "output_type": "execute_result",
          "data": {
            "text/plain": [
              "<seaborn.axisgrid.FacetGrid at 0x7f0764d71250>"
            ]
          },
          "metadata": {
            "tags": []
          },
          "execution_count": 46
        },
        {
          "output_type": "display_data",
          "data": {
            "image/png": "[encoded data removed]",
            "text/plain": [
              "<Figure size 360x360 with 1 Axes>"
            ]
          },
          "metadata": {
            "tags": [],
            "needs_background": "light"
          }
        }
      ]
    },
    {
      "cell_type": "code",
      "metadata": {
        "id": "EvR0H6616-LG",
        "colab": {
          "base_uri": "https://localhost:8080/",
          "height": 385
        },
        "outputId": "a11f8fc5-ad9a-42f5-e8b3-c8534676fc11"
      },
      "source": [
        "sns.displot(data=df_final,x='user_rating',kind='kde')"
      ],
      "execution_count": 47,
      "outputs": [
        {
          "output_type": "execute_result",
          "data": {
            "text/plain": [
              "<seaborn.axisgrid.FacetGrid at 0x7f0764a32a10>"
            ]
          },
          "metadata": {
            "tags": []
          },
          "execution_count": 47
        },
        {
          "output_type": "display_data",
          "data": {
            "image/png": "[encoded data removed]",
            "text/plain": [
              "<Figure size 360x360 with 1 Axes>"
            ]
          },
          "metadata": {
            "tags": [],
            "needs_background": "light"
          }
        }
      ]
    },
    {
      "cell_type": "code",
      "metadata": {
        "id": "ADwHzN5X7H7G",
        "colab": {
          "base_uri": "https://localhost:8080/",
          "height": 296
        },
        "outputId": "82aa80c6-238d-43ce-9ba6-d0a4aeedc672"
      },
      "source": [
        "sns.countplot(df_final['user_rating'])"
      ],
      "execution_count": 48,
      "outputs": [
        {
          "output_type": "execute_result",
          "data": {
            "text/plain": [
              "<matplotlib.axes._subplots.AxesSubplot at 0x7f0764a1ae90>"
            ]
          },
          "metadata": {
            "tags": []
          },
          "execution_count": 48
        },
        {
          "output_type": "display_data",
          "data": {
            "image/png": "[encoded data removed]",
            "text/plain": [
              "<Figure size 432x288 with 1 Axes>"
            ]
          },
          "metadata": {
            "tags": [],
            "needs_background": "light"
          }
        }
      ]
    },
    {
      "cell_type": "code",
      "metadata": {
        "id": "VdPJmGiy9mLW",
        "colab": {
          "base_uri": "https://localhost:8080/"
        },
        "outputId": "ed41c91c-5090-458d-8c30-b4b317eba975"
      },
      "source": [
        "df_final['user_rating'].value_counts()"
      ],
      "execution_count": 49,
      "outputs": [
        {
          "output_type": "execute_result",
          "data": {
            "text/plain": [
              "5    35001\n",
              "1    10910\n",
              "4     7938\n",
              "3     4128\n",
              "2     3248\n",
              "Name: user_rating, dtype: int64"
            ]
          },
          "metadata": {
            "tags": []
          },
          "execution_count": 49
        }
      ]
    },
    {
      "cell_type": "markdown",
      "metadata": {
        "id": "x0Y_kE9T0uAf"
      },
      "source": [
        "### 4.14 Create a new column called \"sentiment\". It should have value as 1 (positive) if the user_Rating is greater than 3, value as 0 (negative) if the user_Rating <= 3"
      ]
    },
    {
      "cell_type": "code",
      "metadata": {
        "id": "ktN_vHKW7Go9"
      },
      "source": [
        "df_final['sentiment'] = df_final['user_rating'].apply(lambda x : 1 if x > 3 else 0)"
      ],
      "execution_count": 50,
      "outputs": []
    },
    {
      "cell_type": "code",
      "metadata": {
        "id": "uO9wrtVj5D1T",
        "colab": {
          "base_uri": "https://localhost:8080/",
          "height": 202
        },
        "outputId": "c8b60656-9b7d-428f-9699-5778b095ec29"
      },
      "source": [
        "df_final.head()"
      ],
      "execution_count": 51,
      "outputs": [
        {
          "output_type": "execute_result",
          "data": {
            "text/html": [
              "<div>\n",
              "<style scoped>\n",
              "    .dataframe tbody tr th:only-of-type {\n",
              "        vertical-align: middle;\n",
              "    }\n",
              "\n",
              "    .dataframe tbody tr th {\n",
              "        vertical-align: top;\n",
              "    }\n",
              "\n",
              "    .dataframe thead th {\n",
              "        text-align: right;\n",
              "    }\n",
              "</style>\n",
              "<table border=\"1\" class=\"dataframe\">\n",
              "  <thead>\n",
              "    <tr style=\"text-align: right;\">\n",
              "      <th></th>\n",
              "      <th>user_rating</th>\n",
              "      <th>review_title</th>\n",
              "      <th>body</th>\n",
              "      <th>brand</th>\n",
              "      <th>price</th>\n",
              "      <th>sentiment</th>\n",
              "    </tr>\n",
              "  </thead>\n",
              "  <tbody>\n",
              "    <tr>\n",
              "      <th>14</th>\n",
              "      <td>1</td>\n",
              "      <td>Stupid phone</td>\n",
              "      <td>DON'T BUY OUT OF SERVICE</td>\n",
              "      <td>Motorola</td>\n",
              "      <td>49.9500000</td>\n",
              "      <td>0</td>\n",
              "    </tr>\n",
              "    <tr>\n",
              "      <th>17</th>\n",
              "      <td>1</td>\n",
              "      <td>Phones locked</td>\n",
              "      <td>1 star because the phones locked so I have to ...</td>\n",
              "      <td>Motorola</td>\n",
              "      <td>49.9500000</td>\n",
              "      <td>0</td>\n",
              "    </tr>\n",
              "    <tr>\n",
              "      <th>18</th>\n",
              "      <td>5</td>\n",
              "      <td>Excellent product</td>\n",
              "      <td>The product has been very good. I had used thi...</td>\n",
              "      <td>Motorola</td>\n",
              "      <td>49.9500000</td>\n",
              "      <td>1</td>\n",
              "    </tr>\n",
              "    <tr>\n",
              "      <th>21</th>\n",
              "      <td>4</td>\n",
              "      <td>Nice, but</td>\n",
              "      <td>I bought this phone to replace an LG phone tha...</td>\n",
              "      <td>Motorola</td>\n",
              "      <td>99.9900000</td>\n",
              "      <td>1</td>\n",
              "    </tr>\n",
              "    <tr>\n",
              "      <th>22</th>\n",
              "      <td>1</td>\n",
              "      <td>It seems it doesn't work with the existing AT&amp;...</td>\n",
              "      <td>I purchased this phone for my AT&amp;T phone repla...</td>\n",
              "      <td>Motorola</td>\n",
              "      <td>99.9900000</td>\n",
              "      <td>0</td>\n",
              "    </tr>\n",
              "  </tbody>\n",
              "</table>\n",
              "</div>"
            ],
            "text/plain": [
              "    user_rating                                       review_title  \\\n",
              "14            1                                       Stupid phone   \n",
              "17            1                                      Phones locked   \n",
              "18            5                                  Excellent product   \n",
              "21            4                                          Nice, but   \n",
              "22            1  It seems it doesn't work with the existing AT&...   \n",
              "\n",
              "                                                 body     brand      price  \\\n",
              "14                           DON'T BUY OUT OF SERVICE  Motorola 49.9500000   \n",
              "17  1 star because the phones locked so I have to ...  Motorola 49.9500000   \n",
              "18  The product has been very good. I had used thi...  Motorola 49.9500000   \n",
              "21  I bought this phone to replace an LG phone tha...  Motorola 99.9900000   \n",
              "22  I purchased this phone for my AT&T phone repla...  Motorola 99.9900000   \n",
              "\n",
              "    sentiment  \n",
              "14          0  \n",
              "17          0  \n",
              "18          1  \n",
              "21          1  \n",
              "22          0  "
            ]
          },
          "metadata": {
            "tags": []
          },
          "execution_count": 51
        }
      ]
    },
    {
      "cell_type": "markdown",
      "metadata": {
        "id": "K4rxSZWp1VAb"
      },
      "source": [
        "### 4.15 Check frequency distribution of the 'sentiment'"
      ]
    },
    {
      "cell_type": "code",
      "metadata": {
        "id": "yt3gH7Iz1dVP",
        "colab": {
          "base_uri": "https://localhost:8080/"
        },
        "outputId": "6802285e-3508-4b23-805c-b714556ed2c2"
      },
      "source": [
        "df_final['sentiment'].value_counts()"
      ],
      "execution_count": 52,
      "outputs": [
        {
          "output_type": "execute_result",
          "data": {
            "text/plain": [
              "1    42939\n",
              "0    18286\n",
              "Name: sentiment, dtype: int64"
            ]
          },
          "metadata": {
            "tags": []
          },
          "execution_count": 52
        }
      ]
    },
    {
      "cell_type": "code",
      "metadata": {
        "id": "Z-a605SY9ImY",
        "colab": {
          "base_uri": "https://localhost:8080/",
          "height": 295
        },
        "outputId": "3cfd7e47-94d0-4594-f060-0549dfc8a65f"
      },
      "source": [
        "sns.countplot(df_final['sentiment'])"
      ],
      "execution_count": 53,
      "outputs": [
        {
          "output_type": "execute_result",
          "data": {
            "text/plain": [
              "<matplotlib.axes._subplots.AxesSubplot at 0x7f07643e39d0>"
            ]
          },
          "metadata": {
            "tags": []
          },
          "execution_count": 53
        },
        {
          "output_type": "display_data",
          "data": {
            "image/png": "[encoded data removed]",
            "text/plain": [
              "<Figure size 432x288 with 1 Axes>"
            ]
          },
          "metadata": {
            "tags": [],
            "needs_background": "light"
          }
        }
      ]
    },
    {
      "cell_type": "markdown",
      "metadata": {
        "id": "rK0KMghP1ddb"
      },
      "source": [
        "### 4.16 Perform bivariate analysis. Check correlation/crosstab between features and write your inferences."
      ]
    },
    {
      "cell_type": "code",
      "metadata": {
        "id": "scAV4fRg1nX0",
        "colab": {
          "base_uri": "https://localhost:8080/",
          "height": 141
        },
        "outputId": "d890b76a-4cbe-49f1-cdf9-44990ee83596"
      },
      "source": [
        "df_final.corr()"
      ],
      "execution_count": 54,
      "outputs": [
        {
          "output_type": "execute_result",
          "data": {
            "text/html": [
              "<div>\n",
              "<style scoped>\n",
              "    .dataframe tbody tr th:only-of-type {\n",
              "        vertical-align: middle;\n",
              "    }\n",
              "\n",
              "    .dataframe tbody tr th {\n",
              "        vertical-align: top;\n",
              "    }\n",
              "\n",
              "    .dataframe thead th {\n",
              "        text-align: right;\n",
              "    }\n",
              "</style>\n",
              "<table border=\"1\" class=\"dataframe\">\n",
              "  <thead>\n",
              "    <tr style=\"text-align: right;\">\n",
              "      <th></th>\n",
              "      <th>user_rating</th>\n",
              "      <th>price</th>\n",
              "      <th>sentiment</th>\n",
              "    </tr>\n",
              "  </thead>\n",
              "  <tbody>\n",
              "    <tr>\n",
              "      <th>user_rating</th>\n",
              "      <td>1.0000000</td>\n",
              "      <td>0.0549462</td>\n",
              "      <td>0.9341710</td>\n",
              "    </tr>\n",
              "    <tr>\n",
              "      <th>price</th>\n",
              "      <td>0.0549462</td>\n",
              "      <td>1.0000000</td>\n",
              "      <td>0.0511434</td>\n",
              "    </tr>\n",
              "    <tr>\n",
              "      <th>sentiment</th>\n",
              "      <td>0.9341710</td>\n",
              "      <td>0.0511434</td>\n",
              "      <td>1.0000000</td>\n",
              "    </tr>\n",
              "  </tbody>\n",
              "</table>\n",
              "</div>"
            ],
            "text/plain": [
              "             user_rating     price  sentiment\n",
              "user_rating    1.0000000 0.0549462  0.9341710\n",
              "price          0.0549462 1.0000000  0.0511434\n",
              "sentiment      0.9341710 0.0511434  1.0000000"
            ]
          },
          "metadata": {
            "tags": []
          },
          "execution_count": 54
        }
      ]
    },
    {
      "cell_type": "markdown",
      "metadata": {
        "id": "M8ffX69s_DKT"
      },
      "source": [
        "\n",
        "\n",
        "*   user_rating and sentiments are positively correlated.\n",
        "*   price doesnt seem to have larger influence on either sentiments of user or their ratings\n",
        "\n",
        "\n"
      ]
    },
    {
      "cell_type": "code",
      "metadata": {
        "id": "9wrGbgSlDOox",
        "colab": {
          "base_uri": "https://localhost:8080/",
          "height": 295
        },
        "outputId": "8e0b70e1-f4e6-4357-f28c-6982b39e8539"
      },
      "source": [
        "sns.boxplot(x=df_final['sentiment'],y=df_final['price'])"
      ],
      "execution_count": 55,
      "outputs": [
        {
          "output_type": "execute_result",
          "data": {
            "text/plain": [
              "<matplotlib.axes._subplots.AxesSubplot at 0x7f0763a2c490>"
            ]
          },
          "metadata": {
            "tags": []
          },
          "execution_count": 55
        },
        {
          "output_type": "display_data",
          "data": {
            "image/png": "[encoded data removed]",
            "text/plain": [
              "<Figure size 432x288 with 1 Axes>"
            ]
          },
          "metadata": {
            "tags": [],
            "needs_background": "light"
          }
        }
      ]
    },
    {
      "cell_type": "code",
      "metadata": {
        "id": "XRLbkEdmENsn",
        "colab": {
          "base_uri": "https://localhost:8080/",
          "height": 385
        },
        "outputId": "7fbc02eb-6576-4df2-d40c-42ae5d9c6172"
      },
      "source": [
        "pd.crosstab(df_final['brand'],df_final['sentiment'])"
      ],
      "execution_count": 56,
      "outputs": [
        {
          "output_type": "execute_result",
          "data": {
            "text/html": [
              "<div>\n",
              "<style scoped>\n",
              "    .dataframe tbody tr th:only-of-type {\n",
              "        vertical-align: middle;\n",
              "    }\n",
              "\n",
              "    .dataframe tbody tr th {\n",
              "        vertical-align: top;\n",
              "    }\n",
              "\n",
              "    .dataframe thead th {\n",
              "        text-align: right;\n",
              "    }\n",
              "</style>\n",
              "<table border=\"1\" class=\"dataframe\">\n",
              "  <thead>\n",
              "    <tr style=\"text-align: right;\">\n",
              "      <th>sentiment</th>\n",
              "      <th>0</th>\n",
              "      <th>1</th>\n",
              "    </tr>\n",
              "    <tr>\n",
              "      <th>brand</th>\n",
              "      <th></th>\n",
              "      <th></th>\n",
              "    </tr>\n",
              "  </thead>\n",
              "  <tbody>\n",
              "    <tr>\n",
              "      <th>ASUS</th>\n",
              "      <td>69</td>\n",
              "      <td>137</td>\n",
              "    </tr>\n",
              "    <tr>\n",
              "      <th>Apple</th>\n",
              "      <td>1627</td>\n",
              "      <td>3249</td>\n",
              "    </tr>\n",
              "    <tr>\n",
              "      <th>Google</th>\n",
              "      <td>1011</td>\n",
              "      <td>2152</td>\n",
              "    </tr>\n",
              "    <tr>\n",
              "      <th>HUAWEI</th>\n",
              "      <td>366</td>\n",
              "      <td>1653</td>\n",
              "    </tr>\n",
              "    <tr>\n",
              "      <th>Motorola</th>\n",
              "      <td>2220</td>\n",
              "      <td>5494</td>\n",
              "    </tr>\n",
              "    <tr>\n",
              "      <th>Nokia</th>\n",
              "      <td>1904</td>\n",
              "      <td>2974</td>\n",
              "    </tr>\n",
              "    <tr>\n",
              "      <th>OnePlus</th>\n",
              "      <td>45</td>\n",
              "      <td>259</td>\n",
              "    </tr>\n",
              "    <tr>\n",
              "      <th>Samsung</th>\n",
              "      <td>9499</td>\n",
              "      <td>21521</td>\n",
              "    </tr>\n",
              "    <tr>\n",
              "      <th>Sony</th>\n",
              "      <td>879</td>\n",
              "      <td>1812</td>\n",
              "    </tr>\n",
              "    <tr>\n",
              "      <th>Xiaomi</th>\n",
              "      <td>628</td>\n",
              "      <td>3579</td>\n",
              "    </tr>\n",
              "  </tbody>\n",
              "</table>\n",
              "</div>"
            ],
            "text/plain": [
              "sentiment     0      1\n",
              "brand                 \n",
              "ASUS         69    137\n",
              "Apple      1627   3249\n",
              "Google     1011   2152\n",
              "HUAWEI      366   1653\n",
              "Motorola   2220   5494\n",
              "Nokia      1904   2974\n",
              "OnePlus      45    259\n",
              "Samsung    9499  21521\n",
              "Sony        879   1812\n",
              "Xiaomi      628   3579"
            ]
          },
          "metadata": {
            "tags": []
          },
          "execution_count": 56
        }
      ]
    },
    {
      "cell_type": "code",
      "metadata": {
        "id": "le_K1rFgDaYP",
        "colab": {
          "base_uri": "https://localhost:8080/",
          "height": 385
        },
        "outputId": "50e392fb-0806-4a85-ff0e-4f3aeca7dcb7"
      },
      "source": [
        "pd.crosstab(df_final['brand'],df_final['sentiment']).apply(lambda x : x/x.sum(),axis=1)"
      ],
      "execution_count": 57,
      "outputs": [
        {
          "output_type": "execute_result",
          "data": {
            "text/html": [
              "<div>\n",
              "<style scoped>\n",
              "    .dataframe tbody tr th:only-of-type {\n",
              "        vertical-align: middle;\n",
              "    }\n",
              "\n",
              "    .dataframe tbody tr th {\n",
              "        vertical-align: top;\n",
              "    }\n",
              "\n",
              "    .dataframe thead th {\n",
              "        text-align: right;\n",
              "    }\n",
              "</style>\n",
              "<table border=\"1\" class=\"dataframe\">\n",
              "  <thead>\n",
              "    <tr style=\"text-align: right;\">\n",
              "      <th>sentiment</th>\n",
              "      <th>0</th>\n",
              "      <th>1</th>\n",
              "    </tr>\n",
              "    <tr>\n",
              "      <th>brand</th>\n",
              "      <th></th>\n",
              "      <th></th>\n",
              "    </tr>\n",
              "  </thead>\n",
              "  <tbody>\n",
              "    <tr>\n",
              "      <th>ASUS</th>\n",
              "      <td>0.3349515</td>\n",
              "      <td>0.6650485</td>\n",
              "    </tr>\n",
              "    <tr>\n",
              "      <th>Apple</th>\n",
              "      <td>0.3336751</td>\n",
              "      <td>0.6663249</td>\n",
              "    </tr>\n",
              "    <tr>\n",
              "      <th>Google</th>\n",
              "      <td>0.3196333</td>\n",
              "      <td>0.6803667</td>\n",
              "    </tr>\n",
              "    <tr>\n",
              "      <th>HUAWEI</th>\n",
              "      <td>0.1812779</td>\n",
              "      <td>0.8187221</td>\n",
              "    </tr>\n",
              "    <tr>\n",
              "      <th>Motorola</th>\n",
              "      <td>0.2877884</td>\n",
              "      <td>0.7122116</td>\n",
              "    </tr>\n",
              "    <tr>\n",
              "      <th>Nokia</th>\n",
              "      <td>0.3903239</td>\n",
              "      <td>0.6096761</td>\n",
              "    </tr>\n",
              "    <tr>\n",
              "      <th>OnePlus</th>\n",
              "      <td>0.1480263</td>\n",
              "      <td>0.8519737</td>\n",
              "    </tr>\n",
              "    <tr>\n",
              "      <th>Samsung</th>\n",
              "      <td>0.3062218</td>\n",
              "      <td>0.6937782</td>\n",
              "    </tr>\n",
              "    <tr>\n",
              "      <th>Sony</th>\n",
              "      <td>0.3266444</td>\n",
              "      <td>0.6733556</td>\n",
              "    </tr>\n",
              "    <tr>\n",
              "      <th>Xiaomi</th>\n",
              "      <td>0.1492750</td>\n",
              "      <td>0.8507250</td>\n",
              "    </tr>\n",
              "  </tbody>\n",
              "</table>\n",
              "</div>"
            ],
            "text/plain": [
              "sentiment         0         1\n",
              "brand                        \n",
              "ASUS      0.3349515 0.6650485\n",
              "Apple     0.3336751 0.6663249\n",
              "Google    0.3196333 0.6803667\n",
              "HUAWEI    0.1812779 0.8187221\n",
              "Motorola  0.2877884 0.7122116\n",
              "Nokia     0.3903239 0.6096761\n",
              "OnePlus   0.1480263 0.8519737\n",
              "Samsung   0.3062218 0.6937782\n",
              "Sony      0.3266444 0.6733556\n",
              "Xiaomi    0.1492750 0.8507250"
            ]
          },
          "metadata": {
            "tags": []
          },
          "execution_count": 57
        }
      ]
    },
    {
      "cell_type": "markdown",
      "metadata": {
        "id": "2Nzj7ZXVLakx"
      },
      "source": [
        "## 5. Text Preprocessing and Vectorization"
      ]
    },
    {
      "cell_type": "markdown",
      "metadata": {
        "id": "ZbC_RPndnlf3"
      },
      "source": [
        "We will analyze the 'body' and 'review_title' to gain more understanding.\n",
        "\n",
        "We will peform the below tasks\n",
        "\n",
        "- Convert the text into lowercase\n",
        "- Remove punctuation\n",
        "- Remove stopwords (English, from nltk corpus)\n",
        "- Remove other keywords like \"phone\" and brand name"
      ]
    },
    {
      "cell_type": "markdown",
      "metadata": {
        "id": "XnhMQsxz2DJH"
      },
      "source": [
        "### 5.1 Change the datatype of the 'body' column to 'str' and convert it into lowercase. Print any two samples and check the output."
      ]
    },
    {
      "cell_type": "code",
      "metadata": {
        "id": "p0Zwnfsl_3mk",
        "colab": {
          "base_uri": "https://localhost:8080/"
        },
        "outputId": "7bc9fb60-8a4f-4aa1-a0c8-0ce6e9284b2f"
      },
      "source": [
        "df_final.info()"
      ],
      "execution_count": 58,
      "outputs": [
        {
          "output_type": "stream",
          "text": [
            "<class 'pandas.core.frame.DataFrame'>\n",
            "Int64Index: 61225 entries, 14 to 67984\n",
            "Data columns (total 6 columns):\n",
            " #   Column        Non-Null Count  Dtype  \n",
            "---  ------        --------------  -----  \n",
            " 0   user_rating   61225 non-null  int64  \n",
            " 1   review_title  61211 non-null  object \n",
            " 2   body          61207 non-null  object \n",
            " 3   brand         61078 non-null  object \n",
            " 4   price         61225 non-null  float64\n",
            " 5   sentiment     61225 non-null  int64  \n",
            "dtypes: float64(1), int64(2), object(3)\n",
            "memory usage: 5.8+ MB\n"
          ],
          "name": "stdout"
        }
      ]
    },
    {
      "cell_type": "code",
      "metadata": {
        "id": "foyOehmpA-mz"
      },
      "source": [
        "df_final['body'] = df_final['body'].astype('string')"
      ],
      "execution_count": 59,
      "outputs": []
    },
    {
      "cell_type": "code",
      "metadata": {
        "id": "GHOlPmRaBJad",
        "colab": {
          "base_uri": "https://localhost:8080/"
        },
        "outputId": "f062fde0-28ae-4a0a-be54-0493623b5544"
      },
      "source": [
        "df_final.info()"
      ],
      "execution_count": 60,
      "outputs": [
        {
          "output_type": "stream",
          "text": [
            "<class 'pandas.core.frame.DataFrame'>\n",
            "Int64Index: 61225 entries, 14 to 67984\n",
            "Data columns (total 6 columns):\n",
            " #   Column        Non-Null Count  Dtype  \n",
            "---  ------        --------------  -----  \n",
            " 0   user_rating   61225 non-null  int64  \n",
            " 1   review_title  61211 non-null  object \n",
            " 2   body          61207 non-null  string \n",
            " 3   brand         61078 non-null  object \n",
            " 4   price         61225 non-null  float64\n",
            " 5   sentiment     61225 non-null  int64  \n",
            "dtypes: float64(1), int64(2), object(2), string(1)\n",
            "memory usage: 5.8+ MB\n"
          ],
          "name": "stdout"
        }
      ]
    },
    {
      "cell_type": "code",
      "metadata": {
        "id": "0daMw4QPFXN6",
        "colab": {
          "base_uri": "https://localhost:8080/",
          "height": 110
        },
        "outputId": "2a54df9b-ec8b-4d8d-c654-51a94780ce95"
      },
      "source": [
        "df_final.head(2)"
      ],
      "execution_count": 61,
      "outputs": [
        {
          "output_type": "execute_result",
          "data": {
            "text/html": [
              "<div>\n",
              "<style scoped>\n",
              "    .dataframe tbody tr th:only-of-type {\n",
              "        vertical-align: middle;\n",
              "    }\n",
              "\n",
              "    .dataframe tbody tr th {\n",
              "        vertical-align: top;\n",
              "    }\n",
              "\n",
              "    .dataframe thead th {\n",
              "        text-align: right;\n",
              "    }\n",
              "</style>\n",
              "<table border=\"1\" class=\"dataframe\">\n",
              "  <thead>\n",
              "    <tr style=\"text-align: right;\">\n",
              "      <th></th>\n",
              "      <th>user_rating</th>\n",
              "      <th>review_title</th>\n",
              "      <th>body</th>\n",
              "      <th>brand</th>\n",
              "      <th>price</th>\n",
              "      <th>sentiment</th>\n",
              "    </tr>\n",
              "  </thead>\n",
              "  <tbody>\n",
              "    <tr>\n",
              "      <th>14</th>\n",
              "      <td>1</td>\n",
              "      <td>Stupid phone</td>\n",
              "      <td>DON'T BUY OUT OF SERVICE</td>\n",
              "      <td>Motorola</td>\n",
              "      <td>49.9500000</td>\n",
              "      <td>0</td>\n",
              "    </tr>\n",
              "    <tr>\n",
              "      <th>17</th>\n",
              "      <td>1</td>\n",
              "      <td>Phones locked</td>\n",
              "      <td>1 star because the phones locked so I have to ...</td>\n",
              "      <td>Motorola</td>\n",
              "      <td>49.9500000</td>\n",
              "      <td>0</td>\n",
              "    </tr>\n",
              "  </tbody>\n",
              "</table>\n",
              "</div>"
            ],
            "text/plain": [
              "    user_rating   review_title  \\\n",
              "14            1   Stupid phone   \n",
              "17            1  Phones locked   \n",
              "\n",
              "                                                 body     brand      price  \\\n",
              "14                           DON'T BUY OUT OF SERVICE  Motorola 49.9500000   \n",
              "17  1 star because the phones locked so I have to ...  Motorola 49.9500000   \n",
              "\n",
              "    sentiment  \n",
              "14          0  \n",
              "17          0  "
            ]
          },
          "metadata": {
            "tags": []
          },
          "execution_count": 61
        }
      ]
    },
    {
      "cell_type": "code",
      "metadata": {
        "id": "eREnBHFHBjll"
      },
      "source": [
        "df_final['keywords'] = df_final['body'].str.lower()"
      ],
      "execution_count": 62,
      "outputs": []
    },
    {
      "cell_type": "code",
      "metadata": {
        "id": "1kT62frOI_zJ",
        "colab": {
          "base_uri": "https://localhost:8080/"
        },
        "outputId": "5412b997-18aa-4175-c4c5-5db7023b21c1"
      },
      "source": [
        "df_final['keywords'].head(2)"
      ],
      "execution_count": 63,
      "outputs": [
        {
          "output_type": "execute_result",
          "data": {
            "text/plain": [
              "14                             don't buy out of service\n",
              "17    1 star because the phones locked so i have to ...\n",
              "Name: keywords, dtype: string"
            ]
          },
          "metadata": {
            "tags": []
          },
          "execution_count": 63
        }
      ]
    },
    {
      "cell_type": "code",
      "metadata": {
        "id": "UnX3xhYxJRB8",
        "colab": {
          "base_uri": "https://localhost:8080/",
          "height": 202
        },
        "outputId": "0cc74d7c-ee51-4b01-f014-f5e9cfa1f3ab"
      },
      "source": [
        "df_final.head()"
      ],
      "execution_count": 64,
      "outputs": [
        {
          "output_type": "execute_result",
          "data": {
            "text/html": [
              "<div>\n",
              "<style scoped>\n",
              "    .dataframe tbody tr th:only-of-type {\n",
              "        vertical-align: middle;\n",
              "    }\n",
              "\n",
              "    .dataframe tbody tr th {\n",
              "        vertical-align: top;\n",
              "    }\n",
              "\n",
              "    .dataframe thead th {\n",
              "        text-align: right;\n",
              "    }\n",
              "</style>\n",
              "<table border=\"1\" class=\"dataframe\">\n",
              "  <thead>\n",
              "    <tr style=\"text-align: right;\">\n",
              "      <th></th>\n",
              "      <th>user_rating</th>\n",
              "      <th>review_title</th>\n",
              "      <th>body</th>\n",
              "      <th>brand</th>\n",
              "      <th>price</th>\n",
              "      <th>sentiment</th>\n",
              "      <th>keywords</th>\n",
              "    </tr>\n",
              "  </thead>\n",
              "  <tbody>\n",
              "    <tr>\n",
              "      <th>14</th>\n",
              "      <td>1</td>\n",
              "      <td>Stupid phone</td>\n",
              "      <td>DON'T BUY OUT OF SERVICE</td>\n",
              "      <td>Motorola</td>\n",
              "      <td>49.9500000</td>\n",
              "      <td>0</td>\n",
              "      <td>don't buy out of service</td>\n",
              "    </tr>\n",
              "    <tr>\n",
              "      <th>17</th>\n",
              "      <td>1</td>\n",
              "      <td>Phones locked</td>\n",
              "      <td>1 star because the phones locked so I have to ...</td>\n",
              "      <td>Motorola</td>\n",
              "      <td>49.9500000</td>\n",
              "      <td>0</td>\n",
              "      <td>1 star because the phones locked so i have to ...</td>\n",
              "    </tr>\n",
              "    <tr>\n",
              "      <th>18</th>\n",
              "      <td>5</td>\n",
              "      <td>Excellent product</td>\n",
              "      <td>The product has been very good. I had used thi...</td>\n",
              "      <td>Motorola</td>\n",
              "      <td>49.9500000</td>\n",
              "      <td>1</td>\n",
              "      <td>the product has been very good. i had used thi...</td>\n",
              "    </tr>\n",
              "    <tr>\n",
              "      <th>21</th>\n",
              "      <td>4</td>\n",
              "      <td>Nice, but</td>\n",
              "      <td>I bought this phone to replace an LG phone tha...</td>\n",
              "      <td>Motorola</td>\n",
              "      <td>99.9900000</td>\n",
              "      <td>1</td>\n",
              "      <td>i bought this phone to replace an lg phone tha...</td>\n",
              "    </tr>\n",
              "    <tr>\n",
              "      <th>22</th>\n",
              "      <td>1</td>\n",
              "      <td>It seems it doesn't work with the existing AT&amp;...</td>\n",
              "      <td>I purchased this phone for my AT&amp;T phone repla...</td>\n",
              "      <td>Motorola</td>\n",
              "      <td>99.9900000</td>\n",
              "      <td>0</td>\n",
              "      <td>i purchased this phone for my at&amp;t phone repla...</td>\n",
              "    </tr>\n",
              "  </tbody>\n",
              "</table>\n",
              "</div>"
            ],
            "text/plain": [
              "    user_rating                                       review_title  \\\n",
              "14            1                                       Stupid phone   \n",
              "17            1                                      Phones locked   \n",
              "18            5                                  Excellent product   \n",
              "21            4                                          Nice, but   \n",
              "22            1  It seems it doesn't work with the existing AT&...   \n",
              "\n",
              "                                                 body     brand      price  \\\n",
              "14                           DON'T BUY OUT OF SERVICE  Motorola 49.9500000   \n",
              "17  1 star because the phones locked so I have to ...  Motorola 49.9500000   \n",
              "18  The product has been very good. I had used thi...  Motorola 49.9500000   \n",
              "21  I bought this phone to replace an LG phone tha...  Motorola 99.9900000   \n",
              "22  I purchased this phone for my AT&T phone repla...  Motorola 99.9900000   \n",
              "\n",
              "    sentiment                                           keywords  \n",
              "14          0                           don't buy out of service  \n",
              "17          0  1 star because the phones locked so i have to ...  \n",
              "18          1  the product has been very good. i had used thi...  \n",
              "21          1  i bought this phone to replace an lg phone tha...  \n",
              "22          0  i purchased this phone for my at&t phone repla...  "
            ]
          },
          "metadata": {
            "tags": []
          },
          "execution_count": 64
        }
      ]
    },
    {
      "cell_type": "markdown",
      "metadata": {
        "id": "lsppV0X52VXf"
      },
      "source": [
        "### 5.2 Remove punctuations from the lowercased 'body' column and display at least two samples."
      ]
    },
    {
      "cell_type": "code",
      "metadata": {
        "id": "lQXKc8et2onG"
      },
      "source": [
        "import string\n",
        "df_final['keywords'] = df_final['keywords'].str.translate(str.maketrans('', '', string.punctuation))"
      ],
      "execution_count": 65,
      "outputs": []
    },
    {
      "cell_type": "code",
      "metadata": {
        "id": "oatG55BbMofO",
        "colab": {
          "base_uri": "https://localhost:8080/",
          "height": 110
        },
        "outputId": "ca23f10a-b43a-4221-851c-ace98e51ba07"
      },
      "source": [
        "df_final.head(2)"
      ],
      "execution_count": 66,
      "outputs": [
        {
          "output_type": "execute_result",
          "data": {
            "text/html": [
              "<div>\n",
              "<style scoped>\n",
              "    .dataframe tbody tr th:only-of-type {\n",
              "        vertical-align: middle;\n",
              "    }\n",
              "\n",
              "    .dataframe tbody tr th {\n",
              "        vertical-align: top;\n",
              "    }\n",
              "\n",
              "    .dataframe thead th {\n",
              "        text-align: right;\n",
              "    }\n",
              "</style>\n",
              "<table border=\"1\" class=\"dataframe\">\n",
              "  <thead>\n",
              "    <tr style=\"text-align: right;\">\n",
              "      <th></th>\n",
              "      <th>user_rating</th>\n",
              "      <th>review_title</th>\n",
              "      <th>body</th>\n",
              "      <th>brand</th>\n",
              "      <th>price</th>\n",
              "      <th>sentiment</th>\n",
              "      <th>keywords</th>\n",
              "    </tr>\n",
              "  </thead>\n",
              "  <tbody>\n",
              "    <tr>\n",
              "      <th>14</th>\n",
              "      <td>1</td>\n",
              "      <td>Stupid phone</td>\n",
              "      <td>DON'T BUY OUT OF SERVICE</td>\n",
              "      <td>Motorola</td>\n",
              "      <td>49.9500000</td>\n",
              "      <td>0</td>\n",
              "      <td>dont buy out of service</td>\n",
              "    </tr>\n",
              "    <tr>\n",
              "      <th>17</th>\n",
              "      <td>1</td>\n",
              "      <td>Phones locked</td>\n",
              "      <td>1 star because the phones locked so I have to ...</td>\n",
              "      <td>Motorola</td>\n",
              "      <td>49.9500000</td>\n",
              "      <td>0</td>\n",
              "      <td>1 star because the phones locked so i have to ...</td>\n",
              "    </tr>\n",
              "  </tbody>\n",
              "</table>\n",
              "</div>"
            ],
            "text/plain": [
              "    user_rating   review_title  \\\n",
              "14            1   Stupid phone   \n",
              "17            1  Phones locked   \n",
              "\n",
              "                                                 body     brand      price  \\\n",
              "14                           DON'T BUY OUT OF SERVICE  Motorola 49.9500000   \n",
              "17  1 star because the phones locked so I have to ...  Motorola 49.9500000   \n",
              "\n",
              "    sentiment                                           keywords  \n",
              "14          0                            dont buy out of service  \n",
              "17          0  1 star because the phones locked so i have to ...  "
            ]
          },
          "metadata": {
            "tags": []
          },
          "execution_count": 66
        }
      ]
    },
    {
      "cell_type": "code",
      "metadata": {
        "id": "M3uyWByIOH-V"
      },
      "source": [
        "#Using regEx\n",
        "\n",
        "df_final['keywords'] = df_final['keywords'].str.replace('[^\\w\\s]','')"
      ],
      "execution_count": 67,
      "outputs": []
    },
    {
      "cell_type": "code",
      "metadata": {
        "id": "oe7EOXQFPgil",
        "colab": {
          "base_uri": "https://localhost:8080/",
          "height": 110
        },
        "outputId": "26c95fd4-95af-4b67-bf7a-eae9c9b5236a"
      },
      "source": [
        "df_final.head(2)"
      ],
      "execution_count": 68,
      "outputs": [
        {
          "output_type": "execute_result",
          "data": {
            "text/html": [
              "<div>\n",
              "<style scoped>\n",
              "    .dataframe tbody tr th:only-of-type {\n",
              "        vertical-align: middle;\n",
              "    }\n",
              "\n",
              "    .dataframe tbody tr th {\n",
              "        vertical-align: top;\n",
              "    }\n",
              "\n",
              "    .dataframe thead th {\n",
              "        text-align: right;\n",
              "    }\n",
              "</style>\n",
              "<table border=\"1\" class=\"dataframe\">\n",
              "  <thead>\n",
              "    <tr style=\"text-align: right;\">\n",
              "      <th></th>\n",
              "      <th>user_rating</th>\n",
              "      <th>review_title</th>\n",
              "      <th>body</th>\n",
              "      <th>brand</th>\n",
              "      <th>price</th>\n",
              "      <th>sentiment</th>\n",
              "      <th>keywords</th>\n",
              "    </tr>\n",
              "  </thead>\n",
              "  <tbody>\n",
              "    <tr>\n",
              "      <th>14</th>\n",
              "      <td>1</td>\n",
              "      <td>Stupid phone</td>\n",
              "      <td>DON'T BUY OUT OF SERVICE</td>\n",
              "      <td>Motorola</td>\n",
              "      <td>49.9500000</td>\n",
              "      <td>0</td>\n",
              "      <td>dont buy out of service</td>\n",
              "    </tr>\n",
              "    <tr>\n",
              "      <th>17</th>\n",
              "      <td>1</td>\n",
              "      <td>Phones locked</td>\n",
              "      <td>1 star because the phones locked so I have to ...</td>\n",
              "      <td>Motorola</td>\n",
              "      <td>49.9500000</td>\n",
              "      <td>0</td>\n",
              "      <td>1 star because the phones locked so i have to ...</td>\n",
              "    </tr>\n",
              "  </tbody>\n",
              "</table>\n",
              "</div>"
            ],
            "text/plain": [
              "    user_rating   review_title  \\\n",
              "14            1   Stupid phone   \n",
              "17            1  Phones locked   \n",
              "\n",
              "                                                 body     brand      price  \\\n",
              "14                           DON'T BUY OUT OF SERVICE  Motorola 49.9500000   \n",
              "17  1 star because the phones locked so I have to ...  Motorola 49.9500000   \n",
              "\n",
              "    sentiment                                           keywords  \n",
              "14          0                            dont buy out of service  \n",
              "17          0  1 star because the phones locked so i have to ...  "
            ]
          },
          "metadata": {
            "tags": []
          },
          "execution_count": 68
        }
      ]
    },
    {
      "cell_type": "markdown",
      "metadata": {
        "id": "8Zk7ja6A2owN"
      },
      "source": [
        "### 5.3 Remove stop words from the above pre-processed 'body' column and display at least two samples."
      ]
    },
    {
      "cell_type": "code",
      "metadata": {
        "id": "1DbTf2yc2VOQ",
        "colab": {
          "base_uri": "https://localhost:8080/"
        },
        "outputId": "573d6534-4fb0-489e-9e76-864fbf6a7a8f"
      },
      "source": [
        "import nltk\n",
        "nltk.download('stopwords')\n",
        "from nltk.corpus import stopwords"
      ],
      "execution_count": 69,
      "outputs": [
        {
          "output_type": "stream",
          "text": [
            "[nltk_data] Downloading package stopwords to /root/nltk_data...\n",
            "[nltk_data]   Unzipping corpora/stopwords.zip.\n"
          ],
          "name": "stdout"
        }
      ]
    },
    {
      "cell_type": "code",
      "metadata": {
        "id": "_bNAFID9Rou3",
        "colab": {
          "base_uri": "https://localhost:8080/"
        },
        "outputId": "bd6f685d-c1d0-4cc3-ef6a-98c06d05e87f"
      },
      "source": [
        "stop_words = set(stopwords.words('english'))\n",
        "stop_words"
      ],
      "execution_count": 70,
      "outputs": [
        {
          "output_type": "execute_result",
          "data": {
            "text/plain": [
              "{'a',\n",
              " 'about',\n",
              " 'above',\n",
              " 'after',\n",
              " 'again',\n",
              " 'against',\n",
              " 'ain',\n",
              " 'all',\n",
              " 'am',\n",
              " 'an',\n",
              " 'and',\n",
              " 'any',\n",
              " 'are',\n",
              " 'aren',\n",
              " \"aren't\",\n",
              " 'as',\n",
              " 'at',\n",
              " 'be',\n",
              " 'because',\n",
              " 'been',\n",
              " 'before',\n",
              " 'being',\n",
              " 'below',\n",
              " 'between',\n",
              " 'both',\n",
              " 'but',\n",
              " 'by',\n",
              " 'can',\n",
              " 'couldn',\n",
              " \"couldn't\",\n",
              " 'd',\n",
              " 'did',\n",
              " 'didn',\n",
              " \"didn't\",\n",
              " 'do',\n",
              " 'does',\n",
              " 'doesn',\n",
              " \"doesn't\",\n",
              " 'doing',\n",
              " 'don',\n",
              " \"don't\",\n",
              " 'down',\n",
              " 'during',\n",
              " 'each',\n",
              " 'few',\n",
              " 'for',\n",
              " 'from',\n",
              " 'further',\n",
              " 'had',\n",
              " 'hadn',\n",
              " \"hadn't\",\n",
              " 'has',\n",
              " 'hasn',\n",
              " \"hasn't\",\n",
              " 'have',\n",
              " 'haven',\n",
              " \"haven't\",\n",
              " 'having',\n",
              " 'he',\n",
              " 'her',\n",
              " 'here',\n",
              " 'hers',\n",
              " 'herself',\n",
              " 'him',\n",
              " 'himself',\n",
              " 'his',\n",
              " 'how',\n",
              " 'i',\n",
              " 'if',\n",
              " 'in',\n",
              " 'into',\n",
              " 'is',\n",
              " 'isn',\n",
              " \"isn't\",\n",
              " 'it',\n",
              " \"it's\",\n",
              " 'its',\n",
              " 'itself',\n",
              " 'just',\n",
              " 'll',\n",
              " 'm',\n",
              " 'ma',\n",
              " 'me',\n",
              " 'mightn',\n",
              " \"mightn't\",\n",
              " 'more',\n",
              " 'most',\n",
              " 'mustn',\n",
              " \"mustn't\",\n",
              " 'my',\n",
              " 'myself',\n",
              " 'needn',\n",
              " \"needn't\",\n",
              " 'no',\n",
              " 'nor',\n",
              " 'not',\n",
              " 'now',\n",
              " 'o',\n",
              " 'of',\n",
              " 'off',\n",
              " 'on',\n",
              " 'once',\n",
              " 'only',\n",
              " 'or',\n",
              " 'other',\n",
              " 'our',\n",
              " 'ours',\n",
              " 'ourselves',\n",
              " 'out',\n",
              " 'over',\n",
              " 'own',\n",
              " 're',\n",
              " 's',\n",
              " 'same',\n",
              " 'shan',\n",
              " \"shan't\",\n",
              " 'she',\n",
              " \"she's\",\n",
              " 'should',\n",
              " \"should've\",\n",
              " 'shouldn',\n",
              " \"shouldn't\",\n",
              " 'so',\n",
              " 'some',\n",
              " 'such',\n",
              " 't',\n",
              " 'than',\n",
              " 'that',\n",
              " \"that'll\",\n",
              " 'the',\n",
              " 'their',\n",
              " 'theirs',\n",
              " 'them',\n",
              " 'themselves',\n",
              " 'then',\n",
              " 'there',\n",
              " 'these',\n",
              " 'they',\n",
              " 'this',\n",
              " 'those',\n",
              " 'through',\n",
              " 'to',\n",
              " 'too',\n",
              " 'under',\n",
              " 'until',\n",
              " 'up',\n",
              " 've',\n",
              " 'very',\n",
              " 'was',\n",
              " 'wasn',\n",
              " \"wasn't\",\n",
              " 'we',\n",
              " 'were',\n",
              " 'weren',\n",
              " \"weren't\",\n",
              " 'what',\n",
              " 'when',\n",
              " 'where',\n",
              " 'which',\n",
              " 'while',\n",
              " 'who',\n",
              " 'whom',\n",
              " 'why',\n",
              " 'will',\n",
              " 'with',\n",
              " 'won',\n",
              " \"won't\",\n",
              " 'wouldn',\n",
              " \"wouldn't\",\n",
              " 'y',\n",
              " 'you',\n",
              " \"you'd\",\n",
              " \"you'll\",\n",
              " \"you're\",\n",
              " \"you've\",\n",
              " 'your',\n",
              " 'yours',\n",
              " 'yourself',\n",
              " 'yourselves'}"
            ]
          },
          "metadata": {
            "tags": []
          },
          "execution_count": 70
        }
      ]
    },
    {
      "cell_type": "code",
      "metadata": {
        "id": "DA4CpYp1Tk7j",
        "colab": {
          "base_uri": "https://localhost:8080/",
          "height": 202
        },
        "outputId": "8bcd94f1-8615-4681-cc7c-f964fbc738c6"
      },
      "source": [
        "df_final['keywords'] = df_final['keywords'].astype('str')\n",
        "df_final['keywords'] = df_final['keywords'].apply(lambda words: ' '.join(w for w in words.split() if w not in stop_words))\n",
        "df_final.head()\n"
      ],
      "execution_count": 71,
      "outputs": [
        {
          "output_type": "execute_result",
          "data": {
            "text/html": [
              "<div>\n",
              "<style scoped>\n",
              "    .dataframe tbody tr th:only-of-type {\n",
              "        vertical-align: middle;\n",
              "    }\n",
              "\n",
              "    .dataframe tbody tr th {\n",
              "        vertical-align: top;\n",
              "    }\n",
              "\n",
              "    .dataframe thead th {\n",
              "        text-align: right;\n",
              "    }\n",
              "</style>\n",
              "<table border=\"1\" class=\"dataframe\">\n",
              "  <thead>\n",
              "    <tr style=\"text-align: right;\">\n",
              "      <th></th>\n",
              "      <th>user_rating</th>\n",
              "      <th>review_title</th>\n",
              "      <th>body</th>\n",
              "      <th>brand</th>\n",
              "      <th>price</th>\n",
              "      <th>sentiment</th>\n",
              "      <th>keywords</th>\n",
              "    </tr>\n",
              "  </thead>\n",
              "  <tbody>\n",
              "    <tr>\n",
              "      <th>14</th>\n",
              "      <td>1</td>\n",
              "      <td>Stupid phone</td>\n",
              "      <td>DON'T BUY OUT OF SERVICE</td>\n",
              "      <td>Motorola</td>\n",
              "      <td>49.9500000</td>\n",
              "      <td>0</td>\n",
              "      <td>dont buy service</td>\n",
              "    </tr>\n",
              "    <tr>\n",
              "      <th>17</th>\n",
              "      <td>1</td>\n",
              "      <td>Phones locked</td>\n",
              "      <td>1 star because the phones locked so I have to ...</td>\n",
              "      <td>Motorola</td>\n",
              "      <td>49.9500000</td>\n",
              "      <td>0</td>\n",
              "      <td>1 star phones locked pay additional fees unlock</td>\n",
              "    </tr>\n",
              "    <tr>\n",
              "      <th>18</th>\n",
              "      <td>5</td>\n",
              "      <td>Excellent product</td>\n",
              "      <td>The product has been very good. I had used thi...</td>\n",
              "      <td>Motorola</td>\n",
              "      <td>49.9500000</td>\n",
              "      <td>1</td>\n",
              "      <td>product good used cell phone one projects work...</td>\n",
              "    </tr>\n",
              "    <tr>\n",
              "      <th>21</th>\n",
              "      <td>4</td>\n",
              "      <td>Nice, but</td>\n",
              "      <td>I bought this phone to replace an LG phone tha...</td>\n",
              "      <td>Motorola</td>\n",
              "      <td>99.9900000</td>\n",
              "      <td>1</td>\n",
              "      <td>bought phone replace lg phone didnt like expec...</td>\n",
              "    </tr>\n",
              "    <tr>\n",
              "      <th>22</th>\n",
              "      <td>1</td>\n",
              "      <td>It seems it doesn't work with the existing AT&amp;...</td>\n",
              "      <td>I purchased this phone for my AT&amp;T phone repla...</td>\n",
              "      <td>Motorola</td>\n",
              "      <td>99.9900000</td>\n",
              "      <td>0</td>\n",
              "      <td>purchased phone att phone replacement even tho...</td>\n",
              "    </tr>\n",
              "  </tbody>\n",
              "</table>\n",
              "</div>"
            ],
            "text/plain": [
              "    user_rating                                       review_title  \\\n",
              "14            1                                       Stupid phone   \n",
              "17            1                                      Phones locked   \n",
              "18            5                                  Excellent product   \n",
              "21            4                                          Nice, but   \n",
              "22            1  It seems it doesn't work with the existing AT&...   \n",
              "\n",
              "                                                 body     brand      price  \\\n",
              "14                           DON'T BUY OUT OF SERVICE  Motorola 49.9500000   \n",
              "17  1 star because the phones locked so I have to ...  Motorola 49.9500000   \n",
              "18  The product has been very good. I had used thi...  Motorola 49.9500000   \n",
              "21  I bought this phone to replace an LG phone tha...  Motorola 99.9900000   \n",
              "22  I purchased this phone for my AT&T phone repla...  Motorola 99.9900000   \n",
              "\n",
              "    sentiment                                           keywords  \n",
              "14          0                                   dont buy service  \n",
              "17          0    1 star phones locked pay additional fees unlock  \n",
              "18          1  product good used cell phone one projects work...  \n",
              "21          1  bought phone replace lg phone didnt like expec...  \n",
              "22          0  purchased phone att phone replacement even tho...  "
            ]
          },
          "metadata": {
            "tags": []
          },
          "execution_count": 71
        }
      ]
    },
    {
      "cell_type": "markdown",
      "metadata": {
        "id": "TQNvXay42yaQ"
      },
      "source": [
        "### 5.4 Apply lemmatisation on the above preprocessed text and display a few samples"
      ]
    },
    {
      "cell_type": "code",
      "metadata": {
        "id": "oQ1VfFaa3DET",
        "colab": {
          "base_uri": "https://localhost:8080/"
        },
        "outputId": "9ce601b1-b0cf-4bed-cd1d-ee67fb5e1be3"
      },
      "source": [
        "import nltk\n",
        "nltk.download('wordnet')\n"
      ],
      "execution_count": 72,
      "outputs": [
        {
          "output_type": "stream",
          "text": [
            "[nltk_data] Downloading package wordnet to /root/nltk_data...\n",
            "[nltk_data]   Unzipping corpora/wordnet.zip.\n"
          ],
          "name": "stdout"
        },
        {
          "output_type": "execute_result",
          "data": {
            "text/plain": [
              "True"
            ]
          },
          "metadata": {
            "tags": []
          },
          "execution_count": 72
        }
      ]
    },
    {
      "cell_type": "code",
      "metadata": {
        "id": "7aRKfr3-YwHA"
      },
      "source": [
        "w_tokenizer = nltk.tokenize.WhitespaceTokenizer()\n",
        "lemmatizer = nltk.stem.WordNetLemmatizer()"
      ],
      "execution_count": 73,
      "outputs": []
    },
    {
      "cell_type": "code",
      "metadata": {
        "id": "PFX2z7noZL8z"
      },
      "source": [
        "def lemmetize_text(text):\n",
        "  return [lemmatizer.lemmatize(w) for w in w_tokenizer.tokenize(text)]"
      ],
      "execution_count": 74,
      "outputs": []
    },
    {
      "cell_type": "code",
      "metadata": {
        "id": "O-nJ-rIFZw6n"
      },
      "source": [
        "df_final['lemm'] = df_final['keywords'].apply(lemmetize_text)"
      ],
      "execution_count": 75,
      "outputs": []
    },
    {
      "cell_type": "code",
      "metadata": {
        "id": "xboadoHYcXXB",
        "colab": {
          "base_uri": "https://localhost:8080/",
          "height": 268
        },
        "outputId": "fd18df71-e199-4dce-f426-bb01b9850529"
      },
      "source": [
        "df_final.head()"
      ],
      "execution_count": 76,
      "outputs": [
        {
          "output_type": "execute_result",
          "data": {
            "text/html": [
              "<div>\n",
              "<style scoped>\n",
              "    .dataframe tbody tr th:only-of-type {\n",
              "        vertical-align: middle;\n",
              "    }\n",
              "\n",
              "    .dataframe tbody tr th {\n",
              "        vertical-align: top;\n",
              "    }\n",
              "\n",
              "    .dataframe thead th {\n",
              "        text-align: right;\n",
              "    }\n",
              "</style>\n",
              "<table border=\"1\" class=\"dataframe\">\n",
              "  <thead>\n",
              "    <tr style=\"text-align: right;\">\n",
              "      <th></th>\n",
              "      <th>user_rating</th>\n",
              "      <th>review_title</th>\n",
              "      <th>body</th>\n",
              "      <th>brand</th>\n",
              "      <th>price</th>\n",
              "      <th>sentiment</th>\n",
              "      <th>keywords</th>\n",
              "      <th>lemm</th>\n",
              "    </tr>\n",
              "  </thead>\n",
              "  <tbody>\n",
              "    <tr>\n",
              "      <th>14</th>\n",
              "      <td>1</td>\n",
              "      <td>Stupid phone</td>\n",
              "      <td>DON'T BUY OUT OF SERVICE</td>\n",
              "      <td>Motorola</td>\n",
              "      <td>49.9500000</td>\n",
              "      <td>0</td>\n",
              "      <td>dont buy service</td>\n",
              "      <td>[dont, buy, service]</td>\n",
              "    </tr>\n",
              "    <tr>\n",
              "      <th>17</th>\n",
              "      <td>1</td>\n",
              "      <td>Phones locked</td>\n",
              "      <td>1 star because the phones locked so I have to ...</td>\n",
              "      <td>Motorola</td>\n",
              "      <td>49.9500000</td>\n",
              "      <td>0</td>\n",
              "      <td>1 star phones locked pay additional fees unlock</td>\n",
              "      <td>[1, star, phone, locked, pay, additional, fee,...</td>\n",
              "    </tr>\n",
              "    <tr>\n",
              "      <th>18</th>\n",
              "      <td>5</td>\n",
              "      <td>Excellent product</td>\n",
              "      <td>The product has been very good. I had used thi...</td>\n",
              "      <td>Motorola</td>\n",
              "      <td>49.9500000</td>\n",
              "      <td>1</td>\n",
              "      <td>product good used cell phone one projects work...</td>\n",
              "      <td>[product, good, used, cell, phone, one, projec...</td>\n",
              "    </tr>\n",
              "    <tr>\n",
              "      <th>21</th>\n",
              "      <td>4</td>\n",
              "      <td>Nice, but</td>\n",
              "      <td>I bought this phone to replace an LG phone tha...</td>\n",
              "      <td>Motorola</td>\n",
              "      <td>99.9900000</td>\n",
              "      <td>1</td>\n",
              "      <td>bought phone replace lg phone didnt like expec...</td>\n",
              "      <td>[bought, phone, replace, lg, phone, didnt, lik...</td>\n",
              "    </tr>\n",
              "    <tr>\n",
              "      <th>22</th>\n",
              "      <td>1</td>\n",
              "      <td>It seems it doesn't work with the existing AT&amp;...</td>\n",
              "      <td>I purchased this phone for my AT&amp;T phone repla...</td>\n",
              "      <td>Motorola</td>\n",
              "      <td>99.9900000</td>\n",
              "      <td>0</td>\n",
              "      <td>purchased phone att phone replacement even tho...</td>\n",
              "      <td>[purchased, phone, att, phone, replacement, ev...</td>\n",
              "    </tr>\n",
              "  </tbody>\n",
              "</table>\n",
              "</div>"
            ],
            "text/plain": [
              "    user_rating                                       review_title  \\\n",
              "14            1                                       Stupid phone   \n",
              "17            1                                      Phones locked   \n",
              "18            5                                  Excellent product   \n",
              "21            4                                          Nice, but   \n",
              "22            1  It seems it doesn't work with the existing AT&...   \n",
              "\n",
              "                                                 body     brand      price  \\\n",
              "14                           DON'T BUY OUT OF SERVICE  Motorola 49.9500000   \n",
              "17  1 star because the phones locked so I have to ...  Motorola 49.9500000   \n",
              "18  The product has been very good. I had used thi...  Motorola 49.9500000   \n",
              "21  I bought this phone to replace an LG phone tha...  Motorola 99.9900000   \n",
              "22  I purchased this phone for my AT&T phone repla...  Motorola 99.9900000   \n",
              "\n",
              "    sentiment                                           keywords  \\\n",
              "14          0                                   dont buy service   \n",
              "17          0    1 star phones locked pay additional fees unlock   \n",
              "18          1  product good used cell phone one projects work...   \n",
              "21          1  bought phone replace lg phone didnt like expec...   \n",
              "22          0  purchased phone att phone replacement even tho...   \n",
              "\n",
              "                                                 lemm  \n",
              "14                               [dont, buy, service]  \n",
              "17  [1, star, phone, locked, pay, additional, fee,...  \n",
              "18  [product, good, used, cell, phone, one, projec...  \n",
              "21  [bought, phone, replace, lg, phone, didnt, lik...  \n",
              "22  [purchased, phone, att, phone, replacement, ev...  "
            ]
          },
          "metadata": {
            "tags": []
          },
          "execution_count": 76
        }
      ]
    },
    {
      "cell_type": "code",
      "metadata": {
        "id": "bKB8-qdKcp4a",
        "colab": {
          "base_uri": "https://localhost:8080/"
        },
        "outputId": "ef04c6b3-781b-4e60-88da-75b3296a404c"
      },
      "source": [
        "from nltk.stem import WordNetLemmatizer\n",
        "  \n",
        "lemmatizer = WordNetLemmatizer()\n",
        "  \n",
        "print(\"replacement :\", lemmatizer.lemmatize(\"replacement\"))\n",
        "print(\"corpora :\", lemmatizer.lemmatize(\"corpora\"))\n",
        "  \n",
        "# a denotes adjective in \"pos\"\n",
        "print(\"better :\", lemmatizer.lemmatize(\"better\", pos =\"a\"))\n"
      ],
      "execution_count": 77,
      "outputs": [
        {
          "output_type": "stream",
          "text": [
            "replacement : replacement\n",
            "corpora : corpus\n",
            "better : good\n"
          ],
          "name": "stdout"
        }
      ]
    },
    {
      "cell_type": "markdown",
      "metadata": {
        "id": "OzweL_fA3DiN"
      },
      "source": [
        "### 5.5 Check most common and rare words in the processed text\n",
        "- We can also write a function to check word frequency of the text (Optional)"
      ]
    },
    {
      "cell_type": "code",
      "metadata": {
        "id": "MzIAyX3N6lz5",
        "colab": {
          "base_uri": "https://localhost:8080/"
        },
        "outputId": "cdaa47bb-d9b7-48ef-fe75-1be289e53659"
      },
      "source": [
        "from collections import Counter\n",
        "cnt = Counter()\n",
        "for text in df_final[\"keywords\"].values:\n",
        "    for word in text.split():\n",
        "        cnt[word] += 1\n",
        "        \n",
        "cnt.most_common(10)\n"
      ],
      "execution_count": 78,
      "outputs": [
        {
          "output_type": "execute_result",
          "data": {
            "text/plain": [
              "[('phone', 74458),\n",
              " ('great', 16986),\n",
              " ('good', 13415),\n",
              " ('battery', 11641),\n",
              " ('screen', 10377),\n",
              " ('like', 10360),\n",
              " ('one', 10035),\n",
              " ('new', 9498),\n",
              " ('use', 8755),\n",
              " ('get', 7566)]"
            ]
          },
          "metadata": {
            "tags": []
          },
          "execution_count": 78
        }
      ]
    },
    {
      "cell_type": "code",
      "metadata": {
        "id": "n7I0V2fZiNsK",
        "colab": {
          "base_uri": "https://localhost:8080/"
        },
        "outputId": "21667fec-4b1d-4d6a-d1dd-51430e0cbb19"
      },
      "source": [
        "rare_words = 10\n",
        "\n",
        "cnt.most_common()[:-rare_words-1:-1]"
      ],
      "execution_count": 79,
      "outputs": [
        {
          "output_type": "execute_result",
          "data": {
            "text/plain": [
              "[('prontoen', 1),\n",
              " ('500500', 1),\n",
              " ('sd730g', 1),\n",
              " ('nois', 1),\n",
              " ('tomuch', 1),\n",
              " ('instructivo', 1),\n",
              " ('confirmen', 1),\n",
              " ('intrligente', 1),\n",
              " ('haxe', 1),\n",
              " ('4ever', 1)]"
            ]
          },
          "metadata": {
            "tags": []
          },
          "execution_count": 79
        }
      ]
    },
    {
      "cell_type": "code",
      "metadata": {
        "id": "xkgi2czjlEuU",
        "colab": {
          "base_uri": "https://localhost:8080/"
        },
        "outputId": "b671663e-86cf-4b13-8051-8df11f6268ee"
      },
      "source": [
        "#positive sentiments\n",
        "df_pos = df_final[df_final[\"sentiment\"]==1]\n",
        "\n",
        "\n",
        "from collections import Counter\n",
        "cnt = Counter()\n",
        "for text in df_pos[\"keywords\"].values:\n",
        "    for word in text.split():\n",
        "        cnt[word] += 1\n",
        "        \n",
        "cnt.most_common(10)\n"
      ],
      "execution_count": 80,
      "outputs": [
        {
          "output_type": "execute_result",
          "data": {
            "text/plain": [
              "[('phone', 46541),\n",
              " ('great', 14951),\n",
              " ('good', 10682),\n",
              " ('battery', 7588),\n",
              " ('like', 7442),\n",
              " ('love', 6709),\n",
              " ('new', 6594),\n",
              " ('one', 6421),\n",
              " ('works', 6266),\n",
              " ('screen', 6149)]"
            ]
          },
          "metadata": {
            "tags": []
          },
          "execution_count": 80
        }
      ]
    },
    {
      "cell_type": "markdown",
      "metadata": {
        "id": "9UbdTGsv60t1"
      },
      "source": [
        "### 5.6 Initialize tf-idf vectorizer and transform the preprocessed body text"
      ]
    },
    {
      "cell_type": "code",
      "metadata": {
        "id": "_Jfo6go_69yh"
      },
      "source": [
        "\n",
        "# Initialize TF-IDF vectorizer\n",
        "from sklearn.feature_extraction.text import TfidfVectorizer\n",
        "tfidf_vectorizer = TfidfVectorizer()"
      ],
      "execution_count": 81,
      "outputs": []
    },
    {
      "cell_type": "code",
      "metadata": {
        "id": "CucM9CSDd32S"
      },
      "source": [
        "# Initialize TF-IDF vectorizer\n",
        "from sklearn.feature_extraction.text import TfidfVectorizer\n",
        "\n",
        "tfidf_vectorizer1 = TfidfVectorizer(ngram_range=(2,2))"
      ],
      "execution_count": 82,
      "outputs": []
    },
    {
      "cell_type": "code",
      "metadata": {
        "id": "56A3Ws6FeGeq"
      },
      "source": [
        "df_final['tfidf'] = tfidf_vectorizer.fit_transform(df_final[\"keywords\"])"
      ],
      "execution_count": 83,
      "outputs": []
    },
    {
      "cell_type": "code",
      "metadata": {
        "id": "fa0rSQQFhalN"
      },
      "source": [
        "df_final['tfidf1'] = tfidf_vectorizer.fit_transform(df_final[\"keywords\"])"
      ],
      "execution_count": 84,
      "outputs": []
    },
    {
      "cell_type": "code",
      "metadata": {
        "id": "b7GHB0yZeZRF",
        "colab": {
          "base_uri": "https://localhost:8080/",
          "height": 402
        },
        "outputId": "dbb562e8-1366-4313-d81e-4b314194642f"
      },
      "source": [
        "df_final.head()"
      ],
      "execution_count": 85,
      "outputs": [
        {
          "output_type": "execute_result",
          "data": {
            "text/html": [
              "<div>\n",
              "<style scoped>\n",
              "    .dataframe tbody tr th:only-of-type {\n",
              "        vertical-align: middle;\n",
              "    }\n",
              "\n",
              "    .dataframe tbody tr th {\n",
              "        vertical-align: top;\n",
              "    }\n",
              "\n",
              "    .dataframe thead th {\n",
              "        text-align: right;\n",
              "    }\n",
              "</style>\n",
              "<table border=\"1\" class=\"dataframe\">\n",
              "  <thead>\n",
              "    <tr style=\"text-align: right;\">\n",
              "      <th></th>\n",
              "      <th>user_rating</th>\n",
              "      <th>review_title</th>\n",
              "      <th>body</th>\n",
              "      <th>brand</th>\n",
              "      <th>price</th>\n",
              "      <th>sentiment</th>\n",
              "      <th>keywords</th>\n",
              "      <th>lemm</th>\n",
              "      <th>tfidf</th>\n",
              "      <th>tfidf1</th>\n",
              "    </tr>\n",
              "  </thead>\n",
              "  <tbody>\n",
              "    <tr>\n",
              "      <th>14</th>\n",
              "      <td>1</td>\n",
              "      <td>Stupid phone</td>\n",
              "      <td>DON'T BUY OUT OF SERVICE</td>\n",
              "      <td>Motorola</td>\n",
              "      <td>49.9500000</td>\n",
              "      <td>0</td>\n",
              "      <td>dont buy service</td>\n",
              "      <td>[dont, buy, service]</td>\n",
              "      <td>(0, 30399)\\t0.6476923685921244\\n  (0, 6822)\\...</td>\n",
              "      <td>(0, 30399)\\t0.6476923685921244\\n  (0, 6822)\\...</td>\n",
              "    </tr>\n",
              "    <tr>\n",
              "      <th>17</th>\n",
              "      <td>1</td>\n",
              "      <td>Phones locked</td>\n",
              "      <td>1 star because the phones locked so I have to ...</td>\n",
              "      <td>Motorola</td>\n",
              "      <td>49.9500000</td>\n",
              "      <td>0</td>\n",
              "      <td>1 star phones locked pay additional fees unlock</td>\n",
              "      <td>[1, star, phone, locked, pay, additional, fee,...</td>\n",
              "      <td>(0, 30399)\\t0.6476923685921244\\n  (0, 6822)\\...</td>\n",
              "      <td>(0, 30399)\\t0.6476923685921244\\n  (0, 6822)\\...</td>\n",
              "    </tr>\n",
              "    <tr>\n",
              "      <th>18</th>\n",
              "      <td>5</td>\n",
              "      <td>Excellent product</td>\n",
              "      <td>The product has been very good. I had used thi...</td>\n",
              "      <td>Motorola</td>\n",
              "      <td>49.9500000</td>\n",
              "      <td>1</td>\n",
              "      <td>product good used cell phone one projects work...</td>\n",
              "      <td>[product, good, used, cell, phone, one, projec...</td>\n",
              "      <td>(0, 30399)\\t0.6476923685921244\\n  (0, 6822)\\...</td>\n",
              "      <td>(0, 30399)\\t0.6476923685921244\\n  (0, 6822)\\...</td>\n",
              "    </tr>\n",
              "    <tr>\n",
              "      <th>21</th>\n",
              "      <td>4</td>\n",
              "      <td>Nice, but</td>\n",
              "      <td>I bought this phone to replace an LG phone tha...</td>\n",
              "      <td>Motorola</td>\n",
              "      <td>99.9900000</td>\n",
              "      <td>1</td>\n",
              "      <td>bought phone replace lg phone didnt like expec...</td>\n",
              "      <td>[bought, phone, replace, lg, phone, didnt, lik...</td>\n",
              "      <td>(0, 30399)\\t0.6476923685921244\\n  (0, 6822)\\...</td>\n",
              "      <td>(0, 30399)\\t0.6476923685921244\\n  (0, 6822)\\...</td>\n",
              "    </tr>\n",
              "    <tr>\n",
              "      <th>22</th>\n",
              "      <td>1</td>\n",
              "      <td>It seems it doesn't work with the existing AT&amp;...</td>\n",
              "      <td>I purchased this phone for my AT&amp;T phone repla...</td>\n",
              "      <td>Motorola</td>\n",
              "      <td>99.9900000</td>\n",
              "      <td>0</td>\n",
              "      <td>purchased phone att phone replacement even tho...</td>\n",
              "      <td>[purchased, phone, att, phone, replacement, ev...</td>\n",
              "      <td>(0, 30399)\\t0.6476923685921244\\n  (0, 6822)\\...</td>\n",
              "      <td>(0, 30399)\\t0.6476923685921244\\n  (0, 6822)\\...</td>\n",
              "    </tr>\n",
              "  </tbody>\n",
              "</table>\n",
              "</div>"
            ],
            "text/plain": [
              "    user_rating                                       review_title  \\\n",
              "14            1                                       Stupid phone   \n",
              "17            1                                      Phones locked   \n",
              "18            5                                  Excellent product   \n",
              "21            4                                          Nice, but   \n",
              "22            1  It seems it doesn't work with the existing AT&...   \n",
              "\n",
              "                                                 body     brand      price  \\\n",
              "14                           DON'T BUY OUT OF SERVICE  Motorola 49.9500000   \n",
              "17  1 star because the phones locked so I have to ...  Motorola 49.9500000   \n",
              "18  The product has been very good. I had used thi...  Motorola 49.9500000   \n",
              "21  I bought this phone to replace an LG phone tha...  Motorola 99.9900000   \n",
              "22  I purchased this phone for my AT&T phone repla...  Motorola 99.9900000   \n",
              "\n",
              "    sentiment                                           keywords  \\\n",
              "14          0                                   dont buy service   \n",
              "17          0    1 star phones locked pay additional fees unlock   \n",
              "18          1  product good used cell phone one projects work...   \n",
              "21          1  bought phone replace lg phone didnt like expec...   \n",
              "22          0  purchased phone att phone replacement even tho...   \n",
              "\n",
              "                                                 lemm  \\\n",
              "14                               [dont, buy, service]   \n",
              "17  [1, star, phone, locked, pay, additional, fee,...   \n",
              "18  [product, good, used, cell, phone, one, projec...   \n",
              "21  [bought, phone, replace, lg, phone, didnt, lik...   \n",
              "22  [purchased, phone, att, phone, replacement, ev...   \n",
              "\n",
              "                                                tfidf  \\\n",
              "14    (0, 30399)\\t0.6476923685921244\\n  (0, 6822)\\...   \n",
              "17    (0, 30399)\\t0.6476923685921244\\n  (0, 6822)\\...   \n",
              "18    (0, 30399)\\t0.6476923685921244\\n  (0, 6822)\\...   \n",
              "21    (0, 30399)\\t0.6476923685921244\\n  (0, 6822)\\...   \n",
              "22    (0, 30399)\\t0.6476923685921244\\n  (0, 6822)\\...   \n",
              "\n",
              "                                               tfidf1  \n",
              "14    (0, 30399)\\t0.6476923685921244\\n  (0, 6822)\\...  \n",
              "17    (0, 30399)\\t0.6476923685921244\\n  (0, 6822)\\...  \n",
              "18    (0, 30399)\\t0.6476923685921244\\n  (0, 6822)\\...  \n",
              "21    (0, 30399)\\t0.6476923685921244\\n  (0, 6822)\\...  \n",
              "22    (0, 30399)\\t0.6476923685921244\\n  (0, 6822)\\...  "
            ]
          },
          "metadata": {
            "tags": []
          },
          "execution_count": 85
        }
      ]
    },
    {
      "cell_type": "code",
      "metadata": {
        "id": "KtFevhIbegWj"
      },
      "source": [
        "tfidf = tfidf_vectorizer.fit_transform(df_final[\"keywords\"])"
      ],
      "execution_count": 86,
      "outputs": []
    },
    {
      "cell_type": "code",
      "metadata": {
        "id": "tTt049X-gekc"
      },
      "source": [
        "tfidf1 = tfidf_vectorizer1.fit_transform(df_final['keywords'])"
      ],
      "execution_count": 87,
      "outputs": []
    },
    {
      "cell_type": "code",
      "metadata": {
        "id": "zBttygtlepA_",
        "colab": {
          "base_uri": "https://localhost:8080/"
        },
        "outputId": "4820cbcf-21e5-4cf7-ccb2-0373abe9390f"
      },
      "source": [
        "tfidf.get_shape()"
      ],
      "execution_count": 88,
      "outputs": [
        {
          "output_type": "execute_result",
          "data": {
            "text/plain": [
              "(61225, 38349)"
            ]
          },
          "metadata": {
            "tags": []
          },
          "execution_count": 88
        }
      ]
    },
    {
      "cell_type": "code",
      "metadata": {
        "id": "C5VPAypXgqh3",
        "colab": {
          "base_uri": "https://localhost:8080/"
        },
        "outputId": "3e55aed3-89f4-4897-8bf7-dc5b2c4a31a6"
      },
      "source": [
        "tfidf1.get_shape()"
      ],
      "execution_count": 89,
      "outputs": [
        {
          "output_type": "execute_result",
          "data": {
            "text/plain": [
              "(61225, 569104)"
            ]
          },
          "metadata": {
            "tags": []
          },
          "execution_count": 89
        }
      ]
    },
    {
      "cell_type": "markdown",
      "metadata": {
        "id": "5dqPXETLKN0h"
      },
      "source": [
        "### 5.7 Segregate the data into dependent (sentiment) and independent (transformed body using tf-idf) features for building a classifier. "
      ]
    },
    {
      "cell_type": "code",
      "metadata": {
        "id": "mpOLAYn07W6F"
      },
      "source": [
        "y = df_final['sentiment']"
      ],
      "execution_count": 90,
      "outputs": []
    },
    {
      "cell_type": "markdown",
      "metadata": {
        "id": "4K03FO0q7XBP"
      },
      "source": [
        "### 5.9 Split the data into Train & Test Sets"
      ]
    },
    {
      "cell_type": "code",
      "metadata": {
        "id": "D548-7cE7dZa"
      },
      "source": [
        "from sklearn.model_selection import train_test_split\n",
        "X_train, X_test, y1_train, y1_test = train_test_split(tfidf, y, random_state = 50, stratify=y, test_size=0.3)"
      ],
      "execution_count": 91,
      "outputs": []
    },
    {
      "cell_type": "markdown",
      "metadata": {
        "id": "rhD1a-beKvE7"
      },
      "source": [
        "## 6. Model building"
      ]
    },
    {
      "cell_type": "markdown",
      "metadata": {
        "id": "UPFovmN03exD"
      },
      "source": [
        "### 6.1 Build a random forest classifier to predict the 'sentiment'\n",
        "### 6.2 Predict on test set\n",
        "### 6.3 Check accuracy and confusion matrix"
      ]
    },
    {
      "cell_type": "code",
      "metadata": {
        "id": "y0ytdD-_30P9",
        "colab": {
          "base_uri": "https://localhost:8080/"
        },
        "outputId": "26e5e808-6454-480d-a74e-dd2b8252353e"
      },
      "source": [
        "from sklearn.ensemble import RandomForestClassifier\n",
        "rf_clf1 = RandomForestClassifier()\n",
        "rf_clf1.fit(X_train, y1_train)"
      ],
      "execution_count": 92,
      "outputs": [
        {
          "output_type": "execute_result",
          "data": {
            "text/plain": [
              "RandomForestClassifier(bootstrap=True, ccp_alpha=0.0, class_weight=None,\n",
              "                       criterion='gini', max_depth=None, max_features='auto',\n",
              "                       max_leaf_nodes=None, max_samples=None,\n",
              "                       min_impurity_decrease=0.0, min_impurity_split=None,\n",
              "                       min_samples_leaf=1, min_samples_split=2,\n",
              "                       min_weight_fraction_leaf=0.0, n_estimators=100,\n",
              "                       n_jobs=None, oob_score=False, random_state=None,\n",
              "                       verbose=0, warm_start=False)"
            ]
          },
          "metadata": {
            "tags": []
          },
          "execution_count": 92
        }
      ]
    },
    {
      "cell_type": "code",
      "metadata": {
        "id": "uMK8rXrBnZq5",
        "colab": {
          "base_uri": "https://localhost:8080/"
        },
        "outputId": "c8ff429d-ec6e-426d-dce1-6debb39ade85"
      },
      "source": [
        "print(\"Train accuracy of the model is : \",rf_clf1.score(X_train, y1_train))\n",
        "print(\"Test accuracy of the model is : \",rf_clf1.score(X_test, y1_test))"
      ],
      "execution_count": 93,
      "outputs": [
        {
          "output_type": "stream",
          "text": [
            "Train accuracy of the model is :  0.9958466528221761\n",
            "Test accuracy of the model is :  0.8875762195121951\n"
          ],
          "name": "stdout"
        }
      ]
    },
    {
      "cell_type": "code",
      "metadata": {
        "id": "cNET67Jihrak",
        "colab": {
          "base_uri": "https://localhost:8080/"
        },
        "outputId": "f204c2ea-f985-41c3-eddb-0ad61baa50d6"
      },
      "source": [
        "from sklearn.metrics import confusion_matrix\n",
        "y1_pred = rf_clf1.predict(X_train)\n",
        "confusion_matrix(y1_train, y1_pred)\n"
      ],
      "execution_count": 94,
      "outputs": [
        {
          "output_type": "execute_result",
          "data": {
            "text/plain": [
              "array([[12638,   162],\n",
              "       [   16, 30041]])"
            ]
          },
          "metadata": {
            "tags": []
          },
          "execution_count": 94
        }
      ]
    },
    {
      "cell_type": "code",
      "metadata": {
        "id": "Nd7n_Ajwhrpu",
        "colab": {
          "base_uri": "https://localhost:8080/"
        },
        "outputId": "cf07c90f-7617-4ff5-e76d-a1d38e8002de"
      },
      "source": [
        "from sklearn.metrics import confusion_matrix\n",
        "y1_pred = rf_clf1.predict(X_test)\n",
        "confusion_matrix(y1_test, y1_pred)\n"
      ],
      "execution_count": 95,
      "outputs": [
        {
          "output_type": "execute_result",
          "data": {
            "text/plain": [
              "array([[ 4041,  1445],\n",
              "       [  620, 12262]])"
            ]
          },
          "metadata": {
            "tags": []
          },
          "execution_count": 95
        }
      ]
    },
    {
      "cell_type": "code",
      "metadata": {
        "id": "NJ6Ke4hl30Zk",
        "colab": {
          "base_uri": "https://localhost:8080/"
        },
        "outputId": "c723922c-2882-4cd3-d8e6-aca413adf096"
      },
      "source": [
        "X_train, X_test, y1_train, y1_test = train_test_split(tfidf1, y, random_state = 50, stratify=y, test_size=0.3)\n",
        "from sklearn.ensemble import RandomForestClassifier\n",
        "rf_clf1 = RandomForestClassifier()\n",
        "rf_clf1.fit(X_train, y1_train)"
      ],
      "execution_count": 96,
      "outputs": [
        {
          "output_type": "execute_result",
          "data": {
            "text/plain": [
              "RandomForestClassifier(bootstrap=True, ccp_alpha=0.0, class_weight=None,\n",
              "                       criterion='gini', max_depth=None, max_features='auto',\n",
              "                       max_leaf_nodes=None, max_samples=None,\n",
              "                       min_impurity_decrease=0.0, min_impurity_split=None,\n",
              "                       min_samples_leaf=1, min_samples_split=2,\n",
              "                       min_weight_fraction_leaf=0.0, n_estimators=100,\n",
              "                       n_jobs=None, oob_score=False, random_state=None,\n",
              "                       verbose=0, warm_start=False)"
            ]
          },
          "metadata": {
            "tags": []
          },
          "execution_count": 96
        }
      ]
    },
    {
      "cell_type": "code",
      "metadata": {
        "id": "wmSffAPWnePg"
      },
      "source": [
        "print(\"Train accuracy of the model is : \",rf_clf1.score(X_train, y1_train))\n",
        "print(\"Test accuracy of the model is : \",rf_clf1.score(X_test, y1_test))\n"
      ],
      "execution_count": null,
      "outputs": []
    },
    {
      "cell_type": "code",
      "metadata": {
        "id": "1D28OgUGh6fS"
      },
      "source": [
        "from sklearn.metrics import confusion_matrix\n",
        "y1_pred = rf_clf1.predict(X_train)\n",
        "confusion_matrix(y1_train, y1_pred)\n"
      ],
      "execution_count": null,
      "outputs": []
    },
    {
      "cell_type": "code",
      "metadata": {
        "id": "QwAySEWOh6jU"
      },
      "source": [
        "from sklearn.metrics import confusion_matrix\n",
        "y1_pred = rf_clf1.predict(X_test)\n",
        "confusion_matrix(y1_test, y1_pred)\n"
      ],
      "execution_count": null,
      "outputs": []
    },
    {
      "cell_type": "markdown",
      "metadata": {
        "id": "Ey7an7ukLxWB"
      },
      "source": [
        "## 7. Write your conclusion"
      ]
    },
    {
      "cell_type": "markdown",
      "metadata": {
        "id": "3pk8hvcEl6uh"
      },
      "source": [
        "\n",
        "\n",
        "*   We can see model is overfit , so we can tune some hyperparameters to improve the accuracy. \n",
        "*   We can also tune some hyperparameters to reduce the shape of our tfidf,etc\n",
        "*   We can try max feature \n",
        "*   We are only usinf body attribute for analysis in this notebook we can add review_title and also brand along with body to get some deeper insights.  \n",
        "\n",
        "\n",
        "\n"
      ]
    }
  ]
}