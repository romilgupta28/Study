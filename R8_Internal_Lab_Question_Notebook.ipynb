{
  "nbformat": 4,
  "nbformat_minor": 0,
  "metadata": {
    "colab": {
      "name": "R8 Internal Lab Question Notebook.ipynb",
      "provenance": [],
      "collapsed_sections": []
    },
    "kernelspec": {
      "name": "python3",
      "display_name": "Python 3"
    }
  },
  "cells": [
    {
      "cell_type": "markdown",
      "metadata": {
        "id": "PHYs6Z84xV8E"
      },
      "source": [
        "<img src=\"http://drive.google.com/uc?export=view&id=1tpOCamr9aWz817atPnyXus8w5gJ3mIts\" width=500px>\n",
        "\n",
        "Proprietary content. © Great Learning. All Rights Reserved. Unauthorized use or distribution prohibited."
      ]
    },
    {
      "cell_type": "markdown",
      "metadata": {
        "id": "5QQxgAmWzSye"
      },
      "source": [
        "# Mobile Phone Review Analysis"
      ]
    },
    {
      "cell_type": "markdown",
      "metadata": {
        "id": "FbwHYUXhxaqD"
      },
      "source": [
        "## Context\n",
        "\n",
        "The product companies can utilize the detailed review comments to gather insights from the end user. Most of the products are sold via e-commerce sites like Flipkart or Amazon where customers can buy a product and give their review about the product on the web site. \n",
        "Product managers can identify the relevant reviews from the website and run a sentiment analysis tool to understand what the sentiments of the customer are. Based on their sentiments, they can identify what users think of the current product. Are they happy? Discontent? \n",
        "They can also come up with a document that lists the features, the team needs to focus on for making the product better. \n",
        "\n",
        "## Objective\n",
        "\n",
        "Given the review data rating label, we will try to get insights about various brands and their ratings using text analytics and build a model to predict the rating and overall sentiment. \n"
      ]
    },
    {
      "cell_type": "markdown",
      "metadata": {
        "id": "CI7usguRzeox"
      },
      "source": [
        "### Package version\n",
        "\n",
        "- tensorflow==2.3.0\n",
        "- scikit-learn==0.22.2.post1\n",
        "- pandas==1.0.5\n",
        "- numpy==1.18.5\n",
        "- matplotlib==3.2.2\n",
        "- google==2.0.3"
      ]
    },
    {
      "cell_type": "markdown",
      "metadata": {
        "id": "aiMdVjHRH7NR"
      },
      "source": [
        "### Data Dictionary \n",
        "\n",
        "product_data.csv - contains product details\n",
        "- 'asin',  - Product ASIN\n",
        "- 'brand', - Product Brand\n",
        "- 'title', - Product Title\n",
        "- 'url',  - Product URL\n",
        "- 'image', - Product Image URL\n",
        "- 'rating',- Product Avg. Rating\n",
        "- 'reviewUrl' - Product Review Page URL\n",
        "- 'totalReviews' - Product Total Reviews\n",
        "- ‘price’ - Product Price ($)\n",
        "- ‘originalPrice’ - Product Original Price ($)\n",
        " \n",
        "reviews.csv  - contains user review details\n",
        " \n",
        "- 'asin' - Product ASIN\n",
        "- 'name' - Reviewer Name\n",
        "- 'rating' - Reviewer Rating (scale 1 to 5)\n",
        "- 'date'  - Review Date\n",
        "- 'verified' - Valid Customer\n",
        "- 'title'  - Review Title\n",
        "- 'body'  - Review Content\n",
        "- 'helpfulVotes  - Helpful Feedbacks\n"
      ]
    },
    {
      "cell_type": "markdown",
      "metadata": {
        "id": "cEn52o8jznJK"
      },
      "source": [
        "## Table of Content\n",
        "\n",
        "1. Import Libraries\n",
        "\n",
        "2. Setting options\n",
        "\n",
        "3. Read Data\n",
        "\n",
        "4. Data Analysis and EDA\n",
        "\n",
        "5. Text preprocessing and Vectorization\n",
        "\n",
        "6. Model building\n",
        "\n",
        "7. Conclusion and Interpretation"
      ]
    },
    {
      "cell_type": "markdown",
      "metadata": {
        "id": "x_Lom6cXzqn7"
      },
      "source": [
        "## 1. Import Libraries"
      ]
    },
    {
      "cell_type": "markdown",
      "metadata": {
        "id": "FZtVstH8zre2"
      },
      "source": [
        "Let us start by mounting the drive"
      ]
    },
    {
      "cell_type": "code",
      "metadata": {
        "id": "xv9jxv3-R5Xl",
        "colab": {
          "base_uri": "https://localhost:8080/"
        },
        "outputId": "01ce3d37-70d0-4e7b-e575-99717d62b1e3"
      },
      "source": [
        "from google.colab import drive\n",
        "drive.mount('/content/drive')"
      ],
      "execution_count": 3,
      "outputs": [
        {
          "output_type": "stream",
          "text": [
            "Mounted at /content/drive\n"
          ],
          "name": "stdout"
        }
      ]
    },
    {
      "cell_type": "markdown",
      "metadata": {
        "id": "Gv-tZoFjz2WD"
      },
      "source": [
        "Let us check for the version of installed tensorflow."
      ]
    },
    {
      "cell_type": "code",
      "metadata": {
        "id": "eiuUVBuDzzn9",
        "colab": {
          "base_uri": "https://localhost:8080/"
        },
        "outputId": "8cab07bd-6c27-4037-e66c-f10ddbc00604"
      },
      "source": [
        "# used to supress display of warnings\n",
        "import warnings\n",
        "\n",
        "# os is used to provide a way of using operating system dependent functionality\n",
        "# We use it for setting working folder\n",
        "import os\n",
        "\n",
        "# Pandas is used for data manipulation and analysis\n",
        "import pandas as pd \n",
        "\n",
        "# Numpy is used for large, multi-dimensional arrays and matrices, along with mathematical operators on these arrays\n",
        "import numpy as np\n",
        "\n",
        "# Matplotlib is a data visualization library for 2D plots of arrays, built on NumPy arrays \n",
        "# and designed to work with the broader SciPy stack\n",
        "import matplotlib.pyplot as plt\n",
        "%matplotlib inline\n",
        "from matplotlib import pyplot\n",
        "\n",
        "# Seaborn is based on matplotlib, which aids in drawing attractive and informative statistical graphics.\n",
        "import seaborn as sns\n",
        "import tensorflow \n",
        "print(tensorflow.__version__)"
      ],
      "execution_count": 23,
      "outputs": [
        {
          "output_type": "stream",
          "text": [
            "2.5.0\n"
          ],
          "name": "stdout"
        }
      ]
    },
    {
      "cell_type": "markdown",
      "metadata": {
        "id": "fze-aokU0ukH"
      },
      "source": [
        "## 2. Setting Options"
      ]
    },
    {
      "cell_type": "code",
      "metadata": {
        "id": "T3FALggG0xXa"
      },
      "source": [
        "# suppress display of warnings\n",
        "warnings.filterwarnings('ignore')\n",
        "\n",
        "# display all dataframe columns\n",
        "pd.options.display.max_columns = None\n",
        "\n",
        "# to set the limit to 3 decimals\n",
        "pd.options.display.float_format = '{:.7f}'.format\n",
        "\n",
        "# display all dataframe rows\n",
        "pd.options.display.max_rows = None"
      ],
      "execution_count": 24,
      "outputs": []
    },
    {
      "cell_type": "code",
      "metadata": {
        "id": "dqB2jqmfMOyg"
      },
      "source": [
        "path = '/content/drive/MyDrive/LabStats/'"
      ],
      "execution_count": 25,
      "outputs": []
    },
    {
      "cell_type": "markdown",
      "metadata": {
        "id": "ZT1P1WdK1vfZ"
      },
      "source": [
        "## 3. Read Data"
      ]
    },
    {
      "cell_type": "markdown",
      "metadata": {
        "id": "-UOW6zwww7L1"
      },
      "source": [
        "### 3.1 Read the provided CSVs and check 5 random samples and shape to understand the datasets"
      ]
    },
    {
      "cell_type": "code",
      "metadata": {
        "id": "nxT2g284xF1W",
        "colab": {
          "base_uri": "https://localhost:8080/",
          "height": 530
        },
        "outputId": "dc3c5e73-d27f-4847-e4ac-0d54b62bfab3"
      },
      "source": [
        "prod_dat = pd.read_csv(path+'product_data.csv')\n",
        "prod_dat.sample(5)"
      ],
      "execution_count": 26,
      "outputs": [
        {
          "output_type": "execute_result",
          "data": {
            "text/html": [
              "<div>\n",
              "<style scoped>\n",
              "    .dataframe tbody tr th:only-of-type {\n",
              "        vertical-align: middle;\n",
              "    }\n",
              "\n",
              "    .dataframe tbody tr th {\n",
              "        vertical-align: top;\n",
              "    }\n",
              "\n",
              "    .dataframe thead th {\n",
              "        text-align: right;\n",
              "    }\n",
              "</style>\n",
              "<table border=\"1\" class=\"dataframe\">\n",
              "  <thead>\n",
              "    <tr style=\"text-align: right;\">\n",
              "      <th></th>\n",
              "      <th>asin</th>\n",
              "      <th>brand</th>\n",
              "      <th>title</th>\n",
              "      <th>url</th>\n",
              "      <th>image</th>\n",
              "      <th>rating</th>\n",
              "      <th>reviewUrl</th>\n",
              "      <th>totalReviews</th>\n",
              "      <th>price</th>\n",
              "      <th>originalPrice</th>\n",
              "    </tr>\n",
              "  </thead>\n",
              "  <tbody>\n",
              "    <tr>\n",
              "      <th>353</th>\n",
              "      <td>B079HB518K</td>\n",
              "      <td>Apple</td>\n",
              "      <td>Apple iPhone 7, 32GB, Rose Gold - For AT&amp;T / T...</td>\n",
              "      <td>https://www.amazon.com/Apple-iPhone-GSM-Unlock...</td>\n",
              "      <td>https://m.media-amazon.com/images/I/71x3e0x+M2...</td>\n",
              "      <td>3.9000000</td>\n",
              "      <td>https://www.amazon.com/product-reviews/B079HB518K</td>\n",
              "      <td>243</td>\n",
              "      <td>199.0000000</td>\n",
              "      <td>206.9000000</td>\n",
              "    </tr>\n",
              "    <tr>\n",
              "      <th>593</th>\n",
              "      <td>B07R57VRJ7</td>\n",
              "      <td>Samsung</td>\n",
              "      <td>Samsung Galaxy A70 (SM-A7050) 6GB / 128GB 6.7-...</td>\n",
              "      <td>https://www.amazon.com/Samsung-SM-A7050-6-7-in...</td>\n",
              "      <td>https://m.media-amazon.com/images/I/61HQhbnTQk...</td>\n",
              "      <td>5.0000000</td>\n",
              "      <td>https://www.amazon.com/product-reviews/B07R57VRJ7</td>\n",
              "      <td>1</td>\n",
              "      <td>350.0000000</td>\n",
              "      <td>0.0000000</td>\n",
              "    </tr>\n",
              "    <tr>\n",
              "      <th>388</th>\n",
              "      <td>B07CGMQDXW</td>\n",
              "      <td>Apple</td>\n",
              "      <td>Apple iPhone 8 Plus, 64GB, Space Gray - For Ve...</td>\n",
              "      <td>https://www.amazon.com/Apple-iPhone-Plus-Veriz...</td>\n",
              "      <td>https://m.media-amazon.com/images/I/71MRY6+c8p...</td>\n",
              "      <td>4.2000000</td>\n",
              "      <td>https://www.amazon.com/product-reviews/B07CGMQDXW</td>\n",
              "      <td>1</td>\n",
              "      <td>373.5300000</td>\n",
              "      <td>0.0000000</td>\n",
              "    </tr>\n",
              "    <tr>\n",
              "      <th>118</th>\n",
              "      <td>B01ATTBXY8</td>\n",
              "      <td>Motorola</td>\n",
              "      <td>Motorola Droid Turbo - 32GB Android Smartphone...</td>\n",
              "      <td>https://www.amazon.com/Motorola-Droid-Turbo-Sm...</td>\n",
              "      <td>https://m.media-amazon.com/images/I/91oY6n78hh...</td>\n",
              "      <td>3.8000000</td>\n",
              "      <td>https://www.amazon.com/product-reviews/B01ATTBXY8</td>\n",
              "      <td>209</td>\n",
              "      <td>74.9900000</td>\n",
              "      <td>0.0000000</td>\n",
              "    </tr>\n",
              "    <tr>\n",
              "      <th>409</th>\n",
              "      <td>B07F3YGL26</td>\n",
              "      <td>Xiaomi</td>\n",
              "      <td>Xiaomi Redmi S2 (32GB 3GB RAM) with AI Smart S...</td>\n",
              "      <td>https://www.amazon.com/Cameras-Display-Unlocke...</td>\n",
              "      <td>https://m.media-amazon.com/images/I/41NTLwPYT6...</td>\n",
              "      <td>5.0000000</td>\n",
              "      <td>https://www.amazon.com/product-reviews/B07F3YGL26</td>\n",
              "      <td>1</td>\n",
              "      <td>139.9900000</td>\n",
              "      <td>155.0000000</td>\n",
              "    </tr>\n",
              "  </tbody>\n",
              "</table>\n",
              "</div>"
            ],
            "text/plain": [
              "           asin     brand                                              title  \\\n",
              "353  B079HB518K     Apple  Apple iPhone 7, 32GB, Rose Gold - For AT&T / T...   \n",
              "593  B07R57VRJ7   Samsung  Samsung Galaxy A70 (SM-A7050) 6GB / 128GB 6.7-...   \n",
              "388  B07CGMQDXW     Apple  Apple iPhone 8 Plus, 64GB, Space Gray - For Ve...   \n",
              "118  B01ATTBXY8  Motorola  Motorola Droid Turbo - 32GB Android Smartphone...   \n",
              "409  B07F3YGL26    Xiaomi  Xiaomi Redmi S2 (32GB 3GB RAM) with AI Smart S...   \n",
              "\n",
              "                                                   url  \\\n",
              "353  https://www.amazon.com/Apple-iPhone-GSM-Unlock...   \n",
              "593  https://www.amazon.com/Samsung-SM-A7050-6-7-in...   \n",
              "388  https://www.amazon.com/Apple-iPhone-Plus-Veriz...   \n",
              "118  https://www.amazon.com/Motorola-Droid-Turbo-Sm...   \n",
              "409  https://www.amazon.com/Cameras-Display-Unlocke...   \n",
              "\n",
              "                                                 image    rating  \\\n",
              "353  https://m.media-amazon.com/images/I/71x3e0x+M2... 3.9000000   \n",
              "593  https://m.media-amazon.com/images/I/61HQhbnTQk... 5.0000000   \n",
              "388  https://m.media-amazon.com/images/I/71MRY6+c8p... 4.2000000   \n",
              "118  https://m.media-amazon.com/images/I/91oY6n78hh... 3.8000000   \n",
              "409  https://m.media-amazon.com/images/I/41NTLwPYT6... 5.0000000   \n",
              "\n",
              "                                             reviewUrl  totalReviews  \\\n",
              "353  https://www.amazon.com/product-reviews/B079HB518K           243   \n",
              "593  https://www.amazon.com/product-reviews/B07R57VRJ7             1   \n",
              "388  https://www.amazon.com/product-reviews/B07CGMQDXW             1   \n",
              "118  https://www.amazon.com/product-reviews/B01ATTBXY8           209   \n",
              "409  https://www.amazon.com/product-reviews/B07F3YGL26             1   \n",
              "\n",
              "          price  originalPrice  \n",
              "353 199.0000000    206.9000000  \n",
              "593 350.0000000      0.0000000  \n",
              "388 373.5300000      0.0000000  \n",
              "118  74.9900000      0.0000000  \n",
              "409 139.9900000    155.0000000  "
            ]
          },
          "metadata": {
            "tags": []
          },
          "execution_count": 26
        }
      ]
    },
    {
      "cell_type": "code",
      "metadata": {
        "colab": {
          "base_uri": "https://localhost:8080/"
        },
        "id": "bWTjExSJXzq2",
        "outputId": "e3d83f67-2027-429f-8a00-7dee89cc486f"
      },
      "source": [
        "prod_dat.shape"
      ],
      "execution_count": 27,
      "outputs": [
        {
          "output_type": "execute_result",
          "data": {
            "text/plain": [
              "(720, 10)"
            ]
          },
          "metadata": {
            "tags": []
          },
          "execution_count": 27
        }
      ]
    },
    {
      "cell_type": "code",
      "metadata": {
        "id": "GRjG44fRxGIq",
        "colab": {
          "base_uri": "https://localhost:8080/",
          "height": 204
        },
        "outputId": "c39020b6-f3a9-4136-cb09-b42eb7a0fb5e"
      },
      "source": [
        "rev_dat = pd.read_csv(path+'reviews.csv')\n",
        "rev_dat.sample(5)"
      ],
      "execution_count": 28,
      "outputs": [
        {
          "output_type": "execute_result",
          "data": {
            "text/html": [
              "<div>\n",
              "<style scoped>\n",
              "    .dataframe tbody tr th:only-of-type {\n",
              "        vertical-align: middle;\n",
              "    }\n",
              "\n",
              "    .dataframe tbody tr th {\n",
              "        vertical-align: top;\n",
              "    }\n",
              "\n",
              "    .dataframe thead th {\n",
              "        text-align: right;\n",
              "    }\n",
              "</style>\n",
              "<table border=\"1\" class=\"dataframe\">\n",
              "  <thead>\n",
              "    <tr style=\"text-align: right;\">\n",
              "      <th></th>\n",
              "      <th>asin</th>\n",
              "      <th>name</th>\n",
              "      <th>rating</th>\n",
              "      <th>date</th>\n",
              "      <th>verified</th>\n",
              "      <th>title</th>\n",
              "      <th>body</th>\n",
              "      <th>helpfulVotes</th>\n",
              "    </tr>\n",
              "  </thead>\n",
              "  <tbody>\n",
              "    <tr>\n",
              "      <th>42686</th>\n",
              "      <td>B0775H5HJW</td>\n",
              "      <td>Shlomo</td>\n",
              "      <td>5</td>\n",
              "      <td>May 27, 2019</td>\n",
              "      <td>True</td>\n",
              "      <td>It is very heavy</td>\n",
              "      <td>Very good phone</td>\n",
              "      <td>nan</td>\n",
              "    </tr>\n",
              "    <tr>\n",
              "      <th>10201</th>\n",
              "      <td>B00HWEMZ1E</td>\n",
              "      <td>Keith Johnson</td>\n",
              "      <td>5</td>\n",
              "      <td>June 13, 2015</td>\n",
              "      <td>True</td>\n",
              "      <td>I personally like a heavier feel so this one i...</td>\n",
              "      <td>The weight, glass, feel and the camera are out...</td>\n",
              "      <td>1.0000000</td>\n",
              "    </tr>\n",
              "    <tr>\n",
              "      <th>65091</th>\n",
              "      <td>B07VZL1W7K</td>\n",
              "      <td>Elle</td>\n",
              "      <td>5</td>\n",
              "      <td>December 2, 2019</td>\n",
              "      <td>True</td>\n",
              "      <td>Excellent Phone</td>\n",
              "      <td>large screen, has everything the newer phones ...</td>\n",
              "      <td>2.0000000</td>\n",
              "    </tr>\n",
              "    <tr>\n",
              "      <th>32742</th>\n",
              "      <td>B06XS4978K</td>\n",
              "      <td>Mrs. Lebron</td>\n",
              "      <td>5</td>\n",
              "      <td>December 4, 2019</td>\n",
              "      <td>True</td>\n",
              "      <td>Lucky to have found</td>\n",
              "      <td>Deal of a lifetime</td>\n",
              "      <td>nan</td>\n",
              "    </tr>\n",
              "    <tr>\n",
              "      <th>12795</th>\n",
              "      <td>B00MWI4KKE</td>\n",
              "      <td>mark moore</td>\n",
              "      <td>5</td>\n",
              "      <td>August 14, 2015</td>\n",
              "      <td>True</td>\n",
              "      <td>The X14 is amazing.. just make sure you get th...</td>\n",
              "      <td>this is a Nexus, don't let the name fool you. ...</td>\n",
              "      <td>1.0000000</td>\n",
              "    </tr>\n",
              "  </tbody>\n",
              "</table>\n",
              "</div>"
            ],
            "text/plain": [
              "             asin           name  rating              date  verified  \\\n",
              "42686  B0775H5HJW         Shlomo       5      May 27, 2019      True   \n",
              "10201  B00HWEMZ1E  Keith Johnson       5     June 13, 2015      True   \n",
              "65091  B07VZL1W7K           Elle       5  December 2, 2019      True   \n",
              "32742  B06XS4978K    Mrs. Lebron       5  December 4, 2019      True   \n",
              "12795  B00MWI4KKE     mark moore       5   August 14, 2015      True   \n",
              "\n",
              "                                                   title  \\\n",
              "42686                                   It is very heavy   \n",
              "10201  I personally like a heavier feel so this one i...   \n",
              "65091                                    Excellent Phone   \n",
              "32742                                Lucky to have found   \n",
              "12795  The X14 is amazing.. just make sure you get th...   \n",
              "\n",
              "                                                    body  helpfulVotes  \n",
              "42686                                    Very good phone           nan  \n",
              "10201  The weight, glass, feel and the camera are out...     1.0000000  \n",
              "65091  large screen, has everything the newer phones ...     2.0000000  \n",
              "32742                                 Deal of a lifetime           nan  \n",
              "12795  this is a Nexus, don't let the name fool you. ...     1.0000000  "
            ]
          },
          "metadata": {
            "tags": []
          },
          "execution_count": 28
        }
      ]
    },
    {
      "cell_type": "code",
      "metadata": {
        "colab": {
          "base_uri": "https://localhost:8080/"
        },
        "id": "GMnawhsoX3mh",
        "outputId": "52924431-8951-40e8-bc99-630dbe52b55e"
      },
      "source": [
        "rev_dat.shape"
      ],
      "execution_count": 29,
      "outputs": [
        {
          "output_type": "execute_result",
          "data": {
            "text/plain": [
              "(67986, 8)"
            ]
          },
          "metadata": {
            "tags": []
          },
          "execution_count": 29
        }
      ]
    },
    {
      "cell_type": "markdown",
      "metadata": {
        "id": "rED6DbDBKTjM"
      },
      "source": [
        "## 4.  Data Analysis and EDA"
      ]
    },
    {
      "cell_type": "markdown",
      "metadata": {
        "id": "awlqmp40xMfc"
      },
      "source": [
        "### 4.1 Drop unnecessary columns like 'url', 'image' from the product_data"
      ]
    },
    {
      "cell_type": "code",
      "metadata": {
        "id": "VT4d-6TCxZCm"
      },
      "source": [
        "prod_dat.drop(['url', 'image', 'reviewUrl'], inplace=True, axis=1)\n"
      ],
      "execution_count": 30,
      "outputs": []
    },
    {
      "cell_type": "code",
      "metadata": {
        "colab": {
          "base_uri": "https://localhost:8080/",
          "height": 204
        },
        "id": "qk4yFWRDNi42",
        "outputId": "192fbf5b-326f-40b3-9367-a93a6c52f7e7"
      },
      "source": [
        "prod_dat.sample(5)"
      ],
      "execution_count": 31,
      "outputs": [
        {
          "output_type": "execute_result",
          "data": {
            "text/html": [
              "<div>\n",
              "<style scoped>\n",
              "    .dataframe tbody tr th:only-of-type {\n",
              "        vertical-align: middle;\n",
              "    }\n",
              "\n",
              "    .dataframe tbody tr th {\n",
              "        vertical-align: top;\n",
              "    }\n",
              "\n",
              "    .dataframe thead th {\n",
              "        text-align: right;\n",
              "    }\n",
              "</style>\n",
              "<table border=\"1\" class=\"dataframe\">\n",
              "  <thead>\n",
              "    <tr style=\"text-align: right;\">\n",
              "      <th></th>\n",
              "      <th>asin</th>\n",
              "      <th>brand</th>\n",
              "      <th>title</th>\n",
              "      <th>rating</th>\n",
              "      <th>totalReviews</th>\n",
              "      <th>price</th>\n",
              "      <th>originalPrice</th>\n",
              "    </tr>\n",
              "  </thead>\n",
              "  <tbody>\n",
              "    <tr>\n",
              "      <th>301</th>\n",
              "      <td>B0766TPHSH</td>\n",
              "      <td>Google</td>\n",
              "      <td>Google Pixel 2 XL 64GB Unlocked GSM/CDMA 4G LT...</td>\n",
              "      <td>4.1000000</td>\n",
              "      <td>153</td>\n",
              "      <td>409.8800000</td>\n",
              "      <td>0.0000000</td>\n",
              "    </tr>\n",
              "    <tr>\n",
              "      <th>558</th>\n",
              "      <td>B07PZZLR4D</td>\n",
              "      <td>Motorola</td>\n",
              "      <td>Motorola Moto G7 (64GB, 4GB RAM) Dual SIM 6.2\"...</td>\n",
              "      <td>4.0000000</td>\n",
              "      <td>16</td>\n",
              "      <td>153.0000000</td>\n",
              "      <td>0.0000000</td>\n",
              "    </tr>\n",
              "    <tr>\n",
              "      <th>307</th>\n",
              "      <td>B076M9RQJ2</td>\n",
              "      <td>Samsung</td>\n",
              "      <td>Samsung Galaxy S8 64GB Phone - 5.8in Unlocked ...</td>\n",
              "      <td>4.1000000</td>\n",
              "      <td>167</td>\n",
              "      <td>269.9900000</td>\n",
              "      <td>0.0000000</td>\n",
              "    </tr>\n",
              "    <tr>\n",
              "      <th>555</th>\n",
              "      <td>B07PW9XW1G</td>\n",
              "      <td>HUAWEI</td>\n",
              "      <td>Huawei E8372h-608 Unlocked 150 Mbps 4G LTE Mod...</td>\n",
              "      <td>3.4000000</td>\n",
              "      <td>3</td>\n",
              "      <td>79.9900000</td>\n",
              "      <td>0.0000000</td>\n",
              "    </tr>\n",
              "    <tr>\n",
              "      <th>31</th>\n",
              "      <td>B0096QYH80</td>\n",
              "      <td>Motorola</td>\n",
              "      <td>Motorola Droid RAZR M XT907 Verizon Wireless, ...</td>\n",
              "      <td>3.0000000</td>\n",
              "      <td>488</td>\n",
              "      <td>349.9900000</td>\n",
              "      <td>0.0000000</td>\n",
              "    </tr>\n",
              "  </tbody>\n",
              "</table>\n",
              "</div>"
            ],
            "text/plain": [
              "           asin     brand                                              title  \\\n",
              "301  B0766TPHSH    Google  Google Pixel 2 XL 64GB Unlocked GSM/CDMA 4G LT...   \n",
              "558  B07PZZLR4D  Motorola  Motorola Moto G7 (64GB, 4GB RAM) Dual SIM 6.2\"...   \n",
              "307  B076M9RQJ2   Samsung  Samsung Galaxy S8 64GB Phone - 5.8in Unlocked ...   \n",
              "555  B07PW9XW1G    HUAWEI  Huawei E8372h-608 Unlocked 150 Mbps 4G LTE Mod...   \n",
              "31   B0096QYH80  Motorola  Motorola Droid RAZR M XT907 Verizon Wireless, ...   \n",
              "\n",
              "       rating  totalReviews       price  originalPrice  \n",
              "301 4.1000000           153 409.8800000      0.0000000  \n",
              "558 4.0000000            16 153.0000000      0.0000000  \n",
              "307 4.1000000           167 269.9900000      0.0000000  \n",
              "555 3.4000000             3  79.9900000      0.0000000  \n",
              "31  3.0000000           488 349.9900000      0.0000000  "
            ]
          },
          "metadata": {
            "tags": []
          },
          "execution_count": 31
        }
      ]
    },
    {
      "cell_type": "code",
      "metadata": {
        "colab": {
          "base_uri": "https://localhost:8080/"
        },
        "id": "tgHl1XKYX8lP",
        "outputId": "fb549351-dfa1-476a-8b2c-90340b1a8a78"
      },
      "source": [
        "prod_dat.shape"
      ],
      "execution_count": 32,
      "outputs": [
        {
          "output_type": "execute_result",
          "data": {
            "text/plain": [
              "(720, 7)"
            ]
          },
          "metadata": {
            "tags": []
          },
          "execution_count": 32
        }
      ]
    },
    {
      "cell_type": "markdown",
      "metadata": {
        "id": "Zk0WW5D5xZK9"
      },
      "source": [
        "### 4.2 Check statistical summary of both datasets. Note:- Include both numerical and object type columns."
      ]
    },
    {
      "cell_type": "code",
      "metadata": {
        "id": "ylwcqQpcx_Tl",
        "colab": {
          "base_uri": "https://localhost:8080/",
          "height": 297
        },
        "outputId": "65b7fed2-49df-4afc-eef9-ddc107f81e9b"
      },
      "source": [
        "prod_dat.describe()"
      ],
      "execution_count": 33,
      "outputs": [
        {
          "output_type": "execute_result",
          "data": {
            "text/html": [
              "<div>\n",
              "<style scoped>\n",
              "    .dataframe tbody tr th:only-of-type {\n",
              "        vertical-align: middle;\n",
              "    }\n",
              "\n",
              "    .dataframe tbody tr th {\n",
              "        vertical-align: top;\n",
              "    }\n",
              "\n",
              "    .dataframe thead th {\n",
              "        text-align: right;\n",
              "    }\n",
              "</style>\n",
              "<table border=\"1\" class=\"dataframe\">\n",
              "  <thead>\n",
              "    <tr style=\"text-align: right;\">\n",
              "      <th></th>\n",
              "      <th>rating</th>\n",
              "      <th>totalReviews</th>\n",
              "      <th>price</th>\n",
              "      <th>originalPrice</th>\n",
              "    </tr>\n",
              "  </thead>\n",
              "  <tbody>\n",
              "    <tr>\n",
              "      <th>count</th>\n",
              "      <td>720.0000000</td>\n",
              "      <td>720.0000000</td>\n",
              "      <td>720.0000000</td>\n",
              "      <td>720.0000000</td>\n",
              "    </tr>\n",
              "    <tr>\n",
              "      <th>mean</th>\n",
              "      <td>3.7137500</td>\n",
              "      <td>105.6791667</td>\n",
              "      <td>234.9489306</td>\n",
              "      <td>63.6907778</td>\n",
              "    </tr>\n",
              "    <tr>\n",
              "      <th>std</th>\n",
              "      <td>0.7160138</td>\n",
              "      <td>167.6011014</td>\n",
              "      <td>200.0084407</td>\n",
              "      <td>172.4053696</td>\n",
              "    </tr>\n",
              "    <tr>\n",
              "      <th>min</th>\n",
              "      <td>1.0000000</td>\n",
              "      <td>1.0000000</td>\n",
              "      <td>0.0000000</td>\n",
              "      <td>0.0000000</td>\n",
              "    </tr>\n",
              "    <tr>\n",
              "      <th>25%</th>\n",
              "      <td>3.3000000</td>\n",
              "      <td>7.0000000</td>\n",
              "      <td>97.5125000</td>\n",
              "      <td>0.0000000</td>\n",
              "    </tr>\n",
              "    <tr>\n",
              "      <th>50%</th>\n",
              "      <td>3.8000000</td>\n",
              "      <td>32.0000000</td>\n",
              "      <td>188.9750000</td>\n",
              "      <td>0.0000000</td>\n",
              "    </tr>\n",
              "    <tr>\n",
              "      <th>75%</th>\n",
              "      <td>4.1000000</td>\n",
              "      <td>122.2500000</td>\n",
              "      <td>336.7250000</td>\n",
              "      <td>0.0000000</td>\n",
              "    </tr>\n",
              "    <tr>\n",
              "      <th>max</th>\n",
              "      <td>5.0000000</td>\n",
              "      <td>983.0000000</td>\n",
              "      <td>999.9900000</td>\n",
              "      <td>999.9900000</td>\n",
              "    </tr>\n",
              "  </tbody>\n",
              "</table>\n",
              "</div>"
            ],
            "text/plain": [
              "           rating  totalReviews       price  originalPrice\n",
              "count 720.0000000   720.0000000 720.0000000    720.0000000\n",
              "mean    3.7137500   105.6791667 234.9489306     63.6907778\n",
              "std     0.7160138   167.6011014 200.0084407    172.4053696\n",
              "min     1.0000000     1.0000000   0.0000000      0.0000000\n",
              "25%     3.3000000     7.0000000  97.5125000      0.0000000\n",
              "50%     3.8000000    32.0000000 188.9750000      0.0000000\n",
              "75%     4.1000000   122.2500000 336.7250000      0.0000000\n",
              "max     5.0000000   983.0000000 999.9900000    999.9900000"
            ]
          },
          "metadata": {
            "tags": []
          },
          "execution_count": 33
        }
      ]
    },
    {
      "cell_type": "code",
      "metadata": {
        "colab": {
          "base_uri": "https://localhost:8080/",
          "height": 173
        },
        "id": "Z93A4PJXbQeE",
        "outputId": "47784d50-2c30-4fc2-b314-78c5c9f6db00"
      },
      "source": [
        "prod_dat.describe(include='O')"
      ],
      "execution_count": 34,
      "outputs": [
        {
          "output_type": "execute_result",
          "data": {
            "text/html": [
              "<div>\n",
              "<style scoped>\n",
              "    .dataframe tbody tr th:only-of-type {\n",
              "        vertical-align: middle;\n",
              "    }\n",
              "\n",
              "    .dataframe tbody tr th {\n",
              "        vertical-align: top;\n",
              "    }\n",
              "\n",
              "    .dataframe thead th {\n",
              "        text-align: right;\n",
              "    }\n",
              "</style>\n",
              "<table border=\"1\" class=\"dataframe\">\n",
              "  <thead>\n",
              "    <tr style=\"text-align: right;\">\n",
              "      <th></th>\n",
              "      <th>asin</th>\n",
              "      <th>brand</th>\n",
              "      <th>title</th>\n",
              "    </tr>\n",
              "  </thead>\n",
              "  <tbody>\n",
              "    <tr>\n",
              "      <th>count</th>\n",
              "      <td>720</td>\n",
              "      <td>716</td>\n",
              "      <td>720</td>\n",
              "    </tr>\n",
              "    <tr>\n",
              "      <th>unique</th>\n",
              "      <td>720</td>\n",
              "      <td>10</td>\n",
              "      <td>718</td>\n",
              "    </tr>\n",
              "    <tr>\n",
              "      <th>top</th>\n",
              "      <td>B07Z41LHPB</td>\n",
              "      <td>Samsung</td>\n",
              "      <td>Apple iPhone 6S, 64GB, Rose Gold - For AT&amp;T / ...</td>\n",
              "    </tr>\n",
              "    <tr>\n",
              "      <th>freq</th>\n",
              "      <td>1</td>\n",
              "      <td>346</td>\n",
              "      <td>2</td>\n",
              "    </tr>\n",
              "  </tbody>\n",
              "</table>\n",
              "</div>"
            ],
            "text/plain": [
              "              asin    brand                                              title\n",
              "count          720      716                                                720\n",
              "unique         720       10                                                718\n",
              "top     B07Z41LHPB  Samsung  Apple iPhone 6S, 64GB, Rose Gold - For AT&T / ...\n",
              "freq             1      346                                                  2"
            ]
          },
          "metadata": {
            "tags": []
          },
          "execution_count": 34
        }
      ]
    },
    {
      "cell_type": "code",
      "metadata": {
        "id": "WFaDkvIjyDtG",
        "colab": {
          "base_uri": "https://localhost:8080/",
          "height": 173
        },
        "outputId": "02ccc999-7b30-4ba1-9d57-3c59999e53d3"
      },
      "source": [
        "prod_dat.corr()"
      ],
      "execution_count": 35,
      "outputs": [
        {
          "output_type": "execute_result",
          "data": {
            "text/html": [
              "<div>\n",
              "<style scoped>\n",
              "    .dataframe tbody tr th:only-of-type {\n",
              "        vertical-align: middle;\n",
              "    }\n",
              "\n",
              "    .dataframe tbody tr th {\n",
              "        vertical-align: top;\n",
              "    }\n",
              "\n",
              "    .dataframe thead th {\n",
              "        text-align: right;\n",
              "    }\n",
              "</style>\n",
              "<table border=\"1\" class=\"dataframe\">\n",
              "  <thead>\n",
              "    <tr style=\"text-align: right;\">\n",
              "      <th></th>\n",
              "      <th>rating</th>\n",
              "      <th>totalReviews</th>\n",
              "      <th>price</th>\n",
              "      <th>originalPrice</th>\n",
              "    </tr>\n",
              "  </thead>\n",
              "  <tbody>\n",
              "    <tr>\n",
              "      <th>rating</th>\n",
              "      <td>1.0000000</td>\n",
              "      <td>0.0732954</td>\n",
              "      <td>0.1617453</td>\n",
              "      <td>0.1112378</td>\n",
              "    </tr>\n",
              "    <tr>\n",
              "      <th>totalReviews</th>\n",
              "      <td>0.0732954</td>\n",
              "      <td>1.0000000</td>\n",
              "      <td>-0.0167851</td>\n",
              "      <td>0.0921686</td>\n",
              "    </tr>\n",
              "    <tr>\n",
              "      <th>price</th>\n",
              "      <td>0.1617453</td>\n",
              "      <td>-0.0167851</td>\n",
              "      <td>1.0000000</td>\n",
              "      <td>0.2937674</td>\n",
              "    </tr>\n",
              "    <tr>\n",
              "      <th>originalPrice</th>\n",
              "      <td>0.1112378</td>\n",
              "      <td>0.0921686</td>\n",
              "      <td>0.2937674</td>\n",
              "      <td>1.0000000</td>\n",
              "    </tr>\n",
              "  </tbody>\n",
              "</table>\n",
              "</div>"
            ],
            "text/plain": [
              "                 rating  totalReviews      price  originalPrice\n",
              "rating        1.0000000     0.0732954  0.1617453      0.1112378\n",
              "totalReviews  0.0732954     1.0000000 -0.0167851      0.0921686\n",
              "price         0.1617453    -0.0167851  1.0000000      0.2937674\n",
              "originalPrice 0.1112378     0.0921686  0.2937674      1.0000000"
            ]
          },
          "metadata": {
            "tags": []
          },
          "execution_count": 35
        }
      ]
    },
    {
      "cell_type": "code",
      "metadata": {
        "colab": {
          "base_uri": "https://localhost:8080/",
          "height": 297
        },
        "id": "kEjJcI0YbAur",
        "outputId": "e1704683-e1c0-4102-8bdd-86c0d4569669"
      },
      "source": [
        "rev_dat.describe()"
      ],
      "execution_count": 36,
      "outputs": [
        {
          "output_type": "execute_result",
          "data": {
            "text/html": [
              "<div>\n",
              "<style scoped>\n",
              "    .dataframe tbody tr th:only-of-type {\n",
              "        vertical-align: middle;\n",
              "    }\n",
              "\n",
              "    .dataframe tbody tr th {\n",
              "        vertical-align: top;\n",
              "    }\n",
              "\n",
              "    .dataframe thead th {\n",
              "        text-align: right;\n",
              "    }\n",
              "</style>\n",
              "<table border=\"1\" class=\"dataframe\">\n",
              "  <thead>\n",
              "    <tr style=\"text-align: right;\">\n",
              "      <th></th>\n",
              "      <th>rating</th>\n",
              "      <th>helpfulVotes</th>\n",
              "    </tr>\n",
              "  </thead>\n",
              "  <tbody>\n",
              "    <tr>\n",
              "      <th>count</th>\n",
              "      <td>67986.0000000</td>\n",
              "      <td>27215.0000000</td>\n",
              "    </tr>\n",
              "    <tr>\n",
              "      <th>mean</th>\n",
              "      <td>3.8079163</td>\n",
              "      <td>8.2296895</td>\n",
              "    </tr>\n",
              "    <tr>\n",
              "      <th>std</th>\n",
              "      <td>1.5829058</td>\n",
              "      <td>31.9548772</td>\n",
              "    </tr>\n",
              "    <tr>\n",
              "      <th>min</th>\n",
              "      <td>1.0000000</td>\n",
              "      <td>1.0000000</td>\n",
              "    </tr>\n",
              "    <tr>\n",
              "      <th>25%</th>\n",
              "      <td>3.0000000</td>\n",
              "      <td>1.0000000</td>\n",
              "    </tr>\n",
              "    <tr>\n",
              "      <th>50%</th>\n",
              "      <td>5.0000000</td>\n",
              "      <td>2.0000000</td>\n",
              "    </tr>\n",
              "    <tr>\n",
              "      <th>75%</th>\n",
              "      <td>5.0000000</td>\n",
              "      <td>5.0000000</td>\n",
              "    </tr>\n",
              "    <tr>\n",
              "      <th>max</th>\n",
              "      <td>5.0000000</td>\n",
              "      <td>990.0000000</td>\n",
              "    </tr>\n",
              "  </tbody>\n",
              "</table>\n",
              "</div>"
            ],
            "text/plain": [
              "             rating  helpfulVotes\n",
              "count 67986.0000000 27215.0000000\n",
              "mean      3.8079163     8.2296895\n",
              "std       1.5829058    31.9548772\n",
              "min       1.0000000     1.0000000\n",
              "25%       3.0000000     1.0000000\n",
              "50%       5.0000000     2.0000000\n",
              "75%       5.0000000     5.0000000\n",
              "max       5.0000000   990.0000000"
            ]
          },
          "metadata": {
            "tags": []
          },
          "execution_count": 36
        }
      ]
    },
    {
      "cell_type": "code",
      "metadata": {
        "colab": {
          "base_uri": "https://localhost:8080/",
          "height": 142
        },
        "id": "87Li1lE5bFCQ",
        "outputId": "e76a1a97-ee2e-4a11-df7c-3d000fcd702a"
      },
      "source": [
        "rev_dat.corr()"
      ],
      "execution_count": 37,
      "outputs": [
        {
          "output_type": "execute_result",
          "data": {
            "text/html": [
              "<div>\n",
              "<style scoped>\n",
              "    .dataframe tbody tr th:only-of-type {\n",
              "        vertical-align: middle;\n",
              "    }\n",
              "\n",
              "    .dataframe tbody tr th {\n",
              "        vertical-align: top;\n",
              "    }\n",
              "\n",
              "    .dataframe thead th {\n",
              "        text-align: right;\n",
              "    }\n",
              "</style>\n",
              "<table border=\"1\" class=\"dataframe\">\n",
              "  <thead>\n",
              "    <tr style=\"text-align: right;\">\n",
              "      <th></th>\n",
              "      <th>rating</th>\n",
              "      <th>verified</th>\n",
              "      <th>helpfulVotes</th>\n",
              "    </tr>\n",
              "  </thead>\n",
              "  <tbody>\n",
              "    <tr>\n",
              "      <th>rating</th>\n",
              "      <td>1.0000000</td>\n",
              "      <td>0.1058014</td>\n",
              "      <td>-0.0381351</td>\n",
              "    </tr>\n",
              "    <tr>\n",
              "      <th>verified</th>\n",
              "      <td>0.1058014</td>\n",
              "      <td>1.0000000</td>\n",
              "      <td>-0.0270381</td>\n",
              "    </tr>\n",
              "    <tr>\n",
              "      <th>helpfulVotes</th>\n",
              "      <td>-0.0381351</td>\n",
              "      <td>-0.0270381</td>\n",
              "      <td>1.0000000</td>\n",
              "    </tr>\n",
              "  </tbody>\n",
              "</table>\n",
              "</div>"
            ],
            "text/plain": [
              "                 rating   verified  helpfulVotes\n",
              "rating        1.0000000  0.1058014    -0.0381351\n",
              "verified      0.1058014  1.0000000    -0.0270381\n",
              "helpfulVotes -0.0381351 -0.0270381     1.0000000"
            ]
          },
          "metadata": {
            "tags": []
          },
          "execution_count": 37
        }
      ]
    },
    {
      "cell_type": "code",
      "metadata": {
        "colab": {
          "base_uri": "https://localhost:8080/",
          "height": 173
        },
        "id": "GMsfWK7xbW-C",
        "outputId": "b0092673-050a-4f6f-e683-3570526837a0"
      },
      "source": [
        "prod_dat.describe(include=\"O\")"
      ],
      "execution_count": 38,
      "outputs": [
        {
          "output_type": "execute_result",
          "data": {
            "text/html": [
              "<div>\n",
              "<style scoped>\n",
              "    .dataframe tbody tr th:only-of-type {\n",
              "        vertical-align: middle;\n",
              "    }\n",
              "\n",
              "    .dataframe tbody tr th {\n",
              "        vertical-align: top;\n",
              "    }\n",
              "\n",
              "    .dataframe thead th {\n",
              "        text-align: right;\n",
              "    }\n",
              "</style>\n",
              "<table border=\"1\" class=\"dataframe\">\n",
              "  <thead>\n",
              "    <tr style=\"text-align: right;\">\n",
              "      <th></th>\n",
              "      <th>asin</th>\n",
              "      <th>brand</th>\n",
              "      <th>title</th>\n",
              "    </tr>\n",
              "  </thead>\n",
              "  <tbody>\n",
              "    <tr>\n",
              "      <th>count</th>\n",
              "      <td>720</td>\n",
              "      <td>716</td>\n",
              "      <td>720</td>\n",
              "    </tr>\n",
              "    <tr>\n",
              "      <th>unique</th>\n",
              "      <td>720</td>\n",
              "      <td>10</td>\n",
              "      <td>718</td>\n",
              "    </tr>\n",
              "    <tr>\n",
              "      <th>top</th>\n",
              "      <td>B07Z41LHPB</td>\n",
              "      <td>Samsung</td>\n",
              "      <td>Apple iPhone 6S, 64GB, Rose Gold - For AT&amp;T / ...</td>\n",
              "    </tr>\n",
              "    <tr>\n",
              "      <th>freq</th>\n",
              "      <td>1</td>\n",
              "      <td>346</td>\n",
              "      <td>2</td>\n",
              "    </tr>\n",
              "  </tbody>\n",
              "</table>\n",
              "</div>"
            ],
            "text/plain": [
              "              asin    brand                                              title\n",
              "count          720      716                                                720\n",
              "unique         720       10                                                718\n",
              "top     B07Z41LHPB  Samsung  Apple iPhone 6S, 64GB, Rose Gold - For AT&T / ...\n",
              "freq             1      346                                                  2"
            ]
          },
          "metadata": {
            "tags": []
          },
          "execution_count": 38
        }
      ]
    },
    {
      "cell_type": "code",
      "metadata": {
        "colab": {
          "base_uri": "https://localhost:8080/",
          "height": 80
        },
        "id": "e9ieVL9jbwli",
        "outputId": "cd71913a-014d-4b5e-91ae-f82ac51d479c"
      },
      "source": [
        "rev_dat[rev_dat['helpfulVotes']==990]"
      ],
      "execution_count": 39,
      "outputs": [
        {
          "output_type": "execute_result",
          "data": {
            "text/html": [
              "<div>\n",
              "<style scoped>\n",
              "    .dataframe tbody tr th:only-of-type {\n",
              "        vertical-align: middle;\n",
              "    }\n",
              "\n",
              "    .dataframe tbody tr th {\n",
              "        vertical-align: top;\n",
              "    }\n",
              "\n",
              "    .dataframe thead th {\n",
              "        text-align: right;\n",
              "    }\n",
              "</style>\n",
              "<table border=\"1\" class=\"dataframe\">\n",
              "  <thead>\n",
              "    <tr style=\"text-align: right;\">\n",
              "      <th></th>\n",
              "      <th>asin</th>\n",
              "      <th>name</th>\n",
              "      <th>rating</th>\n",
              "      <th>date</th>\n",
              "      <th>verified</th>\n",
              "      <th>title</th>\n",
              "      <th>body</th>\n",
              "      <th>helpfulVotes</th>\n",
              "    </tr>\n",
              "  </thead>\n",
              "  <tbody>\n",
              "    <tr>\n",
              "      <th>24467</th>\n",
              "      <td>B01GXAT0CE</td>\n",
              "      <td>Jake</td>\n",
              "      <td>1</td>\n",
              "      <td>May 1, 2017</td>\n",
              "      <td>True</td>\n",
              "      <td>It seems like it has been stolen</td>\n",
              "      <td>The product came in a beaten up box, came lock...</td>\n",
              "      <td>990.0000000</td>\n",
              "    </tr>\n",
              "  </tbody>\n",
              "</table>\n",
              "</div>"
            ],
            "text/plain": [
              "             asin  name  rating         date  verified  \\\n",
              "24467  B01GXAT0CE  Jake       1  May 1, 2017      True   \n",
              "\n",
              "                                  title  \\\n",
              "24467  It seems like it has been stolen   \n",
              "\n",
              "                                                    body  helpfulVotes  \n",
              "24467  The product came in a beaten up box, came lock...   990.0000000  "
            ]
          },
          "metadata": {
            "tags": []
          },
          "execution_count": 39
        }
      ]
    },
    {
      "cell_type": "markdown",
      "metadata": {
        "id": "cSdGfadUyEdU"
      },
      "source": [
        "### 4.3 From the above statistical summary, write inferences like count of unique products, top brand, top title, range of rating, price range, etc"
      ]
    },
    {
      "cell_type": "markdown",
      "metadata": {
        "id": "kqw21zcKcffU"
      },
      "source": [
        "- We parsed 720 products\n",
        "- Samsung is the top brand\n",
        "- there are no duplicate asin ids\n",
        "- mean rating is 3.8 / 5\n",
        "- mean price is 234.94"
      ]
    },
    {
      "cell_type": "markdown",
      "metadata": {
        "id": "XMv_hXyxJKZK"
      },
      "source": [
        "### 4.4 Analyze the distribution of ratings and other categorical features like brand, etc"
      ]
    },
    {
      "cell_type": "code",
      "metadata": {
        "id": "oEhjSsMcyirD",
        "colab": {
          "base_uri": "https://localhost:8080/",
          "height": 296
        },
        "outputId": "425b4ce9-3b67-433f-d033-1086cec71510"
      },
      "source": [
        "sns.distplot(prod_dat['rating'])"
      ],
      "execution_count": 40,
      "outputs": [
        {
          "output_type": "execute_result",
          "data": {
            "text/plain": [
              "<matplotlib.axes._subplots.AxesSubplot at 0x7f28be0e4210>"
            ]
          },
          "metadata": {
            "tags": []
          },
          "execution_count": 40
        },
        {
          "output_type": "display_data",
          "data": {
            "image/png": "[encoded data removed]",
            "text/plain": [
              "<Figure size 432x288 with 1 Axes>"
            ]
          },
          "metadata": {
            "tags": [],
            "needs_background": "light"
          }
        }
      ]
    },
    {
      "cell_type": "code",
      "metadata": {
        "colab": {
          "base_uri": "https://localhost:8080/",
          "height": 319
        },
        "id": "egP25Hbdw5O9",
        "outputId": "38546cd9-5ae7-47ae-eb5d-52ab4fc02d0d"
      },
      "source": [
        "prod_dat['brand'].value_counts().plot(kind='bar')"
      ],
      "execution_count": 41,
      "outputs": [
        {
          "output_type": "execute_result",
          "data": {
            "text/plain": [
              "<matplotlib.axes._subplots.AxesSubplot at 0x7f28c270b410>"
            ]
          },
          "metadata": {
            "tags": []
          },
          "execution_count": 41
        },
        {
          "output_type": "display_data",
          "data": {
            "image/png": "[encoded data removed]",
            "text/plain": [
              "<Figure size 432x288 with 1 Axes>"
            ]
          },
          "metadata": {
            "tags": [],
            "needs_background": "light"
          }
        }
      ]
    },
    {
      "cell_type": "code",
      "metadata": {
        "colab": {
          "base_uri": "https://localhost:8080/",
          "height": 1000
        },
        "id": "-EVRRVKgzhsf",
        "outputId": "a37c4bbe-d8e1-4e6f-8617-693f02446003"
      },
      "source": [
        "prod_dat['brand'].value_counts().plot(kind='pie', autopct='%1.0f%%', figsize=(20,20))"
      ],
      "execution_count": 46,
      "outputs": [
        {
          "output_type": "execute_result",
          "data": {
            "text/plain": [
              "<matplotlib.axes._subplots.AxesSubplot at 0x7f28c27cc0d0>"
            ]
          },
          "metadata": {
            "tags": []
          },
          "execution_count": 46
        },
        {
          "output_type": "display_data",
          "data": {
            "image/png": "[encoded data removed]",
            "text/plain": [
              "<Figure size 1440x1440 with 1 Axes>"
            ]
          },
          "metadata": {
            "tags": []
          }
        }
      ]
    },
    {
      "cell_type": "markdown",
      "metadata": {
        "id": "jwZBGODgyi1a"
      },
      "source": [
        "### 4.5 Display average rating per brand"
      ]
    },
    {
      "cell_type": "code",
      "metadata": {
        "id": "OSBBiAv8yscd",
        "colab": {
          "base_uri": "https://localhost:8080/",
          "height": 333
        },
        "outputId": "8c7a54f7-30cf-4503-82e2-2f2b6b3aee62"
      },
      "source": [
        "prod_dat.groupby('brand')['rating'].mean().sort_values().plot(kind='bar')"
      ],
      "execution_count": 47,
      "outputs": [
        {
          "output_type": "execute_result",
          "data": {
            "text/plain": [
              "<matplotlib.axes._subplots.AxesSubplot at 0x7f28c2989310>"
            ]
          },
          "metadata": {
            "tags": []
          },
          "execution_count": 47
        },
        {
          "output_type": "display_data",
          "data": {
            "image/png": "[encoded data removed]",
            "text/plain": [
              "<Figure size 432x288 with 1 Axes>"
            ]
          },
          "metadata": {
            "tags": [],
            "needs_background": "light"
          }
        }
      ]
    },
    {
      "cell_type": "markdown",
      "metadata": {
        "id": "vUXuEwlgyvB0"
      },
      "source": [
        "### 4.6 Display average price per brand"
      ]
    },
    {
      "cell_type": "code",
      "metadata": {
        "colab": {
          "base_uri": "https://localhost:8080/",
          "height": 333
        },
        "id": "en0pIwfH2fyj",
        "outputId": "53a87e97-2442-466f-91f6-713dbc528c96"
      },
      "source": [
        "prod_dat.groupby('brand')['price'].mean().sort_values().plot(kind='bar')"
      ],
      "execution_count": 50,
      "outputs": [
        {
          "output_type": "execute_result",
          "data": {
            "text/plain": [
              "<matplotlib.axes._subplots.AxesSubplot at 0x7f28b7fe0d50>"
            ]
          },
          "metadata": {
            "tags": []
          },
          "execution_count": 50
        },
        {
          "output_type": "display_data",
          "data": {
            "image/png": "[encoded data removed]",
            "text/plain": [
              "<Figure size 432x288 with 1 Axes>"
            ]
          },
          "metadata": {
            "tags": [],
            "needs_background": "light"
          }
        }
      ]
    },
    {
      "cell_type": "markdown",
      "metadata": {
        "id": "U0JfwL74y3a-"
      },
      "source": [
        "### 4.7 Display average 'totalReviews' per brand"
      ]
    },
    {
      "cell_type": "code",
      "metadata": {
        "id": "wfzciNxqzBYu",
        "colab": {
          "base_uri": "https://localhost:8080/",
          "height": 333
        },
        "outputId": "d85470b4-2663-437f-8b29-2e6ea2c39095"
      },
      "source": [
        "prod_dat.groupby('brand')['totalReviews'].mean().sort_values().plot(kind='bar')"
      ],
      "execution_count": 51,
      "outputs": [
        {
          "output_type": "execute_result",
          "data": {
            "text/plain": [
              "<matplotlib.axes._subplots.AxesSubplot at 0x7f28b7f1f650>"
            ]
          },
          "metadata": {
            "tags": []
          },
          "execution_count": 51
        },
        {
          "output_type": "display_data",
          "data": {
            "image/png": "[encoded data removed]",
            "text/plain": [
              "<Figure size 432x288 with 1 Axes>"
            ]
          },
          "metadata": {
            "tags": [],
            "needs_background": "light"
          }
        }
      ]
    },
    {
      "cell_type": "markdown",
      "metadata": {
        "id": "x_fxI7OAeDUM"
      },
      "source": [
        "### 4.8 Merge two datasets using 'asin' and check the shape of the final dataset"
      ]
    },
    {
      "cell_type": "code",
      "metadata": {
        "id": "ACgIwVlyy3Pu"
      },
      "source": [
        "df = pd.merge(rev_dat, prod_dat, how='left', left_on='asin', right_on='asin')"
      ],
      "execution_count": 48,
      "outputs": []
    },
    {
      "cell_type": "code",
      "metadata": {
        "colab": {
          "base_uri": "https://localhost:8080/",
          "height": 148
        },
        "id": "60yei3QL1OHt",
        "outputId": "4d8bd5fa-457d-4b5e-8014-b605d4b9861a"
      },
      "source": [
        "df.sample()"
      ],
      "execution_count": 53,
      "outputs": [
        {
          "output_type": "execute_result",
          "data": {
            "text/html": [
              "<div>\n",
              "<style scoped>\n",
              "    .dataframe tbody tr th:only-of-type {\n",
              "        vertical-align: middle;\n",
              "    }\n",
              "\n",
              "    .dataframe tbody tr th {\n",
              "        vertical-align: top;\n",
              "    }\n",
              "\n",
              "    .dataframe thead th {\n",
              "        text-align: right;\n",
              "    }\n",
              "</style>\n",
              "<table border=\"1\" class=\"dataframe\">\n",
              "  <thead>\n",
              "    <tr style=\"text-align: right;\">\n",
              "      <th></th>\n",
              "      <th>asin</th>\n",
              "      <th>name</th>\n",
              "      <th>rating_x</th>\n",
              "      <th>date</th>\n",
              "      <th>verified</th>\n",
              "      <th>title_x</th>\n",
              "      <th>body</th>\n",
              "      <th>helpfulVotes</th>\n",
              "      <th>brand</th>\n",
              "      <th>title_y</th>\n",
              "      <th>rating_y</th>\n",
              "      <th>totalReviews</th>\n",
              "      <th>price</th>\n",
              "      <th>originalPrice</th>\n",
              "    </tr>\n",
              "  </thead>\n",
              "  <tbody>\n",
              "    <tr>\n",
              "      <th>61687</th>\n",
              "      <td>B07QCCW5KB</td>\n",
              "      <td>Cj</td>\n",
              "      <td>5</td>\n",
              "      <td>September 24, 2019</td>\n",
              "      <td>True</td>\n",
              "      <td>It doesn't include the sim.</td>\n",
              "      <td>Gave this phone as a birthday gift to my paren...</td>\n",
              "      <td>1.0000000</td>\n",
              "      <td>Xiaomi</td>\n",
              "      <td>Xiaomi Redmi 7 32Gb+3GB RAM 6.26\" HD+ LTE Fact...</td>\n",
              "      <td>4.4000000</td>\n",
              "      <td>146</td>\n",
              "      <td>149.0000000</td>\n",
              "      <td>0.0000000</td>\n",
              "    </tr>\n",
              "  </tbody>\n",
              "</table>\n",
              "</div>"
            ],
            "text/plain": [
              "             asin name  rating_x                date  verified  \\\n",
              "61687  B07QCCW5KB   Cj         5  September 24, 2019      True   \n",
              "\n",
              "                           title_x  \\\n",
              "61687  It doesn't include the sim.   \n",
              "\n",
              "                                                    body  helpfulVotes  \\\n",
              "61687  Gave this phone as a birthday gift to my paren...     1.0000000   \n",
              "\n",
              "        brand                                            title_y  rating_y  \\\n",
              "61687  Xiaomi  Xiaomi Redmi 7 32Gb+3GB RAM 6.26\" HD+ LTE Fact... 4.4000000   \n",
              "\n",
              "       totalReviews       price  originalPrice  \n",
              "61687           146 149.0000000      0.0000000  "
            ]
          },
          "metadata": {
            "tags": []
          },
          "execution_count": 53
        }
      ]
    },
    {
      "cell_type": "markdown",
      "metadata": {
        "id": "zdTfwlL7fYpq"
      },
      "source": [
        "### 4.9 Rename important features with appropriate names.\n",
        "Imortant features - \"rating_x\": \"user_rating\", \"title_x\": \"review_title\", \"title_y\": \"item_title\", \"rating_y\": \"overall_rating\""
      ]
    },
    {
      "cell_type": "code",
      "metadata": {
        "id": "KI-6FCkZztXM"
      },
      "source": [
        "df.rename(columns={\"rating_x\": \"userRating\", \"title_x\": \"reviewTitle\", \"title_y\": \"itemTitle\", \"rating_y\": \"overallRating\"}, inplace=True)"
      ],
      "execution_count": 55,
      "outputs": []
    },
    {
      "cell_type": "code",
      "metadata": {
        "colab": {
          "base_uri": "https://localhost:8080/",
          "height": 165
        },
        "id": "pRPndNUT3M5o",
        "outputId": "fc21ef92-ec8a-44f9-9037-c50a92bb1469"
      },
      "source": [
        "df.sample()"
      ],
      "execution_count": 56,
      "outputs": [
        {
          "output_type": "execute_result",
          "data": {
            "text/html": [
              "<div>\n",
              "<style scoped>\n",
              "    .dataframe tbody tr th:only-of-type {\n",
              "        vertical-align: middle;\n",
              "    }\n",
              "\n",
              "    .dataframe tbody tr th {\n",
              "        vertical-align: top;\n",
              "    }\n",
              "\n",
              "    .dataframe thead th {\n",
              "        text-align: right;\n",
              "    }\n",
              "</style>\n",
              "<table border=\"1\" class=\"dataframe\">\n",
              "  <thead>\n",
              "    <tr style=\"text-align: right;\">\n",
              "      <th></th>\n",
              "      <th>asin</th>\n",
              "      <th>name</th>\n",
              "      <th>userRating</th>\n",
              "      <th>date</th>\n",
              "      <th>verified</th>\n",
              "      <th>reviewTitle</th>\n",
              "      <th>body</th>\n",
              "      <th>helpfulVotes</th>\n",
              "      <th>brand</th>\n",
              "      <th>itemTitle</th>\n",
              "      <th>overallRating</th>\n",
              "      <th>totalReviews</th>\n",
              "      <th>price</th>\n",
              "      <th>originalPrice</th>\n",
              "    </tr>\n",
              "  </thead>\n",
              "  <tbody>\n",
              "    <tr>\n",
              "      <th>31368</th>\n",
              "      <td>B06XRG6S73</td>\n",
              "      <td>Paul Paul</td>\n",
              "      <td>5</td>\n",
              "      <td>May 7, 2019</td>\n",
              "      <td>True</td>\n",
              "      <td>Great quality</td>\n",
              "      <td>Works great! My mom loves it</td>\n",
              "      <td>nan</td>\n",
              "      <td>Apple</td>\n",
              "      <td>Apple iPhone 6S, 16GB, Rose Gold - For AT&amp;T / ...</td>\n",
              "      <td>3.7000000</td>\n",
              "      <td>379</td>\n",
              "      <td>143.5700000</td>\n",
              "      <td>0.0000000</td>\n",
              "    </tr>\n",
              "  </tbody>\n",
              "</table>\n",
              "</div>"
            ],
            "text/plain": [
              "             asin       name  userRating         date  verified  \\\n",
              "31368  B06XRG6S73  Paul Paul           5  May 7, 2019      True   \n",
              "\n",
              "         reviewTitle                          body  helpfulVotes  brand  \\\n",
              "31368  Great quality  Works great! My mom loves it           nan  Apple   \n",
              "\n",
              "                                               itemTitle  overallRating  \\\n",
              "31368  Apple iPhone 6S, 16GB, Rose Gold - For AT&T / ...      3.7000000   \n",
              "\n",
              "       totalReviews       price  originalPrice  \n",
              "31368           379 143.5700000      0.0000000  "
            ]
          },
          "metadata": {
            "tags": []
          },
          "execution_count": 56
        }
      ]
    },
    {
      "cell_type": "markdown",
      "metadata": {
        "id": "hNHEElHszthc"
      },
      "source": [
        "### 4.10 Select rows having verified reviews and check the shape of the final dataset"
      ]
    },
    {
      "cell_type": "code",
      "metadata": {
        "id": "Jyav9_Zoz-rT",
        "colab": {
          "base_uri": "https://localhost:8080/"
        },
        "outputId": "60f96ede-19a6-4170-acaf-5c4bfe926ad0"
      },
      "source": [
        "df['verified'].value_counts()"
      ],
      "execution_count": 57,
      "outputs": [
        {
          "output_type": "execute_result",
          "data": {
            "text/plain": [
              "True     61225\n",
              "False     6761\n",
              "Name: verified, dtype: int64"
            ]
          },
          "metadata": {
            "tags": []
          },
          "execution_count": 57
        }
      ]
    },
    {
      "cell_type": "code",
      "metadata": {
        "id": "5tux6vwr0JDb",
        "colab": {
          "base_uri": "https://localhost:8080/",
          "height": 185
        },
        "outputId": "43e67030-ee6b-4de4-8bbe-6a275c20a398"
      },
      "source": [
        "dff = df[df.verified == True]\n",
        "dff.sample()"
      ],
      "execution_count": 58,
      "outputs": [
        {
          "output_type": "execute_result",
          "data": {
            "text/html": [
              "<div>\n",
              "<style scoped>\n",
              "    .dataframe tbody tr th:only-of-type {\n",
              "        vertical-align: middle;\n",
              "    }\n",
              "\n",
              "    .dataframe tbody tr th {\n",
              "        vertical-align: top;\n",
              "    }\n",
              "\n",
              "    .dataframe thead th {\n",
              "        text-align: right;\n",
              "    }\n",
              "</style>\n",
              "<table border=\"1\" class=\"dataframe\">\n",
              "  <thead>\n",
              "    <tr style=\"text-align: right;\">\n",
              "      <th></th>\n",
              "      <th>asin</th>\n",
              "      <th>name</th>\n",
              "      <th>userRating</th>\n",
              "      <th>date</th>\n",
              "      <th>verified</th>\n",
              "      <th>reviewTitle</th>\n",
              "      <th>body</th>\n",
              "      <th>helpfulVotes</th>\n",
              "      <th>brand</th>\n",
              "      <th>itemTitle</th>\n",
              "      <th>overallRating</th>\n",
              "      <th>totalReviews</th>\n",
              "      <th>price</th>\n",
              "      <th>originalPrice</th>\n",
              "    </tr>\n",
              "  </thead>\n",
              "  <tbody>\n",
              "    <tr>\n",
              "      <th>61976</th>\n",
              "      <td>B07QK32C8M</td>\n",
              "      <td>KAREN MA</td>\n",
              "      <td>5</td>\n",
              "      <td>November 27, 2019</td>\n",
              "      <td>True</td>\n",
              "      <td>Buen teléfono</td>\n",
              "      <td>Tal como esperaba. Estoy satisfecho con mi com...</td>\n",
              "      <td>nan</td>\n",
              "      <td>Xiaomi</td>\n",
              "      <td>Xiaomi Redmi Note 7 128GB + 4GB RAM 6.3\" FHD+ ...</td>\n",
              "      <td>4.1000000</td>\n",
              "      <td>229</td>\n",
              "      <td>176.9400000</td>\n",
              "      <td>0.0000000</td>\n",
              "    </tr>\n",
              "  </tbody>\n",
              "</table>\n",
              "</div>"
            ],
            "text/plain": [
              "             asin      name  userRating               date  verified  \\\n",
              "61976  B07QK32C8M  KAREN MA           5  November 27, 2019      True   \n",
              "\n",
              "         reviewTitle                                               body  \\\n",
              "61976  Buen teléfono  Tal como esperaba. Estoy satisfecho con mi com...   \n",
              "\n",
              "       helpfulVotes   brand  \\\n",
              "61976           nan  Xiaomi   \n",
              "\n",
              "                                               itemTitle  overallRating  \\\n",
              "61976  Xiaomi Redmi Note 7 128GB + 4GB RAM 6.3\" FHD+ ...      4.1000000   \n",
              "\n",
              "       totalReviews       price  originalPrice  \n",
              "61976           229 176.9400000      0.0000000  "
            ]
          },
          "metadata": {
            "tags": []
          },
          "execution_count": 58
        }
      ]
    },
    {
      "cell_type": "markdown",
      "metadata": {
        "id": "EpKusPjdz-2q"
      },
      "source": [
        "### 4.11 Check the number of reviews for various brands and report the brand that have highest number of reviews"
      ]
    },
    {
      "cell_type": "code",
      "metadata": {
        "colab": {
          "base_uri": "https://localhost:8080/",
          "height": 344
        },
        "id": "QHYYqU-oBWAq",
        "outputId": "159492d5-b341-474a-a7f9-0f41a38256e7"
      },
      "source": [
        "dff.groupby(by='brand')['totalReviews'].sum().sort_values().plot(kind='bar')"
      ],
      "execution_count": 64,
      "outputs": [
        {
          "output_type": "execute_result",
          "data": {
            "text/plain": [
              "<matplotlib.axes._subplots.AxesSubplot at 0x7f28b42669d0>"
            ]
          },
          "metadata": {
            "tags": []
          },
          "execution_count": 64
        },
        {
          "output_type": "display_data",
          "data": {
            "image/png": "[encoded data removed]",
            "text/plain": [
              "<Figure size 432x288 with 1 Axes>"
            ]
          },
          "metadata": {
            "tags": [],
            "needs_background": "light"
          }
        }
      ]
    },
    {
      "cell_type": "code",
      "metadata": {
        "colab": {
          "base_uri": "https://localhost:8080/",
          "height": 335
        },
        "id": "Qrqg5MynDAov",
        "outputId": "0056b5a6-91a1-4425-edcf-1619e012c613"
      },
      "source": [
        "dff.groupby(by='brand')['totalReviews'].mean().sort_values().plot(kind='bar')"
      ],
      "execution_count": 66,
      "outputs": [
        {
          "output_type": "execute_result",
          "data": {
            "text/plain": [
              "<matplotlib.axes._subplots.AxesSubplot at 0x7f28af1523d0>"
            ]
          },
          "metadata": {
            "tags": []
          },
          "execution_count": 66
        },
        {
          "output_type": "display_data",
          "data": {
            "image/png": "[encoded data removed]",
            "text/plain": [
              "<Figure size 432x288 with 1 Axes>"
            ]
          },
          "metadata": {
            "tags": [],
            "needs_background": "light"
          }
        }
      ]
    },
    {
      "cell_type": "code",
      "metadata": {
        "colab": {
          "base_uri": "https://localhost:8080/",
          "height": 319
        },
        "id": "SHwhBOwqCwmo",
        "outputId": "7956dab7-5330-46a1-e7e4-9ebb1e1aa2e0"
      },
      "source": [
        "dff['brand'].value_counts().sort_values().plot(kind='bar')"
      ],
      "execution_count": 65,
      "outputs": [
        {
          "output_type": "execute_result",
          "data": {
            "text/plain": [
              "<matplotlib.axes._subplots.AxesSubplot at 0x7f28b1dc7810>"
            ]
          },
          "metadata": {
            "tags": []
          },
          "execution_count": 65
        },
        {
          "output_type": "display_data",
          "data": {
            "image/png": "[encoded data removed]",
            "text/plain": [
              "<Figure size 432x288 with 1 Axes>"
            ]
          },
          "metadata": {
            "tags": [],
            "needs_background": "light"
          }
        }
      ]
    },
    {
      "cell_type": "markdown",
      "metadata": {
        "id": "gPGjMFE-0Q5k"
      },
      "source": [
        "### 4.12 Drop irrelevant columns and keep important features like 'brand','body','price','user_rating','review_title' for further analysis"
      ]
    },
    {
      "cell_type": "code",
      "metadata": {
        "id": "J_IvLN6e0e6z"
      },
      "source": [
        "df_final = dff[['brand','body','price','userRating','reviewTitle']]"
      ],
      "execution_count": 68,
      "outputs": []
    },
    {
      "cell_type": "code",
      "metadata": {
        "colab": {
          "base_uri": "https://localhost:8080/",
          "height": 80
        },
        "id": "3nv2dk9oDmtU",
        "outputId": "a8a676ed-a8af-44e5-b8ca-5c592f9bb75b"
      },
      "source": [
        "df_final.sample()"
      ],
      "execution_count": 69,
      "outputs": [
        {
          "output_type": "execute_result",
          "data": {
            "text/html": [
              "<div>\n",
              "<style scoped>\n",
              "    .dataframe tbody tr th:only-of-type {\n",
              "        vertical-align: middle;\n",
              "    }\n",
              "\n",
              "    .dataframe tbody tr th {\n",
              "        vertical-align: top;\n",
              "    }\n",
              "\n",
              "    .dataframe thead th {\n",
              "        text-align: right;\n",
              "    }\n",
              "</style>\n",
              "<table border=\"1\" class=\"dataframe\">\n",
              "  <thead>\n",
              "    <tr style=\"text-align: right;\">\n",
              "      <th></th>\n",
              "      <th>brand</th>\n",
              "      <th>body</th>\n",
              "      <th>price</th>\n",
              "      <th>userRating</th>\n",
              "      <th>reviewTitle</th>\n",
              "    </tr>\n",
              "  </thead>\n",
              "  <tbody>\n",
              "    <tr>\n",
              "      <th>49751</th>\n",
              "      <td>Samsung</td>\n",
              "      <td>I bought this phone all the way back in August...</td>\n",
              "      <td>781.0500000</td>\n",
              "      <td>5</td>\n",
              "      <td>More phone that even I can use.</td>\n",
              "    </tr>\n",
              "  </tbody>\n",
              "</table>\n",
              "</div>"
            ],
            "text/plain": [
              "         brand                                               body       price  \\\n",
              "49751  Samsung  I bought this phone all the way back in August... 781.0500000   \n",
              "\n",
              "       userRating                      reviewTitle  \n",
              "49751           5  More phone that even I can use.  "
            ]
          },
          "metadata": {
            "tags": []
          },
          "execution_count": 69
        }
      ]
    },
    {
      "cell_type": "markdown",
      "metadata": {
        "id": "Gzo_rVT60fDf"
      },
      "source": [
        "### 4.13 Perform univariate analysis. Check distribution of price, user_rating"
      ]
    },
    {
      "cell_type": "code",
      "metadata": {
        "id": "F3vzILxZ0t0L",
        "colab": {
          "base_uri": "https://localhost:8080/",
          "height": 386
        },
        "outputId": "9b6b141a-0602-45d5-8523-f75f157ea28b"
      },
      "source": [
        "sns.displot(df_final['price'], kind='kde')"
      ],
      "execution_count": 71,
      "outputs": [
        {
          "output_type": "execute_result",
          "data": {
            "text/plain": [
              "<seaborn.axisgrid.FacetGrid at 0x7f28b7a5cfd0>"
            ]
          },
          "metadata": {
            "tags": []
          },
          "execution_count": 71
        },
        {
          "output_type": "display_data",
          "data": {
            "image/png": "[encoded data removed]",
            "text/plain": [
              "<Figure size 360x360 with 1 Axes>"
            ]
          },
          "metadata": {
            "tags": [],
            "needs_background": "light"
          }
        }
      ]
    },
    {
      "cell_type": "code",
      "metadata": {
        "colab": {
          "base_uri": "https://localhost:8080/",
          "height": 296
        },
        "id": "p8aoUblHD89O",
        "outputId": "5b9cce0f-198e-4635-d40b-f258249b69d1"
      },
      "source": [
        "sns.countplot(df_final['userRating'])"
      ],
      "execution_count": 72,
      "outputs": [
        {
          "output_type": "execute_result",
          "data": {
            "text/plain": [
              "<matplotlib.axes._subplots.AxesSubplot at 0x7f28ae310e10>"
            ]
          },
          "metadata": {
            "tags": []
          },
          "execution_count": 72
        },
        {
          "output_type": "display_data",
          "data": {
            "image/png": "[encoded data removed]",
            "text/plain": [
              "<Figure size 432x288 with 1 Axes>"
            ]
          },
          "metadata": {
            "tags": [],
            "needs_background": "light"
          }
        }
      ]
    },
    {
      "cell_type": "markdown",
      "metadata": {
        "id": "x0Y_kE9T0uAf"
      },
      "source": [
        "### 4.14 Create a new column called \"sentiment\". It should have value as 1 (positive) if the user_Rating is greater than 3, value as 0 (negative) if the user_Rating <= 3"
      ]
    },
    {
      "cell_type": "code",
      "metadata": {
        "id": "jGon-2xU1Ujb"
      },
      "source": [
        "df_final['sentiment'] = df_final['userRating'].apply(lambda x: 1 if x>3 else 0)"
      ],
      "execution_count": 73,
      "outputs": []
    },
    {
      "cell_type": "code",
      "metadata": {
        "colab": {
          "base_uri": "https://localhost:8080/",
          "height": 142
        },
        "id": "JcZTE6ZBEa82",
        "outputId": "b4d89358-0ee9-413e-948f-22992364f6cd"
      },
      "source": [
        "df_final.sample(3)"
      ],
      "execution_count": 75,
      "outputs": [
        {
          "output_type": "execute_result",
          "data": {
            "text/html": [
              "<div>\n",
              "<style scoped>\n",
              "    .dataframe tbody tr th:only-of-type {\n",
              "        vertical-align: middle;\n",
              "    }\n",
              "\n",
              "    .dataframe tbody tr th {\n",
              "        vertical-align: top;\n",
              "    }\n",
              "\n",
              "    .dataframe thead th {\n",
              "        text-align: right;\n",
              "    }\n",
              "</style>\n",
              "<table border=\"1\" class=\"dataframe\">\n",
              "  <thead>\n",
              "    <tr style=\"text-align: right;\">\n",
              "      <th></th>\n",
              "      <th>brand</th>\n",
              "      <th>body</th>\n",
              "      <th>price</th>\n",
              "      <th>userRating</th>\n",
              "      <th>reviewTitle</th>\n",
              "      <th>sentiment</th>\n",
              "    </tr>\n",
              "  </thead>\n",
              "  <tbody>\n",
              "    <tr>\n",
              "      <th>28573</th>\n",
              "      <td>Samsung</td>\n",
              "      <td>My video call HD doesn't work on this phone</td>\n",
              "      <td>148.9600000</td>\n",
              "      <td>1</td>\n",
              "      <td>Video call HD doesn't work</td>\n",
              "      <td>0</td>\n",
              "    </tr>\n",
              "    <tr>\n",
              "      <th>65445</th>\n",
              "      <td>Samsung</td>\n",
              "      <td>very good phone</td>\n",
              "      <td>249.9900000</td>\n",
              "      <td>5</td>\n",
              "      <td>Very good</td>\n",
              "      <td>1</td>\n",
              "    </tr>\n",
              "    <tr>\n",
              "      <th>48127</th>\n",
              "      <td>HUAWEI</td>\n",
              "      <td>Love this phone</td>\n",
              "      <td>229.9900000</td>\n",
              "      <td>5</td>\n",
              "      <td>Very slim and look gorgeous</td>\n",
              "      <td>1</td>\n",
              "    </tr>\n",
              "  </tbody>\n",
              "</table>\n",
              "</div>"
            ],
            "text/plain": [
              "         brand                                         body       price  \\\n",
              "28573  Samsung  My video call HD doesn't work on this phone 148.9600000   \n",
              "65445  Samsung                              very good phone 249.9900000   \n",
              "48127   HUAWEI                              Love this phone 229.9900000   \n",
              "\n",
              "       userRating                  reviewTitle  sentiment  \n",
              "28573           1   Video call HD doesn't work          0  \n",
              "65445           5                    Very good          1  \n",
              "48127           5  Very slim and look gorgeous          1  "
            ]
          },
          "metadata": {
            "tags": []
          },
          "execution_count": 75
        }
      ]
    },
    {
      "cell_type": "markdown",
      "metadata": {
        "id": "K4rxSZWp1VAb"
      },
      "source": [
        "### 4.15 Check frequency distribution of the 'sentiment'"
      ]
    },
    {
      "cell_type": "code",
      "metadata": {
        "id": "yt3gH7Iz1dVP",
        "colab": {
          "base_uri": "https://localhost:8080/"
        },
        "outputId": "c5ca5e2e-5274-4c39-9e98-df6909e8aec9"
      },
      "source": [
        "df_final['sentiment'].value_counts()"
      ],
      "execution_count": 76,
      "outputs": [
        {
          "output_type": "execute_result",
          "data": {
            "text/plain": [
              "1    42939\n",
              "0    18286\n",
              "Name: sentiment, dtype: int64"
            ]
          },
          "metadata": {
            "tags": []
          },
          "execution_count": 76
        }
      ]
    },
    {
      "cell_type": "code",
      "metadata": {
        "colab": {
          "base_uri": "https://localhost:8080/",
          "height": 279
        },
        "id": "CXe6j8nhEm5z",
        "outputId": "edd80522-eff7-47d9-db37-adb24fb404f0"
      },
      "source": [
        "df_final['sentiment'].value_counts().plot(kind='bar')"
      ],
      "execution_count": 77,
      "outputs": [
        {
          "output_type": "execute_result",
          "data": {
            "text/plain": [
              "<matplotlib.axes._subplots.AxesSubplot at 0x7f28adb30390>"
            ]
          },
          "metadata": {
            "tags": []
          },
          "execution_count": 77
        },
        {
          "output_type": "display_data",
          "data": {
            "image/png": "[encoded data removed]",
            "text/plain": [
              "<Figure size 432x288 with 1 Axes>"
            ]
          },
          "metadata": {
            "tags": [],
            "needs_background": "light"
          }
        }
      ]
    },
    {
      "cell_type": "markdown",
      "metadata": {
        "id": "rK0KMghP1ddb"
      },
      "source": [
        "### 4.16 Perform bivariate analysis. Check correlation/crosstab between features and write your inferences."
      ]
    },
    {
      "cell_type": "code",
      "metadata": {
        "id": "scAV4fRg1nX0",
        "colab": {
          "base_uri": "https://localhost:8080/",
          "height": 296
        },
        "outputId": "964e8994-7391-4692-d5ca-9122c98a0656"
      },
      "source": [
        "sns.boxplot(df_final['sentiment'], df_final['price'])"
      ],
      "execution_count": 79,
      "outputs": [
        {
          "output_type": "execute_result",
          "data": {
            "text/plain": [
              "<matplotlib.axes._subplots.AxesSubplot at 0x7f28b093dd90>"
            ]
          },
          "metadata": {
            "tags": []
          },
          "execution_count": 79
        },
        {
          "output_type": "display_data",
          "data": {
            "image/png": "[encoded data removed]",
            "text/plain": [
              "<Figure size 432x288 with 1 Axes>"
            ]
          },
          "metadata": {
            "tags": [],
            "needs_background": "light"
          }
        }
      ]
    },
    {
      "cell_type": "code",
      "metadata": {
        "colab": {
          "base_uri": "https://localhost:8080/",
          "height": 142
        },
        "id": "sIDBAC28FJIq",
        "outputId": "5fb1d49c-dc93-49b4-a7b3-6ae450f54c57"
      },
      "source": [
        "pd.crosstab(df_final['sentiment'], df_final['brand'])"
      ],
      "execution_count": 81,
      "outputs": [
        {
          "output_type": "execute_result",
          "data": {
            "text/html": [
              "<div>\n",
              "<style scoped>\n",
              "    .dataframe tbody tr th:only-of-type {\n",
              "        vertical-align: middle;\n",
              "    }\n",
              "\n",
              "    .dataframe tbody tr th {\n",
              "        vertical-align: top;\n",
              "    }\n",
              "\n",
              "    .dataframe thead th {\n",
              "        text-align: right;\n",
              "    }\n",
              "</style>\n",
              "<table border=\"1\" class=\"dataframe\">\n",
              "  <thead>\n",
              "    <tr style=\"text-align: right;\">\n",
              "      <th>brand</th>\n",
              "      <th>ASUS</th>\n",
              "      <th>Apple</th>\n",
              "      <th>Google</th>\n",
              "      <th>HUAWEI</th>\n",
              "      <th>Motorola</th>\n",
              "      <th>Nokia</th>\n",
              "      <th>OnePlus</th>\n",
              "      <th>Samsung</th>\n",
              "      <th>Sony</th>\n",
              "      <th>Xiaomi</th>\n",
              "    </tr>\n",
              "    <tr>\n",
              "      <th>sentiment</th>\n",
              "      <th></th>\n",
              "      <th></th>\n",
              "      <th></th>\n",
              "      <th></th>\n",
              "      <th></th>\n",
              "      <th></th>\n",
              "      <th></th>\n",
              "      <th></th>\n",
              "      <th></th>\n",
              "      <th></th>\n",
              "    </tr>\n",
              "  </thead>\n",
              "  <tbody>\n",
              "    <tr>\n",
              "      <th>0</th>\n",
              "      <td>69</td>\n",
              "      <td>1627</td>\n",
              "      <td>1011</td>\n",
              "      <td>366</td>\n",
              "      <td>2220</td>\n",
              "      <td>1904</td>\n",
              "      <td>45</td>\n",
              "      <td>9499</td>\n",
              "      <td>879</td>\n",
              "      <td>628</td>\n",
              "    </tr>\n",
              "    <tr>\n",
              "      <th>1</th>\n",
              "      <td>137</td>\n",
              "      <td>3249</td>\n",
              "      <td>2152</td>\n",
              "      <td>1653</td>\n",
              "      <td>5494</td>\n",
              "      <td>2974</td>\n",
              "      <td>259</td>\n",
              "      <td>21521</td>\n",
              "      <td>1812</td>\n",
              "      <td>3579</td>\n",
              "    </tr>\n",
              "  </tbody>\n",
              "</table>\n",
              "</div>"
            ],
            "text/plain": [
              "brand      ASUS  Apple  Google  HUAWEI  Motorola  Nokia  OnePlus  Samsung  \\\n",
              "sentiment                                                                   \n",
              "0            69   1627    1011     366      2220   1904       45     9499   \n",
              "1           137   3249    2152    1653      5494   2974      259    21521   \n",
              "\n",
              "brand      Sony  Xiaomi  \n",
              "sentiment                \n",
              "0           879     628  \n",
              "1          1812    3579  "
            ]
          },
          "metadata": {
            "tags": []
          },
          "execution_count": 81
        }
      ]
    },
    {
      "cell_type": "markdown",
      "metadata": {
        "id": "2Nzj7ZXVLakx"
      },
      "source": [
        "## 5. Text Preprocessing and Vectorization"
      ]
    },
    {
      "cell_type": "markdown",
      "metadata": {
        "id": "ZbC_RPndnlf3"
      },
      "source": [
        "We will analyze the 'body' and 'review_title' to gain more understanding.\n",
        "\n",
        "We will peform the below tasks\n",
        "\n",
        "- Convert the text into lowercase\n",
        "- Remove punctuation\n",
        "- Remove stopwords (English, from nltk corpus)\n",
        "- Remove other keywords like \"phone\" and brand name"
      ]
    },
    {
      "cell_type": "markdown",
      "metadata": {
        "id": "XnhMQsxz2DJH"
      },
      "source": [
        "### 5.1 Change the datatype of the 'body' column to 'str' and convert it into lowercase. Print any two samples and check the output."
      ]
    },
    {
      "cell_type": "code",
      "metadata": {
        "id": "1DbTf2yc2VOQ",
        "colab": {
          "base_uri": "https://localhost:8080/"
        },
        "outputId": "b4aeb0cd-a1ef-44c5-ddf7-6b05f47518f0"
      },
      "source": [
        "df_final['body'].head()"
      ],
      "execution_count": 82,
      "outputs": [
        {
          "output_type": "execute_result",
          "data": {
            "text/plain": [
              "14                             DON'T BUY OUT OF SERVICE\n",
              "17    1 star because the phones locked so I have to ...\n",
              "18    The product has been very good. I had used thi...\n",
              "21    I bought this phone to replace an LG phone tha...\n",
              "22    I purchased this phone for my AT&T phone repla...\n",
              "Name: body, dtype: object"
            ]
          },
          "metadata": {
            "tags": []
          },
          "execution_count": 82
        }
      ]
    },
    {
      "cell_type": "code",
      "metadata": {
        "colab": {
          "base_uri": "https://localhost:8080/",
          "height": 35
        },
        "id": "-Bs3PwIOFj3t",
        "outputId": "c4a91824-cff4-45ac-b65f-ae5826559aec"
      },
      "source": [
        "df_final.iloc[0,0]"
      ],
      "execution_count": 83,
      "outputs": [
        {
          "output_type": "execute_result",
          "data": {
            "application/vnd.google.colaboratory.intrinsic+json": {
              "type": "string"
            },
            "text/plain": [
              "'Motorola'"
            ]
          },
          "metadata": {
            "tags": []
          },
          "execution_count": 83
        }
      ]
    },
    {
      "cell_type": "code",
      "metadata": {
        "colab": {
          "base_uri": "https://localhost:8080/"
        },
        "id": "WQU1BgkCFzQC",
        "outputId": "4a7f4ff2-f770-4461-e0c2-1d219f438d9e"
      },
      "source": [
        "df_final['keywords'] = df_final['body'].str.lower()\n",
        "df_final['keywords'].head()"
      ],
      "execution_count": 84,
      "outputs": [
        {
          "output_type": "execute_result",
          "data": {
            "text/plain": [
              "14                             don't buy out of service\n",
              "17    1 star because the phones locked so i have to ...\n",
              "18    the product has been very good. i had used thi...\n",
              "21    i bought this phone to replace an lg phone tha...\n",
              "22    i purchased this phone for my at&t phone repla...\n",
              "Name: keywords, dtype: object"
            ]
          },
          "metadata": {
            "tags": []
          },
          "execution_count": 84
        }
      ]
    },
    {
      "cell_type": "code",
      "metadata": {
        "colab": {
          "base_uri": "https://localhost:8080/"
        },
        "id": "tHM24gaKKGxv",
        "outputId": "f5afa460-7d48-4afe-9608-3d967c1f6171"
      },
      "source": [
        "df_final.info()"
      ],
      "execution_count": 89,
      "outputs": [
        {
          "output_type": "stream",
          "text": [
            "<class 'pandas.core.frame.DataFrame'>\n",
            "Int64Index: 61225 entries, 14 to 67984\n",
            "Data columns (total 7 columns):\n",
            " #   Column       Non-Null Count  Dtype  \n",
            "---  ------       --------------  -----  \n",
            " 0   brand        61078 non-null  object \n",
            " 1   body         61207 non-null  object \n",
            " 2   price        61225 non-null  float64\n",
            " 3   userRating   61225 non-null  int64  \n",
            " 4   reviewTitle  61211 non-null  object \n",
            " 5   sentiment    61225 non-null  int64  \n",
            " 6   keywords     61207 non-null  object \n",
            "dtypes: float64(1), int64(2), object(4)\n",
            "memory usage: 6.2+ MB\n"
          ],
          "name": "stdout"
        }
      ]
    },
    {
      "cell_type": "markdown",
      "metadata": {
        "id": "lsppV0X52VXf"
      },
      "source": [
        "### 5.2 Remove punctuations from the lowercased 'body' column and display at least two samples."
      ]
    },
    {
      "cell_type": "code",
      "metadata": {
        "id": "lQXKc8et2onG"
      },
      "source": [
        "df_final['keywords'] = df_final['keywords'].str.replace('[^\\w\\s]', '')"
      ],
      "execution_count": 85,
      "outputs": []
    },
    {
      "cell_type": "markdown",
      "metadata": {
        "id": "8Zk7ja6A2owN"
      },
      "source": [
        "### 5.3 Remove stop words from the above pre-processed 'body' column and display at least two samples."
      ]
    },
    {
      "cell_type": "code",
      "metadata": {
        "id": "1d-DhX_e2yQ-",
        "colab": {
          "base_uri": "https://localhost:8080/"
        },
        "outputId": "dadbeb73-a4ae-4e52-94c4-26ba7c7df0fa"
      },
      "source": [
        "import nltk\n",
        "from nltk.corpus import stopwords\n",
        "nltk.download('stopwords')"
      ],
      "execution_count": 86,
      "outputs": [
        {
          "output_type": "stream",
          "text": [
            "[nltk_data] Downloading package stopwords to /root/nltk_data...\n",
            "[nltk_data]   Unzipping corpora/stopwords.zip.\n"
          ],
          "name": "stdout"
        },
        {
          "output_type": "execute_result",
          "data": {
            "text/plain": [
              "True"
            ]
          },
          "metadata": {
            "tags": []
          },
          "execution_count": 86
        }
      ]
    },
    {
      "cell_type": "code",
      "metadata": {
        "colab": {
          "base_uri": "https://localhost:8080/"
        },
        "id": "fHI9dk1kGuNS",
        "outputId": "50daeea8-9c61-404e-de68-541669bdfd89"
      },
      "source": [
        "stop_words = set(stopwords.words('english'))\n",
        "stop_words"
      ],
      "execution_count": 87,
      "outputs": [
        {
          "output_type": "execute_result",
          "data": {
            "text/plain": [
              "{'a',\n",
              " 'about',\n",
              " 'above',\n",
              " 'after',\n",
              " 'again',\n",
              " 'against',\n",
              " 'ain',\n",
              " 'all',\n",
              " 'am',\n",
              " 'an',\n",
              " 'and',\n",
              " 'any',\n",
              " 'are',\n",
              " 'aren',\n",
              " \"aren't\",\n",
              " 'as',\n",
              " 'at',\n",
              " 'be',\n",
              " 'because',\n",
              " 'been',\n",
              " 'before',\n",
              " 'being',\n",
              " 'below',\n",
              " 'between',\n",
              " 'both',\n",
              " 'but',\n",
              " 'by',\n",
              " 'can',\n",
              " 'couldn',\n",
              " \"couldn't\",\n",
              " 'd',\n",
              " 'did',\n",
              " 'didn',\n",
              " \"didn't\",\n",
              " 'do',\n",
              " 'does',\n",
              " 'doesn',\n",
              " \"doesn't\",\n",
              " 'doing',\n",
              " 'don',\n",
              " \"don't\",\n",
              " 'down',\n",
              " 'during',\n",
              " 'each',\n",
              " 'few',\n",
              " 'for',\n",
              " 'from',\n",
              " 'further',\n",
              " 'had',\n",
              " 'hadn',\n",
              " \"hadn't\",\n",
              " 'has',\n",
              " 'hasn',\n",
              " \"hasn't\",\n",
              " 'have',\n",
              " 'haven',\n",
              " \"haven't\",\n",
              " 'having',\n",
              " 'he',\n",
              " 'her',\n",
              " 'here',\n",
              " 'hers',\n",
              " 'herself',\n",
              " 'him',\n",
              " 'himself',\n",
              " 'his',\n",
              " 'how',\n",
              " 'i',\n",
              " 'if',\n",
              " 'in',\n",
              " 'into',\n",
              " 'is',\n",
              " 'isn',\n",
              " \"isn't\",\n",
              " 'it',\n",
              " \"it's\",\n",
              " 'its',\n",
              " 'itself',\n",
              " 'just',\n",
              " 'll',\n",
              " 'm',\n",
              " 'ma',\n",
              " 'me',\n",
              " 'mightn',\n",
              " \"mightn't\",\n",
              " 'more',\n",
              " 'most',\n",
              " 'mustn',\n",
              " \"mustn't\",\n",
              " 'my',\n",
              " 'myself',\n",
              " 'needn',\n",
              " \"needn't\",\n",
              " 'no',\n",
              " 'nor',\n",
              " 'not',\n",
              " 'now',\n",
              " 'o',\n",
              " 'of',\n",
              " 'off',\n",
              " 'on',\n",
              " 'once',\n",
              " 'only',\n",
              " 'or',\n",
              " 'other',\n",
              " 'our',\n",
              " 'ours',\n",
              " 'ourselves',\n",
              " 'out',\n",
              " 'over',\n",
              " 'own',\n",
              " 're',\n",
              " 's',\n",
              " 'same',\n",
              " 'shan',\n",
              " \"shan't\",\n",
              " 'she',\n",
              " \"she's\",\n",
              " 'should',\n",
              " \"should've\",\n",
              " 'shouldn',\n",
              " \"shouldn't\",\n",
              " 'so',\n",
              " 'some',\n",
              " 'such',\n",
              " 't',\n",
              " 'than',\n",
              " 'that',\n",
              " \"that'll\",\n",
              " 'the',\n",
              " 'their',\n",
              " 'theirs',\n",
              " 'them',\n",
              " 'themselves',\n",
              " 'then',\n",
              " 'there',\n",
              " 'these',\n",
              " 'they',\n",
              " 'this',\n",
              " 'those',\n",
              " 'through',\n",
              " 'to',\n",
              " 'too',\n",
              " 'under',\n",
              " 'until',\n",
              " 'up',\n",
              " 've',\n",
              " 'very',\n",
              " 'was',\n",
              " 'wasn',\n",
              " \"wasn't\",\n",
              " 'we',\n",
              " 'were',\n",
              " 'weren',\n",
              " \"weren't\",\n",
              " 'what',\n",
              " 'when',\n",
              " 'where',\n",
              " 'which',\n",
              " 'while',\n",
              " 'who',\n",
              " 'whom',\n",
              " 'why',\n",
              " 'will',\n",
              " 'with',\n",
              " 'won',\n",
              " \"won't\",\n",
              " 'wouldn',\n",
              " \"wouldn't\",\n",
              " 'y',\n",
              " 'you',\n",
              " \"you'd\",\n",
              " \"you'll\",\n",
              " \"you're\",\n",
              " \"you've\",\n",
              " 'your',\n",
              " 'yours',\n",
              " 'yourself',\n",
              " 'yourselves'}"
            ]
          },
          "metadata": {
            "tags": []
          },
          "execution_count": 87
        }
      ]
    },
    {
      "cell_type": "code",
      "metadata": {
        "colab": {
          "base_uri": "https://localhost:8080/"
        },
        "id": "01BV3FDvKcoh",
        "outputId": "25a87697-debd-4a6b-ba8e-aa3acb423ede"
      },
      "source": [
        "type(df_final['keywords'])"
      ],
      "execution_count": 91,
      "outputs": [
        {
          "output_type": "execute_result",
          "data": {
            "text/plain": [
              "pandas.core.series.Series"
            ]
          },
          "metadata": {
            "tags": []
          },
          "execution_count": 91
        }
      ]
    },
    {
      "cell_type": "code",
      "metadata": {
        "id": "S3pGKjVQG7xZ"
      },
      "source": [
        "df_final['keywords'] = df_final['keywords'].apply(lambda words: ' '.join(w for w in str(words).split() if w not in stop_words))"
      ],
      "execution_count": 93,
      "outputs": []
    },
    {
      "cell_type": "code",
      "metadata": {
        "colab": {
          "base_uri": "https://localhost:8080/",
          "height": 238
        },
        "id": "xvt2EPGpKsJF",
        "outputId": "b08038c7-c841-43d4-b34a-e766d2443c90"
      },
      "source": [
        "df_final.head()"
      ],
      "execution_count": 94,
      "outputs": [
        {
          "output_type": "execute_result",
          "data": {
            "text/html": [
              "<div>\n",
              "<style scoped>\n",
              "    .dataframe tbody tr th:only-of-type {\n",
              "        vertical-align: middle;\n",
              "    }\n",
              "\n",
              "    .dataframe tbody tr th {\n",
              "        vertical-align: top;\n",
              "    }\n",
              "\n",
              "    .dataframe thead th {\n",
              "        text-align: right;\n",
              "    }\n",
              "</style>\n",
              "<table border=\"1\" class=\"dataframe\">\n",
              "  <thead>\n",
              "    <tr style=\"text-align: right;\">\n",
              "      <th></th>\n",
              "      <th>brand</th>\n",
              "      <th>body</th>\n",
              "      <th>price</th>\n",
              "      <th>userRating</th>\n",
              "      <th>reviewTitle</th>\n",
              "      <th>sentiment</th>\n",
              "      <th>keywords</th>\n",
              "    </tr>\n",
              "  </thead>\n",
              "  <tbody>\n",
              "    <tr>\n",
              "      <th>14</th>\n",
              "      <td>Motorola</td>\n",
              "      <td>DON'T BUY OUT OF SERVICE</td>\n",
              "      <td>49.9500000</td>\n",
              "      <td>1</td>\n",
              "      <td>Stupid phone</td>\n",
              "      <td>0</td>\n",
              "      <td>dont buy service</td>\n",
              "    </tr>\n",
              "    <tr>\n",
              "      <th>17</th>\n",
              "      <td>Motorola</td>\n",
              "      <td>1 star because the phones locked so I have to ...</td>\n",
              "      <td>49.9500000</td>\n",
              "      <td>1</td>\n",
              "      <td>Phones locked</td>\n",
              "      <td>0</td>\n",
              "      <td>1 star phones locked pay additional fees unlock</td>\n",
              "    </tr>\n",
              "    <tr>\n",
              "      <th>18</th>\n",
              "      <td>Motorola</td>\n",
              "      <td>The product has been very good. I had used thi...</td>\n",
              "      <td>49.9500000</td>\n",
              "      <td>5</td>\n",
              "      <td>Excellent product</td>\n",
              "      <td>1</td>\n",
              "      <td>product good used cell phone one projects work...</td>\n",
              "    </tr>\n",
              "    <tr>\n",
              "      <th>21</th>\n",
              "      <td>Motorola</td>\n",
              "      <td>I bought this phone to replace an LG phone tha...</td>\n",
              "      <td>99.9900000</td>\n",
              "      <td>4</td>\n",
              "      <td>Nice, but</td>\n",
              "      <td>1</td>\n",
              "      <td>bought phone replace lg phone didnt like expec...</td>\n",
              "    </tr>\n",
              "    <tr>\n",
              "      <th>22</th>\n",
              "      <td>Motorola</td>\n",
              "      <td>I purchased this phone for my AT&amp;T phone repla...</td>\n",
              "      <td>99.9900000</td>\n",
              "      <td>1</td>\n",
              "      <td>It seems it doesn't work with the existing AT&amp;...</td>\n",
              "      <td>0</td>\n",
              "      <td>purchased phone att phone replacement even tho...</td>\n",
              "    </tr>\n",
              "  </tbody>\n",
              "</table>\n",
              "</div>"
            ],
            "text/plain": [
              "       brand                                               body      price  \\\n",
              "14  Motorola                           DON'T BUY OUT OF SERVICE 49.9500000   \n",
              "17  Motorola  1 star because the phones locked so I have to ... 49.9500000   \n",
              "18  Motorola  The product has been very good. I had used thi... 49.9500000   \n",
              "21  Motorola  I bought this phone to replace an LG phone tha... 99.9900000   \n",
              "22  Motorola  I purchased this phone for my AT&T phone repla... 99.9900000   \n",
              "\n",
              "    userRating                                        reviewTitle  sentiment  \\\n",
              "14           1                                       Stupid phone          0   \n",
              "17           1                                      Phones locked          0   \n",
              "18           5                                  Excellent product          1   \n",
              "21           4                                          Nice, but          1   \n",
              "22           1  It seems it doesn't work with the existing AT&...          0   \n",
              "\n",
              "                                             keywords  \n",
              "14                                   dont buy service  \n",
              "17    1 star phones locked pay additional fees unlock  \n",
              "18  product good used cell phone one projects work...  \n",
              "21  bought phone replace lg phone didnt like expec...  \n",
              "22  purchased phone att phone replacement even tho...  "
            ]
          },
          "metadata": {
            "tags": []
          },
          "execution_count": 94
        }
      ]
    },
    {
      "cell_type": "markdown",
      "metadata": {
        "id": "TQNvXay42yaQ"
      },
      "source": [
        "### 5.4 Apply lemmatisation on the above preprocessed text and display a few samples"
      ]
    },
    {
      "cell_type": "code",
      "metadata": {
        "id": "oQ1VfFaa3DET",
        "colab": {
          "base_uri": "https://localhost:8080/"
        },
        "outputId": "2f61a8cf-d6d2-4525-c90b-2ed6cd853c6a"
      },
      "source": [
        "import nltk\n",
        "nltk.download('wordnet')"
      ],
      "execution_count": 95,
      "outputs": [
        {
          "output_type": "stream",
          "text": [
            "[nltk_data] Downloading package wordnet to /root/nltk_data...\n",
            "[nltk_data]   Unzipping corpora/wordnet.zip.\n"
          ],
          "name": "stdout"
        },
        {
          "output_type": "execute_result",
          "data": {
            "text/plain": [
              "True"
            ]
          },
          "metadata": {
            "tags": []
          },
          "execution_count": 95
        }
      ]
    },
    {
      "cell_type": "code",
      "metadata": {
        "id": "GCACjd-mMHg3"
      },
      "source": [
        "w_tokenizer = nltk.WhitespaceTokenizer()\n",
        "lemmatizer = nltk.stem.WordNetLemmatizer()\n"
      ],
      "execution_count": 96,
      "outputs": []
    },
    {
      "cell_type": "code",
      "metadata": {
        "id": "O4A1I3SLSSSD"
      },
      "source": [
        "w = w_tokenizer.tokenize('purchased phone att phone replacement')"
      ],
      "execution_count": null,
      "outputs": []
    },
    {
      "cell_type": "code",
      "metadata": {
        "id": "6rYEtEUiPuP7"
      },
      "source": [
        "lemmatizer.lematize('purchases')"
      ],
      "execution_count": null,
      "outputs": []
    },
    {
      "cell_type": "code",
      "metadata": {
        "id": "InHC1_aNMVQm"
      },
      "source": [
        "def lemmatizer_text(text):\n",
        "  return[lemmatizer.lemmatize(w) for w in w_tokenizer.tokenize(text)]"
      ],
      "execution_count": null,
      "outputs": []
    },
    {
      "cell_type": "code",
      "metadata": {
        "id": "o79Q-GJrRUT_"
      },
      "source": [
        "from nklt.stem import WordNetLemmatizer\n",
        "\n",
        "lemmatizer = WordNetLemmatizer()\n"
      ],
      "execution_count": null,
      "outputs": []
    },
    {
      "cell_type": "code",
      "metadata": {
        "id": "fQzx0W8aV6Uw"
      },
      "source": [
        "def lematize_text(text):\n",
        "  return [lemmatizer.lemmatize(w) for w in w_tokenizer.tokenize(text)]"
      ],
      "execution_count": 101,
      "outputs": []
    },
    {
      "cell_type": "code",
      "metadata": {
        "colab": {
          "base_uri": "https://localhost:8080/"
        },
        "id": "-PtYzuuTWcY6",
        "outputId": "4e3afde8-5ba9-4e2c-ca06-31b2b67c39e0"
      },
      "source": [
        "df_final['lemm'] = df_final['keywords'].apply(lematize_text)\n",
        "df_final['lemm'].head()"
      ],
      "execution_count": 103,
      "outputs": [
        {
          "output_type": "execute_result",
          "data": {
            "text/plain": [
              "14                                 [dont, buy, service]\n",
              "17    [1, star, phone, locked, pay, additional, fee,...\n",
              "18    [product, good, used, cell, phone, one, projec...\n",
              "21    [bought, phone, replace, lg, phone, didnt, lik...\n",
              "22    [purchased, phone, att, phone, replacement, ev...\n",
              "Name: lemm, dtype: object"
            ]
          },
          "metadata": {
            "tags": []
          },
          "execution_count": 103
        }
      ]
    },
    {
      "cell_type": "markdown",
      "metadata": {
        "id": "OzweL_fA3DiN"
      },
      "source": [
        "### 5.5 Check most common and rare words in the processed text\n",
        "- We can also write a function to check word frequency of the text (Optional)"
      ]
    },
    {
      "cell_type": "code",
      "metadata": {
        "id": "MzIAyX3N6lz5",
        "colab": {
          "base_uri": "https://localhost:8080/"
        },
        "outputId": "e8b624f9-b880-450d-ffd5-61836830b340"
      },
      "source": [
        "from collections import Counter\n",
        "\n",
        "cnt = Counter()\n",
        "for text in df_final['keywords'].values:\n",
        "  for word in text.split():\n",
        "    cnt[word] += 1\n",
        "\n",
        "cnt.most_common(10)"
      ],
      "execution_count": 109,
      "outputs": [
        {
          "output_type": "execute_result",
          "data": {
            "text/plain": [
              "[('phone', 74458),\n",
              " ('great', 16986),\n",
              " ('good', 13415),\n",
              " ('battery', 11641),\n",
              " ('screen', 10377),\n",
              " ('like', 10360),\n",
              " ('one', 10035),\n",
              " ('new', 9498),\n",
              " ('use', 8755),\n",
              " ('get', 7566)]"
            ]
          },
          "metadata": {
            "tags": []
          },
          "execution_count": 109
        }
      ]
    },
    {
      "cell_type": "markdown",
      "metadata": {
        "id": "9UbdTGsv60t1"
      },
      "source": [
        "### 5.6 Initialize tf-idf vectorizer and transform the preprocessed body text"
      ]
    },
    {
      "cell_type": "code",
      "metadata": {
        "id": "uQdCO1FkVH_v"
      },
      "source": [
        "from sklearn.feature_extraction.text import TfidfVectorizer\n",
        "tfidf_vectorizer = TfidfVectorizer()"
      ],
      "execution_count": 97,
      "outputs": []
    },
    {
      "cell_type": "code",
      "metadata": {
        "id": "_Jfo6go_69yh"
      },
      "source": [
        "tfidf_vectorizer1 = TfidfVectorizer(ngram_range=(2,2))"
      ],
      "execution_count": 98,
      "outputs": []
    },
    {
      "cell_type": "code",
      "metadata": {
        "id": "hqPj0PyTVgQK"
      },
      "source": [
        "tfidf = tfidf_vectorizer.fit_transform(df_final['keywords'])"
      ],
      "execution_count": 99,
      "outputs": []
    },
    {
      "cell_type": "markdown",
      "metadata": {
        "id": "5dqPXETLKN0h"
      },
      "source": [
        "### 5.7 Segregate the data into dependent (sentiment) and independent (transformed body using tf-idf) features for building a classifier. "
      ]
    },
    {
      "cell_type": "code",
      "metadata": {
        "id": "mpOLAYn07W6F"
      },
      "source": [
        "y = df_final['sentiment']"
      ],
      "execution_count": 100,
      "outputs": []
    },
    {
      "cell_type": "markdown",
      "metadata": {
        "id": "4K03FO0q7XBP"
      },
      "source": [
        "### 5.9 Split the data into Train & Test Sets"
      ]
    },
    {
      "cell_type": "code",
      "metadata": {
        "id": "D548-7cE7dZa"
      },
      "source": [
        "from sklearn.model_selection import train_test_split\n",
        "\n",
        "X_train, X_test, y1_train, y1_test = train_test_split(tfidf, y, random_state = 50, stratify=y, test_size=0.3)"
      ],
      "execution_count": 105,
      "outputs": []
    },
    {
      "cell_type": "markdown",
      "metadata": {
        "id": "rhD1a-beKvE7"
      },
      "source": [
        "## 6. Model building"
      ]
    },
    {
      "cell_type": "markdown",
      "metadata": {
        "id": "UPFovmN03exD"
      },
      "source": [
        "### 6.1 Build a random forest classifier to predict the 'sentiment'\n",
        "### 6.2 Predict on test set\n",
        "### 6.3 Check accuracy and confusion matrix"
      ]
    },
    {
      "cell_type": "code",
      "metadata": {
        "id": "y0ytdD-_30P9",
        "colab": {
          "base_uri": "https://localhost:8080/"
        },
        "outputId": "48d4b5ef-494c-4ae9-ae22-18ea110f986d"
      },
      "source": [
        "from sklearn.ensemble import RandomForestClassifier\n",
        "\n",
        "rf_clf1 = RandomForestClassifier()\n",
        "rf_clf1.fit(X_train, y1_train)\n",
        "print(rf_clf1.score(X_train, y1_train))\n",
        "print(rf_clf1.score(X_test, y1_test))"
      ],
      "execution_count": 110,
      "outputs": [
        {
          "output_type": "stream",
          "text": [
            "0.9958699862332875\n",
            "0.8897539198606271\n"
          ],
          "name": "stdout"
        }
      ]
    },
    {
      "cell_type": "code",
      "metadata": {
        "id": "NJ6Ke4hl30Zk",
        "colab": {
          "base_uri": "https://localhost:8080/"
        },
        "outputId": "c9750ce4-4327-4883-b73b-e4e44222618b"
      },
      "source": [
        "from sklearn.metrics import confusion_matrix\n",
        "\n",
        "y1_pred = rf_clf1.predict(X_test)\n",
        "confusion_matrix(y1_test, y1_pred)"
      ],
      "execution_count": 111,
      "outputs": [
        {
          "output_type": "execute_result",
          "data": {
            "text/plain": [
              "array([[ 4064,  1422],\n",
              "       [  603, 12279]])"
            ]
          },
          "metadata": {
            "tags": []
          },
          "execution_count": 111
        }
      ]
    },
    {
      "cell_type": "code",
      "metadata": {
        "id": "bJEEmN3ZY5KJ"
      },
      "source": [
        ""
      ],
      "execution_count": 22,
      "outputs": []
    }
  ]
}